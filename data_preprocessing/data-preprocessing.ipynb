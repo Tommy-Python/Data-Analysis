{
 "cells": [
  {
   "cell_type": "markdown",
   "metadata": {},
   "source": [
    "## Analyzing borrowers’ risk of defaulting\n",
    "\n",
    "Your project is to prepare a report for a bank’s loan division. You’ll need to find out if a customer’s marital status and number of children has an impact on whether they will default on a loan. The bank already has some data on customers’ credit worthiness.\n",
    "\n",
    "Your report will be considered when building a **credit scoring** of a potential customer. A ** credit scoring ** is used to evaluate the ability of a potential borrower to repay their loan."
   ]
  },
  {
   "cell_type": "markdown",
   "metadata": {},
   "source": [
    "### Step 1. Open the data file and have a look at the general information. "
   ]
  },
  {
   "cell_type": "code",
   "execution_count": 1,
   "metadata": {},
   "outputs": [
    {
     "data": {
      "text/html": [
       "<div>\n",
       "<style scoped>\n",
       "    .dataframe tbody tr th:only-of-type {\n",
       "        vertical-align: middle;\n",
       "    }\n",
       "\n",
       "    .dataframe tbody tr th {\n",
       "        vertical-align: top;\n",
       "    }\n",
       "\n",
       "    .dataframe thead th {\n",
       "        text-align: right;\n",
       "    }\n",
       "</style>\n",
       "<table border=\"1\" class=\"dataframe\">\n",
       "  <thead>\n",
       "    <tr style=\"text-align: right;\">\n",
       "      <th></th>\n",
       "      <th>children</th>\n",
       "      <th>days_employed</th>\n",
       "      <th>dob_years</th>\n",
       "      <th>education</th>\n",
       "      <th>education_id</th>\n",
       "      <th>family_status</th>\n",
       "      <th>family_status_id</th>\n",
       "      <th>gender</th>\n",
       "      <th>income_type</th>\n",
       "      <th>debt</th>\n",
       "      <th>total_income</th>\n",
       "      <th>purpose</th>\n",
       "    </tr>\n",
       "  </thead>\n",
       "  <tbody>\n",
       "    <tr>\n",
       "      <td>0</td>\n",
       "      <td>1</td>\n",
       "      <td>-8437.673028</td>\n",
       "      <td>42</td>\n",
       "      <td>bachelor's degree</td>\n",
       "      <td>0</td>\n",
       "      <td>married</td>\n",
       "      <td>0</td>\n",
       "      <td>F</td>\n",
       "      <td>employee</td>\n",
       "      <td>0</td>\n",
       "      <td>40620.102</td>\n",
       "      <td>purchase of the house</td>\n",
       "    </tr>\n",
       "    <tr>\n",
       "      <td>1</td>\n",
       "      <td>1</td>\n",
       "      <td>-4024.803754</td>\n",
       "      <td>36</td>\n",
       "      <td>secondary education</td>\n",
       "      <td>1</td>\n",
       "      <td>married</td>\n",
       "      <td>0</td>\n",
       "      <td>F</td>\n",
       "      <td>employee</td>\n",
       "      <td>0</td>\n",
       "      <td>17932.802</td>\n",
       "      <td>car purchase</td>\n",
       "    </tr>\n",
       "    <tr>\n",
       "      <td>2</td>\n",
       "      <td>0</td>\n",
       "      <td>-5623.422610</td>\n",
       "      <td>33</td>\n",
       "      <td>Secondary Education</td>\n",
       "      <td>1</td>\n",
       "      <td>married</td>\n",
       "      <td>0</td>\n",
       "      <td>M</td>\n",
       "      <td>employee</td>\n",
       "      <td>0</td>\n",
       "      <td>23341.752</td>\n",
       "      <td>purchase of the house</td>\n",
       "    </tr>\n",
       "    <tr>\n",
       "      <td>3</td>\n",
       "      <td>3</td>\n",
       "      <td>-4124.747207</td>\n",
       "      <td>32</td>\n",
       "      <td>secondary education</td>\n",
       "      <td>1</td>\n",
       "      <td>married</td>\n",
       "      <td>0</td>\n",
       "      <td>M</td>\n",
       "      <td>employee</td>\n",
       "      <td>0</td>\n",
       "      <td>42820.568</td>\n",
       "      <td>supplementary education</td>\n",
       "    </tr>\n",
       "    <tr>\n",
       "      <td>4</td>\n",
       "      <td>0</td>\n",
       "      <td>340266.072047</td>\n",
       "      <td>53</td>\n",
       "      <td>secondary education</td>\n",
       "      <td>1</td>\n",
       "      <td>civil partnership</td>\n",
       "      <td>1</td>\n",
       "      <td>F</td>\n",
       "      <td>retiree</td>\n",
       "      <td>0</td>\n",
       "      <td>25378.572</td>\n",
       "      <td>to have a wedding</td>\n",
       "    </tr>\n",
       "  </tbody>\n",
       "</table>\n",
       "</div>"
      ],
      "text/plain": [
       "   children  days_employed  dob_years            education  education_id  \\\n",
       "0         1   -8437.673028         42    bachelor's degree             0   \n",
       "1         1   -4024.803754         36  secondary education             1   \n",
       "2         0   -5623.422610         33  Secondary Education             1   \n",
       "3         3   -4124.747207         32  secondary education             1   \n",
       "4         0  340266.072047         53  secondary education             1   \n",
       "\n",
       "       family_status  family_status_id gender income_type  debt  total_income  \\\n",
       "0            married                 0      F    employee     0     40620.102   \n",
       "1            married                 0      F    employee     0     17932.802   \n",
       "2            married                 0      M    employee     0     23341.752   \n",
       "3            married                 0      M    employee     0     42820.568   \n",
       "4  civil partnership                 1      F     retiree     0     25378.572   \n",
       "\n",
       "                   purpose  \n",
       "0    purchase of the house  \n",
       "1             car purchase  \n",
       "2    purchase of the house  \n",
       "3  supplementary education  \n",
       "4        to have a wedding  "
      ]
     },
     "execution_count": 1,
     "metadata": {},
     "output_type": "execute_result"
    }
   ],
   "source": [
    "import pandas as pd\n",
    "import numpy as np\n",
    "data = pd.read_csv(\"/datasets/credit_scoring_eng.csv\")\n",
    "data.head()\n",
    "\n",
    "    "
   ]
  },
  {
   "cell_type": "markdown",
   "metadata": {},
   "source": [
    "### Conclusion"
   ]
  },
  {
   "cell_type": "markdown",
   "metadata": {},
   "source": [
    "The column \"days_employed\" seems to represent technical errors.\n",
    "Index number 4 would have been working for over 900 years. Also, an integer type would be more appropriate than a float.\n",
    "The column represents a work start date, which is represented in a \"Unix Time Stamp\" ( Index 4 = 340266. 072047 = 01/04/1970 @ 10:31pm (UTC)) \n",
    "The column \"total_income\" shows 3 decimal places, strange representation of a currency.\n",
    "The column \"days_employd\" and \"total_income\" have NaN values.\n",
    "The column \"dob_years\" shows customers with the age 0 1 and 2 years, \"age\" would fit better for the columnname.\n",
    "The column \"children\" shows -1 and 20. I suspect 20 is a typing error, since the 0 is directly under the 2 on the number pad."
   ]
  },
  {
   "cell_type": "markdown",
   "metadata": {},
   "source": [
    "### Step 2. Data preprocessing"
   ]
  },
  {
   "cell_type": "markdown",
   "metadata": {},
   "source": [
    "### Processing missing values"
   ]
  },
  {
   "cell_type": "code",
   "execution_count": 2,
   "metadata": {
    "scrolled": true
   },
   "outputs": [
    {
     "name": "stdout",
     "output_type": "stream",
     "text": [
      "children             0.000000\n",
      "days_employed       10.099884\n",
      "dob_years            0.000000\n",
      "education            0.000000\n",
      "education_id         0.000000\n",
      "family_status        0.000000\n",
      "family_status_id     0.000000\n",
      "gender               0.000000\n",
      "income_type          0.000000\n",
      "debt                 0.000000\n",
      "total_income        10.099884\n",
      "purpose              0.000000\n",
      "dtype: float64\n"
     ]
    }
   ],
   "source": [
    "\n",
    "data = pd.read_csv(\"/datasets/credit_scoring_eng.csv\")\n",
    "days_employed_median = data['days_employed'].median()\n",
    "total_income_mean = data['total_income'].mean()\n",
    "print(data.isnull().sum() * 100 / len(data))# check how much values are NaN's in % \n",
    "data[\"days_employed\"] = data[\"days_employed\"].fillna(value=days_employed_median)\n",
    "data[\"total_income\"] = data[\"total_income\"].fillna(value=total_income_mean)\n",
    "# fill NaN from days_employed and total_income with median and mean\n"
   ]
  },
  {
   "cell_type": "markdown",
   "metadata": {},
   "source": [
    "### Conclusion"
   ]
  },
  {
   "cell_type": "markdown",
   "metadata": {},
   "source": [
    "The NaN values in the \"total_income\" and \"days_employed\" columns were padded with the mean for \"days_employed\" and the median for \"total_income\". The column \"days_employed\" has been left unchanged. The NaN values in \"total_income\" are random, a 0 can be excluded, because it makes no sense to ask for a loan without income."
   ]
  },
  {
   "cell_type": "markdown",
   "metadata": {},
   "source": [
    "### Data type replacement"
   ]
  },
  {
   "cell_type": "code",
   "execution_count": 3,
   "metadata": {
    "scrolled": false
   },
   "outputs": [],
   "source": [
    "import pandas as pd\n",
    "data = pd.read_csv(\"/datasets/credit_scoring_eng.csv\")\n",
    "days_employed_median = data['days_employed'].median()\n",
    "total_income_mean = data['total_income'].mean()\n",
    "data[\"days_employed\"] = data[\"days_employed\"].fillna(value=days_employed_median)\n",
    "data[\"total_income\"] = data[\"total_income\"].fillna(value=total_income_mean)\n",
    "# i need to use this again or get errors :/ \n",
    "data.days_employed = data.days_employed.astype(int)\n",
    "#change the days_employed to integer type\n",
    "data.rename(columns={'dob_years': 'age'}, inplace=True)\n",
    "# rename the dob_years column with an easier understanding \"age\"\n",
    "data.loc[data['children'] == 20] = 2\n",
    "data.drop(data[data.children == -1].index, inplace=True)\n",
    "# replace 20 children with 2 and drop -1 children\n",
    "data.drop(data[data.age < 4].index, inplace=True)\n",
    "# drop the ages 2 1 and 0 sum of them is 223, give them a value would impact the analysis\n"
   ]
  },
  {
   "cell_type": "markdown",
   "metadata": {},
   "source": [
    "### Conclusion"
   ]
  },
  {
   "cell_type": "markdown",
   "metadata": {},
   "source": [
    "First, I converted the float type to integer to match the task. After that I renamed the column “dob_years” to “age” for easier understanding. I have found 76 customers with 20 children and 47 with -1 children. The 20 turned to 2 and the deleted the -1 children. 223 clients had an age of 0, 1 or 2 years, this might affect the analysis, why I droped this data too. A single client has gender XNA."
   ]
  },
  {
   "cell_type": "markdown",
   "metadata": {},
   "source": [
    "### Processing duplicates"
   ]
  },
  {
   "cell_type": "code",
   "execution_count": 4,
   "metadata": {
    "scrolled": false
   },
   "outputs": [],
   "source": [
    "data['education'] = data['education'].str.lower()\n",
    "#correct the education with the .lower() function to group them up"
   ]
  },
  {
   "cell_type": "code",
   "execution_count": 5,
   "metadata": {},
   "outputs": [
    {
     "name": "stdout",
     "output_type": "stream",
     "text": [
      "estate       10733\n",
      "car           4267\n",
      "education     3979\n",
      "wedding       2323\n",
      "Name: purpose_stem, dtype: int64\n"
     ]
    },
    {
     "data": {
      "text/html": [
       "<div>\n",
       "<style scoped>\n",
       "    .dataframe tbody tr th:only-of-type {\n",
       "        vertical-align: middle;\n",
       "    }\n",
       "\n",
       "    .dataframe tbody tr th {\n",
       "        vertical-align: top;\n",
       "    }\n",
       "\n",
       "    .dataframe thead th {\n",
       "        text-align: right;\n",
       "    }\n",
       "</style>\n",
       "<table border=\"1\" class=\"dataframe\">\n",
       "  <thead>\n",
       "    <tr style=\"text-align: right;\">\n",
       "      <th></th>\n",
       "      <th>children</th>\n",
       "      <th>days_employed</th>\n",
       "      <th>age</th>\n",
       "      <th>education</th>\n",
       "      <th>education_id</th>\n",
       "      <th>family_status</th>\n",
       "      <th>family_status_id</th>\n",
       "      <th>gender</th>\n",
       "      <th>income_type</th>\n",
       "      <th>debt</th>\n",
       "      <th>total_income</th>\n",
       "      <th>purpose</th>\n",
       "      <th>purpose_stem</th>\n",
       "    </tr>\n",
       "  </thead>\n",
       "  <tbody>\n",
       "    <tr>\n",
       "      <td>0</td>\n",
       "      <td>1</td>\n",
       "      <td>-8437</td>\n",
       "      <td>42</td>\n",
       "      <td>bachelor's degree</td>\n",
       "      <td>0</td>\n",
       "      <td>married</td>\n",
       "      <td>0</td>\n",
       "      <td>F</td>\n",
       "      <td>employee</td>\n",
       "      <td>0</td>\n",
       "      <td>40620.102</td>\n",
       "      <td>purchase of the house</td>\n",
       "      <td>estate</td>\n",
       "    </tr>\n",
       "    <tr>\n",
       "      <td>1</td>\n",
       "      <td>1</td>\n",
       "      <td>-4024</td>\n",
       "      <td>36</td>\n",
       "      <td>secondary education</td>\n",
       "      <td>1</td>\n",
       "      <td>married</td>\n",
       "      <td>0</td>\n",
       "      <td>F</td>\n",
       "      <td>employee</td>\n",
       "      <td>0</td>\n",
       "      <td>17932.802</td>\n",
       "      <td>car purchase</td>\n",
       "      <td>car</td>\n",
       "    </tr>\n",
       "    <tr>\n",
       "      <td>2</td>\n",
       "      <td>0</td>\n",
       "      <td>-5623</td>\n",
       "      <td>33</td>\n",
       "      <td>secondary education</td>\n",
       "      <td>1</td>\n",
       "      <td>married</td>\n",
       "      <td>0</td>\n",
       "      <td>M</td>\n",
       "      <td>employee</td>\n",
       "      <td>0</td>\n",
       "      <td>23341.752</td>\n",
       "      <td>purchase of the house</td>\n",
       "      <td>estate</td>\n",
       "    </tr>\n",
       "    <tr>\n",
       "      <td>3</td>\n",
       "      <td>3</td>\n",
       "      <td>-4124</td>\n",
       "      <td>32</td>\n",
       "      <td>secondary education</td>\n",
       "      <td>1</td>\n",
       "      <td>married</td>\n",
       "      <td>0</td>\n",
       "      <td>M</td>\n",
       "      <td>employee</td>\n",
       "      <td>0</td>\n",
       "      <td>42820.568</td>\n",
       "      <td>supplementary education</td>\n",
       "      <td>education</td>\n",
       "    </tr>\n",
       "    <tr>\n",
       "      <td>4</td>\n",
       "      <td>0</td>\n",
       "      <td>340266</td>\n",
       "      <td>53</td>\n",
       "      <td>secondary education</td>\n",
       "      <td>1</td>\n",
       "      <td>civil partnership</td>\n",
       "      <td>1</td>\n",
       "      <td>F</td>\n",
       "      <td>retiree</td>\n",
       "      <td>0</td>\n",
       "      <td>25378.572</td>\n",
       "      <td>to have a wedding</td>\n",
       "      <td>wedding</td>\n",
       "    </tr>\n",
       "  </tbody>\n",
       "</table>\n",
       "</div>"
      ],
      "text/plain": [
       "   children  days_employed  age            education  education_id  \\\n",
       "0         1          -8437   42    bachelor's degree             0   \n",
       "1         1          -4024   36  secondary education             1   \n",
       "2         0          -5623   33  secondary education             1   \n",
       "3         3          -4124   32  secondary education             1   \n",
       "4         0         340266   53  secondary education             1   \n",
       "\n",
       "       family_status  family_status_id gender income_type  debt  total_income  \\\n",
       "0            married                 0      F    employee     0     40620.102   \n",
       "1            married                 0      F    employee     0     17932.802   \n",
       "2            married                 0      M    employee     0     23341.752   \n",
       "3            married                 0      M    employee     0     42820.568   \n",
       "4  civil partnership                 1      F     retiree     0     25378.572   \n",
       "\n",
       "                   purpose purpose_stem  \n",
       "0    purchase of the house       estate  \n",
       "1             car purchase          car  \n",
       "2    purchase of the house       estate  \n",
       "3  supplementary education    education  \n",
       "4        to have a wedding      wedding  "
      ]
     },
     "execution_count": 5,
     "metadata": {},
     "output_type": "execute_result"
    }
   ],
   "source": [
    "from nltk.stem import SnowballStemmer\n",
    "english_stemmer = SnowballStemmer('english')\n",
    "#create the stem\n",
    "def stem(data): # create function\n",
    "    for word in data['purpose'].split(\" \"):# for every word in the string in the column \"purpose\" splitet bei space\n",
    "        stemmed_word = english_stemmer.stem(word)# use the word stem\n",
    "        if stemmed_word == 'car': # if the condition: the string includes the word \"car\" group them \n",
    "            data['purpose_stem'] = 'car'\n",
    "            return data #return the row\n",
    "        elif stemmed_word == 'educ':\n",
    "            data['purpose_stem'] = 'education'\n",
    "            return data\n",
    "        elif stemmed_word == 'estat':\n",
    "            data['purpose_stem'] = 'estate'\n",
    "            return data\n",
    "        elif word == 'university': # there is onle 1 word and i grouped it with education\n",
    "            data['purpose_stem'] = 'education'\n",
    "            return data\n",
    "        elif stemmed_word == 'properti':\n",
    "            data['purpose_stem'] = 'estate'\n",
    "            return data\n",
    "        elif stemmed_word == 'wed':\n",
    "            data['purpose_stem'] = 'wedding'\n",
    "            return data\n",
    "        elif stemmed_word == 'hous':\n",
    "            data['purpose_stem'] = 'estate'\n",
    "            return data\n",
    "        \n",
    "data = data.apply(stem, axis=1) # fill data in the function and run it\n",
    "\n",
    "print(data[\"purpose_stem\"].value_counts())\n",
    "#clean \n",
    "\n",
    "#new column with purpose_stem for better overview and grouping different names with same mean.\n",
    "data.head(5)"
   ]
  },
  {
   "cell_type": "markdown",
   "metadata": {},
   "source": [
    "### Conclusion"
   ]
  },
  {
   "cell_type": "markdown",
   "metadata": {},
   "source": [
    "For a better overview I have adjusted the \"education\" with the lower case letters uniformly. I added the \"purpose\" column with the \"purpose_stem\" to better summarize them in a consistent way."
   ]
  },
  {
   "cell_type": "markdown",
   "metadata": {},
   "source": [
    "### Categorizing Data"
   ]
  },
  {
   "cell_type": "code",
   "execution_count": 6,
   "metadata": {},
   "outputs": [
    {
     "data": {
      "text/plain": [
       "very high income         13955\n",
       "medium to high income     4711\n",
       "medium income             2486\n",
       "low income                 150\n",
       "Name: income_level, dtype: int64"
      ]
     },
     "execution_count": 6,
     "metadata": {},
     "output_type": "execute_result"
    }
   ],
   "source": [
    "def getlevel(total_income): # create function to categorize the income level bye the mean\n",
    "        if total_income <= total_income_mean * 0.25: \n",
    "            return \"low income\"\n",
    "        elif total_income <= total_income_mean * 0.50:\n",
    "            return \"medium income\"\n",
    "        elif total_income <= total_income_mean * 0.75:\n",
    "            return \"medium to high income\"\n",
    "        else:\n",
    "            return \"very high income\"\n",
    "\n",
    "data['income_level'] = data['total_income'].apply(getlevel) # fill the data in the function and create a new column in data\n",
    "data['income_level'].value_counts()\n",
    "\n"
   ]
  },
  {
   "cell_type": "markdown",
   "metadata": {},
   "source": [
    "### Conclusion"
   ]
  },
  {
   "cell_type": "markdown",
   "metadata": {},
   "source": [
    "The income_level has a heavy head and a light tail. This could be an indication that the bank segments its customers and only cares for \"good\" customers.The currency and country is unknown, so I have to access the averages. Comparing it to google data would perhaps skew the analysis. "
   ]
  },
  {
   "cell_type": "markdown",
   "metadata": {},
   "source": [
    "### Step 3. Answer these questions"
   ]
  },
  {
   "cell_type": "markdown",
   "metadata": {},
   "source": [
    "- Is there a relation between having kids and repaying a loan on time?"
   ]
  },
  {
   "cell_type": "code",
   "execution_count": 7,
   "metadata": {},
   "outputs": [
    {
     "name": "stdout",
     "output_type": "stream",
     "text": [
      "          debt                 \n",
      "           sum  count      mean\n",
      "children                       \n",
      "0         1058  14080  0.075142\n",
      "1          441   4802  0.091837\n",
      "2          194   2042  0.095005\n",
      "3           27    328  0.082317\n",
      "4            4     41  0.097561\n",
      "5            0      9  0.000000\n",
      "The risk of default debt for customers with children and customers without children, compared with the average is:18.0%\n"
     ]
    }
   ],
   "source": [
    "\n",
    "\n",
    "print(data.groupby('children').agg({'debt':['sum', 'count', 'mean']}))\n",
    "pivoting_children = data.pivot_table(index=['children'], values='debt', aggfunc='mean')\n",
    "\n",
    "pivoting_children_with_children = pivoting_children[1:5].mean() # get the average for the customer with children\n",
    "\n",
    "pivoting_children_without_children = pivoting_children[0:1] # put the customer without children in a variable for calculating\n",
    "\n",
    "\n",
    "\n",
    "result1 = 1 - pivoting_children_without_children[\"debt\"] / pivoting_children_with_children[\"debt\"]\n",
    "\n",
    "\n",
    "\n",
    "print(\"The risk of default debt for customers with children and customers without children, compared with the average is:{: >.1%}\".format(result1[0]))\n",
    "\n"
   ]
  },
  {
   "cell_type": "markdown",
   "metadata": {},
   "source": [
    "### Conclusion"
   ]
  },
  {
   "cell_type": "markdown",
   "metadata": {},
   "source": [
    "I drop the values for 5 children because they are too small to evaluate and 0 would affect the result too much. Customers with children actually have an 18% higher risk than customers without children. Children may be a negative cash flow, which has an impact on the default of payments."
   ]
  },
  {
   "cell_type": "markdown",
   "metadata": {},
   "source": [
    "- Is there a relation between marital status and repaying a loan on time?"
   ]
  },
  {
   "cell_type": "code",
   "execution_count": 8,
   "metadata": {
    "scrolled": true
   },
   "outputs": [
    {
     "name": "stdout",
     "output_type": "stream",
     "text": [
      "                 debt                              Status\n",
      "                  sum  count      mean                   \n",
      "family_status_id                                         \n",
      "0                 923  12254  0.075322            married\n",
      "1                 383   4139  0.092534  civil_partnership\n",
      "2                  62    947  0.065470      widow_widower\n",
      "3                  84   1179  0.071247           divorced\n",
      "4                 272   2783  0.097736          unmarried\n",
      "The risk of default debt for familystatus married is 6.4% lower compare to the average.\n",
      "The risk of default debt for familystatus civil partnership is 15.0% higher compare to the average.\n",
      "The risk of default debt for familystatus widow/widower is 18.6% lower compare to the average.\n",
      "The risk of default debt for familystatus divorced is 11.5% lower compare to the average.\n",
      "The risk of default debt for familystatus unmarried is 21.5% higher compare to the average.\n"
     ]
    }
   ],
   "source": [
    "grouped_family_data = data.groupby('family_status_id').agg({'debt':['sum', 'count', 'mean']}) # group data by famaly id, because its not a string\n",
    "grouped_family_data.insert(3, \"Status\", [\"married\", \"civil_partnership\", \"widow_widower\", \"divorced\", \"unmarried\"], True) #add a column for better overview\n",
    "pivoting_family = data.pivot_table(index=['family_status_id'], values='debt', aggfunc='mean')\n",
    "family_mean = pivoting_family.mean() # get the family status mean\n",
    "\n",
    "\n",
    "married_dif = 1 - pivoting_family.loc[0] / family_mean # calculate for married status the ratio \n",
    "civil_partnership_dif = (1 - pivoting_family.loc[1]  / family_mean) * -1 # calculate for civil partnerships ratio and change negative to positive number\n",
    "widow_widower_dif = 1 - pivoting_family.loc[2] / family_mean # for better overview\n",
    "divorced_dif = 1 - pivoting_family.loc[3] / family_mean  \n",
    "unmarried_dif = (1 - pivoting_family.loc[4]  / family_mean) * -1\n",
    "\n",
    "\n",
    "\n",
    "print(grouped_family_data)\n",
    "\n",
    "print(\"The risk of default debt for familystatus married is {: >.1%} lower compare to the average.\".format(married_dif[0]))\n",
    "print(\"The risk of default debt for familystatus civil partnership is {: >.1%} higher compare to the average.\".format(civil_partnership_dif[0]))\n",
    "print(\"The risk of default debt for familystatus widow/widower is {: >.1%} lower compare to the average.\".format(widow_widower_dif[0]))\n",
    "print(\"The risk of default debt for familystatus divorced is {: >.1%} lower compare to the average.\".format(divorced_dif[0]))\n",
    "print(\"The risk of default debt for familystatus unmarried is {: >.1%} higher compare to the average.\".format(unmarried_dif[0]))"
   ]
  },
  {
   "cell_type": "markdown",
   "metadata": {},
   "source": [
    "### Conclusion"
   ]
  },
  {
   "cell_type": "markdown",
   "metadata": {},
   "source": [
    "There is a relation between the debt ratio and the marital status and repaying the loan on time. \n",
    "Divorced, married and widows/widowers seem to be less default than unmarried and in a partnership. I suspect that married people may be both responsible for repaying the loan or at least make an effort. This allows a spouse to support the partner financially. In the case of divorced people, the financial situation also seems to have been clarified in good time, and in some cases they are even regulated by law. In the case of widows/widowers, external help may be possible through a widow’s pension, which influences credit agreements. Unmarried people usually do not have a partner to support them, which is why the risk of failure is greatly increased. Even in partnerships, financial relationships seem to be unclear, which is why it can lead to failures due to the lack of structure and law."
   ]
  },
  {
   "cell_type": "markdown",
   "metadata": {},
   "source": [
    "- Is there a relation between income level and repaying a loan on time?"
   ]
  },
  {
   "cell_type": "code",
   "execution_count": 9,
   "metadata": {},
   "outputs": [
    {
     "name": "stdout",
     "output_type": "stream",
     "text": [
      "                       debt                 \n",
      "                        sum  count      mean\n",
      "income_level                                \n",
      "low income               11    150  0.073333\n",
      "medium income           194   2486  0.078037\n",
      "medium to high income   401   4711  0.085120\n",
      "very high income       1118  13955  0.080115\n",
      "The risk of default debt for the income level low is 7.4% lower compare to the average.\n",
      "The risk of default debt for the income level low is 1.4% lower compare to the average.\n",
      "The risk of default debt for the income level low is 7.5% higher compare to the average.\n",
      "The risk of default debt for the income level low is 1.2% higher compare to the average.\n"
     ]
    }
   ],
   "source": [
    "print(data.groupby('income_level').agg({'debt':['sum', 'count', 'mean']}))\n",
    "pivoting_income_level = data.pivot_table(index=['income_level'], values='debt', aggfunc='mean')\n",
    "income_mean = pivoting_income_level.mean() # get the average\n",
    "\n",
    "low_income = 1 - pivoting_income_level.loc[\"low income\"] / income_mean # compare the average\n",
    "medium_income = 1 - pivoting_income_level.loc[\"medium income\"] / income_mean  # compare the average\n",
    "medium_to_high_income = (1 - pivoting_income_level.loc[\"medium to high income\"] / income_mean ) *-1 # compare the average change to positive\n",
    "very_high_income = (1 - pivoting_income_level.loc[\"very high income\"] / income_mean ) * -1 # compare the average change to positive\n",
    "\n",
    "\n",
    "print(\"The risk of default debt for the income level low is {: >.1%} lower compare to the average.\".format(low_income[\"debt\"])) \n",
    "print(\"The risk of default debt for the income level low is {: >.1%} lower compare to the average.\".format(medium_income[\"debt\"]))\n",
    "print(\"The risk of default debt for the income level low is {: >.1%} higher compare to the average.\".format(medium_to_high_income[\"debt\"]))\n",
    "print(\"The risk of default debt for the income level low is {: >.1%} higher compare to the average.\".format(very_high_income[\"debt\"]))\n"
   ]
  },
  {
   "cell_type": "markdown",
   "metadata": {},
   "source": [
    "### Conclusion"
   ]
  },
  {
   "cell_type": "markdown",
   "metadata": {},
   "source": [
    "It seems to have a minimal impact on how high the income_level is. Compared to the average, the group with the lowest income performs best. Unfortunately, the data are very small to provide a reliable conclusion. I would assume that income_level has little impact on credit scores and other factors are more crucial."
   ]
  },
  {
   "cell_type": "markdown",
   "metadata": {},
   "source": [
    "- How do different loan purposes affect on-time repayment of the loan?"
   ]
  },
  {
   "cell_type": "code",
   "execution_count": 10,
   "metadata": {
    "scrolled": false
   },
   "outputs": [
    {
     "name": "stdout",
     "output_type": "stream",
     "text": [
      "             debt                 \n",
      "              sum  count      mean\n",
      "purpose_stem                      \n",
      "car           397   4267  0.093040\n",
      "education     369   3979  0.092737\n",
      "estate        777  10733  0.072394\n",
      "wedding       181   2323  0.077916\n",
      "The risk of default debt for purpose stem \"car\" is 10.7% higher compare to the average.\n",
      "The risk of default debt for purpose stem \"education\" is 10.4% higher compare to the average.\n",
      "The risk of default debt for purpose stem \"estate\" is 13.8% lower compare to the average.\n",
      "The risk of default debt for purpose stem \"wedding\" is 7.3% lower compare to the average.\n"
     ]
    }
   ],
   "source": [
    "grouped_purpose_data = data.groupby('purpose_stem').agg({'debt':['sum', 'count', 'mean']})\n",
    "\n",
    "pivoting_purpose_stem = data.pivot_table(index=['purpose_stem'], values='debt', aggfunc='mean')\n",
    "purpose_stem_mean = pivoting_purpose_stem.mean()\n",
    "\n",
    "car_stem = (1 - pivoting_purpose_stem.loc[\"car\"] / purpose_stem_mean) * -1\n",
    "education_stem = (1 - pivoting_purpose_stem.loc[\"education\"]  / purpose_stem_mean) * -1\n",
    "estate_stem = 1 - pivoting_purpose_stem.loc[\"estate\"] / purpose_stem_mean \n",
    "#house_stem = 1 - pivoting_purpose_stem.loc[\"house\"] / purpose_stem_mean  \n",
    "#property_stem = 1 - pivoting_purpose_stem.loc[\"property\"]  / purpose_stem_mean\n",
    "wedding_stem = 1 - pivoting_purpose_stem.loc[\"wedding\"]  / purpose_stem_mean\n",
    "\n",
    "print(grouped_purpose_data)\n",
    "print('The risk of default debt for purpose stem \"car\" is {: >.1%} higher compare to the average.'.format(car_stem[0]))\n",
    "print('The risk of default debt for purpose stem \"education\" is {: >.1%} higher compare to the average.'.format(education_stem[0]))\n",
    "print('The risk of default debt for purpose stem \"estate\" is {: >.1%} lower compare to the average.'.format(estate_stem[0]))\n",
    "#print('The risk of default debt for purpose stem \"house\" is {: >.1%} lower compare to the average.'.format(house_stem[0]))\n",
    "#print('The risk of default debt for purpose stem \"property\" is {: >.1%} lower compare to the average.'.format(property_stem[0]))\n",
    "print('The risk of default debt for purpose stem \"wedding\" is {: >.1%} lower compare to the average.'.format(wedding_stem[0]))"
   ]
  },
  {
   "cell_type": "markdown",
   "metadata": {},
   "source": [
    "### Conclusion"
   ]
  },
  {
   "cell_type": "markdown",
   "metadata": {},
   "source": [
    "It looks like specifying \"car and \"education\" bring a slightly higher risk. Perhaps the transition between an education and paying back the loan is a bit of a hurdle. Nevertheless, the differences between the purposes are very small. Purpose selection does not appear to be an appropriate criterion for determining creditworthiness."
   ]
  },
  {
   "cell_type": "markdown",
   "metadata": {},
   "source": [
    "### Step 4. General conclusion"
   ]
  },
  {
   "cell_type": "markdown",
   "metadata": {},
   "source": [
    "I cannot see any reliable correlation between the given criteria. Possibly the amount of data is too small or other criteria have a much greater impact on a customer’s creditworthiness. The heavy head of the “income_level” suggests a segmentation of customers, since income does not fit into a normal distribution (Gaussian curve). The fluctuations in all tasks are very small and could be randomly."
   ]
  },
  {
   "cell_type": "code",
   "execution_count": null,
   "metadata": {},
   "outputs": [],
   "source": []
  }
 ],
 "metadata": {
  "kernelspec": {
   "display_name": "Python 3",
   "language": "python",
   "name": "python3"
  },
  "language_info": {
   "codemirror_mode": {
    "name": "ipython",
    "version": 3
   },
   "file_extension": ".py",
   "mimetype": "text/x-python",
   "name": "python",
   "nbconvert_exporter": "python",
   "pygments_lexer": "ipython3",
   "version": "3.8.8"
  },
  "toc": {
   "base_numbering": 1,
   "nav_menu": {},
   "number_sections": true,
   "sideBar": true,
   "skip_h1_title": false,
   "title_cell": "Table of Contents",
   "title_sidebar": "Contents",
   "toc_cell": false,
   "toc_position": {},
   "toc_section_display": true,
   "toc_window_display": false
  }
 },
 "nbformat": 4,
 "nbformat_minor": 2
}
