{
 "cells": [
  {
   "cell_type": "markdown",
   "metadata": {
    "toc": true
   },
   "source": [
    "<h1>Table of Contents<span class=\"tocSkip\"></span></h1>\n",
    "<div class=\"toc\"><ul class=\"toc-item\"><li><span><a href=\"#Project-Description\" data-toc-modified-id=\"Project-Description-1\"><span class=\"toc-item-num\">1&nbsp;&nbsp;</span>Project Description</a></span></li><li><span><a href=\"#Goal\" data-toc-modified-id=\"Goal-2\"><span class=\"toc-item-num\">2&nbsp;&nbsp;</span>Goal</a></span></li><li><span><a href=\"#1-Download-the-Data\" data-toc-modified-id=\"1-Download-the-Data-3\"><span class=\"toc-item-num\">3&nbsp;&nbsp;</span>1 Download the Data</a></span></li><li><span><a href=\"#Step-1.-Conclusion\" data-toc-modified-id=\"Step-1.-Conclusion-4\"><span class=\"toc-item-num\">4&nbsp;&nbsp;</span>Step 1. Conclusion</a></span></li><li><span><a href=\"#2.-Carry-out-exploratory-data-analysis-(EDA)\" data-toc-modified-id=\"2.-Carry-out-exploratory-data-analysis-(EDA)-5\"><span class=\"toc-item-num\">5&nbsp;&nbsp;</span>2. Carry out exploratory data analysis (EDA)</a></span></li><li><span><a href=\"#2.1-Look-at-the-dataset:-does-it-contain-any-missing-features?-Study-the-mean-values-and-standard-deviation-(use-the-describe()-method).\" data-toc-modified-id=\"2.1-Look-at-the-dataset:-does-it-contain-any-missing-features?-Study-the-mean-values-and-standard-deviation-(use-the-describe()-method).-6\"><span class=\"toc-item-num\">6&nbsp;&nbsp;</span>2.1 Look at the dataset: does it contain any missing features? Study the mean values and standard deviation (use the describe() method).</a></span></li><li><span><a href=\"#2.1-Conclusion\" data-toc-modified-id=\"2.1-Conclusion-7\"><span class=\"toc-item-num\">7&nbsp;&nbsp;</span>2.1 Conclusion</a></span></li><li><span><a href=\"#2.2-Look-at-the-mean-feature-values-in-two-groups:-for-those-who-left-(churn)-and-for-those-who-stayed-(use-the-groupby()-method).\" data-toc-modified-id=\"2.2-Look-at-the-mean-feature-values-in-two-groups:-for-those-who-left-(churn)-and-for-those-who-stayed-(use-the-groupby()-method).-8\"><span class=\"toc-item-num\">8&nbsp;&nbsp;</span>2.2 Look at the mean feature values in two groups: for those who left (churn) and for those who stayed (use the groupby() method).</a></span></li><li><span><a href=\"#2.2-Conclusion\" data-toc-modified-id=\"2.2-Conclusion-9\"><span class=\"toc-item-num\">9&nbsp;&nbsp;</span>2.2 Conclusion</a></span></li><li><span><a href=\"#2.3-Plot-bar-histograms-and-feature-distributions-for-those-who-left-(churn)-and-those-who-stayed.\" data-toc-modified-id=\"2.3-Plot-bar-histograms-and-feature-distributions-for-those-who-left-(churn)-and-those-who-stayed.-10\"><span class=\"toc-item-num\">10&nbsp;&nbsp;</span>2.3 Plot bar histograms and feature distributions for those who left (churn) and those who stayed.</a></span></li><li><span><a href=\"#2.3-Conclusion\" data-toc-modified-id=\"2.3-Conclusion-11\"><span class=\"toc-item-num\">11&nbsp;&nbsp;</span>2.3 Conclusion</a></span></li><li><span><a href=\"#2.4-Build-a-correlation-matrix-and-display-it.\" data-toc-modified-id=\"2.4-Build-a-correlation-matrix-and-display-it.-12\"><span class=\"toc-item-num\">12&nbsp;&nbsp;</span>2.4 Build a correlation matrix and display it.</a></span></li><li><span><a href=\"#2.4-Conclusion\" data-toc-modified-id=\"2.4-Conclusion-13\"><span class=\"toc-item-num\">13&nbsp;&nbsp;</span>2.4 Conclusion</a></span></li><li><span><a href=\"#3.-Build-a-model-to-predict-user-churn\" data-toc-modified-id=\"3.-Build-a-model-to-predict-user-churn-14\"><span class=\"toc-item-num\">14&nbsp;&nbsp;</span>3. Build a model to predict user churn</a></span></li><li><span><a href=\"#3.1-Divide-the-data-into-train-and-validation-sets-using-the-train_test_split()-function.\" data-toc-modified-id=\"3.1-Divide-the-data-into-train-and-validation-sets-using-the-train_test_split()-function.-15\"><span class=\"toc-item-num\">15&nbsp;&nbsp;</span>3.1 Divide the data into train and validation sets using the train_test_split() function.</a></span></li><li><span><a href=\"#3.2-Train-the-model-on-the-train-set-with-two-methods:\" data-toc-modified-id=\"3.2-Train-the-model-on-the-train-set-with-two-methods:-16\"><span class=\"toc-item-num\">16&nbsp;&nbsp;</span>3.2 Train the model on the train set with two methods:</a></span></li><li><span><a href=\"#Conclusion-3\" data-toc-modified-id=\"Conclusion-3-17\"><span class=\"toc-item-num\">17&nbsp;&nbsp;</span>Conclusion 3</a></span></li><li><span><a href=\"#4.-Create-user-clusters\" data-toc-modified-id=\"4.-Create-user-clusters-18\"><span class=\"toc-item-num\">18&nbsp;&nbsp;</span>4. Create user clusters</a></span></li><li><span><a href=\"#4.-Conclusion\" data-toc-modified-id=\"4.-Conclusion-19\"><span class=\"toc-item-num\">19&nbsp;&nbsp;</span>4. Conclusion</a></span></li><li><span><a href=\"#5.-Come-up-with-conclusions-and-basic-recommendations-on-working-with-customers\" data-toc-modified-id=\"5.-Come-up-with-conclusions-and-basic-recommendations-on-working-with-customers-20\"><span class=\"toc-item-num\">20&nbsp;&nbsp;</span>5. Come up with conclusions and basic recommendations on working with customers</a></span></li><li><span><a href=\"#5.1-Recommendations\" data-toc-modified-id=\"5.1-Recommendations-21\"><span class=\"toc-item-num\">21&nbsp;&nbsp;</span>5.1 Recommendations</a></span></li></ul></div>"
   ]
  },
  {
   "cell_type": "markdown",
   "metadata": {},
   "source": [
    "##  Project Description"
   ]
  },
  {
   "cell_type": "markdown",
   "metadata": {},
   "source": [
    "The gym chain Model Fitness is developing a customer interaction strategy based on analytical data.\n",
    "One of the most common problems gyms and other services face is customer churn. How do you know if a customer is no longer with you? You can calculate churn based on people who get rid of their accounts or don't renew their contracts. However, sometimes it's not obvious that a client has left: they may walk out on tiptoes.\n",
    "Churn indicators vary from field to field. If a user buys from an online store rarely but regularly, you can't say they're a runaway. But if for two weeks they haven't opened a channel that's updated daily, that's a reason to worry: your follower might have gotten bored and left you.\n",
    "For a gym, it makes sense to say a customer has left if they don't come for a month. Of course, it's possible they're in Cancun and will resume their visits when they return, but's that's not a typical case. Usually, if a customer joins, comes a few times, then disappears, they're unlikely to come back.\n",
    "In order to fight churn, Model Fitness has digitized a number of its customer profiles. Your task is to analyze them and come up with a customer retention strategy."
   ]
  },
  {
   "cell_type": "markdown",
   "metadata": {},
   "source": [
    "## Goal"
   ]
  },
  {
   "cell_type": "markdown",
   "metadata": {},
   "source": [
    "Learn to predict the probability of churn (for the upcoming month) for each customer\n",
    "Draw up typical user portraits: select the most outstanding groups and describe their main features\n",
    "Analyze the factors that impact churn most\n",
    "Draw basic conclusions and develop recommendations on how to improve customer service:\n",
    "Identify target groups\n",
    "Suggest measures to cut churn\n",
    "Describe any other patterns you see with respect to interaction with customers"
   ]
  },
  {
   "cell_type": "markdown",
   "metadata": {},
   "source": [
    "## 1 Download the Data"
   ]
  },
  {
   "cell_type": "code",
   "execution_count": 1,
   "metadata": {},
   "outputs": [
    {
     "name": "stdout",
     "output_type": "stream",
     "text": [
      "Defaulting to user installation because normal site-packages is not writeable\n",
      "Requirement already satisfied: downcast in /home/jovyan/.local/lib/python3.7/site-packages (0.0.8)\n",
      "Defaulting to user installation because normal site-packages is not writeable\n",
      "Requirement already up-to-date: seaborn in /home/jovyan/.local/lib/python3.7/site-packages (0.11.1)\n",
      "Requirement already satisfied, skipping upgrade: scipy>=1.0 in /opt/conda/lib/python3.7/site-packages (from seaborn) (1.4.1)\n",
      "Requirement already satisfied, skipping upgrade: pandas>=0.23 in /opt/conda/lib/python3.7/site-packages (from seaborn) (0.25.1)\n",
      "Requirement already satisfied, skipping upgrade: matplotlib>=2.2 in /opt/conda/lib/python3.7/site-packages (from seaborn) (3.1.0)\n",
      "Requirement already satisfied, skipping upgrade: numpy>=1.15 in /opt/conda/lib/python3.7/site-packages (from seaborn) (1.19.5)\n",
      "Requirement already satisfied, skipping upgrade: python-dateutil>=2.6.1 in /opt/conda/lib/python3.7/site-packages (from pandas>=0.23->seaborn) (2.8.1)\n",
      "Requirement already satisfied, skipping upgrade: pytz>=2017.2 in /opt/conda/lib/python3.7/site-packages (from pandas>=0.23->seaborn) (2021.1)\n",
      "Requirement already satisfied, skipping upgrade: kiwisolver>=1.0.1 in /opt/conda/lib/python3.7/site-packages (from matplotlib>=2.2->seaborn) (1.3.1)\n",
      "Requirement already satisfied, skipping upgrade: cycler>=0.10 in /opt/conda/lib/python3.7/site-packages (from matplotlib>=2.2->seaborn) (0.10.0)\n",
      "Requirement already satisfied, skipping upgrade: pyparsing!=2.0.4,!=2.1.2,!=2.1.6,>=2.0.1 in /opt/conda/lib/python3.7/site-packages (from matplotlib>=2.2->seaborn) (2.4.7)\n",
      "Requirement already satisfied, skipping upgrade: six>=1.5 in /opt/conda/lib/python3.7/site-packages (from python-dateutil>=2.6.1->pandas>=0.23->seaborn) (1.15.0)\n"
     ]
    }
   ],
   "source": [
    "!pip install downcast\n",
    "!pip install -U seaborn \n",
    "import pandas as pd\n",
    "import numpy as np\n",
    "from scipy import stats as st\n",
    "import matplotlib.pyplot as plt \n",
    "from functools import reduce\n",
    "import math\n",
    "import warnings\n",
    "import seaborn as sns\n",
    "import datetime as dt\n",
    "\n",
    "from downcast import reduce\n",
    "from sklearn.preprocessing import StandardScaler\n",
    "from sklearn.model_selection import train_test_split\n",
    "from sklearn.linear_model import Lasso, Ridge\n",
    "from sklearn.tree import DecisionTreeRegressor\n",
    "from sklearn.ensemble import RandomForestRegressor, GradientBoostingRegressor\n",
    "import matplotlib.pyplot as plt\n",
    "from sklearn.metrics import mean_absolute_error, mean_squared_error, r2_score\n",
    "warnings.filterwarnings(\"ignore\")\n",
    "pd.set_option('max_colwidth', 400)"
   ]
  },
  {
   "cell_type": "code",
   "execution_count": 2,
   "metadata": {},
   "outputs": [],
   "source": [
    "data = pd.read_csv(\"/datasets/gym_churn_us.csv\", sep=',' )"
   ]
  },
  {
   "cell_type": "code",
   "execution_count": 3,
   "metadata": {},
   "outputs": [
    {
     "data": {
      "text/html": [
       "<div>\n",
       "<style scoped>\n",
       "    .dataframe tbody tr th:only-of-type {\n",
       "        vertical-align: middle;\n",
       "    }\n",
       "\n",
       "    .dataframe tbody tr th {\n",
       "        vertical-align: top;\n",
       "    }\n",
       "\n",
       "    .dataframe thead th {\n",
       "        text-align: right;\n",
       "    }\n",
       "</style>\n",
       "<table border=\"1\" class=\"dataframe\">\n",
       "  <thead>\n",
       "    <tr style=\"text-align: right;\">\n",
       "      <th></th>\n",
       "      <th>gender</th>\n",
       "      <th>Near_Location</th>\n",
       "      <th>Partner</th>\n",
       "      <th>Promo_friends</th>\n",
       "      <th>Phone</th>\n",
       "      <th>Contract_period</th>\n",
       "      <th>Group_visits</th>\n",
       "      <th>Age</th>\n",
       "      <th>Avg_additional_charges_total</th>\n",
       "      <th>Month_to_end_contract</th>\n",
       "      <th>Lifetime</th>\n",
       "      <th>Avg_class_frequency_total</th>\n",
       "      <th>Avg_class_frequency_current_month</th>\n",
       "      <th>Churn</th>\n",
       "    </tr>\n",
       "  </thead>\n",
       "  <tbody>\n",
       "    <tr>\n",
       "      <td>0</td>\n",
       "      <td>1</td>\n",
       "      <td>1</td>\n",
       "      <td>1</td>\n",
       "      <td>1</td>\n",
       "      <td>0</td>\n",
       "      <td>6</td>\n",
       "      <td>1</td>\n",
       "      <td>29</td>\n",
       "      <td>14.227470</td>\n",
       "      <td>5.0</td>\n",
       "      <td>3</td>\n",
       "      <td>0.020398</td>\n",
       "      <td>0.000000</td>\n",
       "      <td>0</td>\n",
       "    </tr>\n",
       "    <tr>\n",
       "      <td>1</td>\n",
       "      <td>0</td>\n",
       "      <td>1</td>\n",
       "      <td>0</td>\n",
       "      <td>0</td>\n",
       "      <td>1</td>\n",
       "      <td>12</td>\n",
       "      <td>1</td>\n",
       "      <td>31</td>\n",
       "      <td>113.202938</td>\n",
       "      <td>12.0</td>\n",
       "      <td>7</td>\n",
       "      <td>1.922936</td>\n",
       "      <td>1.910244</td>\n",
       "      <td>0</td>\n",
       "    </tr>\n",
       "    <tr>\n",
       "      <td>2</td>\n",
       "      <td>0</td>\n",
       "      <td>1</td>\n",
       "      <td>1</td>\n",
       "      <td>0</td>\n",
       "      <td>1</td>\n",
       "      <td>1</td>\n",
       "      <td>0</td>\n",
       "      <td>28</td>\n",
       "      <td>129.448479</td>\n",
       "      <td>1.0</td>\n",
       "      <td>2</td>\n",
       "      <td>1.859098</td>\n",
       "      <td>1.736502</td>\n",
       "      <td>0</td>\n",
       "    </tr>\n",
       "    <tr>\n",
       "      <td>3</td>\n",
       "      <td>0</td>\n",
       "      <td>1</td>\n",
       "      <td>1</td>\n",
       "      <td>1</td>\n",
       "      <td>1</td>\n",
       "      <td>12</td>\n",
       "      <td>1</td>\n",
       "      <td>33</td>\n",
       "      <td>62.669863</td>\n",
       "      <td>12.0</td>\n",
       "      <td>2</td>\n",
       "      <td>3.205633</td>\n",
       "      <td>3.357215</td>\n",
       "      <td>0</td>\n",
       "    </tr>\n",
       "    <tr>\n",
       "      <td>4</td>\n",
       "      <td>1</td>\n",
       "      <td>1</td>\n",
       "      <td>1</td>\n",
       "      <td>1</td>\n",
       "      <td>1</td>\n",
       "      <td>1</td>\n",
       "      <td>0</td>\n",
       "      <td>26</td>\n",
       "      <td>198.362265</td>\n",
       "      <td>1.0</td>\n",
       "      <td>3</td>\n",
       "      <td>1.113884</td>\n",
       "      <td>1.120078</td>\n",
       "      <td>0</td>\n",
       "    </tr>\n",
       "  </tbody>\n",
       "</table>\n",
       "</div>"
      ],
      "text/plain": [
       "   gender  Near_Location  Partner  Promo_friends  Phone  Contract_period  \\\n",
       "0       1              1        1              1      0                6   \n",
       "1       0              1        0              0      1               12   \n",
       "2       0              1        1              0      1                1   \n",
       "3       0              1        1              1      1               12   \n",
       "4       1              1        1              1      1                1   \n",
       "\n",
       "   Group_visits  Age  Avg_additional_charges_total  Month_to_end_contract  \\\n",
       "0             1   29                     14.227470                    5.0   \n",
       "1             1   31                    113.202938                   12.0   \n",
       "2             0   28                    129.448479                    1.0   \n",
       "3             1   33                     62.669863                   12.0   \n",
       "4             0   26                    198.362265                    1.0   \n",
       "\n",
       "   Lifetime  Avg_class_frequency_total  Avg_class_frequency_current_month  \\\n",
       "0         3                   0.020398                           0.000000   \n",
       "1         7                   1.922936                           1.910244   \n",
       "2         2                   1.859098                           1.736502   \n",
       "3         2                   3.205633                           3.357215   \n",
       "4         3                   1.113884                           1.120078   \n",
       "\n",
       "   Churn  \n",
       "0      0  \n",
       "1      0  \n",
       "2      0  \n",
       "3      0  \n",
       "4      0  "
      ]
     },
     "execution_count": 3,
     "metadata": {},
     "output_type": "execute_result"
    }
   ],
   "source": [
    "data.head()"
   ]
  },
  {
   "cell_type": "markdown",
   "metadata": {},
   "source": [
    "## Step 1. Conclusion"
   ]
  },
  {
   "cell_type": "markdown",
   "metadata": {},
   "source": [
    "Installing libarys and prepare the data to be analyzed"
   ]
  },
  {
   "cell_type": "code",
   "execution_count": 4,
   "metadata": {},
   "outputs": [
    {
     "data": {
      "text/html": [
       "<div>\n",
       "<style scoped>\n",
       "    .dataframe tbody tr th:only-of-type {\n",
       "        vertical-align: middle;\n",
       "    }\n",
       "\n",
       "    .dataframe tbody tr th {\n",
       "        vertical-align: top;\n",
       "    }\n",
       "\n",
       "    .dataframe thead th {\n",
       "        text-align: right;\n",
       "    }\n",
       "</style>\n",
       "<table border=\"1\" class=\"dataframe\">\n",
       "  <thead>\n",
       "    <tr style=\"text-align: right;\">\n",
       "      <th></th>\n",
       "      <th>gender</th>\n",
       "      <th>Near_Location</th>\n",
       "      <th>Partner</th>\n",
       "      <th>Promo_friends</th>\n",
       "      <th>Phone</th>\n",
       "      <th>Contract_period</th>\n",
       "      <th>Group_visits</th>\n",
       "      <th>Age</th>\n",
       "      <th>Avg_additional_charges_total</th>\n",
       "      <th>Month_to_end_contract</th>\n",
       "      <th>Lifetime</th>\n",
       "      <th>Avg_class_frequency_total</th>\n",
       "      <th>Avg_class_frequency_current_month</th>\n",
       "      <th>Churn</th>\n",
       "    </tr>\n",
       "  </thead>\n",
       "  <tbody>\n",
       "    <tr>\n",
       "      <td>0</td>\n",
       "      <td>1</td>\n",
       "      <td>1</td>\n",
       "      <td>1</td>\n",
       "      <td>1</td>\n",
       "      <td>0</td>\n",
       "      <td>6</td>\n",
       "      <td>1</td>\n",
       "      <td>29</td>\n",
       "      <td>14.227470</td>\n",
       "      <td>5.0</td>\n",
       "      <td>3</td>\n",
       "      <td>0.020398</td>\n",
       "      <td>0.000000</td>\n",
       "      <td>0</td>\n",
       "    </tr>\n",
       "    <tr>\n",
       "      <td>1</td>\n",
       "      <td>0</td>\n",
       "      <td>1</td>\n",
       "      <td>0</td>\n",
       "      <td>0</td>\n",
       "      <td>1</td>\n",
       "      <td>12</td>\n",
       "      <td>1</td>\n",
       "      <td>31</td>\n",
       "      <td>113.202938</td>\n",
       "      <td>12.0</td>\n",
       "      <td>7</td>\n",
       "      <td>1.922936</td>\n",
       "      <td>1.910244</td>\n",
       "      <td>0</td>\n",
       "    </tr>\n",
       "    <tr>\n",
       "      <td>2</td>\n",
       "      <td>0</td>\n",
       "      <td>1</td>\n",
       "      <td>1</td>\n",
       "      <td>0</td>\n",
       "      <td>1</td>\n",
       "      <td>1</td>\n",
       "      <td>0</td>\n",
       "      <td>28</td>\n",
       "      <td>129.448479</td>\n",
       "      <td>1.0</td>\n",
       "      <td>2</td>\n",
       "      <td>1.859098</td>\n",
       "      <td>1.736502</td>\n",
       "      <td>0</td>\n",
       "    </tr>\n",
       "    <tr>\n",
       "      <td>3</td>\n",
       "      <td>0</td>\n",
       "      <td>1</td>\n",
       "      <td>1</td>\n",
       "      <td>1</td>\n",
       "      <td>1</td>\n",
       "      <td>12</td>\n",
       "      <td>1</td>\n",
       "      <td>33</td>\n",
       "      <td>62.669863</td>\n",
       "      <td>12.0</td>\n",
       "      <td>2</td>\n",
       "      <td>3.205633</td>\n",
       "      <td>3.357215</td>\n",
       "      <td>0</td>\n",
       "    </tr>\n",
       "    <tr>\n",
       "      <td>4</td>\n",
       "      <td>1</td>\n",
       "      <td>1</td>\n",
       "      <td>1</td>\n",
       "      <td>1</td>\n",
       "      <td>1</td>\n",
       "      <td>1</td>\n",
       "      <td>0</td>\n",
       "      <td>26</td>\n",
       "      <td>198.362265</td>\n",
       "      <td>1.0</td>\n",
       "      <td>3</td>\n",
       "      <td>1.113884</td>\n",
       "      <td>1.120078</td>\n",
       "      <td>0</td>\n",
       "    </tr>\n",
       "    <tr>\n",
       "      <td>5</td>\n",
       "      <td>1</td>\n",
       "      <td>1</td>\n",
       "      <td>0</td>\n",
       "      <td>0</td>\n",
       "      <td>1</td>\n",
       "      <td>1</td>\n",
       "      <td>1</td>\n",
       "      <td>34</td>\n",
       "      <td>450.743960</td>\n",
       "      <td>1.0</td>\n",
       "      <td>3</td>\n",
       "      <td>2.623477</td>\n",
       "      <td>2.637007</td>\n",
       "      <td>0</td>\n",
       "    </tr>\n",
       "    <tr>\n",
       "      <td>6</td>\n",
       "      <td>1</td>\n",
       "      <td>1</td>\n",
       "      <td>1</td>\n",
       "      <td>1</td>\n",
       "      <td>0</td>\n",
       "      <td>6</td>\n",
       "      <td>1</td>\n",
       "      <td>32</td>\n",
       "      <td>94.266389</td>\n",
       "      <td>6.0</td>\n",
       "      <td>2</td>\n",
       "      <td>1.138941</td>\n",
       "      <td>1.277242</td>\n",
       "      <td>0</td>\n",
       "    </tr>\n",
       "    <tr>\n",
       "      <td>7</td>\n",
       "      <td>0</td>\n",
       "      <td>1</td>\n",
       "      <td>0</td>\n",
       "      <td>0</td>\n",
       "      <td>1</td>\n",
       "      <td>1</td>\n",
       "      <td>0</td>\n",
       "      <td>30</td>\n",
       "      <td>217.786641</td>\n",
       "      <td>1.0</td>\n",
       "      <td>0</td>\n",
       "      <td>1.213502</td>\n",
       "      <td>1.049387</td>\n",
       "      <td>1</td>\n",
       "    </tr>\n",
       "    <tr>\n",
       "      <td>8</td>\n",
       "      <td>1</td>\n",
       "      <td>1</td>\n",
       "      <td>1</td>\n",
       "      <td>1</td>\n",
       "      <td>1</td>\n",
       "      <td>1</td>\n",
       "      <td>1</td>\n",
       "      <td>23</td>\n",
       "      <td>45.409909</td>\n",
       "      <td>1.0</td>\n",
       "      <td>1</td>\n",
       "      <td>1.106239</td>\n",
       "      <td>1.059333</td>\n",
       "      <td>0</td>\n",
       "    </tr>\n",
       "    <tr>\n",
       "      <td>9</td>\n",
       "      <td>0</td>\n",
       "      <td>1</td>\n",
       "      <td>0</td>\n",
       "      <td>0</td>\n",
       "      <td>1</td>\n",
       "      <td>1</td>\n",
       "      <td>0</td>\n",
       "      <td>31</td>\n",
       "      <td>65.310836</td>\n",
       "      <td>1.0</td>\n",
       "      <td>11</td>\n",
       "      <td>1.810852</td>\n",
       "      <td>1.951368</td>\n",
       "      <td>0</td>\n",
       "    </tr>\n",
       "  </tbody>\n",
       "</table>\n",
       "</div>"
      ],
      "text/plain": [
       "   gender  Near_Location  Partner  Promo_friends  Phone  Contract_period  \\\n",
       "0       1              1        1              1      0                6   \n",
       "1       0              1        0              0      1               12   \n",
       "2       0              1        1              0      1                1   \n",
       "3       0              1        1              1      1               12   \n",
       "4       1              1        1              1      1                1   \n",
       "5       1              1        0              0      1                1   \n",
       "6       1              1        1              1      0                6   \n",
       "7       0              1        0              0      1                1   \n",
       "8       1              1        1              1      1                1   \n",
       "9       0              1        0              0      1                1   \n",
       "\n",
       "   Group_visits  Age  Avg_additional_charges_total  Month_to_end_contract  \\\n",
       "0             1   29                     14.227470                    5.0   \n",
       "1             1   31                    113.202938                   12.0   \n",
       "2             0   28                    129.448479                    1.0   \n",
       "3             1   33                     62.669863                   12.0   \n",
       "4             0   26                    198.362265                    1.0   \n",
       "5             1   34                    450.743960                    1.0   \n",
       "6             1   32                     94.266389                    6.0   \n",
       "7             0   30                    217.786641                    1.0   \n",
       "8             1   23                     45.409909                    1.0   \n",
       "9             0   31                     65.310836                    1.0   \n",
       "\n",
       "   Lifetime  Avg_class_frequency_total  Avg_class_frequency_current_month  \\\n",
       "0         3                   0.020398                           0.000000   \n",
       "1         7                   1.922936                           1.910244   \n",
       "2         2                   1.859098                           1.736502   \n",
       "3         2                   3.205633                           3.357215   \n",
       "4         3                   1.113884                           1.120078   \n",
       "5         3                   2.623477                           2.637007   \n",
       "6         2                   1.138941                           1.277242   \n",
       "7         0                   1.213502                           1.049387   \n",
       "8         1                   1.106239                           1.059333   \n",
       "9        11                   1.810852                           1.951368   \n",
       "\n",
       "   Churn  \n",
       "0      0  \n",
       "1      0  \n",
       "2      0  \n",
       "3      0  \n",
       "4      0  \n",
       "5      0  \n",
       "6      0  \n",
       "7      1  \n",
       "8      0  \n",
       "9      0  "
      ]
     },
     "metadata": {},
     "output_type": "display_data"
    },
    {
     "name": "stdout",
     "output_type": "stream",
     "text": [
      "<class 'pandas.core.frame.DataFrame'>\n",
      "RangeIndex: 4000 entries, 0 to 3999\n",
      "Data columns (total 14 columns):\n",
      "gender                               4000 non-null int64\n",
      "Near_Location                        4000 non-null int64\n",
      "Partner                              4000 non-null int64\n",
      "Promo_friends                        4000 non-null int64\n",
      "Phone                                4000 non-null int64\n",
      "Contract_period                      4000 non-null int64\n",
      "Group_visits                         4000 non-null int64\n",
      "Age                                  4000 non-null int64\n",
      "Avg_additional_charges_total         4000 non-null float64\n",
      "Month_to_end_contract                4000 non-null float64\n",
      "Lifetime                             4000 non-null int64\n",
      "Avg_class_frequency_total            4000 non-null float64\n",
      "Avg_class_frequency_current_month    4000 non-null float64\n",
      "Churn                                4000 non-null int64\n",
      "dtypes: float64(4), int64(10)\n",
      "memory usage: 437.6 KB\n"
     ]
    },
    {
     "data": {
      "text/plain": [
       "None"
      ]
     },
     "metadata": {},
     "output_type": "display_data"
    },
    {
     "data": {
      "text/html": [
       "<div>\n",
       "<style scoped>\n",
       "    .dataframe tbody tr th:only-of-type {\n",
       "        vertical-align: middle;\n",
       "    }\n",
       "\n",
       "    .dataframe tbody tr th {\n",
       "        vertical-align: top;\n",
       "    }\n",
       "\n",
       "    .dataframe thead th {\n",
       "        text-align: right;\n",
       "    }\n",
       "</style>\n",
       "<table border=\"1\" class=\"dataframe\">\n",
       "  <thead>\n",
       "    <tr style=\"text-align: right;\">\n",
       "      <th></th>\n",
       "      <th>gender</th>\n",
       "      <th>Near_Location</th>\n",
       "      <th>Partner</th>\n",
       "      <th>Promo_friends</th>\n",
       "      <th>Phone</th>\n",
       "      <th>Contract_period</th>\n",
       "      <th>Group_visits</th>\n",
       "      <th>Age</th>\n",
       "      <th>Avg_additional_charges_total</th>\n",
       "      <th>Month_to_end_contract</th>\n",
       "      <th>Lifetime</th>\n",
       "      <th>Avg_class_frequency_total</th>\n",
       "      <th>Avg_class_frequency_current_month</th>\n",
       "      <th>Churn</th>\n",
       "    </tr>\n",
       "  </thead>\n",
       "  <tbody>\n",
       "    <tr>\n",
       "      <td>count</td>\n",
       "      <td>4000.000000</td>\n",
       "      <td>4000.000000</td>\n",
       "      <td>4000.000000</td>\n",
       "      <td>4000.000000</td>\n",
       "      <td>4000.000000</td>\n",
       "      <td>4000.000000</td>\n",
       "      <td>4000.000000</td>\n",
       "      <td>4000.000000</td>\n",
       "      <td>4000.000000</td>\n",
       "      <td>4000.000000</td>\n",
       "      <td>4000.000000</td>\n",
       "      <td>4000.000000</td>\n",
       "      <td>4000.000000</td>\n",
       "      <td>4000.000000</td>\n",
       "    </tr>\n",
       "    <tr>\n",
       "      <td>mean</td>\n",
       "      <td>0.510250</td>\n",
       "      <td>0.845250</td>\n",
       "      <td>0.486750</td>\n",
       "      <td>0.308500</td>\n",
       "      <td>0.903500</td>\n",
       "      <td>4.681250</td>\n",
       "      <td>0.412250</td>\n",
       "      <td>29.184250</td>\n",
       "      <td>146.943728</td>\n",
       "      <td>4.322750</td>\n",
       "      <td>3.724750</td>\n",
       "      <td>1.879020</td>\n",
       "      <td>1.767052</td>\n",
       "      <td>0.265250</td>\n",
       "    </tr>\n",
       "    <tr>\n",
       "      <td>std</td>\n",
       "      <td>0.499957</td>\n",
       "      <td>0.361711</td>\n",
       "      <td>0.499887</td>\n",
       "      <td>0.461932</td>\n",
       "      <td>0.295313</td>\n",
       "      <td>4.549706</td>\n",
       "      <td>0.492301</td>\n",
       "      <td>3.258367</td>\n",
       "      <td>96.355602</td>\n",
       "      <td>4.191297</td>\n",
       "      <td>3.749267</td>\n",
       "      <td>0.972245</td>\n",
       "      <td>1.052906</td>\n",
       "      <td>0.441521</td>\n",
       "    </tr>\n",
       "    <tr>\n",
       "      <td>min</td>\n",
       "      <td>0.000000</td>\n",
       "      <td>0.000000</td>\n",
       "      <td>0.000000</td>\n",
       "      <td>0.000000</td>\n",
       "      <td>0.000000</td>\n",
       "      <td>1.000000</td>\n",
       "      <td>0.000000</td>\n",
       "      <td>18.000000</td>\n",
       "      <td>0.148205</td>\n",
       "      <td>1.000000</td>\n",
       "      <td>0.000000</td>\n",
       "      <td>0.000000</td>\n",
       "      <td>0.000000</td>\n",
       "      <td>0.000000</td>\n",
       "    </tr>\n",
       "    <tr>\n",
       "      <td>25%</td>\n",
       "      <td>0.000000</td>\n",
       "      <td>1.000000</td>\n",
       "      <td>0.000000</td>\n",
       "      <td>0.000000</td>\n",
       "      <td>1.000000</td>\n",
       "      <td>1.000000</td>\n",
       "      <td>0.000000</td>\n",
       "      <td>27.000000</td>\n",
       "      <td>68.868830</td>\n",
       "      <td>1.000000</td>\n",
       "      <td>1.000000</td>\n",
       "      <td>1.180875</td>\n",
       "      <td>0.963003</td>\n",
       "      <td>0.000000</td>\n",
       "    </tr>\n",
       "    <tr>\n",
       "      <td>50%</td>\n",
       "      <td>1.000000</td>\n",
       "      <td>1.000000</td>\n",
       "      <td>0.000000</td>\n",
       "      <td>0.000000</td>\n",
       "      <td>1.000000</td>\n",
       "      <td>1.000000</td>\n",
       "      <td>0.000000</td>\n",
       "      <td>29.000000</td>\n",
       "      <td>136.220159</td>\n",
       "      <td>1.000000</td>\n",
       "      <td>3.000000</td>\n",
       "      <td>1.832768</td>\n",
       "      <td>1.719574</td>\n",
       "      <td>0.000000</td>\n",
       "    </tr>\n",
       "    <tr>\n",
       "      <td>75%</td>\n",
       "      <td>1.000000</td>\n",
       "      <td>1.000000</td>\n",
       "      <td>1.000000</td>\n",
       "      <td>1.000000</td>\n",
       "      <td>1.000000</td>\n",
       "      <td>6.000000</td>\n",
       "      <td>1.000000</td>\n",
       "      <td>31.000000</td>\n",
       "      <td>210.949625</td>\n",
       "      <td>6.000000</td>\n",
       "      <td>5.000000</td>\n",
       "      <td>2.536078</td>\n",
       "      <td>2.510336</td>\n",
       "      <td>1.000000</td>\n",
       "    </tr>\n",
       "    <tr>\n",
       "      <td>max</td>\n",
       "      <td>1.000000</td>\n",
       "      <td>1.000000</td>\n",
       "      <td>1.000000</td>\n",
       "      <td>1.000000</td>\n",
       "      <td>1.000000</td>\n",
       "      <td>12.000000</td>\n",
       "      <td>1.000000</td>\n",
       "      <td>41.000000</td>\n",
       "      <td>552.590740</td>\n",
       "      <td>12.000000</td>\n",
       "      <td>31.000000</td>\n",
       "      <td>6.023668</td>\n",
       "      <td>6.146783</td>\n",
       "      <td>1.000000</td>\n",
       "    </tr>\n",
       "  </tbody>\n",
       "</table>\n",
       "</div>"
      ],
      "text/plain": [
       "            gender  Near_Location      Partner  Promo_friends        Phone  \\\n",
       "count  4000.000000    4000.000000  4000.000000    4000.000000  4000.000000   \n",
       "mean      0.510250       0.845250     0.486750       0.308500     0.903500   \n",
       "std       0.499957       0.361711     0.499887       0.461932     0.295313   \n",
       "min       0.000000       0.000000     0.000000       0.000000     0.000000   \n",
       "25%       0.000000       1.000000     0.000000       0.000000     1.000000   \n",
       "50%       1.000000       1.000000     0.000000       0.000000     1.000000   \n",
       "75%       1.000000       1.000000     1.000000       1.000000     1.000000   \n",
       "max       1.000000       1.000000     1.000000       1.000000     1.000000   \n",
       "\n",
       "       Contract_period  Group_visits          Age  \\\n",
       "count      4000.000000   4000.000000  4000.000000   \n",
       "mean          4.681250      0.412250    29.184250   \n",
       "std           4.549706      0.492301     3.258367   \n",
       "min           1.000000      0.000000    18.000000   \n",
       "25%           1.000000      0.000000    27.000000   \n",
       "50%           1.000000      0.000000    29.000000   \n",
       "75%           6.000000      1.000000    31.000000   \n",
       "max          12.000000      1.000000    41.000000   \n",
       "\n",
       "       Avg_additional_charges_total  Month_to_end_contract     Lifetime  \\\n",
       "count                   4000.000000            4000.000000  4000.000000   \n",
       "mean                     146.943728               4.322750     3.724750   \n",
       "std                       96.355602               4.191297     3.749267   \n",
       "min                        0.148205               1.000000     0.000000   \n",
       "25%                       68.868830               1.000000     1.000000   \n",
       "50%                      136.220159               1.000000     3.000000   \n",
       "75%                      210.949625               6.000000     5.000000   \n",
       "max                      552.590740              12.000000    31.000000   \n",
       "\n",
       "       Avg_class_frequency_total  Avg_class_frequency_current_month  \\\n",
       "count                4000.000000                        4000.000000   \n",
       "mean                    1.879020                           1.767052   \n",
       "std                     0.972245                           1.052906   \n",
       "min                     0.000000                           0.000000   \n",
       "25%                     1.180875                           0.963003   \n",
       "50%                     1.832768                           1.719574   \n",
       "75%                     2.536078                           2.510336   \n",
       "max                     6.023668                           6.146783   \n",
       "\n",
       "             Churn  \n",
       "count  4000.000000  \n",
       "mean      0.265250  \n",
       "std       0.441521  \n",
       "min       0.000000  \n",
       "25%       0.000000  \n",
       "50%       0.000000  \n",
       "75%       1.000000  \n",
       "max       1.000000  "
      ]
     },
     "metadata": {},
     "output_type": "display_data"
    },
    {
     "data": {
      "text/plain": [
       "gender                               0.0\n",
       "Near_Location                        0.0\n",
       "Partner                              0.0\n",
       "Promo_friends                        0.0\n",
       "Phone                                0.0\n",
       "Contract_period                      0.0\n",
       "Group_visits                         0.0\n",
       "Age                                  0.0\n",
       "Avg_additional_charges_total         0.0\n",
       "Month_to_end_contract                0.0\n",
       "Lifetime                             0.0\n",
       "Avg_class_frequency_total            0.0\n",
       "Avg_class_frequency_current_month    0.0\n",
       "Churn                                0.0\n",
       "dtype: float64"
      ]
     },
     "metadata": {},
     "output_type": "display_data"
    },
    {
     "data": {
      "text/plain": [
       "0.0"
      ]
     },
     "metadata": {},
     "output_type": "display_data"
    }
   ],
   "source": [
    "def showdata(df):\n",
    "    display(df.head(10))\n",
    "    display(df.info())\n",
    "    display(df.describe())\n",
    "    display(df.isnull().sum() * 100 / len(df))\n",
    "    display(df.duplicated().sum() * 100 / len(df))\n",
    "    \n",
    "    \n",
    "showdata(data)"
   ]
  },
  {
   "cell_type": "code",
   "execution_count": 5,
   "metadata": {},
   "outputs": [],
   "source": [
    "def save_mb(df):  \n",
    "    \n",
    "    for column in list(df.columns.values):\n",
    "        if df[column].dtypes == \"int8\":\n",
    "                df[column] = pd.to_numeric(df[column], downcast=\"integer\")\n",
    "        elif df[column].dtypes == \"int16\":\n",
    "                df[column] = pd.to_numeric(df[column], downcast=\"integer\")\n",
    "        elif df[column].dtypes == \"int32\":\n",
    "                df[column] = pd.to_numeric(df[column], downcast=\"integer\")\n",
    "        elif df[column].dtypes == \"int64\":\n",
    "                df[column] = pd.to_numeric(df[column], downcast=\"integer\")\n",
    "        elif df[column].dtypes == \"float16\":\n",
    "                df[column] = pd.to_numeric(df[column], downcast=\"float\")\n",
    "        elif df[column].dtypes == \"float32\":\n",
    "                df[column] = pd.to_numeric(df[column], downcast=\"float\")\n",
    "        elif df[column].dtypes == \"float64\":\n",
    "                df[column] = pd.to_numeric(df[column], downcast=\"float\")\n",
    "        else:\n",
    "            pass"
   ]
  },
  {
   "cell_type": "code",
   "execution_count": 6,
   "metadata": {},
   "outputs": [],
   "source": [
    "save_mb(data) # save  75 % memory"
   ]
  },
  {
   "cell_type": "code",
   "execution_count": 7,
   "metadata": {},
   "outputs": [
    {
     "name": "stdout",
     "output_type": "stream",
     "text": [
      "<class 'pandas.core.frame.DataFrame'>\n",
      "RangeIndex: 4000 entries, 0 to 3999\n",
      "Data columns (total 14 columns):\n",
      "gender                               4000 non-null int8\n",
      "Near_Location                        4000 non-null int8\n",
      "Partner                              4000 non-null int8\n",
      "Promo_friends                        4000 non-null int8\n",
      "Phone                                4000 non-null int8\n",
      "Contract_period                      4000 non-null int8\n",
      "Group_visits                         4000 non-null int8\n",
      "Age                                  4000 non-null int8\n",
      "Avg_additional_charges_total         4000 non-null float32\n",
      "Month_to_end_contract                4000 non-null float32\n",
      "Lifetime                             4000 non-null int8\n",
      "Avg_class_frequency_total            4000 non-null float32\n",
      "Avg_class_frequency_current_month    4000 non-null float32\n",
      "Churn                                4000 non-null int8\n",
      "dtypes: float32(4), int8(10)\n",
      "memory usage: 101.7 KB\n"
     ]
    }
   ],
   "source": [
    "data.info()"
   ]
  },
  {
   "cell_type": "markdown",
   "metadata": {},
   "source": [
    "## 2. Carry out exploratory data analysis (EDA)"
   ]
  },
  {
   "cell_type": "markdown",
   "metadata": {},
   "source": [
    "## 2.1 Look at the dataset: does it contain any missing features? Study the mean values and standard deviation (use the describe() method)."
   ]
  },
  {
   "cell_type": "code",
   "execution_count": 8,
   "metadata": {},
   "outputs": [
    {
     "data": {
      "text/html": [
       "<div>\n",
       "<style scoped>\n",
       "    .dataframe tbody tr th:only-of-type {\n",
       "        vertical-align: middle;\n",
       "    }\n",
       "\n",
       "    .dataframe tbody tr th {\n",
       "        vertical-align: top;\n",
       "    }\n",
       "\n",
       "    .dataframe thead th {\n",
       "        text-align: right;\n",
       "    }\n",
       "</style>\n",
       "<table border=\"1\" class=\"dataframe\">\n",
       "  <thead>\n",
       "    <tr style=\"text-align: right;\">\n",
       "      <th></th>\n",
       "      <th>gender</th>\n",
       "      <th>Near_Location</th>\n",
       "      <th>Partner</th>\n",
       "      <th>Promo_friends</th>\n",
       "      <th>Phone</th>\n",
       "      <th>Contract_period</th>\n",
       "      <th>Group_visits</th>\n",
       "      <th>Age</th>\n",
       "      <th>Avg_additional_charges_total</th>\n",
       "      <th>Month_to_end_contract</th>\n",
       "      <th>Lifetime</th>\n",
       "      <th>Avg_class_frequency_total</th>\n",
       "      <th>Avg_class_frequency_current_month</th>\n",
       "      <th>Churn</th>\n",
       "    </tr>\n",
       "  </thead>\n",
       "  <tbody>\n",
       "    <tr>\n",
       "      <td>0</td>\n",
       "      <td>1</td>\n",
       "      <td>1</td>\n",
       "      <td>1</td>\n",
       "      <td>1</td>\n",
       "      <td>0</td>\n",
       "      <td>6</td>\n",
       "      <td>1</td>\n",
       "      <td>29</td>\n",
       "      <td>14.227470</td>\n",
       "      <td>5.0</td>\n",
       "      <td>3</td>\n",
       "      <td>0.020398</td>\n",
       "      <td>0.000000</td>\n",
       "      <td>0</td>\n",
       "    </tr>\n",
       "    <tr>\n",
       "      <td>1</td>\n",
       "      <td>0</td>\n",
       "      <td>1</td>\n",
       "      <td>0</td>\n",
       "      <td>0</td>\n",
       "      <td>1</td>\n",
       "      <td>12</td>\n",
       "      <td>1</td>\n",
       "      <td>31</td>\n",
       "      <td>113.202934</td>\n",
       "      <td>12.0</td>\n",
       "      <td>7</td>\n",
       "      <td>1.922936</td>\n",
       "      <td>1.910244</td>\n",
       "      <td>0</td>\n",
       "    </tr>\n",
       "    <tr>\n",
       "      <td>2</td>\n",
       "      <td>0</td>\n",
       "      <td>1</td>\n",
       "      <td>1</td>\n",
       "      <td>0</td>\n",
       "      <td>1</td>\n",
       "      <td>1</td>\n",
       "      <td>0</td>\n",
       "      <td>28</td>\n",
       "      <td>129.448486</td>\n",
       "      <td>1.0</td>\n",
       "      <td>2</td>\n",
       "      <td>1.859098</td>\n",
       "      <td>1.736502</td>\n",
       "      <td>0</td>\n",
       "    </tr>\n",
       "    <tr>\n",
       "      <td>3</td>\n",
       "      <td>0</td>\n",
       "      <td>1</td>\n",
       "      <td>1</td>\n",
       "      <td>1</td>\n",
       "      <td>1</td>\n",
       "      <td>12</td>\n",
       "      <td>1</td>\n",
       "      <td>33</td>\n",
       "      <td>62.669865</td>\n",
       "      <td>12.0</td>\n",
       "      <td>2</td>\n",
       "      <td>3.205633</td>\n",
       "      <td>3.357214</td>\n",
       "      <td>0</td>\n",
       "    </tr>\n",
       "    <tr>\n",
       "      <td>4</td>\n",
       "      <td>1</td>\n",
       "      <td>1</td>\n",
       "      <td>1</td>\n",
       "      <td>1</td>\n",
       "      <td>1</td>\n",
       "      <td>1</td>\n",
       "      <td>0</td>\n",
       "      <td>26</td>\n",
       "      <td>198.362259</td>\n",
       "      <td>1.0</td>\n",
       "      <td>3</td>\n",
       "      <td>1.113884</td>\n",
       "      <td>1.120078</td>\n",
       "      <td>0</td>\n",
       "    </tr>\n",
       "    <tr>\n",
       "      <td>5</td>\n",
       "      <td>1</td>\n",
       "      <td>1</td>\n",
       "      <td>0</td>\n",
       "      <td>0</td>\n",
       "      <td>1</td>\n",
       "      <td>1</td>\n",
       "      <td>1</td>\n",
       "      <td>34</td>\n",
       "      <td>450.743958</td>\n",
       "      <td>1.0</td>\n",
       "      <td>3</td>\n",
       "      <td>2.623477</td>\n",
       "      <td>2.637007</td>\n",
       "      <td>0</td>\n",
       "    </tr>\n",
       "    <tr>\n",
       "      <td>6</td>\n",
       "      <td>1</td>\n",
       "      <td>1</td>\n",
       "      <td>1</td>\n",
       "      <td>1</td>\n",
       "      <td>0</td>\n",
       "      <td>6</td>\n",
       "      <td>1</td>\n",
       "      <td>32</td>\n",
       "      <td>94.266388</td>\n",
       "      <td>6.0</td>\n",
       "      <td>2</td>\n",
       "      <td>1.138941</td>\n",
       "      <td>1.277242</td>\n",
       "      <td>0</td>\n",
       "    </tr>\n",
       "    <tr>\n",
       "      <td>7</td>\n",
       "      <td>0</td>\n",
       "      <td>1</td>\n",
       "      <td>0</td>\n",
       "      <td>0</td>\n",
       "      <td>1</td>\n",
       "      <td>1</td>\n",
       "      <td>0</td>\n",
       "      <td>30</td>\n",
       "      <td>217.786636</td>\n",
       "      <td>1.0</td>\n",
       "      <td>0</td>\n",
       "      <td>1.213502</td>\n",
       "      <td>1.049387</td>\n",
       "      <td>1</td>\n",
       "    </tr>\n",
       "    <tr>\n",
       "      <td>8</td>\n",
       "      <td>1</td>\n",
       "      <td>1</td>\n",
       "      <td>1</td>\n",
       "      <td>1</td>\n",
       "      <td>1</td>\n",
       "      <td>1</td>\n",
       "      <td>1</td>\n",
       "      <td>23</td>\n",
       "      <td>45.409908</td>\n",
       "      <td>1.0</td>\n",
       "      <td>1</td>\n",
       "      <td>1.106239</td>\n",
       "      <td>1.059333</td>\n",
       "      <td>0</td>\n",
       "    </tr>\n",
       "    <tr>\n",
       "      <td>9</td>\n",
       "      <td>0</td>\n",
       "      <td>1</td>\n",
       "      <td>0</td>\n",
       "      <td>0</td>\n",
       "      <td>1</td>\n",
       "      <td>1</td>\n",
       "      <td>0</td>\n",
       "      <td>31</td>\n",
       "      <td>65.310837</td>\n",
       "      <td>1.0</td>\n",
       "      <td>11</td>\n",
       "      <td>1.810852</td>\n",
       "      <td>1.951368</td>\n",
       "      <td>0</td>\n",
       "    </tr>\n",
       "  </tbody>\n",
       "</table>\n",
       "</div>"
      ],
      "text/plain": [
       "   gender  Near_Location  Partner  Promo_friends  Phone  Contract_period  \\\n",
       "0       1              1        1              1      0                6   \n",
       "1       0              1        0              0      1               12   \n",
       "2       0              1        1              0      1                1   \n",
       "3       0              1        1              1      1               12   \n",
       "4       1              1        1              1      1                1   \n",
       "5       1              1        0              0      1                1   \n",
       "6       1              1        1              1      0                6   \n",
       "7       0              1        0              0      1                1   \n",
       "8       1              1        1              1      1                1   \n",
       "9       0              1        0              0      1                1   \n",
       "\n",
       "   Group_visits  Age  Avg_additional_charges_total  Month_to_end_contract  \\\n",
       "0             1   29                     14.227470                    5.0   \n",
       "1             1   31                    113.202934                   12.0   \n",
       "2             0   28                    129.448486                    1.0   \n",
       "3             1   33                     62.669865                   12.0   \n",
       "4             0   26                    198.362259                    1.0   \n",
       "5             1   34                    450.743958                    1.0   \n",
       "6             1   32                     94.266388                    6.0   \n",
       "7             0   30                    217.786636                    1.0   \n",
       "8             1   23                     45.409908                    1.0   \n",
       "9             0   31                     65.310837                    1.0   \n",
       "\n",
       "   Lifetime  Avg_class_frequency_total  Avg_class_frequency_current_month  \\\n",
       "0         3                   0.020398                           0.000000   \n",
       "1         7                   1.922936                           1.910244   \n",
       "2         2                   1.859098                           1.736502   \n",
       "3         2                   3.205633                           3.357214   \n",
       "4         3                   1.113884                           1.120078   \n",
       "5         3                   2.623477                           2.637007   \n",
       "6         2                   1.138941                           1.277242   \n",
       "7         0                   1.213502                           1.049387   \n",
       "8         1                   1.106239                           1.059333   \n",
       "9        11                   1.810852                           1.951368   \n",
       "\n",
       "   Churn  \n",
       "0      0  \n",
       "1      0  \n",
       "2      0  \n",
       "3      0  \n",
       "4      0  \n",
       "5      0  \n",
       "6      0  \n",
       "7      1  \n",
       "8      0  \n",
       "9      0  "
      ]
     },
     "metadata": {},
     "output_type": "display_data"
    },
    {
     "name": "stdout",
     "output_type": "stream",
     "text": [
      "<class 'pandas.core.frame.DataFrame'>\n",
      "RangeIndex: 4000 entries, 0 to 3999\n",
      "Data columns (total 14 columns):\n",
      "gender                               4000 non-null int8\n",
      "Near_Location                        4000 non-null int8\n",
      "Partner                              4000 non-null int8\n",
      "Promo_friends                        4000 non-null int8\n",
      "Phone                                4000 non-null int8\n",
      "Contract_period                      4000 non-null int8\n",
      "Group_visits                         4000 non-null int8\n",
      "Age                                  4000 non-null int8\n",
      "Avg_additional_charges_total         4000 non-null float32\n",
      "Month_to_end_contract                4000 non-null float32\n",
      "Lifetime                             4000 non-null int8\n",
      "Avg_class_frequency_total            4000 non-null float32\n",
      "Avg_class_frequency_current_month    4000 non-null float32\n",
      "Churn                                4000 non-null int8\n",
      "dtypes: float32(4), int8(10)\n",
      "memory usage: 101.7 KB\n"
     ]
    },
    {
     "data": {
      "text/plain": [
       "None"
      ]
     },
     "metadata": {},
     "output_type": "display_data"
    },
    {
     "data": {
      "text/html": [
       "<div>\n",
       "<style scoped>\n",
       "    .dataframe tbody tr th:only-of-type {\n",
       "        vertical-align: middle;\n",
       "    }\n",
       "\n",
       "    .dataframe tbody tr th {\n",
       "        vertical-align: top;\n",
       "    }\n",
       "\n",
       "    .dataframe thead th {\n",
       "        text-align: right;\n",
       "    }\n",
       "</style>\n",
       "<table border=\"1\" class=\"dataframe\">\n",
       "  <thead>\n",
       "    <tr style=\"text-align: right;\">\n",
       "      <th></th>\n",
       "      <th>gender</th>\n",
       "      <th>Near_Location</th>\n",
       "      <th>Partner</th>\n",
       "      <th>Promo_friends</th>\n",
       "      <th>Phone</th>\n",
       "      <th>Contract_period</th>\n",
       "      <th>Group_visits</th>\n",
       "      <th>Age</th>\n",
       "      <th>Avg_additional_charges_total</th>\n",
       "      <th>Month_to_end_contract</th>\n",
       "      <th>Lifetime</th>\n",
       "      <th>Avg_class_frequency_total</th>\n",
       "      <th>Avg_class_frequency_current_month</th>\n",
       "      <th>Churn</th>\n",
       "    </tr>\n",
       "  </thead>\n",
       "  <tbody>\n",
       "    <tr>\n",
       "      <td>count</td>\n",
       "      <td>4000.000000</td>\n",
       "      <td>4000.000000</td>\n",
       "      <td>4000.000000</td>\n",
       "      <td>4000.000000</td>\n",
       "      <td>4000.000000</td>\n",
       "      <td>4000.000000</td>\n",
       "      <td>4000.000000</td>\n",
       "      <td>4000.000000</td>\n",
       "      <td>4000.000000</td>\n",
       "      <td>4000.000000</td>\n",
       "      <td>4000.000000</td>\n",
       "      <td>4000.000000</td>\n",
       "      <td>4000.000000</td>\n",
       "      <td>4000.000000</td>\n",
       "    </tr>\n",
       "    <tr>\n",
       "      <td>mean</td>\n",
       "      <td>0.510250</td>\n",
       "      <td>0.845250</td>\n",
       "      <td>0.486750</td>\n",
       "      <td>0.308500</td>\n",
       "      <td>0.903500</td>\n",
       "      <td>4.681250</td>\n",
       "      <td>0.412250</td>\n",
       "      <td>29.184250</td>\n",
       "      <td>146.943726</td>\n",
       "      <td>4.322750</td>\n",
       "      <td>3.724750</td>\n",
       "      <td>1.879020</td>\n",
       "      <td>1.767052</td>\n",
       "      <td>0.265250</td>\n",
       "    </tr>\n",
       "    <tr>\n",
       "      <td>std</td>\n",
       "      <td>0.499957</td>\n",
       "      <td>0.361711</td>\n",
       "      <td>0.499887</td>\n",
       "      <td>0.461932</td>\n",
       "      <td>0.295313</td>\n",
       "      <td>4.549706</td>\n",
       "      <td>0.492301</td>\n",
       "      <td>3.258367</td>\n",
       "      <td>96.355606</td>\n",
       "      <td>4.191298</td>\n",
       "      <td>3.749267</td>\n",
       "      <td>0.972245</td>\n",
       "      <td>1.052906</td>\n",
       "      <td>0.441521</td>\n",
       "    </tr>\n",
       "    <tr>\n",
       "      <td>min</td>\n",
       "      <td>0.000000</td>\n",
       "      <td>0.000000</td>\n",
       "      <td>0.000000</td>\n",
       "      <td>0.000000</td>\n",
       "      <td>0.000000</td>\n",
       "      <td>1.000000</td>\n",
       "      <td>0.000000</td>\n",
       "      <td>18.000000</td>\n",
       "      <td>0.148205</td>\n",
       "      <td>1.000000</td>\n",
       "      <td>0.000000</td>\n",
       "      <td>0.000000</td>\n",
       "      <td>0.000000</td>\n",
       "      <td>0.000000</td>\n",
       "    </tr>\n",
       "    <tr>\n",
       "      <td>25%</td>\n",
       "      <td>0.000000</td>\n",
       "      <td>1.000000</td>\n",
       "      <td>0.000000</td>\n",
       "      <td>0.000000</td>\n",
       "      <td>1.000000</td>\n",
       "      <td>1.000000</td>\n",
       "      <td>0.000000</td>\n",
       "      <td>27.000000</td>\n",
       "      <td>68.868832</td>\n",
       "      <td>1.000000</td>\n",
       "      <td>1.000000</td>\n",
       "      <td>1.180875</td>\n",
       "      <td>0.963003</td>\n",
       "      <td>0.000000</td>\n",
       "    </tr>\n",
       "    <tr>\n",
       "      <td>50%</td>\n",
       "      <td>1.000000</td>\n",
       "      <td>1.000000</td>\n",
       "      <td>0.000000</td>\n",
       "      <td>0.000000</td>\n",
       "      <td>1.000000</td>\n",
       "      <td>1.000000</td>\n",
       "      <td>0.000000</td>\n",
       "      <td>29.000000</td>\n",
       "      <td>136.220161</td>\n",
       "      <td>1.000000</td>\n",
       "      <td>3.000000</td>\n",
       "      <td>1.832768</td>\n",
       "      <td>1.719574</td>\n",
       "      <td>0.000000</td>\n",
       "    </tr>\n",
       "    <tr>\n",
       "      <td>75%</td>\n",
       "      <td>1.000000</td>\n",
       "      <td>1.000000</td>\n",
       "      <td>1.000000</td>\n",
       "      <td>1.000000</td>\n",
       "      <td>1.000000</td>\n",
       "      <td>6.000000</td>\n",
       "      <td>1.000000</td>\n",
       "      <td>31.000000</td>\n",
       "      <td>210.949619</td>\n",
       "      <td>6.000000</td>\n",
       "      <td>5.000000</td>\n",
       "      <td>2.536078</td>\n",
       "      <td>2.510336</td>\n",
       "      <td>1.000000</td>\n",
       "    </tr>\n",
       "    <tr>\n",
       "      <td>max</td>\n",
       "      <td>1.000000</td>\n",
       "      <td>1.000000</td>\n",
       "      <td>1.000000</td>\n",
       "      <td>1.000000</td>\n",
       "      <td>1.000000</td>\n",
       "      <td>12.000000</td>\n",
       "      <td>1.000000</td>\n",
       "      <td>41.000000</td>\n",
       "      <td>552.590759</td>\n",
       "      <td>12.000000</td>\n",
       "      <td>31.000000</td>\n",
       "      <td>6.023668</td>\n",
       "      <td>6.146783</td>\n",
       "      <td>1.000000</td>\n",
       "    </tr>\n",
       "  </tbody>\n",
       "</table>\n",
       "</div>"
      ],
      "text/plain": [
       "            gender  Near_Location      Partner  Promo_friends        Phone  \\\n",
       "count  4000.000000    4000.000000  4000.000000    4000.000000  4000.000000   \n",
       "mean      0.510250       0.845250     0.486750       0.308500     0.903500   \n",
       "std       0.499957       0.361711     0.499887       0.461932     0.295313   \n",
       "min       0.000000       0.000000     0.000000       0.000000     0.000000   \n",
       "25%       0.000000       1.000000     0.000000       0.000000     1.000000   \n",
       "50%       1.000000       1.000000     0.000000       0.000000     1.000000   \n",
       "75%       1.000000       1.000000     1.000000       1.000000     1.000000   \n",
       "max       1.000000       1.000000     1.000000       1.000000     1.000000   \n",
       "\n",
       "       Contract_period  Group_visits          Age  \\\n",
       "count      4000.000000   4000.000000  4000.000000   \n",
       "mean          4.681250      0.412250    29.184250   \n",
       "std           4.549706      0.492301     3.258367   \n",
       "min           1.000000      0.000000    18.000000   \n",
       "25%           1.000000      0.000000    27.000000   \n",
       "50%           1.000000      0.000000    29.000000   \n",
       "75%           6.000000      1.000000    31.000000   \n",
       "max          12.000000      1.000000    41.000000   \n",
       "\n",
       "       Avg_additional_charges_total  Month_to_end_contract     Lifetime  \\\n",
       "count                   4000.000000            4000.000000  4000.000000   \n",
       "mean                     146.943726               4.322750     3.724750   \n",
       "std                       96.355606               4.191298     3.749267   \n",
       "min                        0.148205               1.000000     0.000000   \n",
       "25%                       68.868832               1.000000     1.000000   \n",
       "50%                      136.220161               1.000000     3.000000   \n",
       "75%                      210.949619               6.000000     5.000000   \n",
       "max                      552.590759              12.000000    31.000000   \n",
       "\n",
       "       Avg_class_frequency_total  Avg_class_frequency_current_month  \\\n",
       "count                4000.000000                        4000.000000   \n",
       "mean                    1.879020                           1.767052   \n",
       "std                     0.972245                           1.052906   \n",
       "min                     0.000000                           0.000000   \n",
       "25%                     1.180875                           0.963003   \n",
       "50%                     1.832768                           1.719574   \n",
       "75%                     2.536078                           2.510336   \n",
       "max                     6.023668                           6.146783   \n",
       "\n",
       "             Churn  \n",
       "count  4000.000000  \n",
       "mean      0.265250  \n",
       "std       0.441521  \n",
       "min       0.000000  \n",
       "25%       0.000000  \n",
       "50%       0.000000  \n",
       "75%       1.000000  \n",
       "max       1.000000  "
      ]
     },
     "metadata": {},
     "output_type": "display_data"
    },
    {
     "data": {
      "text/plain": [
       "gender                               0.0\n",
       "Near_Location                        0.0\n",
       "Partner                              0.0\n",
       "Promo_friends                        0.0\n",
       "Phone                                0.0\n",
       "Contract_period                      0.0\n",
       "Group_visits                         0.0\n",
       "Age                                  0.0\n",
       "Avg_additional_charges_total         0.0\n",
       "Month_to_end_contract                0.0\n",
       "Lifetime                             0.0\n",
       "Avg_class_frequency_total            0.0\n",
       "Avg_class_frequency_current_month    0.0\n",
       "Churn                                0.0\n",
       "dtype: float64"
      ]
     },
     "metadata": {},
     "output_type": "display_data"
    },
    {
     "data": {
      "text/plain": [
       "0.0"
      ]
     },
     "metadata": {},
     "output_type": "display_data"
    }
   ],
   "source": [
    "showdata(data)"
   ]
  },
  {
   "cell_type": "markdown",
   "metadata": {},
   "source": [
    "## 2.1 Conclusion"
   ]
  },
  {
   "cell_type": "markdown",
   "metadata": {},
   "source": [
    "There are no missing Values"
   ]
  },
  {
   "cell_type": "markdown",
   "metadata": {},
   "source": [
    "## 2.2 Look at the mean feature values in two groups: for those who left (churn) and for those who stayed (use the groupby() method)."
   ]
  },
  {
   "cell_type": "code",
   "execution_count": 9,
   "metadata": {},
   "outputs": [],
   "source": [
    "churndata=data.groupby(by=\"Churn\", axis=0).mean()"
   ]
  },
  {
   "cell_type": "code",
   "execution_count": 10,
   "metadata": {},
   "outputs": [
    {
     "data": {
      "text/html": [
       "<div>\n",
       "<style scoped>\n",
       "    .dataframe tbody tr th:only-of-type {\n",
       "        vertical-align: middle;\n",
       "    }\n",
       "\n",
       "    .dataframe tbody tr th {\n",
       "        vertical-align: top;\n",
       "    }\n",
       "\n",
       "    .dataframe thead th {\n",
       "        text-align: right;\n",
       "    }\n",
       "</style>\n",
       "<table border=\"1\" class=\"dataframe\">\n",
       "  <thead>\n",
       "    <tr style=\"text-align: right;\">\n",
       "      <th></th>\n",
       "      <th>gender</th>\n",
       "      <th>Near_Location</th>\n",
       "      <th>Partner</th>\n",
       "      <th>Promo_friends</th>\n",
       "      <th>Phone</th>\n",
       "      <th>Contract_period</th>\n",
       "      <th>Group_visits</th>\n",
       "      <th>Age</th>\n",
       "      <th>Avg_additional_charges_total</th>\n",
       "      <th>Month_to_end_contract</th>\n",
       "      <th>Lifetime</th>\n",
       "      <th>Avg_class_frequency_total</th>\n",
       "      <th>Avg_class_frequency_current_month</th>\n",
       "    </tr>\n",
       "    <tr>\n",
       "      <th>Churn</th>\n",
       "      <th></th>\n",
       "      <th></th>\n",
       "      <th></th>\n",
       "      <th></th>\n",
       "      <th></th>\n",
       "      <th></th>\n",
       "      <th></th>\n",
       "      <th></th>\n",
       "      <th></th>\n",
       "      <th></th>\n",
       "      <th></th>\n",
       "      <th></th>\n",
       "      <th></th>\n",
       "    </tr>\n",
       "  </thead>\n",
       "  <tbody>\n",
       "    <tr>\n",
       "      <td>0</td>\n",
       "      <td>0.510037</td>\n",
       "      <td>0.873086</td>\n",
       "      <td>0.534195</td>\n",
       "      <td>0.353522</td>\n",
       "      <td>0.903709</td>\n",
       "      <td>5.747193</td>\n",
       "      <td>0.464103</td>\n",
       "      <td>29.976523</td>\n",
       "      <td>158.445709</td>\n",
       "      <td>5.283090</td>\n",
       "      <td>4.711807</td>\n",
       "      <td>2.024876</td>\n",
       "      <td>2.027882</td>\n",
       "    </tr>\n",
       "    <tr>\n",
       "      <td>1</td>\n",
       "      <td>0.510839</td>\n",
       "      <td>0.768143</td>\n",
       "      <td>0.355325</td>\n",
       "      <td>0.183789</td>\n",
       "      <td>0.902922</td>\n",
       "      <td>1.728558</td>\n",
       "      <td>0.268615</td>\n",
       "      <td>26.989632</td>\n",
       "      <td>115.082901</td>\n",
       "      <td>1.662583</td>\n",
       "      <td>0.990575</td>\n",
       "      <td>1.474995</td>\n",
       "      <td>1.044546</td>\n",
       "    </tr>\n",
       "  </tbody>\n",
       "</table>\n",
       "</div>"
      ],
      "text/plain": [
       "         gender  Near_Location   Partner  Promo_friends     Phone  \\\n",
       "Churn                                                               \n",
       "0      0.510037       0.873086  0.534195       0.353522  0.903709   \n",
       "1      0.510839       0.768143  0.355325       0.183789  0.902922   \n",
       "\n",
       "       Contract_period  Group_visits        Age  Avg_additional_charges_total  \\\n",
       "Churn                                                                           \n",
       "0             5.747193      0.464103  29.976523                    158.445709   \n",
       "1             1.728558      0.268615  26.989632                    115.082901   \n",
       "\n",
       "       Month_to_end_contract  Lifetime  Avg_class_frequency_total  \\\n",
       "Churn                                                               \n",
       "0                   5.283090  4.711807                   2.024876   \n",
       "1                   1.662583  0.990575                   1.474995   \n",
       "\n",
       "       Avg_class_frequency_current_month  \n",
       "Churn                                     \n",
       "0                               2.027882  \n",
       "1                               1.044546  "
      ]
     },
     "execution_count": 10,
     "metadata": {},
     "output_type": "execute_result"
    }
   ],
   "source": [
    "churndata.head()"
   ]
  },
  {
   "cell_type": "markdown",
   "metadata": {},
   "source": [
    "## 2.2 Conclusion"
   ]
  },
  {
   "cell_type": "markdown",
   "metadata": {},
   "source": [
    "It seems like younger people tend to leave. \n",
    "The lifetime is seems like to have a very big impact on churn.\n",
    "i would drop the gender and  phonenumber because the different is nearly the same\n"
   ]
  },
  {
   "cell_type": "markdown",
   "metadata": {},
   "source": [
    "## 2.3 Plot bar histograms and feature distributions for those who left (churn) and those who stayed."
   ]
  },
  {
   "cell_type": "code",
   "execution_count": 11,
   "metadata": {},
   "outputs": [],
   "source": [
    "data=data.drop(columns={\"Phone\",\"gender\"})"
   ]
  },
  {
   "cell_type": "code",
   "execution_count": 12,
   "metadata": {
    "scrolled": true
   },
   "outputs": [
    {
     "data": {
      "image/png": "[encoded data removed]",
      "text/plain": [
       "<Figure size 1080x720 with 1 Axes>"
      ]
     },
     "metadata": {
      "needs_background": "light"
     },
     "output_type": "display_data"
    },
    {
     "data": {
      "image/png": "[encoded data removed]",
      "text/plain": [
       "<Figure size 1080x720 with 1 Axes>"
      ]
     },
     "metadata": {
      "needs_background": "light"
     },
     "output_type": "display_data"
    },
    {
     "data": {
      "image/png": "[encoded data removed]",
      "text/plain": [
       "<Figure size 1080x720 with 1 Axes>"
      ]
     },
     "metadata": {
      "needs_background": "light"
     },
     "output_type": "display_data"
    },
    {
     "data": {
      "image/png": "[encoded data removed]",
      "text/plain": [
       "<Figure size 1080x720 with 1 Axes>"
      ]
     },
     "metadata": {
      "needs_background": "light"
     },
     "output_type": "display_data"
    },
    {
     "data": {
      "image/png": "[encoded data removed]",
      "text/plain": [
       "<Figure size 1080x720 with 1 Axes>"
      ]
     },
     "metadata": {
      "needs_background": "light"
     },
     "output_type": "display_data"
    },
    {
     "data": {
      "image/png": "[encoded data removed]",
      "text/plain": [
       "<Figure size 1080x720 with 1 Axes>"
      ]
     },
     "metadata": {
      "needs_background": "light"
     },
     "output_type": "display_data"
    },
    {
     "data": {
      "image/png": "[encoded data removed]",
      "text/plain": [
       "<Figure size 1080x720 with 1 Axes>"
      ]
     },
     "metadata": {
      "needs_background": "light"
     },
     "output_type": "display_data"
    },
    {
     "data": {
      "image/png": "[encoded data removed]",
      "text/plain": [
       "<Figure size 1080x720 with 1 Axes>"
      ]
     },
     "metadata": {
      "needs_background": "light"
     },
     "output_type": "display_data"
    },
    {
     "data": {
      "image/png": "[encoded data removed]",
      "text/plain": [
       "<Figure size 1080x720 with 1 Axes>"
      ]
     },
     "metadata": {
      "needs_background": "light"
     },
     "output_type": "display_data"
    },
    {
     "data": {
      "image/png": "[encoded data removed]",
      "text/plain": [
       "<Figure size 1080x720 with 1 Axes>"
      ]
     },
     "metadata": {
      "needs_background": "light"
     },
     "output_type": "display_data"
    },
    {
     "data": {
      "image/png": "[encoded data removed]",
      "text/plain": [
       "<Figure size 1080x720 with 1 Axes>"
      ]
     },
     "metadata": {
      "needs_background": "light"
     },
     "output_type": "display_data"
    }
   ],
   "source": [
    "\n",
    "\n",
    "for col in data.columns[:11]:\n",
    "    \n",
    "    plt.figure(figsize=(15,10))\n",
    "    plt.title(\"Distribution of {}\".format(col))\n",
    "    plt.xlabel(col)\n",
    "    plt.ylabel(\"count\")\n",
    "    plt.xticks(fontsize = 10)\n",
    "    sns.histplot(data=data, x=col,hue = 'Churn')\n",
    "    plt.show()"
   ]
  },
  {
   "cell_type": "markdown",
   "metadata": {},
   "source": [
    "## 2.3 Conclusion"
   ]
  },
  {
   "cell_type": "markdown",
   "metadata": {},
   "source": [
    "people tend to stay when: they visit 2 times per month, passed the first 3 month.\n",
    "people tent to churn in the first month, maybe there is something wrong with the service\n",
    "\n"
   ]
  },
  {
   "cell_type": "markdown",
   "metadata": {},
   "source": [
    "## 2.4 Build a correlation matrix and display it."
   ]
  },
  {
   "cell_type": "code",
   "execution_count": 13,
   "metadata": {},
   "outputs": [
    {
     "data": {
      "image/png": "[encoded data removed]",
      "text/plain": [
       "<Figure size 1080x720 with 2 Axes>"
      ]
     },
     "metadata": {
      "needs_background": "light"
     },
     "output_type": "display_data"
    }
   ],
   "source": [
    "plt.figure(figsize=(15,10))\n",
    "plt.title(\"Distribution of {}\".format(col))\n",
    "plt.xlabel(col)\n",
    "plt.ylabel(\"count\")\n",
    "plt.xticks(fontsize = 10)\n",
    "sns.heatmap(data=data.corr(), annot=True, square=True, cmap=\"plasma\" )\n",
    "plt.show()"
   ]
  },
  {
   "cell_type": "markdown",
   "metadata": {},
   "source": [
    "## 2.4 Conclusion"
   ]
  },
  {
   "cell_type": "markdown",
   "metadata": {},
   "source": [
    "age, lifetime, and avg_class_frequency_current_month have some linear impact on churn."
   ]
  },
  {
   "cell_type": "markdown",
   "metadata": {},
   "source": [
    "##  3. Build a model to predict user churn"
   ]
  },
  {
   "cell_type": "markdown",
   "metadata": {},
   "source": [
    "## 3.1 Divide the data into train and validation sets using the train_test_split() function."
   ]
  },
  {
   "cell_type": "code",
   "execution_count": 14,
   "metadata": {},
   "outputs": [],
   "source": [
    "X = data.drop('Churn', axis = 1)\n",
    "y = data['Churn']"
   ]
  },
  {
   "cell_type": "code",
   "execution_count": 15,
   "metadata": {},
   "outputs": [],
   "source": [
    "X_train, X_test, y_train, y_test = train_test_split(X, y, test_size=0.2, random_state=0)"
   ]
  },
  {
   "cell_type": "markdown",
   "metadata": {},
   "source": [
    "## 3.2 Train the model on the train set with two methods:\n",
    "logistic regression\n",
    "random forest"
   ]
  },
  {
   "cell_type": "code",
   "execution_count": 16,
   "metadata": {},
   "outputs": [],
   "source": [
    "from sklearn.model_selection import train_test_split\n",
    "from sklearn.linear_model import LogisticRegression\n",
    "from sklearn.tree import DecisionTreeClassifier\n",
    "from sklearn.preprocessing import StandardScaler\n",
    " \n",
    "from sklearn.ensemble import RandomForestRegressor\n",
    " \n",
    "from sklearn.ensemble import GradientBoostingRegressor\n",
    " \n",
    "from sklearn.ensemble import RandomForestClassifier, GradientBoostingClassifier\n",
    " \n",
    "from sklearn.metrics import accuracy_score, precision_score, recall_score, f1_score\n",
    "from sklearn.metrics import roc_auc_score\n",
    "from scipy.cluster.hierarchy import dendrogram, linkage "
   ]
  },
  {
   "cell_type": "code",
   "execution_count": 17,
   "metadata": {},
   "outputs": [],
   "source": [
    "def print_all_metrics(y_true, y_pred, y_proba, title = 'Classification metrics'):\n",
    "    print(title)\n",
    "    print('\\tAccuracy: {:.2f}'.format(accuracy_score(y_true, y_pred)))\n",
    "    print('\\tPrecision: {:.2f}'.format(precision_score(y_true, y_pred)))\n",
    "    print('\\tRecall: {:.2f}'.format(recall_score(y_true, y_pred)))\n",
    "    print('\\tF1: {:.2f}'.format(f1_score(y_true, y_pred)))\n",
    "    print('\\tROC_AUC: {:.2f}'.format(roc_auc_score(y_true, y_proba)))"
   ]
  },
  {
   "cell_type": "code",
   "execution_count": 18,
   "metadata": {},
   "outputs": [],
   "source": [
    "scaler = StandardScaler()\n",
    "scaler.fit(X_train)\n",
    " \n",
    "# transform train and test sets\n",
    "X_train_st = scaler.transform(X_train)\n",
    "X_test_st = scaler.transform(X_test)"
   ]
  },
  {
   "cell_type": "code",
   "execution_count": 19,
   "metadata": {},
   "outputs": [
    {
     "name": "stdout",
     "output_type": "stream",
     "text": [
      "Metrics for LogisticRegression:\n",
      "\tAccuracy: 0.92\n",
      "\tPrecision: 0.85\n",
      "\tRecall: 0.82\n",
      "\tF1: 0.84\n",
      "\tROC_AUC: 0.97\n"
     ]
    }
   ],
   "source": [
    "\n",
    "# define the model's algorithm \n",
    "model = LogisticRegression(random_state = 0)\n",
    "\n",
    "# train your model\n",
    "model.fit(X_train, y_train)\n",
    "\n",
    "# use the trained model to make forecasts\n",
    "predictions = model.predict(X_test)\n",
    "probabilities = model.predict_proba(X_test)[:,1]\n",
    "\n",
    "print_all_metrics(y_test, predictions, probabilities, title = 'Metrics for LogisticRegression:')"
   ]
  },
  {
   "cell_type": "code",
   "execution_count": 20,
   "metadata": {},
   "outputs": [
    {
     "name": "stdout",
     "output_type": "stream",
     "text": [
      "Metrics for random forest:\n",
      "\tAccuracy: 0.93\n",
      "\tPrecision: 0.86\n",
      "\tRecall: 0.83\n",
      "\tF1: 0.85\n",
      "\tROC_AUC: 0.97\n"
     ]
    }
   ],
   "source": [
    "rf_model = RandomForestClassifier(n_estimators = 250, random_state = 0)\n",
    "# train the random forest model\n",
    " \n",
    "rf_model.fit(X_train_st, y_train)\n",
    " \n",
    "# use the trained model to make predictions\n",
    "rf_predictions = rf_model.predict(X_test_st)  # write your code here\n",
    "rf_probabilities = rf_model.predict_proba(X_test_st)[:,1] # write your code here\n",
    "\n",
    "print_all_metrics(y_test, rf_predictions, rf_probabilities, title = 'Metrics for random forest:')"
   ]
  },
  {
   "cell_type": "markdown",
   "metadata": {},
   "source": [
    "## Conclusion 3"
   ]
  },
  {
   "cell_type": "markdown",
   "metadata": {},
   "source": [
    "The models are similiar, but the RFC is a littlebit more precision and a slightly higher recall for this reason i would choose the RFC model"
   ]
  },
  {
   "cell_type": "markdown",
   "metadata": {},
   "source": [
    "## 4. Create user clusters"
   ]
  },
  {
   "cell_type": "markdown",
   "metadata": {},
   "source": [
    "\n",
    "Standardize the data.\n",
    "Use the linkage() function to build a matrix of distances based on the standardized feature matrix and plot a dendrogram. Note: rendering the dendrogram may take time! Use the resulting graph to estimate the number of clusters you can single out."
   ]
  },
  {
   "cell_type": "code",
   "execution_count": 21,
   "metadata": {},
   "outputs": [
    {
     "data": {
      "image/png": "[encoded data removed]",
      "text/plain": [
       "<Figure size 1080x720 with 1 Axes>"
      ]
     },
     "metadata": {
      "needs_background": "light"
     },
     "output_type": "display_data"
    }
   ],
   "source": [
    "sc = StandardScaler()\n",
    "x_sc = sc.fit_transform(X)\n",
    "\n",
    "linked = linkage(x_sc, method = 'ward') \n",
    "plt.figure(figsize=(15, 10))  \n",
    "dendrogram(linked, orientation='top')\n",
    "plt.title('Hierarchical clustering for GYM')\n",
    "plt.show() "
   ]
  },
  {
   "cell_type": "markdown",
   "metadata": {},
   "source": [
    "Train the clustering model with the K-means algorithm and predict customer clusters. (Let the number of clusters be n=5, so that it'll be easier to compare your results with those of other students. However, in real life, no one will give you such hints, so you'll have to decide based on the graph from the previous step.)\n"
   ]
  },
  {
   "cell_type": "markdown",
   "metadata": {},
   "source": [
    "Look at the mean feature values for clusters. Does anything catch your eye?\n",
    "Plot distributions of features for the clusters. Do you notice anything?\n",
    "Calculate the churn rate for each cluster (use the groupby() method). Do they differ in terms of churn rate? Which clusters are prone to leaving, and which are loyal?"
   ]
  },
  {
   "cell_type": "code",
   "execution_count": 22,
   "metadata": {},
   "outputs": [],
   "source": [
    "from sklearn.cluster import KMeans"
   ]
  },
  {
   "cell_type": "code",
   "execution_count": 23,
   "metadata": {},
   "outputs": [],
   "source": [
    "km = KMeans(n_clusters = 5, random_state=0)\n",
    "# predict the clusters for observations (the algorithm assigns them a number from 0 to 2)\n",
    "labels = km.fit_predict(x_sc)\n",
    "\n",
    "# store cluster labels in the field of our dataset\n",
    "data['cluster_km'] = labels\n",
    "\n",
    "# get the statistics of the mean feature values per cluster\n",
    "features=data.groupby('cluster_km').mean()\n",
    "\n"
   ]
  },
  {
   "cell_type": "code",
   "execution_count": 24,
   "metadata": {},
   "outputs": [
    {
     "data": {
      "text/html": [
       "<div>\n",
       "<style scoped>\n",
       "    .dataframe tbody tr th:only-of-type {\n",
       "        vertical-align: middle;\n",
       "    }\n",
       "\n",
       "    .dataframe tbody tr th {\n",
       "        vertical-align: top;\n",
       "    }\n",
       "\n",
       "    .dataframe thead th {\n",
       "        text-align: right;\n",
       "    }\n",
       "</style>\n",
       "<table border=\"1\" class=\"dataframe\">\n",
       "  <thead>\n",
       "    <tr style=\"text-align: right;\">\n",
       "      <th></th>\n",
       "      <th>Near_Location</th>\n",
       "      <th>Partner</th>\n",
       "      <th>Promo_friends</th>\n",
       "      <th>Contract_period</th>\n",
       "      <th>Group_visits</th>\n",
       "      <th>Age</th>\n",
       "      <th>Avg_additional_charges_total</th>\n",
       "      <th>Month_to_end_contract</th>\n",
       "      <th>Lifetime</th>\n",
       "      <th>Avg_class_frequency_total</th>\n",
       "      <th>Avg_class_frequency_current_month</th>\n",
       "      <th>Churn</th>\n",
       "    </tr>\n",
       "    <tr>\n",
       "      <th>cluster_km</th>\n",
       "      <th></th>\n",
       "      <th></th>\n",
       "      <th></th>\n",
       "      <th></th>\n",
       "      <th></th>\n",
       "      <th></th>\n",
       "      <th></th>\n",
       "      <th></th>\n",
       "      <th></th>\n",
       "      <th></th>\n",
       "      <th></th>\n",
       "      <th></th>\n",
       "    </tr>\n",
       "  </thead>\n",
       "  <tbody>\n",
       "    <tr>\n",
       "      <td>2</td>\n",
       "      <td>0.945279</td>\n",
       "      <td>0.742489</td>\n",
       "      <td>0.490343</td>\n",
       "      <td>11.896996</td>\n",
       "      <td>0.553648</td>\n",
       "      <td>29.915236</td>\n",
       "      <td>164.601151</td>\n",
       "      <td>10.886266</td>\n",
       "      <td>4.701717</td>\n",
       "      <td>1.994642</td>\n",
       "      <td>1.986228</td>\n",
       "      <td>0.022532</td>\n",
       "    </tr>\n",
       "    <tr>\n",
       "      <td>4</td>\n",
       "      <td>0.968043</td>\n",
       "      <td>0.267643</td>\n",
       "      <td>0.087883</td>\n",
       "      <td>2.925433</td>\n",
       "      <td>0.468708</td>\n",
       "      <td>30.258322</td>\n",
       "      <td>163.559555</td>\n",
       "      <td>2.684421</td>\n",
       "      <td>5.231691</td>\n",
       "      <td>2.901535</td>\n",
       "      <td>2.904995</td>\n",
       "      <td>0.057257</td>\n",
       "    </tr>\n",
       "    <tr>\n",
       "      <td>1</td>\n",
       "      <td>0.998459</td>\n",
       "      <td>0.812018</td>\n",
       "      <td>1.000000</td>\n",
       "      <td>3.115562</td>\n",
       "      <td>0.454545</td>\n",
       "      <td>29.201849</td>\n",
       "      <td>141.185440</td>\n",
       "      <td>2.893682</td>\n",
       "      <td>3.668721</td>\n",
       "      <td>1.736509</td>\n",
       "      <td>1.631155</td>\n",
       "      <td>0.248074</td>\n",
       "    </tr>\n",
       "    <tr>\n",
       "      <td>3</td>\n",
       "      <td>0.000000</td>\n",
       "      <td>0.467772</td>\n",
       "      <td>0.077348</td>\n",
       "      <td>2.232044</td>\n",
       "      <td>0.215470</td>\n",
       "      <td>28.475138</td>\n",
       "      <td>133.715820</td>\n",
       "      <td>2.095764</td>\n",
       "      <td>2.780847</td>\n",
       "      <td>1.649536</td>\n",
       "      <td>1.458297</td>\n",
       "      <td>0.451197</td>\n",
       "    </tr>\n",
       "    <tr>\n",
       "      <td>0</td>\n",
       "      <td>1.000000</td>\n",
       "      <td>0.242667</td>\n",
       "      <td>0.017778</td>\n",
       "      <td>1.960889</td>\n",
       "      <td>0.328000</td>\n",
       "      <td>28.193778</td>\n",
       "      <td>130.930115</td>\n",
       "      <td>1.878222</td>\n",
       "      <td>2.397333</td>\n",
       "      <td>1.293625</td>\n",
       "      <td>1.053260</td>\n",
       "      <td>0.525333</td>\n",
       "    </tr>\n",
       "  </tbody>\n",
       "</table>\n",
       "</div>"
      ],
      "text/plain": [
       "            Near_Location   Partner  Promo_friends  Contract_period  \\\n",
       "cluster_km                                                            \n",
       "2                0.945279  0.742489       0.490343        11.896996   \n",
       "4                0.968043  0.267643       0.087883         2.925433   \n",
       "1                0.998459  0.812018       1.000000         3.115562   \n",
       "3                0.000000  0.467772       0.077348         2.232044   \n",
       "0                1.000000  0.242667       0.017778         1.960889   \n",
       "\n",
       "            Group_visits        Age  Avg_additional_charges_total  \\\n",
       "cluster_km                                                          \n",
       "2               0.553648  29.915236                    164.601151   \n",
       "4               0.468708  30.258322                    163.559555   \n",
       "1               0.454545  29.201849                    141.185440   \n",
       "3               0.215470  28.475138                    133.715820   \n",
       "0               0.328000  28.193778                    130.930115   \n",
       "\n",
       "            Month_to_end_contract  Lifetime  Avg_class_frequency_total  \\\n",
       "cluster_km                                                               \n",
       "2                       10.886266  4.701717                   1.994642   \n",
       "4                        2.684421  5.231691                   2.901535   \n",
       "1                        2.893682  3.668721                   1.736509   \n",
       "3                        2.095764  2.780847                   1.649536   \n",
       "0                        1.878222  2.397333                   1.293625   \n",
       "\n",
       "            Avg_class_frequency_current_month     Churn  \n",
       "cluster_km                                               \n",
       "2                                    1.986228  0.022532  \n",
       "4                                    2.904995  0.057257  \n",
       "1                                    1.631155  0.248074  \n",
       "3                                    1.458297  0.451197  \n",
       "0                                    1.053260  0.525333  "
      ]
     },
     "execution_count": 24,
     "metadata": {},
     "output_type": "execute_result"
    }
   ],
   "source": [
    "features.sort_values(by=\"Churn\")"
   ]
  },
  {
   "cell_type": "code",
   "execution_count": null,
   "metadata": {
    "scrolled": false
   },
   "outputs": [],
   "source": []
  },
  {
   "cell_type": "code",
   "execution_count": 25,
   "metadata": {
    "scrolled": false
   },
   "outputs": [
    {
     "data": {
      "image/png": "[encoded data removed]",
      "text/plain": [
       "<Figure size 1080x360 with 2 Axes>"
      ]
     },
     "metadata": {
      "needs_background": "light"
     },
     "output_type": "display_data"
    },
    {
     "data": {
      "image/png": "[encoded data removed]",
      "text/plain": [
       "<Figure size 1080x360 with 2 Axes>"
      ]
     },
     "metadata": {
      "needs_background": "light"
     },
     "output_type": "display_data"
    },
    {
     "data": {
      "image/png": "[encoded data removed]",
      "text/plain": [
       "<Figure size 1080x360 with 2 Axes>"
      ]
     },
     "metadata": {
      "needs_background": "light"
     },
     "output_type": "display_data"
    },
    {
     "data": {
      "image/png": "[encoded data removed]",
      "text/plain": [
       "<Figure size 1080x360 with 2 Axes>"
      ]
     },
     "metadata": {
      "needs_background": "light"
     },
     "output_type": "display_data"
    },
    {
     "data": {
      "image/png": "[encoded data removed]",
      "text/plain": [
       "<Figure size 1080x360 with 2 Axes>"
      ]
     },
     "metadata": {
      "needs_background": "light"
     },
     "output_type": "display_data"
    },
    {
     "data": {
      "image/png": "[encoded data removed]",
      "text/plain": [
       "<Figure size 1080x360 with 2 Axes>"
      ]
     },
     "metadata": {
      "needs_background": "light"
     },
     "output_type": "display_data"
    },
    {
     "data": {
      "text/plain": [
       "<Figure size 1080x360 with 0 Axes>"
      ]
     },
     "metadata": {},
     "output_type": "display_data"
    }
   ],
   "source": [
    "label = [0,1,2,3,4]\n",
    "x = 1\n",
    "plt.figure(figsize=(15,5))\n",
    "for column in data.columns:\n",
    "    if x > 2:\n",
    "        plt.show()\n",
    "        plt.figure(figsize=(15,5))\n",
    "        x = 1\n",
    "\n",
    "    x0 = data[data['cluster_km']==0][column]\n",
    "    x1 = data[data['cluster_km']==1][column]\n",
    "    x2 = data[data['cluster_km']==2][column]\n",
    "    x3 = data[data['cluster_km']==3][column]\n",
    "    x4 = data[data['cluster_km']==4][column]\n",
    "\n",
    "    if column == 'cluster_km':\n",
    "        break\n",
    "    plt.subplot(1, 2, x)\n",
    "    plt.title(column)\n",
    "    plt.hist([x0,x1,x2,x3,x4],label=label, density=True, histtype='bar', stacked=True)\n",
    "    plt.xlabel(column)\n",
    "    plt.legend()\n",
    "    plt.ylabel('sum')\n",
    "    x += 1"
   ]
  },
  {
   "cell_type": "markdown",
   "metadata": {},
   "source": [
    "## 4. Conclusion"
   ]
  },
  {
   "cell_type": "markdown",
   "metadata": {},
   "source": [
    "I choose K = 5 and create 5 Clusters.\n",
    "2 Clusters has the highest Churnrate. Special they have short month contracts, less frequency visits, shortest lifetime and the average with 28 years is the lowest too compare to the other clusters.\n",
    "1 cluster looks like  they visit up to 7 days per weak and have the  second lowest churn rate of all clusters, this group has the highest average age. \n",
    "1 cluster with the lowest churn rate have the longest contracts up to 12 month. \n",
    "\n"
   ]
  },
  {
   "cell_type": "markdown",
   "metadata": {},
   "source": [
    "## 5. Come up with conclusions and basic recommendations on working with customers"
   ]
  },
  {
   "cell_type": "markdown",
   "metadata": {},
   "source": [
    "1.  It seems like younger people tend to leave. \n",
    "    The lifetime is seems like to have a very big impact on churn.\n",
    "    i would drop the gender and  phonenumber because the different is nearly the same\n",
    "2.  people tend to stay when: they visit 2 times per month, passed the first 3 month.\n",
    "    people tent to churn in the first month, maybe there is something wrong with the service\n",
    "3.  age, lifetime, and avg_class_frequency_current_month have some linear impact on churn.\n",
    "4.  The models are similiar, but the RFC is a littlebit more precision and a slightly higher recall for this reason i would         choose the RFC model\n",
    "5.  I choose K = 5 and create 5 Clusters.\n",
    "    2 Clusters has the highest Churnrate. Special they have short month contracts, less frequency visits, shortest lifetime and     the average with 28 years is the lowest too compare to the other clusters.\n",
    "    1 cluster looks like  they visit up to 7 days per weak and have the  second lowest churn rate of all clusters, this group       has the highest average age. \n",
    "    1 cluster with the lowest churn rate have the longest contracts up to 12 month. \n"
   ]
  },
  {
   "cell_type": "markdown",
   "metadata": {},
   "source": [
    "## 5.1 Recommendations"
   ]
  },
  {
   "cell_type": "markdown",
   "metadata": {},
   "source": [
    "I would suggest, to take more care in the first month, because there is the churn rate at its peak. Possibly something in the start month to hard for novices.  Maybe some more service until they passed the 3. month \n",
    "The focus on 12 month contracts could lower the churn rate, maybe some special offers for 12 month contracts would be great.\n",
    "people churn less if they visit at least twice per month the gym. The RFC model performs best.\n",
    "\n"
   ]
  },
  {
   "cell_type": "code",
   "execution_count": null,
   "metadata": {},
   "outputs": [],
   "source": []
  }
 ],
 "metadata": {
  "ExecuteTimeLog": [
   {
    "duration": 92,
    "start_time": "2021-06-19T17:48:08.783Z"
   },
   {
    "duration": 10485,
    "start_time": "2021-06-19T17:48:48.812Z"
   },
   {
    "duration": 26,
    "start_time": "2021-06-19T17:49:41.375Z"
   },
   {
    "duration": 14,
    "start_time": "2021-06-19T17:49:46.823Z"
   },
   {
    "duration": 28,
    "start_time": "2021-06-19T17:49:54.980Z"
   },
   {
    "duration": 19,
    "start_time": "2021-06-19T17:49:57.486Z"
   },
   {
    "duration": 114,
    "start_time": "2021-06-19T17:50:20.774Z"
   },
   {
    "duration": 9,
    "start_time": "2021-06-19T17:51:09.482Z"
   },
   {
    "duration": 17,
    "start_time": "2021-06-19T17:51:12.840Z"
   },
   {
    "duration": 12,
    "start_time": "2021-06-19T17:51:21.554Z"
   },
   {
    "duration": 69,
    "start_time": "2021-06-19T17:56:02.974Z"
   },
   {
    "duration": 78,
    "start_time": "2021-06-19T17:56:44.499Z"
   },
   {
    "duration": 107,
    "start_time": "2021-06-19T17:57:07.161Z"
   },
   {
    "duration": 11,
    "start_time": "2021-06-19T17:58:51.504Z"
   },
   {
    "duration": 601,
    "start_time": "2021-06-19T18:00:44.302Z"
   },
   {
    "duration": 7,
    "start_time": "2021-06-19T18:00:56.944Z"
   },
   {
    "duration": 6,
    "start_time": "2021-06-19T18:01:09.171Z"
   },
   {
    "duration": 258,
    "start_time": "2021-06-19T18:01:33.007Z"
   },
   {
    "duration": 4,
    "start_time": "2021-06-19T18:01:34.999Z"
   },
   {
    "duration": 21,
    "start_time": "2021-06-19T18:01:36.645Z"
   },
   {
    "duration": 4,
    "start_time": "2021-06-19T18:02:53.057Z"
   },
   {
    "duration": 21,
    "start_time": "2021-06-19T18:02:55.870Z"
   },
   {
    "duration": 9,
    "start_time": "2021-06-19T18:03:22.610Z"
   },
   {
    "duration": 20,
    "start_time": "2021-06-19T18:03:24.387Z"
   },
   {
    "duration": 2558,
    "start_time": "2021-06-19T18:20:06.833Z"
   },
   {
    "duration": 788,
    "start_time": "2021-06-19T18:21:08.709Z"
   },
   {
    "duration": 127,
    "start_time": "2021-06-19T18:22:34.937Z"
   },
   {
    "duration": 282,
    "start_time": "2021-06-19T18:22:42.083Z"
   },
   {
    "duration": 7832,
    "start_time": "2021-06-19T18:23:25.179Z"
   },
   {
    "duration": 293,
    "start_time": "2021-06-19T18:24:26.607Z"
   },
   {
    "duration": 6880,
    "start_time": "2021-06-19T18:25:33.370Z"
   },
   {
    "duration": 393,
    "start_time": "2021-06-19T18:26:12.594Z"
   },
   {
    "duration": 8958,
    "start_time": "2021-06-19T18:26:30.077Z"
   },
   {
    "duration": 741,
    "start_time": "2021-06-19T18:33:01.994Z"
   },
   {
    "duration": 716,
    "start_time": "2021-06-19T18:33:09.677Z"
   },
   {
    "duration": 259,
    "start_time": "2021-06-19T18:33:35.580Z"
   },
   {
    "duration": 709,
    "start_time": "2021-06-19T18:33:55.006Z"
   },
   {
    "duration": 8925,
    "start_time": "2021-06-19T18:36:01.034Z"
   },
   {
    "duration": 8116,
    "start_time": "2021-06-19T18:43:43.814Z"
   },
   {
    "duration": 8670,
    "start_time": "2021-06-19T18:44:10.730Z"
   },
   {
    "duration": 7914,
    "start_time": "2021-06-19T18:44:30.910Z"
   },
   {
    "duration": 89,
    "start_time": "2021-06-19T18:54:47.437Z"
   },
   {
    "duration": 877,
    "start_time": "2021-06-19T18:54:55.318Z"
   },
   {
    "duration": 1596,
    "start_time": "2021-06-19T18:58:59.834Z"
   },
   {
    "duration": 872,
    "start_time": "2021-06-19T18:59:24.951Z"
   },
   {
    "duration": 724,
    "start_time": "2021-06-19T18:59:33.295Z"
   },
   {
    "duration": 855,
    "start_time": "2021-06-19T19:00:08.823Z"
   },
   {
    "duration": 739,
    "start_time": "2021-06-19T19:02:04.582Z"
   },
   {
    "duration": 1618,
    "start_time": "2021-06-19T19:02:20.590Z"
   },
   {
    "duration": 273,
    "start_time": "2021-06-19T19:09:59.704Z"
   },
   {
    "duration": 5,
    "start_time": "2021-06-19T19:10:06.487Z"
   },
   {
    "duration": 8,
    "start_time": "2021-06-19T19:10:21.610Z"
   },
   {
    "duration": 274,
    "start_time": "2021-06-19T19:12:45.131Z"
   },
   {
    "duration": 3,
    "start_time": "2021-06-19T19:13:14.645Z"
   },
   {
    "duration": 43,
    "start_time": "2021-06-19T19:13:16.426Z"
   },
   {
    "duration": 290,
    "start_time": "2021-06-19T19:13:54.543Z"
   },
   {
    "duration": 42,
    "start_time": "2021-06-19T19:14:14.132Z"
   },
   {
    "duration": 281,
    "start_time": "2021-06-19T19:16:33.202Z"
   },
   {
    "duration": 255,
    "start_time": "2021-06-19T19:16:47.213Z"
   },
   {
    "duration": 3,
    "start_time": "2021-06-19T19:17:24.458Z"
   },
   {
    "duration": 282,
    "start_time": "2021-06-19T19:17:27.349Z"
   },
   {
    "duration": 10,
    "start_time": "2021-06-19T19:18:07.886Z"
   },
   {
    "duration": 42,
    "start_time": "2021-06-19T19:18:10.404Z"
   },
   {
    "duration": 768,
    "start_time": "2021-06-19T19:18:12.786Z"
   },
   {
    "duration": 521,
    "start_time": "2021-06-19T19:18:27.879Z"
   },
   {
    "duration": 6,
    "start_time": "2021-06-19T19:19:11.800Z"
   },
   {
    "duration": 1430,
    "start_time": "2021-06-19T19:19:29.582Z"
   },
   {
    "duration": 5,
    "start_time": "2021-06-19T19:19:43.896Z"
   },
   {
    "duration": 5,
    "start_time": "2021-06-19T19:20:09.251Z"
   },
   {
    "duration": 516,
    "start_time": "2021-06-19T19:20:14.524Z"
   },
   {
    "duration": 52,
    "start_time": "2021-06-19T19:20:31.570Z"
   },
   {
    "duration": 54,
    "start_time": "2021-06-19T19:20:46.866Z"
   },
   {
    "duration": 53,
    "start_time": "2021-06-19T19:21:22.093Z"
   },
   {
    "duration": 5,
    "start_time": "2021-06-19T19:32:15.435Z"
   },
   {
    "duration": 273,
    "start_time": "2021-06-19T19:33:11.522Z"
   },
   {
    "duration": 141534,
    "start_time": "2021-06-19T19:33:24.231Z"
   },
   {
    "duration": 266,
    "start_time": "2021-06-19T19:42:36.837Z"
   },
   {
    "duration": 28,
    "start_time": "2021-06-19T19:43:13.360Z"
   },
   {
    "duration": 2230,
    "start_time": "2021-06-19T19:43:14.908Z"
   },
   {
    "duration": 1750,
    "start_time": "2021-06-19T19:43:39.682Z"
   },
   {
    "duration": 1587,
    "start_time": "2021-06-19T19:43:48.474Z"
   },
   {
    "duration": 17,
    "start_time": "2021-06-19T19:44:58.042Z"
   },
   {
    "duration": 20,
    "start_time": "2021-06-19T19:45:28.793Z"
   },
   {
    "duration": 17077,
    "start_time": "2021-06-19T19:47:41.089Z"
   },
   {
    "duration": 876,
    "start_time": "2021-06-19T19:48:05.397Z"
   },
   {
    "duration": 878,
    "start_time": "2021-06-19T19:48:15.870Z"
   },
   {
    "duration": 279,
    "start_time": "2021-06-19T19:49:13.258Z"
   },
   {
    "duration": 8881,
    "start_time": "2021-06-19T19:49:37.654Z"
   },
   {
    "duration": 1928,
    "start_time": "2021-06-19T19:52:58.550Z"
   },
   {
    "duration": 21,
    "start_time": "2021-06-19T19:53:03.650Z"
   },
   {
    "duration": 6382,
    "start_time": "2021-06-19T19:53:06.934Z"
   },
   {
    "duration": 21,
    "start_time": "2021-06-19T20:21:36.095Z"
   },
   {
    "duration": 57,
    "start_time": "2021-06-19T20:32:43.623Z"
   },
   {
    "duration": 70,
    "start_time": "2021-06-19T20:33:01.456Z"
   },
   {
    "duration": 528,
    "start_time": "2021-06-19T20:35:03.687Z"
   },
   {
    "duration": 1016,
    "start_time": "2021-06-19T20:35:25.423Z"
   },
   {
    "duration": 2539,
    "start_time": "2021-06-19T20:35:37.618Z"
   },
   {
    "duration": 1396,
    "start_time": "2021-06-19T20:36:06.981Z"
   },
   {
    "duration": 4,
    "start_time": "2021-06-19T20:38:44.851Z"
   },
   {
    "duration": 8943,
    "start_time": "2021-06-19T20:45:13.067Z"
   },
   {
    "duration": 27,
    "start_time": "2021-06-19T20:45:22.013Z"
   },
   {
    "duration": 23,
    "start_time": "2021-06-19T20:45:22.043Z"
   },
   {
    "duration": 128,
    "start_time": "2021-06-19T20:45:22.068Z"
   },
   {
    "duration": 8,
    "start_time": "2021-06-19T20:45:22.199Z"
   },
   {
    "duration": 23,
    "start_time": "2021-06-19T20:45:22.209Z"
   },
   {
    "duration": 26,
    "start_time": "2021-06-19T20:45:22.235Z"
   },
   {
    "duration": 136,
    "start_time": "2021-06-19T20:45:22.265Z"
   },
   {
    "duration": 10,
    "start_time": "2021-06-19T20:45:22.405Z"
   },
   {
    "duration": 52,
    "start_time": "2021-06-19T20:45:22.418Z"
   },
   {
    "duration": 13,
    "start_time": "2021-06-19T20:45:22.473Z"
   },
   {
    "duration": 8394,
    "start_time": "2021-06-19T20:45:22.488Z"
   },
   {
    "duration": 1615,
    "start_time": "2021-06-19T20:45:30.885Z"
   },
   {
    "duration": 7,
    "start_time": "2021-06-19T20:45:32.504Z"
   },
   {
    "duration": 11,
    "start_time": "2021-06-19T20:45:32.514Z"
   },
   {
    "duration": 32,
    "start_time": "2021-06-19T20:45:32.528Z"
   },
   {
    "duration": 12,
    "start_time": "2021-06-19T20:45:32.563Z"
   },
   {
    "duration": 14,
    "start_time": "2021-06-19T20:45:32.578Z"
   },
   {
    "duration": 87,
    "start_time": "2021-06-19T20:45:32.595Z"
   },
   {
    "duration": 1262,
    "start_time": "2021-06-19T20:45:32.685Z"
   },
   {
    "duration": 135221,
    "start_time": "2021-06-19T20:45:33.955Z"
   },
   {
    "duration": 22,
    "start_time": "2021-06-19T20:47:49.178Z"
   },
   {
    "duration": 1768,
    "start_time": "2021-06-19T20:47:49.204Z"
   },
   {
    "duration": 21,
    "start_time": "2021-06-19T20:47:50.974Z"
   },
   {
    "duration": 6365,
    "start_time": "2021-06-19T20:47:50.998Z"
   }
  ],
  "kernelspec": {
   "display_name": "Python 3",
   "language": "python",
   "name": "python3"
  },
  "language_info": {
   "codemirror_mode": {
    "name": "ipython",
    "version": 3
   },
   "file_extension": ".py",
   "mimetype": "text/x-python",
   "name": "python",
   "nbconvert_exporter": "python",
   "pygments_lexer": "ipython3",
   "version": "3.8.8"
  },
  "toc": {
   "base_numbering": 1,
   "nav_menu": {},
   "number_sections": true,
   "sideBar": true,
   "skip_h1_title": true,
   "title_cell": "Table of Contents",
   "title_sidebar": "Contents",
   "toc_cell": true,
   "toc_position": {
    "height": "calc(100% - 180px)",
    "left": "10px",
    "top": "150px",
    "width": "366.391px"
   },
   "toc_section_display": true,
   "toc_window_display": true
  }
 },
 "nbformat": 4,
 "nbformat_minor": 2
}
