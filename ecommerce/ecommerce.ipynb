{
 "cells": [
  {
   "cell_type": "markdown",
   "metadata": {
    "toc": true
   },
   "source": [
    "<h1>Table of Contents<span class=\"tocSkip\"></span></h1>\n",
    "<div class=\"toc\"><ul class=\"toc-item\"><li><ul class=\"toc-item\"><li><span><a href=\"#Team-Lead-comment\" data-toc-modified-id=\"Team-Lead-comment-0.1\"><span class=\"toc-item-num\">0.1&nbsp;&nbsp;</span>Team Lead comment</a></span></li><li><span><a href=\"#Team-Lead-comment-2\" data-toc-modified-id=\"Team-Lead-comment-2-0.2\"><span class=\"toc-item-num\">0.2&nbsp;&nbsp;</span>Team Lead comment 2</a></span></li><li><span><a href=\"#Team-Lead-comment-2\" data-toc-modified-id=\"Team-Lead-comment-2-0.3\"><span class=\"toc-item-num\">0.3&nbsp;&nbsp;</span>Team Lead comment 2</a></span></li></ul></li><li><span><a href=\"#0.-Goals\" data-toc-modified-id=\"0.-Goals-1\"><span class=\"toc-item-num\">1&nbsp;&nbsp;</span>0. Goals</a></span></li><li><span><a href=\"#1-import-libaries-and-explore-data\" data-toc-modified-id=\"1-import-libaries-and-explore-data-2\"><span class=\"toc-item-num\">2&nbsp;&nbsp;</span>1 import libaries and explore data</a></span></li><li><span><a href=\"#2.-Datapreprocessing\" data-toc-modified-id=\"2.-Datapreprocessing-3\"><span class=\"toc-item-num\">3&nbsp;&nbsp;</span>2. Datapreprocessing</a></span></li><li><span><a href=\"#2-Conclusion\" data-toc-modified-id=\"2-Conclusion-4\"><span class=\"toc-item-num\">4&nbsp;&nbsp;</span>2 Conclusion</a></span></li><li><span><a href=\"#4.-EDA\" data-toc-modified-id=\"4.-EDA-5\"><span class=\"toc-item-num\">5&nbsp;&nbsp;</span>4. EDA</a></span></li><li><span><a href=\"#Conclusion-EDA\" data-toc-modified-id=\"Conclusion-EDA-6\"><span class=\"toc-item-num\">6&nbsp;&nbsp;</span>Conclusion EDA</a></span></li><li><span><a href=\"#5-1-Ideas-for-goal-1:\" data-toc-modified-id=\"5-1-Ideas-for-goal-1:-7\"><span class=\"toc-item-num\">7&nbsp;&nbsp;</span>5 1 Ideas for goal 1:</a></span></li><li><span><a href=\"#Conclusion-1-for-bundleproducts\" data-toc-modified-id=\"Conclusion-1-for-bundleproducts-8\"><span class=\"toc-item-num\">8&nbsp;&nbsp;</span>Conclusion 1 for bundleproducts</a></span></li><li><span><a href=\"#Conclusion-1-for-soloproducts\" data-toc-modified-id=\"Conclusion-1-for-soloproducts-9\"><span class=\"toc-item-num\">9&nbsp;&nbsp;</span>Conclusion 1 for soloproducts</a></span></li><li><span><a href=\"#Conclusion-2-for-bundleproducts\" data-toc-modified-id=\"Conclusion-2-for-bundleproducts-10\"><span class=\"toc-item-num\">10&nbsp;&nbsp;</span>Conclusion 2 for bundleproducts</a></span></li><li><span><a href=\"#Conclusion-2-for-soloproducts\" data-toc-modified-id=\"Conclusion-2-for-soloproducts-11\"><span class=\"toc-item-num\">11&nbsp;&nbsp;</span>Conclusion 2 for soloproducts</a></span></li><li><span><a href=\"#Category-selling-distribution\" data-toc-modified-id=\"Category-selling-distribution-12\"><span class=\"toc-item-num\">12&nbsp;&nbsp;</span>Category selling distribution</a></span></li><li><span><a href=\"#Conclusion-category-selling-distribution\" data-toc-modified-id=\"Conclusion-category-selling-distribution-13\"><span class=\"toc-item-num\">13&nbsp;&nbsp;</span>Conclusion category selling distribution</a></span></li><li><span><a href=\"#weekly-analysis\" data-toc-modified-id=\"weekly-analysis-14\"><span class=\"toc-item-num\">14&nbsp;&nbsp;</span>weekly analysis</a></span></li><li><span><a href=\"#Conclusion-weekly-analysis\" data-toc-modified-id=\"Conclusion-weekly-analysis-15\"><span class=\"toc-item-num\">15&nbsp;&nbsp;</span>Conclusion weekly analysis</a></span></li><li><span><a href=\"#Top-10-best-selling-products\" data-toc-modified-id=\"Top-10-best-selling-products-16\"><span class=\"toc-item-num\">16&nbsp;&nbsp;</span>Top 10 best selling products</a></span></li><li><span><a href=\"#Top-10-best-selling-products-conclusion\" data-toc-modified-id=\"Top-10-best-selling-products-conclusion-17\"><span class=\"toc-item-num\">17&nbsp;&nbsp;</span>Top 10 best selling products conclusion</a></span></li><li><span><a href=\"#Top-10-worst-selling-products\" data-toc-modified-id=\"Top-10-worst-selling-products-18\"><span class=\"toc-item-num\">18&nbsp;&nbsp;</span>Top 10 worst selling products</a></span></li><li><span><a href=\"#Top-10-worst-selling-products-conclusion\" data-toc-modified-id=\"Top-10-worst-selling-products-conclusion-19\"><span class=\"toc-item-num\">19&nbsp;&nbsp;</span>Top 10 worst selling products conclusion</a></span></li><li><span><a href=\"#Correlation\" data-toc-modified-id=\"Correlation-20\"><span class=\"toc-item-num\">20&nbsp;&nbsp;</span>Correlation</a></span></li><li><span><a href=\"#Correlation-conclusion\" data-toc-modified-id=\"Correlation-conclusion-21\"><span class=\"toc-item-num\">21&nbsp;&nbsp;</span>Correlation conclusion</a></span></li><li><span><a href=\"#Hypothesis-testing\" data-toc-modified-id=\"Hypothesis-testing-22\"><span class=\"toc-item-num\">22&nbsp;&nbsp;</span>Hypothesis testing</a></span></li><li><span><a href=\"#Hypothesis-conclusion\" data-toc-modified-id=\"Hypothesis-conclusion-23\"><span class=\"toc-item-num\">23&nbsp;&nbsp;</span>Hypothesis conclusion</a></span></li><li><span><a href=\"#General-Conclusion\" data-toc-modified-id=\"General-Conclusion-24\"><span class=\"toc-item-num\">24&nbsp;&nbsp;</span>General Conclusion</a></span></li><li><span><a href=\"#Recommendation\" data-toc-modified-id=\"Recommendation-25\"><span class=\"toc-item-num\">25&nbsp;&nbsp;</span>Recommendation</a></span></li><li><span><a href=\"#Presentation\" data-toc-modified-id=\"Presentation-26\"><span class=\"toc-item-num\">26&nbsp;&nbsp;</span>Presentation</a></span></li></ul></div>"
   ]
  },
  {
   "cell_type": "markdown",
   "metadata": {},
   "source": [
    "## 0. Goals \n",
    "What do you want to achieve and why? \\\n",
    "Analyze the product range, determine relationships and trends for a good item overview and recommendations\\\n",
    "Who's interested in what you produce?\\\n",
    "The productmanager and me \\\n",
    "What decisions will be made based on your analysis?\\\n",
    "Expand or shrink the group of products"
   ]
  },
  {
   "cell_type": "code",
   "execution_count": null,
   "metadata": {},
   "outputs": [],
   "source": []
  },
  {
   "cell_type": "markdown",
   "metadata": {},
   "source": [
    "## 1 import libaries and explore data"
   ]
  },
  {
   "cell_type": "code",
   "execution_count": 1,
   "metadata": {},
   "outputs": [
    {
     "name": "stdout",
     "output_type": "stream",
     "text": [
      "Defaulting to user installation because normal site-packages is not writeable\n",
      "Requirement already satisfied: downcast in /home/jovyan/.local/lib/python3.7/site-packages (0.0.8)\n",
      "Defaulting to user installation because normal site-packages is not writeable\n",
      "Requirement already up-to-date: seaborn in /home/jovyan/.local/lib/python3.7/site-packages (0.11.1)\n",
      "Requirement already satisfied, skipping upgrade: matplotlib>=2.2 in /home/jovyan/.local/lib/python3.7/site-packages (from seaborn) (3.4.2)\n",
      "Requirement already satisfied, skipping upgrade: scipy>=1.0 in /opt/conda/lib/python3.7/site-packages (from seaborn) (1.4.1)\n",
      "Requirement already satisfied, skipping upgrade: numpy>=1.15 in /opt/conda/lib/python3.7/site-packages (from seaborn) (1.19.5)\n",
      "Requirement already satisfied, skipping upgrade: pandas>=0.23 in /home/jovyan/.local/lib/python3.7/site-packages (from seaborn) (1.3.1)\n",
      "Requirement already satisfied, skipping upgrade: cycler>=0.10 in /opt/conda/lib/python3.7/site-packages (from matplotlib>=2.2->seaborn) (0.10.0)\n",
      "Requirement already satisfied, skipping upgrade: pillow>=6.2.0 in /opt/conda/lib/python3.7/site-packages (from matplotlib>=2.2->seaborn) (7.0.0)\n",
      "Requirement already satisfied, skipping upgrade: python-dateutil>=2.7 in /opt/conda/lib/python3.7/site-packages (from matplotlib>=2.2->seaborn) (2.8.1)\n",
      "Requirement already satisfied, skipping upgrade: kiwisolver>=1.0.1 in /opt/conda/lib/python3.7/site-packages (from matplotlib>=2.2->seaborn) (1.3.1)\n",
      "Requirement already satisfied, skipping upgrade: pyparsing>=2.2.1 in /opt/conda/lib/python3.7/site-packages (from matplotlib>=2.2->seaborn) (2.4.7)\n",
      "Requirement already satisfied, skipping upgrade: pytz>=2017.3 in /opt/conda/lib/python3.7/site-packages (from pandas>=0.23->seaborn) (2021.1)\n",
      "Requirement already satisfied, skipping upgrade: six in /opt/conda/lib/python3.7/site-packages (from cycler>=0.10->matplotlib>=2.2->seaborn) (1.15.0)\n"
     ]
    }
   ],
   "source": [
    "\n",
    "!pip install downcast\n",
    "!pip install -U seaborn "
   ]
  },
  {
   "cell_type": "code",
   "execution_count": 2,
   "metadata": {},
   "outputs": [],
   "source": [
    "from collections import Counter\n",
    "import pandas as pd\n",
    "import numpy as np\n",
    "from scipy import stats as st\n",
    "import matplotlib.pyplot as plt \n",
    "from functools import reduce\n",
    "import math\n",
    "import warnings\n",
    "import seaborn as sns\n",
    "import datetime as dt\n",
    "import datetime\n",
    "\n",
    "from downcast import reduce\n",
    "from sklearn.preprocessing import StandardScaler\n",
    "from sklearn.model_selection import train_test_split\n",
    "from sklearn.linear_model import Lasso, Ridge\n",
    "from sklearn.tree import DecisionTreeRegressor\n",
    "from sklearn.ensemble import RandomForestRegressor, GradientBoostingRegressor\n",
    "import matplotlib.pyplot as plt\n",
    "from sklearn.metrics import mean_absolute_error, mean_squared_error, r2_score\n",
    "warnings.filterwarnings(\"ignore\")\n",
    "pd.set_option('max_colwidth', 400)"
   ]
  },
  {
   "cell_type": "code",
   "execution_count": 3,
   "metadata": {
    "scrolled": false
   },
   "outputs": [],
   "source": [
    "try:\n",
    "    data=pd.read_csv(r'C:\\Users\\49157\\Desktop\\p100eco\\ecommerce_dataset_us.csv', sep = \"\\t\")\n",
    "except:\n",
    "    data=pd.read_csv(r'/datasets/ecommerce_dataset_us.csv', sep = \"\\t\")"
   ]
  },
  {
   "cell_type": "markdown",
   "metadata": {},
   "source": [
    "## 2. Datapreprocessing\n",
    "-Study missing values\\\n",
    "-Study type correspondence\\\n",
    "-Study duplicate values\\\n",
    "-Check the correctness of column names\\\n",
    "-Rename the columns\\\n",
    "-Remove duplicates\\\n",
    "-Convert types\\\n",
    "-Replace missing values\n"
   ]
  },
  {
   "cell_type": "code",
   "execution_count": 4,
   "metadata": {},
   "outputs": [
    {
     "data": {
      "text/html": [
       "<div>\n",
       "<style scoped>\n",
       "    .dataframe tbody tr th:only-of-type {\n",
       "        vertical-align: middle;\n",
       "    }\n",
       "\n",
       "    .dataframe tbody tr th {\n",
       "        vertical-align: top;\n",
       "    }\n",
       "\n",
       "    .dataframe thead th {\n",
       "        text-align: right;\n",
       "    }\n",
       "</style>\n",
       "<table border=\"1\" class=\"dataframe\">\n",
       "  <thead>\n",
       "    <tr style=\"text-align: right;\">\n",
       "      <th></th>\n",
       "      <th>InvoiceNo</th>\n",
       "      <th>StockCode</th>\n",
       "      <th>Description</th>\n",
       "      <th>Quantity</th>\n",
       "      <th>InvoiceDate</th>\n",
       "      <th>UnitPrice</th>\n",
       "      <th>CustomerID</th>\n",
       "    </tr>\n",
       "  </thead>\n",
       "  <tbody>\n",
       "    <tr>\n",
       "      <th>0</th>\n",
       "      <td>536365</td>\n",
       "      <td>85123A</td>\n",
       "      <td>WHITE HANGING HEART T-LIGHT HOLDER</td>\n",
       "      <td>6</td>\n",
       "      <td>11/29/2018 08:26</td>\n",
       "      <td>2.55</td>\n",
       "      <td>17850.0</td>\n",
       "    </tr>\n",
       "    <tr>\n",
       "      <th>1</th>\n",
       "      <td>536365</td>\n",
       "      <td>71053</td>\n",
       "      <td>WHITE METAL LANTERN</td>\n",
       "      <td>6</td>\n",
       "      <td>11/29/2018 08:26</td>\n",
       "      <td>3.39</td>\n",
       "      <td>17850.0</td>\n",
       "    </tr>\n",
       "    <tr>\n",
       "      <th>2</th>\n",
       "      <td>536365</td>\n",
       "      <td>84406B</td>\n",
       "      <td>CREAM CUPID HEARTS COAT HANGER</td>\n",
       "      <td>8</td>\n",
       "      <td>11/29/2018 08:26</td>\n",
       "      <td>2.75</td>\n",
       "      <td>17850.0</td>\n",
       "    </tr>\n",
       "    <tr>\n",
       "      <th>3</th>\n",
       "      <td>536365</td>\n",
       "      <td>84029G</td>\n",
       "      <td>KNITTED UNION FLAG HOT WATER BOTTLE</td>\n",
       "      <td>6</td>\n",
       "      <td>11/29/2018 08:26</td>\n",
       "      <td>3.39</td>\n",
       "      <td>17850.0</td>\n",
       "    </tr>\n",
       "    <tr>\n",
       "      <th>4</th>\n",
       "      <td>536365</td>\n",
       "      <td>84029E</td>\n",
       "      <td>RED WOOLLY HOTTIE WHITE HEART.</td>\n",
       "      <td>6</td>\n",
       "      <td>11/29/2018 08:26</td>\n",
       "      <td>3.39</td>\n",
       "      <td>17850.0</td>\n",
       "    </tr>\n",
       "    <tr>\n",
       "      <th>5</th>\n",
       "      <td>536365</td>\n",
       "      <td>22752</td>\n",
       "      <td>SET 7 BABUSHKA NESTING BOXES</td>\n",
       "      <td>2</td>\n",
       "      <td>11/29/2018 08:26</td>\n",
       "      <td>7.65</td>\n",
       "      <td>17850.0</td>\n",
       "    </tr>\n",
       "    <tr>\n",
       "      <th>6</th>\n",
       "      <td>536365</td>\n",
       "      <td>21730</td>\n",
       "      <td>GLASS STAR FROSTED T-LIGHT HOLDER</td>\n",
       "      <td>6</td>\n",
       "      <td>11/29/2018 08:26</td>\n",
       "      <td>4.25</td>\n",
       "      <td>17850.0</td>\n",
       "    </tr>\n",
       "    <tr>\n",
       "      <th>7</th>\n",
       "      <td>536366</td>\n",
       "      <td>22633</td>\n",
       "      <td>HAND WARMER UNION JACK</td>\n",
       "      <td>6</td>\n",
       "      <td>11/29/2018 08:28</td>\n",
       "      <td>1.85</td>\n",
       "      <td>17850.0</td>\n",
       "    </tr>\n",
       "    <tr>\n",
       "      <th>8</th>\n",
       "      <td>536366</td>\n",
       "      <td>22632</td>\n",
       "      <td>HAND WARMER RED POLKA DOT</td>\n",
       "      <td>6</td>\n",
       "      <td>11/29/2018 08:28</td>\n",
       "      <td>1.85</td>\n",
       "      <td>17850.0</td>\n",
       "    </tr>\n",
       "    <tr>\n",
       "      <th>9</th>\n",
       "      <td>536367</td>\n",
       "      <td>84879</td>\n",
       "      <td>ASSORTED COLOUR BIRD ORNAMENT</td>\n",
       "      <td>32</td>\n",
       "      <td>11/29/2018 08:34</td>\n",
       "      <td>1.69</td>\n",
       "      <td>13047.0</td>\n",
       "    </tr>\n",
       "  </tbody>\n",
       "</table>\n",
       "</div>"
      ],
      "text/plain": [
       "  InvoiceNo StockCode                          Description  Quantity  \\\n",
       "0    536365    85123A   WHITE HANGING HEART T-LIGHT HOLDER         6   \n",
       "1    536365     71053                  WHITE METAL LANTERN         6   \n",
       "2    536365    84406B       CREAM CUPID HEARTS COAT HANGER         8   \n",
       "3    536365    84029G  KNITTED UNION FLAG HOT WATER BOTTLE         6   \n",
       "4    536365    84029E       RED WOOLLY HOTTIE WHITE HEART.         6   \n",
       "5    536365     22752         SET 7 BABUSHKA NESTING BOXES         2   \n",
       "6    536365     21730    GLASS STAR FROSTED T-LIGHT HOLDER         6   \n",
       "7    536366     22633               HAND WARMER UNION JACK         6   \n",
       "8    536366     22632            HAND WARMER RED POLKA DOT         6   \n",
       "9    536367     84879        ASSORTED COLOUR BIRD ORNAMENT        32   \n",
       "\n",
       "        InvoiceDate  UnitPrice  CustomerID  \n",
       "0  11/29/2018 08:26       2.55     17850.0  \n",
       "1  11/29/2018 08:26       3.39     17850.0  \n",
       "2  11/29/2018 08:26       2.75     17850.0  \n",
       "3  11/29/2018 08:26       3.39     17850.0  \n",
       "4  11/29/2018 08:26       3.39     17850.0  \n",
       "5  11/29/2018 08:26       7.65     17850.0  \n",
       "6  11/29/2018 08:26       4.25     17850.0  \n",
       "7  11/29/2018 08:28       1.85     17850.0  \n",
       "8  11/29/2018 08:28       1.85     17850.0  \n",
       "9  11/29/2018 08:34       1.69     13047.0  "
      ]
     },
     "metadata": {},
     "output_type": "display_data"
    },
    {
     "name": "stdout",
     "output_type": "stream",
     "text": [
      "<class 'pandas.core.frame.DataFrame'>\n",
      "RangeIndex: 541909 entries, 0 to 541908\n",
      "Data columns (total 7 columns):\n",
      " #   Column       Non-Null Count   Dtype  \n",
      "---  ------       --------------   -----  \n",
      " 0   InvoiceNo    541909 non-null  object \n",
      " 1   StockCode    541909 non-null  object \n",
      " 2   Description  540455 non-null  object \n",
      " 3   Quantity     541909 non-null  int64  \n",
      " 4   InvoiceDate  541909 non-null  object \n",
      " 5   UnitPrice    541909 non-null  float64\n",
      " 6   CustomerID   406829 non-null  float64\n",
      "dtypes: float64(2), int64(1), object(4)\n",
      "memory usage: 28.9+ MB\n"
     ]
    },
    {
     "data": {
      "text/plain": [
       "None"
      ]
     },
     "metadata": {},
     "output_type": "display_data"
    },
    {
     "data": {
      "text/html": [
       "<div>\n",
       "<style scoped>\n",
       "    .dataframe tbody tr th:only-of-type {\n",
       "        vertical-align: middle;\n",
       "    }\n",
       "\n",
       "    .dataframe tbody tr th {\n",
       "        vertical-align: top;\n",
       "    }\n",
       "\n",
       "    .dataframe thead th {\n",
       "        text-align: right;\n",
       "    }\n",
       "</style>\n",
       "<table border=\"1\" class=\"dataframe\">\n",
       "  <thead>\n",
       "    <tr style=\"text-align: right;\">\n",
       "      <th></th>\n",
       "      <th>Quantity</th>\n",
       "      <th>UnitPrice</th>\n",
       "      <th>CustomerID</th>\n",
       "    </tr>\n",
       "  </thead>\n",
       "  <tbody>\n",
       "    <tr>\n",
       "      <th>count</th>\n",
       "      <td>541909.000000</td>\n",
       "      <td>541909.000000</td>\n",
       "      <td>406829.000000</td>\n",
       "    </tr>\n",
       "    <tr>\n",
       "      <th>mean</th>\n",
       "      <td>9.552250</td>\n",
       "      <td>4.611114</td>\n",
       "      <td>15287.690570</td>\n",
       "    </tr>\n",
       "    <tr>\n",
       "      <th>std</th>\n",
       "      <td>218.081158</td>\n",
       "      <td>96.759853</td>\n",
       "      <td>1713.600303</td>\n",
       "    </tr>\n",
       "    <tr>\n",
       "      <th>min</th>\n",
       "      <td>-80995.000000</td>\n",
       "      <td>-11062.060000</td>\n",
       "      <td>12346.000000</td>\n",
       "    </tr>\n",
       "    <tr>\n",
       "      <th>25%</th>\n",
       "      <td>1.000000</td>\n",
       "      <td>1.250000</td>\n",
       "      <td>13953.000000</td>\n",
       "    </tr>\n",
       "    <tr>\n",
       "      <th>50%</th>\n",
       "      <td>3.000000</td>\n",
       "      <td>2.080000</td>\n",
       "      <td>15152.000000</td>\n",
       "    </tr>\n",
       "    <tr>\n",
       "      <th>75%</th>\n",
       "      <td>10.000000</td>\n",
       "      <td>4.130000</td>\n",
       "      <td>16791.000000</td>\n",
       "    </tr>\n",
       "    <tr>\n",
       "      <th>max</th>\n",
       "      <td>80995.000000</td>\n",
       "      <td>38970.000000</td>\n",
       "      <td>18287.000000</td>\n",
       "    </tr>\n",
       "  </tbody>\n",
       "</table>\n",
       "</div>"
      ],
      "text/plain": [
       "            Quantity      UnitPrice     CustomerID\n",
       "count  541909.000000  541909.000000  406829.000000\n",
       "mean        9.552250       4.611114   15287.690570\n",
       "std       218.081158      96.759853    1713.600303\n",
       "min    -80995.000000  -11062.060000   12346.000000\n",
       "25%         1.000000       1.250000   13953.000000\n",
       "50%         3.000000       2.080000   15152.000000\n",
       "75%        10.000000       4.130000   16791.000000\n",
       "max     80995.000000   38970.000000   18287.000000"
      ]
     },
     "metadata": {},
     "output_type": "display_data"
    },
    {
     "data": {
      "text/plain": [
       "InvoiceNo       0.000000\n",
       "StockCode       0.000000\n",
       "Description     0.268311\n",
       "Quantity        0.000000\n",
       "InvoiceDate     0.000000\n",
       "UnitPrice       0.000000\n",
       "CustomerID     24.926694\n",
       "dtype: float64"
      ]
     },
     "metadata": {},
     "output_type": "display_data"
    },
    {
     "data": {
      "text/plain": [
       "0.9721189350979592"
      ]
     },
     "metadata": {},
     "output_type": "display_data"
    }
   ],
   "source": [
    "def showdata(df):\n",
    "    display(df.head(10))\n",
    "    display(df.info())\n",
    "    display(df.describe())\n",
    "    display(df.isnull().sum() * 100 / len(df))\n",
    "    display(df.duplicated().sum() * 100 / len(df))\n",
    "    \n",
    "    \n",
    "showdata(data)"
   ]
  },
  {
   "cell_type": "code",
   "execution_count": null,
   "metadata": {},
   "outputs": [],
   "source": []
  },
  {
   "cell_type": "code",
   "execution_count": 5,
   "metadata": {},
   "outputs": [],
   "source": [
    "def save_mb(df):  \n",
    "    \n",
    "    for column in list(df.columns.values):\n",
    "        if df[column].dtypes == \"int8\":\n",
    "                df[column] = pd.to_numeric(df[column], downcast=\"integer\")\n",
    "        elif df[column].dtypes == \"int16\":\n",
    "                df[column] = pd.to_numeric(df[column], downcast=\"integer\")\n",
    "        elif df[column].dtypes == \"int32\":\n",
    "                df[column] = pd.to_numeric(df[column], downcast=\"integer\")\n",
    "        elif df[column].dtypes == \"int64\":\n",
    "                df[column] = pd.to_numeric(df[column], downcast=\"integer\")\n",
    "        elif df[column].dtypes == \"float16\":\n",
    "                df[column] = pd.to_numeric(df[column], downcast=\"float\")\n",
    "        elif df[column].dtypes == \"float32\":\n",
    "                df[column] = pd.to_numeric(df[column], downcast=\"float\")\n",
    "        elif df[column].dtypes == \"float64\":\n",
    "                df[column] = pd.to_numeric(df[column], downcast=\"float\")\n",
    "        else:\n",
    "            pass"
   ]
  },
  {
   "cell_type": "code",
   "execution_count": 6,
   "metadata": {},
   "outputs": [],
   "source": [
    "save_mb(data)"
   ]
  },
  {
   "cell_type": "code",
   "execution_count": 7,
   "metadata": {},
   "outputs": [
    {
     "name": "stdout",
     "output_type": "stream",
     "text": [
      "<class 'pandas.core.frame.DataFrame'>\n",
      "RangeIndex: 541909 entries, 0 to 541908\n",
      "Data columns (total 7 columns):\n",
      " #   Column       Non-Null Count   Dtype  \n",
      "---  ------       --------------   -----  \n",
      " 0   InvoiceNo    541909 non-null  object \n",
      " 1   StockCode    541909 non-null  object \n",
      " 2   Description  540455 non-null  object \n",
      " 3   Quantity     541909 non-null  int32  \n",
      " 4   InvoiceDate  541909 non-null  object \n",
      " 5   UnitPrice    541909 non-null  float32\n",
      " 6   CustomerID   406829 non-null  float32\n",
      "dtypes: float32(2), int32(1), object(4)\n",
      "memory usage: 22.7+ MB\n"
     ]
    }
   ],
   "source": [
    "data.info()"
   ]
  },
  {
   "cell_type": "code",
   "execution_count": 8,
   "metadata": {},
   "outputs": [],
   "source": [
    "data['InvoiceDate'] = pd.to_datetime(data['InvoiceDate'])"
   ]
  },
  {
   "cell_type": "code",
   "execution_count": 9,
   "metadata": {},
   "outputs": [
    {
     "data": {
      "text/plain": [
       "622                                   NaN\n",
       "1443      DECORATIVE ROSE BATHROOM BOTTLE\n",
       "1444      DECORATIVE CATS BATHROOM BOTTLE\n",
       "1445                   POLKADOT RAIN HAT \n",
       "1446                RAIN PONCHO RETROSPOT\n",
       "                       ...               \n",
       "541536            JUMBO BAG RED RETROSPOT\n",
       "541537     JUMBO  BAG BAROQUE BLACK WHITE\n",
       "541538      LADIES & GENTLEMEN METAL SIGN\n",
       "541539                  S/4 CACTI CANDLES\n",
       "541540                     DOTCOM POSTAGE\n",
       "Name: Description, Length: 135080, dtype: object"
      ]
     },
     "execution_count": 9,
     "metadata": {},
     "output_type": "execute_result"
    }
   ],
   "source": [
    "data[\"Description\"][data.isnull().any(axis=1)]"
   ]
  },
  {
   "cell_type": "code",
   "execution_count": 10,
   "metadata": {},
   "outputs": [
    {
     "data": {
      "text/html": [
       "<div>\n",
       "<style scoped>\n",
       "    .dataframe tbody tr th:only-of-type {\n",
       "        vertical-align: middle;\n",
       "    }\n",
       "\n",
       "    .dataframe tbody tr th {\n",
       "        vertical-align: top;\n",
       "    }\n",
       "\n",
       "    .dataframe thead th {\n",
       "        text-align: right;\n",
       "    }\n",
       "</style>\n",
       "<table border=\"1\" class=\"dataframe\">\n",
       "  <thead>\n",
       "    <tr style=\"text-align: right;\">\n",
       "      <th></th>\n",
       "      <th>InvoiceNo</th>\n",
       "      <th>StockCode</th>\n",
       "      <th>Description</th>\n",
       "      <th>Quantity</th>\n",
       "      <th>InvoiceDate</th>\n",
       "      <th>UnitPrice</th>\n",
       "      <th>CustomerID</th>\n",
       "    </tr>\n",
       "  </thead>\n",
       "  <tbody>\n",
       "    <tr>\n",
       "      <th>541323</th>\n",
       "      <td>581498</td>\n",
       "      <td>15056bl</td>\n",
       "      <td>EDWARDIAN PARASOL BLACK</td>\n",
       "      <td>2</td>\n",
       "      <td>2019-12-07 10:26:00</td>\n",
       "      <td>12.460000</td>\n",
       "      <td>NaN</td>\n",
       "    </tr>\n",
       "    <tr>\n",
       "      <th>541324</th>\n",
       "      <td>581498</td>\n",
       "      <td>20669</td>\n",
       "      <td>RED HEART LUGGAGE TAG</td>\n",
       "      <td>3</td>\n",
       "      <td>2019-12-07 10:26:00</td>\n",
       "      <td>2.460000</td>\n",
       "      <td>NaN</td>\n",
       "    </tr>\n",
       "    <tr>\n",
       "      <th>541325</th>\n",
       "      <td>581498</td>\n",
       "      <td>20679</td>\n",
       "      <td>EDWARDIAN PARASOL RED</td>\n",
       "      <td>5</td>\n",
       "      <td>2019-12-07 10:26:00</td>\n",
       "      <td>12.460000</td>\n",
       "      <td>NaN</td>\n",
       "    </tr>\n",
       "    <tr>\n",
       "      <th>541326</th>\n",
       "      <td>581498</td>\n",
       "      <td>20712</td>\n",
       "      <td>JUMBO BAG WOODLAND ANIMALS</td>\n",
       "      <td>3</td>\n",
       "      <td>2019-12-07 10:26:00</td>\n",
       "      <td>4.130000</td>\n",
       "      <td>NaN</td>\n",
       "    </tr>\n",
       "    <tr>\n",
       "      <th>541327</th>\n",
       "      <td>581498</td>\n",
       "      <td>20713</td>\n",
       "      <td>JUMBO BAG OWLS</td>\n",
       "      <td>8</td>\n",
       "      <td>2019-12-07 10:26:00</td>\n",
       "      <td>4.130000</td>\n",
       "      <td>NaN</td>\n",
       "    </tr>\n",
       "    <tr>\n",
       "      <th>...</th>\n",
       "      <td>...</td>\n",
       "      <td>...</td>\n",
       "      <td>...</td>\n",
       "      <td>...</td>\n",
       "      <td>...</td>\n",
       "      <td>...</td>\n",
       "      <td>...</td>\n",
       "    </tr>\n",
       "    <tr>\n",
       "      <th>541536</th>\n",
       "      <td>581498</td>\n",
       "      <td>85099B</td>\n",
       "      <td>JUMBO BAG RED RETROSPOT</td>\n",
       "      <td>5</td>\n",
       "      <td>2019-12-07 10:26:00</td>\n",
       "      <td>4.130000</td>\n",
       "      <td>NaN</td>\n",
       "    </tr>\n",
       "    <tr>\n",
       "      <th>541537</th>\n",
       "      <td>581498</td>\n",
       "      <td>85099C</td>\n",
       "      <td>JUMBO  BAG BAROQUE BLACK WHITE</td>\n",
       "      <td>4</td>\n",
       "      <td>2019-12-07 10:26:00</td>\n",
       "      <td>4.130000</td>\n",
       "      <td>NaN</td>\n",
       "    </tr>\n",
       "    <tr>\n",
       "      <th>541538</th>\n",
       "      <td>581498</td>\n",
       "      <td>85150</td>\n",
       "      <td>LADIES &amp; GENTLEMEN METAL SIGN</td>\n",
       "      <td>1</td>\n",
       "      <td>2019-12-07 10:26:00</td>\n",
       "      <td>4.960000</td>\n",
       "      <td>NaN</td>\n",
       "    </tr>\n",
       "    <tr>\n",
       "      <th>541539</th>\n",
       "      <td>581498</td>\n",
       "      <td>85174</td>\n",
       "      <td>S/4 CACTI CANDLES</td>\n",
       "      <td>1</td>\n",
       "      <td>2019-12-07 10:26:00</td>\n",
       "      <td>10.790000</td>\n",
       "      <td>NaN</td>\n",
       "    </tr>\n",
       "    <tr>\n",
       "      <th>541540</th>\n",
       "      <td>581498</td>\n",
       "      <td>DOT</td>\n",
       "      <td>DOTCOM POSTAGE</td>\n",
       "      <td>1</td>\n",
       "      <td>2019-12-07 10:26:00</td>\n",
       "      <td>1714.170044</td>\n",
       "      <td>NaN</td>\n",
       "    </tr>\n",
       "  </tbody>\n",
       "</table>\n",
       "<p>218 rows × 7 columns</p>\n",
       "</div>"
      ],
      "text/plain": [
       "       InvoiceNo StockCode                     Description  Quantity  \\\n",
       "541323    581498   15056bl         EDWARDIAN PARASOL BLACK         2   \n",
       "541324    581498     20669           RED HEART LUGGAGE TAG         3   \n",
       "541325    581498     20679           EDWARDIAN PARASOL RED         5   \n",
       "541326    581498     20712      JUMBO BAG WOODLAND ANIMALS         3   \n",
       "541327    581498     20713                  JUMBO BAG OWLS         8   \n",
       "...          ...       ...                             ...       ...   \n",
       "541536    581498    85099B         JUMBO BAG RED RETROSPOT         5   \n",
       "541537    581498    85099C  JUMBO  BAG BAROQUE BLACK WHITE         4   \n",
       "541538    581498     85150   LADIES & GENTLEMEN METAL SIGN         1   \n",
       "541539    581498     85174               S/4 CACTI CANDLES         1   \n",
       "541540    581498       DOT                  DOTCOM POSTAGE         1   \n",
       "\n",
       "               InvoiceDate    UnitPrice  CustomerID  \n",
       "541323 2019-12-07 10:26:00    12.460000         NaN  \n",
       "541324 2019-12-07 10:26:00     2.460000         NaN  \n",
       "541325 2019-12-07 10:26:00    12.460000         NaN  \n",
       "541326 2019-12-07 10:26:00     4.130000         NaN  \n",
       "541327 2019-12-07 10:26:00     4.130000         NaN  \n",
       "...                    ...          ...         ...  \n",
       "541536 2019-12-07 10:26:00     4.130000         NaN  \n",
       "541537 2019-12-07 10:26:00     4.130000         NaN  \n",
       "541538 2019-12-07 10:26:00     4.960000         NaN  \n",
       "541539 2019-12-07 10:26:00    10.790000         NaN  \n",
       "541540 2019-12-07 10:26:00  1714.170044         NaN  \n",
       "\n",
       "[218 rows x 7 columns]"
      ]
     },
     "execution_count": 10,
     "metadata": {},
     "output_type": "execute_result"
    }
   ],
   "source": [
    "data.query('InvoiceNo == \"581498\"')"
   ]
  },
  {
   "cell_type": "code",
   "execution_count": 11,
   "metadata": {},
   "outputs": [],
   "source": [
    "data[\"CustomerID\"].fillna(value=data['StockCode'], inplace=True)"
   ]
  },
  {
   "cell_type": "code",
   "execution_count": null,
   "metadata": {},
   "outputs": [],
   "source": []
  },
  {
   "cell_type": "code",
   "execution_count": 12,
   "metadata": {},
   "outputs": [],
   "source": [
    "data.dropna(axis=0, how='any', thresh=None, subset=None, inplace=True)"
   ]
  },
  {
   "cell_type": "code",
   "execution_count": null,
   "metadata": {
    "scrolled": false
   },
   "outputs": [],
   "source": []
  },
  {
   "cell_type": "code",
   "execution_count": 13,
   "metadata": {},
   "outputs": [],
   "source": [
    "data=data.loc[data[\"UnitPrice\"]>0]\n",
    "data=data.loc[data[\"Quantity\"]>0]\n",
    "data=data.query('Description != \"AMAZON FEE\"')\n"
   ]
  },
  {
   "cell_type": "code",
   "execution_count": 14,
   "metadata": {},
   "outputs": [
    {
     "data": {
      "text/plain": [
       "0.001"
      ]
     },
     "execution_count": 14,
     "metadata": {},
     "output_type": "execute_result"
    }
   ],
   "source": [
    "data[\"UnitPrice\"].min()"
   ]
  },
  {
   "cell_type": "code",
   "execution_count": 15,
   "metadata": {},
   "outputs": [],
   "source": [
    "data.drop_duplicates(inplace=True)"
   ]
  },
  {
   "cell_type": "code",
   "execution_count": 16,
   "metadata": {},
   "outputs": [
    {
     "data": {
      "text/html": [
       "<div>\n",
       "<style scoped>\n",
       "    .dataframe tbody tr th:only-of-type {\n",
       "        vertical-align: middle;\n",
       "    }\n",
       "\n",
       "    .dataframe tbody tr th {\n",
       "        vertical-align: top;\n",
       "    }\n",
       "\n",
       "    .dataframe thead th {\n",
       "        text-align: right;\n",
       "    }\n",
       "</style>\n",
       "<table border=\"1\" class=\"dataframe\">\n",
       "  <thead>\n",
       "    <tr style=\"text-align: right;\">\n",
       "      <th></th>\n",
       "      <th>InvoiceNo</th>\n",
       "      <th>StockCode</th>\n",
       "      <th>Description</th>\n",
       "      <th>Quantity</th>\n",
       "      <th>InvoiceDate</th>\n",
       "      <th>UnitPrice</th>\n",
       "      <th>CustomerID</th>\n",
       "    </tr>\n",
       "  </thead>\n",
       "  <tbody>\n",
       "    <tr>\n",
       "      <th>0</th>\n",
       "      <td>536365</td>\n",
       "      <td>85123A</td>\n",
       "      <td>WHITE HANGING HEART T-LIGHT HOLDER</td>\n",
       "      <td>6</td>\n",
       "      <td>2018-11-29 08:26:00</td>\n",
       "      <td>2.55</td>\n",
       "      <td>17850.0</td>\n",
       "    </tr>\n",
       "    <tr>\n",
       "      <th>1</th>\n",
       "      <td>536365</td>\n",
       "      <td>71053</td>\n",
       "      <td>WHITE METAL LANTERN</td>\n",
       "      <td>6</td>\n",
       "      <td>2018-11-29 08:26:00</td>\n",
       "      <td>3.39</td>\n",
       "      <td>17850.0</td>\n",
       "    </tr>\n",
       "    <tr>\n",
       "      <th>2</th>\n",
       "      <td>536365</td>\n",
       "      <td>84406B</td>\n",
       "      <td>CREAM CUPID HEARTS COAT HANGER</td>\n",
       "      <td>8</td>\n",
       "      <td>2018-11-29 08:26:00</td>\n",
       "      <td>2.75</td>\n",
       "      <td>17850.0</td>\n",
       "    </tr>\n",
       "    <tr>\n",
       "      <th>3</th>\n",
       "      <td>536365</td>\n",
       "      <td>84029G</td>\n",
       "      <td>KNITTED UNION FLAG HOT WATER BOTTLE</td>\n",
       "      <td>6</td>\n",
       "      <td>2018-11-29 08:26:00</td>\n",
       "      <td>3.39</td>\n",
       "      <td>17850.0</td>\n",
       "    </tr>\n",
       "    <tr>\n",
       "      <th>4</th>\n",
       "      <td>536365</td>\n",
       "      <td>84029E</td>\n",
       "      <td>RED WOOLLY HOTTIE WHITE HEART.</td>\n",
       "      <td>6</td>\n",
       "      <td>2018-11-29 08:26:00</td>\n",
       "      <td>3.39</td>\n",
       "      <td>17850.0</td>\n",
       "    </tr>\n",
       "    <tr>\n",
       "      <th>...</th>\n",
       "      <td>...</td>\n",
       "      <td>...</td>\n",
       "      <td>...</td>\n",
       "      <td>...</td>\n",
       "      <td>...</td>\n",
       "      <td>...</td>\n",
       "      <td>...</td>\n",
       "    </tr>\n",
       "    <tr>\n",
       "      <th>541904</th>\n",
       "      <td>581587</td>\n",
       "      <td>22613</td>\n",
       "      <td>PACK OF 20 SPACEBOY NAPKINS</td>\n",
       "      <td>12</td>\n",
       "      <td>2019-12-07 12:50:00</td>\n",
       "      <td>0.85</td>\n",
       "      <td>12680.0</td>\n",
       "    </tr>\n",
       "    <tr>\n",
       "      <th>541905</th>\n",
       "      <td>581587</td>\n",
       "      <td>22899</td>\n",
       "      <td>CHILDREN'S APRON DOLLY GIRL</td>\n",
       "      <td>6</td>\n",
       "      <td>2019-12-07 12:50:00</td>\n",
       "      <td>2.10</td>\n",
       "      <td>12680.0</td>\n",
       "    </tr>\n",
       "    <tr>\n",
       "      <th>541906</th>\n",
       "      <td>581587</td>\n",
       "      <td>23254</td>\n",
       "      <td>CHILDRENS CUTLERY DOLLY GIRL</td>\n",
       "      <td>4</td>\n",
       "      <td>2019-12-07 12:50:00</td>\n",
       "      <td>4.15</td>\n",
       "      <td>12680.0</td>\n",
       "    </tr>\n",
       "    <tr>\n",
       "      <th>541907</th>\n",
       "      <td>581587</td>\n",
       "      <td>23255</td>\n",
       "      <td>CHILDRENS CUTLERY CIRCUS PARADE</td>\n",
       "      <td>4</td>\n",
       "      <td>2019-12-07 12:50:00</td>\n",
       "      <td>4.15</td>\n",
       "      <td>12680.0</td>\n",
       "    </tr>\n",
       "    <tr>\n",
       "      <th>541908</th>\n",
       "      <td>581587</td>\n",
       "      <td>22138</td>\n",
       "      <td>BAKING SET 9 PIECE RETROSPOT</td>\n",
       "      <td>3</td>\n",
       "      <td>2019-12-07 12:50:00</td>\n",
       "      <td>4.95</td>\n",
       "      <td>12680.0</td>\n",
       "    </tr>\n",
       "  </tbody>\n",
       "</table>\n",
       "<p>524876 rows × 7 columns</p>\n",
       "</div>"
      ],
      "text/plain": [
       "       InvoiceNo StockCode                          Description  Quantity  \\\n",
       "0         536365    85123A   WHITE HANGING HEART T-LIGHT HOLDER         6   \n",
       "1         536365     71053                  WHITE METAL LANTERN         6   \n",
       "2         536365    84406B       CREAM CUPID HEARTS COAT HANGER         8   \n",
       "3         536365    84029G  KNITTED UNION FLAG HOT WATER BOTTLE         6   \n",
       "4         536365    84029E       RED WOOLLY HOTTIE WHITE HEART.         6   \n",
       "...          ...       ...                                  ...       ...   \n",
       "541904    581587     22613          PACK OF 20 SPACEBOY NAPKINS        12   \n",
       "541905    581587     22899         CHILDREN'S APRON DOLLY GIRL          6   \n",
       "541906    581587     23254        CHILDRENS CUTLERY DOLLY GIRL          4   \n",
       "541907    581587     23255      CHILDRENS CUTLERY CIRCUS PARADE         4   \n",
       "541908    581587     22138        BAKING SET 9 PIECE RETROSPOT          3   \n",
       "\n",
       "               InvoiceDate  UnitPrice CustomerID  \n",
       "0      2018-11-29 08:26:00       2.55    17850.0  \n",
       "1      2018-11-29 08:26:00       3.39    17850.0  \n",
       "2      2018-11-29 08:26:00       2.75    17850.0  \n",
       "3      2018-11-29 08:26:00       3.39    17850.0  \n",
       "4      2018-11-29 08:26:00       3.39    17850.0  \n",
       "...                    ...        ...        ...  \n",
       "541904 2019-12-07 12:50:00       0.85    12680.0  \n",
       "541905 2019-12-07 12:50:00       2.10    12680.0  \n",
       "541906 2019-12-07 12:50:00       4.15    12680.0  \n",
       "541907 2019-12-07 12:50:00       4.15    12680.0  \n",
       "541908 2019-12-07 12:50:00       4.95    12680.0  \n",
       "\n",
       "[524876 rows x 7 columns]"
      ]
     },
     "execution_count": 16,
     "metadata": {},
     "output_type": "execute_result"
    }
   ],
   "source": [
    "data"
   ]
  },
  {
   "cell_type": "code",
   "execution_count": 17,
   "metadata": {},
   "outputs": [],
   "source": [
    "data.columns = data.columns.str.lower()"
   ]
  },
  {
   "cell_type": "code",
   "execution_count": 18,
   "metadata": {},
   "outputs": [
    {
     "data": {
      "text/html": [
       "<div>\n",
       "<style scoped>\n",
       "    .dataframe tbody tr th:only-of-type {\n",
       "        vertical-align: middle;\n",
       "    }\n",
       "\n",
       "    .dataframe tbody tr th {\n",
       "        vertical-align: top;\n",
       "    }\n",
       "\n",
       "    .dataframe thead th {\n",
       "        text-align: right;\n",
       "    }\n",
       "</style>\n",
       "<table border=\"1\" class=\"dataframe\">\n",
       "  <thead>\n",
       "    <tr style=\"text-align: right;\">\n",
       "      <th></th>\n",
       "      <th>invoiceno</th>\n",
       "      <th>stockcode</th>\n",
       "      <th>description</th>\n",
       "      <th>quantity</th>\n",
       "      <th>invoicedate</th>\n",
       "      <th>unitprice</th>\n",
       "      <th>customerid</th>\n",
       "    </tr>\n",
       "  </thead>\n",
       "  <tbody>\n",
       "    <tr>\n",
       "      <th>106</th>\n",
       "      <td>536381</td>\n",
       "      <td>22139</td>\n",
       "      <td>RETROSPOT TEA SET CERAMIC 11 PC</td>\n",
       "      <td>23</td>\n",
       "      <td>2018-11-29 09:41:00</td>\n",
       "      <td>4.25</td>\n",
       "      <td>15311.0</td>\n",
       "    </tr>\n",
       "    <tr>\n",
       "      <th>6885</th>\n",
       "      <td>536982</td>\n",
       "      <td>22139</td>\n",
       "      <td>RETROSPOT TEA SET CERAMIC 11 PC</td>\n",
       "      <td>10</td>\n",
       "      <td>2018-12-01 14:27:00</td>\n",
       "      <td>11.02</td>\n",
       "      <td>22139</td>\n",
       "    </tr>\n",
       "    <tr>\n",
       "      <th>14908</th>\n",
       "      <td>537624</td>\n",
       "      <td>22139</td>\n",
       "      <td>RETROSPOT TEA SET CERAMIC 11 PC</td>\n",
       "      <td>1</td>\n",
       "      <td>2018-12-05 14:41:00</td>\n",
       "      <td>4.95</td>\n",
       "      <td>12748.0</td>\n",
       "    </tr>\n",
       "    <tr>\n",
       "      <th>15018</th>\n",
       "      <td>537633</td>\n",
       "      <td>22139</td>\n",
       "      <td>RETROSPOT TEA SET CERAMIC 11 PC</td>\n",
       "      <td>1</td>\n",
       "      <td>2018-12-05 15:14:00</td>\n",
       "      <td>4.95</td>\n",
       "      <td>22139</td>\n",
       "    </tr>\n",
       "    <tr>\n",
       "      <th>15033</th>\n",
       "      <td>537634</td>\n",
       "      <td>22139</td>\n",
       "      <td>RETROSPOT TEA SET CERAMIC 11 PC</td>\n",
       "      <td>2</td>\n",
       "      <td>2018-12-05 15:15:00</td>\n",
       "      <td>4.95</td>\n",
       "      <td>16775.0</td>\n",
       "    </tr>\n",
       "    <tr>\n",
       "      <th>...</th>\n",
       "      <td>...</td>\n",
       "      <td>...</td>\n",
       "      <td>...</td>\n",
       "      <td>...</td>\n",
       "      <td>...</td>\n",
       "      <td>...</td>\n",
       "      <td>...</td>\n",
       "    </tr>\n",
       "    <tr>\n",
       "      <th>538411</th>\n",
       "      <td>581405</td>\n",
       "      <td>22139</td>\n",
       "      <td>RETROSPOT TEA SET CERAMIC 11 PC</td>\n",
       "      <td>1</td>\n",
       "      <td>2019-12-06 13:50:00</td>\n",
       "      <td>4.95</td>\n",
       "      <td>13521.0</td>\n",
       "    </tr>\n",
       "    <tr>\n",
       "      <th>539531</th>\n",
       "      <td>581439</td>\n",
       "      <td>22139</td>\n",
       "      <td>RETROSPOT TEA SET CERAMIC 11 PC</td>\n",
       "      <td>1</td>\n",
       "      <td>2019-12-06 16:30:00</td>\n",
       "      <td>10.79</td>\n",
       "      <td>22139</td>\n",
       "    </tr>\n",
       "    <tr>\n",
       "      <th>540441</th>\n",
       "      <td>581486</td>\n",
       "      <td>22139</td>\n",
       "      <td>RETROSPOT TEA SET CERAMIC 11 PC</td>\n",
       "      <td>6</td>\n",
       "      <td>2019-12-07 09:38:00</td>\n",
       "      <td>4.95</td>\n",
       "      <td>17001.0</td>\n",
       "    </tr>\n",
       "    <tr>\n",
       "      <th>541387</th>\n",
       "      <td>581498</td>\n",
       "      <td>22139</td>\n",
       "      <td>RETROSPOT TEA SET CERAMIC 11 PC</td>\n",
       "      <td>2</td>\n",
       "      <td>2019-12-07 10:26:00</td>\n",
       "      <td>10.79</td>\n",
       "      <td>22139</td>\n",
       "    </tr>\n",
       "    <tr>\n",
       "      <th>541726</th>\n",
       "      <td>581570</td>\n",
       "      <td>22139</td>\n",
       "      <td>RETROSPOT TEA SET CERAMIC 11 PC</td>\n",
       "      <td>3</td>\n",
       "      <td>2019-12-07 11:59:00</td>\n",
       "      <td>4.95</td>\n",
       "      <td>12662.0</td>\n",
       "    </tr>\n",
       "  </tbody>\n",
       "</table>\n",
       "<p>964 rows × 7 columns</p>\n",
       "</div>"
      ],
      "text/plain": [
       "       invoiceno stockcode                       description  quantity  \\\n",
       "106       536381     22139  RETROSPOT TEA SET CERAMIC 11 PC         23   \n",
       "6885      536982     22139  RETROSPOT TEA SET CERAMIC 11 PC         10   \n",
       "14908     537624     22139  RETROSPOT TEA SET CERAMIC 11 PC          1   \n",
       "15018     537633     22139  RETROSPOT TEA SET CERAMIC 11 PC          1   \n",
       "15033     537634     22139  RETROSPOT TEA SET CERAMIC 11 PC          2   \n",
       "...          ...       ...                               ...       ...   \n",
       "538411    581405     22139  RETROSPOT TEA SET CERAMIC 11 PC          1   \n",
       "539531    581439     22139  RETROSPOT TEA SET CERAMIC 11 PC          1   \n",
       "540441    581486     22139  RETROSPOT TEA SET CERAMIC 11 PC          6   \n",
       "541387    581498     22139  RETROSPOT TEA SET CERAMIC 11 PC          2   \n",
       "541726    581570     22139  RETROSPOT TEA SET CERAMIC 11 PC          3   \n",
       "\n",
       "               invoicedate  unitprice customerid  \n",
       "106    2018-11-29 09:41:00       4.25    15311.0  \n",
       "6885   2018-12-01 14:27:00      11.02      22139  \n",
       "14908  2018-12-05 14:41:00       4.95    12748.0  \n",
       "15018  2018-12-05 15:14:00       4.95      22139  \n",
       "15033  2018-12-05 15:15:00       4.95    16775.0  \n",
       "...                    ...        ...        ...  \n",
       "538411 2019-12-06 13:50:00       4.95    13521.0  \n",
       "539531 2019-12-06 16:30:00      10.79      22139  \n",
       "540441 2019-12-07 09:38:00       4.95    17001.0  \n",
       "541387 2019-12-07 10:26:00      10.79      22139  \n",
       "541726 2019-12-07 11:59:00       4.95    12662.0  \n",
       "\n",
       "[964 rows x 7 columns]"
      ]
     },
     "execution_count": 18,
     "metadata": {},
     "output_type": "execute_result"
    }
   ],
   "source": [
    "data.query('stockcode == \"22139\"')"
   ]
  },
  {
   "cell_type": "code",
   "execution_count": 19,
   "metadata": {},
   "outputs": [],
   "source": [
    "data = data.rename(columns={'invoicedate': 'timestamp'})"
   ]
  },
  {
   "cell_type": "code",
   "execution_count": 20,
   "metadata": {},
   "outputs": [
    {
     "data": {
      "text/plain": [
       "Timestamp('2018-11-29 08:26:00')"
      ]
     },
     "execution_count": 20,
     "metadata": {},
     "output_type": "execute_result"
    }
   ],
   "source": [
    "data[\"timestamp\"].min()"
   ]
  },
  {
   "cell_type": "code",
   "execution_count": 21,
   "metadata": {},
   "outputs": [
    {
     "data": {
      "text/plain": [
       "Timestamp('2019-12-07 12:50:00')"
      ]
     },
     "execution_count": 21,
     "metadata": {},
     "output_type": "execute_result"
    }
   ],
   "source": [
    "data[\"timestamp\"].max()"
   ]
  },
  {
   "cell_type": "code",
   "execution_count": 22,
   "metadata": {},
   "outputs": [
    {
     "name": "stdout",
     "output_type": "stream",
     "text": [
      "<class 'pandas.core.frame.DataFrame'>\n",
      "Int64Index: 524876 entries, 0 to 541908\n",
      "Data columns (total 7 columns):\n",
      " #   Column       Non-Null Count   Dtype         \n",
      "---  ------       --------------   -----         \n",
      " 0   invoiceno    524876 non-null  object        \n",
      " 1   stockcode    524876 non-null  object        \n",
      " 2   description  524876 non-null  object        \n",
      " 3   quantity     524876 non-null  int32         \n",
      " 4   timestamp    524876 non-null  datetime64[ns]\n",
      " 5   unitprice    524876 non-null  float32       \n",
      " 6   customerid   524876 non-null  object        \n",
      "dtypes: datetime64[ns](1), float32(1), int32(1), object(4)\n",
      "memory usage: 28.0+ MB\n"
     ]
    }
   ],
   "source": [
    "data.info()"
   ]
  },
  {
   "cell_type": "markdown",
   "metadata": {},
   "source": [
    "## 2 Conclusion"
   ]
  },
  {
   "cell_type": "markdown",
   "metadata": {},
   "source": [
    "i converted types from the customer id column to int type because it fits buch better, i downcast the memory usage and changed the date to a datetime type. Then i filled the NAN Values, but keep the 25 % missing of the customer id. I removed outliers to have clean data"
   ]
  },
  {
   "cell_type": "markdown",
   "metadata": {},
   "source": [
    "## 4. EDA\n",
    "check the distribution.\\\n",
    "watch out for outliers.\\\n",
    "investigate means,median of numeric values. \n",
    "\n",
    "For each product, find the date of the last purchase.\n",
    "split the items into categories.\n",
    "For each category, calculate the share of the productrange.\n",
    "\n"
   ]
  },
  {
   "cell_type": "code",
   "execution_count": null,
   "metadata": {},
   "outputs": [],
   "source": []
  },
  {
   "cell_type": "code",
   "execution_count": 23,
   "metadata": {},
   "outputs": [],
   "source": [
    "data['day'] = data['timestamp'].dt.weekday\n",
    "data['week'] = data['timestamp'].dt.week\n",
    "data[\"week\"]=data[\"week\"].sort_values()"
   ]
  },
  {
   "cell_type": "markdown",
   "metadata": {},
   "source": [
    "check the distribution"
   ]
  },
  {
   "cell_type": "code",
   "execution_count": 24,
   "metadata": {},
   "outputs": [
    {
     "data": {
      "image/png": "[encoded data removed]",
      "text/plain": [
       "<Figure size 1080x720 with 1 Axes>"
      ]
     },
     "metadata": {
      "needs_background": "light"
     },
     "output_type": "display_data"
    }
   ],
   "source": [
    "plt.figure(figsize=(15,10))\n",
    "plt.title(\"Distribution per week of products\")\n",
    "plt.xlabel(\"time\")\n",
    "plt.ylabel(\"count\")\n",
    "plt.xticks(fontsize = 10)\n",
    "sns.histplot(data=data, x=\"week\")\n",
    "plt.show()"
   ]
  },
  {
   "cell_type": "markdown",
   "metadata": {},
   "source": [
    "i notice a increase in seasonal order,  in september the numbers are increasing and spike in december, maybe chrismas."
   ]
  },
  {
   "cell_type": "code",
   "execution_count": 25,
   "metadata": {},
   "outputs": [
    {
     "data": {
      "text/html": [
       "<div>\n",
       "<style scoped>\n",
       "    .dataframe tbody tr th:only-of-type {\n",
       "        vertical-align: middle;\n",
       "    }\n",
       "\n",
       "    .dataframe tbody tr th {\n",
       "        vertical-align: top;\n",
       "    }\n",
       "\n",
       "    .dataframe thead th {\n",
       "        text-align: right;\n",
       "    }\n",
       "</style>\n",
       "<table border=\"1\" class=\"dataframe\">\n",
       "  <thead>\n",
       "    <tr style=\"text-align: right;\">\n",
       "      <th></th>\n",
       "      <th>invoiceno</th>\n",
       "      <th>stockcode</th>\n",
       "      <th>description</th>\n",
       "      <th>quantity</th>\n",
       "      <th>timestamp</th>\n",
       "      <th>unitprice</th>\n",
       "      <th>customerid</th>\n",
       "      <th>day</th>\n",
       "      <th>week</th>\n",
       "    </tr>\n",
       "  </thead>\n",
       "  <tbody>\n",
       "    <tr>\n",
       "      <th>0</th>\n",
       "      <td>536365</td>\n",
       "      <td>85123A</td>\n",
       "      <td>WHITE HANGING HEART T-LIGHT HOLDER</td>\n",
       "      <td>6</td>\n",
       "      <td>2018-11-29 08:26:00</td>\n",
       "      <td>2.55</td>\n",
       "      <td>17850.0</td>\n",
       "      <td>3</td>\n",
       "      <td>48</td>\n",
       "    </tr>\n",
       "    <tr>\n",
       "      <th>1</th>\n",
       "      <td>536365</td>\n",
       "      <td>71053</td>\n",
       "      <td>WHITE METAL LANTERN</td>\n",
       "      <td>6</td>\n",
       "      <td>2018-11-29 08:26:00</td>\n",
       "      <td>3.39</td>\n",
       "      <td>17850.0</td>\n",
       "      <td>3</td>\n",
       "      <td>48</td>\n",
       "    </tr>\n",
       "    <tr>\n",
       "      <th>2</th>\n",
       "      <td>536365</td>\n",
       "      <td>84406B</td>\n",
       "      <td>CREAM CUPID HEARTS COAT HANGER</td>\n",
       "      <td>8</td>\n",
       "      <td>2018-11-29 08:26:00</td>\n",
       "      <td>2.75</td>\n",
       "      <td>17850.0</td>\n",
       "      <td>3</td>\n",
       "      <td>48</td>\n",
       "    </tr>\n",
       "    <tr>\n",
       "      <th>3</th>\n",
       "      <td>536365</td>\n",
       "      <td>84029G</td>\n",
       "      <td>KNITTED UNION FLAG HOT WATER BOTTLE</td>\n",
       "      <td>6</td>\n",
       "      <td>2018-11-29 08:26:00</td>\n",
       "      <td>3.39</td>\n",
       "      <td>17850.0</td>\n",
       "      <td>3</td>\n",
       "      <td>48</td>\n",
       "    </tr>\n",
       "    <tr>\n",
       "      <th>4</th>\n",
       "      <td>536365</td>\n",
       "      <td>84029E</td>\n",
       "      <td>RED WOOLLY HOTTIE WHITE HEART.</td>\n",
       "      <td>6</td>\n",
       "      <td>2018-11-29 08:26:00</td>\n",
       "      <td>3.39</td>\n",
       "      <td>17850.0</td>\n",
       "      <td>3</td>\n",
       "      <td>48</td>\n",
       "    </tr>\n",
       "  </tbody>\n",
       "</table>\n",
       "</div>"
      ],
      "text/plain": [
       "  invoiceno stockcode                          description  quantity  \\\n",
       "0    536365    85123A   WHITE HANGING HEART T-LIGHT HOLDER         6   \n",
       "1    536365     71053                  WHITE METAL LANTERN         6   \n",
       "2    536365    84406B       CREAM CUPID HEARTS COAT HANGER         8   \n",
       "3    536365    84029G  KNITTED UNION FLAG HOT WATER BOTTLE         6   \n",
       "4    536365    84029E       RED WOOLLY HOTTIE WHITE HEART.         6   \n",
       "\n",
       "            timestamp  unitprice customerid  day  week  \n",
       "0 2018-11-29 08:26:00       2.55    17850.0    3    48  \n",
       "1 2018-11-29 08:26:00       3.39    17850.0    3    48  \n",
       "2 2018-11-29 08:26:00       2.75    17850.0    3    48  \n",
       "3 2018-11-29 08:26:00       3.39    17850.0    3    48  \n",
       "4 2018-11-29 08:26:00       3.39    17850.0    3    48  "
      ]
     },
     "execution_count": 25,
     "metadata": {},
     "output_type": "execute_result"
    }
   ],
   "source": [
    "data.head()"
   ]
  },
  {
   "cell_type": "code",
   "execution_count": 26,
   "metadata": {},
   "outputs": [
    {
     "data": {
      "text/html": [
       "<div>\n",
       "<style scoped>\n",
       "    .dataframe tbody tr th:only-of-type {\n",
       "        vertical-align: middle;\n",
       "    }\n",
       "\n",
       "    .dataframe tbody tr th {\n",
       "        vertical-align: top;\n",
       "    }\n",
       "\n",
       "    .dataframe thead th {\n",
       "        text-align: right;\n",
       "    }\n",
       "</style>\n",
       "<table border=\"1\" class=\"dataframe\">\n",
       "  <thead>\n",
       "    <tr style=\"text-align: right;\">\n",
       "      <th></th>\n",
       "      <th>invoiceno</th>\n",
       "      <th>stockcode</th>\n",
       "      <th>description</th>\n",
       "      <th>quantity</th>\n",
       "      <th>timestamp</th>\n",
       "      <th>unitprice</th>\n",
       "      <th>customerid</th>\n",
       "      <th>day</th>\n",
       "      <th>week</th>\n",
       "    </tr>\n",
       "  </thead>\n",
       "  <tbody>\n",
       "    <tr>\n",
       "      <th>0</th>\n",
       "      <td>536365</td>\n",
       "      <td>85123A</td>\n",
       "      <td>WHITE HANGING HEART T-LIGHT HOLDER</td>\n",
       "      <td>6</td>\n",
       "      <td>2018-11-29 08:26:00</td>\n",
       "      <td>2.55000</td>\n",
       "      <td>17850.0</td>\n",
       "      <td>3</td>\n",
       "      <td>48</td>\n",
       "    </tr>\n",
       "    <tr>\n",
       "      <th>1</th>\n",
       "      <td>536365</td>\n",
       "      <td>71053</td>\n",
       "      <td>WHITE METAL LANTERN</td>\n",
       "      <td>6</td>\n",
       "      <td>2018-11-29 08:26:00</td>\n",
       "      <td>3.39000</td>\n",
       "      <td>17850.0</td>\n",
       "      <td>3</td>\n",
       "      <td>48</td>\n",
       "    </tr>\n",
       "    <tr>\n",
       "      <th>2</th>\n",
       "      <td>536365</td>\n",
       "      <td>84406B</td>\n",
       "      <td>CREAM CUPID HEARTS COAT HANGER</td>\n",
       "      <td>8</td>\n",
       "      <td>2018-11-29 08:26:00</td>\n",
       "      <td>2.75000</td>\n",
       "      <td>17850.0</td>\n",
       "      <td>3</td>\n",
       "      <td>48</td>\n",
       "    </tr>\n",
       "    <tr>\n",
       "      <th>3</th>\n",
       "      <td>536365</td>\n",
       "      <td>84029G</td>\n",
       "      <td>KNITTED UNION FLAG HOT WATER BOTTLE</td>\n",
       "      <td>6</td>\n",
       "      <td>2018-11-29 08:26:00</td>\n",
       "      <td>3.39000</td>\n",
       "      <td>17850.0</td>\n",
       "      <td>3</td>\n",
       "      <td>48</td>\n",
       "    </tr>\n",
       "    <tr>\n",
       "      <th>4</th>\n",
       "      <td>536365</td>\n",
       "      <td>84029E</td>\n",
       "      <td>RED WOOLLY HOTTIE WHITE HEART.</td>\n",
       "      <td>6</td>\n",
       "      <td>2018-11-29 08:26:00</td>\n",
       "      <td>3.39000</td>\n",
       "      <td>17850.0</td>\n",
       "      <td>3</td>\n",
       "      <td>48</td>\n",
       "    </tr>\n",
       "    <tr>\n",
       "      <th>...</th>\n",
       "      <td>...</td>\n",
       "      <td>...</td>\n",
       "      <td>...</td>\n",
       "      <td>...</td>\n",
       "      <td>...</td>\n",
       "      <td>...</td>\n",
       "      <td>...</td>\n",
       "      <td>...</td>\n",
       "      <td>...</td>\n",
       "    </tr>\n",
       "    <tr>\n",
       "      <th>541895</th>\n",
       "      <td>581587</td>\n",
       "      <td>22556</td>\n",
       "      <td>PLASTERS IN TIN CIRCUS PARADE</td>\n",
       "      <td>12</td>\n",
       "      <td>2019-12-07 12:50:00</td>\n",
       "      <td>1.65000</td>\n",
       "      <td>12680.0</td>\n",
       "      <td>5</td>\n",
       "      <td>49</td>\n",
       "    </tr>\n",
       "    <tr>\n",
       "      <th>541907</th>\n",
       "      <td>581587</td>\n",
       "      <td>23255</td>\n",
       "      <td>CHILDRENS CUTLERY CIRCUS PARADE</td>\n",
       "      <td>4</td>\n",
       "      <td>2019-12-07 12:50:00</td>\n",
       "      <td>4.15000</td>\n",
       "      <td>12680.0</td>\n",
       "      <td>5</td>\n",
       "      <td>49</td>\n",
       "    </tr>\n",
       "    <tr>\n",
       "      <th>541899</th>\n",
       "      <td>581587</td>\n",
       "      <td>22726</td>\n",
       "      <td>ALARM CLOCK BAKELIKE GREEN</td>\n",
       "      <td>4</td>\n",
       "      <td>2019-12-07 12:50:00</td>\n",
       "      <td>3.75000</td>\n",
       "      <td>12680.0</td>\n",
       "      <td>5</td>\n",
       "      <td>49</td>\n",
       "    </tr>\n",
       "    <tr>\n",
       "      <th>541908</th>\n",
       "      <td>581587</td>\n",
       "      <td>22138</td>\n",
       "      <td>BAKING SET 9 PIECE RETROSPOT</td>\n",
       "      <td>3</td>\n",
       "      <td>2019-12-07 12:50:00</td>\n",
       "      <td>4.95000</td>\n",
       "      <td>12680.0</td>\n",
       "      <td>5</td>\n",
       "      <td>49</td>\n",
       "    </tr>\n",
       "    <tr>\n",
       "      <th>299982</th>\n",
       "      <td>A563185</td>\n",
       "      <td>B</td>\n",
       "      <td>Adjust bad debt</td>\n",
       "      <td>1</td>\n",
       "      <td>2019-08-10 14:50:00</td>\n",
       "      <td>11062.05957</td>\n",
       "      <td>B</td>\n",
       "      <td>5</td>\n",
       "      <td>32</td>\n",
       "    </tr>\n",
       "  </tbody>\n",
       "</table>\n",
       "<p>524876 rows × 9 columns</p>\n",
       "</div>"
      ],
      "text/plain": [
       "       invoiceno stockcode                          description  quantity  \\\n",
       "0         536365    85123A   WHITE HANGING HEART T-LIGHT HOLDER         6   \n",
       "1         536365     71053                  WHITE METAL LANTERN         6   \n",
       "2         536365    84406B       CREAM CUPID HEARTS COAT HANGER         8   \n",
       "3         536365    84029G  KNITTED UNION FLAG HOT WATER BOTTLE         6   \n",
       "4         536365    84029E       RED WOOLLY HOTTIE WHITE HEART.         6   \n",
       "...          ...       ...                                  ...       ...   \n",
       "541895    581587     22556       PLASTERS IN TIN CIRCUS PARADE         12   \n",
       "541907    581587     23255      CHILDRENS CUTLERY CIRCUS PARADE         4   \n",
       "541899    581587     22726           ALARM CLOCK BAKELIKE GREEN         4   \n",
       "541908    581587     22138        BAKING SET 9 PIECE RETROSPOT          3   \n",
       "299982   A563185         B                      Adjust bad debt         1   \n",
       "\n",
       "                 timestamp    unitprice customerid  day  week  \n",
       "0      2018-11-29 08:26:00      2.55000    17850.0    3    48  \n",
       "1      2018-11-29 08:26:00      3.39000    17850.0    3    48  \n",
       "2      2018-11-29 08:26:00      2.75000    17850.0    3    48  \n",
       "3      2018-11-29 08:26:00      3.39000    17850.0    3    48  \n",
       "4      2018-11-29 08:26:00      3.39000    17850.0    3    48  \n",
       "...                    ...          ...        ...  ...   ...  \n",
       "541895 2019-12-07 12:50:00      1.65000    12680.0    5    49  \n",
       "541907 2019-12-07 12:50:00      4.15000    12680.0    5    49  \n",
       "541899 2019-12-07 12:50:00      3.75000    12680.0    5    49  \n",
       "541908 2019-12-07 12:50:00      4.95000    12680.0    5    49  \n",
       "299982 2019-08-10 14:50:00  11062.05957          B    5    32  \n",
       "\n",
       "[524876 rows x 9 columns]"
      ]
     },
     "execution_count": 26,
     "metadata": {},
     "output_type": "execute_result"
    }
   ],
   "source": [
    "data.sort_values(by=[\"invoiceno\"], ascending=True )"
   ]
  },
  {
   "cell_type": "code",
   "execution_count": 27,
   "metadata": {},
   "outputs": [],
   "source": [
    "data=data[~(data['stockcode'].str.contains(\"[A-Z]\"))]\n",
    "data=data[~(data['invoiceno'].str.contains(\"[A-Z]\"))]"
   ]
  },
  {
   "cell_type": "code",
   "execution_count": 28,
   "metadata": {},
   "outputs": [
    {
     "data": {
      "text/html": [
       "<div>\n",
       "<style scoped>\n",
       "    .dataframe tbody tr th:only-of-type {\n",
       "        vertical-align: middle;\n",
       "    }\n",
       "\n",
       "    .dataframe tbody tr th {\n",
       "        vertical-align: top;\n",
       "    }\n",
       "\n",
       "    .dataframe thead th {\n",
       "        text-align: right;\n",
       "    }\n",
       "</style>\n",
       "<table border=\"1\" class=\"dataframe\">\n",
       "  <thead>\n",
       "    <tr style=\"text-align: right;\">\n",
       "      <th></th>\n",
       "      <th>invoiceno</th>\n",
       "      <th>stockcode</th>\n",
       "      <th>description</th>\n",
       "      <th>quantity</th>\n",
       "      <th>timestamp</th>\n",
       "      <th>unitprice</th>\n",
       "      <th>customerid</th>\n",
       "      <th>day</th>\n",
       "      <th>week</th>\n",
       "    </tr>\n",
       "  </thead>\n",
       "  <tbody>\n",
       "    <tr>\n",
       "      <th>1</th>\n",
       "      <td>536365</td>\n",
       "      <td>71053</td>\n",
       "      <td>WHITE METAL LANTERN</td>\n",
       "      <td>6</td>\n",
       "      <td>2018-11-29 08:26:00</td>\n",
       "      <td>3.39</td>\n",
       "      <td>17850.0</td>\n",
       "      <td>3</td>\n",
       "      <td>48</td>\n",
       "    </tr>\n",
       "    <tr>\n",
       "      <th>5</th>\n",
       "      <td>536365</td>\n",
       "      <td>22752</td>\n",
       "      <td>SET 7 BABUSHKA NESTING BOXES</td>\n",
       "      <td>2</td>\n",
       "      <td>2018-11-29 08:26:00</td>\n",
       "      <td>7.65</td>\n",
       "      <td>17850.0</td>\n",
       "      <td>3</td>\n",
       "      <td>48</td>\n",
       "    </tr>\n",
       "    <tr>\n",
       "      <th>6</th>\n",
       "      <td>536365</td>\n",
       "      <td>21730</td>\n",
       "      <td>GLASS STAR FROSTED T-LIGHT HOLDER</td>\n",
       "      <td>6</td>\n",
       "      <td>2018-11-29 08:26:00</td>\n",
       "      <td>4.25</td>\n",
       "      <td>17850.0</td>\n",
       "      <td>3</td>\n",
       "      <td>48</td>\n",
       "    </tr>\n",
       "    <tr>\n",
       "      <th>7</th>\n",
       "      <td>536366</td>\n",
       "      <td>22633</td>\n",
       "      <td>HAND WARMER UNION JACK</td>\n",
       "      <td>6</td>\n",
       "      <td>2018-11-29 08:28:00</td>\n",
       "      <td>1.85</td>\n",
       "      <td>17850.0</td>\n",
       "      <td>3</td>\n",
       "      <td>48</td>\n",
       "    </tr>\n",
       "    <tr>\n",
       "      <th>8</th>\n",
       "      <td>536366</td>\n",
       "      <td>22632</td>\n",
       "      <td>HAND WARMER RED POLKA DOT</td>\n",
       "      <td>6</td>\n",
       "      <td>2018-11-29 08:28:00</td>\n",
       "      <td>1.85</td>\n",
       "      <td>17850.0</td>\n",
       "      <td>3</td>\n",
       "      <td>48</td>\n",
       "    </tr>\n",
       "    <tr>\n",
       "      <th>...</th>\n",
       "      <td>...</td>\n",
       "      <td>...</td>\n",
       "      <td>...</td>\n",
       "      <td>...</td>\n",
       "      <td>...</td>\n",
       "      <td>...</td>\n",
       "      <td>...</td>\n",
       "      <td>...</td>\n",
       "      <td>...</td>\n",
       "    </tr>\n",
       "    <tr>\n",
       "      <th>541904</th>\n",
       "      <td>581587</td>\n",
       "      <td>22613</td>\n",
       "      <td>PACK OF 20 SPACEBOY NAPKINS</td>\n",
       "      <td>12</td>\n",
       "      <td>2019-12-07 12:50:00</td>\n",
       "      <td>0.85</td>\n",
       "      <td>12680.0</td>\n",
       "      <td>5</td>\n",
       "      <td>49</td>\n",
       "    </tr>\n",
       "    <tr>\n",
       "      <th>541905</th>\n",
       "      <td>581587</td>\n",
       "      <td>22899</td>\n",
       "      <td>CHILDREN'S APRON DOLLY GIRL</td>\n",
       "      <td>6</td>\n",
       "      <td>2019-12-07 12:50:00</td>\n",
       "      <td>2.10</td>\n",
       "      <td>12680.0</td>\n",
       "      <td>5</td>\n",
       "      <td>49</td>\n",
       "    </tr>\n",
       "    <tr>\n",
       "      <th>541906</th>\n",
       "      <td>581587</td>\n",
       "      <td>23254</td>\n",
       "      <td>CHILDRENS CUTLERY DOLLY GIRL</td>\n",
       "      <td>4</td>\n",
       "      <td>2019-12-07 12:50:00</td>\n",
       "      <td>4.15</td>\n",
       "      <td>12680.0</td>\n",
       "      <td>5</td>\n",
       "      <td>49</td>\n",
       "    </tr>\n",
       "    <tr>\n",
       "      <th>541907</th>\n",
       "      <td>581587</td>\n",
       "      <td>23255</td>\n",
       "      <td>CHILDRENS CUTLERY CIRCUS PARADE</td>\n",
       "      <td>4</td>\n",
       "      <td>2019-12-07 12:50:00</td>\n",
       "      <td>4.15</td>\n",
       "      <td>12680.0</td>\n",
       "      <td>5</td>\n",
       "      <td>49</td>\n",
       "    </tr>\n",
       "    <tr>\n",
       "      <th>541908</th>\n",
       "      <td>581587</td>\n",
       "      <td>22138</td>\n",
       "      <td>BAKING SET 9 PIECE RETROSPOT</td>\n",
       "      <td>3</td>\n",
       "      <td>2019-12-07 12:50:00</td>\n",
       "      <td>4.95</td>\n",
       "      <td>12680.0</td>\n",
       "      <td>5</td>\n",
       "      <td>49</td>\n",
       "    </tr>\n",
       "  </tbody>\n",
       "</table>\n",
       "<p>474227 rows × 9 columns</p>\n",
       "</div>"
      ],
      "text/plain": [
       "       invoiceno stockcode                        description  quantity  \\\n",
       "1         536365     71053                WHITE METAL LANTERN         6   \n",
       "5         536365     22752       SET 7 BABUSHKA NESTING BOXES         2   \n",
       "6         536365     21730  GLASS STAR FROSTED T-LIGHT HOLDER         6   \n",
       "7         536366     22633             HAND WARMER UNION JACK         6   \n",
       "8         536366     22632          HAND WARMER RED POLKA DOT         6   \n",
       "...          ...       ...                                ...       ...   \n",
       "541904    581587     22613        PACK OF 20 SPACEBOY NAPKINS        12   \n",
       "541905    581587     22899       CHILDREN'S APRON DOLLY GIRL          6   \n",
       "541906    581587     23254      CHILDRENS CUTLERY DOLLY GIRL          4   \n",
       "541907    581587     23255    CHILDRENS CUTLERY CIRCUS PARADE         4   \n",
       "541908    581587     22138      BAKING SET 9 PIECE RETROSPOT          3   \n",
       "\n",
       "                 timestamp  unitprice customerid  day  week  \n",
       "1      2018-11-29 08:26:00       3.39    17850.0    3    48  \n",
       "5      2018-11-29 08:26:00       7.65    17850.0    3    48  \n",
       "6      2018-11-29 08:26:00       4.25    17850.0    3    48  \n",
       "7      2018-11-29 08:28:00       1.85    17850.0    3    48  \n",
       "8      2018-11-29 08:28:00       1.85    17850.0    3    48  \n",
       "...                    ...        ...        ...  ...   ...  \n",
       "541904 2019-12-07 12:50:00       0.85    12680.0    5    49  \n",
       "541905 2019-12-07 12:50:00       2.10    12680.0    5    49  \n",
       "541906 2019-12-07 12:50:00       4.15    12680.0    5    49  \n",
       "541907 2019-12-07 12:50:00       4.15    12680.0    5    49  \n",
       "541908 2019-12-07 12:50:00       4.95    12680.0    5    49  \n",
       "\n",
       "[474227 rows x 9 columns]"
      ]
     },
     "execution_count": 28,
     "metadata": {},
     "output_type": "execute_result"
    }
   ],
   "source": [
    "data"
   ]
  },
  {
   "cell_type": "code",
   "execution_count": 29,
   "metadata": {},
   "outputs": [
    {
     "data": {
      "text/html": [
       "<div>\n",
       "<style scoped>\n",
       "    .dataframe tbody tr th:only-of-type {\n",
       "        vertical-align: middle;\n",
       "    }\n",
       "\n",
       "    .dataframe tbody tr th {\n",
       "        vertical-align: top;\n",
       "    }\n",
       "\n",
       "    .dataframe thead th {\n",
       "        text-align: right;\n",
       "    }\n",
       "</style>\n",
       "<table border=\"1\" class=\"dataframe\">\n",
       "  <thead>\n",
       "    <tr style=\"text-align: right;\">\n",
       "      <th></th>\n",
       "      <th>invoiceno</th>\n",
       "      <th>stockcode</th>\n",
       "      <th>description</th>\n",
       "      <th>quantity</th>\n",
       "      <th>timestamp</th>\n",
       "      <th>unitprice</th>\n",
       "      <th>customerid</th>\n",
       "      <th>day</th>\n",
       "      <th>week</th>\n",
       "    </tr>\n",
       "  </thead>\n",
       "  <tbody>\n",
       "    <tr>\n",
       "      <th>308637</th>\n",
       "      <td>564043</td>\n",
       "      <td>16045</td>\n",
       "      <td>POPART WOODEN PENCILS ASST</td>\n",
       "      <td>100</td>\n",
       "      <td>2019-08-20 12:55:00</td>\n",
       "      <td>0.04</td>\n",
       "      <td>14414.0</td>\n",
       "      <td>1</td>\n",
       "      <td>34</td>\n",
       "    </tr>\n",
       "    <tr>\n",
       "      <th>477440</th>\n",
       "      <td>577057</td>\n",
       "      <td>16045</td>\n",
       "      <td>POPART WOODEN PENCILS ASST</td>\n",
       "      <td>100</td>\n",
       "      <td>2019-11-15 14:26:00</td>\n",
       "      <td>0.04</td>\n",
       "      <td>12748.0</td>\n",
       "      <td>4</td>\n",
       "      <td>46</td>\n",
       "    </tr>\n",
       "    <tr>\n",
       "      <th>506918</th>\n",
       "      <td>579161</td>\n",
       "      <td>16045</td>\n",
       "      <td>POPART WOODEN PENCILS ASST</td>\n",
       "      <td>100</td>\n",
       "      <td>2019-11-26 13:56:00</td>\n",
       "      <td>0.04</td>\n",
       "      <td>17379.0</td>\n",
       "      <td>1</td>\n",
       "      <td>48</td>\n",
       "    </tr>\n",
       "    <tr>\n",
       "      <th>492556</th>\n",
       "      <td>578126</td>\n",
       "      <td>16045</td>\n",
       "      <td>POPART WOODEN PENCILS ASST</td>\n",
       "      <td>100</td>\n",
       "      <td>2019-11-21 10:32:00</td>\n",
       "      <td>0.04</td>\n",
       "      <td>16900.0</td>\n",
       "      <td>3</td>\n",
       "      <td>47</td>\n",
       "    </tr>\n",
       "    <tr>\n",
       "      <th>293771</th>\n",
       "      <td>562616</td>\n",
       "      <td>16045</td>\n",
       "      <td>POPART WOODEN PENCILS ASST</td>\n",
       "      <td>100</td>\n",
       "      <td>2019-08-06 12:28:00</td>\n",
       "      <td>0.04</td>\n",
       "      <td>14748.0</td>\n",
       "      <td>1</td>\n",
       "      <td>32</td>\n",
       "    </tr>\n",
       "    <tr>\n",
       "      <th>233805</th>\n",
       "      <td>557492</td>\n",
       "      <td>16045</td>\n",
       "      <td>POPART WOODEN PENCILS ASST</td>\n",
       "      <td>100</td>\n",
       "      <td>2019-06-18 15:08:00</td>\n",
       "      <td>0.04</td>\n",
       "      <td>13717.0</td>\n",
       "      <td>1</td>\n",
       "      <td>25</td>\n",
       "    </tr>\n",
       "    <tr>\n",
       "      <th>408352</th>\n",
       "      <td>571937</td>\n",
       "      <td>16045</td>\n",
       "      <td>POPART WOODEN PENCILS ASST</td>\n",
       "      <td>100</td>\n",
       "      <td>2019-10-18 09:28:00</td>\n",
       "      <td>0.04</td>\n",
       "      <td>14911.0</td>\n",
       "      <td>4</td>\n",
       "      <td>42</td>\n",
       "    </tr>\n",
       "    <tr>\n",
       "      <th>269871</th>\n",
       "      <td>560504</td>\n",
       "      <td>16045</td>\n",
       "      <td>POPART WOODEN PENCILS ASST</td>\n",
       "      <td>100</td>\n",
       "      <td>2019-07-17 11:47:00</td>\n",
       "      <td>0.04</td>\n",
       "      <td>13081.0</td>\n",
       "      <td>2</td>\n",
       "      <td>29</td>\n",
       "    </tr>\n",
       "    <tr>\n",
       "      <th>427789</th>\n",
       "      <td>573399</td>\n",
       "      <td>16045</td>\n",
       "      <td>POPART WOODEN PENCILS ASST</td>\n",
       "      <td>100</td>\n",
       "      <td>2019-10-28 15:35:00</td>\n",
       "      <td>0.04</td>\n",
       "      <td>13949.0</td>\n",
       "      <td>0</td>\n",
       "      <td>44</td>\n",
       "    </tr>\n",
       "    <tr>\n",
       "      <th>410140</th>\n",
       "      <td>572092</td>\n",
       "      <td>16045</td>\n",
       "      <td>POPART WOODEN PENCILS ASST</td>\n",
       "      <td>100</td>\n",
       "      <td>2019-10-18 14:41:00</td>\n",
       "      <td>0.04</td>\n",
       "      <td>17125.0</td>\n",
       "      <td>4</td>\n",
       "      <td>42</td>\n",
       "    </tr>\n",
       "    <tr>\n",
       "      <th>354217</th>\n",
       "      <td>567866</td>\n",
       "      <td>16045</td>\n",
       "      <td>POPART WOODEN PENCILS ASST</td>\n",
       "      <td>100</td>\n",
       "      <td>2019-09-20 14:13:00</td>\n",
       "      <td>0.04</td>\n",
       "      <td>16669.0</td>\n",
       "      <td>4</td>\n",
       "      <td>38</td>\n",
       "    </tr>\n",
       "    <tr>\n",
       "      <th>243015</th>\n",
       "      <td>558389</td>\n",
       "      <td>16045</td>\n",
       "      <td>POPART WOODEN PENCILS ASST</td>\n",
       "      <td>100</td>\n",
       "      <td>2019-06-27 10:18:00</td>\n",
       "      <td>0.04</td>\n",
       "      <td>14383.0</td>\n",
       "      <td>3</td>\n",
       "      <td>26</td>\n",
       "    </tr>\n",
       "    <tr>\n",
       "      <th>217060</th>\n",
       "      <td>555876</td>\n",
       "      <td>16045</td>\n",
       "      <td>POPART WOODEN PENCILS ASST</td>\n",
       "      <td>100</td>\n",
       "      <td>2019-06-05 15:28:00</td>\n",
       "      <td>0.04</td>\n",
       "      <td>15799.0</td>\n",
       "      <td>2</td>\n",
       "      <td>23</td>\n",
       "    </tr>\n",
       "    <tr>\n",
       "      <th>402329</th>\n",
       "      <td>571496</td>\n",
       "      <td>16045</td>\n",
       "      <td>POPART WOODEN PENCILS ASST</td>\n",
       "      <td>100</td>\n",
       "      <td>2019-10-15 15:02:00</td>\n",
       "      <td>0.04</td>\n",
       "      <td>13265.0</td>\n",
       "      <td>1</td>\n",
       "      <td>42</td>\n",
       "    </tr>\n",
       "    <tr>\n",
       "      <th>307419</th>\n",
       "      <td>563917</td>\n",
       "      <td>16045</td>\n",
       "      <td>POPART WOODEN PENCILS ASST</td>\n",
       "      <td>100</td>\n",
       "      <td>2019-08-19 13:46:00</td>\n",
       "      <td>0.04</td>\n",
       "      <td>14572.0</td>\n",
       "      <td>0</td>\n",
       "      <td>34</td>\n",
       "    </tr>\n",
       "    <tr>\n",
       "      <th>267502</th>\n",
       "      <td>560300</td>\n",
       "      <td>16045</td>\n",
       "      <td>POPART WOODEN PENCILS ASST</td>\n",
       "      <td>100</td>\n",
       "      <td>2019-07-16 10:29:00</td>\n",
       "      <td>0.04</td>\n",
       "      <td>14911.0</td>\n",
       "      <td>1</td>\n",
       "      <td>29</td>\n",
       "    </tr>\n",
       "    <tr>\n",
       "      <th>286813</th>\n",
       "      <td>562044</td>\n",
       "      <td>16045</td>\n",
       "      <td>POPART WOODEN PENCILS ASST</td>\n",
       "      <td>100</td>\n",
       "      <td>2019-07-31 10:24:00</td>\n",
       "      <td>0.04</td>\n",
       "      <td>16607.0</td>\n",
       "      <td>2</td>\n",
       "      <td>31</td>\n",
       "    </tr>\n",
       "    <tr>\n",
       "      <th>334170</th>\n",
       "      <td>566233</td>\n",
       "      <td>16045</td>\n",
       "      <td>POPART WOODEN PENCILS ASST</td>\n",
       "      <td>100</td>\n",
       "      <td>2019-09-09 11:04:00</td>\n",
       "      <td>0.04</td>\n",
       "      <td>12635.0</td>\n",
       "      <td>0</td>\n",
       "      <td>37</td>\n",
       "    </tr>\n",
       "    <tr>\n",
       "      <th>427893</th>\n",
       "      <td>573405</td>\n",
       "      <td>16045</td>\n",
       "      <td>POPART WOODEN PENCILS ASST</td>\n",
       "      <td>100</td>\n",
       "      <td>2019-10-28 15:55:00</td>\n",
       "      <td>0.04</td>\n",
       "      <td>13822.0</td>\n",
       "      <td>0</td>\n",
       "      <td>44</td>\n",
       "    </tr>\n",
       "    <tr>\n",
       "      <th>363674</th>\n",
       "      <td>568568</td>\n",
       "      <td>16045</td>\n",
       "      <td>POPART WOODEN PENCILS ASST</td>\n",
       "      <td>100</td>\n",
       "      <td>2019-09-26 08:48:00</td>\n",
       "      <td>0.04</td>\n",
       "      <td>14412.0</td>\n",
       "      <td>3</td>\n",
       "      <td>39</td>\n",
       "    </tr>\n",
       "    <tr>\n",
       "      <th>344823</th>\n",
       "      <td>567102</td>\n",
       "      <td>16045</td>\n",
       "      <td>POPART WOODEN PENCILS ASST</td>\n",
       "      <td>500</td>\n",
       "      <td>2019-09-14 13:32:00</td>\n",
       "      <td>0.04</td>\n",
       "      <td>14124.0</td>\n",
       "      <td>5</td>\n",
       "      <td>37</td>\n",
       "    </tr>\n",
       "    <tr>\n",
       "      <th>301848</th>\n",
       "      <td>563355</td>\n",
       "      <td>16045</td>\n",
       "      <td>POPART WOODEN PENCILS ASST</td>\n",
       "      <td>100</td>\n",
       "      <td>2019-08-13 14:39:00</td>\n",
       "      <td>0.04</td>\n",
       "      <td>14156.0</td>\n",
       "      <td>1</td>\n",
       "      <td>33</td>\n",
       "    </tr>\n",
       "    <tr>\n",
       "      <th>464076</th>\n",
       "      <td>576076</td>\n",
       "      <td>16045</td>\n",
       "      <td>POPART WOODEN PENCILS ASST</td>\n",
       "      <td>200</td>\n",
       "      <td>2019-11-11 16:18:00</td>\n",
       "      <td>0.04</td>\n",
       "      <td>14382.0</td>\n",
       "      <td>0</td>\n",
       "      <td>46</td>\n",
       "    </tr>\n",
       "    <tr>\n",
       "      <th>400464</th>\n",
       "      <td>571312</td>\n",
       "      <td>16045</td>\n",
       "      <td>POPART WOODEN PENCILS ASST</td>\n",
       "      <td>100</td>\n",
       "      <td>2019-10-15 10:42:00</td>\n",
       "      <td>0.04</td>\n",
       "      <td>12474.0</td>\n",
       "      <td>1</td>\n",
       "      <td>42</td>\n",
       "    </tr>\n",
       "    <tr>\n",
       "      <th>301033</th>\n",
       "      <td>563234</td>\n",
       "      <td>16045</td>\n",
       "      <td>POPART WOODEN PENCILS ASST</td>\n",
       "      <td>100</td>\n",
       "      <td>2019-08-13 08:26:00</td>\n",
       "      <td>0.04</td>\n",
       "      <td>13621.0</td>\n",
       "      <td>1</td>\n",
       "      <td>33</td>\n",
       "    </tr>\n",
       "    <tr>\n",
       "      <th>325477</th>\n",
       "      <td>565442</td>\n",
       "      <td>16045</td>\n",
       "      <td>POPART WOODEN PENCILS ASST</td>\n",
       "      <td>100</td>\n",
       "      <td>2019-09-02 14:09:00</td>\n",
       "      <td>0.04</td>\n",
       "      <td>12627.0</td>\n",
       "      <td>0</td>\n",
       "      <td>36</td>\n",
       "    </tr>\n",
       "    <tr>\n",
       "      <th>221726</th>\n",
       "      <td>556267</td>\n",
       "      <td>16045</td>\n",
       "      <td>POPART WOODEN PENCILS ASST</td>\n",
       "      <td>500</td>\n",
       "      <td>2019-06-07 19:33:00</td>\n",
       "      <td>0.04</td>\n",
       "      <td>13694.0</td>\n",
       "      <td>4</td>\n",
       "      <td>23</td>\n",
       "    </tr>\n",
       "    <tr>\n",
       "      <th>282095</th>\n",
       "      <td>561625</td>\n",
       "      <td>16045</td>\n",
       "      <td>POPART WOODEN PENCILS ASST</td>\n",
       "      <td>100</td>\n",
       "      <td>2019-07-26 14:03:00</td>\n",
       "      <td>0.04</td>\n",
       "      <td>16843.0</td>\n",
       "      <td>4</td>\n",
       "      <td>30</td>\n",
       "    </tr>\n",
       "    <tr>\n",
       "      <th>229052</th>\n",
       "      <td>557009</td>\n",
       "      <td>16045</td>\n",
       "      <td>POPART WOODEN PENCILS ASST</td>\n",
       "      <td>100</td>\n",
       "      <td>2019-06-14 11:38:00</td>\n",
       "      <td>0.04</td>\n",
       "      <td>14321.0</td>\n",
       "      <td>4</td>\n",
       "      <td>24</td>\n",
       "    </tr>\n",
       "    <tr>\n",
       "      <th>484163</th>\n",
       "      <td>577522</td>\n",
       "      <td>16045</td>\n",
       "      <td>POPART WOODEN PENCILS ASST</td>\n",
       "      <td>100</td>\n",
       "      <td>2019-11-18 13:23:00</td>\n",
       "      <td>0.04</td>\n",
       "      <td>15988.0</td>\n",
       "      <td>0</td>\n",
       "      <td>47</td>\n",
       "    </tr>\n",
       "  </tbody>\n",
       "</table>\n",
       "</div>"
      ],
      "text/plain": [
       "       invoiceno stockcode                 description  quantity  \\\n",
       "308637    564043     16045  POPART WOODEN PENCILS ASST       100   \n",
       "477440    577057     16045  POPART WOODEN PENCILS ASST       100   \n",
       "506918    579161     16045  POPART WOODEN PENCILS ASST       100   \n",
       "492556    578126     16045  POPART WOODEN PENCILS ASST       100   \n",
       "293771    562616     16045  POPART WOODEN PENCILS ASST       100   \n",
       "233805    557492     16045  POPART WOODEN PENCILS ASST       100   \n",
       "408352    571937     16045  POPART WOODEN PENCILS ASST       100   \n",
       "269871    560504     16045  POPART WOODEN PENCILS ASST       100   \n",
       "427789    573399     16045  POPART WOODEN PENCILS ASST       100   \n",
       "410140    572092     16045  POPART WOODEN PENCILS ASST       100   \n",
       "354217    567866     16045  POPART WOODEN PENCILS ASST       100   \n",
       "243015    558389     16045  POPART WOODEN PENCILS ASST       100   \n",
       "217060    555876     16045  POPART WOODEN PENCILS ASST       100   \n",
       "402329    571496     16045  POPART WOODEN PENCILS ASST       100   \n",
       "307419    563917     16045  POPART WOODEN PENCILS ASST       100   \n",
       "267502    560300     16045  POPART WOODEN PENCILS ASST       100   \n",
       "286813    562044     16045  POPART WOODEN PENCILS ASST       100   \n",
       "334170    566233     16045  POPART WOODEN PENCILS ASST       100   \n",
       "427893    573405     16045  POPART WOODEN PENCILS ASST       100   \n",
       "363674    568568     16045  POPART WOODEN PENCILS ASST       100   \n",
       "344823    567102     16045  POPART WOODEN PENCILS ASST       500   \n",
       "301848    563355     16045  POPART WOODEN PENCILS ASST       100   \n",
       "464076    576076     16045  POPART WOODEN PENCILS ASST       200   \n",
       "400464    571312     16045  POPART WOODEN PENCILS ASST       100   \n",
       "301033    563234     16045  POPART WOODEN PENCILS ASST       100   \n",
       "325477    565442     16045  POPART WOODEN PENCILS ASST       100   \n",
       "221726    556267     16045  POPART WOODEN PENCILS ASST       500   \n",
       "282095    561625     16045  POPART WOODEN PENCILS ASST       100   \n",
       "229052    557009     16045  POPART WOODEN PENCILS ASST       100   \n",
       "484163    577522     16045  POPART WOODEN PENCILS ASST       100   \n",
       "\n",
       "                 timestamp  unitprice customerid  day  week  \n",
       "308637 2019-08-20 12:55:00       0.04    14414.0    1    34  \n",
       "477440 2019-11-15 14:26:00       0.04    12748.0    4    46  \n",
       "506918 2019-11-26 13:56:00       0.04    17379.0    1    48  \n",
       "492556 2019-11-21 10:32:00       0.04    16900.0    3    47  \n",
       "293771 2019-08-06 12:28:00       0.04    14748.0    1    32  \n",
       "233805 2019-06-18 15:08:00       0.04    13717.0    1    25  \n",
       "408352 2019-10-18 09:28:00       0.04    14911.0    4    42  \n",
       "269871 2019-07-17 11:47:00       0.04    13081.0    2    29  \n",
       "427789 2019-10-28 15:35:00       0.04    13949.0    0    44  \n",
       "410140 2019-10-18 14:41:00       0.04    17125.0    4    42  \n",
       "354217 2019-09-20 14:13:00       0.04    16669.0    4    38  \n",
       "243015 2019-06-27 10:18:00       0.04    14383.0    3    26  \n",
       "217060 2019-06-05 15:28:00       0.04    15799.0    2    23  \n",
       "402329 2019-10-15 15:02:00       0.04    13265.0    1    42  \n",
       "307419 2019-08-19 13:46:00       0.04    14572.0    0    34  \n",
       "267502 2019-07-16 10:29:00       0.04    14911.0    1    29  \n",
       "286813 2019-07-31 10:24:00       0.04    16607.0    2    31  \n",
       "334170 2019-09-09 11:04:00       0.04    12635.0    0    37  \n",
       "427893 2019-10-28 15:55:00       0.04    13822.0    0    44  \n",
       "363674 2019-09-26 08:48:00       0.04    14412.0    3    39  \n",
       "344823 2019-09-14 13:32:00       0.04    14124.0    5    37  \n",
       "301848 2019-08-13 14:39:00       0.04    14156.0    1    33  \n",
       "464076 2019-11-11 16:18:00       0.04    14382.0    0    46  \n",
       "400464 2019-10-15 10:42:00       0.04    12474.0    1    42  \n",
       "301033 2019-08-13 08:26:00       0.04    13621.0    1    33  \n",
       "325477 2019-09-02 14:09:00       0.04    12627.0    0    36  \n",
       "221726 2019-06-07 19:33:00       0.04    13694.0    4    23  \n",
       "282095 2019-07-26 14:03:00       0.04    16843.0    4    30  \n",
       "229052 2019-06-14 11:38:00       0.04    14321.0    4    24  \n",
       "484163 2019-11-18 13:23:00       0.04    15988.0    0    47  "
      ]
     },
     "execution_count": 29,
     "metadata": {},
     "output_type": "execute_result"
    }
   ],
   "source": [
    "data.sort_values(by=[\"unitprice\"], ascending=False ).tail(30)"
   ]
  },
  {
   "cell_type": "code",
   "execution_count": 30,
   "metadata": {},
   "outputs": [],
   "source": [
    "data=data.query('invoiceno != \"581483\"')\n",
    "data=data.query('invoiceno != \"23166\"')"
   ]
  },
  {
   "cell_type": "code",
   "execution_count": 31,
   "metadata": {},
   "outputs": [
    {
     "data": {
      "text/html": [
       "<div>\n",
       "<style scoped>\n",
       "    .dataframe tbody tr th:only-of-type {\n",
       "        vertical-align: middle;\n",
       "    }\n",
       "\n",
       "    .dataframe tbody tr th {\n",
       "        vertical-align: top;\n",
       "    }\n",
       "\n",
       "    .dataframe thead th {\n",
       "        text-align: right;\n",
       "    }\n",
       "</style>\n",
       "<table border=\"1\" class=\"dataframe\">\n",
       "  <thead>\n",
       "    <tr style=\"text-align: right;\">\n",
       "      <th></th>\n",
       "      <th>invoiceno</th>\n",
       "      <th>stockcode</th>\n",
       "      <th>description</th>\n",
       "      <th>quantity</th>\n",
       "      <th>timestamp</th>\n",
       "      <th>unitprice</th>\n",
       "      <th>customerid</th>\n",
       "      <th>day</th>\n",
       "      <th>week</th>\n",
       "    </tr>\n",
       "  </thead>\n",
       "  <tbody>\n",
       "    <tr>\n",
       "      <th>430890</th>\n",
       "      <td>573585</td>\n",
       "      <td>22998</td>\n",
       "      <td>TRAVEL CARD WALLET KEEP CALM</td>\n",
       "      <td>200</td>\n",
       "      <td>2019-10-29 14:41:00</td>\n",
       "      <td>0.750000</td>\n",
       "      <td>22998</td>\n",
       "      <td>1</td>\n",
       "      <td>44</td>\n",
       "    </tr>\n",
       "    <tr>\n",
       "      <th>430438</th>\n",
       "      <td>573585</td>\n",
       "      <td>21803</td>\n",
       "      <td>CHRISTMAS TREE STAR DECORATION</td>\n",
       "      <td>148</td>\n",
       "      <td>2019-10-29 14:41:00</td>\n",
       "      <td>0.420000</td>\n",
       "      <td>21803</td>\n",
       "      <td>1</td>\n",
       "      <td>44</td>\n",
       "    </tr>\n",
       "    <tr>\n",
       "      <th>430437</th>\n",
       "      <td>573585</td>\n",
       "      <td>21802</td>\n",
       "      <td>CHRISTMAS TREE HEART DECORATION</td>\n",
       "      <td>121</td>\n",
       "      <td>2019-10-29 14:41:00</td>\n",
       "      <td>0.420000</td>\n",
       "      <td>21802</td>\n",
       "      <td>1</td>\n",
       "      <td>44</td>\n",
       "    </tr>\n",
       "    <tr>\n",
       "      <th>430715</th>\n",
       "      <td>573585</td>\n",
       "      <td>22601</td>\n",
       "      <td>CHRISTMAS RETROSPOT ANGEL WOOD</td>\n",
       "      <td>105</td>\n",
       "      <td>2019-10-29 14:41:00</td>\n",
       "      <td>1.630000</td>\n",
       "      <td>22601</td>\n",
       "      <td>1</td>\n",
       "      <td>44</td>\n",
       "    </tr>\n",
       "    <tr>\n",
       "      <th>430693</th>\n",
       "      <td>573585</td>\n",
       "      <td>22577</td>\n",
       "      <td>WOODEN HEART CHRISTMAS SCANDINAVIAN</td>\n",
       "      <td>95</td>\n",
       "      <td>2019-10-29 14:41:00</td>\n",
       "      <td>0.830000</td>\n",
       "      <td>22577</td>\n",
       "      <td>1</td>\n",
       "      <td>44</td>\n",
       "    </tr>\n",
       "    <tr>\n",
       "      <th>...</th>\n",
       "      <td>...</td>\n",
       "      <td>...</td>\n",
       "      <td>...</td>\n",
       "      <td>...</td>\n",
       "      <td>...</td>\n",
       "      <td>...</td>\n",
       "      <td>...</td>\n",
       "      <td>...</td>\n",
       "      <td>...</td>\n",
       "    </tr>\n",
       "    <tr>\n",
       "      <th>430565</th>\n",
       "      <td>573585</td>\n",
       "      <td>22189</td>\n",
       "      <td>CREAM HEART CARD HOLDER</td>\n",
       "      <td>1</td>\n",
       "      <td>2019-10-29 14:41:00</td>\n",
       "      <td>8.290000</td>\n",
       "      <td>22189</td>\n",
       "      <td>1</td>\n",
       "      <td>44</td>\n",
       "    </tr>\n",
       "    <tr>\n",
       "      <th>430566</th>\n",
       "      <td>573585</td>\n",
       "      <td>22190</td>\n",
       "      <td>LOCAL CAFE MUG</td>\n",
       "      <td>1</td>\n",
       "      <td>2019-10-29 14:41:00</td>\n",
       "      <td>2.460000</td>\n",
       "      <td>22190</td>\n",
       "      <td>1</td>\n",
       "      <td>44</td>\n",
       "    </tr>\n",
       "    <tr>\n",
       "      <th>430567</th>\n",
       "      <td>573585</td>\n",
       "      <td>22191</td>\n",
       "      <td>IVORY DINER WALL CLOCK</td>\n",
       "      <td>1</td>\n",
       "      <td>2019-10-29 14:41:00</td>\n",
       "      <td>16.629999</td>\n",
       "      <td>22191</td>\n",
       "      <td>1</td>\n",
       "      <td>44</td>\n",
       "    </tr>\n",
       "    <tr>\n",
       "      <th>430568</th>\n",
       "      <td>573585</td>\n",
       "      <td>22192</td>\n",
       "      <td>BLUE DINER WALL CLOCK</td>\n",
       "      <td>1</td>\n",
       "      <td>2019-10-29 14:41:00</td>\n",
       "      <td>16.629999</td>\n",
       "      <td>22192</td>\n",
       "      <td>1</td>\n",
       "      <td>44</td>\n",
       "    </tr>\n",
       "    <tr>\n",
       "      <th>431008</th>\n",
       "      <td>573585</td>\n",
       "      <td>23282</td>\n",
       "      <td>FOLDING BUTTERFLY MIRROR IVORY</td>\n",
       "      <td>1</td>\n",
       "      <td>2019-10-29 14:41:00</td>\n",
       "      <td>2.460000</td>\n",
       "      <td>23282</td>\n",
       "      <td>1</td>\n",
       "      <td>44</td>\n",
       "    </tr>\n",
       "  </tbody>\n",
       "</table>\n",
       "<p>999 rows × 9 columns</p>\n",
       "</div>"
      ],
      "text/plain": [
       "       invoiceno stockcode                          description  quantity  \\\n",
       "430890    573585     22998         TRAVEL CARD WALLET KEEP CALM       200   \n",
       "430438    573585     21803       CHRISTMAS TREE STAR DECORATION       148   \n",
       "430437    573585     21802      CHRISTMAS TREE HEART DECORATION       121   \n",
       "430715    573585     22601       CHRISTMAS RETROSPOT ANGEL WOOD       105   \n",
       "430693    573585     22577  WOODEN HEART CHRISTMAS SCANDINAVIAN        95   \n",
       "...          ...       ...                                  ...       ...   \n",
       "430565    573585     22189              CREAM HEART CARD HOLDER         1   \n",
       "430566    573585     22190                       LOCAL CAFE MUG         1   \n",
       "430567    573585     22191               IVORY DINER WALL CLOCK         1   \n",
       "430568    573585     22192                BLUE DINER WALL CLOCK         1   \n",
       "431008    573585     23282      FOLDING BUTTERFLY MIRROR IVORY          1   \n",
       "\n",
       "                 timestamp  unitprice customerid  day  week  \n",
       "430890 2019-10-29 14:41:00   0.750000      22998    1    44  \n",
       "430438 2019-10-29 14:41:00   0.420000      21803    1    44  \n",
       "430437 2019-10-29 14:41:00   0.420000      21802    1    44  \n",
       "430715 2019-10-29 14:41:00   1.630000      22601    1    44  \n",
       "430693 2019-10-29 14:41:00   0.830000      22577    1    44  \n",
       "...                    ...        ...        ...  ...   ...  \n",
       "430565 2019-10-29 14:41:00   8.290000      22189    1    44  \n",
       "430566 2019-10-29 14:41:00   2.460000      22190    1    44  \n",
       "430567 2019-10-29 14:41:00  16.629999      22191    1    44  \n",
       "430568 2019-10-29 14:41:00  16.629999      22192    1    44  \n",
       "431008 2019-10-29 14:41:00   2.460000      23282    1    44  \n",
       "\n",
       "[999 rows x 9 columns]"
      ]
     },
     "execution_count": 31,
     "metadata": {},
     "output_type": "execute_result"
    }
   ],
   "source": [
    "data.query('invoiceno == \"573585\"').sort_values(by=\"quantity\", ascending=False)"
   ]
  },
  {
   "cell_type": "markdown",
   "metadata": {},
   "source": [
    "Conclusion"
   ]
  },
  {
   "cell_type": "code",
   "execution_count": 32,
   "metadata": {},
   "outputs": [],
   "source": [
    "bag=[\"BOX\", \"BACKPACK\", \"BAG\", \"RUCKSACK\", \"CASE\", \"PURSE\", \"LUGGAGE\", \"SHOPPER\"]\n",
    "light=[\"LANTERN\", \"CANDLE\", \"LIGHT\", \"LAMP\", \"CANDLE\", \"LIGHT\", \"TORCH\", \"CHANDELIER\", \"BASE\", \"GLOW\"]\n",
    "toys=[\"HAND WARMER\", \"PLAYHOUSE\", \"DOLL\", \"STICKER\", \"box\", \"Ball\", \"BALLOON\", \"PLAY\", \"RING\", \"PAINTED\",\n",
    "      \"TOP\",\"MOBILE\", \"TIARA\", \"ANIMALS\", \"BALL\", \"BRACELET\", \"BINGO SET\", \"HEADPHONES\", \"PIRATE\", \"TOY\", \"PUZZLE\", \"JIGSAW\",\n",
    "     \"WINDMILL\", \"DINOSAUR\", \"CRAWLIE\", \"SNAKE\", \"ANIMAL\", \"TOOL\", \"INFLATABLE\", \"LUDO\", \"BUBBLES\", \"JOY\", \"KID\", \"MAGIC\", \"PAINT\",\n",
    "     \"CONFETTI\", \"RABBIT\", \"CRAYONS\", \"STICKY\", \"TATTOOS\", \"CAMO\", \"CHILD\", \"MAT\", \"TEDDY\", \"TREASURE\", \"DISC\", \"SKITTLES\",\n",
    "      \"SPACE\", \"TRADITIONAL\", \"BADGES\", \"MEMOBOARD\"]\n",
    "deco=[\"ORNAMENT\", \"WORD\" , \"DECORATION\", \"EGG\", \"FELTCRAFT\", \"RIBBON\", \"ART\", \"WALL\", \"CAT\", \"CRAWLIES\", \"BUTTERFLY\", \"PHONE\",\n",
    "     \"MUSHROOM\", \"WREATH\", \"SHELL\", \"VASE\", \"JUG\", \"GARLAND\", \"BIRD\",\"TOADSTOOL\", \"FLAG\", \"FLORAL\", \"Image\", \"ANTIQUE\",\n",
    "     \"CHIME\", \"STAR\", \"PICTURE\", \"PORCELAIN\", \"MINI\", \"HANGING\", \"STICK\", \"LARIAT\"]\n",
    "kitchen=[\"MUG\", \"JAR\", \"PLACE SETTING\", \"BASKET\", \"CUTLERY\", \"STRAW\", \"COOKIE\", \"CAKE\", \"CUTTER\", \"BIN\",\n",
    "         \"PLATE\", \"GLASS\", \"APRON\", \"BAKING\", \"BOTTLE\", \"TIN\", \"PLACEMAT\", \"KITCHEN\", \"CUP\", \"BEAKER\", \"SPOON\", \"TRAY\", \"CANDY\",\n",
    "        \"BREAKFAST\", \"POT\", \"COASTER\", \"COLANDER\", \"FIRE BUCKET\", \"TEA\", \"ENAMEL\", \"PAN\", \"JAM\", \"MOULDS\", \"COFFEE\", \"PLATTER\",\n",
    "        \"WOOD\", \"DISH\", \"HAMPER\", \"CHOPPING\", \"SUGAR\", \"NAPKIN\", \"TOAST\"]\n",
    "household=[\"DOOR\", \"RACK\", \"CLOCK\", \"DRAWER\", \"STENCIL\", \"TABLE POT\", \"BOWL\", \"PLACE SETTING\", \"JEWEL\", \"FAN\", \" MAGNET\",\n",
    "           \"MIRROR\",\"TOWEL\", \"PEN\" , \"ENVELOPES\", \"COMB\", \"SCREEN\", \"HANGER\", \"HOOK\", \"STRING\" ,\"SIGN\", \"SPONGE\", \"HOLDER\",\n",
    "          \"CLIP\", \"CHAIN\", \"KEY\", \"REPAIR KIT\", \"TAPE\", \"UMBRELLA\", \"FRAME\", \"CALCULATOR\", \"CUSHION\", \"COVER\", \"WRAP\",\n",
    "          \"CALENDAR\", \"CURTAIN\", \"BELL\", \"MATCHES\", \"HAIR\", \"CHAIR\", \"SHELV\", \"SEWING\", \"RUBBER\", \"GLOSS\", \"Meter\", \"POUFFE\",\n",
    "          \"BATHROOM\", \"STOOL\", \"RULER\", \"OIL\", \"HOME\", \"SCISSOR\", \"INCENSE\", \"CHALKBOARD\", \"PHOTO\", \"FONT\", \"STAND\", \"TISSUE\",\n",
    "           \"NAPKINS\", \"PAPERWEIGHT\", \"PACKING\", \"PAD\", \"NOTELET\", \"STAMP\", \"FOOD CONTAINER\"]\n",
    "christmas=[\"CHRISTMAS\",\"GIFT\", \"CARD\", \"SACK\", \"SOCK\", \"MAGNET\", \"Day\", \"STATIONERY\"]\n",
    "outdoor=[\"PLANT\", \"GARDEN\", \"FLOWER\", \"BIRDHOUSE\", \"PARASOL\", \"P'WEIGHT\",\n",
    "       \"CRAFT\", \"CAMPING\", \"FISHING\", \"GOLD\", \"TREE\", \"HERB\", \"HOUSE\",  \"EASTER\", \"SPADE\" ,\"HAMMOCK\", \"DOVECOTE\", \"FEEDING STATION\"]\n",
    "        \n",
    "books=[\"BOOK\", \"JOURNAL\", \"COLLAGE\", \"Manual\"]\n",
    "clothes=[\"DRESS\", \"NECKLACE\", \"EARRING\", \"GLOVE\", \"PATCHES\", \"SHOES\", \"FAUX\", \"SHOE\", \"PATCHWORK\", \"SKIRT\", \"QUILT\", \n",
    "         \"HAT\", \"PONCHO\", \"BIB\", \"SCARF\", \"SHADE\", \"SOMBRERO\"]\n",
    "gifts=[\"Voucher\", \"HAPPY BIRTHDAY\"]"
   ]
  },
  {
   "cell_type": "code",
   "execution_count": 33,
   "metadata": {},
   "outputs": [],
   "source": [
    "liste={\"gifts\" : gifts,\n",
    "       \"clothes\" : clothes,\n",
    "        \"light\" : light,\n",
    "       \"bag\" : bag,\n",
    "       \"toys\" : toys,\n",
    "       \"deco\" : deco,\n",
    "        \"kitchen\": kitchen,\n",
    "       \"household\": household,\n",
    "        \"christmas\": christmas,\n",
    "         \"outdoor\" : outdoor,\n",
    "       \"books\" : books,      \n",
    "       }"
   ]
  },
  {
   "cell_type": "code",
   "execution_count": 34,
   "metadata": {},
   "outputs": [],
   "source": [
    "names=[\"gifts\", \"clothes\", \"light\", \"bag\", \"toys\" , \"deco\",  \"kitchen\", \"household\",  \"christmas\", \"outdoor\", \"books\"]"
   ]
  },
  {
   "cell_type": "code",
   "execution_count": null,
   "metadata": {},
   "outputs": [],
   "source": []
  },
  {
   "cell_type": "code",
   "execution_count": 35,
   "metadata": {},
   "outputs": [],
   "source": [
    "for name in names:\n",
    "    table=liste[name]\n",
    "    for x in table:\n",
    "        data.loc[data['description'].str.contains(x), 'category'] = name\n",
    "    \n"
   ]
  },
  {
   "cell_type": "code",
   "execution_count": 50,
   "metadata": {},
   "outputs": [
    {
     "data": {
      "text/html": [
       "<div>\n",
       "<style scoped>\n",
       "    .dataframe tbody tr th:only-of-type {\n",
       "        vertical-align: middle;\n",
       "    }\n",
       "\n",
       "    .dataframe tbody tr th {\n",
       "        vertical-align: top;\n",
       "    }\n",
       "\n",
       "    .dataframe thead th {\n",
       "        text-align: right;\n",
       "    }\n",
       "</style>\n",
       "<table border=\"1\" class=\"dataframe\">\n",
       "  <thead>\n",
       "    <tr style=\"text-align: right;\">\n",
       "      <th></th>\n",
       "      <th>invoiceno</th>\n",
       "      <th>stockcode</th>\n",
       "      <th>description</th>\n",
       "      <th>quantity</th>\n",
       "      <th>timestamp</th>\n",
       "      <th>unitprice</th>\n",
       "      <th>customerid</th>\n",
       "      <th>day</th>\n",
       "      <th>week</th>\n",
       "      <th>category</th>\n",
       "    </tr>\n",
       "  </thead>\n",
       "  <tbody>\n",
       "    <tr>\n",
       "      <th>1</th>\n",
       "      <td>536365</td>\n",
       "      <td>71053</td>\n",
       "      <td>WHITE METAL LANTERN</td>\n",
       "      <td>6</td>\n",
       "      <td>2018-11-29 08:26:00</td>\n",
       "      <td>3.39</td>\n",
       "      <td>17850.0</td>\n",
       "      <td>3</td>\n",
       "      <td>48</td>\n",
       "      <td>light</td>\n",
       "    </tr>\n",
       "    <tr>\n",
       "      <th>5</th>\n",
       "      <td>536365</td>\n",
       "      <td>22752</td>\n",
       "      <td>SET 7 BABUSHKA NESTING BOXES</td>\n",
       "      <td>2</td>\n",
       "      <td>2018-11-29 08:26:00</td>\n",
       "      <td>7.65</td>\n",
       "      <td>17850.0</td>\n",
       "      <td>3</td>\n",
       "      <td>48</td>\n",
       "      <td>kitchen</td>\n",
       "    </tr>\n",
       "    <tr>\n",
       "      <th>6</th>\n",
       "      <td>536365</td>\n",
       "      <td>21730</td>\n",
       "      <td>GLASS STAR FROSTED T-LIGHT HOLDER</td>\n",
       "      <td>6</td>\n",
       "      <td>2018-11-29 08:26:00</td>\n",
       "      <td>4.25</td>\n",
       "      <td>17850.0</td>\n",
       "      <td>3</td>\n",
       "      <td>48</td>\n",
       "      <td>household</td>\n",
       "    </tr>\n",
       "    <tr>\n",
       "      <th>7</th>\n",
       "      <td>536366</td>\n",
       "      <td>22633</td>\n",
       "      <td>HAND WARMER UNION JACK</td>\n",
       "      <td>6</td>\n",
       "      <td>2018-11-29 08:28:00</td>\n",
       "      <td>1.85</td>\n",
       "      <td>17850.0</td>\n",
       "      <td>3</td>\n",
       "      <td>48</td>\n",
       "      <td>toys</td>\n",
       "    </tr>\n",
       "    <tr>\n",
       "      <th>8</th>\n",
       "      <td>536366</td>\n",
       "      <td>22632</td>\n",
       "      <td>HAND WARMER RED POLKA DOT</td>\n",
       "      <td>6</td>\n",
       "      <td>2018-11-29 08:28:00</td>\n",
       "      <td>1.85</td>\n",
       "      <td>17850.0</td>\n",
       "      <td>3</td>\n",
       "      <td>48</td>\n",
       "      <td>toys</td>\n",
       "    </tr>\n",
       "    <tr>\n",
       "      <th>...</th>\n",
       "      <td>...</td>\n",
       "      <td>...</td>\n",
       "      <td>...</td>\n",
       "      <td>...</td>\n",
       "      <td>...</td>\n",
       "      <td>...</td>\n",
       "      <td>...</td>\n",
       "      <td>...</td>\n",
       "      <td>...</td>\n",
       "      <td>...</td>\n",
       "    </tr>\n",
       "    <tr>\n",
       "      <th>541904</th>\n",
       "      <td>581587</td>\n",
       "      <td>22613</td>\n",
       "      <td>PACK OF 20 SPACEBOY NAPKINS</td>\n",
       "      <td>12</td>\n",
       "      <td>2019-12-07 12:50:00</td>\n",
       "      <td>0.85</td>\n",
       "      <td>12680.0</td>\n",
       "      <td>5</td>\n",
       "      <td>49</td>\n",
       "      <td>household</td>\n",
       "    </tr>\n",
       "    <tr>\n",
       "      <th>541905</th>\n",
       "      <td>581587</td>\n",
       "      <td>22899</td>\n",
       "      <td>CHILDREN'S APRON DOLLY GIRL</td>\n",
       "      <td>6</td>\n",
       "      <td>2019-12-07 12:50:00</td>\n",
       "      <td>2.10</td>\n",
       "      <td>12680.0</td>\n",
       "      <td>5</td>\n",
       "      <td>49</td>\n",
       "      <td>kitchen</td>\n",
       "    </tr>\n",
       "    <tr>\n",
       "      <th>541906</th>\n",
       "      <td>581587</td>\n",
       "      <td>23254</td>\n",
       "      <td>CHILDRENS CUTLERY DOLLY GIRL</td>\n",
       "      <td>4</td>\n",
       "      <td>2019-12-07 12:50:00</td>\n",
       "      <td>4.15</td>\n",
       "      <td>12680.0</td>\n",
       "      <td>5</td>\n",
       "      <td>49</td>\n",
       "      <td>kitchen</td>\n",
       "    </tr>\n",
       "    <tr>\n",
       "      <th>541907</th>\n",
       "      <td>581587</td>\n",
       "      <td>23255</td>\n",
       "      <td>CHILDRENS CUTLERY CIRCUS PARADE</td>\n",
       "      <td>4</td>\n",
       "      <td>2019-12-07 12:50:00</td>\n",
       "      <td>4.15</td>\n",
       "      <td>12680.0</td>\n",
       "      <td>5</td>\n",
       "      <td>49</td>\n",
       "      <td>kitchen</td>\n",
       "    </tr>\n",
       "    <tr>\n",
       "      <th>541908</th>\n",
       "      <td>581587</td>\n",
       "      <td>22138</td>\n",
       "      <td>BAKING SET 9 PIECE RETROSPOT</td>\n",
       "      <td>3</td>\n",
       "      <td>2019-12-07 12:50:00</td>\n",
       "      <td>4.95</td>\n",
       "      <td>12680.0</td>\n",
       "      <td>5</td>\n",
       "      <td>49</td>\n",
       "      <td>kitchen</td>\n",
       "    </tr>\n",
       "  </tbody>\n",
       "</table>\n",
       "<p>474226 rows × 10 columns</p>\n",
       "</div>"
      ],
      "text/plain": [
       "       invoiceno stockcode                        description  quantity  \\\n",
       "1         536365     71053                WHITE METAL LANTERN         6   \n",
       "5         536365     22752       SET 7 BABUSHKA NESTING BOXES         2   \n",
       "6         536365     21730  GLASS STAR FROSTED T-LIGHT HOLDER         6   \n",
       "7         536366     22633             HAND WARMER UNION JACK         6   \n",
       "8         536366     22632          HAND WARMER RED POLKA DOT         6   \n",
       "...          ...       ...                                ...       ...   \n",
       "541904    581587     22613        PACK OF 20 SPACEBOY NAPKINS        12   \n",
       "541905    581587     22899       CHILDREN'S APRON DOLLY GIRL          6   \n",
       "541906    581587     23254      CHILDRENS CUTLERY DOLLY GIRL          4   \n",
       "541907    581587     23255    CHILDRENS CUTLERY CIRCUS PARADE         4   \n",
       "541908    581587     22138      BAKING SET 9 PIECE RETROSPOT          3   \n",
       "\n",
       "                 timestamp  unitprice customerid  day  week   category  \n",
       "1      2018-11-29 08:26:00       3.39    17850.0    3    48      light  \n",
       "5      2018-11-29 08:26:00       7.65    17850.0    3    48    kitchen  \n",
       "6      2018-11-29 08:26:00       4.25    17850.0    3    48  household  \n",
       "7      2018-11-29 08:28:00       1.85    17850.0    3    48       toys  \n",
       "8      2018-11-29 08:28:00       1.85    17850.0    3    48       toys  \n",
       "...                    ...        ...        ...  ...   ...        ...  \n",
       "541904 2019-12-07 12:50:00       0.85    12680.0    5    49  household  \n",
       "541905 2019-12-07 12:50:00       2.10    12680.0    5    49    kitchen  \n",
       "541906 2019-12-07 12:50:00       4.15    12680.0    5    49    kitchen  \n",
       "541907 2019-12-07 12:50:00       4.15    12680.0    5    49    kitchen  \n",
       "541908 2019-12-07 12:50:00       4.95    12680.0    5    49    kitchen  \n",
       "\n",
       "[474226 rows x 10 columns]"
      ]
     },
     "execution_count": 50,
     "metadata": {},
     "output_type": "execute_result"
    }
   ],
   "source": [
    "data"
   ]
  },
  {
   "cell_type": "code",
   "execution_count": 51,
   "metadata": {},
   "outputs": [],
   "source": [
    "pdata=data.groupby(\"category\").agg({\"description\":\"count\"}).reset_index()\n"
   ]
  },
  {
   "cell_type": "code",
   "execution_count": 52,
   "metadata": {},
   "outputs": [],
   "source": [
    "pdata=pdata.sort_values(by=\"description\", ascending=False)"
   ]
  },
  {
   "cell_type": "code",
   "execution_count": null,
   "metadata": {},
   "outputs": [],
   "source": []
  },
  {
   "cell_type": "code",
   "execution_count": 53,
   "metadata": {},
   "outputs": [
    {
     "data": {
      "image/png": "[encoded data removed]",
      "text/plain": [
       "<Figure size 1440x360 with 1 Axes>"
      ]
     },
     "metadata": {
      "needs_background": "light"
     },
     "output_type": "display_data"
    }
   ],
   "source": [
    "plt.figure(figsize=(20,5))\n",
    "sns.barplot(pdata[\"category\"], pdata[\"description\"], palette=\"inferno\")\n",
    "plt.title(\"Distribution of category\")\n",
    "\n",
    "\n",
    "pos = -0.15\n",
    "for index, row in pdata.iterrows():  # data\n",
    "    plt.text(pos,\n",
    "             row.description + 20, # columnname\n",
    "             row.description,      # columnname\n",
    "             color='black',\n",
    "             ha=\"center\",\n",
    "             fontsize=16)\n",
    "\n",
    "    pos += 1\n",
    "plt.xticks(rotation=45)\n",
    "plt.show()"
   ]
  },
  {
   "cell_type": "markdown",
   "metadata": {},
   "source": [
    "## Conclusion EDA"
   ]
  },
  {
   "cell_type": "markdown",
   "metadata": {},
   "source": [
    "There is an significant increase in the start of september and peaked at christmas."
   ]
  },
  {
   "cell_type": "markdown",
   "metadata": {},
   "source": [
    "The products are categorized and a few outliers got kicked out to prevent disturbed data."
   ]
  },
  {
   "cell_type": "markdown",
   "metadata": {},
   "source": [
    "\n",
    "household and kitchen are the leading categories. Compare to these 2 the other are very low. "
   ]
  },
  {
   "cell_type": "markdown",
   "metadata": {},
   "source": [
    "## 5 1 Ideas for goal 1: \n",
    "Which products are more often sold by themselves, and which ones are more often combined with others (main and additional assortment)?"
   ]
  },
  {
   "cell_type": "markdown",
   "metadata": {},
   "source": [
    "group the data and compare the bought products per customer and cart. \\\n",
    "compare sold alone products with products that are like to bought together. \\\n",
    "plot graphs, histogram \n",
    "\n",
    "find relationships between customer id and the products they bought with clustering  ( it makes no sense since i notice the 25 % of the missing values, in the last project the kmeans change every time, so the ML category would be different every time :/ ) \\\n"
   ]
  },
  {
   "cell_type": "code",
   "execution_count": 54,
   "metadata": {},
   "outputs": [
    {
     "data": {
      "text/plain": [
       "array(['21137', '22605', '23245', '22662', '21162', '20733', '79321',\n",
       "       '21621', '22423', '22222', '22827', '21034', '22720', '22178',\n",
       "       '23497', '22114', '23144', '22078', '22309', '23308', '62018',\n",
       "       '22560', '22086', '84949', '23080', '84978', '22624', '22992',\n",
       "       '22656', '23084', '22444', '22502', '85152', '22910', '20713',\n",
       "       '21901', '22061', '20761', '21733', '82486', '21210', '22776',\n",
       "       '20936', '22355', '22920', '22895', '22197', '21933', '22503',\n",
       "       '23189', '20914', '23104', '20679', '22834', '22807', '82582',\n",
       "       '22845', '47566', '16014', '84674', '85116', '21289', '48116',\n",
       "       '23298', '21730', '22719', '21172', '20668', '22722', '23171',\n",
       "       '22494', '23170', '21326', '21704', '23009', '22831', '23310',\n",
       "       '22075', '16225', '23119', '21124', '22844', '21609', '23051',\n",
       "       '22332', '21112', '21078', '22311', '22498', '20749', '15036',\n",
       "       '22655', '21790', '21822', '22513', '21564', '22783', '22192',\n",
       "       '20974', '22816', '71477', '22570', '22507', '21499', '40016',\n",
       "       '84946', '22128', '21810', '22824', '23531', '22847', '22464',\n",
       "       '22916', '23374', '21930', '22493', '20975', '23392', '23169',\n",
       "       '22829', '22371', '23283', '20658', '23005', '22374', '23137',\n",
       "       '21731', '22840', '84378', '22930', '22076', '84212', '22625',\n",
       "       '22492', '21213', '23118', '23312', '22149', '21673', '22111',\n",
       "       '22151', '48194', '22943', '22087', '21070', '21348', '22616',\n",
       "       '22536', '22791', '22784', '21498', '23582', '22896', '84947',\n",
       "       '85066', '72131', '22508', '23316', '22705', '21985', '21535',\n",
       "       '23681', '21922', '22622', '22112', '84879', '23313', '22467',\n",
       "       '15034', '22699', '23356', '21258', '82483', '23284', '23319',\n",
       "       '21181', '84375', '17096', '23581', '23397', '21991', '84945',\n",
       "       '84568', '22649', '22499', '22740', '23322', '22826', '21232',\n",
       "       '21926', '22578', '37327', '48138', '82484', '20682', '22664',\n",
       "       '72127', '22138', '23328', '21476', '48184', '23237', '22899',\n",
       "       '22379', '21915', '22988', '22427', '22171', '23108', '23702',\n",
       "       '20961', '23552', '35400', '22082', '20719', '23412', '22586',\n",
       "       '21891', '21787', '22951', '22634', '23569', '22435', '22139',\n",
       "       '22993', '20765', '23503', '23238', '23188', '23197', '23543',\n",
       "       '21098', '23348', '21811', '21166', '23211', '22771', '22852',\n",
       "       '21830', '22487', '22465', '21716', '21110', '22456', '22611',\n",
       "       '22730', '82482', '22961', '15039', '20979', '23048', '23024',\n",
       "       '22985', '20785', '70006', '22595', '22243', '23199', '22626',\n",
       "       '21736', '84929', '84836', '23355', '23008', '22659', '85104',\n",
       "       '22795', '23041', '22938', '22106', '22779', '21014', '22989',\n",
       "       '23251', '22962', '22386', '90143', '22704', '22906', '22041',\n",
       "       '23081', '16049', '22224', '22217', '22621', '22619', '23269',\n",
       "       '23094', '22759', '23229', '21928', '22470', '21155', '22384',\n",
       "       '23344', '22855', '23409', '35648', '22084', '22457', '22777',\n",
       "       '23192', '22580', '23127', '23057', '23198', '22970', '22514',\n",
       "       '71459', '35265', '21975', '10135', '22501', '22822', '23240',\n",
       "       '20726', '22862', '23368', '72741', '23228', '22526', '22672',\n",
       "       '84755', '22823', '23166', '21918', '22066', '79164', '21916',\n",
       "       '23524', '21479', '23382', '22957', '23553', '22358', '84792',\n",
       "       '23275', '21638', '23530', '23444', '22902', '22698', '22866',\n",
       "       '23325', '22319', '20802', '20727', '20711', '22628', '22690',\n",
       "       '85150', '23076', '22567', '23300', '20728', '21655', '22726',\n",
       "       '22660', '48185', '22030', '23109', '22322', '21672', '23254',\n",
       "       '22797', '23247', '22990', '23296', '23293', '16045', '23436',\n",
       "       '20985', '20725', '23343', '21631', '22088', '21429', '22168',\n",
       "       '21781', '21381', '22839', '85048', '22900', '21894', '21843',\n",
       "       '21936', '23583', '22523', '21530', '22110', '22504', '84988',\n",
       "       '22666', '72817', '85084', '82600', '21011', '22667', '22207',\n",
       "       '22633', '22049', '23691', '22851', '22929', '23022', '22357',\n",
       "       '22969', '21982', '22098', '22080', '22947', '23301', '84880',\n",
       "       '21135', '22481', '22320', '21095', '21981', '23480', '22696',\n",
       "       '22691', '22173', '17003', '23015', '22710', '22491', '22967',\n",
       "       '23134', '11001', '23427', '22802', '22121', '21463', '21986',\n",
       "       '23184', '51008', '23102', '21792', '23206', '22065', '22734',\n",
       "       '84522', '23173', '21876', '20712', '22469', '23370', '22607',\n",
       "       '21929', '22978', '84352', '20685', '23110', '21391', '22202',\n",
       "       '22966', '21086', '23079', '22472', '22941', '23167', '90022',\n",
       "       '22693', '22727', '21523', '16219', '20801', '22760', '21686',\n",
       "       '23487', '37370', '21770', '84629', '22637', '23525', '21871',\n",
       "       '21754', '22803', '21473', '22801', '23561', '23483', '85141',\n",
       "       '23064', '22483', '23073', '22037', '22651', '23462', '21563',\n",
       "       '84987', '72819', '22654', '23071', '21907', '37446', '21749',\n",
       "       '23152', '22354', '82583', '84813', '23203', '22180', '22476',\n",
       "       '23486', '22413', '23461', '23113', '22959', '72803b', '23209',\n",
       "       '23342', '84360', '90191', '23162', '22360', '21718', '21794',\n",
       "       '22283', '21340', '22424', '21067', '84828', '22460', '21890',\n",
       "       '22436', '23040', '21694', '21260', '84388', '15056n', '23320',\n",
       "       '22428', '23307', '22946', '23179', '21556', '23208', '22119',\n",
       "       '22559', '22219', '21064', '23096', '72232', '23196', '21497',\n",
       "       '23207', '21559', '22450', '22383', '23230', '71279', '22144',\n",
       "       '22185', '78033', '22960', '21111', '21068', '23191', '21623',\n",
       "       '23489', '21745', '23201', '22838', '22854', '22411', '22915',\n",
       "       '85103', '21874', '22174', '37449', '21156', '22789', '21756',\n",
       "       '16033', '23571', '22385', '21108', '82552', '22294', '21931',\n",
       "       '22867', '21495', '23404', '84347', '22865', '18007', '21175',\n",
       "       '21165', '78124', '22558', '23052', '22275', '21833', '84950',\n",
       "       '21205', '16016', '22804', '23155', '22113', '21932', '22965',\n",
       "       '21272', '23200', '22933', '22053', '37413', '23235', '23389',\n",
       "       '23226', '21257', '22307', '23493', '21629', '22090', '21927',\n",
       "       '22187', '22236', '21934', '22145', '23163', '22415', '23544',\n",
       "       '20675', '23330', '22147', '22485', '23534', '22585', '84050',\n",
       "       '22430', '22617', '22668', '21115', '22692', '23150', '21877',\n",
       "       '79163', '21439', '22709', '23077', '21189', '21845', '22333',\n",
       "       '23491', '21983', '23112', '85178', '21402', '22939', '21422',\n",
       "       '21586', '23535', '21080', '22317', '23089', '22810', '21888',\n",
       "       '84944', '21793', '22714', '22328', '22968', '48187', '22830',\n",
       "       '22812', '22057', '35970', '23215', '22618', '20686', '22983',\n",
       "       '22702', '20970', '21633', '22849', '82578', '21447', '23331',\n",
       "       '21719', '20754', '22158', '21707', '21121', '23286', '23494',\n",
       "       '21143'], dtype=object)"
      ]
     },
     "execution_count": 54,
     "metadata": {},
     "output_type": "execute_result"
    }
   ],
   "source": [
    "fdata=data.groupby(\"invoiceno\").agg({\"stockcode\":[\"first\",\"nunique\"]}).sort_values(by=[(\"stockcode\", \"nunique\")])\n",
    "fdata.columns=[\"one\",\"tow\"]\n",
    "fdata.query('tow == 1')[\"one\"].unique()"
   ]
  },
  {
   "cell_type": "code",
   "execution_count": 55,
   "metadata": {},
   "outputs": [
    {
     "data": {
      "text/plain": [
       "[('22423', 189),\n",
       " ('84879', 129),\n",
       " ('23084', 127),\n",
       " ('47566', 127),\n",
       " ('22086', 96),\n",
       " ('23284', 90),\n",
       " ('22469', 83),\n",
       " ('84946', 81),\n",
       " ('22720', 77),\n",
       " ('23245', 75)]"
      ]
     },
     "execution_count": 55,
     "metadata": {},
     "output_type": "execute_result"
    }
   ],
   "source": [
    "x=Counter(fdata.query('tow != 1')[\"one\"])\n",
    "x=sorted(x.items(), key=lambda i: i[1], reverse=True)\n",
    "x[:10]\n"
   ]
  },
  {
   "cell_type": "code",
   "execution_count": 56,
   "metadata": {},
   "outputs": [
    {
     "data": {
      "text/plain": [
       "[('23084', 33),\n",
       " ('79321', 30),\n",
       " ('22423', 25),\n",
       " ('22197', 23),\n",
       " ('47566', 19),\n",
       " ('21137', 15),\n",
       " ('23284', 14),\n",
       " ('21034', 13),\n",
       " ('21733', 12),\n",
       " ('21621', 11)]"
      ]
     },
     "execution_count": 56,
     "metadata": {},
     "output_type": "execute_result"
    }
   ],
   "source": [
    "w=Counter(fdata.query('tow == 1')[\"one\"])\n",
    "w=sorted(w.items(), key=lambda i: i[1], reverse=True)\n",
    "w[:10]\n"
   ]
  },
  {
   "cell_type": "code",
   "execution_count": 57,
   "metadata": {},
   "outputs": [],
   "source": [
    "y=[\"22423\",\"84879\",\"23084\",\"47566\",\"22086\",\"23284\",\"22469\",\"84946\",\"22720\",\"23245\"]"
   ]
  },
  {
   "cell_type": "code",
   "execution_count": 58,
   "metadata": {},
   "outputs": [],
   "source": [
    "z=['23084',\n",
    " '79321',\n",
    " '22423',\n",
    " '22197',\n",
    " '47566',\n",
    " '21137',\n",
    " '23284',\n",
    " '21034',\n",
    " '21733',\n",
    " '21621']"
   ]
  },
  {
   "cell_type": "code",
   "execution_count": 59,
   "metadata": {},
   "outputs": [],
   "source": [
    "top10=data[(data['stockcode'].isin(y))]"
   ]
  },
  {
   "cell_type": "code",
   "execution_count": 60,
   "metadata": {},
   "outputs": [],
   "source": [
    "stop10=data[(data['stockcode'].isin(z))]"
   ]
  },
  {
   "cell_type": "code",
   "execution_count": 61,
   "metadata": {},
   "outputs": [
    {
     "data": {
      "text/plain": [
       "array(['RED HANGING HEART T-LIGHT HOLDER', 'CHILLI LIGHTS',\n",
       "       'SMALL POPCORN HOLDER', 'REX CASH+CARRY JUMBO SHOPPER',\n",
       "       'BLACK RECORD COVER FRAME', 'REGENCY CAKESTAND 3 TIER',\n",
       "       'VINTAGE UNION JACK BUNTING', 'PARTY BUNTING',\n",
       "       'DOORMAT KEEP CALM AND COME IN', 'RABBIT NIGHT LIGHT',\n",
       "       'POPCORN HOLDER'], dtype=object)"
      ]
     },
     "execution_count": 61,
     "metadata": {},
     "output_type": "execute_result"
    }
   ],
   "source": [
    "stop10[\"description\"].unique()"
   ]
  },
  {
   "cell_type": "code",
   "execution_count": 62,
   "metadata": {},
   "outputs": [
    {
     "data": {
      "text/plain": [
       "array(['ASSORTED COLOUR BIRD ORNAMENT', \"PAPER CHAIN KIT 50'S CHRISTMAS \",\n",
       "       'HEART OF WICKER SMALL', 'REGENCY CAKESTAND 3 TIER',\n",
       "       'ANTIQUE SILVER TEA GLASS ETCHED', 'PARTY BUNTING',\n",
       "       'SET OF 3 CAKE TINS PANTRY DESIGN ',\n",
       "       'ANTIQUE SILVER T-LIGHT GLASS', 'DOORMAT KEEP CALM AND COME IN',\n",
       "       'RABBIT NIGHT LIGHT', 'SET OF 3 REGENCY CAKE TINS'], dtype=object)"
      ]
     },
     "execution_count": 62,
     "metadata": {},
     "output_type": "execute_result"
    }
   ],
   "source": [
    "top10[\"description\"].unique()"
   ]
  },
  {
   "cell_type": "code",
   "execution_count": 63,
   "metadata": {},
   "outputs": [
    {
     "data": {
      "text/html": [
       "<div>\n",
       "<style scoped>\n",
       "    .dataframe tbody tr th:only-of-type {\n",
       "        vertical-align: middle;\n",
       "    }\n",
       "\n",
       "    .dataframe tbody tr th {\n",
       "        vertical-align: top;\n",
       "    }\n",
       "\n",
       "    .dataframe thead tr th {\n",
       "        text-align: left;\n",
       "    }\n",
       "\n",
       "    .dataframe thead tr:last-of-type th {\n",
       "        text-align: right;\n",
       "    }\n",
       "</style>\n",
       "<table border=\"1\" class=\"dataframe\">\n",
       "  <thead>\n",
       "    <tr>\n",
       "      <th></th>\n",
       "      <th></th>\n",
       "      <th>description</th>\n",
       "    </tr>\n",
       "    <tr>\n",
       "      <th></th>\n",
       "      <th></th>\n",
       "      <th>count</th>\n",
       "    </tr>\n",
       "    <tr>\n",
       "      <th>stockcode</th>\n",
       "      <th>description</th>\n",
       "      <th></th>\n",
       "    </tr>\n",
       "  </thead>\n",
       "  <tbody>\n",
       "    <tr>\n",
       "      <th>22423</th>\n",
       "      <th>REGENCY CAKESTAND 3 TIER</th>\n",
       "      <td>2007</td>\n",
       "    </tr>\n",
       "    <tr>\n",
       "      <th>47566</th>\n",
       "      <th>PARTY BUNTING</th>\n",
       "      <td>1699</td>\n",
       "    </tr>\n",
       "    <tr>\n",
       "      <th>84879</th>\n",
       "      <th>ASSORTED COLOUR BIRD ORNAMENT</th>\n",
       "      <td>1476</td>\n",
       "    </tr>\n",
       "    <tr>\n",
       "      <th>22720</th>\n",
       "      <th>SET OF 3 CAKE TINS PANTRY DESIGN</th>\n",
       "      <td>1392</td>\n",
       "    </tr>\n",
       "    <tr>\n",
       "      <th>22469</th>\n",
       "      <th>HEART OF WICKER SMALL</th>\n",
       "      <td>1219</td>\n",
       "    </tr>\n",
       "    <tr>\n",
       "      <th>22086</th>\n",
       "      <th>PAPER CHAIN KIT 50'S CHRISTMAS</th>\n",
       "      <td>1184</td>\n",
       "    </tr>\n",
       "    <tr>\n",
       "      <th>23084</th>\n",
       "      <th>RABBIT NIGHT LIGHT</th>\n",
       "      <td>1017</td>\n",
       "    </tr>\n",
       "    <tr>\n",
       "      <th>23245</th>\n",
       "      <th>SET OF 3 REGENCY CAKE TINS</th>\n",
       "      <td>876</td>\n",
       "    </tr>\n",
       "    <tr>\n",
       "      <th>23284</th>\n",
       "      <th>DOORMAT KEEP CALM AND COME IN</th>\n",
       "      <td>732</td>\n",
       "    </tr>\n",
       "    <tr>\n",
       "      <th rowspan=\"2\" valign=\"top\">84946</th>\n",
       "      <th>ANTIQUE SILVER T-LIGHT GLASS</th>\n",
       "      <td>692</td>\n",
       "    </tr>\n",
       "    <tr>\n",
       "      <th>ANTIQUE SILVER TEA GLASS ETCHED</th>\n",
       "      <td>220</td>\n",
       "    </tr>\n",
       "  </tbody>\n",
       "</table>\n",
       "</div>"
      ],
      "text/plain": [
       "                                            description\n",
       "                                                  count\n",
       "stockcode description                                  \n",
       "22423     REGENCY CAKESTAND 3 TIER                 2007\n",
       "47566     PARTY BUNTING                            1699\n",
       "84879     ASSORTED COLOUR BIRD ORNAMENT            1476\n",
       "22720     SET OF 3 CAKE TINS PANTRY DESIGN         1392\n",
       "22469     HEART OF WICKER SMALL                    1219\n",
       "22086     PAPER CHAIN KIT 50'S CHRISTMAS           1184\n",
       "23084     RABBIT NIGHT LIGHT                       1017\n",
       "23245     SET OF 3 REGENCY CAKE TINS                876\n",
       "23284     DOORMAT KEEP CALM AND COME IN             732\n",
       "84946     ANTIQUE SILVER T-LIGHT GLASS              692\n",
       "          ANTIQUE SILVER TEA GLASS ETCHED           220"
      ]
     },
     "execution_count": 63,
     "metadata": {},
     "output_type": "execute_result"
    }
   ],
   "source": [
    "top10.groupby(['stockcode','description']).agg({'description': ['count']}).sort_values(by=[(\"description\",\"count\")], ascending=False)"
   ]
  },
  {
   "cell_type": "markdown",
   "metadata": {},
   "source": [
    "## Conclusion 1 for bundleproducts"
   ]
  },
  {
   "cell_type": "markdown",
   "metadata": {},
   "source": [
    "This is the top ten products,wich are sold in bundles, the \"Regency Cakestand 3 Tier\" is the top seller item, the \"Assorted Colour Bird Ornament\" performes best in bundles."
   ]
  },
  {
   "cell_type": "code",
   "execution_count": null,
   "metadata": {},
   "outputs": [],
   "source": []
  },
  {
   "cell_type": "code",
   "execution_count": 64,
   "metadata": {},
   "outputs": [
    {
     "data": {
      "text/html": [
       "<div>\n",
       "<style scoped>\n",
       "    .dataframe tbody tr th:only-of-type {\n",
       "        vertical-align: middle;\n",
       "    }\n",
       "\n",
       "    .dataframe tbody tr th {\n",
       "        vertical-align: top;\n",
       "    }\n",
       "\n",
       "    .dataframe thead tr th {\n",
       "        text-align: left;\n",
       "    }\n",
       "\n",
       "    .dataframe thead tr:last-of-type th {\n",
       "        text-align: right;\n",
       "    }\n",
       "</style>\n",
       "<table border=\"1\" class=\"dataframe\">\n",
       "  <thead>\n",
       "    <tr>\n",
       "      <th></th>\n",
       "      <th></th>\n",
       "      <th>description</th>\n",
       "    </tr>\n",
       "    <tr>\n",
       "      <th></th>\n",
       "      <th></th>\n",
       "      <th>count</th>\n",
       "    </tr>\n",
       "    <tr>\n",
       "      <th>stockcode</th>\n",
       "      <th>description</th>\n",
       "      <th></th>\n",
       "    </tr>\n",
       "  </thead>\n",
       "  <tbody>\n",
       "    <tr>\n",
       "      <th>22423</th>\n",
       "      <th>REGENCY CAKESTAND 3 TIER</th>\n",
       "      <td>2007</td>\n",
       "    </tr>\n",
       "    <tr>\n",
       "      <th>47566</th>\n",
       "      <th>PARTY BUNTING</th>\n",
       "      <td>1699</td>\n",
       "    </tr>\n",
       "    <tr>\n",
       "      <th>23084</th>\n",
       "      <th>RABBIT NIGHT LIGHT</th>\n",
       "      <td>1017</td>\n",
       "    </tr>\n",
       "    <tr>\n",
       "      <th>21034</th>\n",
       "      <th>REX CASH+CARRY JUMBO SHOPPER</th>\n",
       "      <td>909</td>\n",
       "    </tr>\n",
       "    <tr>\n",
       "      <th>22197</th>\n",
       "      <th>POPCORN HOLDER</th>\n",
       "      <td>825</td>\n",
       "    </tr>\n",
       "    <tr>\n",
       "      <th>21733</th>\n",
       "      <th>RED HANGING HEART T-LIGHT HOLDER</th>\n",
       "      <td>753</td>\n",
       "    </tr>\n",
       "    <tr>\n",
       "      <th>23284</th>\n",
       "      <th>DOORMAT KEEP CALM AND COME IN</th>\n",
       "      <td>732</td>\n",
       "    </tr>\n",
       "    <tr>\n",
       "      <th>79321</th>\n",
       "      <th>CHILLI LIGHTS</th>\n",
       "      <td>667</td>\n",
       "    </tr>\n",
       "    <tr>\n",
       "      <th>22197</th>\n",
       "      <th>SMALL POPCORN HOLDER</th>\n",
       "      <td>593</td>\n",
       "    </tr>\n",
       "    <tr>\n",
       "      <th>21621</th>\n",
       "      <th>VINTAGE UNION JACK BUNTING</th>\n",
       "      <td>485</td>\n",
       "    </tr>\n",
       "    <tr>\n",
       "      <th>21137</th>\n",
       "      <th>BLACK RECORD COVER FRAME</th>\n",
       "      <td>376</td>\n",
       "    </tr>\n",
       "  </tbody>\n",
       "</table>\n",
       "</div>"
      ],
      "text/plain": [
       "                                           description\n",
       "                                                 count\n",
       "stockcode description                                 \n",
       "22423     REGENCY CAKESTAND 3 TIER                2007\n",
       "47566     PARTY BUNTING                           1699\n",
       "23084     RABBIT NIGHT LIGHT                      1017\n",
       "21034     REX CASH+CARRY JUMBO SHOPPER             909\n",
       "22197     POPCORN HOLDER                           825\n",
       "21733     RED HANGING HEART T-LIGHT HOLDER         753\n",
       "23284     DOORMAT KEEP CALM AND COME IN            732\n",
       "79321     CHILLI LIGHTS                            667\n",
       "22197     SMALL POPCORN HOLDER                     593\n",
       "21621     VINTAGE UNION JACK BUNTING               485\n",
       "21137     BLACK RECORD COVER FRAME                 376"
      ]
     },
     "execution_count": 64,
     "metadata": {},
     "output_type": "execute_result"
    }
   ],
   "source": [
    "stop10.groupby(['stockcode','description']).agg({'description': ['count']}).sort_values(by=[(\"description\",\"count\")], ascending=False)"
   ]
  },
  {
   "cell_type": "markdown",
   "metadata": {},
   "source": [
    "## Conclusion 1 for soloproducts"
   ]
  },
  {
   "cell_type": "markdown",
   "metadata": {},
   "source": [
    "This is the top ten products,wich are sold alone. the \"Regency Cakestand 3 Tier\" is also sold alone. The \"Rex Cash+Carry Jumbo Shopper\" performes best alone."
   ]
  },
  {
   "cell_type": "code",
   "execution_count": 65,
   "metadata": {},
   "outputs": [],
   "source": [
    "joydata=data[(data['stockcode'].isin(y))]\n",
    "joydata2=data[(data['stockcode'].isin(z))]"
   ]
  },
  {
   "cell_type": "code",
   "execution_count": 66,
   "metadata": {},
   "outputs": [
    {
     "data": {
      "text/html": [
       "<div>\n",
       "<style scoped>\n",
       "    .dataframe tbody tr th:only-of-type {\n",
       "        vertical-align: middle;\n",
       "    }\n",
       "\n",
       "    .dataframe tbody tr th {\n",
       "        vertical-align: top;\n",
       "    }\n",
       "\n",
       "    .dataframe thead th {\n",
       "        text-align: right;\n",
       "    }\n",
       "</style>\n",
       "<table border=\"1\" class=\"dataframe\">\n",
       "  <thead>\n",
       "    <tr style=\"text-align: right;\">\n",
       "      <th></th>\n",
       "      <th>invoiceno</th>\n",
       "      <th>stockcode</th>\n",
       "      <th>description</th>\n",
       "      <th>quantity</th>\n",
       "      <th>timestamp</th>\n",
       "      <th>unitprice</th>\n",
       "      <th>customerid</th>\n",
       "      <th>day</th>\n",
       "      <th>week</th>\n",
       "      <th>category</th>\n",
       "    </tr>\n",
       "  </thead>\n",
       "  <tbody>\n",
       "    <tr>\n",
       "      <th>9</th>\n",
       "      <td>536367</td>\n",
       "      <td>84879</td>\n",
       "      <td>ASSORTED COLOUR BIRD ORNAMENT</td>\n",
       "      <td>32</td>\n",
       "      <td>2018-11-29 08:34:00</td>\n",
       "      <td>1.69</td>\n",
       "      <td>13047.0</td>\n",
       "      <td>3</td>\n",
       "      <td>48</td>\n",
       "      <td>deco</td>\n",
       "    </tr>\n",
       "    <tr>\n",
       "      <th>46</th>\n",
       "      <td>536371</td>\n",
       "      <td>22086</td>\n",
       "      <td>PAPER CHAIN KIT 50'S CHRISTMAS</td>\n",
       "      <td>80</td>\n",
       "      <td>2018-11-29 09:00:00</td>\n",
       "      <td>2.55</td>\n",
       "      <td>13748.0</td>\n",
       "      <td>3</td>\n",
       "      <td>48</td>\n",
       "      <td>christmas</td>\n",
       "    </tr>\n",
       "    <tr>\n",
       "      <th>122</th>\n",
       "      <td>536381</td>\n",
       "      <td>22086</td>\n",
       "      <td>PAPER CHAIN KIT 50'S CHRISTMAS</td>\n",
       "      <td>4</td>\n",
       "      <td>2018-11-29 09:41:00</td>\n",
       "      <td>2.95</td>\n",
       "      <td>15311.0</td>\n",
       "      <td>3</td>\n",
       "      <td>48</td>\n",
       "      <td>christmas</td>\n",
       "    </tr>\n",
       "    <tr>\n",
       "      <th>160</th>\n",
       "      <td>536384</td>\n",
       "      <td>22469</td>\n",
       "      <td>HEART OF WICKER SMALL</td>\n",
       "      <td>40</td>\n",
       "      <td>2018-11-29 09:53:00</td>\n",
       "      <td>1.45</td>\n",
       "      <td>18074.0</td>\n",
       "      <td>3</td>\n",
       "      <td>48</td>\n",
       "      <td>deco</td>\n",
       "    </tr>\n",
       "    <tr>\n",
       "      <th>195</th>\n",
       "      <td>536388</td>\n",
       "      <td>22469</td>\n",
       "      <td>HEART OF WICKER SMALL</td>\n",
       "      <td>12</td>\n",
       "      <td>2018-11-29 09:59:00</td>\n",
       "      <td>1.65</td>\n",
       "      <td>16250.0</td>\n",
       "      <td>3</td>\n",
       "      <td>48</td>\n",
       "      <td>deco</td>\n",
       "    </tr>\n",
       "    <tr>\n",
       "      <th>...</th>\n",
       "      <td>...</td>\n",
       "      <td>...</td>\n",
       "      <td>...</td>\n",
       "      <td>...</td>\n",
       "      <td>...</td>\n",
       "      <td>...</td>\n",
       "      <td>...</td>\n",
       "      <td>...</td>\n",
       "      <td>...</td>\n",
       "      <td>...</td>\n",
       "    </tr>\n",
       "    <tr>\n",
       "      <th>541818</th>\n",
       "      <td>581579</td>\n",
       "      <td>22086</td>\n",
       "      <td>PAPER CHAIN KIT 50'S CHRISTMAS</td>\n",
       "      <td>12</td>\n",
       "      <td>2019-12-07 12:19:00</td>\n",
       "      <td>2.95</td>\n",
       "      <td>17581.0</td>\n",
       "      <td>5</td>\n",
       "      <td>49</td>\n",
       "      <td>christmas</td>\n",
       "    </tr>\n",
       "    <tr>\n",
       "      <th>541824</th>\n",
       "      <td>581579</td>\n",
       "      <td>23084</td>\n",
       "      <td>RABBIT NIGHT LIGHT</td>\n",
       "      <td>24</td>\n",
       "      <td>2019-12-07 12:19:00</td>\n",
       "      <td>1.79</td>\n",
       "      <td>17581.0</td>\n",
       "      <td>5</td>\n",
       "      <td>49</td>\n",
       "      <td>toys</td>\n",
       "    </tr>\n",
       "    <tr>\n",
       "      <th>541874</th>\n",
       "      <td>581585</td>\n",
       "      <td>23084</td>\n",
       "      <td>RABBIT NIGHT LIGHT</td>\n",
       "      <td>12</td>\n",
       "      <td>2019-12-07 12:31:00</td>\n",
       "      <td>2.08</td>\n",
       "      <td>15804.0</td>\n",
       "      <td>5</td>\n",
       "      <td>49</td>\n",
       "      <td>toys</td>\n",
       "    </tr>\n",
       "    <tr>\n",
       "      <th>541875</th>\n",
       "      <td>581585</td>\n",
       "      <td>84879</td>\n",
       "      <td>ASSORTED COLOUR BIRD ORNAMENT</td>\n",
       "      <td>16</td>\n",
       "      <td>2019-12-07 12:31:00</td>\n",
       "      <td>1.69</td>\n",
       "      <td>15804.0</td>\n",
       "      <td>5</td>\n",
       "      <td>49</td>\n",
       "      <td>deco</td>\n",
       "    </tr>\n",
       "    <tr>\n",
       "      <th>541884</th>\n",
       "      <td>581585</td>\n",
       "      <td>84946</td>\n",
       "      <td>ANTIQUE SILVER T-LIGHT GLASS</td>\n",
       "      <td>12</td>\n",
       "      <td>2019-12-07 12:31:00</td>\n",
       "      <td>1.25</td>\n",
       "      <td>15804.0</td>\n",
       "      <td>5</td>\n",
       "      <td>49</td>\n",
       "      <td>kitchen</td>\n",
       "    </tr>\n",
       "  </tbody>\n",
       "</table>\n",
       "<p>12514 rows × 10 columns</p>\n",
       "</div>"
      ],
      "text/plain": [
       "       invoiceno stockcode                      description  quantity  \\\n",
       "9         536367     84879    ASSORTED COLOUR BIRD ORNAMENT        32   \n",
       "46        536371     22086  PAPER CHAIN KIT 50'S CHRISTMAS         80   \n",
       "122       536381     22086  PAPER CHAIN KIT 50'S CHRISTMAS          4   \n",
       "160       536384     22469            HEART OF WICKER SMALL        40   \n",
       "195       536388     22469            HEART OF WICKER SMALL        12   \n",
       "...          ...       ...                              ...       ...   \n",
       "541818    581579     22086  PAPER CHAIN KIT 50'S CHRISTMAS         12   \n",
       "541824    581579     23084               RABBIT NIGHT LIGHT        24   \n",
       "541874    581585     23084               RABBIT NIGHT LIGHT        12   \n",
       "541875    581585     84879    ASSORTED COLOUR BIRD ORNAMENT        16   \n",
       "541884    581585     84946     ANTIQUE SILVER T-LIGHT GLASS        12   \n",
       "\n",
       "                 timestamp  unitprice customerid  day  week   category  \n",
       "9      2018-11-29 08:34:00       1.69    13047.0    3    48       deco  \n",
       "46     2018-11-29 09:00:00       2.55    13748.0    3    48  christmas  \n",
       "122    2018-11-29 09:41:00       2.95    15311.0    3    48  christmas  \n",
       "160    2018-11-29 09:53:00       1.45    18074.0    3    48       deco  \n",
       "195    2018-11-29 09:59:00       1.65    16250.0    3    48       deco  \n",
       "...                    ...        ...        ...  ...   ...        ...  \n",
       "541818 2019-12-07 12:19:00       2.95    17581.0    5    49  christmas  \n",
       "541824 2019-12-07 12:19:00       1.79    17581.0    5    49       toys  \n",
       "541874 2019-12-07 12:31:00       2.08    15804.0    5    49       toys  \n",
       "541875 2019-12-07 12:31:00       1.69    15804.0    5    49       deco  \n",
       "541884 2019-12-07 12:31:00       1.25    15804.0    5    49    kitchen  \n",
       "\n",
       "[12514 rows x 10 columns]"
      ]
     },
     "execution_count": 66,
     "metadata": {},
     "output_type": "execute_result"
    }
   ],
   "source": [
    "joydata"
   ]
  },
  {
   "cell_type": "markdown",
   "metadata": {},
   "source": [
    "This is the top ten products,wich are selled alone."
   ]
  },
  {
   "cell_type": "code",
   "execution_count": 67,
   "metadata": {
    "scrolled": true
   },
   "outputs": [
    {
     "name": "stdout",
     "output_type": "stream",
     "text": [
      "Defaulting to user installation because normal site-packages is not writeable\n",
      "Requirement already up-to-date: matplotlib in /home/jovyan/.local/lib/python3.7/site-packages (3.4.2)\n",
      "Requirement already satisfied, skipping upgrade: python-dateutil>=2.7 in /opt/conda/lib/python3.7/site-packages (from matplotlib) (2.8.1)\n",
      "Requirement already satisfied, skipping upgrade: numpy>=1.16 in /opt/conda/lib/python3.7/site-packages (from matplotlib) (1.19.5)\n",
      "Requirement already satisfied, skipping upgrade: kiwisolver>=1.0.1 in /opt/conda/lib/python3.7/site-packages (from matplotlib) (1.3.1)\n",
      "Requirement already satisfied, skipping upgrade: pyparsing>=2.2.1 in /opt/conda/lib/python3.7/site-packages (from matplotlib) (2.4.7)\n",
      "Requirement already satisfied, skipping upgrade: pillow>=6.2.0 in /opt/conda/lib/python3.7/site-packages (from matplotlib) (7.0.0)\n",
      "Requirement already satisfied, skipping upgrade: cycler>=0.10 in /opt/conda/lib/python3.7/site-packages (from matplotlib) (0.10.0)\n",
      "Requirement already satisfied, skipping upgrade: six>=1.5 in /opt/conda/lib/python3.7/site-packages (from python-dateutil>=2.7->matplotlib) (1.15.0)\n",
      "Defaulting to user installation because normal site-packages is not writeable\n",
      "Requirement already up-to-date: pandas in /home/jovyan/.local/lib/python3.7/site-packages (1.3.1)\n",
      "Requirement already satisfied, skipping upgrade: python-dateutil>=2.7.3 in /opt/conda/lib/python3.7/site-packages (from pandas) (2.8.1)\n",
      "Requirement already satisfied, skipping upgrade: pytz>=2017.3 in /opt/conda/lib/python3.7/site-packages (from pandas) (2021.1)\n",
      "Requirement already satisfied, skipping upgrade: numpy>=1.17.3 in /opt/conda/lib/python3.7/site-packages (from pandas) (1.19.5)\n",
      "Requirement already satisfied, skipping upgrade: six>=1.5 in /opt/conda/lib/python3.7/site-packages (from python-dateutil>=2.7.3->pandas) (1.15.0)\n",
      "Defaulting to user installation because normal site-packages is not writeable\n",
      "Requirement already satisfied: joypy in /home/jovyan/.local/lib/python3.7/site-packages (0.2.5)\n",
      "Requirement already satisfied: scipy>=0.11.0 in /opt/conda/lib/python3.7/site-packages (from joypy) (1.4.1)\n",
      "Requirement already satisfied: numpy>=1.16.5 in /opt/conda/lib/python3.7/site-packages (from joypy) (1.19.5)\n",
      "Requirement already satisfied: matplotlib in /home/jovyan/.local/lib/python3.7/site-packages (from joypy) (3.4.2)\n",
      "Requirement already satisfied: pandas>=0.20.0 in /home/jovyan/.local/lib/python3.7/site-packages (from joypy) (1.3.1)\n",
      "Requirement already satisfied: cycler>=0.10 in /opt/conda/lib/python3.7/site-packages (from matplotlib->joypy) (0.10.0)\n",
      "Requirement already satisfied: kiwisolver>=1.0.1 in /opt/conda/lib/python3.7/site-packages (from matplotlib->joypy) (1.3.1)\n",
      "Requirement already satisfied: pillow>=6.2.0 in /opt/conda/lib/python3.7/site-packages (from matplotlib->joypy) (7.0.0)\n",
      "Requirement already satisfied: python-dateutil>=2.7 in /opt/conda/lib/python3.7/site-packages (from matplotlib->joypy) (2.8.1)\n",
      "Requirement already satisfied: pyparsing>=2.2.1 in /opt/conda/lib/python3.7/site-packages (from matplotlib->joypy) (2.4.7)\n",
      "Requirement already satisfied: pytz>=2017.3 in /opt/conda/lib/python3.7/site-packages (from pandas>=0.20.0->joypy) (2021.1)\n",
      "Requirement already satisfied: six in /opt/conda/lib/python3.7/site-packages (from cycler>=0.10->matplotlib->joypy) (1.15.0)\n",
      "Defaulting to user installation because normal site-packages is not writeable\n",
      "Requirement already up-to-date: joypy in /home/jovyan/.local/lib/python3.7/site-packages (0.2.5)\n",
      "Requirement already satisfied, skipping upgrade: pandas>=0.20.0 in /home/jovyan/.local/lib/python3.7/site-packages (from joypy) (1.3.1)\n",
      "Requirement already satisfied, skipping upgrade: numpy>=1.16.5 in /opt/conda/lib/python3.7/site-packages (from joypy) (1.19.5)\n",
      "Requirement already satisfied, skipping upgrade: matplotlib in /home/jovyan/.local/lib/python3.7/site-packages (from joypy) (3.4.2)\n",
      "Requirement already satisfied, skipping upgrade: scipy>=0.11.0 in /opt/conda/lib/python3.7/site-packages (from joypy) (1.4.1)\n",
      "Requirement already satisfied, skipping upgrade: pytz>=2017.3 in /opt/conda/lib/python3.7/site-packages (from pandas>=0.20.0->joypy) (2021.1)\n",
      "Requirement already satisfied, skipping upgrade: python-dateutil>=2.7.3 in /opt/conda/lib/python3.7/site-packages (from pandas>=0.20.0->joypy) (2.8.1)\n",
      "Requirement already satisfied, skipping upgrade: pillow>=6.2.0 in /opt/conda/lib/python3.7/site-packages (from matplotlib->joypy) (7.0.0)\n",
      "Requirement already satisfied, skipping upgrade: cycler>=0.10 in /opt/conda/lib/python3.7/site-packages (from matplotlib->joypy) (0.10.0)\n",
      "Requirement already satisfied, skipping upgrade: kiwisolver>=1.0.1 in /opt/conda/lib/python3.7/site-packages (from matplotlib->joypy) (1.3.1)\n",
      "Requirement already satisfied, skipping upgrade: pyparsing>=2.2.1 in /opt/conda/lib/python3.7/site-packages (from matplotlib->joypy) (2.4.7)\n",
      "Requirement already satisfied, skipping upgrade: six>=1.5 in /opt/conda/lib/python3.7/site-packages (from python-dateutil>=2.7.3->pandas>=0.20.0->joypy) (1.15.0)\n"
     ]
    }
   ],
   "source": [
    "\n",
    "!pip install -U matplotlib\n",
    "\n",
    "!pip install -U pandas\n",
    "!pip install joypy\n",
    "!pip install -U joypy\n",
    "from joypy import joyplot\n",
    "\n"
   ]
  },
  {
   "cell_type": "code",
   "execution_count": 68,
   "metadata": {},
   "outputs": [
    {
     "data": {
      "text/html": [
       "<div>\n",
       "<style scoped>\n",
       "    .dataframe tbody tr th:only-of-type {\n",
       "        vertical-align: middle;\n",
       "    }\n",
       "\n",
       "    .dataframe tbody tr th {\n",
       "        vertical-align: top;\n",
       "    }\n",
       "\n",
       "    .dataframe thead th {\n",
       "        text-align: right;\n",
       "    }\n",
       "</style>\n",
       "<table border=\"1\" class=\"dataframe\">\n",
       "  <thead>\n",
       "    <tr style=\"text-align: right;\">\n",
       "      <th></th>\n",
       "      <th>invoiceno</th>\n",
       "      <th>stockcode</th>\n",
       "      <th>description</th>\n",
       "      <th>quantity</th>\n",
       "      <th>timestamp</th>\n",
       "      <th>unitprice</th>\n",
       "      <th>customerid</th>\n",
       "      <th>day</th>\n",
       "      <th>week</th>\n",
       "      <th>category</th>\n",
       "    </tr>\n",
       "  </thead>\n",
       "  <tbody>\n",
       "    <tr>\n",
       "      <th>9</th>\n",
       "      <td>536367</td>\n",
       "      <td>84879</td>\n",
       "      <td>ASSORTED COLOUR BIRD ORNAMENT</td>\n",
       "      <td>32</td>\n",
       "      <td>2018-11-29 08:34:00</td>\n",
       "      <td>1.69</td>\n",
       "      <td>13047.0</td>\n",
       "      <td>3</td>\n",
       "      <td>48</td>\n",
       "      <td>deco</td>\n",
       "    </tr>\n",
       "    <tr>\n",
       "      <th>46</th>\n",
       "      <td>536371</td>\n",
       "      <td>22086</td>\n",
       "      <td>PAPER CHAIN KIT 50'S CHRISTMAS</td>\n",
       "      <td>80</td>\n",
       "      <td>2018-11-29 09:00:00</td>\n",
       "      <td>2.55</td>\n",
       "      <td>13748.0</td>\n",
       "      <td>3</td>\n",
       "      <td>48</td>\n",
       "      <td>christmas</td>\n",
       "    </tr>\n",
       "    <tr>\n",
       "      <th>122</th>\n",
       "      <td>536381</td>\n",
       "      <td>22086</td>\n",
       "      <td>PAPER CHAIN KIT 50'S CHRISTMAS</td>\n",
       "      <td>4</td>\n",
       "      <td>2018-11-29 09:41:00</td>\n",
       "      <td>2.95</td>\n",
       "      <td>15311.0</td>\n",
       "      <td>3</td>\n",
       "      <td>48</td>\n",
       "      <td>christmas</td>\n",
       "    </tr>\n",
       "    <tr>\n",
       "      <th>160</th>\n",
       "      <td>536384</td>\n",
       "      <td>22469</td>\n",
       "      <td>HEART OF WICKER SMALL</td>\n",
       "      <td>40</td>\n",
       "      <td>2018-11-29 09:53:00</td>\n",
       "      <td>1.45</td>\n",
       "      <td>18074.0</td>\n",
       "      <td>3</td>\n",
       "      <td>48</td>\n",
       "      <td>deco</td>\n",
       "    </tr>\n",
       "    <tr>\n",
       "      <th>195</th>\n",
       "      <td>536388</td>\n",
       "      <td>22469</td>\n",
       "      <td>HEART OF WICKER SMALL</td>\n",
       "      <td>12</td>\n",
       "      <td>2018-11-29 09:59:00</td>\n",
       "      <td>1.65</td>\n",
       "      <td>16250.0</td>\n",
       "      <td>3</td>\n",
       "      <td>48</td>\n",
       "      <td>deco</td>\n",
       "    </tr>\n",
       "    <tr>\n",
       "      <th>...</th>\n",
       "      <td>...</td>\n",
       "      <td>...</td>\n",
       "      <td>...</td>\n",
       "      <td>...</td>\n",
       "      <td>...</td>\n",
       "      <td>...</td>\n",
       "      <td>...</td>\n",
       "      <td>...</td>\n",
       "      <td>...</td>\n",
       "      <td>...</td>\n",
       "    </tr>\n",
       "    <tr>\n",
       "      <th>541818</th>\n",
       "      <td>581579</td>\n",
       "      <td>22086</td>\n",
       "      <td>PAPER CHAIN KIT 50'S CHRISTMAS</td>\n",
       "      <td>12</td>\n",
       "      <td>2019-12-07 12:19:00</td>\n",
       "      <td>2.95</td>\n",
       "      <td>17581.0</td>\n",
       "      <td>5</td>\n",
       "      <td>49</td>\n",
       "      <td>christmas</td>\n",
       "    </tr>\n",
       "    <tr>\n",
       "      <th>541824</th>\n",
       "      <td>581579</td>\n",
       "      <td>23084</td>\n",
       "      <td>RABBIT NIGHT LIGHT</td>\n",
       "      <td>24</td>\n",
       "      <td>2019-12-07 12:19:00</td>\n",
       "      <td>1.79</td>\n",
       "      <td>17581.0</td>\n",
       "      <td>5</td>\n",
       "      <td>49</td>\n",
       "      <td>toys</td>\n",
       "    </tr>\n",
       "    <tr>\n",
       "      <th>541874</th>\n",
       "      <td>581585</td>\n",
       "      <td>23084</td>\n",
       "      <td>RABBIT NIGHT LIGHT</td>\n",
       "      <td>12</td>\n",
       "      <td>2019-12-07 12:31:00</td>\n",
       "      <td>2.08</td>\n",
       "      <td>15804.0</td>\n",
       "      <td>5</td>\n",
       "      <td>49</td>\n",
       "      <td>toys</td>\n",
       "    </tr>\n",
       "    <tr>\n",
       "      <th>541875</th>\n",
       "      <td>581585</td>\n",
       "      <td>84879</td>\n",
       "      <td>ASSORTED COLOUR BIRD ORNAMENT</td>\n",
       "      <td>16</td>\n",
       "      <td>2019-12-07 12:31:00</td>\n",
       "      <td>1.69</td>\n",
       "      <td>15804.0</td>\n",
       "      <td>5</td>\n",
       "      <td>49</td>\n",
       "      <td>deco</td>\n",
       "    </tr>\n",
       "    <tr>\n",
       "      <th>541884</th>\n",
       "      <td>581585</td>\n",
       "      <td>84946</td>\n",
       "      <td>ANTIQUE SILVER T-LIGHT GLASS</td>\n",
       "      <td>12</td>\n",
       "      <td>2019-12-07 12:31:00</td>\n",
       "      <td>1.25</td>\n",
       "      <td>15804.0</td>\n",
       "      <td>5</td>\n",
       "      <td>49</td>\n",
       "      <td>kitchen</td>\n",
       "    </tr>\n",
       "  </tbody>\n",
       "</table>\n",
       "<p>12514 rows × 10 columns</p>\n",
       "</div>"
      ],
      "text/plain": [
       "       invoiceno stockcode                      description  quantity  \\\n",
       "9         536367     84879    ASSORTED COLOUR BIRD ORNAMENT        32   \n",
       "46        536371     22086  PAPER CHAIN KIT 50'S CHRISTMAS         80   \n",
       "122       536381     22086  PAPER CHAIN KIT 50'S CHRISTMAS          4   \n",
       "160       536384     22469            HEART OF WICKER SMALL        40   \n",
       "195       536388     22469            HEART OF WICKER SMALL        12   \n",
       "...          ...       ...                              ...       ...   \n",
       "541818    581579     22086  PAPER CHAIN KIT 50'S CHRISTMAS         12   \n",
       "541824    581579     23084               RABBIT NIGHT LIGHT        24   \n",
       "541874    581585     23084               RABBIT NIGHT LIGHT        12   \n",
       "541875    581585     84879    ASSORTED COLOUR BIRD ORNAMENT        16   \n",
       "541884    581585     84946     ANTIQUE SILVER T-LIGHT GLASS        12   \n",
       "\n",
       "                 timestamp  unitprice customerid  day  week   category  \n",
       "9      2018-11-29 08:34:00       1.69    13047.0    3    48       deco  \n",
       "46     2018-11-29 09:00:00       2.55    13748.0    3    48  christmas  \n",
       "122    2018-11-29 09:41:00       2.95    15311.0    3    48  christmas  \n",
       "160    2018-11-29 09:53:00       1.45    18074.0    3    48       deco  \n",
       "195    2018-11-29 09:59:00       1.65    16250.0    3    48       deco  \n",
       "...                    ...        ...        ...  ...   ...        ...  \n",
       "541818 2019-12-07 12:19:00       2.95    17581.0    5    49  christmas  \n",
       "541824 2019-12-07 12:19:00       1.79    17581.0    5    49       toys  \n",
       "541874 2019-12-07 12:31:00       2.08    15804.0    5    49       toys  \n",
       "541875 2019-12-07 12:31:00       1.69    15804.0    5    49       deco  \n",
       "541884 2019-12-07 12:31:00       1.25    15804.0    5    49    kitchen  \n",
       "\n",
       "[12514 rows x 10 columns]"
      ]
     },
     "execution_count": 68,
     "metadata": {},
     "output_type": "execute_result"
    }
   ],
   "source": [
    "joydata"
   ]
  },
  {
   "cell_type": "code",
   "execution_count": 69,
   "metadata": {},
   "outputs": [
    {
     "data": {
      "text/plain": [
       "<Figure size 432x288 with 0 Axes>"
      ]
     },
     "metadata": {},
     "output_type": "display_data"
    },
    {
     "data": {
      "image/png": "[encoded data removed]",
      "text/plain": [
       "<Figure size 864x576 with 12 Axes>"
      ]
     },
     "metadata": {
      "needs_background": "light"
     },
     "output_type": "display_data"
    }
   ],
   "source": [
    "plt.figure()\n",
    "\n",
    "joyplot(\n",
    "    data=joydata[['week', 'description']], \n",
    "    by='description',\n",
    "    figsize=(12, 8)\n",
    ")\n",
    "\n",
    "plt.title('bundleseller per week')\n",
    "plt.xlabel('week')\n",
    "plt.ylabel('count')\n",
    "plt.xlim(1, 52)\n",
    "plt.show()\n"
   ]
  },
  {
   "cell_type": "code",
   "execution_count": null,
   "metadata": {},
   "outputs": [],
   "source": []
  },
  {
   "cell_type": "code",
   "execution_count": null,
   "metadata": {},
   "outputs": [],
   "source": []
  },
  {
   "cell_type": "markdown",
   "metadata": {},
   "source": [
    "## Conclusion 2 for bundleproducts"
   ]
  },
  {
   "cell_type": "markdown",
   "metadata": {},
   "source": [
    "In the Graphs we can see wich products are selled most on the weekly timeline. The Christmasproducts are more likely sell after septemper and peak in november/december, while  \"party bunting\" is sold in the early summer."
   ]
  },
  {
   "cell_type": "code",
   "execution_count": 70,
   "metadata": {
    "scrolled": false
   },
   "outputs": [
    {
     "data": {
      "text/plain": [
       "<Figure size 432x288 with 0 Axes>"
      ]
     },
     "metadata": {},
     "output_type": "display_data"
    },
    {
     "data": {
      "image/png": "[encoded data removed]",
      "text/plain": [
       "<Figure size 864x576 with 12 Axes>"
      ]
     },
     "metadata": {
      "needs_background": "light"
     },
     "output_type": "display_data"
    }
   ],
   "source": [
    "plt.figure()\n",
    "\n",
    "joyplot(\n",
    "    data=joydata2[['week', 'description']], \n",
    "    by='description',\n",
    "    figsize=(12, 8)\n",
    ")\n",
    "\n",
    "plt.title('soloseller per week')\n",
    "plt.xlabel('week')\n",
    "plt.ylabel('count')\n",
    "plt.xlim(1, 52)\n",
    "plt.show()\n"
   ]
  },
  {
   "cell_type": "markdown",
   "metadata": {},
   "source": [
    "## Conclusion 2 for soloproducts"
   ]
  },
  {
   "cell_type": "markdown",
   "metadata": {},
   "source": [
    "the solo sellers are more likely selled over the whole year and are not so seasonal"
   ]
  },
  {
   "cell_type": "markdown",
   "metadata": {},
   "source": [
    "##  Category selling distribution"
   ]
  },
  {
   "cell_type": "code",
   "execution_count": 71,
   "metadata": {},
   "outputs": [
    {
     "data": {
      "text/plain": [
       "<Figure size 432x288 with 0 Axes>"
      ]
     },
     "metadata": {},
     "output_type": "display_data"
    },
    {
     "data": {
      "image/png": "[encoded data removed]",
      "text/plain": [
       "<Figure size 864x576 with 6 Axes>"
      ]
     },
     "metadata": {
      "needs_background": "light"
     },
     "output_type": "display_data"
    }
   ],
   "source": [
    "plt.figure()\n",
    "\n",
    "joyplot(\n",
    "    data=joydata[['week', 'category']], \n",
    "    by='category',\n",
    "    figsize=(12, 8)\n",
    ")\n",
    "\n",
    "plt.title('categories per week')\n",
    "plt.xlabel('week')\n",
    "plt.ylabel('count')\n",
    "plt.xlim(1, 52)\n",
    "plt.show()\n"
   ]
  },
  {
   "cell_type": "markdown",
   "metadata": {},
   "source": [
    "## Conclusion category selling distribution"
   ]
  },
  {
   "cell_type": "markdown",
   "metadata": {},
   "source": [
    "The \"Christmas\" and \"toys\" category are selled on christmas. Maybe alot of those toys are christmas gifts. The \"deco\", \"household\" and \"kitchen\" category are selled over the year and small increase on christmas. "
   ]
  },
  {
   "cell_type": "markdown",
   "metadata": {},
   "source": [
    "## weekly analysis"
   ]
  },
  {
   "cell_type": "code",
   "execution_count": 72,
   "metadata": {},
   "outputs": [
    {
     "data": {
      "text/html": [
       "<div>\n",
       "<style scoped>\n",
       "    .dataframe tbody tr th:only-of-type {\n",
       "        vertical-align: middle;\n",
       "    }\n",
       "\n",
       "    .dataframe tbody tr th {\n",
       "        vertical-align: top;\n",
       "    }\n",
       "\n",
       "    .dataframe thead th {\n",
       "        text-align: right;\n",
       "    }\n",
       "</style>\n",
       "<table border=\"1\" class=\"dataframe\">\n",
       "  <thead>\n",
       "    <tr style=\"text-align: right;\">\n",
       "      <th></th>\n",
       "      <th>invoiceno</th>\n",
       "      <th>stockcode</th>\n",
       "      <th>description</th>\n",
       "      <th>quantity</th>\n",
       "      <th>timestamp</th>\n",
       "      <th>unitprice</th>\n",
       "      <th>customerid</th>\n",
       "      <th>day</th>\n",
       "      <th>week</th>\n",
       "      <th>category</th>\n",
       "    </tr>\n",
       "  </thead>\n",
       "  <tbody>\n",
       "    <tr>\n",
       "      <th>1</th>\n",
       "      <td>536365</td>\n",
       "      <td>71053</td>\n",
       "      <td>WHITE METAL LANTERN</td>\n",
       "      <td>6</td>\n",
       "      <td>2018-11-29 08:26:00</td>\n",
       "      <td>3.39</td>\n",
       "      <td>17850.0</td>\n",
       "      <td>3</td>\n",
       "      <td>48</td>\n",
       "      <td>light</td>\n",
       "    </tr>\n",
       "    <tr>\n",
       "      <th>5</th>\n",
       "      <td>536365</td>\n",
       "      <td>22752</td>\n",
       "      <td>SET 7 BABUSHKA NESTING BOXES</td>\n",
       "      <td>2</td>\n",
       "      <td>2018-11-29 08:26:00</td>\n",
       "      <td>7.65</td>\n",
       "      <td>17850.0</td>\n",
       "      <td>3</td>\n",
       "      <td>48</td>\n",
       "      <td>kitchen</td>\n",
       "    </tr>\n",
       "    <tr>\n",
       "      <th>6</th>\n",
       "      <td>536365</td>\n",
       "      <td>21730</td>\n",
       "      <td>GLASS STAR FROSTED T-LIGHT HOLDER</td>\n",
       "      <td>6</td>\n",
       "      <td>2018-11-29 08:26:00</td>\n",
       "      <td>4.25</td>\n",
       "      <td>17850.0</td>\n",
       "      <td>3</td>\n",
       "      <td>48</td>\n",
       "      <td>household</td>\n",
       "    </tr>\n",
       "    <tr>\n",
       "      <th>7</th>\n",
       "      <td>536366</td>\n",
       "      <td>22633</td>\n",
       "      <td>HAND WARMER UNION JACK</td>\n",
       "      <td>6</td>\n",
       "      <td>2018-11-29 08:28:00</td>\n",
       "      <td>1.85</td>\n",
       "      <td>17850.0</td>\n",
       "      <td>3</td>\n",
       "      <td>48</td>\n",
       "      <td>toys</td>\n",
       "    </tr>\n",
       "    <tr>\n",
       "      <th>8</th>\n",
       "      <td>536366</td>\n",
       "      <td>22632</td>\n",
       "      <td>HAND WARMER RED POLKA DOT</td>\n",
       "      <td>6</td>\n",
       "      <td>2018-11-29 08:28:00</td>\n",
       "      <td>1.85</td>\n",
       "      <td>17850.0</td>\n",
       "      <td>3</td>\n",
       "      <td>48</td>\n",
       "      <td>toys</td>\n",
       "    </tr>\n",
       "  </tbody>\n",
       "</table>\n",
       "</div>"
      ],
      "text/plain": [
       "  invoiceno stockcode                        description  quantity  \\\n",
       "1    536365     71053                WHITE METAL LANTERN         6   \n",
       "5    536365     22752       SET 7 BABUSHKA NESTING BOXES         2   \n",
       "6    536365     21730  GLASS STAR FROSTED T-LIGHT HOLDER         6   \n",
       "7    536366     22633             HAND WARMER UNION JACK         6   \n",
       "8    536366     22632          HAND WARMER RED POLKA DOT         6   \n",
       "\n",
       "            timestamp  unitprice customerid  day  week   category  \n",
       "1 2018-11-29 08:26:00       3.39    17850.0    3    48      light  \n",
       "5 2018-11-29 08:26:00       7.65    17850.0    3    48    kitchen  \n",
       "6 2018-11-29 08:26:00       4.25    17850.0    3    48  household  \n",
       "7 2018-11-29 08:28:00       1.85    17850.0    3    48       toys  \n",
       "8 2018-11-29 08:28:00       1.85    17850.0    3    48       toys  "
      ]
     },
     "execution_count": 72,
     "metadata": {},
     "output_type": "execute_result"
    }
   ],
   "source": [
    "data.head()"
   ]
  },
  {
   "cell_type": "code",
   "execution_count": 73,
   "metadata": {},
   "outputs": [
    {
     "data": {
      "image/png": "[encoded data removed]",
      "text/plain": [
       "<Figure size 1440x360 with 1 Axes>"
      ]
     },
     "metadata": {
      "needs_background": "light"
     },
     "output_type": "display_data"
    }
   ],
   "source": [
    "daydf=data.groupby(['day'], as_index=False) [\"invoiceno\"].count()\n",
    "plt.figure(figsize=(20,5))\n",
    "sns.barplot(daydf[\"day\"], daydf[\"invoiceno\"], palette=\"plasma\")\n",
    "plt.title(\"The Number of Transactions by Day\")\n",
    "plt.xticks([0,1,2,3,4,5,6],[\"Monday\", \"Tuesday\", \"Wednesday\", \"Thursday\", \"Friday\",\"Saturday\",\"Sunday\"])\n",
    "\n",
    "pos = -0.15\n",
    "for index, row in daydf.iterrows():  # data\n",
    "    plt.text(pos,\n",
    "             row.invoiceno + 20, # columnname\n",
    "             row.invoiceno,      # columnname\n",
    "             color='black',\n",
    "             ha=\"center\",\n",
    "             fontsize=16)\n",
    "\n",
    "    pos += 1\n"
   ]
  },
  {
   "cell_type": "markdown",
   "metadata": {},
   "source": [
    "## Conclusion weekly analysis"
   ]
  },
  {
   "cell_type": "markdown",
   "metadata": {},
   "source": [
    "The most people buy on friday, maybe prepare for the weekend\n"
   ]
  },
  {
   "cell_type": "markdown",
   "metadata": {},
   "source": [
    "## Top 10 best selling products"
   ]
  },
  {
   "cell_type": "code",
   "execution_count": 74,
   "metadata": {},
   "outputs": [],
   "source": [
    "data[\"total_gain\"]=data[\"quantity\"]*data[\"unitprice\"]"
   ]
  },
  {
   "cell_type": "code",
   "execution_count": 75,
   "metadata": {},
   "outputs": [],
   "source": [
    "bardf=data.groupby([\"description\"], as_index=False)[\"total_gain\"].sum().sort_values(by=\"total_gain\",ascending=False)"
   ]
  },
  {
   "cell_type": "code",
   "execution_count": 76,
   "metadata": {},
   "outputs": [],
   "source": [
    "bardf[\"total_gain\"]=bardf[\"total_gain\"].astype(int)"
   ]
  },
  {
   "cell_type": "code",
   "execution_count": 77,
   "metadata": {},
   "outputs": [],
   "source": [
    "topbardf=bardf.head(10)"
   ]
  },
  {
   "cell_type": "code",
   "execution_count": 78,
   "metadata": {},
   "outputs": [
    {
     "data": {
      "image/png": "[encoded data removed]",
      "text/plain": [
       "<Figure size 1440x360 with 1 Axes>"
      ]
     },
     "metadata": {
      "needs_background": "light"
     },
     "output_type": "display_data"
    }
   ],
   "source": [
    "plt.figure(figsize=(20,5))\n",
    "sns.barplot(topbardf[\"description\"], topbardf[\"total_gain\"], palette=\"inferno\")\n",
    "plt.title(\"Top 10 productsales\")\n",
    "\n",
    "\n",
    "pos = -0.15\n",
    "for index, row in topbardf.iterrows():  # data\n",
    "    plt.text(pos,\n",
    "             row.total_gain + 20, # columnname\n",
    "             row.total_gain,      # columnname\n",
    "             color='black',\n",
    "             ha=\"center\",\n",
    "             fontsize=16)\n",
    "\n",
    "    pos += 1\n",
    "plt.xticks(rotation=45)\n",
    "plt.show()\n",
    "    \n",
    "    "
   ]
  },
  {
   "cell_type": "markdown",
   "metadata": {},
   "source": [
    "## Top 10 best selling products conclusion"
   ]
  },
  {
   "cell_type": "markdown",
   "metadata": {},
   "source": [
    "The  \"Regency Cakestand 3 Tier\" is the best selling product by far. Close to double the second place \"party bunting\" selling performance."
   ]
  },
  {
   "cell_type": "markdown",
   "metadata": {},
   "source": [
    "## Top 10 worst selling products"
   ]
  },
  {
   "cell_type": "code",
   "execution_count": 79,
   "metadata": {},
   "outputs": [],
   "source": [
    "tail_bardf=bardf.tail(10)"
   ]
  },
  {
   "cell_type": "code",
   "execution_count": 80,
   "metadata": {},
   "outputs": [],
   "source": [
    "tail_bardf[\"total_gain\"]=tail_bardf[\"total_gain\"].astype(int)"
   ]
  },
  {
   "cell_type": "code",
   "execution_count": 81,
   "metadata": {},
   "outputs": [
    {
     "data": {
      "image/png": "[encoded data removed]",
      "text/plain": [
       "<Figure size 1440x360 with 1 Axes>"
      ]
     },
     "metadata": {
      "needs_background": "light"
     },
     "output_type": "display_data"
    }
   ],
   "source": [
    "plt.figure(figsize=(20,5))\n",
    "sns.barplot(tail_bardf[\"description\"], tail_bardf[\"total_gain\"], palette=\"inferno\")\n",
    "plt.title(\"Top 10 not selled products\")\n",
    "\n",
    "\n",
    "pos = -0.15\n",
    "for index, row in tail_bardf.iterrows():  # data\n",
    "    plt.text(pos,\n",
    "             row.total_gain , # columnname\n",
    "             row.total_gain,      # columnname\n",
    "             color='black',\n",
    "             ha=\"center\",\n",
    "             fontsize=16)\n",
    "\n",
    "    pos += 1\n",
    "plt.xticks(rotation=45)\n",
    "plt.show()"
   ]
  },
  {
   "cell_type": "markdown",
   "metadata": {},
   "source": [
    "## Top 10 worst selling products conclusion"
   ]
  },
  {
   "cell_type": "markdown",
   "metadata": {},
   "source": [
    "The products \"pink crystal guitar phone charm\", \"vintage blue tinsel reel\", \"feather pen coal black\", \"set 12 colourring pencils doiley\" and \"hen house w chick in nest\" are never sold items, propably they should be replaced."
   ]
  },
  {
   "cell_type": "markdown",
   "metadata": {},
   "source": [
    "## Correlation"
   ]
  },
  {
   "cell_type": "code",
   "execution_count": 82,
   "metadata": {},
   "outputs": [],
   "source": [
    "cdata=data.corr()"
   ]
  },
  {
   "cell_type": "code",
   "execution_count": 83,
   "metadata": {},
   "outputs": [
    {
     "data": {
      "image/png": "[encoded data removed]",
      "text/plain": [
       "<Figure size 936x648 with 2 Axes>"
      ]
     },
     "metadata": {
      "needs_background": "light"
     },
     "output_type": "display_data"
    }
   ],
   "source": [
    "plt.figure(figsize=(13,9))\n",
    "plt.title(\"Correlation\")\n",
    "sns.heatmap(cdata,cmap=\"plasma\",annot=True)\n",
    "plt.show()"
   ]
  },
  {
   "cell_type": "markdown",
   "metadata": {},
   "source": [
    "## Correlation conclusion"
   ]
  },
  {
   "cell_type": "markdown",
   "metadata": {},
   "source": [
    "Only the quantity has significant impact on the total_gain, the rest doesn't matter"
   ]
  },
  {
   "cell_type": "markdown",
   "metadata": {},
   "source": [
    "## Hypothesis testing"
   ]
  },
  {
   "cell_type": "code",
   "execution_count": 84,
   "metadata": {},
   "outputs": [
    {
     "data": {
      "text/html": [
       "<div>\n",
       "<style scoped>\n",
       "    .dataframe tbody tr th:only-of-type {\n",
       "        vertical-align: middle;\n",
       "    }\n",
       "\n",
       "    .dataframe tbody tr th {\n",
       "        vertical-align: top;\n",
       "    }\n",
       "\n",
       "    .dataframe thead th {\n",
       "        text-align: right;\n",
       "    }\n",
       "</style>\n",
       "<table border=\"1\" class=\"dataframe\">\n",
       "  <thead>\n",
       "    <tr style=\"text-align: right;\">\n",
       "      <th></th>\n",
       "      <th>invoiceno</th>\n",
       "      <th>stockcode</th>\n",
       "      <th>description</th>\n",
       "      <th>quantity</th>\n",
       "      <th>timestamp</th>\n",
       "      <th>unitprice</th>\n",
       "      <th>customerid</th>\n",
       "      <th>day</th>\n",
       "      <th>week</th>\n",
       "      <th>category</th>\n",
       "      <th>total_gain</th>\n",
       "    </tr>\n",
       "  </thead>\n",
       "  <tbody>\n",
       "    <tr>\n",
       "      <th>1</th>\n",
       "      <td>536365</td>\n",
       "      <td>71053</td>\n",
       "      <td>WHITE METAL LANTERN</td>\n",
       "      <td>6</td>\n",
       "      <td>2018-11-29 08:26:00</td>\n",
       "      <td>3.39</td>\n",
       "      <td>17850.0</td>\n",
       "      <td>3</td>\n",
       "      <td>48</td>\n",
       "      <td>light</td>\n",
       "      <td>20.340001</td>\n",
       "    </tr>\n",
       "    <tr>\n",
       "      <th>5</th>\n",
       "      <td>536365</td>\n",
       "      <td>22752</td>\n",
       "      <td>SET 7 BABUSHKA NESTING BOXES</td>\n",
       "      <td>2</td>\n",
       "      <td>2018-11-29 08:26:00</td>\n",
       "      <td>7.65</td>\n",
       "      <td>17850.0</td>\n",
       "      <td>3</td>\n",
       "      <td>48</td>\n",
       "      <td>kitchen</td>\n",
       "      <td>15.300000</td>\n",
       "    </tr>\n",
       "    <tr>\n",
       "      <th>6</th>\n",
       "      <td>536365</td>\n",
       "      <td>21730</td>\n",
       "      <td>GLASS STAR FROSTED T-LIGHT HOLDER</td>\n",
       "      <td>6</td>\n",
       "      <td>2018-11-29 08:26:00</td>\n",
       "      <td>4.25</td>\n",
       "      <td>17850.0</td>\n",
       "      <td>3</td>\n",
       "      <td>48</td>\n",
       "      <td>household</td>\n",
       "      <td>25.500000</td>\n",
       "    </tr>\n",
       "    <tr>\n",
       "      <th>7</th>\n",
       "      <td>536366</td>\n",
       "      <td>22633</td>\n",
       "      <td>HAND WARMER UNION JACK</td>\n",
       "      <td>6</td>\n",
       "      <td>2018-11-29 08:28:00</td>\n",
       "      <td>1.85</td>\n",
       "      <td>17850.0</td>\n",
       "      <td>3</td>\n",
       "      <td>48</td>\n",
       "      <td>toys</td>\n",
       "      <td>11.100000</td>\n",
       "    </tr>\n",
       "    <tr>\n",
       "      <th>8</th>\n",
       "      <td>536366</td>\n",
       "      <td>22632</td>\n",
       "      <td>HAND WARMER RED POLKA DOT</td>\n",
       "      <td>6</td>\n",
       "      <td>2018-11-29 08:28:00</td>\n",
       "      <td>1.85</td>\n",
       "      <td>17850.0</td>\n",
       "      <td>3</td>\n",
       "      <td>48</td>\n",
       "      <td>toys</td>\n",
       "      <td>11.100000</td>\n",
       "    </tr>\n",
       "  </tbody>\n",
       "</table>\n",
       "</div>"
      ],
      "text/plain": [
       "  invoiceno stockcode                        description  quantity  \\\n",
       "1    536365     71053                WHITE METAL LANTERN         6   \n",
       "5    536365     22752       SET 7 BABUSHKA NESTING BOXES         2   \n",
       "6    536365     21730  GLASS STAR FROSTED T-LIGHT HOLDER         6   \n",
       "7    536366     22633             HAND WARMER UNION JACK         6   \n",
       "8    536366     22632          HAND WARMER RED POLKA DOT         6   \n",
       "\n",
       "            timestamp  unitprice customerid  day  week   category  total_gain  \n",
       "1 2018-11-29 08:26:00       3.39    17850.0    3    48      light   20.340001  \n",
       "5 2018-11-29 08:26:00       7.65    17850.0    3    48    kitchen   15.300000  \n",
       "6 2018-11-29 08:26:00       4.25    17850.0    3    48  household   25.500000  \n",
       "7 2018-11-29 08:28:00       1.85    17850.0    3    48       toys   11.100000  \n",
       "8 2018-11-29 08:28:00       1.85    17850.0    3    48       toys   11.100000  "
      ]
     },
     "execution_count": 84,
     "metadata": {},
     "output_type": "execute_result"
    }
   ],
   "source": [
    "data.head()"
   ]
  },
  {
   "cell_type": "markdown",
   "metadata": {},
   "source": [
    "H0 The Average total gain of the category \"household\" and \"kitchen\" are the same. \\\n",
    "H1 The Average total gain of the category \"household\" and \"kitchen\" are not the same."
   ]
  },
  {
   "cell_type": "code",
   "execution_count": 85,
   "metadata": {},
   "outputs": [],
   "source": [
    "household = data.query('category == \"household\"')[\"total_gain\"]\n",
    "household = household.dropna()\n",
    "\n",
    "kitchen = data.query('category == \"kitchen\"')[\"total_gain\"]\n",
    "kitchen = kitchen.dropna()"
   ]
  },
  {
   "cell_type": "code",
   "execution_count": 86,
   "metadata": {},
   "outputs": [
    {
     "data": {
      "text/plain": [
       "(0.1669672727584839, 0.0)"
      ]
     },
     "execution_count": 86,
     "metadata": {},
     "output_type": "execute_result"
    }
   ],
   "source": [
    "st.shapiro(household)"
   ]
  },
  {
   "cell_type": "code",
   "execution_count": 87,
   "metadata": {},
   "outputs": [
    {
     "data": {
      "text/plain": [
       "4572.437621258363"
      ]
     },
     "metadata": {},
     "output_type": "display_data"
    },
    {
     "data": {
      "text/plain": [
       "63314.0012111418"
      ]
     },
     "metadata": {},
     "output_type": "display_data"
    }
   ],
   "source": [
    "display(np.var(household))\n",
    "display(np.var(kitchen))"
   ]
  },
  {
   "cell_type": "code",
   "execution_count": 88,
   "metadata": {},
   "outputs": [
    {
     "name": "stdout",
     "output_type": "stream",
     "text": [
      "p-value: 4.118894670112658e-39\n",
      "We reject the null hypothesis\n"
     ]
    }
   ],
   "source": [
    "\n",
    "alpha = 0.05\n",
    "\n",
    "results = st.mannwhitneyu(\n",
    "    kitchen, \n",
    "    household)\n",
    "\n",
    "print('p-value:', results.pvalue)\n",
    "\n",
    "if (results.pvalue < alpha):\n",
    "    print(\"We reject the null hypothesis\")\n",
    "else:\n",
    "    print(\"We can't reject the null hypothesis\")"
   ]
  },
  {
   "cell_type": "markdown",
   "metadata": {},
   "source": [
    "i use the mann-whitneyu test for the unpaired samples."
   ]
  },
  {
   "cell_type": "markdown",
   "metadata": {},
   "source": [
    "## Hypothesis conclusion"
   ]
  },
  {
   "cell_type": "markdown",
   "metadata": {},
   "source": [
    "There are significant differences in the categories \"kitchen\" and \"household\""
   ]
  },
  {
   "cell_type": "markdown",
   "metadata": {},
   "source": [
    "## General Conclusion"
   ]
  },
  {
   "cell_type": "markdown",
   "metadata": {},
   "source": [
    "1. household and kitchen are the leading categories. Compare to these 2 the other are very low. \\\n",
    "2. This is the top ten products,wich are sold in bundles, the \"Regency Cakestand 3 Tier\" is the top seller item, the \"Assorted Colour Bird Ornament\" performes best in bundles. \\ The \"Rex Cash+Carry Jumbo Shopper\" performes best alone. \\\n",
    "3. The most people buy on friday, maybe prepare for the weekend\n",
    "4. The  \"Regency Cakestand 3 Tier\" is the best selling product by far. Close to double the second place \"party bunting\" selling performance. \\\n",
    "5. The products \"pink crystal guitar phone charm\", \"vintage blue tinsel reel\", \"feather pen coal black\", \"set 12 colourring pencils doiley\" and \"hen house w chick in nest\" are never sold products, propably they should be replaced or are too new. \\\n",
    "6. Only the quantity has significant impact on the total_gain, the rest doesn't \\\n",
    "7. There are significant differences in the categories \"kitchen\" and \"household\"\n",
    "8. The \"Christmas\" and \"toys\" category are selled on christmas. Maybe alot of those toys are christmas gifts. The \"deco\", \"household\" and \"kitchen\" category are selled over the year and small increase on christmas. \n"
   ]
  },
  {
   "cell_type": "markdown",
   "metadata": {},
   "source": [
    "##  Recommendation"
   ]
  },
  {
   "cell_type": "markdown",
   "metadata": {},
   "source": [
    "I would recommend to use the joyplot to perform accurate marketing campains.\n",
    "Also recommend to adjust the products by kicking out the worst sell products or investigate a better season to sell those products.\n",
    "A Cart recommendation for customers based on the bundles would be a nice addition."
   ]
  },
  {
   "cell_type": "markdown",
   "metadata": {},
   "source": [
    "## Presentation"
   ]
  },
  {
   "cell_type": "markdown",
   "metadata": {},
   "source": [
    "https://file.io/ZOFphROoHm7f\n",
    "https://easyupload.io/hmq73a"
   ]
  }
 ],
 "metadata": {
  "ExecuteTimeLog": [
   {
    "duration": 350,
    "start_time": "2021-07-01T14:45:20.366Z"
   },
   {
    "duration": 6394,
    "start_time": "2021-07-01T14:45:27.809Z"
   },
   {
    "duration": 1662,
    "start_time": "2021-07-01T14:45:34.207Z"
   },
   {
    "duration": 876,
    "start_time": "2021-07-01T14:45:35.872Z"
   },
   {
    "duration": 825,
    "start_time": "2021-07-01T14:45:36.750Z"
   },
   {
    "duration": 12,
    "start_time": "2021-07-01T14:45:37.578Z"
   },
   {
    "duration": 51,
    "start_time": "2021-07-01T14:45:37.593Z"
   },
   {
    "duration": 117,
    "start_time": "2021-07-01T14:45:37.647Z"
   },
   {
    "duration": 3142,
    "start_time": "2021-07-01T14:45:37.767Z"
   },
   {
    "duration": 85,
    "start_time": "2021-07-01T14:45:40.914Z"
   },
   {
    "duration": 47,
    "start_time": "2021-07-01T14:45:41.002Z"
   },
   {
    "duration": 73,
    "start_time": "2021-07-01T14:45:41.052Z"
   },
   {
    "duration": 241,
    "start_time": "2021-07-01T14:45:41.127Z"
   },
   {
    "duration": 65,
    "start_time": "2021-07-01T14:45:41.370Z"
   },
   {
    "duration": 7,
    "start_time": "2021-07-01T14:45:41.437Z"
   },
   {
    "duration": 488,
    "start_time": "2021-07-01T14:45:41.446Z"
   },
   {
    "duration": 21,
    "start_time": "2021-07-01T14:45:41.937Z"
   },
   {
    "duration": 6,
    "start_time": "2021-07-01T14:45:41.960Z"
   },
   {
    "duration": 46,
    "start_time": "2021-07-01T14:45:41.969Z"
   },
   {
    "duration": 72,
    "start_time": "2021-07-01T14:45:42.017Z"
   },
   {
    "duration": 7,
    "start_time": "2021-07-01T14:45:42.092Z"
   },
   {
    "duration": 8,
    "start_time": "2021-07-01T14:45:42.101Z"
   },
   {
    "duration": 118,
    "start_time": "2021-07-01T14:45:42.112Z"
   },
   {
    "duration": 242,
    "start_time": "2021-07-01T14:45:42.232Z"
   },
   {
    "duration": 897,
    "start_time": "2021-07-01T14:45:42.477Z"
   },
   {
    "duration": 24,
    "start_time": "2021-07-01T14:45:43.377Z"
   },
   {
    "duration": 566,
    "start_time": "2021-07-01T14:45:43.424Z"
   },
   {
    "duration": 708,
    "start_time": "2021-07-01T14:45:43.994Z"
   },
   {
    "duration": 149,
    "start_time": "2021-07-01T14:45:44.705Z"
   },
   {
    "duration": 152,
    "start_time": "2021-07-01T14:45:44.857Z"
   },
   {
    "duration": 42,
    "start_time": "2021-07-01T14:45:45.012Z"
   },
   {
    "duration": 662,
    "start_time": "2021-07-01T14:45:45.057Z"
   },
   {
    "duration": 175,
    "start_time": "2021-07-01T14:46:10.224Z"
   },
   {
    "duration": 183,
    "start_time": "2021-07-01T14:46:39.302Z"
   },
   {
    "duration": 575,
    "start_time": "2021-07-01T15:24:40.645Z"
   },
   {
    "duration": 16,
    "start_time": "2021-07-01T15:24:45.393Z"
   },
   {
    "duration": 4,
    "start_time": "2021-07-01T15:25:25.302Z"
   },
   {
    "duration": 7,
    "start_time": "2021-07-01T15:25:39.381Z"
   },
   {
    "duration": 48,
    "start_time": "2021-07-01T15:26:19.203Z"
   },
   {
    "duration": 16,
    "start_time": "2021-07-01T15:26:31.894Z"
   },
   {
    "duration": 13,
    "start_time": "2021-07-01T15:26:41.710Z"
   },
   {
    "duration": 50,
    "start_time": "2021-07-01T15:26:51.605Z"
   },
   {
    "duration": 427,
    "start_time": "2021-07-01T15:27:22.364Z"
   },
   {
    "duration": 452,
    "start_time": "2021-07-01T15:28:11.462Z"
   },
   {
    "duration": 18,
    "start_time": "2021-07-01T15:29:38.919Z"
   },
   {
    "duration": 71,
    "start_time": "2021-07-01T15:29:46.078Z"
   },
   {
    "duration": 290,
    "start_time": "2021-07-01T15:30:07.449Z"
   },
   {
    "duration": 71,
    "start_time": "2021-07-01T15:30:13.208Z"
   },
   {
    "duration": 19,
    "start_time": "2021-07-01T15:30:52.386Z"
   },
   {
    "duration": 41,
    "start_time": "2021-07-01T15:33:23.270Z"
   },
   {
    "duration": 34,
    "start_time": "2021-07-01T15:34:39.319Z"
   },
   {
    "duration": 27453,
    "start_time": "2021-07-01T15:35:22.634Z"
   },
   {
    "duration": 19,
    "start_time": "2021-07-01T15:37:04.060Z"
   },
   {
    "duration": 33,
    "start_time": "2021-07-01T15:38:35.894Z"
   },
   {
    "duration": 186,
    "start_time": "2021-07-01T15:39:17.342Z"
   },
   {
    "duration": 343,
    "start_time": "2021-07-01T15:40:03.323Z"
   },
   {
    "duration": 299,
    "start_time": "2021-07-02T18:04:48.888Z"
   },
   {
    "duration": 7235,
    "start_time": "2021-07-02T18:04:56.142Z"
   },
   {
    "duration": 1135,
    "start_time": "2021-07-02T18:05:03.379Z"
   },
   {
    "duration": 674,
    "start_time": "2021-07-02T18:05:04.516Z"
   },
   {
    "duration": 481,
    "start_time": "2021-07-02T18:05:05.191Z"
   },
   {
    "duration": 5,
    "start_time": "2021-07-02T18:05:05.674Z"
   },
   {
    "duration": 57,
    "start_time": "2021-07-02T18:05:05.681Z"
   },
   {
    "duration": 75,
    "start_time": "2021-07-02T18:05:05.740Z"
   },
   {
    "duration": 1605,
    "start_time": "2021-07-02T18:05:05.817Z"
   },
   {
    "duration": 67,
    "start_time": "2021-07-02T18:05:07.425Z"
   },
   {
    "duration": 23,
    "start_time": "2021-07-02T18:05:07.494Z"
   },
   {
    "duration": 51,
    "start_time": "2021-07-02T18:05:07.519Z"
   },
   {
    "duration": 155,
    "start_time": "2021-07-02T18:05:07.572Z"
   },
   {
    "duration": 37,
    "start_time": "2021-07-02T18:05:07.729Z"
   },
   {
    "duration": 5,
    "start_time": "2021-07-02T18:05:07.768Z"
   },
   {
    "duration": 266,
    "start_time": "2021-07-02T18:05:07.775Z"
   },
   {
    "duration": 15,
    "start_time": "2021-07-02T18:05:08.042Z"
   },
   {
    "duration": 17,
    "start_time": "2021-07-02T18:05:08.059Z"
   },
   {
    "duration": 36,
    "start_time": "2021-07-02T18:05:08.078Z"
   },
   {
    "duration": 53,
    "start_time": "2021-07-02T18:05:08.115Z"
   },
   {
    "duration": 6,
    "start_time": "2021-07-02T18:05:08.170Z"
   },
   {
    "duration": 24,
    "start_time": "2021-07-02T18:05:08.178Z"
   },
   {
    "duration": 94,
    "start_time": "2021-07-02T18:05:08.204Z"
   },
   {
    "duration": 146,
    "start_time": "2021-07-02T18:05:08.300Z"
   },
   {
    "duration": 543,
    "start_time": "2021-07-02T18:05:08.448Z"
   },
   {
    "duration": 11,
    "start_time": "2021-07-02T18:05:08.993Z"
   },
   {
    "duration": 357,
    "start_time": "2021-07-02T18:05:09.006Z"
   },
   {
    "duration": 433,
    "start_time": "2021-07-02T18:05:09.366Z"
   },
   {
    "duration": 116,
    "start_time": "2021-07-02T18:05:09.800Z"
   },
   {
    "duration": 99,
    "start_time": "2021-07-02T18:05:09.919Z"
   },
   {
    "duration": 34,
    "start_time": "2021-07-02T18:05:10.020Z"
   },
   {
    "duration": 462,
    "start_time": "2021-07-02T18:05:10.055Z"
   },
   {
    "duration": 48,
    "start_time": "2021-07-02T18:05:10.519Z"
   },
   {
    "duration": 223,
    "start_time": "2021-07-02T18:05:10.569Z"
   },
   {
    "duration": 27,
    "start_time": "2021-07-02T18:05:34.655Z"
   },
   {
    "duration": 5,
    "start_time": "2021-07-02T18:05:47.448Z"
   },
   {
    "duration": 31,
    "start_time": "2021-07-02T18:06:25.233Z"
   },
   {
    "duration": 16,
    "start_time": "2021-07-02T18:06:26.688Z"
   },
   {
    "duration": 378,
    "start_time": "2021-07-02T18:06:56.306Z"
   },
   {
    "duration": 34,
    "start_time": "2021-07-02T18:07:01.939Z"
   },
   {
    "duration": 247,
    "start_time": "2021-07-02T18:07:33.836Z"
   },
   {
    "duration": 258,
    "start_time": "2021-07-02T18:07:54.482Z"
   },
   {
    "duration": 1029,
    "start_time": "2021-07-02T18:07:59.395Z"
   },
   {
    "duration": 253,
    "start_time": "2021-07-02T18:08:13.144Z"
   },
   {
    "duration": 16,
    "start_time": "2021-07-02T18:08:38.817Z"
   },
   {
    "duration": 5,
    "start_time": "2021-07-02T18:09:03.314Z"
   },
   {
    "duration": 35,
    "start_time": "2021-07-02T18:09:21.970Z"
   },
   {
    "duration": 7,
    "start_time": "2021-07-02T18:09:23.950Z"
   },
   {
    "duration": 13,
    "start_time": "2021-07-02T18:09:54.582Z"
   },
   {
    "duration": 3,
    "start_time": "2021-07-02T18:12:24.054Z"
   },
   {
    "duration": 3,
    "start_time": "2021-07-02T18:12:32.814Z"
   },
   {
    "duration": 25,
    "start_time": "2021-07-02T18:12:44.496Z"
   },
   {
    "duration": 7,
    "start_time": "2021-07-02T18:12:46.326Z"
   },
   {
    "duration": 3,
    "start_time": "2021-07-02T18:13:15.349Z"
   },
   {
    "duration": 29,
    "start_time": "2021-07-02T18:13:18.306Z"
   },
   {
    "duration": 14,
    "start_time": "2021-07-02T18:13:20.151Z"
   },
   {
    "duration": 5,
    "start_time": "2021-07-02T18:13:26.864Z"
   },
   {
    "duration": 20,
    "start_time": "2021-07-02T18:16:27.404Z"
   },
   {
    "duration": 11,
    "start_time": "2021-07-02T18:20:49.398Z"
   },
   {
    "duration": 259,
    "start_time": "2021-07-02T18:21:54.144Z"
   },
   {
    "duration": 254,
    "start_time": "2021-07-02T18:22:02.286Z"
   },
   {
    "duration": 11,
    "start_time": "2021-07-02T18:22:48.298Z"
   },
   {
    "duration": 309,
    "start_time": "2021-07-02T18:23:06.002Z"
   },
   {
    "duration": 11,
    "start_time": "2021-07-02T18:23:17.021Z"
   },
   {
    "duration": 245,
    "start_time": "2021-07-02T18:23:31.044Z"
   },
   {
    "duration": 12,
    "start_time": "2021-07-02T18:24:07.664Z"
   },
   {
    "duration": 255,
    "start_time": "2021-07-02T18:28:34.562Z"
   },
   {
    "duration": 248,
    "start_time": "2021-07-02T18:28:44.300Z"
   },
   {
    "duration": 14,
    "start_time": "2021-07-02T18:29:21.760Z"
   },
   {
    "duration": 3,
    "start_time": "2021-07-02T18:38:14.861Z"
   },
   {
    "duration": 13,
    "start_time": "2021-07-02T18:39:11.329Z"
   },
   {
    "duration": 9,
    "start_time": "2021-07-02T18:40:17.432Z"
   },
   {
    "duration": 20,
    "start_time": "2021-07-02T18:41:02.503Z"
   },
   {
    "duration": 44,
    "start_time": "2021-07-02T18:41:29.140Z"
   },
   {
    "duration": 49,
    "start_time": "2021-07-02T18:41:54.804Z"
   },
   {
    "duration": 15,
    "start_time": "2021-07-02T18:42:03.528Z"
   },
   {
    "duration": 61,
    "start_time": "2021-07-02T18:42:44.540Z"
   },
   {
    "duration": 15,
    "start_time": "2021-07-02T18:43:11.130Z"
   },
   {
    "duration": 253,
    "start_time": "2021-07-02T18:45:25.041Z"
   },
   {
    "duration": 11,
    "start_time": "2021-07-02T18:45:34.809Z"
   },
   {
    "duration": 83,
    "start_time": "2021-07-02T18:46:43.180Z"
   },
   {
    "duration": 78,
    "start_time": "2021-07-02T18:46:49.151Z"
   },
   {
    "duration": 3,
    "start_time": "2021-07-02T18:47:00.946Z"
   },
   {
    "duration": 32,
    "start_time": "2021-07-02T18:47:04.922Z"
   },
   {
    "duration": 48,
    "start_time": "2021-07-02T19:02:32.197Z"
   },
   {
    "duration": 51,
    "start_time": "2021-07-02T19:02:42.934Z"
   },
   {
    "duration": 21,
    "start_time": "2021-07-02T19:02:45.613Z"
   },
   {
    "duration": 3,
    "start_time": "2021-07-02T19:03:18.907Z"
   },
   {
    "duration": 33,
    "start_time": "2021-07-02T19:03:22.649Z"
   },
   {
    "duration": 15,
    "start_time": "2021-07-02T19:03:31.490Z"
   },
   {
    "duration": 5177,
    "start_time": "2021-07-02T19:17:51.349Z"
   },
   {
    "duration": 279,
    "start_time": "2021-07-02T19:19:01.113Z"
   },
   {
    "duration": 27,
    "start_time": "2021-07-02T19:19:19.322Z"
   },
   {
    "duration": 96,
    "start_time": "2021-07-02T20:00:03.870Z"
   },
   {
    "duration": 92,
    "start_time": "2021-07-02T20:00:46.546Z"
   },
   {
    "duration": 81,
    "start_time": "2021-07-02T20:00:59.804Z"
   },
   {
    "duration": 89,
    "start_time": "2021-07-02T20:01:58.960Z"
   },
   {
    "duration": 81,
    "start_time": "2021-07-02T20:02:33.292Z"
   },
   {
    "duration": 81,
    "start_time": "2021-07-02T20:03:57.214Z"
   },
   {
    "duration": 82,
    "start_time": "2021-07-02T20:04:59.820Z"
   },
   {
    "duration": 94,
    "start_time": "2021-07-02T20:05:30.449Z"
   },
   {
    "duration": 101,
    "start_time": "2021-07-02T20:07:57.020Z"
   },
   {
    "duration": 102,
    "start_time": "2021-07-02T20:08:22.049Z"
   },
   {
    "duration": 6448,
    "start_time": "2021-07-02T20:08:22.392Z"
   },
   {
    "duration": 674,
    "start_time": "2021-07-02T20:08:28.167Z"
   },
   {
    "duration": 30,
    "start_time": "2021-07-02T20:09:48.820Z"
   },
   {
    "duration": 17,
    "start_time": "2021-07-02T20:10:02.040Z"
   },
   {
    "duration": 6,
    "start_time": "2021-07-02T20:10:34.330Z"
   },
   {
    "duration": 4,
    "start_time": "2021-07-02T20:10:41.082Z"
   },
   {
    "duration": 17,
    "start_time": "2021-07-02T20:10:50.245Z"
   },
   {
    "duration": 261,
    "start_time": "2021-07-02T20:11:41.656Z"
   },
   {
    "duration": 3323,
    "start_time": "2021-07-02T20:12:53.863Z"
   },
   {
    "duration": 259,
    "start_time": "2021-07-02T20:13:00.118Z"
   },
   {
    "duration": 34,
    "start_time": "2021-07-02T20:13:06.506Z"
   },
   {
    "duration": 16,
    "start_time": "2021-07-02T20:13:09.175Z"
   },
   {
    "duration": 277,
    "start_time": "2021-07-02T20:13:14.587Z"
   },
   {
    "duration": 287,
    "start_time": "2021-07-02T20:13:27.348Z"
   },
   {
    "duration": 443,
    "start_time": "2021-07-02T20:13:46.287Z"
   },
   {
    "duration": 252,
    "start_time": "2021-07-02T20:14:18.868Z"
   },
   {
    "duration": 2294,
    "start_time": "2021-07-02T20:15:02.536Z"
   },
   {
    "duration": 2072,
    "start_time": "2021-07-02T20:15:19.556Z"
   },
   {
    "duration": 275,
    "start_time": "2021-07-02T20:15:24.744Z"
   },
   {
    "duration": 266,
    "start_time": "2021-07-02T20:17:20.353Z"
   },
   {
    "duration": 287,
    "start_time": "2021-07-02T20:17:27.436Z"
   },
   {
    "duration": 7206,
    "start_time": "2021-07-02T20:20:12.924Z"
   },
   {
    "duration": 7533,
    "start_time": "2021-07-02T20:20:33.004Z"
   },
   {
    "duration": 7484,
    "start_time": "2021-07-02T20:20:58.601Z"
   },
   {
    "duration": 1074,
    "start_time": "2021-07-02T20:21:27.980Z"
   },
   {
    "duration": 994,
    "start_time": "2021-07-02T20:23:01.716Z"
   },
   {
    "duration": 979,
    "start_time": "2021-07-02T20:23:30.598Z"
   },
   {
    "duration": 60,
    "start_time": "2021-07-02T20:45:47.688Z"
   },
   {
    "duration": 1037,
    "start_time": "2021-07-02T20:46:09.331Z"
   },
   {
    "duration": 8973,
    "start_time": "2021-07-03T15:40:08.650Z"
   },
   {
    "duration": 1604,
    "start_time": "2021-07-03T15:40:17.626Z"
   },
   {
    "duration": 898,
    "start_time": "2021-07-03T15:40:19.233Z"
   },
   {
    "duration": 787,
    "start_time": "2021-07-03T15:40:20.134Z"
   },
   {
    "duration": 8,
    "start_time": "2021-07-03T15:40:20.923Z"
   },
   {
    "duration": 47,
    "start_time": "2021-07-03T15:40:20.934Z"
   },
   {
    "duration": 113,
    "start_time": "2021-07-03T15:40:20.984Z"
   },
   {
    "duration": 3395,
    "start_time": "2021-07-03T15:40:21.101Z"
   },
   {
    "duration": 95,
    "start_time": "2021-07-03T15:40:24.499Z"
   },
   {
    "duration": 37,
    "start_time": "2021-07-03T15:40:24.596Z"
   },
   {
    "duration": 75,
    "start_time": "2021-07-03T15:40:24.635Z"
   },
   {
    "duration": 230,
    "start_time": "2021-07-03T15:40:24.712Z"
   },
   {
    "duration": 71,
    "start_time": "2021-07-03T15:40:24.944Z"
   },
   {
    "duration": 7,
    "start_time": "2021-07-03T15:40:25.017Z"
   },
   {
    "duration": 505,
    "start_time": "2021-07-03T15:40:25.027Z"
   },
   {
    "duration": 28,
    "start_time": "2021-07-03T15:40:25.534Z"
   },
   {
    "duration": 3,
    "start_time": "2021-07-03T15:40:25.565Z"
   },
   {
    "duration": 46,
    "start_time": "2021-07-03T15:40:25.571Z"
   },
   {
    "duration": 92,
    "start_time": "2021-07-03T15:40:25.619Z"
   },
   {
    "duration": 7,
    "start_time": "2021-07-03T15:40:25.713Z"
   },
   {
    "duration": 7,
    "start_time": "2021-07-03T15:40:25.722Z"
   },
   {
    "duration": 122,
    "start_time": "2021-07-03T15:40:25.732Z"
   },
   {
    "duration": 236,
    "start_time": "2021-07-03T15:40:25.864Z"
   },
   {
    "duration": 816,
    "start_time": "2021-07-03T15:40:26.103Z"
   },
   {
    "duration": 17,
    "start_time": "2021-07-03T15:40:26.922Z"
   },
   {
    "duration": 564,
    "start_time": "2021-07-03T15:40:26.942Z"
   },
   {
    "duration": 772,
    "start_time": "2021-07-03T15:40:27.508Z"
   },
   {
    "duration": 186,
    "start_time": "2021-07-03T15:40:28.282Z"
   },
   {
    "duration": 156,
    "start_time": "2021-07-03T15:40:28.470Z"
   },
   {
    "duration": 59,
    "start_time": "2021-07-03T15:40:28.628Z"
   },
   {
    "duration": 638,
    "start_time": "2021-07-03T15:40:28.690Z"
   },
   {
    "duration": 32,
    "start_time": "2021-07-03T15:40:29.331Z"
   },
   {
    "duration": 12,
    "start_time": "2021-07-03T15:40:29.365Z"
   },
   {
    "duration": 7,
    "start_time": "2021-07-03T15:40:29.380Z"
   },
   {
    "duration": 4,
    "start_time": "2021-07-03T15:40:29.390Z"
   },
   {
    "duration": 81,
    "start_time": "2021-07-03T15:40:29.396Z"
   },
   {
    "duration": 45,
    "start_time": "2021-07-03T15:40:29.479Z"
   },
   {
    "duration": 40,
    "start_time": "2021-07-03T15:40:29.527Z"
   },
   {
    "duration": 8,
    "start_time": "2021-07-03T15:40:29.569Z"
   },
   {
    "duration": 25,
    "start_time": "2021-07-03T15:40:29.579Z"
   },
   {
    "duration": 74,
    "start_time": "2021-07-03T15:40:29.607Z"
   },
   {
    "duration": 94,
    "start_time": "2021-07-03T15:40:29.684Z"
   },
   {
    "duration": 23,
    "start_time": "2021-07-03T15:40:29.780Z"
   },
   {
    "duration": 4280,
    "start_time": "2021-07-03T15:40:29.805Z"
   },
   {
    "duration": 1850,
    "start_time": "2021-07-03T15:40:34.088Z"
   },
   {
    "duration": 1622,
    "start_time": "2021-07-03T15:40:35.940Z"
   },
   {
    "duration": 22,
    "start_time": "2021-07-03T15:49:24.061Z"
   },
   {
    "duration": 24,
    "start_time": "2021-07-03T15:51:15.960Z"
   },
   {
    "duration": 468,
    "start_time": "2021-07-03T15:51:48.904Z"
   },
   {
    "duration": 7,
    "start_time": "2021-07-03T15:52:01.790Z"
   },
   {
    "duration": 118,
    "start_time": "2021-07-03T15:54:00.216Z"
   },
   {
    "duration": 6385,
    "start_time": "2021-07-18T07:36:36.901Z"
   },
   {
    "duration": 1121,
    "start_time": "2021-07-18T07:36:43.288Z"
   },
   {
    "duration": 2193,
    "start_time": "2021-07-18T07:36:44.411Z"
   },
   {
    "duration": 462,
    "start_time": "2021-07-18T07:36:46.606Z"
   },
   {
    "duration": 5,
    "start_time": "2021-07-18T07:36:47.070Z"
   },
   {
    "duration": 34,
    "start_time": "2021-07-18T07:36:47.076Z"
   },
   {
    "duration": 72,
    "start_time": "2021-07-18T07:36:47.112Z"
   },
   {
    "duration": 1595,
    "start_time": "2021-07-18T07:36:47.193Z"
   },
   {
    "duration": 65,
    "start_time": "2021-07-18T07:36:48.791Z"
   },
   {
    "duration": 41,
    "start_time": "2021-07-18T07:36:48.857Z"
   },
   {
    "duration": 38,
    "start_time": "2021-07-18T07:36:48.900Z"
   },
   {
    "duration": 156,
    "start_time": "2021-07-18T07:36:48.940Z"
   },
   {
    "duration": 36,
    "start_time": "2021-07-18T07:36:49.098Z"
   },
   {
    "duration": 5,
    "start_time": "2021-07-18T07:36:49.135Z"
   },
   {
    "duration": 265,
    "start_time": "2021-07-18T07:36:49.142Z"
   },
   {
    "duration": 12,
    "start_time": "2021-07-18T07:36:49.409Z"
   },
   {
    "duration": 4,
    "start_time": "2021-07-18T07:36:49.423Z"
   },
   {
    "duration": 26,
    "start_time": "2021-07-18T07:36:49.428Z"
   },
   {
    "duration": 70,
    "start_time": "2021-07-18T07:36:49.456Z"
   },
   {
    "duration": 6,
    "start_time": "2021-07-18T07:36:49.528Z"
   },
   {
    "duration": 5,
    "start_time": "2021-07-18T07:36:49.535Z"
   },
   {
    "duration": 96,
    "start_time": "2021-07-18T07:36:49.542Z"
   },
   {
    "duration": 154,
    "start_time": "2021-07-18T07:36:49.639Z"
   },
   {
    "duration": 430,
    "start_time": "2021-07-18T07:36:49.795Z"
   },
   {
    "duration": 10,
    "start_time": "2021-07-18T07:36:50.226Z"
   },
   {
    "duration": 367,
    "start_time": "2021-07-18T07:36:50.237Z"
   },
   {
    "duration": 418,
    "start_time": "2021-07-18T07:36:50.608Z"
   },
   {
    "duration": 120,
    "start_time": "2021-07-18T07:36:51.028Z"
   },
   {
    "duration": 99,
    "start_time": "2021-07-18T07:36:51.150Z"
   },
   {
    "duration": 22,
    "start_time": "2021-07-18T07:36:51.251Z"
   },
   {
    "duration": 626,
    "start_time": "2021-07-18T07:36:51.274Z"
   },
   {
    "duration": 12,
    "start_time": "2021-07-18T07:36:51.902Z"
   },
   {
    "duration": 10,
    "start_time": "2021-07-18T07:36:51.916Z"
   },
   {
    "duration": 4,
    "start_time": "2021-07-18T07:36:51.927Z"
   },
   {
    "duration": 4,
    "start_time": "2021-07-18T07:36:51.932Z"
   },
   {
    "duration": 30,
    "start_time": "2021-07-18T07:36:51.937Z"
   },
   {
    "duration": 52,
    "start_time": "2021-07-18T07:36:51.968Z"
   },
   {
    "duration": 4,
    "start_time": "2021-07-18T07:36:52.021Z"
   },
   {
    "duration": 4,
    "start_time": "2021-07-18T07:36:52.027Z"
   },
   {
    "duration": 13,
    "start_time": "2021-07-18T07:36:52.032Z"
   },
   {
    "duration": 11,
    "start_time": "2021-07-18T07:36:52.047Z"
   },
   {
    "duration": 88,
    "start_time": "2021-07-18T07:36:52.059Z"
   },
   {
    "duration": 14,
    "start_time": "2021-07-18T07:36:52.148Z"
   },
   {
    "duration": 2902,
    "start_time": "2021-07-18T07:36:52.163Z"
   },
   {
    "duration": 1217,
    "start_time": "2021-07-18T07:36:55.067Z"
   },
   {
    "duration": 923,
    "start_time": "2021-07-18T07:36:56.286Z"
   },
   {
    "duration": 973,
    "start_time": "2021-07-18T08:09:28.031Z"
   },
   {
    "duration": 314,
    "start_time": "2021-07-18T08:10:39.775Z"
   },
   {
    "duration": 345,
    "start_time": "2021-07-18T08:10:50.206Z"
   },
   {
    "duration": 229,
    "start_time": "2021-07-18T08:11:28.074Z"
   },
   {
    "duration": 223,
    "start_time": "2021-07-18T08:11:58.114Z"
   },
   {
    "duration": 222,
    "start_time": "2021-07-18T08:12:06.434Z"
   },
   {
    "duration": 581,
    "start_time": "2021-07-18T08:15:11.859Z"
   },
   {
    "duration": 488,
    "start_time": "2021-07-18T08:15:45.056Z"
   },
   {
    "duration": 215,
    "start_time": "2021-07-18T08:15:53.014Z"
   },
   {
    "duration": 15,
    "start_time": "2021-07-18T08:19:42.877Z"
   },
   {
    "duration": 10,
    "start_time": "2021-07-18T08:20:06.802Z"
   },
   {
    "duration": 29,
    "start_time": "2021-07-18T08:21:44.583Z"
   },
   {
    "duration": 6,
    "start_time": "2021-07-18T08:21:59.012Z"
   },
   {
    "duration": 101,
    "start_time": "2021-07-18T08:24:48.727Z"
   },
   {
    "duration": 275,
    "start_time": "2021-07-18T08:24:54.745Z"
   },
   {
    "duration": 241,
    "start_time": "2021-07-18T08:25:14.541Z"
   },
   {
    "duration": 238,
    "start_time": "2021-07-18T08:28:29.332Z"
   },
   {
    "duration": 472,
    "start_time": "2021-07-18T08:31:59.930Z"
   },
   {
    "duration": 475,
    "start_time": "2021-07-18T08:32:14.966Z"
   },
   {
    "duration": 244,
    "start_time": "2021-07-18T08:33:34.310Z"
   },
   {
    "duration": 244,
    "start_time": "2021-07-18T08:33:43.623Z"
   },
   {
    "duration": 252,
    "start_time": "2021-07-18T08:33:54.713Z"
   },
   {
    "duration": 248,
    "start_time": "2021-07-18T08:34:02.516Z"
   },
   {
    "duration": 328,
    "start_time": "2021-07-18T08:34:17.631Z"
   },
   {
    "duration": 384,
    "start_time": "2021-07-18T08:34:22.765Z"
   },
   {
    "duration": 249,
    "start_time": "2021-07-18T08:34:28.947Z"
   },
   {
    "duration": 296,
    "start_time": "2021-07-18T08:35:36.460Z"
   },
   {
    "duration": 5,
    "start_time": "2021-07-18T08:42:09.782Z"
   },
   {
    "duration": 10,
    "start_time": "2021-07-18T08:42:25.766Z"
   },
   {
    "duration": 53,
    "start_time": "2021-07-18T10:09:30.552Z"
   },
   {
    "duration": 49,
    "start_time": "2021-07-18T10:09:48.869Z"
   },
   {
    "duration": 48,
    "start_time": "2021-07-18T10:10:02.374Z"
   },
   {
    "duration": 48,
    "start_time": "2021-07-18T10:10:08.167Z"
   },
   {
    "duration": 47,
    "start_time": "2021-07-18T10:10:39.325Z"
   },
   {
    "duration": 44,
    "start_time": "2021-07-18T10:11:45.365Z"
   },
   {
    "duration": 7,
    "start_time": "2021-07-18T10:12:50.093Z"
   },
   {
    "duration": 252,
    "start_time": "2021-07-18T10:13:36.138Z"
   },
   {
    "duration": 479,
    "start_time": "2021-07-18T10:13:46.606Z"
   },
   {
    "duration": 527,
    "start_time": "2021-07-18T10:14:16.844Z"
   },
   {
    "duration": 290,
    "start_time": "2021-07-18T10:14:50.774Z"
   },
   {
    "duration": 521,
    "start_time": "2021-07-18T10:15:51.073Z"
   },
   {
    "duration": 598,
    "start_time": "2021-07-18T10:16:14.458Z"
   },
   {
    "duration": 290,
    "start_time": "2021-07-18T10:16:22.585Z"
   },
   {
    "duration": 280,
    "start_time": "2021-07-18T10:19:48.472Z"
   },
   {
    "duration": 221,
    "start_time": "2021-07-18T10:19:54.335Z"
   },
   {
    "duration": 356,
    "start_time": "2021-07-18T10:20:59.542Z"
   },
   {
    "duration": 77,
    "start_time": "2021-07-18T10:21:04.972Z"
   },
   {
    "duration": 2,
    "start_time": "2021-07-18T10:21:12.010Z"
   },
   {
    "duration": 296,
    "start_time": "2021-07-18T10:21:17.980Z"
   },
   {
    "duration": 369,
    "start_time": "2021-07-18T10:21:28.892Z"
   },
   {
    "duration": 342,
    "start_time": "2021-07-18T10:21:45.474Z"
   },
   {
    "duration": 380,
    "start_time": "2021-07-18T10:22:27.951Z"
   },
   {
    "duration": 68,
    "start_time": "2021-07-18T10:22:33.522Z"
   },
   {
    "duration": 344,
    "start_time": "2021-07-18T10:22:39.645Z"
   },
   {
    "duration": 354,
    "start_time": "2021-07-18T10:22:43.286Z"
   },
   {
    "duration": 4,
    "start_time": "2021-07-18T10:22:57.508Z"
   },
   {
    "duration": 375,
    "start_time": "2021-07-18T10:22:59.892Z"
   },
   {
    "duration": 4,
    "start_time": "2021-07-18T10:25:12.874Z"
   },
   {
    "duration": 274,
    "start_time": "2021-07-18T10:25:15.163Z"
   },
   {
    "duration": 342,
    "start_time": "2021-07-18T10:26:55.510Z"
   },
   {
    "duration": 296,
    "start_time": "2021-07-18T10:27:05.007Z"
   },
   {
    "duration": 297,
    "start_time": "2021-07-18T10:28:12.184Z"
   },
   {
    "duration": 44,
    "start_time": "2021-07-18T10:33:24.372Z"
   },
   {
    "duration": 2074,
    "start_time": "2021-07-18T10:38:53.760Z"
   },
   {
    "duration": 41,
    "start_time": "2021-07-18T10:40:01.400Z"
   },
   {
    "duration": 33,
    "start_time": "2021-07-18T10:40:15.360Z"
   },
   {
    "duration": 267,
    "start_time": "2021-07-18T10:40:37.310Z"
   },
   {
    "duration": 354,
    "start_time": "2021-07-18T10:41:24.952Z"
   },
   {
    "duration": 67,
    "start_time": "2021-07-18T13:50:07.132Z"
   },
   {
    "duration": 3,
    "start_time": "2021-07-18T14:24:49.835Z"
   },
   {
    "duration": 365,
    "start_time": "2021-07-18T14:24:54.945Z"
   },
   {
    "duration": 6,
    "start_time": "2021-07-18T14:30:24.588Z"
   },
   {
    "duration": 5,
    "start_time": "2021-07-18T14:32:58.959Z"
   },
   {
    "duration": 41,
    "start_time": "2021-07-18T14:33:19.043Z"
   },
   {
    "duration": 5,
    "start_time": "2021-07-18T14:33:21.394Z"
   },
   {
    "duration": 3,
    "start_time": "2021-07-18T14:33:39.303Z"
   },
   {
    "duration": 5,
    "start_time": "2021-07-18T14:33:41.938Z"
   },
   {
    "duration": 339,
    "start_time": "2021-07-18T14:33:44.463Z"
   },
   {
    "duration": 4314,
    "start_time": "2021-07-18T14:33:54.422Z"
   },
   {
    "duration": 1113,
    "start_time": "2021-07-18T14:33:58.738Z"
   },
   {
    "duration": 611,
    "start_time": "2021-07-18T14:33:59.853Z"
   },
   {
    "duration": 510,
    "start_time": "2021-07-18T14:34:00.466Z"
   },
   {
    "duration": 5,
    "start_time": "2021-07-18T14:34:00.977Z"
   },
   {
    "duration": 45,
    "start_time": "2021-07-18T14:34:00.984Z"
   },
   {
    "duration": 71,
    "start_time": "2021-07-18T14:34:01.031Z"
   },
   {
    "duration": 1743,
    "start_time": "2021-07-18T14:34:01.104Z"
   },
   {
    "duration": 59,
    "start_time": "2021-07-18T14:34:02.849Z"
   },
   {
    "duration": 21,
    "start_time": "2021-07-18T14:34:02.910Z"
   },
   {
    "duration": 38,
    "start_time": "2021-07-18T14:34:02.932Z"
   },
   {
    "duration": 160,
    "start_time": "2021-07-18T14:34:02.971Z"
   },
   {
    "duration": 33,
    "start_time": "2021-07-18T14:34:03.133Z"
   },
   {
    "duration": 6,
    "start_time": "2021-07-18T14:34:03.167Z"
   },
   {
    "duration": 252,
    "start_time": "2021-07-18T14:34:03.174Z"
   },
   {
    "duration": 13,
    "start_time": "2021-07-18T14:34:03.427Z"
   },
   {
    "duration": 5,
    "start_time": "2021-07-18T14:34:03.442Z"
   },
   {
    "duration": 32,
    "start_time": "2021-07-18T14:34:03.448Z"
   },
   {
    "duration": 48,
    "start_time": "2021-07-18T14:34:03.481Z"
   },
   {
    "duration": 4,
    "start_time": "2021-07-18T14:34:03.531Z"
   },
   {
    "duration": 14,
    "start_time": "2021-07-18T14:34:03.537Z"
   },
   {
    "duration": 81,
    "start_time": "2021-07-18T14:34:03.552Z"
   },
   {
    "duration": 145,
    "start_time": "2021-07-18T14:34:03.638Z"
   },
   {
    "duration": 410,
    "start_time": "2021-07-18T14:34:03.785Z"
   },
   {
    "duration": 10,
    "start_time": "2021-07-18T14:34:04.197Z"
   },
   {
    "duration": 348,
    "start_time": "2021-07-18T14:34:04.208Z"
   },
   {
    "duration": 400,
    "start_time": "2021-07-18T14:34:04.558Z"
   },
   {
    "duration": 117,
    "start_time": "2021-07-18T14:34:04.960Z"
   },
   {
    "duration": 94,
    "start_time": "2021-07-18T14:34:05.079Z"
   },
   {
    "duration": 34,
    "start_time": "2021-07-18T14:34:05.174Z"
   },
   {
    "duration": 378,
    "start_time": "2021-07-18T14:34:05.209Z"
   },
   {
    "duration": 11,
    "start_time": "2021-07-18T14:34:05.588Z"
   },
   {
    "duration": 9,
    "start_time": "2021-07-18T14:34:05.600Z"
   },
   {
    "duration": 8,
    "start_time": "2021-07-18T14:34:05.610Z"
   },
   {
    "duration": 4,
    "start_time": "2021-07-18T14:34:05.619Z"
   },
   {
    "duration": 34,
    "start_time": "2021-07-18T14:34:05.625Z"
   },
   {
    "duration": 41,
    "start_time": "2021-07-18T14:34:05.660Z"
   },
   {
    "duration": 3,
    "start_time": "2021-07-18T14:34:05.703Z"
   },
   {
    "duration": 8,
    "start_time": "2021-07-18T14:34:05.708Z"
   },
   {
    "duration": 14,
    "start_time": "2021-07-18T14:34:05.717Z"
   },
   {
    "duration": 11,
    "start_time": "2021-07-18T14:34:05.732Z"
   },
   {
    "duration": 76,
    "start_time": "2021-07-18T14:34:05.744Z"
   },
   {
    "duration": 13,
    "start_time": "2021-07-18T14:34:05.822Z"
   },
   {
    "duration": 1905,
    "start_time": "2021-07-18T14:34:05.837Z"
   },
   {
    "duration": 1094,
    "start_time": "2021-07-18T14:34:07.744Z"
   },
   {
    "duration": 886,
    "start_time": "2021-07-18T14:34:08.840Z"
   },
   {
    "duration": 13,
    "start_time": "2021-07-18T14:34:09.727Z"
   },
   {
    "duration": 264,
    "start_time": "2021-07-18T14:34:09.741Z"
   },
   {
    "duration": 6,
    "start_time": "2021-07-18T14:34:10.007Z"
   },
   {
    "duration": 53,
    "start_time": "2021-07-18T14:34:10.014Z"
   },
   {
    "duration": 3,
    "start_time": "2021-07-18T14:34:10.068Z"
   },
   {
    "duration": 321,
    "start_time": "2021-07-18T14:34:10.073Z"
   },
   {
    "duration": 43,
    "start_time": "2021-07-18T14:34:10.395Z"
   },
   {
    "duration": 5,
    "start_time": "2021-07-18T14:34:10.439Z"
   },
   {
    "duration": 5,
    "start_time": "2021-07-18T14:34:10.445Z"
   },
   {
    "duration": 4,
    "start_time": "2021-07-18T14:34:10.452Z"
   },
   {
    "duration": 366,
    "start_time": "2021-07-18T14:34:10.458Z"
   },
   {
    "duration": 33,
    "start_time": "2021-07-18T14:34:10.825Z"
   },
   {
    "duration": 412,
    "start_time": "2021-07-18T14:34:10.860Z"
   },
   {
    "duration": 7,
    "start_time": "2021-07-18T14:34:23.646Z"
   },
   {
    "duration": 6,
    "start_time": "2021-07-18T14:35:14.162Z"
   },
   {
    "duration": 5,
    "start_time": "2021-07-18T14:36:02.330Z"
   },
   {
    "duration": 315,
    "start_time": "2021-07-18T14:36:04.412Z"
   },
   {
    "duration": 44,
    "start_time": "2021-07-18T14:36:40.644Z"
   },
   {
    "duration": 6,
    "start_time": "2021-07-18T14:36:45.106Z"
   },
   {
    "duration": 229,
    "start_time": "2021-07-18T14:36:46.850Z"
   },
   {
    "duration": 42,
    "start_time": "2021-07-18T14:37:22.398Z"
   },
   {
    "duration": 5,
    "start_time": "2021-07-18T14:37:24.379Z"
   },
   {
    "duration": 213,
    "start_time": "2021-07-18T14:37:26.261Z"
   },
   {
    "duration": 6,
    "start_time": "2021-07-18T14:37:46.978Z"
   },
   {
    "duration": 5023,
    "start_time": "2021-07-18T14:38:05.145Z"
   },
   {
    "duration": 6,
    "start_time": "2021-07-18T14:38:10.170Z"
   },
   {
    "duration": 557,
    "start_time": "2021-07-18T14:38:10.178Z"
   },
   {
    "duration": 403,
    "start_time": "2021-07-18T14:38:10.737Z"
   },
   {
    "duration": 6,
    "start_time": "2021-07-18T14:38:11.141Z"
   },
   {
    "duration": 28,
    "start_time": "2021-07-18T14:38:11.148Z"
   },
   {
    "duration": 83,
    "start_time": "2021-07-18T14:38:11.177Z"
   },
   {
    "duration": 1628,
    "start_time": "2021-07-18T14:38:11.263Z"
   },
   {
    "duration": 57,
    "start_time": "2021-07-18T14:38:12.893Z"
   },
   {
    "duration": 24,
    "start_time": "2021-07-18T14:38:12.952Z"
   },
   {
    "duration": 41,
    "start_time": "2021-07-18T14:38:12.991Z"
   },
   {
    "duration": 152,
    "start_time": "2021-07-18T14:38:13.034Z"
   },
   {
    "duration": 35,
    "start_time": "2021-07-18T14:38:13.187Z"
   },
   {
    "duration": 5,
    "start_time": "2021-07-18T14:38:13.223Z"
   },
   {
    "duration": 240,
    "start_time": "2021-07-18T14:38:13.230Z"
   },
   {
    "duration": 13,
    "start_time": "2021-07-18T14:38:13.472Z"
   },
   {
    "duration": 2,
    "start_time": "2021-07-18T14:38:13.491Z"
   },
   {
    "duration": 32,
    "start_time": "2021-07-18T14:38:13.494Z"
   },
   {
    "duration": 66,
    "start_time": "2021-07-18T14:38:13.527Z"
   },
   {
    "duration": 5,
    "start_time": "2021-07-18T14:38:13.595Z"
   },
   {
    "duration": 5,
    "start_time": "2021-07-18T14:38:13.602Z"
   },
   {
    "duration": 88,
    "start_time": "2021-07-18T14:38:13.608Z"
   },
   {
    "duration": 145,
    "start_time": "2021-07-18T14:38:13.699Z"
   },
   {
    "duration": 527,
    "start_time": "2021-07-18T14:38:13.847Z"
   },
   {
    "duration": 16,
    "start_time": "2021-07-18T14:38:14.376Z"
   },
   {
    "duration": 332,
    "start_time": "2021-07-18T14:38:14.394Z"
   },
   {
    "duration": 431,
    "start_time": "2021-07-18T14:38:14.728Z"
   },
   {
    "duration": 116,
    "start_time": "2021-07-18T14:38:15.161Z"
   },
   {
    "duration": 94,
    "start_time": "2021-07-18T14:38:15.278Z"
   },
   {
    "duration": 33,
    "start_time": "2021-07-18T14:38:15.374Z"
   },
   {
    "duration": 383,
    "start_time": "2021-07-18T14:38:15.409Z"
   },
   {
    "duration": 12,
    "start_time": "2021-07-18T14:38:15.794Z"
   },
   {
    "duration": 9,
    "start_time": "2021-07-18T14:38:15.808Z"
   },
   {
    "duration": 3,
    "start_time": "2021-07-18T14:38:15.818Z"
   },
   {
    "duration": 4,
    "start_time": "2021-07-18T14:38:15.823Z"
   },
   {
    "duration": 33,
    "start_time": "2021-07-18T14:38:15.828Z"
   },
   {
    "duration": 28,
    "start_time": "2021-07-18T14:38:15.891Z"
   },
   {
    "duration": 4,
    "start_time": "2021-07-18T14:38:15.921Z"
   },
   {
    "duration": 5,
    "start_time": "2021-07-18T14:38:15.927Z"
   },
   {
    "duration": 12,
    "start_time": "2021-07-18T14:38:15.934Z"
   },
   {
    "duration": 11,
    "start_time": "2021-07-18T14:38:15.947Z"
   },
   {
    "duration": 86,
    "start_time": "2021-07-18T14:38:15.959Z"
   },
   {
    "duration": 15,
    "start_time": "2021-07-18T14:38:16.047Z"
   },
   {
    "duration": 1965,
    "start_time": "2021-07-18T14:38:16.064Z"
   },
   {
    "duration": 1110,
    "start_time": "2021-07-18T14:38:18.031Z"
   },
   {
    "duration": 893,
    "start_time": "2021-07-18T14:38:19.142Z"
   },
   {
    "duration": 10,
    "start_time": "2021-07-18T14:38:20.037Z"
   },
   {
    "duration": 262,
    "start_time": "2021-07-18T14:38:20.048Z"
   },
   {
    "duration": 5,
    "start_time": "2021-07-18T14:38:20.311Z"
   },
   {
    "duration": 46,
    "start_time": "2021-07-18T14:38:32.860Z"
   },
   {
    "duration": 4730,
    "start_time": "2021-07-18T14:38:42.079Z"
   },
   {
    "duration": 5,
    "start_time": "2021-07-18T14:38:46.812Z"
   },
   {
    "duration": 560,
    "start_time": "2021-07-18T14:38:46.820Z"
   },
   {
    "duration": 419,
    "start_time": "2021-07-18T14:38:47.382Z"
   },
   {
    "duration": 5,
    "start_time": "2021-07-18T14:38:47.803Z"
   },
   {
    "duration": 26,
    "start_time": "2021-07-18T14:38:47.809Z"
   },
   {
    "duration": 78,
    "start_time": "2021-07-18T14:38:47.836Z"
   },
   {
    "duration": 1791,
    "start_time": "2021-07-18T14:38:47.915Z"
   },
   {
    "duration": 58,
    "start_time": "2021-07-18T14:38:49.709Z"
   },
   {
    "duration": 35,
    "start_time": "2021-07-18T14:38:49.769Z"
   },
   {
    "duration": 43,
    "start_time": "2021-07-18T14:38:49.806Z"
   },
   {
    "duration": 156,
    "start_time": "2021-07-18T14:38:49.850Z"
   },
   {
    "duration": 35,
    "start_time": "2021-07-18T14:38:50.008Z"
   },
   {
    "duration": 6,
    "start_time": "2021-07-18T14:38:50.044Z"
   },
   {
    "duration": 259,
    "start_time": "2021-07-18T14:38:50.052Z"
   },
   {
    "duration": 13,
    "start_time": "2021-07-18T14:38:50.313Z"
   },
   {
    "duration": 5,
    "start_time": "2021-07-18T14:38:50.327Z"
   },
   {
    "duration": 27,
    "start_time": "2021-07-18T14:38:50.334Z"
   },
   {
    "duration": 82,
    "start_time": "2021-07-18T14:38:50.362Z"
   },
   {
    "duration": 5,
    "start_time": "2021-07-18T14:38:50.446Z"
   },
   {
    "duration": 6,
    "start_time": "2021-07-18T14:38:50.452Z"
   },
   {
    "duration": 81,
    "start_time": "2021-07-18T14:38:50.459Z"
   },
   {
    "duration": 153,
    "start_time": "2021-07-18T14:38:50.542Z"
   },
   {
    "duration": 536,
    "start_time": "2021-07-18T14:38:50.697Z"
   },
   {
    "duration": 10,
    "start_time": "2021-07-18T14:38:51.235Z"
   },
   {
    "duration": 342,
    "start_time": "2021-07-18T14:38:51.247Z"
   },
   {
    "duration": 388,
    "start_time": "2021-07-18T14:38:51.592Z"
   },
   {
    "duration": 119,
    "start_time": "2021-07-18T14:38:51.982Z"
   },
   {
    "duration": 94,
    "start_time": "2021-07-18T14:38:52.103Z"
   },
   {
    "duration": 23,
    "start_time": "2021-07-18T14:38:52.199Z"
   },
   {
    "duration": 385,
    "start_time": "2021-07-18T14:38:52.223Z"
   },
   {
    "duration": 11,
    "start_time": "2021-07-18T14:38:52.610Z"
   },
   {
    "duration": 7,
    "start_time": "2021-07-18T14:38:52.623Z"
   },
   {
    "duration": 3,
    "start_time": "2021-07-18T14:38:52.631Z"
   },
   {
    "duration": 5,
    "start_time": "2021-07-18T14:38:52.635Z"
   },
   {
    "duration": 53,
    "start_time": "2021-07-18T14:38:52.641Z"
   },
   {
    "duration": 28,
    "start_time": "2021-07-18T14:38:52.696Z"
   },
   {
    "duration": 4,
    "start_time": "2021-07-18T14:38:52.726Z"
   },
   {
    "duration": 5,
    "start_time": "2021-07-18T14:38:52.731Z"
   },
   {
    "duration": 19,
    "start_time": "2021-07-18T14:38:52.737Z"
   },
   {
    "duration": 37,
    "start_time": "2021-07-18T14:38:52.758Z"
   },
   {
    "duration": 57,
    "start_time": "2021-07-18T14:38:52.796Z"
   },
   {
    "duration": 13,
    "start_time": "2021-07-18T14:38:52.855Z"
   },
   {
    "duration": 1941,
    "start_time": "2021-07-18T14:38:52.870Z"
   },
   {
    "duration": 1072,
    "start_time": "2021-07-18T14:38:54.813Z"
   },
   {
    "duration": 1031,
    "start_time": "2021-07-18T14:38:55.887Z"
   },
   {
    "duration": 12,
    "start_time": "2021-07-18T14:38:56.919Z"
   },
   {
    "duration": 282,
    "start_time": "2021-07-18T14:38:56.932Z"
   },
   {
    "duration": 5,
    "start_time": "2021-07-18T14:38:57.216Z"
   },
   {
    "duration": 7,
    "start_time": "2021-07-18T14:43:11.554Z"
   },
   {
    "duration": 220,
    "start_time": "2021-07-18T14:44:07.518Z"
   },
   {
    "duration": 3,
    "start_time": "2021-07-18T14:44:20.107Z"
   },
   {
    "duration": 818,
    "start_time": "2021-07-18T14:44:49.996Z"
   },
   {
    "duration": 590,
    "start_time": "2021-07-18T14:46:02.641Z"
   },
   {
    "duration": 328,
    "start_time": "2021-07-18T14:46:10.983Z"
   },
   {
    "duration": 4,
    "start_time": "2021-07-18T14:46:38.240Z"
   },
   {
    "duration": 293,
    "start_time": "2021-07-18T14:46:41.355Z"
   },
   {
    "duration": 4149,
    "start_time": "2021-07-18T14:48:02.992Z"
   },
   {
    "duration": 1037,
    "start_time": "2021-07-18T14:48:07.142Z"
   },
   {
    "duration": 559,
    "start_time": "2021-07-18T14:48:08.181Z"
   },
   {
    "duration": 465,
    "start_time": "2021-07-18T14:48:08.742Z"
   },
   {
    "duration": 5,
    "start_time": "2021-07-18T14:48:09.209Z"
   },
   {
    "duration": 27,
    "start_time": "2021-07-18T14:48:09.216Z"
   },
   {
    "duration": 90,
    "start_time": "2021-07-18T14:48:09.244Z"
   },
   {
    "duration": 1539,
    "start_time": "2021-07-18T14:48:09.336Z"
   },
   {
    "duration": 61,
    "start_time": "2021-07-18T14:48:10.878Z"
   },
   {
    "duration": 22,
    "start_time": "2021-07-18T14:48:10.941Z"
   },
   {
    "duration": 50,
    "start_time": "2021-07-18T14:48:10.964Z"
   },
   {
    "duration": 151,
    "start_time": "2021-07-18T14:48:11.016Z"
   },
   {
    "duration": 38,
    "start_time": "2021-07-18T14:48:11.169Z"
   },
   {
    "duration": 5,
    "start_time": "2021-07-18T14:48:11.209Z"
   },
   {
    "duration": 262,
    "start_time": "2021-07-18T14:48:11.215Z"
   },
   {
    "duration": 18,
    "start_time": "2021-07-18T14:48:11.478Z"
   },
   {
    "duration": 2,
    "start_time": "2021-07-18T14:48:11.498Z"
   },
   {
    "duration": 27,
    "start_time": "2021-07-18T14:48:11.502Z"
   },
   {
    "duration": 61,
    "start_time": "2021-07-18T14:48:11.531Z"
   },
   {
    "duration": 6,
    "start_time": "2021-07-18T14:48:11.594Z"
   },
   {
    "duration": 6,
    "start_time": "2021-07-18T14:48:11.601Z"
   },
   {
    "duration": 88,
    "start_time": "2021-07-18T14:48:11.609Z"
   },
   {
    "duration": 150,
    "start_time": "2021-07-18T14:48:11.699Z"
   },
   {
    "duration": 411,
    "start_time": "2021-07-18T14:48:11.851Z"
   },
   {
    "duration": 12,
    "start_time": "2021-07-18T14:48:12.264Z"
   },
   {
    "duration": 335,
    "start_time": "2021-07-18T14:48:12.291Z"
   },
   {
    "duration": 396,
    "start_time": "2021-07-18T14:48:12.630Z"
   },
   {
    "duration": 116,
    "start_time": "2021-07-18T14:48:13.028Z"
   },
   {
    "duration": 96,
    "start_time": "2021-07-18T14:48:13.145Z"
   },
   {
    "duration": 23,
    "start_time": "2021-07-18T14:48:13.243Z"
   },
   {
    "duration": 393,
    "start_time": "2021-07-18T14:48:13.268Z"
   },
   {
    "duration": 11,
    "start_time": "2021-07-18T14:48:13.663Z"
   },
   {
    "duration": 20,
    "start_time": "2021-07-18T14:48:13.675Z"
   },
   {
    "duration": 4,
    "start_time": "2021-07-18T14:48:13.696Z"
   },
   {
    "duration": 5,
    "start_time": "2021-07-18T14:48:13.701Z"
   },
   {
    "duration": 32,
    "start_time": "2021-07-18T14:48:13.708Z"
   },
   {
    "duration": 28,
    "start_time": "2021-07-18T14:48:13.741Z"
   },
   {
    "duration": 4,
    "start_time": "2021-07-18T14:48:13.770Z"
   },
   {
    "duration": 19,
    "start_time": "2021-07-18T14:48:13.775Z"
   },
   {
    "duration": 14,
    "start_time": "2021-07-18T14:48:13.796Z"
   },
   {
    "duration": 12,
    "start_time": "2021-07-18T14:48:13.811Z"
   },
   {
    "duration": 75,
    "start_time": "2021-07-18T14:48:13.824Z"
   },
   {
    "duration": 13,
    "start_time": "2021-07-18T14:48:13.902Z"
   },
   {
    "duration": 1965,
    "start_time": "2021-07-18T14:48:13.916Z"
   },
   {
    "duration": 1060,
    "start_time": "2021-07-18T14:48:15.883Z"
   },
   {
    "duration": 918,
    "start_time": "2021-07-18T14:48:16.945Z"
   },
   {
    "duration": 10,
    "start_time": "2021-07-18T14:48:17.864Z"
   },
   {
    "duration": 261,
    "start_time": "2021-07-18T14:48:17.876Z"
   },
   {
    "duration": 5,
    "start_time": "2021-07-18T14:48:18.139Z"
   },
   {
    "duration": 57,
    "start_time": "2021-07-18T14:48:18.146Z"
   },
   {
    "duration": 3,
    "start_time": "2021-07-18T14:48:18.204Z"
   },
   {
    "duration": 64323,
    "start_time": "2021-07-18T14:48:18.209Z"
   },
   {
    "duration": -583,
    "start_time": "2021-07-18T14:49:23.117Z"
   },
   {
    "duration": -597,
    "start_time": "2021-07-18T14:49:23.131Z"
   },
   {
    "duration": -599,
    "start_time": "2021-07-18T14:49:23.134Z"
   },
   {
    "duration": -602,
    "start_time": "2021-07-18T14:49:23.138Z"
   },
   {
    "duration": -605,
    "start_time": "2021-07-18T14:49:23.142Z"
   },
   {
    "duration": 4105,
    "start_time": "2021-07-18T14:50:14.707Z"
   },
   {
    "duration": 1185,
    "start_time": "2021-07-18T14:50:18.814Z"
   },
   {
    "duration": 588,
    "start_time": "2021-07-18T14:50:20.001Z"
   },
   {
    "duration": 464,
    "start_time": "2021-07-18T14:50:20.591Z"
   },
   {
    "duration": 5,
    "start_time": "2021-07-18T14:50:21.057Z"
   },
   {
    "duration": 34,
    "start_time": "2021-07-18T14:50:21.063Z"
   },
   {
    "duration": 71,
    "start_time": "2021-07-18T14:50:21.099Z"
   },
   {
    "duration": 1542,
    "start_time": "2021-07-18T14:50:21.173Z"
   },
   {
    "duration": 56,
    "start_time": "2021-07-18T14:50:22.717Z"
   },
   {
    "duration": 33,
    "start_time": "2021-07-18T14:50:22.775Z"
   },
   {
    "duration": 39,
    "start_time": "2021-07-18T14:50:22.810Z"
   },
   {
    "duration": 159,
    "start_time": "2021-07-18T14:50:22.851Z"
   },
   {
    "duration": 35,
    "start_time": "2021-07-18T14:50:23.011Z"
   },
   {
    "duration": 6,
    "start_time": "2021-07-18T14:50:23.047Z"
   },
   {
    "duration": 257,
    "start_time": "2021-07-18T14:50:23.055Z"
   },
   {
    "duration": 13,
    "start_time": "2021-07-18T14:50:23.314Z"
   },
   {
    "duration": 6,
    "start_time": "2021-07-18T14:50:23.328Z"
   },
   {
    "duration": 27,
    "start_time": "2021-07-18T14:50:23.335Z"
   },
   {
    "duration": 60,
    "start_time": "2021-07-18T14:50:23.363Z"
   },
   {
    "duration": 5,
    "start_time": "2021-07-18T14:50:23.425Z"
   },
   {
    "duration": 11,
    "start_time": "2021-07-18T14:50:23.431Z"
   },
   {
    "duration": 77,
    "start_time": "2021-07-18T14:50:23.444Z"
   },
   {
    "duration": 145,
    "start_time": "2021-07-18T14:50:23.525Z"
   },
   {
    "duration": 406,
    "start_time": "2021-07-18T14:50:23.672Z"
   },
   {
    "duration": 19,
    "start_time": "2021-07-18T14:50:24.079Z"
   },
   {
    "duration": 331,
    "start_time": "2021-07-18T14:50:24.100Z"
   },
   {
    "duration": 409,
    "start_time": "2021-07-18T14:50:24.433Z"
   },
   {
    "duration": 124,
    "start_time": "2021-07-18T14:50:24.843Z"
   },
   {
    "duration": 100,
    "start_time": "2021-07-18T14:50:24.969Z"
   },
   {
    "duration": 34,
    "start_time": "2021-07-18T14:50:25.070Z"
   },
   {
    "duration": 381,
    "start_time": "2021-07-18T14:50:25.106Z"
   },
   {
    "duration": 11,
    "start_time": "2021-07-18T14:50:25.488Z"
   },
   {
    "duration": 12,
    "start_time": "2021-07-18T14:50:25.500Z"
   },
   {
    "duration": 4,
    "start_time": "2021-07-18T14:50:25.514Z"
   },
   {
    "duration": 3,
    "start_time": "2021-07-18T14:50:25.520Z"
   },
   {
    "duration": 29,
    "start_time": "2021-07-18T14:50:25.525Z"
   },
   {
    "duration": 53,
    "start_time": "2021-07-18T14:50:25.555Z"
   },
   {
    "duration": 5,
    "start_time": "2021-07-18T14:50:25.610Z"
   },
   {
    "duration": 5,
    "start_time": "2021-07-18T14:50:25.616Z"
   },
   {
    "duration": 14,
    "start_time": "2021-07-18T14:50:25.622Z"
   },
   {
    "duration": 12,
    "start_time": "2021-07-18T14:50:25.638Z"
   },
   {
    "duration": 83,
    "start_time": "2021-07-18T14:50:25.651Z"
   },
   {
    "duration": 14,
    "start_time": "2021-07-18T14:50:25.736Z"
   },
   {
    "duration": 1910,
    "start_time": "2021-07-18T14:50:25.752Z"
   },
   {
    "duration": 1081,
    "start_time": "2021-07-18T14:50:27.664Z"
   },
   {
    "duration": 923,
    "start_time": "2021-07-18T14:50:28.746Z"
   },
   {
    "duration": 23,
    "start_time": "2021-07-18T14:50:29.670Z"
   },
   {
    "duration": 264,
    "start_time": "2021-07-18T14:50:29.694Z"
   },
   {
    "duration": 6,
    "start_time": "2021-07-18T14:50:29.960Z"
   },
   {
    "duration": 50,
    "start_time": "2021-07-18T14:50:29.967Z"
   },
   {
    "duration": 3,
    "start_time": "2021-07-18T14:50:30.018Z"
   },
   {
    "duration": 17,
    "start_time": "2021-07-18T14:50:30.023Z"
   },
   {
    "duration": 305,
    "start_time": "2021-07-18T14:50:30.041Z"
   },
   {
    "duration": 3,
    "start_time": "2021-07-18T14:50:30.347Z"
   },
   {
    "duration": 20,
    "start_time": "2021-07-18T14:50:30.351Z"
   },
   {
    "duration": 315,
    "start_time": "2021-07-18T14:50:30.373Z"
   },
   {
    "duration": 35,
    "start_time": "2021-07-18T14:50:30.689Z"
   },
   {
    "duration": 339,
    "start_time": "2021-07-18T14:50:30.725Z"
   },
   {
    "duration": 215,
    "start_time": "2021-07-18T18:50:46.816Z"
   },
   {
    "duration": 5504,
    "start_time": "2021-07-18T18:50:55.309Z"
   },
   {
    "duration": 1134,
    "start_time": "2021-07-18T18:51:00.815Z"
   },
   {
    "duration": 1322,
    "start_time": "2021-07-18T18:51:01.951Z"
   },
   {
    "duration": 466,
    "start_time": "2021-07-18T18:51:03.275Z"
   },
   {
    "duration": 5,
    "start_time": "2021-07-18T18:51:03.742Z"
   },
   {
    "duration": 37,
    "start_time": "2021-07-18T18:51:03.748Z"
   },
   {
    "duration": 78,
    "start_time": "2021-07-18T18:51:03.787Z"
   },
   {
    "duration": 1649,
    "start_time": "2021-07-18T18:51:03.867Z"
   },
   {
    "duration": 67,
    "start_time": "2021-07-18T18:51:05.518Z"
   },
   {
    "duration": 23,
    "start_time": "2021-07-18T18:51:05.587Z"
   },
   {
    "duration": 38,
    "start_time": "2021-07-18T18:51:05.612Z"
   },
   {
    "duration": 171,
    "start_time": "2021-07-18T18:51:05.652Z"
   },
   {
    "duration": 34,
    "start_time": "2021-07-18T18:51:05.824Z"
   },
   {
    "duration": 5,
    "start_time": "2021-07-18T18:51:05.859Z"
   },
   {
    "duration": 269,
    "start_time": "2021-07-18T18:51:05.866Z"
   },
   {
    "duration": 14,
    "start_time": "2021-07-18T18:51:06.137Z"
   },
   {
    "duration": 4,
    "start_time": "2021-07-18T18:51:06.153Z"
   },
   {
    "duration": 43,
    "start_time": "2021-07-18T18:51:06.159Z"
   },
   {
    "duration": 47,
    "start_time": "2021-07-18T18:51:06.203Z"
   },
   {
    "duration": 7,
    "start_time": "2021-07-18T18:51:06.252Z"
   },
   {
    "duration": 29,
    "start_time": "2021-07-18T18:51:06.260Z"
   },
   {
    "duration": 73,
    "start_time": "2021-07-18T18:51:06.291Z"
   },
   {
    "duration": 169,
    "start_time": "2021-07-18T18:51:06.366Z"
   },
   {
    "duration": 461,
    "start_time": "2021-07-18T18:51:06.537Z"
   },
   {
    "duration": 11,
    "start_time": "2021-07-18T18:51:06.999Z"
   },
   {
    "duration": 366,
    "start_time": "2021-07-18T18:51:07.012Z"
   },
   {
    "duration": 416,
    "start_time": "2021-07-18T18:51:07.386Z"
   },
   {
    "duration": 123,
    "start_time": "2021-07-18T18:51:07.804Z"
   },
   {
    "duration": 108,
    "start_time": "2021-07-18T18:51:07.928Z"
   },
   {
    "duration": 24,
    "start_time": "2021-07-18T18:51:08.038Z"
   },
   {
    "duration": 458,
    "start_time": "2021-07-18T18:51:08.063Z"
   },
   {
    "duration": 11,
    "start_time": "2021-07-18T18:51:08.522Z"
   },
   {
    "duration": 9,
    "start_time": "2021-07-18T18:51:08.535Z"
   },
   {
    "duration": 2,
    "start_time": "2021-07-18T18:51:08.545Z"
   },
   {
    "duration": 4,
    "start_time": "2021-07-18T18:51:08.549Z"
   },
   {
    "duration": 66,
    "start_time": "2021-07-18T18:51:08.554Z"
   },
   {
    "duration": 30,
    "start_time": "2021-07-18T18:51:08.622Z"
   },
   {
    "duration": 4,
    "start_time": "2021-07-18T18:51:08.653Z"
   },
   {
    "duration": 5,
    "start_time": "2021-07-18T18:51:08.659Z"
   },
   {
    "duration": 34,
    "start_time": "2021-07-18T18:51:08.665Z"
   },
   {
    "duration": 12,
    "start_time": "2021-07-18T18:51:08.701Z"
   },
   {
    "duration": 83,
    "start_time": "2021-07-18T18:51:08.714Z"
   },
   {
    "duration": 14,
    "start_time": "2021-07-18T18:51:08.799Z"
   },
   {
    "duration": 2481,
    "start_time": "2021-07-18T18:51:08.814Z"
   },
   {
    "duration": 1161,
    "start_time": "2021-07-18T18:51:11.298Z"
   },
   {
    "duration": 1017,
    "start_time": "2021-07-18T18:51:12.460Z"
   },
   {
    "duration": 18,
    "start_time": "2021-07-18T18:51:13.478Z"
   },
   {
    "duration": 306,
    "start_time": "2021-07-18T18:51:13.498Z"
   },
   {
    "duration": 5,
    "start_time": "2021-07-18T18:51:13.806Z"
   },
   {
    "duration": 60,
    "start_time": "2021-07-18T18:51:13.813Z"
   },
   {
    "duration": 11,
    "start_time": "2021-07-18T18:51:13.875Z"
   },
   {
    "duration": 10,
    "start_time": "2021-07-18T18:51:13.889Z"
   },
   {
    "duration": 362,
    "start_time": "2021-07-18T18:51:13.900Z"
   },
   {
    "duration": 3,
    "start_time": "2021-07-18T18:51:14.264Z"
   },
   {
    "duration": 16,
    "start_time": "2021-07-18T18:51:14.269Z"
   },
   {
    "duration": 357,
    "start_time": "2021-07-18T18:51:14.287Z"
   },
   {
    "duration": 51,
    "start_time": "2021-07-18T18:51:14.645Z"
   },
   {
    "duration": 467,
    "start_time": "2021-07-18T18:51:14.698Z"
   },
   {
    "duration": 214,
    "start_time": "2021-07-18T20:21:32.682Z"
   },
   {
    "duration": 20,
    "start_time": "2021-07-18T20:21:40.535Z"
   },
   {
    "duration": 5,
    "start_time": "2021-07-18T20:24:30.863Z"
   },
   {
    "duration": 265,
    "start_time": "2021-07-18T20:25:06.673Z"
   },
   {
    "duration": 77,
    "start_time": "2021-07-18T20:25:20.860Z"
   },
   {
    "duration": 18,
    "start_time": "2021-07-18T20:25:31.621Z"
   },
   {
    "duration": 18,
    "start_time": "2021-07-18T20:25:43.379Z"
   },
   {
    "duration": 294,
    "start_time": "2021-07-18T20:25:51.390Z"
   },
   {
    "duration": 27,
    "start_time": "2021-07-18T20:27:37.645Z"
   },
   {
    "duration": 69,
    "start_time": "2021-07-18T20:28:07.003Z"
   },
   {
    "duration": 2,
    "start_time": "2021-07-18T20:31:16.318Z"
   },
   {
    "duration": 367,
    "start_time": "2021-07-18T20:31:19.277Z"
   },
   {
    "duration": 19,
    "start_time": "2021-07-18T20:31:23.800Z"
   },
   {
    "duration": 70,
    "start_time": "2021-07-18T20:31:41.814Z"
   },
   {
    "duration": 2,
    "start_time": "2021-07-18T20:32:02.346Z"
   },
   {
    "duration": 557,
    "start_time": "2021-07-18T20:32:03.992Z"
   },
   {
    "duration": 73,
    "start_time": "2021-07-18T20:32:05.863Z"
   },
   {
    "duration": 3,
    "start_time": "2021-07-18T20:32:39.138Z"
   },
   {
    "duration": 548,
    "start_time": "2021-07-18T20:32:40.820Z"
   },
   {
    "duration": 545,
    "start_time": "2021-07-18T20:32:52.593Z"
   },
   {
    "duration": 68,
    "start_time": "2021-07-18T20:32:58.437Z"
   },
   {
    "duration": 71,
    "start_time": "2021-07-18T20:33:17.849Z"
   },
   {
    "duration": 2,
    "start_time": "2021-07-18T20:33:25.798Z"
   },
   {
    "duration": 560,
    "start_time": "2021-07-18T20:33:27.281Z"
   },
   {
    "duration": 179,
    "start_time": "2021-07-18T20:33:58.893Z"
   },
   {
    "duration": 69,
    "start_time": "2021-07-18T20:34:01.061Z"
   },
   {
    "duration": 3,
    "start_time": "2021-07-18T20:35:24.556Z"
   },
   {
    "duration": 188,
    "start_time": "2021-07-18T20:35:26.345Z"
   },
   {
    "duration": 70,
    "start_time": "2021-07-18T20:35:29.771Z"
   },
   {
    "duration": 187,
    "start_time": "2021-07-18T20:37:00.310Z"
   },
   {
    "duration": 2,
    "start_time": "2021-07-18T20:37:06.068Z"
   },
   {
    "duration": 189,
    "start_time": "2021-07-18T20:37:07.805Z"
   },
   {
    "duration": 68,
    "start_time": "2021-07-18T20:37:10.505Z"
   },
   {
    "duration": 3,
    "start_time": "2021-07-18T20:37:53.054Z"
   },
   {
    "duration": 367,
    "start_time": "2021-07-18T20:37:57.440Z"
   },
   {
    "duration": 74,
    "start_time": "2021-07-18T20:38:01.043Z"
   },
   {
    "duration": 3,
    "start_time": "2021-07-18T20:38:20.170Z"
   },
   {
    "duration": 581,
    "start_time": "2021-07-18T20:38:23.556Z"
   },
   {
    "duration": 68,
    "start_time": "2021-07-18T20:38:24.226Z"
   },
   {
    "duration": 3,
    "start_time": "2021-07-18T20:38:47.797Z"
   },
   {
    "duration": 187,
    "start_time": "2021-07-18T20:39:09.571Z"
   },
   {
    "duration": 68,
    "start_time": "2021-07-18T20:39:12.661Z"
   },
   {
    "duration": 3,
    "start_time": "2021-07-18T20:39:28.883Z"
   },
   {
    "duration": 190,
    "start_time": "2021-07-18T20:39:33.098Z"
   },
   {
    "duration": 66,
    "start_time": "2021-07-18T20:39:36.293Z"
   },
   {
    "duration": 3,
    "start_time": "2021-07-18T20:40:14.650Z"
   },
   {
    "duration": 366,
    "start_time": "2021-07-18T20:40:20.830Z"
   },
   {
    "duration": 65,
    "start_time": "2021-07-18T20:40:22.153Z"
   },
   {
    "duration": 187,
    "start_time": "2021-07-18T20:42:39.779Z"
   },
   {
    "duration": 189,
    "start_time": "2021-07-18T20:42:50.433Z"
   },
   {
    "duration": 4,
    "start_time": "2021-07-18T20:42:54.142Z"
   },
   {
    "duration": 180,
    "start_time": "2021-07-18T20:42:57.633Z"
   },
   {
    "duration": 65,
    "start_time": "2021-07-18T20:43:00.686Z"
   },
   {
    "duration": 3,
    "start_time": "2021-07-18T20:43:41.018Z"
   },
   {
    "duration": 359,
    "start_time": "2021-07-18T20:43:43.079Z"
   },
   {
    "duration": 65,
    "start_time": "2021-07-18T20:43:44.144Z"
   },
   {
    "duration": 3,
    "start_time": "2021-07-18T20:44:31.829Z"
   },
   {
    "duration": 364,
    "start_time": "2021-07-18T20:44:33.214Z"
   },
   {
    "duration": 64,
    "start_time": "2021-07-18T20:44:34.416Z"
   },
   {
    "duration": 3,
    "start_time": "2021-07-18T20:44:58.760Z"
   },
   {
    "duration": 557,
    "start_time": "2021-07-18T20:45:05.634Z"
   },
   {
    "duration": 63,
    "start_time": "2021-07-18T20:45:08.687Z"
   },
   {
    "duration": 3,
    "start_time": "2021-07-18T20:45:48.224Z"
   },
   {
    "duration": 727,
    "start_time": "2021-07-18T20:45:54.301Z"
   },
   {
    "duration": 65,
    "start_time": "2021-07-18T20:45:58.235Z"
   },
   {
    "duration": 223,
    "start_time": "2021-07-18T20:49:44.075Z"
   },
   {
    "duration": 3,
    "start_time": "2021-07-18T20:50:43.238Z"
   },
   {
    "duration": 366,
    "start_time": "2021-07-18T20:50:48.578Z"
   },
   {
    "duration": 219,
    "start_time": "2021-07-18T20:50:54.830Z"
   },
   {
    "duration": 3,
    "start_time": "2021-07-18T20:51:46.024Z"
   },
   {
    "duration": 206,
    "start_time": "2021-07-18T20:51:48.828Z"
   },
   {
    "duration": 216,
    "start_time": "2021-07-18T20:51:50.183Z"
   },
   {
    "duration": 4,
    "start_time": "2021-07-18T20:52:35.803Z"
   },
   {
    "duration": 550,
    "start_time": "2021-07-18T20:52:39.062Z"
   },
   {
    "duration": 193,
    "start_time": "2021-07-18T20:52:42.533Z"
   },
   {
    "duration": 4,
    "start_time": "2021-07-18T20:54:46.257Z"
   },
   {
    "duration": 559,
    "start_time": "2021-07-18T20:54:53.464Z"
   },
   {
    "duration": 732,
    "start_time": "2021-07-18T20:54:54.929Z"
   },
   {
    "duration": 841,
    "start_time": "2021-07-18T20:54:55.662Z"
   },
   {
    "duration": 368,
    "start_time": "2021-07-18T20:54:56.505Z"
   },
   {
    "duration": 355,
    "start_time": "2021-07-18T20:54:56.875Z"
   },
   {
    "duration": 892,
    "start_time": "2021-07-18T20:54:57.657Z"
   },
   {
    "duration": 188,
    "start_time": "2021-07-18T20:54:58.551Z"
   },
   {
    "duration": 185,
    "start_time": "2021-07-18T20:54:59.257Z"
   },
   {
    "duration": 193,
    "start_time": "2021-07-18T20:55:04.853Z"
   },
   {
    "duration": 4,
    "start_time": "2021-07-18T20:55:11.239Z"
   },
   {
    "duration": 893,
    "start_time": "2021-07-18T20:55:13.583Z"
   },
   {
    "duration": 186,
    "start_time": "2021-07-18T20:55:17.698Z"
   },
   {
    "duration": 900,
    "start_time": "2021-07-18T20:55:31.605Z"
   },
   {
    "duration": 191,
    "start_time": "2021-07-18T20:55:34.747Z"
   },
   {
    "duration": 4,
    "start_time": "2021-07-18T20:55:52.247Z"
   },
   {
    "duration": 1075,
    "start_time": "2021-07-18T20:55:56.898Z"
   },
   {
    "duration": 185,
    "start_time": "2021-07-18T20:55:58.634Z"
   },
   {
    "duration": 4,
    "start_time": "2021-07-18T20:58:34.202Z"
   },
   {
    "duration": 543,
    "start_time": "2021-07-18T20:58:36.487Z"
   },
   {
    "duration": 716,
    "start_time": "2021-07-18T20:58:37.032Z"
   },
   {
    "duration": 1251,
    "start_time": "2021-07-18T20:58:37.750Z"
   },
   {
    "duration": 543,
    "start_time": "2021-07-18T20:58:39.003Z"
   },
   {
    "duration": 354,
    "start_time": "2021-07-18T20:58:39.548Z"
   },
   {
    "duration": 1245,
    "start_time": "2021-07-18T20:58:39.904Z"
   },
   {
    "duration": 367,
    "start_time": "2021-07-18T20:58:41.151Z"
   },
   {
    "duration": 183,
    "start_time": "2021-07-18T20:58:41.520Z"
   },
   {
    "duration": 57,
    "start_time": "2021-07-18T20:58:46.893Z"
   },
   {
    "duration": 190,
    "start_time": "2021-07-18T21:01:14.515Z"
   },
   {
    "duration": 3,
    "start_time": "2021-07-18T21:01:18.930Z"
   },
   {
    "duration": 574,
    "start_time": "2021-07-18T21:01:19.465Z"
   },
   {
    "duration": 723,
    "start_time": "2021-07-18T21:01:20.041Z"
   },
   {
    "duration": 1234,
    "start_time": "2021-07-18T21:01:20.766Z"
   },
   {
    "duration": 738,
    "start_time": "2021-07-18T21:01:22.002Z"
   },
   {
    "duration": 563,
    "start_time": "2021-07-18T21:01:22.742Z"
   },
   {
    "duration": 1296,
    "start_time": "2021-07-18T21:01:23.306Z"
   },
   {
    "duration": 384,
    "start_time": "2021-07-18T21:01:24.604Z"
   },
   {
    "duration": 196,
    "start_time": "2021-07-18T21:01:24.990Z"
   },
   {
    "duration": 3,
    "start_time": "2021-07-18T21:02:42.520Z"
   },
   {
    "duration": 554,
    "start_time": "2021-07-18T21:02:43.062Z"
   },
   {
    "duration": 724,
    "start_time": "2021-07-18T21:02:43.617Z"
   },
   {
    "duration": 1273,
    "start_time": "2021-07-18T21:02:44.343Z"
   },
   {
    "duration": 725,
    "start_time": "2021-07-18T21:02:45.618Z"
   },
   {
    "duration": 874,
    "start_time": "2021-07-18T21:02:46.345Z"
   },
   {
    "duration": 1416,
    "start_time": "2021-07-18T21:02:47.220Z"
   },
   {
    "duration": 358,
    "start_time": "2021-07-18T21:02:48.638Z"
   },
   {
    "duration": 179,
    "start_time": "2021-07-18T21:02:48.998Z"
   },
   {
    "duration": 63,
    "start_time": "2021-07-18T21:03:04.924Z"
   },
   {
    "duration": 183,
    "start_time": "2021-07-18T21:03:15.899Z"
   },
   {
    "duration": 3,
    "start_time": "2021-07-18T21:04:50.220Z"
   },
   {
    "duration": 563,
    "start_time": "2021-07-18T21:04:53.304Z"
   },
   {
    "duration": 753,
    "start_time": "2021-07-18T21:04:53.869Z"
   },
   {
    "duration": 1297,
    "start_time": "2021-07-18T21:04:54.624Z"
   },
   {
    "duration": 848,
    "start_time": "2021-07-18T21:04:55.923Z"
   },
   {
    "duration": 1071,
    "start_time": "2021-07-18T21:04:56.773Z"
   },
   {
    "duration": 1947,
    "start_time": "2021-07-18T21:04:57.846Z"
   },
   {
    "duration": 368,
    "start_time": "2021-07-18T21:04:59.794Z"
   },
   {
    "duration": 179,
    "start_time": "2021-07-18T21:05:00.164Z"
   },
   {
    "duration": 171,
    "start_time": "2021-07-18T21:07:40.175Z"
   },
   {
    "duration": 4,
    "start_time": "2021-07-18T21:07:46.805Z"
   },
   {
    "duration": 371,
    "start_time": "2021-07-18T21:07:49.349Z"
   },
   {
    "duration": 170,
    "start_time": "2021-07-18T21:07:51.913Z"
   },
   {
    "duration": 4,
    "start_time": "2021-07-18T21:07:57.287Z"
   },
   {
    "duration": 548,
    "start_time": "2021-07-18T21:07:57.896Z"
   },
   {
    "duration": 723,
    "start_time": "2021-07-18T21:07:58.446Z"
   },
   {
    "duration": 1240,
    "start_time": "2021-07-18T21:07:59.171Z"
   },
   {
    "duration": 913,
    "start_time": "2021-07-18T21:08:00.413Z"
   },
   {
    "duration": 1420,
    "start_time": "2021-07-18T21:08:01.328Z"
   },
   {
    "duration": 2145,
    "start_time": "2021-07-18T21:08:02.750Z"
   },
   {
    "duration": 377,
    "start_time": "2021-07-18T21:08:04.897Z"
   },
   {
    "duration": 360,
    "start_time": "2021-07-18T21:08:05.276Z"
   },
   {
    "duration": 155,
    "start_time": "2021-07-18T21:08:05.638Z"
   },
   {
    "duration": 4,
    "start_time": "2021-07-18T21:08:27.375Z"
   },
   {
    "duration": 1610,
    "start_time": "2021-07-18T21:08:31.674Z"
   },
   {
    "duration": 159,
    "start_time": "2021-07-18T21:08:34.175Z"
   },
   {
    "duration": 4,
    "start_time": "2021-07-18T21:09:11.709Z"
   },
   {
    "duration": 1484,
    "start_time": "2021-07-18T21:09:14.760Z"
   },
   {
    "duration": 150,
    "start_time": "2021-07-18T21:09:16.728Z"
   },
   {
    "duration": 4,
    "start_time": "2021-07-18T21:10:02.412Z"
   },
   {
    "duration": 1624,
    "start_time": "2021-07-18T21:10:08.099Z"
   },
   {
    "duration": 151,
    "start_time": "2021-07-18T21:10:09.957Z"
   },
   {
    "duration": 4,
    "start_time": "2021-07-18T21:11:08.556Z"
   },
   {
    "duration": 576,
    "start_time": "2021-07-18T21:11:09.585Z"
   },
   {
    "duration": 722,
    "start_time": "2021-07-18T21:11:10.163Z"
   },
   {
    "duration": 1616,
    "start_time": "2021-07-18T21:11:10.887Z"
   },
   {
    "duration": 1096,
    "start_time": "2021-07-18T21:11:12.505Z"
   },
   {
    "duration": 1621,
    "start_time": "2021-07-18T21:11:13.603Z"
   },
   {
    "duration": 2333,
    "start_time": "2021-07-18T21:11:15.226Z"
   },
   {
    "duration": 361,
    "start_time": "2021-07-18T21:11:17.560Z"
   },
   {
    "duration": 383,
    "start_time": "2021-07-18T21:11:17.924Z"
   },
   {
    "duration": 156,
    "start_time": "2021-07-18T21:11:18.309Z"
   },
   {
    "duration": 4,
    "start_time": "2021-07-18T21:11:39.426Z"
   },
   {
    "duration": 1786,
    "start_time": "2021-07-18T21:11:41.075Z"
   },
   {
    "duration": 152,
    "start_time": "2021-07-18T21:11:42.863Z"
   },
   {
    "duration": 4,
    "start_time": "2021-07-18T21:11:58.817Z"
   },
   {
    "duration": 1264,
    "start_time": "2021-07-18T21:12:02.061Z"
   },
   {
    "duration": 132,
    "start_time": "2021-07-18T21:12:03.507Z"
   },
   {
    "duration": 4,
    "start_time": "2021-07-18T21:12:17.357Z"
   },
   {
    "duration": 898,
    "start_time": "2021-07-18T21:12:20.451Z"
   },
   {
    "duration": 111,
    "start_time": "2021-07-18T21:12:22.010Z"
   },
   {
    "duration": 4,
    "start_time": "2021-07-18T21:13:16.949Z"
   },
   {
    "duration": 545,
    "start_time": "2021-07-18T21:13:17.671Z"
   },
   {
    "duration": 914,
    "start_time": "2021-07-18T21:13:18.218Z"
   },
   {
    "duration": 1624,
    "start_time": "2021-07-18T21:13:19.135Z"
   },
   {
    "duration": 1276,
    "start_time": "2021-07-18T21:13:20.761Z"
   },
   {
    "duration": 1826,
    "start_time": "2021-07-18T21:13:22.039Z"
   },
   {
    "duration": 2428,
    "start_time": "2021-07-18T21:13:23.867Z"
   },
   {
    "duration": 566,
    "start_time": "2021-07-18T21:13:26.297Z"
   },
   {
    "duration": 383,
    "start_time": "2021-07-18T21:13:26.864Z"
   },
   {
    "duration": 122,
    "start_time": "2021-07-18T21:13:27.249Z"
   },
   {
    "duration": 5,
    "start_time": "2021-07-18T21:14:18.277Z"
   },
   {
    "duration": 363,
    "start_time": "2021-07-18T21:14:19.990Z"
   },
   {
    "duration": 107,
    "start_time": "2021-07-18T21:14:21.448Z"
   },
   {
    "duration": 4,
    "start_time": "2021-07-18T21:15:57.218Z"
   },
   {
    "duration": 741,
    "start_time": "2021-07-18T21:16:01.045Z"
   },
   {
    "duration": 910,
    "start_time": "2021-07-18T21:16:01.788Z"
   },
   {
    "duration": 1637,
    "start_time": "2021-07-18T21:16:02.700Z"
   },
   {
    "duration": 1280,
    "start_time": "2021-07-18T21:16:04.339Z"
   },
   {
    "duration": 1788,
    "start_time": "2021-07-18T21:16:05.621Z"
   },
   {
    "duration": 2506,
    "start_time": "2021-07-18T21:16:07.411Z"
   },
   {
    "duration": 923,
    "start_time": "2021-07-18T21:16:09.919Z"
   },
   {
    "duration": 367,
    "start_time": "2021-07-18T21:16:10.844Z"
   },
   {
    "duration": 360,
    "start_time": "2021-07-18T21:16:11.213Z"
   },
   {
    "duration": 101,
    "start_time": "2021-07-18T21:16:11.575Z"
   },
   {
    "duration": 5,
    "start_time": "2021-07-18T21:17:45.131Z"
   },
   {
    "duration": 728,
    "start_time": "2021-07-18T21:17:45.796Z"
   },
   {
    "duration": 899,
    "start_time": "2021-07-18T21:17:46.526Z"
   },
   {
    "duration": 1586,
    "start_time": "2021-07-18T21:17:47.426Z"
   },
   {
    "duration": 1253,
    "start_time": "2021-07-18T21:17:49.014Z"
   },
   {
    "duration": 1736,
    "start_time": "2021-07-18T21:17:50.268Z"
   },
   {
    "duration": 3219,
    "start_time": "2021-07-18T21:17:52.006Z"
   },
   {
    "duration": 893,
    "start_time": "2021-07-18T21:17:55.227Z"
   },
   {
    "duration": 376,
    "start_time": "2021-07-18T21:17:56.122Z"
   },
   {
    "duration": 351,
    "start_time": "2021-07-18T21:17:56.500Z"
   },
   {
    "duration": 98,
    "start_time": "2021-07-18T21:17:56.853Z"
   },
   {
    "duration": 43,
    "start_time": "2021-07-18T21:18:04.087Z"
   },
   {
    "duration": 5,
    "start_time": "2021-07-18T21:18:45.194Z"
   },
   {
    "duration": 738,
    "start_time": "2021-07-18T21:18:46.161Z"
   },
   {
    "duration": 910,
    "start_time": "2021-07-18T21:18:46.901Z"
   },
   {
    "duration": 1593,
    "start_time": "2021-07-18T21:18:47.812Z"
   },
   {
    "duration": 1247,
    "start_time": "2021-07-18T21:18:49.407Z"
   },
   {
    "duration": 1914,
    "start_time": "2021-07-18T21:18:50.655Z"
   },
   {
    "duration": 3230,
    "start_time": "2021-07-18T21:18:52.571Z"
   },
   {
    "duration": 1022,
    "start_time": "2021-07-18T21:18:55.803Z"
   },
   {
    "duration": 376,
    "start_time": "2021-07-18T21:18:56.827Z"
   },
   {
    "duration": 367,
    "start_time": "2021-07-18T21:18:57.205Z"
   },
   {
    "duration": 101,
    "start_time": "2021-07-18T21:18:57.574Z"
   },
   {
    "duration": 5,
    "start_time": "2021-07-18T21:23:18.654Z"
   },
   {
    "duration": 732,
    "start_time": "2021-07-18T21:23:19.033Z"
   },
   {
    "duration": 901,
    "start_time": "2021-07-18T21:23:19.767Z"
   },
   {
    "duration": 2023,
    "start_time": "2021-07-18T21:23:20.670Z"
   },
   {
    "duration": 1314,
    "start_time": "2021-07-18T21:23:22.695Z"
   },
   {
    "duration": 2193,
    "start_time": "2021-07-18T21:23:24.010Z"
   },
   {
    "duration": 3205,
    "start_time": "2021-07-18T21:23:26.204Z"
   },
   {
    "duration": 907,
    "start_time": "2021-07-18T21:23:29.411Z"
   },
   {
    "duration": 365,
    "start_time": "2021-07-18T21:23:30.320Z"
   },
   {
    "duration": 356,
    "start_time": "2021-07-18T21:23:30.687Z"
   },
   {
    "duration": 98,
    "start_time": "2021-07-18T21:23:31.044Z"
   },
   {
    "duration": 9785,
    "start_time": "2021-07-19T11:04:56.352Z"
   },
   {
    "duration": 1515,
    "start_time": "2021-07-19T11:05:06.140Z"
   },
   {
    "duration": 5456,
    "start_time": "2021-07-19T11:05:07.658Z"
   },
   {
    "duration": 732,
    "start_time": "2021-07-19T11:05:13.117Z"
   },
   {
    "duration": 8,
    "start_time": "2021-07-19T11:05:13.852Z"
   },
   {
    "duration": 49,
    "start_time": "2021-07-19T11:05:13.862Z"
   },
   {
    "duration": 109,
    "start_time": "2021-07-19T11:05:13.914Z"
   },
   {
    "duration": 3448,
    "start_time": "2021-07-19T11:05:14.026Z"
   },
   {
    "duration": 134,
    "start_time": "2021-07-19T11:05:17.478Z"
   },
   {
    "duration": 78,
    "start_time": "2021-07-19T11:05:17.617Z"
   },
   {
    "duration": 110,
    "start_time": "2021-07-19T11:05:17.698Z"
   },
   {
    "duration": 261,
    "start_time": "2021-07-19T11:05:17.812Z"
   },
   {
    "duration": 68,
    "start_time": "2021-07-19T11:05:18.076Z"
   },
   {
    "duration": 8,
    "start_time": "2021-07-19T11:05:18.146Z"
   },
   {
    "duration": 443,
    "start_time": "2021-07-19T11:05:18.157Z"
   },
   {
    "duration": 23,
    "start_time": "2021-07-19T11:05:18.603Z"
   },
   {
    "duration": 9,
    "start_time": "2021-07-19T11:05:18.629Z"
   },
   {
    "duration": 70,
    "start_time": "2021-07-19T11:05:18.641Z"
   },
   {
    "duration": 66,
    "start_time": "2021-07-19T11:05:18.714Z"
   },
   {
    "duration": 27,
    "start_time": "2021-07-19T11:05:18.782Z"
   },
   {
    "duration": 9,
    "start_time": "2021-07-19T11:05:18.811Z"
   },
   {
    "duration": 131,
    "start_time": "2021-07-19T11:05:18.823Z"
   },
   {
    "duration": 7218,
    "start_time": "2021-07-19T11:05:18.957Z"
   },
   {
    "duration": -1246,
    "start_time": "2021-07-19T11:05:27.427Z"
   },
   {
    "duration": -1275,
    "start_time": "2021-07-19T11:05:27.457Z"
   },
   {
    "duration": -1276,
    "start_time": "2021-07-19T11:05:27.460Z"
   },
   {
    "duration": -1277,
    "start_time": "2021-07-19T11:05:27.463Z"
   },
   {
    "duration": -1280,
    "start_time": "2021-07-19T11:05:27.467Z"
   },
   {
    "duration": -1282,
    "start_time": "2021-07-19T11:05:27.470Z"
   },
   {
    "duration": -1283,
    "start_time": "2021-07-19T11:05:27.473Z"
   },
   {
    "duration": -1285,
    "start_time": "2021-07-19T11:05:27.476Z"
   },
   {
    "duration": -1287,
    "start_time": "2021-07-19T11:05:27.480Z"
   },
   {
    "duration": -1287,
    "start_time": "2021-07-19T11:05:27.482Z"
   },
   {
    "duration": -1289,
    "start_time": "2021-07-19T11:05:27.486Z"
   },
   {
    "duration": -1291,
    "start_time": "2021-07-19T11:05:27.489Z"
   },
   {
    "duration": -1293,
    "start_time": "2021-07-19T11:05:27.493Z"
   },
   {
    "duration": -1295,
    "start_time": "2021-07-19T11:05:27.496Z"
   },
   {
    "duration": -1296,
    "start_time": "2021-07-19T11:05:27.499Z"
   },
   {
    "duration": -1298,
    "start_time": "2021-07-19T11:05:27.502Z"
   },
   {
    "duration": -1300,
    "start_time": "2021-07-19T11:05:27.506Z"
   },
   {
    "duration": -1301,
    "start_time": "2021-07-19T11:05:27.508Z"
   },
   {
    "duration": -1342,
    "start_time": "2021-07-19T11:05:27.551Z"
   },
   {
    "duration": -1348,
    "start_time": "2021-07-19T11:05:27.558Z"
   },
   {
    "duration": -1350,
    "start_time": "2021-07-19T11:05:27.562Z"
   },
   {
    "duration": -1352,
    "start_time": "2021-07-19T11:05:27.565Z"
   },
   {
    "duration": -1353,
    "start_time": "2021-07-19T11:05:27.568Z"
   },
   {
    "duration": -1354,
    "start_time": "2021-07-19T11:05:27.571Z"
   },
   {
    "duration": -1357,
    "start_time": "2021-07-19T11:05:27.575Z"
   },
   {
    "duration": -1389,
    "start_time": "2021-07-19T11:05:27.608Z"
   },
   {
    "duration": -1391,
    "start_time": "2021-07-19T11:05:27.612Z"
   },
   {
    "duration": -1401,
    "start_time": "2021-07-19T11:05:27.623Z"
   },
   {
    "duration": -1402,
    "start_time": "2021-07-19T11:05:27.626Z"
   },
   {
    "duration": -1405,
    "start_time": "2021-07-19T11:05:27.630Z"
   },
   {
    "duration": -1406,
    "start_time": "2021-07-19T11:05:27.633Z"
   },
   {
    "duration": -1407,
    "start_time": "2021-07-19T11:05:27.636Z"
   },
   {
    "duration": -1409,
    "start_time": "2021-07-19T11:05:27.639Z"
   },
   {
    "duration": -1410,
    "start_time": "2021-07-19T11:05:27.642Z"
   },
   {
    "duration": -1413,
    "start_time": "2021-07-19T11:05:27.646Z"
   },
   {
    "duration": -1414,
    "start_time": "2021-07-19T11:05:27.649Z"
   },
   {
    "duration": -1416,
    "start_time": "2021-07-19T11:05:27.652Z"
   },
   {
    "duration": -1418,
    "start_time": "2021-07-19T11:05:27.656Z"
   },
   {
    "duration": -1418,
    "start_time": "2021-07-19T11:05:27.659Z"
   },
   {
    "duration": -1420,
    "start_time": "2021-07-19T11:05:27.662Z"
   },
   {
    "duration": -1365,
    "start_time": "2021-07-19T11:05:27.665Z"
   },
   {
    "duration": -1367,
    "start_time": "2021-07-19T11:05:27.668Z"
   },
   {
    "duration": -1369,
    "start_time": "2021-07-19T11:05:27.672Z"
   },
   {
    "duration": -1371,
    "start_time": "2021-07-19T11:05:27.675Z"
   },
   {
    "duration": -1372,
    "start_time": "2021-07-19T11:05:27.678Z"
   },
   {
    "duration": -1374,
    "start_time": "2021-07-19T11:05:27.681Z"
   },
   {
    "duration": -1375,
    "start_time": "2021-07-19T11:05:27.684Z"
   },
   {
    "duration": -1377,
    "start_time": "2021-07-19T11:05:27.687Z"
   },
   {
    "duration": 6762,
    "start_time": "2021-07-19T12:05:27.956Z"
   },
   {
    "duration": 1550,
    "start_time": "2021-07-19T12:05:34.721Z"
   },
   {
    "duration": 870,
    "start_time": "2021-07-19T12:05:36.275Z"
   },
   {
    "duration": 785,
    "start_time": "2021-07-19T12:05:37.147Z"
   },
   {
    "duration": 8,
    "start_time": "2021-07-19T12:05:37.935Z"
   },
   {
    "duration": 39,
    "start_time": "2021-07-19T12:05:37.946Z"
   },
   {
    "duration": 110,
    "start_time": "2021-07-19T12:05:37.999Z"
   },
   {
    "duration": 3274,
    "start_time": "2021-07-19T12:05:38.112Z"
   },
   {
    "duration": 92,
    "start_time": "2021-07-19T12:05:41.390Z"
   },
   {
    "duration": 39,
    "start_time": "2021-07-19T12:05:41.500Z"
   },
   {
    "duration": 83,
    "start_time": "2021-07-19T12:05:41.541Z"
   },
   {
    "duration": 237,
    "start_time": "2021-07-19T12:05:41.626Z"
   },
   {
    "duration": 73,
    "start_time": "2021-07-19T12:05:41.865Z"
   },
   {
    "duration": 8,
    "start_time": "2021-07-19T12:05:41.940Z"
   },
   {
    "duration": 502,
    "start_time": "2021-07-19T12:05:41.950Z"
   },
   {
    "duration": 24,
    "start_time": "2021-07-19T12:05:42.455Z"
   },
   {
    "duration": 22,
    "start_time": "2021-07-19T12:05:42.481Z"
   },
   {
    "duration": 44,
    "start_time": "2021-07-19T12:05:42.506Z"
   },
   {
    "duration": 89,
    "start_time": "2021-07-19T12:05:42.552Z"
   },
   {
    "duration": 7,
    "start_time": "2021-07-19T12:05:42.643Z"
   },
   {
    "duration": 7,
    "start_time": "2021-07-19T12:05:42.652Z"
   },
   {
    "duration": 127,
    "start_time": "2021-07-19T12:05:42.661Z"
   },
   {
    "duration": 10,
    "start_time": "2021-07-19T12:05:42.790Z"
   },
   {
    "duration": 1610,
    "start_time": "2021-07-19T12:05:42.803Z"
   },
   {
    "duration": 54,
    "start_time": "2021-07-19T12:05:44.415Z"
   },
   {
    "duration": 1798,
    "start_time": "2021-07-19T12:05:44.472Z"
   },
   {
    "duration": 3728,
    "start_time": "2021-07-19T12:05:46.277Z"
   },
   {
    "duration": 2491,
    "start_time": "2021-07-19T12:05:50.009Z"
   },
   {
    "duration": 4165,
    "start_time": "2021-07-19T12:05:52.504Z"
   },
   {
    "duration": 6339,
    "start_time": "2021-07-19T12:05:56.672Z"
   },
   {
    "duration": 1718,
    "start_time": "2021-07-19T12:06:03.013Z"
   },
   {
    "duration": 684,
    "start_time": "2021-07-19T12:06:04.733Z"
   },
   {
    "duration": 684,
    "start_time": "2021-07-19T12:06:05.420Z"
   },
   {
    "duration": 174,
    "start_time": "2021-07-19T12:06:06.107Z"
   },
   {
    "duration": 68,
    "start_time": "2021-07-19T12:06:06.283Z"
   },
   {
    "duration": 247,
    "start_time": "2021-07-19T12:06:06.353Z"
   },
   {
    "duration": 771,
    "start_time": "2021-07-19T12:06:06.602Z"
   },
   {
    "duration": 26,
    "start_time": "2021-07-19T12:06:07.375Z"
   },
   {
    "duration": 539,
    "start_time": "2021-07-19T12:06:07.403Z"
   },
   {
    "duration": 720,
    "start_time": "2021-07-19T12:06:07.944Z"
   },
   {
    "duration": 197,
    "start_time": "2021-07-19T12:06:08.666Z"
   },
   {
    "duration": 174,
    "start_time": "2021-07-19T12:06:08.866Z"
   },
   {
    "duration": 61,
    "start_time": "2021-07-19T12:06:09.042Z"
   },
   {
    "duration": 625,
    "start_time": "2021-07-19T12:06:09.106Z"
   },
   {
    "duration": 16,
    "start_time": "2021-07-19T12:06:09.733Z"
   },
   {
    "duration": 12,
    "start_time": "2021-07-19T12:06:09.751Z"
   },
   {
    "duration": 3,
    "start_time": "2021-07-19T12:06:09.766Z"
   },
   {
    "duration": 4,
    "start_time": "2021-07-19T12:06:09.800Z"
   },
   {
    "duration": 44,
    "start_time": "2021-07-19T12:06:09.806Z"
   },
   {
    "duration": 60,
    "start_time": "2021-07-19T12:06:09.852Z"
   },
   {
    "duration": 7,
    "start_time": "2021-07-19T12:06:09.914Z"
   },
   {
    "duration": 7,
    "start_time": "2021-07-19T12:06:09.923Z"
   },
   {
    "duration": 25,
    "start_time": "2021-07-19T12:06:09.932Z"
   },
   {
    "duration": 58,
    "start_time": "2021-07-19T12:06:09.959Z"
   },
   {
    "duration": 103,
    "start_time": "2021-07-19T12:06:10.019Z"
   },
   {
    "duration": 24,
    "start_time": "2021-07-19T12:06:10.124Z"
   },
   {
    "duration": 4317,
    "start_time": "2021-07-19T12:06:10.151Z"
   },
   {
    "duration": 1823,
    "start_time": "2021-07-19T12:06:14.471Z"
   },
   {
    "duration": 1600,
    "start_time": "2021-07-19T12:06:16.301Z"
   },
   {
    "duration": 19,
    "start_time": "2021-07-19T12:06:17.904Z"
   },
   {
    "duration": 484,
    "start_time": "2021-07-19T12:06:17.927Z"
   },
   {
    "duration": 7,
    "start_time": "2021-07-19T12:06:18.414Z"
   },
   {
    "duration": 105,
    "start_time": "2021-07-19T12:06:18.423Z"
   },
   {
    "duration": 4,
    "start_time": "2021-07-19T12:06:18.531Z"
   },
   {
    "duration": 6,
    "start_time": "2021-07-19T12:06:18.537Z"
   },
   {
    "duration": 580,
    "start_time": "2021-07-19T12:06:18.546Z"
   },
   {
    "duration": 5,
    "start_time": "2021-07-19T12:06:19.128Z"
   },
   {
    "duration": 11,
    "start_time": "2021-07-19T12:06:19.135Z"
   },
   {
    "duration": 573,
    "start_time": "2021-07-19T12:06:19.148Z"
   },
   {
    "duration": 50,
    "start_time": "2021-07-19T12:06:19.724Z"
   },
   {
    "duration": 643,
    "start_time": "2021-07-19T12:06:19.776Z"
   },
   {
    "duration": 8,
    "start_time": "2021-07-19T13:44:10.514Z"
   },
   {
    "duration": 1399,
    "start_time": "2021-07-19T13:44:11.981Z"
   },
   {
    "duration": 31,
    "start_time": "2021-07-19T13:44:13.383Z"
   },
   {
    "duration": 1606,
    "start_time": "2021-07-19T13:44:13.417Z"
   },
   {
    "duration": 3559,
    "start_time": "2021-07-19T13:44:15.026Z"
   },
   {
    "duration": 2573,
    "start_time": "2021-07-19T13:44:18.587Z"
   },
   {
    "duration": 3800,
    "start_time": "2021-07-19T13:44:21.164Z"
   },
   {
    "duration": 6233,
    "start_time": "2021-07-19T13:44:24.967Z"
   },
   {
    "duration": 1573,
    "start_time": "2021-07-19T13:44:31.204Z"
   },
   {
    "duration": 635,
    "start_time": "2021-07-19T13:44:32.779Z"
   },
   {
    "duration": 640,
    "start_time": "2021-07-19T13:44:33.417Z"
   },
   {
    "duration": 172,
    "start_time": "2021-07-19T13:44:34.060Z"
   },
   {
    "duration": 11,
    "start_time": "2021-07-19T13:47:07.054Z"
   },
   {
    "duration": 1745,
    "start_time": "2021-07-19T13:47:07.595Z"
   },
   {
    "duration": 57,
    "start_time": "2021-07-19T13:47:09.343Z"
   },
   {
    "duration": 2522,
    "start_time": "2021-07-19T13:47:09.405Z"
   },
   {
    "duration": 5396,
    "start_time": "2021-07-19T13:47:11.931Z"
   },
   {
    "duration": 5071,
    "start_time": "2021-07-19T13:47:17.331Z"
   },
   {
    "duration": 5950,
    "start_time": "2021-07-19T13:47:22.406Z"
   },
   {
    "duration": 11068,
    "start_time": "2021-07-19T13:47:28.359Z"
   },
   {
    "duration": 2532,
    "start_time": "2021-07-19T13:47:39.432Z"
   },
   {
    "duration": 1005,
    "start_time": "2021-07-19T13:47:41.968Z"
   },
   {
    "duration": 1001,
    "start_time": "2021-07-19T13:47:42.976Z"
   },
   {
    "duration": 253,
    "start_time": "2021-07-19T13:47:43.980Z"
   },
   {
    "duration": 11,
    "start_time": "2021-07-19T13:48:50.200Z"
   },
   {
    "duration": 2042,
    "start_time": "2021-07-19T13:48:50.607Z"
   },
   {
    "duration": 55,
    "start_time": "2021-07-19T13:48:52.653Z"
   },
   {
    "duration": 1675,
    "start_time": "2021-07-19T13:48:52.711Z"
   },
   {
    "duration": 3774,
    "start_time": "2021-07-19T13:48:54.388Z"
   },
   {
    "duration": 3383,
    "start_time": "2021-07-19T13:48:58.164Z"
   },
   {
    "duration": 4232,
    "start_time": "2021-07-19T13:49:01.549Z"
   },
   {
    "duration": 7680,
    "start_time": "2021-07-19T13:49:05.801Z"
   },
   {
    "duration": 1734,
    "start_time": "2021-07-19T13:49:13.485Z"
   },
   {
    "duration": 1078,
    "start_time": "2021-07-19T13:49:15.222Z"
   },
   {
    "duration": 710,
    "start_time": "2021-07-19T13:49:16.303Z"
   },
   {
    "duration": 164,
    "start_time": "2021-07-19T13:49:17.015Z"
   },
   {
    "duration": 7,
    "start_time": "2021-07-19T13:50:17.418Z"
   },
   {
    "duration": 1301,
    "start_time": "2021-07-19T13:50:18.069Z"
   },
   {
    "duration": 35,
    "start_time": "2021-07-19T13:50:19.373Z"
   },
   {
    "duration": 1928,
    "start_time": "2021-07-19T13:50:19.410Z"
   },
   {
    "duration": 4369,
    "start_time": "2021-07-19T13:50:21.342Z"
   },
   {
    "duration": 3289,
    "start_time": "2021-07-19T13:50:25.713Z"
   },
   {
    "duration": 3942,
    "start_time": "2021-07-19T13:50:29.004Z"
   },
   {
    "duration": 8182,
    "start_time": "2021-07-19T13:50:32.948Z"
   },
   {
    "duration": 1658,
    "start_time": "2021-07-19T13:50:41.133Z"
   },
   {
    "duration": 954,
    "start_time": "2021-07-19T13:50:42.794Z"
   },
   {
    "duration": 638,
    "start_time": "2021-07-19T13:50:43.750Z"
   },
   {
    "duration": 160,
    "start_time": "2021-07-19T13:50:44.391Z"
   },
   {
    "duration": 7,
    "start_time": "2021-07-19T14:18:05.954Z"
   },
   {
    "duration": 318,
    "start_time": "2021-07-19T14:18:06.829Z"
   },
   {
    "duration": 29,
    "start_time": "2021-07-19T14:18:07.150Z"
   },
   {
    "duration": 1837,
    "start_time": "2021-07-19T14:18:07.601Z"
   },
   {
    "duration": 1835,
    "start_time": "2021-07-19T14:18:09.441Z"
   },
   {
    "duration": 4631,
    "start_time": "2021-07-19T14:18:11.279Z"
   },
   {
    "duration": 3718,
    "start_time": "2021-07-19T14:18:15.913Z"
   },
   {
    "duration": 3777,
    "start_time": "2021-07-19T14:18:19.633Z"
   },
   {
    "duration": 9010,
    "start_time": "2021-07-19T14:18:23.412Z"
   },
   {
    "duration": 1692,
    "start_time": "2021-07-19T14:18:32.425Z"
   },
   {
    "duration": 933,
    "start_time": "2021-07-19T14:18:34.120Z"
   },
   {
    "duration": 618,
    "start_time": "2021-07-19T14:18:35.055Z"
   },
   {
    "duration": 151,
    "start_time": "2021-07-19T14:18:35.675Z"
   },
   {
    "duration": 8,
    "start_time": "2021-07-19T14:19:13.450Z"
   },
   {
    "duration": 305,
    "start_time": "2021-07-19T14:19:13.818Z"
   },
   {
    "duration": 33,
    "start_time": "2021-07-19T14:19:14.125Z"
   },
   {
    "duration": 1884,
    "start_time": "2021-07-19T14:19:14.162Z"
   },
   {
    "duration": 1879,
    "start_time": "2021-07-19T14:19:16.049Z"
   },
   {
    "duration": 4361,
    "start_time": "2021-07-19T14:19:17.932Z"
   },
   {
    "duration": 3605,
    "start_time": "2021-07-19T14:19:22.300Z"
   },
   {
    "duration": 4019,
    "start_time": "2021-07-19T14:19:25.907Z"
   },
   {
    "duration": 7954,
    "start_time": "2021-07-19T14:19:29.928Z"
   },
   {
    "duration": 1570,
    "start_time": "2021-07-19T14:19:37.884Z"
   },
   {
    "duration": 919,
    "start_time": "2021-07-19T14:19:39.458Z"
   },
   {
    "duration": 605,
    "start_time": "2021-07-19T14:19:40.380Z"
   },
   {
    "duration": 155,
    "start_time": "2021-07-19T14:19:40.988Z"
   },
   {
    "duration": 69,
    "start_time": "2021-07-19T14:19:41.145Z"
   },
   {
    "duration": 8,
    "start_time": "2021-07-19T14:21:30.036Z"
   },
   {
    "duration": 641,
    "start_time": "2021-07-19T14:21:31.793Z"
   },
   {
    "duration": 35,
    "start_time": "2021-07-19T14:21:32.437Z"
   },
   {
    "duration": 1872,
    "start_time": "2021-07-19T14:21:32.475Z"
   },
   {
    "duration": 1852,
    "start_time": "2021-07-19T14:21:34.349Z"
   },
   {
    "duration": 4691,
    "start_time": "2021-07-19T14:21:36.204Z"
   },
   {
    "duration": 3851,
    "start_time": "2021-07-19T14:21:40.898Z"
   },
   {
    "duration": 4562,
    "start_time": "2021-07-19T14:21:44.752Z"
   },
   {
    "duration": 8913,
    "start_time": "2021-07-19T14:21:49.317Z"
   },
   {
    "duration": 1532,
    "start_time": "2021-07-19T14:21:58.232Z"
   },
   {
    "duration": 909,
    "start_time": "2021-07-19T14:21:59.766Z"
   },
   {
    "duration": 610,
    "start_time": "2021-07-19T14:22:00.677Z"
   },
   {
    "duration": 143,
    "start_time": "2021-07-19T14:22:01.289Z"
   },
   {
    "duration": 8,
    "start_time": "2021-07-19T14:23:18.808Z"
   },
   {
    "duration": 977,
    "start_time": "2021-07-19T14:23:19.212Z"
   },
   {
    "duration": 34,
    "start_time": "2021-07-19T14:23:20.192Z"
   },
   {
    "duration": 1942,
    "start_time": "2021-07-19T14:23:20.230Z"
   },
   {
    "duration": 1827,
    "start_time": "2021-07-19T14:23:22.175Z"
   },
   {
    "duration": 5013,
    "start_time": "2021-07-19T14:23:24.004Z"
   },
   {
    "duration": 3932,
    "start_time": "2021-07-19T14:23:29.019Z"
   },
   {
    "duration": 4691,
    "start_time": "2021-07-19T14:23:32.954Z"
   },
   {
    "duration": 9208,
    "start_time": "2021-07-19T14:23:37.648Z"
   },
   {
    "duration": 1698,
    "start_time": "2021-07-19T14:23:46.859Z"
   },
   {
    "duration": 961,
    "start_time": "2021-07-19T14:23:48.559Z"
   },
   {
    "duration": 606,
    "start_time": "2021-07-19T14:23:49.522Z"
   },
   {
    "duration": 127,
    "start_time": "2021-07-19T14:23:50.131Z"
   },
   {
    "duration": 8,
    "start_time": "2021-07-19T14:25:08.896Z"
   },
   {
    "duration": 967,
    "start_time": "2021-07-19T14:25:09.289Z"
   },
   {
    "duration": 41,
    "start_time": "2021-07-19T14:25:10.259Z"
   },
   {
    "duration": 1871,
    "start_time": "2021-07-19T14:25:10.303Z"
   },
   {
    "duration": 1934,
    "start_time": "2021-07-19T14:25:12.177Z"
   },
   {
    "duration": 5297,
    "start_time": "2021-07-19T14:25:14.113Z"
   },
   {
    "duration": 3392,
    "start_time": "2021-07-19T14:25:19.413Z"
   },
   {
    "duration": 5192,
    "start_time": "2021-07-19T14:25:22.808Z"
   },
   {
    "duration": 8527,
    "start_time": "2021-07-19T14:25:28.003Z"
   },
   {
    "duration": 1548,
    "start_time": "2021-07-19T14:25:36.532Z"
   },
   {
    "duration": 878,
    "start_time": "2021-07-19T14:25:38.082Z"
   },
   {
    "duration": 642,
    "start_time": "2021-07-19T14:25:38.963Z"
   },
   {
    "duration": 121,
    "start_time": "2021-07-19T14:25:39.608Z"
   },
   {
    "duration": 54,
    "start_time": "2021-07-19T14:25:39.732Z"
   },
   {
    "duration": 9,
    "start_time": "2021-07-19T14:27:44.216Z"
   },
   {
    "duration": 941,
    "start_time": "2021-07-19T14:27:44.686Z"
   },
   {
    "duration": 31,
    "start_time": "2021-07-19T14:27:45.630Z"
   },
   {
    "duration": 1906,
    "start_time": "2021-07-19T14:27:45.664Z"
   },
   {
    "duration": 1875,
    "start_time": "2021-07-19T14:27:47.573Z"
   },
   {
    "duration": 5091,
    "start_time": "2021-07-19T14:27:49.450Z"
   },
   {
    "duration": 3809,
    "start_time": "2021-07-19T14:27:54.543Z"
   },
   {
    "duration": 5302,
    "start_time": "2021-07-19T14:27:58.356Z"
   },
   {
    "duration": 9812,
    "start_time": "2021-07-19T14:28:03.661Z"
   },
   {
    "duration": 1568,
    "start_time": "2021-07-19T14:28:13.475Z"
   },
   {
    "duration": 934,
    "start_time": "2021-07-19T14:28:15.045Z"
   },
   {
    "duration": 643,
    "start_time": "2021-07-19T14:28:15.982Z"
   },
   {
    "duration": 120,
    "start_time": "2021-07-19T14:28:16.628Z"
   },
   {
    "duration": 6384,
    "start_time": "2021-07-20T09:39:43.204Z"
   },
   {
    "duration": 1119,
    "start_time": "2021-07-20T09:39:49.590Z"
   },
   {
    "duration": 703,
    "start_time": "2021-07-20T09:39:50.711Z"
   },
   {
    "duration": 465,
    "start_time": "2021-07-20T09:39:51.415Z"
   },
   {
    "duration": 5,
    "start_time": "2021-07-20T09:39:51.882Z"
   },
   {
    "duration": 52,
    "start_time": "2021-07-20T09:39:51.888Z"
   },
   {
    "duration": 76,
    "start_time": "2021-07-20T09:39:51.941Z"
   },
   {
    "duration": 1591,
    "start_time": "2021-07-20T09:39:52.019Z"
   },
   {
    "duration": 63,
    "start_time": "2021-07-20T09:39:53.612Z"
   },
   {
    "duration": 23,
    "start_time": "2021-07-20T09:39:53.677Z"
   },
   {
    "duration": 51,
    "start_time": "2021-07-20T09:39:53.701Z"
   },
   {
    "duration": 181,
    "start_time": "2021-07-20T09:39:53.753Z"
   },
   {
    "duration": 44,
    "start_time": "2021-07-20T09:39:53.936Z"
   },
   {
    "duration": 6,
    "start_time": "2021-07-20T09:39:53.983Z"
   },
   {
    "duration": 272,
    "start_time": "2021-07-20T09:39:53.990Z"
   },
   {
    "duration": 13,
    "start_time": "2021-07-20T09:39:54.264Z"
   },
   {
    "duration": 5,
    "start_time": "2021-07-20T09:39:54.279Z"
   },
   {
    "duration": 34,
    "start_time": "2021-07-20T09:39:54.286Z"
   },
   {
    "duration": 56,
    "start_time": "2021-07-20T09:39:54.322Z"
   },
   {
    "duration": 5,
    "start_time": "2021-07-20T09:39:54.380Z"
   },
   {
    "duration": 6,
    "start_time": "2021-07-20T09:39:54.386Z"
   },
   {
    "duration": 92,
    "start_time": "2021-07-20T09:39:54.394Z"
   },
   {
    "duration": 6,
    "start_time": "2021-07-20T09:39:54.488Z"
   },
   {
    "duration": 748,
    "start_time": "2021-07-20T09:39:54.495Z"
   },
   {
    "duration": 31,
    "start_time": "2021-07-20T09:39:55.245Z"
   },
   {
    "duration": 1321,
    "start_time": "2021-07-20T09:39:55.277Z"
   },
   {
    "duration": 1289,
    "start_time": "2021-07-20T09:39:56.603Z"
   },
   {
    "duration": 3393,
    "start_time": "2021-07-20T09:39:57.894Z"
   },
   {
    "duration": 2428,
    "start_time": "2021-07-20T09:40:01.289Z"
   },
   {
    "duration": 3403,
    "start_time": "2021-07-20T09:40:03.719Z"
   },
   {
    "duration": 6424,
    "start_time": "2021-07-20T09:40:07.124Z"
   },
   {
    "duration": 1116,
    "start_time": "2021-07-20T09:40:13.550Z"
   },
   {
    "duration": 598,
    "start_time": "2021-07-20T09:40:14.668Z"
   },
   {
    "duration": 463,
    "start_time": "2021-07-20T09:40:15.268Z"
   },
   {
    "duration": 80,
    "start_time": "2021-07-20T09:40:15.732Z"
   },
   {
    "duration": 45,
    "start_time": "2021-07-20T09:40:15.814Z"
   },
   {
    "duration": 149,
    "start_time": "2021-07-20T09:40:15.861Z"
   },
   {
    "duration": 430,
    "start_time": "2021-07-20T09:40:16.012Z"
   },
   {
    "duration": 11,
    "start_time": "2021-07-20T09:40:16.444Z"
   },
   {
    "duration": 360,
    "start_time": "2021-07-20T09:40:16.457Z"
   },
   {
    "duration": 426,
    "start_time": "2021-07-20T09:40:16.818Z"
   },
   {
    "duration": 127,
    "start_time": "2021-07-20T09:40:17.245Z"
   },
   {
    "duration": 114,
    "start_time": "2021-07-20T09:40:17.373Z"
   },
   {
    "duration": 30,
    "start_time": "2021-07-20T09:40:17.488Z"
   },
   {
    "duration": 414,
    "start_time": "2021-07-20T09:40:17.519Z"
   },
   {
    "duration": 17,
    "start_time": "2021-07-20T09:40:17.935Z"
   },
   {
    "duration": 11,
    "start_time": "2021-07-20T09:40:17.953Z"
   },
   {
    "duration": 5,
    "start_time": "2021-07-20T09:40:17.965Z"
   },
   {
    "duration": 6,
    "start_time": "2021-07-20T09:40:17.971Z"
   },
   {
    "duration": 36,
    "start_time": "2021-07-20T09:40:17.978Z"
   },
   {
    "duration": 46,
    "start_time": "2021-07-20T09:40:18.016Z"
   },
   {
    "duration": 5,
    "start_time": "2021-07-20T09:40:18.064Z"
   },
   {
    "duration": 6,
    "start_time": "2021-07-20T09:40:18.071Z"
   },
   {
    "duration": 15,
    "start_time": "2021-07-20T09:40:18.079Z"
   },
   {
    "duration": 14,
    "start_time": "2021-07-20T09:40:18.095Z"
   },
   {
    "duration": 84,
    "start_time": "2021-07-20T09:40:18.111Z"
   },
   {
    "duration": 14,
    "start_time": "2021-07-20T09:40:18.197Z"
   },
   {
    "duration": 3043,
    "start_time": "2021-07-20T09:40:18.212Z"
   },
   {
    "duration": 1146,
    "start_time": "2021-07-20T09:40:21.257Z"
   },
   {
    "duration": 970,
    "start_time": "2021-07-20T09:40:22.405Z"
   },
   {
    "duration": 11,
    "start_time": "2021-07-20T09:40:23.376Z"
   },
   {
    "duration": 277,
    "start_time": "2021-07-20T09:40:23.389Z"
   },
   {
    "duration": 5,
    "start_time": "2021-07-20T09:40:23.667Z"
   },
   {
    "duration": 50,
    "start_time": "2021-07-20T09:40:23.674Z"
   },
   {
    "duration": 16,
    "start_time": "2021-07-20T09:40:23.725Z"
   },
   {
    "duration": 15,
    "start_time": "2021-07-20T09:40:23.743Z"
   },
   {
    "duration": 424,
    "start_time": "2021-07-20T09:40:23.759Z"
   },
   {
    "duration": 14,
    "start_time": "2021-07-20T09:40:24.189Z"
   },
   {
    "duration": 50,
    "start_time": "2021-07-20T09:40:24.206Z"
   },
   {
    "duration": 306,
    "start_time": "2021-07-20T09:40:24.259Z"
   },
   {
    "duration": 34,
    "start_time": "2021-07-20T09:40:24.567Z"
   },
   {
    "duration": 465,
    "start_time": "2021-07-20T09:40:24.602Z"
   },
   {
    "duration": 97,
    "start_time": "2021-07-20T09:41:18.106Z"
   },
   {
    "duration": 1078,
    "start_time": "2021-07-20T09:42:48.061Z"
   },
   {
    "duration": 73,
    "start_time": "2021-07-20T09:42:49.687Z"
   },
   {
    "duration": 6,
    "start_time": "2021-07-20T09:43:14.809Z"
   },
   {
    "duration": 3154,
    "start_time": "2021-07-20T09:43:18.879Z"
   },
   {
    "duration": 67,
    "start_time": "2021-07-20T09:43:23.403Z"
   },
   {
    "duration": 5,
    "start_time": "2021-07-20T09:43:29.904Z"
   },
   {
    "duration": 535,
    "start_time": "2021-07-20T09:43:30.568Z"
   },
   {
    "duration": 21,
    "start_time": "2021-07-20T09:43:31.105Z"
   },
   {
    "duration": 1080,
    "start_time": "2021-07-20T09:43:31.128Z"
   },
   {
    "duration": 1060,
    "start_time": "2021-07-20T09:43:32.210Z"
   },
   {
    "duration": 3111,
    "start_time": "2021-07-20T09:43:33.272Z"
   },
   {
    "duration": 2126,
    "start_time": "2021-07-20T09:43:36.385Z"
   },
   {
    "duration": 3227,
    "start_time": "2021-07-20T09:43:38.513Z"
   },
   {
    "duration": 5603,
    "start_time": "2021-07-20T09:43:41.742Z"
   },
   {
    "duration": 914,
    "start_time": "2021-07-20T09:43:47.346Z"
   },
   {
    "duration": 554,
    "start_time": "2021-07-20T09:43:48.262Z"
   },
   {
    "duration": 370,
    "start_time": "2021-07-20T09:43:48.818Z"
   },
   {
    "duration": 70,
    "start_time": "2021-07-20T09:43:49.189Z"
   },
   {
    "duration": 34,
    "start_time": "2021-07-20T09:43:49.261Z"
   },
   {
    "duration": 6,
    "start_time": "2021-07-20T09:45:04.579Z"
   },
   {
    "duration": 532,
    "start_time": "2021-07-20T09:45:05.281Z"
   },
   {
    "duration": 31,
    "start_time": "2021-07-20T09:45:05.814Z"
   },
   {
    "duration": 1062,
    "start_time": "2021-07-20T09:45:05.846Z"
   },
   {
    "duration": 1223,
    "start_time": "2021-07-20T09:45:06.910Z"
   },
   {
    "duration": 3183,
    "start_time": "2021-07-20T09:45:08.134Z"
   },
   {
    "duration": 2090,
    "start_time": "2021-07-20T09:45:11.320Z"
   },
   {
    "duration": 3328,
    "start_time": "2021-07-20T09:45:13.412Z"
   },
   {
    "duration": 5953,
    "start_time": "2021-07-20T09:45:16.742Z"
   },
   {
    "duration": 881,
    "start_time": "2021-07-20T09:45:22.697Z"
   },
   {
    "duration": 521,
    "start_time": "2021-07-20T09:45:23.580Z"
   },
   {
    "duration": 358,
    "start_time": "2021-07-20T09:45:24.102Z"
   },
   {
    "duration": 63,
    "start_time": "2021-07-20T09:45:24.462Z"
   },
   {
    "duration": 6,
    "start_time": "2021-07-20T09:46:34.897Z"
   },
   {
    "duration": 890,
    "start_time": "2021-07-20T09:46:35.327Z"
   },
   {
    "duration": 28,
    "start_time": "2021-07-20T09:46:36.219Z"
   },
   {
    "duration": 1062,
    "start_time": "2021-07-20T09:46:36.249Z"
   },
   {
    "duration": 1248,
    "start_time": "2021-07-20T09:46:37.313Z"
   },
   {
    "duration": 3159,
    "start_time": "2021-07-20T09:46:38.562Z"
   },
   {
    "duration": 2107,
    "start_time": "2021-07-20T09:46:41.722Z"
   },
   {
    "duration": 3731,
    "start_time": "2021-07-20T09:46:43.830Z"
   },
   {
    "duration": 6000,
    "start_time": "2021-07-20T09:46:47.563Z"
   },
   {
    "duration": 964,
    "start_time": "2021-07-20T09:46:53.565Z"
   },
   {
    "duration": 529,
    "start_time": "2021-07-20T09:46:54.531Z"
   },
   {
    "duration": 558,
    "start_time": "2021-07-20T09:46:55.062Z"
   },
   {
    "duration": 76,
    "start_time": "2021-07-20T09:46:55.622Z"
   },
   {
    "duration": 5,
    "start_time": "2021-07-20T09:48:13.857Z"
   },
   {
    "duration": 3888,
    "start_time": "2021-07-20T09:48:16.641Z"
   },
   {
    "duration": 63,
    "start_time": "2021-07-20T09:48:21.548Z"
   },
   {
    "duration": 6,
    "start_time": "2021-07-20T09:50:56.793Z"
   },
   {
    "duration": 976,
    "start_time": "2021-07-20T09:50:58.432Z"
   },
   {
    "duration": 30,
    "start_time": "2021-07-20T09:50:59.410Z"
   },
   {
    "duration": 1344,
    "start_time": "2021-07-20T09:50:59.442Z"
   },
   {
    "duration": 1221,
    "start_time": "2021-07-20T09:51:00.788Z"
   },
   {
    "duration": 3510,
    "start_time": "2021-07-20T09:51:02.011Z"
   },
   {
    "duration": 2278,
    "start_time": "2021-07-20T09:51:05.523Z"
   },
   {
    "duration": 3909,
    "start_time": "2021-07-20T09:51:07.802Z"
   },
   {
    "duration": 6189,
    "start_time": "2021-07-20T09:51:11.713Z"
   },
   {
    "duration": 878,
    "start_time": "2021-07-20T09:51:17.904Z"
   },
   {
    "duration": 719,
    "start_time": "2021-07-20T09:51:18.784Z"
   },
   {
    "duration": 527,
    "start_time": "2021-07-20T09:51:19.505Z"
   },
   {
    "duration": 61,
    "start_time": "2021-07-20T09:51:20.034Z"
   },
   {
    "duration": 6,
    "start_time": "2021-07-20T09:54:03.207Z"
   },
   {
    "duration": 3886,
    "start_time": "2021-07-20T09:54:05.592Z"
   },
   {
    "duration": 66,
    "start_time": "2021-07-20T09:54:09.480Z"
   },
   {
    "duration": 4045,
    "start_time": "2021-07-20T09:54:17.397Z"
   },
   {
    "duration": 58,
    "start_time": "2021-07-20T09:54:21.444Z"
   },
   {
    "duration": 5,
    "start_time": "2021-07-20T09:55:54.743Z"
   },
   {
    "duration": 902,
    "start_time": "2021-07-20T09:55:55.532Z"
   },
   {
    "duration": 26,
    "start_time": "2021-07-20T09:55:56.435Z"
   },
   {
    "duration": 1580,
    "start_time": "2021-07-20T09:55:56.463Z"
   },
   {
    "duration": 1335,
    "start_time": "2021-07-20T09:55:58.045Z"
   },
   {
    "duration": 3887,
    "start_time": "2021-07-20T09:55:59.382Z"
   },
   {
    "duration": 2331,
    "start_time": "2021-07-20T09:56:03.271Z"
   },
   {
    "duration": 4341,
    "start_time": "2021-07-20T09:56:05.604Z"
   },
   {
    "duration": 6628,
    "start_time": "2021-07-20T09:56:09.947Z"
   },
   {
    "duration": 873,
    "start_time": "2021-07-20T09:56:16.576Z"
   },
   {
    "duration": 901,
    "start_time": "2021-07-20T09:56:17.451Z"
   },
   {
    "duration": 573,
    "start_time": "2021-07-20T09:56:18.353Z"
   },
   {
    "duration": 67,
    "start_time": "2021-07-20T09:56:18.928Z"
   },
   {
    "duration": 45,
    "start_time": "2021-07-20T09:56:18.997Z"
   },
   {
    "duration": 6,
    "start_time": "2021-07-20T09:57:40.773Z"
   },
   {
    "duration": 994,
    "start_time": "2021-07-20T09:57:41.347Z"
   },
   {
    "duration": 22,
    "start_time": "2021-07-20T09:57:42.342Z"
   },
   {
    "duration": 1455,
    "start_time": "2021-07-20T09:57:42.366Z"
   },
   {
    "duration": 1244,
    "start_time": "2021-07-20T09:57:43.822Z"
   },
   {
    "duration": 3828,
    "start_time": "2021-07-20T09:57:45.067Z"
   },
   {
    "duration": 2644,
    "start_time": "2021-07-20T09:57:48.897Z"
   },
   {
    "duration": 4479,
    "start_time": "2021-07-20T09:57:51.542Z"
   },
   {
    "duration": 6664,
    "start_time": "2021-07-20T09:57:56.023Z"
   },
   {
    "duration": 903,
    "start_time": "2021-07-20T09:58:02.689Z"
   },
   {
    "duration": 702,
    "start_time": "2021-07-20T09:58:03.593Z"
   },
   {
    "duration": 526,
    "start_time": "2021-07-20T09:58:04.297Z"
   },
   {
    "duration": 59,
    "start_time": "2021-07-20T09:58:04.825Z"
   },
   {
    "duration": 6,
    "start_time": "2021-07-20T10:12:01.351Z"
   },
   {
    "duration": 1074,
    "start_time": "2021-07-20T10:12:01.726Z"
   },
   {
    "duration": 21,
    "start_time": "2021-07-20T10:12:02.801Z"
   },
   {
    "duration": 1459,
    "start_time": "2021-07-20T10:12:02.824Z"
   },
   {
    "duration": 1217,
    "start_time": "2021-07-20T10:12:04.285Z"
   },
   {
    "duration": 3813,
    "start_time": "2021-07-20T10:12:05.504Z"
   },
   {
    "duration": 2927,
    "start_time": "2021-07-20T10:12:09.319Z"
   },
   {
    "duration": 4410,
    "start_time": "2021-07-20T10:12:12.248Z"
   },
   {
    "duration": 6740,
    "start_time": "2021-07-20T10:12:16.661Z"
   },
   {
    "duration": 902,
    "start_time": "2021-07-20T10:12:23.403Z"
   },
   {
    "duration": 691,
    "start_time": "2021-07-20T10:12:24.307Z"
   },
   {
    "duration": 513,
    "start_time": "2021-07-20T10:12:25.000Z"
   },
   {
    "duration": 64,
    "start_time": "2021-07-20T10:12:25.515Z"
   },
   {
    "duration": 36,
    "start_time": "2021-07-20T10:12:25.580Z"
   },
   {
    "duration": 8,
    "start_time": "2021-07-20T10:20:08.903Z"
   },
   {
    "duration": 1081,
    "start_time": "2021-07-20T10:20:09.306Z"
   },
   {
    "duration": 21,
    "start_time": "2021-07-20T10:20:10.389Z"
   },
   {
    "duration": 1448,
    "start_time": "2021-07-20T10:20:10.412Z"
   },
   {
    "duration": 1243,
    "start_time": "2021-07-20T10:20:11.862Z"
   },
   {
    "duration": 3985,
    "start_time": "2021-07-20T10:20:13.107Z"
   },
   {
    "duration": 3111,
    "start_time": "2021-07-20T10:20:17.094Z"
   },
   {
    "duration": 4593,
    "start_time": "2021-07-20T10:20:20.207Z"
   },
   {
    "duration": 7466,
    "start_time": "2021-07-20T10:20:24.803Z"
   },
   {
    "duration": 903,
    "start_time": "2021-07-20T10:20:32.271Z"
   },
   {
    "duration": 721,
    "start_time": "2021-07-20T10:20:33.176Z"
   },
   {
    "duration": 569,
    "start_time": "2021-07-20T10:20:33.899Z"
   },
   {
    "duration": 56,
    "start_time": "2021-07-20T10:20:34.470Z"
   },
   {
    "duration": 6,
    "start_time": "2021-07-20T10:45:22.404Z"
   },
   {
    "duration": 1063,
    "start_time": "2021-07-20T10:45:22.743Z"
   },
   {
    "duration": 33,
    "start_time": "2021-07-20T10:45:23.808Z"
   },
   {
    "duration": 1522,
    "start_time": "2021-07-20T10:45:23.843Z"
   },
   {
    "duration": 1231,
    "start_time": "2021-07-20T10:45:25.367Z"
   },
   {
    "duration": 4060,
    "start_time": "2021-07-20T10:45:26.599Z"
   },
   {
    "duration": 3068,
    "start_time": "2021-07-20T10:45:30.660Z"
   },
   {
    "duration": 4536,
    "start_time": "2021-07-20T10:45:33.729Z"
   },
   {
    "duration": 7995,
    "start_time": "2021-07-20T10:45:38.267Z"
   },
   {
    "duration": 902,
    "start_time": "2021-07-20T10:45:46.264Z"
   },
   {
    "duration": 700,
    "start_time": "2021-07-20T10:45:47.167Z"
   },
   {
    "duration": 534,
    "start_time": "2021-07-20T10:45:47.869Z"
   },
   {
    "duration": 57,
    "start_time": "2021-07-20T10:45:48.405Z"
   },
   {
    "duration": 6,
    "start_time": "2021-07-20T10:49:19.402Z"
   },
   {
    "duration": 187,
    "start_time": "2021-07-20T10:49:19.743Z"
   },
   {
    "duration": 26,
    "start_time": "2021-07-20T10:49:19.932Z"
   },
   {
    "duration": 1085,
    "start_time": "2021-07-20T10:49:20.095Z"
   },
   {
    "duration": 1417,
    "start_time": "2021-07-20T10:49:21.182Z"
   },
   {
    "duration": 1232,
    "start_time": "2021-07-20T10:49:22.601Z"
   },
   {
    "duration": 4005,
    "start_time": "2021-07-20T10:49:23.835Z"
   },
   {
    "duration": 3034,
    "start_time": "2021-07-20T10:49:27.842Z"
   },
   {
    "duration": 4494,
    "start_time": "2021-07-20T10:49:30.878Z"
   },
   {
    "duration": 7845,
    "start_time": "2021-07-20T10:49:35.374Z"
   },
   {
    "duration": 896,
    "start_time": "2021-07-20T10:49:43.221Z"
   },
   {
    "duration": 739,
    "start_time": "2021-07-20T10:49:44.119Z"
   },
   {
    "duration": 526,
    "start_time": "2021-07-20T10:49:44.859Z"
   },
   {
    "duration": 83,
    "start_time": "2021-07-20T10:49:45.387Z"
   },
   {
    "duration": 6,
    "start_time": "2021-07-20T11:35:01.025Z"
   },
   {
    "duration": 173,
    "start_time": "2021-07-20T11:35:01.406Z"
   },
   {
    "duration": 22,
    "start_time": "2021-07-20T11:35:01.618Z"
   },
   {
    "duration": 1076,
    "start_time": "2021-07-20T11:35:01.787Z"
   },
   {
    "duration": 1426,
    "start_time": "2021-07-20T11:35:02.865Z"
   },
   {
    "duration": 1232,
    "start_time": "2021-07-20T11:35:04.293Z"
   },
   {
    "duration": 3982,
    "start_time": "2021-07-20T11:35:05.527Z"
   },
   {
    "duration": 3121,
    "start_time": "2021-07-20T11:35:09.511Z"
   },
   {
    "duration": 4600,
    "start_time": "2021-07-20T11:35:12.634Z"
   },
   {
    "duration": 8058,
    "start_time": "2021-07-20T11:35:17.235Z"
   },
   {
    "duration": 909,
    "start_time": "2021-07-20T11:35:25.295Z"
   },
   {
    "duration": 866,
    "start_time": "2021-07-20T11:35:26.206Z"
   },
   {
    "duration": 538,
    "start_time": "2021-07-20T11:35:27.074Z"
   },
   {
    "duration": 57,
    "start_time": "2021-07-20T11:35:27.613Z"
   },
   {
    "duration": 6,
    "start_time": "2021-07-20T11:41:53.269Z"
   },
   {
    "duration": 173,
    "start_time": "2021-07-20T11:41:53.606Z"
   },
   {
    "duration": 21,
    "start_time": "2021-07-20T11:41:53.780Z"
   },
   {
    "duration": 1085,
    "start_time": "2021-07-20T11:41:53.958Z"
   },
   {
    "duration": 1420,
    "start_time": "2021-07-20T11:41:55.045Z"
   },
   {
    "duration": 1305,
    "start_time": "2021-07-20T11:41:56.467Z"
   },
   {
    "duration": 4390,
    "start_time": "2021-07-20T11:41:57.774Z"
   },
   {
    "duration": 3159,
    "start_time": "2021-07-20T11:42:02.166Z"
   },
   {
    "duration": 4502,
    "start_time": "2021-07-20T11:42:05.326Z"
   },
   {
    "duration": 8050,
    "start_time": "2021-07-20T11:42:09.830Z"
   },
   {
    "duration": 910,
    "start_time": "2021-07-20T11:42:17.883Z"
   },
   {
    "duration": 911,
    "start_time": "2021-07-20T11:42:18.795Z"
   },
   {
    "duration": 541,
    "start_time": "2021-07-20T11:42:19.707Z"
   },
   {
    "duration": 52,
    "start_time": "2021-07-20T11:42:20.250Z"
   },
   {
    "duration": 381,
    "start_time": "2021-07-20T16:15:32.212Z"
   },
   {
    "duration": 10,
    "start_time": "2021-07-20T16:15:33.958Z"
   },
   {
    "duration": 9258,
    "start_time": "2021-07-20T16:15:39.039Z"
   },
   {
    "duration": 1526,
    "start_time": "2021-07-20T16:15:48.299Z"
   },
   {
    "duration": 1315,
    "start_time": "2021-07-20T16:15:49.828Z"
   },
   {
    "duration": 792,
    "start_time": "2021-07-20T16:15:51.146Z"
   },
   {
    "duration": 8,
    "start_time": "2021-07-20T16:15:51.940Z"
   },
   {
    "duration": 33,
    "start_time": "2021-07-20T16:15:51.961Z"
   },
   {
    "duration": 116,
    "start_time": "2021-07-20T16:15:51.997Z"
   },
   {
    "duration": 3300,
    "start_time": "2021-07-20T16:15:52.116Z"
   },
   {
    "duration": 94,
    "start_time": "2021-07-20T16:15:55.420Z"
   },
   {
    "duration": 46,
    "start_time": "2021-07-20T16:15:55.517Z"
   },
   {
    "duration": 62,
    "start_time": "2021-07-20T16:15:55.566Z"
   },
   {
    "duration": 253,
    "start_time": "2021-07-20T16:15:55.630Z"
   },
   {
    "duration": 59,
    "start_time": "2021-07-20T16:15:55.886Z"
   },
   {
    "duration": 19,
    "start_time": "2021-07-20T16:15:55.948Z"
   },
   {
    "duration": 517,
    "start_time": "2021-07-20T16:15:55.969Z"
   },
   {
    "duration": 22,
    "start_time": "2021-07-20T16:15:56.488Z"
   },
   {
    "duration": 10,
    "start_time": "2021-07-20T16:15:56.513Z"
   },
   {
    "duration": 68,
    "start_time": "2021-07-20T16:15:56.526Z"
   },
   {
    "duration": 79,
    "start_time": "2021-07-20T16:15:56.596Z"
   },
   {
    "duration": 6,
    "start_time": "2021-07-20T16:15:56.677Z"
   },
   {
    "duration": 10,
    "start_time": "2021-07-20T16:15:56.685Z"
   },
   {
    "duration": 139,
    "start_time": "2021-07-20T16:15:56.697Z"
   },
   {
    "duration": 10,
    "start_time": "2021-07-20T16:15:56.842Z"
   },
   {
    "duration": 383,
    "start_time": "2021-07-20T16:15:56.863Z"
   },
   {
    "duration": 61,
    "start_time": "2021-07-20T16:15:57.248Z"
   },
   {
    "duration": 2280,
    "start_time": "2021-07-20T16:15:57.312Z"
   },
   {
    "duration": 2848,
    "start_time": "2021-07-20T16:15:59.595Z"
   },
   {
    "duration": 2505,
    "start_time": "2021-07-20T16:16:02.445Z"
   },
   {
    "duration": 8819,
    "start_time": "2021-07-20T16:16:04.952Z"
   },
   {
    "duration": 6362,
    "start_time": "2021-07-20T16:16:13.774Z"
   },
   {
    "duration": 9313,
    "start_time": "2021-07-20T16:16:20.138Z"
   },
   {
    "duration": 16185,
    "start_time": "2021-07-20T16:16:29.453Z"
   },
   {
    "duration": 1786,
    "start_time": "2021-07-20T16:16:45.640Z"
   },
   {
    "duration": 1787,
    "start_time": "2021-07-20T16:16:47.429Z"
   },
   {
    "duration": 1065,
    "start_time": "2021-07-20T16:16:49.218Z"
   },
   {
    "duration": 110,
    "start_time": "2021-07-20T16:16:50.285Z"
   },
   {
    "duration": 79,
    "start_time": "2021-07-20T16:16:50.398Z"
   },
   {
    "duration": 245,
    "start_time": "2021-07-20T16:16:50.480Z"
   },
   {
    "duration": 836,
    "start_time": "2021-07-20T16:16:50.727Z"
   },
   {
    "duration": 18,
    "start_time": "2021-07-20T16:16:51.565Z"
   },
   {
    "duration": 1028,
    "start_time": "2021-07-20T16:16:51.586Z"
   },
   {
    "duration": 1062,
    "start_time": "2021-07-20T16:16:52.618Z"
   },
   {
    "duration": 326,
    "start_time": "2021-07-20T16:16:53.683Z"
   },
   {
    "duration": 260,
    "start_time": "2021-07-20T16:16:54.011Z"
   },
   {
    "duration": 40,
    "start_time": "2021-07-20T16:16:54.274Z"
   },
   {
    "duration": 708,
    "start_time": "2021-07-20T16:16:54.317Z"
   },
   {
    "duration": 38,
    "start_time": "2021-07-20T16:16:55.027Z"
   },
   {
    "duration": 14,
    "start_time": "2021-07-20T16:16:55.069Z"
   },
   {
    "duration": 7,
    "start_time": "2021-07-20T16:16:55.086Z"
   },
   {
    "duration": 16,
    "start_time": "2021-07-20T16:16:55.095Z"
   },
   {
    "duration": 80,
    "start_time": "2021-07-20T16:16:55.113Z"
   },
   {
    "duration": 50,
    "start_time": "2021-07-20T16:16:55.196Z"
   },
   {
    "duration": 17,
    "start_time": "2021-07-20T16:16:55.249Z"
   },
   {
    "duration": 16,
    "start_time": "2021-07-20T16:16:55.268Z"
   },
   {
    "duration": 27,
    "start_time": "2021-07-20T16:16:55.287Z"
   },
   {
    "duration": 55,
    "start_time": "2021-07-20T16:16:55.317Z"
   },
   {
    "duration": 102,
    "start_time": "2021-07-20T16:16:55.374Z"
   },
   {
    "duration": 25,
    "start_time": "2021-07-20T16:16:55.479Z"
   },
   {
    "duration": 4352,
    "start_time": "2021-07-20T16:16:55.506Z"
   },
   {
    "duration": 1892,
    "start_time": "2021-07-20T16:16:59.860Z"
   },
   {
    "duration": 1661,
    "start_time": "2021-07-20T16:17:01.762Z"
   },
   {
    "duration": 18,
    "start_time": "2021-07-20T16:17:03.426Z"
   },
   {
    "duration": 474,
    "start_time": "2021-07-20T16:17:03.462Z"
   },
   {
    "duration": 7,
    "start_time": "2021-07-20T16:17:03.939Z"
   },
   {
    "duration": 86,
    "start_time": "2021-07-20T16:17:03.962Z"
   },
   {
    "duration": 13,
    "start_time": "2021-07-20T16:17:04.051Z"
   },
   {
    "duration": 24,
    "start_time": "2021-07-20T16:17:04.066Z"
   },
   {
    "duration": 591,
    "start_time": "2021-07-20T16:17:04.098Z"
   },
   {
    "duration": 4,
    "start_time": "2021-07-20T16:17:04.691Z"
   },
   {
    "duration": 11,
    "start_time": "2021-07-20T16:17:04.697Z"
   },
   {
    "duration": 565,
    "start_time": "2021-07-20T16:17:04.710Z"
   },
   {
    "duration": 49,
    "start_time": "2021-07-20T16:17:05.278Z"
   },
   {
    "duration": 690,
    "start_time": "2021-07-20T16:17:05.330Z"
   },
   {
    "duration": 6834,
    "start_time": "2021-07-20T16:20:15.432Z"
   },
   {
    "duration": 1560,
    "start_time": "2021-07-20T16:20:22.269Z"
   },
   {
    "duration": 903,
    "start_time": "2021-07-20T16:20:23.832Z"
   },
   {
    "duration": 801,
    "start_time": "2021-07-20T16:20:24.739Z"
   },
   {
    "duration": 8,
    "start_time": "2021-07-20T16:20:25.542Z"
   },
   {
    "duration": 45,
    "start_time": "2021-07-20T16:20:25.552Z"
   },
   {
    "duration": 120,
    "start_time": "2021-07-20T16:20:25.599Z"
   },
   {
    "duration": 3447,
    "start_time": "2021-07-20T16:20:25.724Z"
   },
   {
    "duration": 104,
    "start_time": "2021-07-20T16:20:29.174Z"
   },
   {
    "duration": 36,
    "start_time": "2021-07-20T16:20:29.280Z"
   },
   {
    "duration": 78,
    "start_time": "2021-07-20T16:20:29.318Z"
   },
   {
    "duration": 243,
    "start_time": "2021-07-20T16:20:29.398Z"
   },
   {
    "duration": 128,
    "start_time": "2021-07-20T16:20:29.644Z"
   },
   {
    "duration": 7,
    "start_time": "2021-07-20T16:20:29.774Z"
   },
   {
    "duration": 492,
    "start_time": "2021-07-20T16:20:29.783Z"
   },
   {
    "duration": 21,
    "start_time": "2021-07-20T16:20:30.278Z"
   },
   {
    "duration": 30,
    "start_time": "2021-07-20T16:20:30.302Z"
   },
   {
    "duration": 54,
    "start_time": "2021-07-20T16:20:30.334Z"
   },
   {
    "duration": 95,
    "start_time": "2021-07-20T16:20:30.391Z"
   },
   {
    "duration": 6,
    "start_time": "2021-07-20T16:20:30.489Z"
   },
   {
    "duration": 26,
    "start_time": "2021-07-20T16:20:30.498Z"
   },
   {
    "duration": 110,
    "start_time": "2021-07-20T16:20:30.526Z"
   },
   {
    "duration": 21,
    "start_time": "2021-07-20T16:20:30.645Z"
   },
   {
    "duration": 372,
    "start_time": "2021-07-20T16:20:30.670Z"
   },
   {
    "duration": 54,
    "start_time": "2021-07-20T16:20:31.044Z"
   },
   {
    "duration": 2150,
    "start_time": "2021-07-20T16:20:31.101Z"
   },
   {
    "duration": 2727,
    "start_time": "2021-07-20T16:20:33.254Z"
   },
   {
    "duration": 2398,
    "start_time": "2021-07-20T16:20:35.984Z"
   },
   {
    "duration": 8472,
    "start_time": "2021-07-20T16:20:38.385Z"
   },
   {
    "duration": 6326,
    "start_time": "2021-07-20T16:20:46.859Z"
   },
   {
    "duration": 8994,
    "start_time": "2021-07-20T16:20:53.188Z"
   },
   {
    "duration": 15356,
    "start_time": "2021-07-20T16:21:02.185Z"
   },
   {
    "duration": 1706,
    "start_time": "2021-07-20T16:21:17.543Z"
   },
   {
    "duration": 1678,
    "start_time": "2021-07-20T16:21:19.252Z"
   },
   {
    "duration": 1018,
    "start_time": "2021-07-20T16:21:20.933Z"
   },
   {
    "duration": 91,
    "start_time": "2021-07-20T16:21:21.953Z"
   },
   {
    "duration": 63,
    "start_time": "2021-07-20T16:21:22.047Z"
   },
   {
    "duration": 250,
    "start_time": "2021-07-20T16:21:22.112Z"
   },
   {
    "duration": 785,
    "start_time": "2021-07-20T16:21:22.365Z"
   },
   {
    "duration": 22,
    "start_time": "2021-07-20T16:21:23.153Z"
   },
   {
    "duration": 460,
    "start_time": "2021-07-20T16:21:23.178Z"
   },
   {
    "duration": 725,
    "start_time": "2021-07-20T16:21:23.640Z"
   },
   {
    "duration": 204,
    "start_time": "2021-07-20T16:21:24.368Z"
   },
   {
    "duration": 176,
    "start_time": "2021-07-20T16:21:24.575Z"
   },
   {
    "duration": 44,
    "start_time": "2021-07-20T16:21:24.754Z"
   },
   {
    "duration": 645,
    "start_time": "2021-07-20T16:21:24.801Z"
   },
   {
    "duration": 25,
    "start_time": "2021-07-20T16:21:25.449Z"
   },
   {
    "duration": 14,
    "start_time": "2021-07-20T16:21:25.476Z"
   },
   {
    "duration": 4,
    "start_time": "2021-07-20T16:21:25.492Z"
   },
   {
    "duration": 9,
    "start_time": "2021-07-20T16:21:25.499Z"
   },
   {
    "duration": 79,
    "start_time": "2021-07-20T16:21:25.511Z"
   },
   {
    "duration": 47,
    "start_time": "2021-07-20T16:21:25.592Z"
   },
   {
    "duration": 21,
    "start_time": "2021-07-20T16:21:25.642Z"
   },
   {
    "duration": 11,
    "start_time": "2021-07-20T16:21:25.667Z"
   },
   {
    "duration": 32,
    "start_time": "2021-07-20T16:21:25.681Z"
   },
   {
    "duration": 63,
    "start_time": "2021-07-20T16:21:25.716Z"
   },
   {
    "duration": 137,
    "start_time": "2021-07-20T16:21:25.782Z"
   },
   {
    "duration": 43,
    "start_time": "2021-07-20T16:21:25.923Z"
   },
   {
    "duration": 3287,
    "start_time": "2021-07-20T16:21:25.969Z"
   },
   {
    "duration": 2645,
    "start_time": "2021-07-20T16:21:29.260Z"
   },
   {
    "duration": 1611,
    "start_time": "2021-07-20T16:21:31.908Z"
   },
   {
    "duration": 18,
    "start_time": "2021-07-20T16:21:33.522Z"
   },
   {
    "duration": 482,
    "start_time": "2021-07-20T16:21:33.562Z"
   },
   {
    "duration": 17,
    "start_time": "2021-07-20T16:21:34.047Z"
   },
   {
    "duration": 95,
    "start_time": "2021-07-20T16:21:34.067Z"
   },
   {
    "duration": 5,
    "start_time": "2021-07-20T16:21:34.164Z"
   },
   {
    "duration": 18,
    "start_time": "2021-07-20T16:21:34.171Z"
   },
   {
    "duration": 574,
    "start_time": "2021-07-20T16:21:34.196Z"
   },
   {
    "duration": 4,
    "start_time": "2021-07-20T16:21:34.772Z"
   },
   {
    "duration": 11,
    "start_time": "2021-07-20T16:21:34.779Z"
   },
   {
    "duration": 543,
    "start_time": "2021-07-20T16:21:34.792Z"
   },
   {
    "duration": 59,
    "start_time": "2021-07-20T16:21:35.338Z"
   },
   {
    "duration": 696,
    "start_time": "2021-07-20T16:21:35.399Z"
   },
   {
    "duration": 7475,
    "start_time": "2021-07-20T16:22:40.581Z"
   },
   {
    "duration": 2570,
    "start_time": "2021-07-20T16:22:48.059Z"
   },
   {
    "duration": 1351,
    "start_time": "2021-07-20T16:22:50.632Z"
   },
   {
    "duration": 1175,
    "start_time": "2021-07-20T16:22:51.987Z"
   },
   {
    "duration": 11,
    "start_time": "2021-07-20T16:22:53.165Z"
   },
   {
    "duration": 60,
    "start_time": "2021-07-20T16:22:53.179Z"
   },
   {
    "duration": 233,
    "start_time": "2021-07-20T16:22:53.242Z"
   },
   {
    "duration": 5143,
    "start_time": "2021-07-20T16:22:53.478Z"
   },
   {
    "duration": 144,
    "start_time": "2021-07-20T16:22:58.626Z"
   },
   {
    "duration": 55,
    "start_time": "2021-07-20T16:22:58.774Z"
   },
   {
    "duration": 105,
    "start_time": "2021-07-20T16:22:58.832Z"
   },
   {
    "duration": 348,
    "start_time": "2021-07-20T16:22:58.940Z"
   },
   {
    "duration": 273,
    "start_time": "2021-07-20T16:22:59.291Z"
   },
   {
    "duration": 10,
    "start_time": "2021-07-20T16:22:59.567Z"
   },
   {
    "duration": 704,
    "start_time": "2021-07-20T16:22:59.580Z"
   },
   {
    "duration": 32,
    "start_time": "2021-07-20T16:23:00.287Z"
   },
   {
    "duration": 36,
    "start_time": "2021-07-20T16:23:00.322Z"
   },
   {
    "duration": 74,
    "start_time": "2021-07-20T16:23:00.361Z"
   },
   {
    "duration": 90,
    "start_time": "2021-07-20T16:23:00.438Z"
   },
   {
    "duration": 9,
    "start_time": "2021-07-20T16:23:00.531Z"
   },
   {
    "duration": 34,
    "start_time": "2021-07-20T16:23:00.542Z"
   },
   {
    "duration": 182,
    "start_time": "2021-07-20T16:23:00.580Z"
   },
   {
    "duration": 15,
    "start_time": "2021-07-20T16:23:00.765Z"
   },
   {
    "duration": 603,
    "start_time": "2021-07-20T16:23:00.783Z"
   },
   {
    "duration": 80,
    "start_time": "2021-07-20T16:23:01.390Z"
   },
   {
    "duration": 3405,
    "start_time": "2021-07-20T16:23:01.473Z"
   },
   {
    "duration": 4384,
    "start_time": "2021-07-20T16:23:04.888Z"
   },
   {
    "duration": 3812,
    "start_time": "2021-07-20T16:23:09.277Z"
   },
   {
    "duration": 13562,
    "start_time": "2021-07-20T16:23:13.092Z"
   },
   {
    "duration": 9775,
    "start_time": "2021-07-20T16:23:26.657Z"
   },
   {
    "duration": 14161,
    "start_time": "2021-07-20T16:23:36.435Z"
   },
   {
    "duration": 24530,
    "start_time": "2021-07-20T16:23:50.600Z"
   },
   {
    "duration": 2730,
    "start_time": "2021-07-20T16:24:15.133Z"
   },
   {
    "duration": 2703,
    "start_time": "2021-07-20T16:24:17.866Z"
   },
   {
    "duration": 1638,
    "start_time": "2021-07-20T16:24:20.572Z"
   },
   {
    "duration": 138,
    "start_time": "2021-07-20T16:24:22.213Z"
   },
   {
    "duration": 69,
    "start_time": "2021-07-20T16:24:22.353Z"
   },
   {
    "duration": 241,
    "start_time": "2021-07-20T16:24:22.425Z"
   },
   {
    "duration": 810,
    "start_time": "2021-07-20T16:24:22.669Z"
   },
   {
    "duration": 19,
    "start_time": "2021-07-20T16:24:23.481Z"
   },
   {
    "duration": 730,
    "start_time": "2021-07-20T16:24:23.503Z"
   },
   {
    "duration": 1135,
    "start_time": "2021-07-20T16:24:24.236Z"
   },
   {
    "duration": 273,
    "start_time": "2021-07-20T16:24:25.375Z"
   },
   {
    "duration": 236,
    "start_time": "2021-07-20T16:24:25.651Z"
   },
   {
    "duration": 80,
    "start_time": "2021-07-20T16:24:25.891Z"
   },
   {
    "duration": 1009,
    "start_time": "2021-07-20T16:24:25.975Z"
   },
   {
    "duration": 20,
    "start_time": "2021-07-20T16:24:26.987Z"
   },
   {
    "duration": 17,
    "start_time": "2021-07-20T16:24:27.010Z"
   },
   {
    "duration": 38,
    "start_time": "2021-07-20T16:24:27.030Z"
   },
   {
    "duration": 6,
    "start_time": "2021-07-20T16:24:27.071Z"
   },
   {
    "duration": 55,
    "start_time": "2021-07-20T16:24:27.079Z"
   },
   {
    "duration": 51,
    "start_time": "2021-07-20T16:24:27.137Z"
   },
   {
    "duration": 7,
    "start_time": "2021-07-20T16:24:27.190Z"
   },
   {
    "duration": 18,
    "start_time": "2021-07-20T16:24:27.200Z"
   },
   {
    "duration": 50,
    "start_time": "2021-07-20T16:24:27.221Z"
   },
   {
    "duration": 21,
    "start_time": "2021-07-20T16:24:27.274Z"
   },
   {
    "duration": 110,
    "start_time": "2021-07-20T16:24:27.297Z"
   },
   {
    "duration": 53,
    "start_time": "2021-07-20T16:24:27.410Z"
   },
   {
    "duration": 5305,
    "start_time": "2021-07-20T16:24:27.466Z"
   },
   {
    "duration": 1908,
    "start_time": "2021-07-20T16:24:32.774Z"
   },
   {
    "duration": 1613,
    "start_time": "2021-07-20T16:24:34.685Z"
   },
   {
    "duration": 17,
    "start_time": "2021-07-20T16:24:36.301Z"
   },
   {
    "duration": 491,
    "start_time": "2021-07-20T16:24:36.322Z"
   },
   {
    "duration": 9,
    "start_time": "2021-07-20T16:24:36.817Z"
   },
   {
    "duration": 103,
    "start_time": "2021-07-20T16:24:36.829Z"
   },
   {
    "duration": 5,
    "start_time": "2021-07-20T16:24:36.935Z"
   },
   {
    "duration": 5,
    "start_time": "2021-07-20T16:24:36.963Z"
   },
   {
    "duration": 585,
    "start_time": "2021-07-20T16:24:36.970Z"
   },
   {
    "duration": 5,
    "start_time": "2021-07-20T16:24:37.557Z"
   },
   {
    "duration": 8,
    "start_time": "2021-07-20T16:24:37.564Z"
   },
   {
    "duration": 572,
    "start_time": "2021-07-20T16:24:37.575Z"
   },
   {
    "duration": 51,
    "start_time": "2021-07-20T16:24:38.149Z"
   },
   {
    "duration": 701,
    "start_time": "2021-07-20T16:24:38.203Z"
   },
   {
    "duration": 6803,
    "start_time": "2021-07-20T16:28:02.832Z"
   },
   {
    "duration": 2962,
    "start_time": "2021-07-20T16:28:09.639Z"
   },
   {
    "duration": 1323,
    "start_time": "2021-07-20T16:28:12.605Z"
   },
   {
    "duration": 1141,
    "start_time": "2021-07-20T16:28:13.932Z"
   },
   {
    "duration": 11,
    "start_time": "2021-07-20T16:28:15.077Z"
   },
   {
    "duration": 61,
    "start_time": "2021-07-20T16:28:15.091Z"
   },
   {
    "duration": 178,
    "start_time": "2021-07-20T16:28:15.155Z"
   },
   {
    "duration": 5089,
    "start_time": "2021-07-20T16:28:15.335Z"
   },
   {
    "duration": 148,
    "start_time": "2021-07-20T16:28:20.431Z"
   },
   {
    "duration": 57,
    "start_time": "2021-07-20T16:28:20.584Z"
   },
   {
    "duration": 99,
    "start_time": "2021-07-20T16:28:20.644Z"
   },
   {
    "duration": 268,
    "start_time": "2021-07-20T16:28:20.747Z"
   },
   {
    "duration": 192,
    "start_time": "2021-07-20T16:28:21.017Z"
   },
   {
    "duration": 7,
    "start_time": "2021-07-20T16:28:21.211Z"
   },
   {
    "duration": 515,
    "start_time": "2021-07-20T16:28:21.220Z"
   },
   {
    "duration": 32,
    "start_time": "2021-07-20T16:28:21.737Z"
   },
   {
    "duration": 36,
    "start_time": "2021-07-20T16:28:21.772Z"
   },
   {
    "duration": 50,
    "start_time": "2021-07-20T16:28:21.811Z"
   },
   {
    "duration": 62,
    "start_time": "2021-07-20T16:28:21.863Z"
   },
   {
    "duration": 7,
    "start_time": "2021-07-20T16:28:21.927Z"
   },
   {
    "duration": 27,
    "start_time": "2021-07-20T16:28:21.936Z"
   },
   {
    "duration": 110,
    "start_time": "2021-07-20T16:28:21.965Z"
   },
   {
    "duration": 252,
    "start_time": "2021-07-20T16:28:22.078Z"
   },
   {
    "duration": 781,
    "start_time": "2021-07-20T16:28:22.332Z"
   },
   {
    "duration": 16,
    "start_time": "2021-07-20T16:28:23.115Z"
   },
   {
    "duration": 454,
    "start_time": "2021-07-20T16:28:23.133Z"
   },
   {
    "duration": 757,
    "start_time": "2021-07-20T16:28:23.594Z"
   },
   {
    "duration": 193,
    "start_time": "2021-07-20T16:28:24.355Z"
   },
   {
    "duration": 156,
    "start_time": "2021-07-20T16:28:24.550Z"
   },
   {
    "duration": 54,
    "start_time": "2021-07-20T16:28:24.709Z"
   },
   {
    "duration": 18,
    "start_time": "2021-07-20T16:28:24.766Z"
   },
   {
    "duration": 361,
    "start_time": "2021-07-20T16:28:24.787Z"
   },
   {
    "duration": 47,
    "start_time": "2021-07-20T16:28:25.150Z"
   },
   {
    "duration": 2036,
    "start_time": "2021-07-20T16:28:25.199Z"
   },
   {
    "duration": 2757,
    "start_time": "2021-07-20T16:28:27.237Z"
   },
   {
    "duration": 2417,
    "start_time": "2021-07-20T16:28:29.996Z"
   },
   {
    "duration": 8176,
    "start_time": "2021-07-20T16:28:32.416Z"
   },
   {
    "duration": 5881,
    "start_time": "2021-07-20T16:28:40.594Z"
   },
   {
    "duration": 8721,
    "start_time": "2021-07-20T16:28:46.478Z"
   },
   {
    "duration": 14806,
    "start_time": "2021-07-20T16:28:55.201Z"
   },
   {
    "duration": 1614,
    "start_time": "2021-07-20T16:29:10.009Z"
   },
   {
    "duration": 1927,
    "start_time": "2021-07-20T16:29:11.626Z"
   },
   {
    "duration": 985,
    "start_time": "2021-07-20T16:29:13.556Z"
   },
   {
    "duration": 91,
    "start_time": "2021-07-20T16:29:14.543Z"
   },
   {
    "duration": 74,
    "start_time": "2021-07-20T16:29:14.637Z"
   },
   {
    "duration": 655,
    "start_time": "2021-07-20T16:29:14.713Z"
   },
   {
    "duration": 19,
    "start_time": "2021-07-20T16:29:15.371Z"
   },
   {
    "duration": 13,
    "start_time": "2021-07-20T16:29:15.393Z"
   },
   {
    "duration": 7,
    "start_time": "2021-07-20T16:29:15.409Z"
   },
   {
    "duration": 7,
    "start_time": "2021-07-20T16:29:15.419Z"
   },
   {
    "duration": 75,
    "start_time": "2021-07-20T16:29:15.429Z"
   },
   {
    "duration": 60,
    "start_time": "2021-07-20T16:29:15.506Z"
   },
   {
    "duration": 6,
    "start_time": "2021-07-20T16:29:15.568Z"
   },
   {
    "duration": 8,
    "start_time": "2021-07-20T16:29:15.576Z"
   },
   {
    "duration": 24,
    "start_time": "2021-07-20T16:29:15.586Z"
   },
   {
    "duration": 58,
    "start_time": "2021-07-20T16:29:15.612Z"
   },
   {
    "duration": 111,
    "start_time": "2021-07-20T16:29:15.673Z"
   },
   {
    "duration": 26,
    "start_time": "2021-07-20T16:29:15.786Z"
   },
   {
    "duration": 3178,
    "start_time": "2021-07-20T16:29:15.815Z"
   },
   {
    "duration": 2722,
    "start_time": "2021-07-20T16:29:18.996Z"
   },
   {
    "duration": 2192,
    "start_time": "2021-07-20T16:29:21.722Z"
   },
   {
    "duration": 18,
    "start_time": "2021-07-20T16:29:23.916Z"
   },
   {
    "duration": 494,
    "start_time": "2021-07-20T16:29:23.937Z"
   },
   {
    "duration": 8,
    "start_time": "2021-07-20T16:29:24.433Z"
   },
   {
    "duration": 120,
    "start_time": "2021-07-20T16:29:24.443Z"
   },
   {
    "duration": 4,
    "start_time": "2021-07-20T16:29:24.565Z"
   },
   {
    "duration": 8,
    "start_time": "2021-07-20T16:29:24.572Z"
   },
   {
    "duration": 586,
    "start_time": "2021-07-20T16:29:24.583Z"
   },
   {
    "duration": 4,
    "start_time": "2021-07-20T16:29:25.171Z"
   },
   {
    "duration": 6,
    "start_time": "2021-07-20T16:29:25.178Z"
   },
   {
    "duration": 566,
    "start_time": "2021-07-20T16:29:25.187Z"
   },
   {
    "duration": 55,
    "start_time": "2021-07-20T16:29:25.755Z"
   },
   {
    "duration": 724,
    "start_time": "2021-07-20T16:29:25.812Z"
   },
   {
    "duration": 11,
    "start_time": "2021-07-20T16:29:56.564Z"
   },
   {
    "duration": 5778,
    "start_time": "2021-07-20T16:30:01.371Z"
   },
   {
    "duration": 85,
    "start_time": "2021-07-20T16:30:07.152Z"
   },
   {
    "duration": 11,
    "start_time": "2021-07-20T16:30:36.908Z"
   },
   {
    "duration": 6205,
    "start_time": "2021-07-20T16:30:41.246Z"
   },
   {
    "duration": 96,
    "start_time": "2021-07-20T16:30:47.454Z"
   },
   {
    "duration": 17,
    "start_time": "2021-07-20T16:33:04.952Z"
   },
   {
    "duration": 320,
    "start_time": "2021-07-20T16:33:05.754Z"
   },
   {
    "duration": 34,
    "start_time": "2021-07-20T16:33:06.077Z"
   },
   {
    "duration": 1975,
    "start_time": "2021-07-20T16:33:06.114Z"
   },
   {
    "duration": 2618,
    "start_time": "2021-07-20T16:33:08.092Z"
   },
   {
    "duration": 2306,
    "start_time": "2021-07-20T16:33:10.712Z"
   },
   {
    "duration": 8417,
    "start_time": "2021-07-20T16:33:13.021Z"
   },
   {
    "duration": 6435,
    "start_time": "2021-07-20T16:33:21.441Z"
   },
   {
    "duration": 9198,
    "start_time": "2021-07-20T16:33:27.879Z"
   },
   {
    "duration": 15023,
    "start_time": "2021-07-20T16:33:37.079Z"
   },
   {
    "duration": 1624,
    "start_time": "2021-07-20T16:33:52.106Z"
   },
   {
    "duration": 2322,
    "start_time": "2021-07-20T16:33:53.732Z"
   },
   {
    "duration": 1011,
    "start_time": "2021-07-20T16:33:56.057Z"
   },
   {
    "duration": 95,
    "start_time": "2021-07-20T16:33:57.070Z"
   },
   {
    "duration": 12,
    "start_time": "2021-07-20T16:35:13.221Z"
   },
   {
    "duration": 322,
    "start_time": "2021-07-20T16:35:13.606Z"
   },
   {
    "duration": 37,
    "start_time": "2021-07-20T16:35:13.930Z"
   },
   {
    "duration": 2276,
    "start_time": "2021-07-20T16:35:13.970Z"
   },
   {
    "duration": 2571,
    "start_time": "2021-07-20T16:35:16.248Z"
   },
   {
    "duration": 2225,
    "start_time": "2021-07-20T16:35:18.822Z"
   },
   {
    "duration": 8612,
    "start_time": "2021-07-20T16:35:21.050Z"
   },
   {
    "duration": 6055,
    "start_time": "2021-07-20T16:35:29.664Z"
   },
   {
    "duration": 9233,
    "start_time": "2021-07-20T16:35:35.722Z"
   },
   {
    "duration": 14615,
    "start_time": "2021-07-20T16:35:44.958Z"
   },
   {
    "duration": 1606,
    "start_time": "2021-07-20T16:35:59.577Z"
   },
   {
    "duration": 2218,
    "start_time": "2021-07-20T16:36:01.186Z"
   },
   {
    "duration": 979,
    "start_time": "2021-07-20T16:36:03.406Z"
   },
   {
    "duration": 89,
    "start_time": "2021-07-20T16:36:04.387Z"
   },
   {
    "duration": 11,
    "start_time": "2021-07-20T16:37:33.053Z"
   },
   {
    "duration": 529,
    "start_time": "2021-07-20T16:37:33.418Z"
   },
   {
    "duration": 50,
    "start_time": "2021-07-20T16:37:33.951Z"
   },
   {
    "duration": 2346,
    "start_time": "2021-07-20T16:37:34.005Z"
   },
   {
    "duration": 2602,
    "start_time": "2021-07-20T16:37:36.354Z"
   },
   {
    "duration": 2312,
    "start_time": "2021-07-20T16:37:38.959Z"
   },
   {
    "duration": 8912,
    "start_time": "2021-07-20T16:37:41.275Z"
   },
   {
    "duration": 6922,
    "start_time": "2021-07-20T16:37:50.191Z"
   },
   {
    "duration": 9566,
    "start_time": "2021-07-20T16:37:57.116Z"
   },
   {
    "duration": 15368,
    "start_time": "2021-07-20T16:38:06.685Z"
   },
   {
    "duration": 1626,
    "start_time": "2021-07-20T16:38:22.056Z"
   },
   {
    "duration": 2263,
    "start_time": "2021-07-20T16:38:23.685Z"
   },
   {
    "duration": 972,
    "start_time": "2021-07-20T16:38:25.950Z"
   },
   {
    "duration": 96,
    "start_time": "2021-07-20T16:38:26.924Z"
   },
   {
    "duration": 11,
    "start_time": "2021-07-20T16:40:22.806Z"
   },
   {
    "duration": 2612,
    "start_time": "2021-07-20T16:40:25.802Z"
   },
   {
    "duration": 89,
    "start_time": "2021-07-20T16:40:28.417Z"
   },
   {
    "duration": 12,
    "start_time": "2021-07-20T16:40:36.460Z"
   },
   {
    "duration": 334,
    "start_time": "2021-07-20T16:40:36.860Z"
   },
   {
    "duration": 34,
    "start_time": "2021-07-20T16:40:37.196Z"
   },
   {
    "duration": 2380,
    "start_time": "2021-07-20T16:40:37.232Z"
   },
   {
    "duration": 2611,
    "start_time": "2021-07-20T16:40:39.615Z"
   },
   {
    "duration": 2299,
    "start_time": "2021-07-20T16:40:42.230Z"
   },
   {
    "duration": 9053,
    "start_time": "2021-07-20T16:40:44.532Z"
   },
   {
    "duration": 7378,
    "start_time": "2021-07-20T16:40:53.588Z"
   },
   {
    "duration": 9707,
    "start_time": "2021-07-20T16:41:00.968Z"
   },
   {
    "duration": 15255,
    "start_time": "2021-07-20T16:41:10.678Z"
   },
   {
    "duration": 1611,
    "start_time": "2021-07-20T16:41:25.937Z"
   },
   {
    "duration": 2565,
    "start_time": "2021-07-20T16:41:27.550Z"
   },
   {
    "duration": 961,
    "start_time": "2021-07-20T16:41:30.118Z"
   },
   {
    "duration": 93,
    "start_time": "2021-07-20T16:41:31.081Z"
   },
   {
    "duration": 11,
    "start_time": "2021-07-20T16:44:47.455Z"
   },
   {
    "duration": 323,
    "start_time": "2021-07-20T16:44:48.147Z"
   },
   {
    "duration": 32,
    "start_time": "2021-07-20T16:44:48.473Z"
   },
   {
    "duration": 2583,
    "start_time": "2021-07-20T16:44:48.575Z"
   },
   {
    "duration": 2978,
    "start_time": "2021-07-20T16:44:51.163Z"
   },
   {
    "duration": 2433,
    "start_time": "2021-07-20T16:44:54.144Z"
   },
   {
    "duration": 8776,
    "start_time": "2021-07-20T16:44:56.580Z"
   },
   {
    "duration": 7111,
    "start_time": "2021-07-20T16:45:05.359Z"
   },
   {
    "duration": 10031,
    "start_time": "2021-07-20T16:45:12.473Z"
   },
   {
    "duration": 15555,
    "start_time": "2021-07-20T16:45:22.507Z"
   },
   {
    "duration": 1642,
    "start_time": "2021-07-20T16:45:38.065Z"
   },
   {
    "duration": 2609,
    "start_time": "2021-07-20T16:45:39.709Z"
   },
   {
    "duration": 996,
    "start_time": "2021-07-20T16:45:42.320Z"
   },
   {
    "duration": 92,
    "start_time": "2021-07-20T16:45:43.318Z"
   },
   {
    "duration": 12,
    "start_time": "2021-07-20T16:47:50.876Z"
   },
   {
    "duration": 329,
    "start_time": "2021-07-20T16:47:51.246Z"
   },
   {
    "duration": 34,
    "start_time": "2021-07-20T16:47:51.577Z"
   },
   {
    "duration": 2637,
    "start_time": "2021-07-20T16:47:51.614Z"
   },
   {
    "duration": 3281,
    "start_time": "2021-07-20T16:47:54.254Z"
   },
   {
    "duration": 2265,
    "start_time": "2021-07-20T16:47:57.538Z"
   },
   {
    "duration": 9179,
    "start_time": "2021-07-20T16:47:59.806Z"
   },
   {
    "duration": 7118,
    "start_time": "2021-07-20T16:48:08.987Z"
   },
   {
    "duration": 10127,
    "start_time": "2021-07-20T16:48:16.108Z"
   },
   {
    "duration": 15916,
    "start_time": "2021-07-20T16:48:26.238Z"
   },
   {
    "duration": 1745,
    "start_time": "2021-07-20T16:48:42.158Z"
   },
   {
    "duration": 2941,
    "start_time": "2021-07-20T16:48:43.906Z"
   },
   {
    "duration": 996,
    "start_time": "2021-07-20T16:48:46.849Z"
   },
   {
    "duration": 82,
    "start_time": "2021-07-20T16:48:47.847Z"
   },
   {
    "duration": 75,
    "start_time": "2021-07-20T16:48:47.931Z"
   },
   {
    "duration": 11,
    "start_time": "2021-07-20T17:00:22.252Z"
   },
   {
    "duration": 646,
    "start_time": "2021-07-20T17:00:23.864Z"
   },
   {
    "duration": 33,
    "start_time": "2021-07-20T17:00:24.513Z"
   },
   {
    "duration": 2615,
    "start_time": "2021-07-20T17:00:24.561Z"
   },
   {
    "duration": 3275,
    "start_time": "2021-07-20T17:00:27.179Z"
   },
   {
    "duration": 2274,
    "start_time": "2021-07-20T17:00:30.457Z"
   },
   {
    "duration": 9549,
    "start_time": "2021-07-20T17:00:32.734Z"
   },
   {
    "duration": 7157,
    "start_time": "2021-07-20T17:00:42.285Z"
   },
   {
    "duration": 10436,
    "start_time": "2021-07-20T17:00:49.444Z"
   },
   {
    "duration": 15917,
    "start_time": "2021-07-20T17:00:59.883Z"
   },
   {
    "duration": 1642,
    "start_time": "2021-07-20T17:01:15.804Z"
   },
   {
    "duration": 3604,
    "start_time": "2021-07-20T17:01:17.449Z"
   },
   {
    "duration": 975,
    "start_time": "2021-07-20T17:01:21.056Z"
   },
   {
    "duration": 89,
    "start_time": "2021-07-20T17:01:22.033Z"
   },
   {
    "duration": 54,
    "start_time": "2021-07-20T17:01:39.022Z"
   },
   {
    "duration": 13,
    "start_time": "2021-07-20T17:06:54.510Z"
   },
   {
    "duration": 656,
    "start_time": "2021-07-20T17:06:54.527Z"
   },
   {
    "duration": 34,
    "start_time": "2021-07-20T17:06:55.186Z"
   },
   {
    "duration": 3310,
    "start_time": "2021-07-20T17:06:55.223Z"
   },
   {
    "duration": 3304,
    "start_time": "2021-07-20T17:06:58.535Z"
   },
   {
    "duration": 2274,
    "start_time": "2021-07-20T17:07:01.841Z"
   },
   {
    "duration": 9619,
    "start_time": "2021-07-20T17:07:04.118Z"
   },
   {
    "duration": 7141,
    "start_time": "2021-07-20T17:07:13.739Z"
   },
   {
    "duration": 10213,
    "start_time": "2021-07-20T17:07:20.884Z"
   },
   {
    "duration": 16591,
    "start_time": "2021-07-20T17:07:31.099Z"
   },
   {
    "duration": 1661,
    "start_time": "2021-07-20T17:07:47.693Z"
   },
   {
    "duration": 4276,
    "start_time": "2021-07-20T17:07:49.357Z"
   },
   {
    "duration": 966,
    "start_time": "2021-07-20T17:07:53.636Z"
   },
   {
    "duration": 86,
    "start_time": "2021-07-20T17:07:54.604Z"
   },
   {
    "duration": 12,
    "start_time": "2021-07-20T17:08:04.032Z"
   },
   {
    "duration": 652,
    "start_time": "2021-07-20T17:08:04.488Z"
   },
   {
    "duration": 37,
    "start_time": "2021-07-20T17:08:05.143Z"
   },
   {
    "duration": 3305,
    "start_time": "2021-07-20T17:08:05.183Z"
   },
   {
    "duration": 3741,
    "start_time": "2021-07-20T17:08:08.491Z"
   },
   {
    "duration": 2247,
    "start_time": "2021-07-20T17:08:12.235Z"
   },
   {
    "duration": 9365,
    "start_time": "2021-07-20T17:08:14.485Z"
   },
   {
    "duration": 7238,
    "start_time": "2021-07-20T17:08:23.853Z"
   },
   {
    "duration": 10017,
    "start_time": "2021-07-20T17:08:31.093Z"
   },
   {
    "duration": 16495,
    "start_time": "2021-07-20T17:08:41.113Z"
   },
   {
    "duration": 1623,
    "start_time": "2021-07-20T17:08:57.612Z"
   },
   {
    "duration": 4197,
    "start_time": "2021-07-20T17:08:59.237Z"
   },
   {
    "duration": 995,
    "start_time": "2021-07-20T17:09:03.437Z"
   },
   {
    "duration": 91,
    "start_time": "2021-07-20T17:09:04.435Z"
   },
   {
    "duration": 71,
    "start_time": "2021-07-20T17:09:04.529Z"
   },
   {
    "duration": 5567,
    "start_time": "2021-07-21T12:12:56.983Z"
   },
   {
    "duration": 1093,
    "start_time": "2021-07-21T12:13:02.552Z"
   },
   {
    "duration": 2087,
    "start_time": "2021-07-21T12:13:03.647Z"
   },
   {
    "duration": 501,
    "start_time": "2021-07-21T12:13:05.736Z"
   },
   {
    "duration": 6,
    "start_time": "2021-07-21T12:13:06.238Z"
   },
   {
    "duration": 48,
    "start_time": "2021-07-21T12:13:06.245Z"
   },
   {
    "duration": 78,
    "start_time": "2021-07-21T12:13:06.295Z"
   },
   {
    "duration": 1635,
    "start_time": "2021-07-21T12:13:06.384Z"
   },
   {
    "duration": 66,
    "start_time": "2021-07-21T12:13:08.022Z"
   },
   {
    "duration": 23,
    "start_time": "2021-07-21T12:13:08.090Z"
   },
   {
    "duration": 38,
    "start_time": "2021-07-21T12:13:08.115Z"
   },
   {
    "duration": 180,
    "start_time": "2021-07-21T12:13:08.155Z"
   },
   {
    "duration": 108,
    "start_time": "2021-07-21T12:13:08.336Z"
   },
   {
    "duration": 5,
    "start_time": "2021-07-21T12:13:08.446Z"
   },
   {
    "duration": 257,
    "start_time": "2021-07-21T12:13:08.453Z"
   },
   {
    "duration": 14,
    "start_time": "2021-07-21T12:13:08.712Z"
   },
   {
    "duration": 5,
    "start_time": "2021-07-21T12:13:08.727Z"
   },
   {
    "duration": 28,
    "start_time": "2021-07-21T12:13:08.733Z"
   },
   {
    "duration": 64,
    "start_time": "2021-07-21T12:13:08.762Z"
   },
   {
    "duration": 5,
    "start_time": "2021-07-21T12:13:08.828Z"
   },
   {
    "duration": 5,
    "start_time": "2021-07-21T12:13:08.835Z"
   },
   {
    "duration": 87,
    "start_time": "2021-07-21T12:13:08.842Z"
   },
   {
    "duration": 155,
    "start_time": "2021-07-21T12:13:08.931Z"
   },
   {
    "duration": 467,
    "start_time": "2021-07-21T12:13:09.088Z"
   },
   {
    "duration": 10,
    "start_time": "2021-07-21T12:13:09.557Z"
   },
   {
    "duration": 297,
    "start_time": "2021-07-21T12:13:09.568Z"
   },
   {
    "duration": 426,
    "start_time": "2021-07-21T12:13:09.869Z"
   },
   {
    "duration": 118,
    "start_time": "2021-07-21T12:13:10.298Z"
   },
   {
    "duration": 97,
    "start_time": "2021-07-21T12:13:10.418Z"
   },
   {
    "duration": 23,
    "start_time": "2021-07-21T12:13:10.517Z"
   },
   {
    "duration": 12,
    "start_time": "2021-07-21T12:13:10.542Z"
   },
   {
    "duration": 431,
    "start_time": "2021-07-21T12:13:10.555Z"
   },
   {
    "duration": 31,
    "start_time": "2021-07-21T12:13:10.987Z"
   },
   {
    "duration": 1798,
    "start_time": "2021-07-21T12:13:11.019Z"
   },
   {
    "duration": 1814,
    "start_time": "2021-07-21T12:13:12.819Z"
   },
   {
    "duration": 1263,
    "start_time": "2021-07-21T12:13:14.635Z"
   },
   {
    "duration": 5205,
    "start_time": "2021-07-21T12:13:15.899Z"
   },
   {
    "duration": 4078,
    "start_time": "2021-07-21T12:13:21.107Z"
   },
   {
    "duration": 5687,
    "start_time": "2021-07-21T12:13:25.186Z"
   },
   {
    "duration": 8902,
    "start_time": "2021-07-21T12:13:30.875Z"
   },
   {
    "duration": 896,
    "start_time": "2021-07-21T12:13:39.778Z"
   },
   {
    "duration": 2319,
    "start_time": "2021-07-21T12:13:40.676Z"
   },
   {
    "duration": 535,
    "start_time": "2021-07-21T12:13:42.997Z"
   },
   {
    "duration": 51,
    "start_time": "2021-07-21T12:13:43.534Z"
   },
   {
    "duration": 30,
    "start_time": "2021-07-21T12:13:43.587Z"
   },
   {
    "duration": 419,
    "start_time": "2021-07-21T12:13:43.619Z"
   },
   {
    "duration": 14,
    "start_time": "2021-07-21T12:13:44.040Z"
   },
   {
    "duration": 8,
    "start_time": "2021-07-21T12:13:44.056Z"
   },
   {
    "duration": 2,
    "start_time": "2021-07-21T12:13:44.085Z"
   },
   {
    "duration": 5,
    "start_time": "2021-07-21T12:13:44.089Z"
   },
   {
    "duration": 33,
    "start_time": "2021-07-21T12:13:44.095Z"
   },
   {
    "duration": 32,
    "start_time": "2021-07-21T12:13:44.130Z"
   },
   {
    "duration": 25,
    "start_time": "2021-07-21T12:13:44.163Z"
   },
   {
    "duration": 5,
    "start_time": "2021-07-21T12:13:44.189Z"
   },
   {
    "duration": 14,
    "start_time": "2021-07-21T12:13:44.195Z"
   },
   {
    "duration": 13,
    "start_time": "2021-07-21T12:13:44.211Z"
   },
   {
    "duration": 86,
    "start_time": "2021-07-21T12:13:44.225Z"
   },
   {
    "duration": 16,
    "start_time": "2021-07-21T12:13:44.313Z"
   },
   {
    "duration": 2560,
    "start_time": "2021-07-21T12:13:44.332Z"
   },
   {
    "duration": 1098,
    "start_time": "2021-07-21T12:13:46.894Z"
   },
   {
    "duration": 944,
    "start_time": "2021-07-21T12:13:47.994Z"
   },
   {
    "duration": 12,
    "start_time": "2021-07-21T12:13:48.940Z"
   },
   {
    "duration": 297,
    "start_time": "2021-07-21T12:13:48.954Z"
   },
   {
    "duration": 6,
    "start_time": "2021-07-21T12:13:49.252Z"
   },
   {
    "duration": 68,
    "start_time": "2021-07-21T12:13:49.260Z"
   },
   {
    "duration": 3,
    "start_time": "2021-07-21T12:13:49.330Z"
   },
   {
    "duration": 8,
    "start_time": "2021-07-21T12:13:49.335Z"
   },
   {
    "duration": 354,
    "start_time": "2021-07-21T12:13:49.344Z"
   },
   {
    "duration": 2,
    "start_time": "2021-07-21T12:13:49.700Z"
   },
   {
    "duration": 8,
    "start_time": "2021-07-21T12:13:49.704Z"
   },
   {
    "duration": 364,
    "start_time": "2021-07-21T12:13:49.714Z"
   },
   {
    "duration": 39,
    "start_time": "2021-07-21T12:13:50.080Z"
   },
   {
    "duration": 437,
    "start_time": "2021-07-21T12:13:50.121Z"
   },
   {
    "duration": 16,
    "start_time": "2021-07-21T12:15:12.990Z"
   },
   {
    "duration": 384,
    "start_time": "2021-07-21T12:15:13.349Z"
   },
   {
    "duration": 25,
    "start_time": "2021-07-21T12:15:13.735Z"
   },
   {
    "duration": 1890,
    "start_time": "2021-07-21T12:15:13.762Z"
   },
   {
    "duration": 1835,
    "start_time": "2021-07-21T12:15:15.654Z"
   },
   {
    "duration": 1269,
    "start_time": "2021-07-21T12:15:17.491Z"
   },
   {
    "duration": 5563,
    "start_time": "2021-07-21T12:15:18.762Z"
   },
   {
    "duration": 4089,
    "start_time": "2021-07-21T12:15:24.327Z"
   },
   {
    "duration": 5666,
    "start_time": "2021-07-21T12:15:28.418Z"
   },
   {
    "duration": 9247,
    "start_time": "2021-07-21T12:15:34.086Z"
   },
   {
    "duration": 937,
    "start_time": "2021-07-21T12:15:43.335Z"
   },
   {
    "duration": 2380,
    "start_time": "2021-07-21T12:15:44.274Z"
   },
   {
    "duration": 550,
    "start_time": "2021-07-21T12:15:46.655Z"
   },
   {
    "duration": 47,
    "start_time": "2021-07-21T12:15:47.206Z"
   },
   {
    "duration": 9,
    "start_time": "2021-07-21T12:17:24.879Z"
   },
   {
    "duration": 381,
    "start_time": "2021-07-21T12:17:25.265Z"
   },
   {
    "duration": 23,
    "start_time": "2021-07-21T12:17:25.648Z"
   },
   {
    "duration": 2078,
    "start_time": "2021-07-21T12:17:25.673Z"
   },
   {
    "duration": 1830,
    "start_time": "2021-07-21T12:17:27.754Z"
   },
   {
    "duration": 1288,
    "start_time": "2021-07-21T12:17:29.586Z"
   },
   {
    "duration": 5795,
    "start_time": "2021-07-21T12:17:30.876Z"
   },
   {
    "duration": 4199,
    "start_time": "2021-07-21T12:17:36.672Z"
   },
   {
    "duration": 5779,
    "start_time": "2021-07-21T12:17:40.872Z"
   },
   {
    "duration": 9217,
    "start_time": "2021-07-21T12:17:46.653Z"
   },
   {
    "duration": 938,
    "start_time": "2021-07-21T12:17:55.872Z"
   },
   {
    "duration": 2340,
    "start_time": "2021-07-21T12:17:56.812Z"
   },
   {
    "duration": 543,
    "start_time": "2021-07-21T12:17:59.154Z"
   },
   {
    "duration": 47,
    "start_time": "2021-07-21T12:17:59.698Z"
   },
   {
    "duration": 9,
    "start_time": "2021-07-21T12:32:35.796Z"
   },
   {
    "duration": 359,
    "start_time": "2021-07-21T12:32:36.183Z"
   },
   {
    "duration": 22,
    "start_time": "2021-07-21T12:32:36.544Z"
   },
   {
    "duration": 2011,
    "start_time": "2021-07-21T12:32:36.568Z"
   },
   {
    "duration": 1983,
    "start_time": "2021-07-21T12:32:38.580Z"
   },
   {
    "duration": 1458,
    "start_time": "2021-07-21T12:32:40.565Z"
   },
   {
    "duration": 5959,
    "start_time": "2021-07-21T12:32:42.025Z"
   },
   {
    "duration": 4087,
    "start_time": "2021-07-21T12:32:47.986Z"
   },
   {
    "duration": 6090,
    "start_time": "2021-07-21T12:32:52.076Z"
   },
   {
    "duration": 9114,
    "start_time": "2021-07-21T12:32:58.167Z"
   },
   {
    "duration": 899,
    "start_time": "2021-07-21T12:33:07.285Z"
   },
   {
    "duration": 2322,
    "start_time": "2021-07-21T12:33:08.186Z"
   },
   {
    "duration": 540,
    "start_time": "2021-07-21T12:33:10.510Z"
   },
   {
    "duration": 45,
    "start_time": "2021-07-21T12:33:11.052Z"
   },
   {
    "duration": 8,
    "start_time": "2021-07-21T13:11:32.071Z"
   },
   {
    "duration": 361,
    "start_time": "2021-07-21T13:11:32.843Z"
   },
   {
    "duration": 22,
    "start_time": "2021-07-21T13:11:33.206Z"
   },
   {
    "duration": 1961,
    "start_time": "2021-07-21T13:11:33.550Z"
   },
   {
    "duration": 1808,
    "start_time": "2021-07-21T13:11:35.513Z"
   },
   {
    "duration": 1459,
    "start_time": "2021-07-21T13:11:37.323Z"
   },
   {
    "duration": 5944,
    "start_time": "2021-07-21T13:11:38.784Z"
   },
   {
    "duration": 4375,
    "start_time": "2021-07-21T13:11:44.730Z"
   },
   {
    "duration": 6484,
    "start_time": "2021-07-21T13:11:49.107Z"
   },
   {
    "duration": 9585,
    "start_time": "2021-07-21T13:11:55.593Z"
   },
   {
    "duration": 1049,
    "start_time": "2021-07-21T13:12:05.181Z"
   },
   {
    "duration": 2465,
    "start_time": "2021-07-21T13:12:06.233Z"
   },
   {
    "duration": 544,
    "start_time": "2021-07-21T13:12:08.700Z"
   },
   {
    "duration": 52,
    "start_time": "2021-07-21T13:12:09.246Z"
   },
   {
    "duration": 8,
    "start_time": "2021-07-21T13:26:07.129Z"
   },
   {
    "duration": 351,
    "start_time": "2021-07-21T13:26:07.522Z"
   },
   {
    "duration": 28,
    "start_time": "2021-07-21T13:26:07.874Z"
   },
   {
    "duration": 1998,
    "start_time": "2021-07-21T13:26:07.903Z"
   },
   {
    "duration": 1859,
    "start_time": "2021-07-21T13:26:09.903Z"
   },
   {
    "duration": 1446,
    "start_time": "2021-07-21T13:26:11.764Z"
   },
   {
    "duration": 6129,
    "start_time": "2021-07-21T13:26:13.211Z"
   },
   {
    "duration": 4363,
    "start_time": "2021-07-21T13:26:19.341Z"
   },
   {
    "duration": 6524,
    "start_time": "2021-07-21T13:26:23.706Z"
   },
   {
    "duration": 9420,
    "start_time": "2021-07-21T13:26:30.232Z"
   },
   {
    "duration": 947,
    "start_time": "2021-07-21T13:26:39.655Z"
   },
   {
    "duration": 2423,
    "start_time": "2021-07-21T13:26:40.604Z"
   },
   {
    "duration": 535,
    "start_time": "2021-07-21T13:26:43.029Z"
   },
   {
    "duration": 44,
    "start_time": "2021-07-21T13:26:43.566Z"
   },
   {
    "duration": 29,
    "start_time": "2021-07-21T13:26:43.611Z"
   },
   {
    "duration": 8,
    "start_time": "2021-07-21T13:31:18.473Z"
   },
   {
    "duration": 366,
    "start_time": "2021-07-21T13:31:18.838Z"
   },
   {
    "duration": 24,
    "start_time": "2021-07-21T13:31:19.206Z"
   },
   {
    "duration": 1987,
    "start_time": "2021-07-21T13:31:19.240Z"
   },
   {
    "duration": 1819,
    "start_time": "2021-07-21T13:31:21.228Z"
   },
   {
    "duration": 1515,
    "start_time": "2021-07-21T13:31:23.049Z"
   },
   {
    "duration": 6055,
    "start_time": "2021-07-21T13:31:24.566Z"
   },
   {
    "duration": 4587,
    "start_time": "2021-07-21T13:31:30.623Z"
   },
   {
    "duration": 6371,
    "start_time": "2021-07-21T13:31:35.212Z"
   },
   {
    "duration": 9705,
    "start_time": "2021-07-21T13:31:41.585Z"
   },
   {
    "duration": 1117,
    "start_time": "2021-07-21T13:31:51.292Z"
   },
   {
    "duration": 2373,
    "start_time": "2021-07-21T13:31:52.411Z"
   },
   {
    "duration": 545,
    "start_time": "2021-07-21T13:31:54.786Z"
   },
   {
    "duration": 40,
    "start_time": "2021-07-21T13:31:55.332Z"
   },
   {
    "duration": 36,
    "start_time": "2021-07-21T13:31:55.374Z"
   },
   {
    "duration": 1810,
    "start_time": "2021-07-25T01:30:59.465Z"
   },
   {
    "duration": 292,
    "start_time": "2021-07-25T01:31:05.070Z"
   },
   {
    "duration": 134,
    "start_time": "2021-07-25T01:31:05.234Z"
   },
   {
    "duration": 130,
    "start_time": "2021-07-25T01:31:05.239Z"
   },
   {
    "duration": 128,
    "start_time": "2021-07-25T01:31:05.243Z"
   },
   {
    "duration": 125,
    "start_time": "2021-07-25T01:31:05.247Z"
   },
   {
    "duration": 109,
    "start_time": "2021-07-25T01:31:05.265Z"
   },
   {
    "duration": 104,
    "start_time": "2021-07-25T01:31:05.271Z"
   },
   {
    "duration": 101,
    "start_time": "2021-07-25T01:31:05.276Z"
   },
   {
    "duration": 96,
    "start_time": "2021-07-25T01:31:05.282Z"
   },
   {
    "duration": 91,
    "start_time": "2021-07-25T01:31:05.288Z"
   },
   {
    "duration": 87,
    "start_time": "2021-07-25T01:31:05.293Z"
   },
   {
    "duration": 83,
    "start_time": "2021-07-25T01:31:05.299Z"
   },
   {
    "duration": 80,
    "start_time": "2021-07-25T01:31:05.303Z"
   },
   {
    "duration": 78,
    "start_time": "2021-07-25T01:31:05.307Z"
   },
   {
    "duration": 66,
    "start_time": "2021-07-25T01:31:05.320Z"
   },
   {
    "duration": 64,
    "start_time": "2021-07-25T01:31:05.324Z"
   },
   {
    "duration": 62,
    "start_time": "2021-07-25T01:31:05.327Z"
   },
   {
    "duration": 58,
    "start_time": "2021-07-25T01:31:05.332Z"
   },
   {
    "duration": 54,
    "start_time": "2021-07-25T01:31:05.338Z"
   },
   {
    "duration": 52,
    "start_time": "2021-07-25T01:31:05.341Z"
   },
   {
    "duration": 50,
    "start_time": "2021-07-25T01:31:05.344Z"
   },
   {
    "duration": 46,
    "start_time": "2021-07-25T01:31:05.350Z"
   },
   {
    "duration": 43,
    "start_time": "2021-07-25T01:31:05.354Z"
   },
   {
    "duration": 41,
    "start_time": "2021-07-25T01:31:05.358Z"
   },
   {
    "duration": 38,
    "start_time": "2021-07-25T01:31:05.362Z"
   },
   {
    "duration": 35,
    "start_time": "2021-07-25T01:31:05.366Z"
   },
   {
    "duration": 32,
    "start_time": "2021-07-25T01:31:05.370Z"
   },
   {
    "duration": 31,
    "start_time": "2021-07-25T01:31:05.373Z"
   },
   {
    "duration": 29,
    "start_time": "2021-07-25T01:31:05.376Z"
   },
   {
    "duration": 27,
    "start_time": "2021-07-25T01:31:05.380Z"
   },
   {
    "duration": 24,
    "start_time": "2021-07-25T01:31:05.384Z"
   },
   {
    "duration": 20,
    "start_time": "2021-07-25T01:31:05.389Z"
   },
   {
    "duration": 18,
    "start_time": "2021-07-25T01:31:05.393Z"
   },
   {
    "duration": 16,
    "start_time": "2021-07-25T01:31:05.396Z"
   },
   {
    "duration": 12,
    "start_time": "2021-07-25T01:31:05.401Z"
   },
   {
    "duration": -71,
    "start_time": "2021-07-25T01:31:05.485Z"
   },
   {
    "duration": -90,
    "start_time": "2021-07-25T01:31:05.506Z"
   },
   {
    "duration": -93,
    "start_time": "2021-07-25T01:31:05.510Z"
   },
   {
    "duration": -96,
    "start_time": "2021-07-25T01:31:05.514Z"
   },
   {
    "duration": -97,
    "start_time": "2021-07-25T01:31:05.517Z"
   },
   {
    "duration": -100,
    "start_time": "2021-07-25T01:31:05.521Z"
   },
   {
    "duration": -103,
    "start_time": "2021-07-25T01:31:05.525Z"
   },
   {
    "duration": -105,
    "start_time": "2021-07-25T01:31:05.529Z"
   },
   {
    "duration": -108,
    "start_time": "2021-07-25T01:31:05.533Z"
   },
   {
    "duration": -118,
    "start_time": "2021-07-25T01:31:05.545Z"
   },
   {
    "duration": -123,
    "start_time": "2021-07-25T01:31:05.551Z"
   },
   {
    "duration": -136,
    "start_time": "2021-07-25T01:31:05.566Z"
   },
   {
    "duration": -139,
    "start_time": "2021-07-25T01:31:05.570Z"
   },
   {
    "duration": -142,
    "start_time": "2021-07-25T01:31:05.574Z"
   },
   {
    "duration": -144,
    "start_time": "2021-07-25T01:31:05.578Z"
   },
   {
    "duration": -146,
    "start_time": "2021-07-25T01:31:05.581Z"
   },
   {
    "duration": -149,
    "start_time": "2021-07-25T01:31:05.585Z"
   },
   {
    "duration": -151,
    "start_time": "2021-07-25T01:31:05.589Z"
   },
   {
    "duration": -153,
    "start_time": "2021-07-25T01:31:05.592Z"
   },
   {
    "duration": -157,
    "start_time": "2021-07-25T01:31:05.597Z"
   },
   {
    "duration": -159,
    "start_time": "2021-07-25T01:31:05.600Z"
   },
   {
    "duration": -162,
    "start_time": "2021-07-25T01:31:05.604Z"
   },
   {
    "duration": -164,
    "start_time": "2021-07-25T01:31:05.607Z"
   },
   {
    "duration": -111,
    "start_time": "2021-07-25T01:31:05.611Z"
   },
   {
    "duration": -112,
    "start_time": "2021-07-25T01:31:05.614Z"
   },
   {
    "duration": -115,
    "start_time": "2021-07-25T01:31:05.618Z"
   },
   {
    "duration": 298,
    "start_time": "2021-07-25T01:31:05.508Z"
   },
   {
    "duration": -134,
    "start_time": "2021-07-25T01:31:05.943Z"
   },
   {
    "duration": -240,
    "start_time": "2021-07-25T01:31:06.050Z"
   },
   {
    "duration": -243,
    "start_time": "2021-07-25T01:31:06.054Z"
   },
   {
    "duration": -246,
    "start_time": "2021-07-25T01:31:06.058Z"
   },
   {
    "duration": -249,
    "start_time": "2021-07-25T01:31:06.062Z"
   },
   {
    "duration": -251,
    "start_time": "2021-07-25T01:31:06.066Z"
   },
   {
    "duration": -254,
    "start_time": "2021-07-25T01:31:06.070Z"
   },
   {
    "duration": -256,
    "start_time": "2021-07-25T01:31:06.073Z"
   },
   {
    "duration": -258,
    "start_time": "2021-07-25T01:31:06.077Z"
   },
   {
    "duration": -261,
    "start_time": "2021-07-25T01:31:06.081Z"
   },
   {
    "duration": 9822,
    "start_time": "2021-07-25T01:33:27.056Z"
   },
   {
    "duration": 6620,
    "start_time": "2021-07-25T01:33:49.398Z"
   },
   {
    "duration": 89,
    "start_time": "2021-07-25T01:33:56.021Z"
   },
   {
    "duration": 5509,
    "start_time": "2021-07-25T01:33:56.113Z"
   },
   {
    "duration": 757,
    "start_time": "2021-07-25T01:34:01.625Z"
   },
   {
    "duration": 14,
    "start_time": "2021-07-25T01:34:02.385Z"
   },
   {
    "duration": 48,
    "start_time": "2021-07-25T01:34:02.402Z"
   },
   {
    "duration": 109,
    "start_time": "2021-07-25T01:34:02.452Z"
   },
   {
    "duration": 3137,
    "start_time": "2021-07-25T01:34:02.563Z"
   },
   {
    "duration": 81,
    "start_time": "2021-07-25T01:34:05.704Z"
   },
   {
    "duration": 36,
    "start_time": "2021-07-25T01:34:05.801Z"
   },
   {
    "duration": 72,
    "start_time": "2021-07-25T01:34:05.840Z"
   },
   {
    "duration": 231,
    "start_time": "2021-07-25T01:34:05.915Z"
   },
   {
    "duration": 182,
    "start_time": "2021-07-25T01:34:06.149Z"
   },
   {
    "duration": 7,
    "start_time": "2021-07-25T01:34:06.333Z"
   },
   {
    "duration": 491,
    "start_time": "2021-07-25T01:34:06.343Z"
   },
   {
    "duration": 23,
    "start_time": "2021-07-25T01:34:06.836Z"
   },
   {
    "duration": 6,
    "start_time": "2021-07-25T01:34:06.862Z"
   },
   {
    "duration": 65,
    "start_time": "2021-07-25T01:34:06.870Z"
   },
   {
    "duration": 85,
    "start_time": "2021-07-25T01:34:06.937Z"
   },
   {
    "duration": 6,
    "start_time": "2021-07-25T01:34:07.025Z"
   },
   {
    "duration": 6,
    "start_time": "2021-07-25T01:34:07.034Z"
   },
   {
    "duration": 120,
    "start_time": "2021-07-25T01:34:07.043Z"
   },
   {
    "duration": 227,
    "start_time": "2021-07-25T01:34:07.166Z"
   },
   {
    "duration": 728,
    "start_time": "2021-07-25T01:34:07.396Z"
   },
   {
    "duration": 99,
    "start_time": "2021-07-25T01:34:08.030Z"
   },
   {
    "duration": 96,
    "start_time": "2021-07-25T01:34:08.034Z"
   },
   {
    "duration": 94,
    "start_time": "2021-07-25T01:34:08.038Z"
   },
   {
    "duration": 52,
    "start_time": "2021-07-25T01:34:08.081Z"
   },
   {
    "duration": 47,
    "start_time": "2021-07-25T01:34:08.088Z"
   },
   {
    "duration": 41,
    "start_time": "2021-07-25T01:34:08.095Z"
   },
   {
    "duration": 39,
    "start_time": "2021-07-25T01:34:08.099Z"
   },
   {
    "duration": 36,
    "start_time": "2021-07-25T01:34:08.103Z"
   },
   {
    "duration": 34,
    "start_time": "2021-07-25T01:34:08.107Z"
   },
   {
    "duration": 27,
    "start_time": "2021-07-25T01:34:08.115Z"
   },
   {
    "duration": 23,
    "start_time": "2021-07-25T01:34:08.121Z"
   },
   {
    "duration": 20,
    "start_time": "2021-07-25T01:34:08.125Z"
   },
   {
    "duration": 17,
    "start_time": "2021-07-25T01:34:08.129Z"
   },
   {
    "duration": 14,
    "start_time": "2021-07-25T01:34:08.134Z"
   },
   {
    "duration": 12,
    "start_time": "2021-07-25T01:34:08.137Z"
   },
   {
    "duration": 8,
    "start_time": "2021-07-25T01:34:08.142Z"
   },
   {
    "duration": -2,
    "start_time": "2021-07-25T01:34:08.154Z"
   },
   {
    "duration": -7,
    "start_time": "2021-07-25T01:34:08.160Z"
   },
   {
    "duration": -10,
    "start_time": "2021-07-25T01:34:08.164Z"
   },
   {
    "duration": -12,
    "start_time": "2021-07-25T01:34:08.168Z"
   },
   {
    "duration": -15,
    "start_time": "2021-07-25T01:34:08.172Z"
   },
   {
    "duration": -18,
    "start_time": "2021-07-25T01:34:08.176Z"
   },
   {
    "duration": -24,
    "start_time": "2021-07-25T01:34:08.183Z"
   },
   {
    "duration": 14,
    "start_time": "2021-07-25T01:34:08.187Z"
   },
   {
    "duration": 11,
    "start_time": "2021-07-25T01:34:08.191Z"
   },
   {
    "duration": 8,
    "start_time": "2021-07-25T01:34:08.195Z"
   },
   {
    "duration": 6,
    "start_time": "2021-07-25T01:34:08.199Z"
   },
   {
    "duration": -44,
    "start_time": "2021-07-25T01:34:08.250Z"
   },
   {
    "duration": -54,
    "start_time": "2021-07-25T01:34:08.262Z"
   },
   {
    "duration": -58,
    "start_time": "2021-07-25T01:34:08.267Z"
   },
   {
    "duration": -61,
    "start_time": "2021-07-25T01:34:08.271Z"
   },
   {
    "duration": -63,
    "start_time": "2021-07-25T01:34:08.275Z"
   },
   {
    "duration": -68,
    "start_time": "2021-07-25T01:34:08.281Z"
   },
   {
    "duration": -71,
    "start_time": "2021-07-25T01:34:08.285Z"
   },
   {
    "duration": -73,
    "start_time": "2021-07-25T01:34:08.289Z"
   },
   {
    "duration": -76,
    "start_time": "2021-07-25T01:34:08.293Z"
   },
   {
    "duration": -79,
    "start_time": "2021-07-25T01:34:08.297Z"
   },
   {
    "duration": -81,
    "start_time": "2021-07-25T01:34:08.301Z"
   },
   {
    "duration": -83,
    "start_time": "2021-07-25T01:34:08.304Z"
   },
   {
    "duration": -85,
    "start_time": "2021-07-25T01:34:08.308Z"
   },
   {
    "duration": -88,
    "start_time": "2021-07-25T01:34:08.312Z"
   },
   {
    "duration": -91,
    "start_time": "2021-07-25T01:34:08.317Z"
   },
   {
    "duration": -93,
    "start_time": "2021-07-25T01:34:08.320Z"
   },
   {
    "duration": -95,
    "start_time": "2021-07-25T01:34:08.324Z"
   },
   {
    "duration": -99,
    "start_time": "2021-07-25T01:34:08.329Z"
   },
   {
    "duration": -102,
    "start_time": "2021-07-25T01:34:08.334Z"
   },
   {
    "duration": -104,
    "start_time": "2021-07-25T01:34:08.337Z"
   },
   {
    "duration": -108,
    "start_time": "2021-07-25T01:34:08.342Z"
   },
   {
    "duration": -111,
    "start_time": "2021-07-25T01:34:08.346Z"
   },
   {
    "duration": 17,
    "start_time": "2021-07-25T01:34:38.487Z"
   },
   {
    "duration": 450,
    "start_time": "2021-07-25T01:34:38.507Z"
   },
   {
    "duration": 657,
    "start_time": "2021-07-25T01:34:38.961Z"
   },
   {
    "duration": 172,
    "start_time": "2021-07-25T01:34:39.620Z"
   },
   {
    "duration": 160,
    "start_time": "2021-07-25T01:34:39.795Z"
   },
   {
    "duration": 54,
    "start_time": "2021-07-25T01:34:39.957Z"
   },
   {
    "duration": 12,
    "start_time": "2021-07-25T01:34:40.013Z"
   },
   {
    "duration": 644,
    "start_time": "2021-07-25T01:34:40.028Z"
   },
   {
    "duration": 52,
    "start_time": "2021-07-25T01:34:40.676Z"
   },
   {
    "duration": 3129,
    "start_time": "2021-07-25T01:34:40.731Z"
   },
   {
    "duration": 2992,
    "start_time": "2021-07-25T01:34:43.863Z"
   },
   {
    "duration": 2422,
    "start_time": "2021-07-25T01:34:46.858Z"
   },
   {
    "duration": 9479,
    "start_time": "2021-07-25T01:34:49.283Z"
   },
   {
    "duration": 7412,
    "start_time": "2021-07-25T01:34:58.765Z"
   },
   {
    "duration": 10136,
    "start_time": "2021-07-25T01:35:06.180Z"
   },
   {
    "duration": 14897,
    "start_time": "2021-07-25T01:35:16.319Z"
   },
   {
    "duration": 1711,
    "start_time": "2021-07-25T01:35:31.218Z"
   },
   {
    "duration": 3760,
    "start_time": "2021-07-25T01:35:32.932Z"
   },
   {
    "duration": 1011,
    "start_time": "2021-07-25T01:35:36.694Z"
   },
   {
    "duration": 61,
    "start_time": "2021-07-25T01:35:37.707Z"
   },
   {
    "duration": 68,
    "start_time": "2021-07-25T01:35:37.770Z"
   },
   {
    "duration": 582,
    "start_time": "2021-07-25T01:35:37.840Z"
   },
   {
    "duration": 17,
    "start_time": "2021-07-25T01:35:38.425Z"
   },
   {
    "duration": 11,
    "start_time": "2021-07-25T01:35:38.444Z"
   },
   {
    "duration": 8,
    "start_time": "2021-07-25T01:35:38.457Z"
   },
   {
    "duration": 12,
    "start_time": "2021-07-25T01:35:38.467Z"
   },
   {
    "duration": 46,
    "start_time": "2021-07-25T01:35:38.504Z"
   },
   {
    "duration": 59,
    "start_time": "2021-07-25T01:35:38.553Z"
   },
   {
    "duration": 8,
    "start_time": "2021-07-25T01:35:38.615Z"
   },
   {
    "duration": 11,
    "start_time": "2021-07-25T01:35:38.625Z"
   },
   {
    "duration": 21,
    "start_time": "2021-07-25T01:35:38.639Z"
   },
   {
    "duration": 21,
    "start_time": "2021-07-25T01:35:38.700Z"
   },
   {
    "duration": 102,
    "start_time": "2021-07-25T01:35:38.723Z"
   },
   {
    "duration": 33,
    "start_time": "2021-07-25T01:35:38.828Z"
   },
   {
    "duration": 4643,
    "start_time": "2021-07-25T01:35:38.864Z"
   },
   {
    "duration": 1696,
    "start_time": "2021-07-25T01:35:43.510Z"
   },
   {
    "duration": 1526,
    "start_time": "2021-07-25T01:35:45.208Z"
   },
   {
    "duration": 17,
    "start_time": "2021-07-25T01:35:46.736Z"
   },
   {
    "duration": 490,
    "start_time": "2021-07-25T01:35:46.755Z"
   },
   {
    "duration": 8,
    "start_time": "2021-07-25T01:35:47.248Z"
   },
   {
    "duration": 101,
    "start_time": "2021-07-25T01:35:47.258Z"
   },
   {
    "duration": 4,
    "start_time": "2021-07-25T01:35:47.362Z"
   },
   {
    "duration": 6,
    "start_time": "2021-07-25T01:35:47.368Z"
   },
   {
    "duration": 537,
    "start_time": "2021-07-25T01:35:47.376Z"
   },
   {
    "duration": 4,
    "start_time": "2021-07-25T01:35:47.916Z"
   },
   {
    "duration": 8,
    "start_time": "2021-07-25T01:35:47.922Z"
   },
   {
    "duration": 524,
    "start_time": "2021-07-25T01:35:47.932Z"
   },
   {
    "duration": 59,
    "start_time": "2021-07-25T01:35:48.459Z"
   },
   {
    "duration": 574,
    "start_time": "2021-07-25T01:35:48.520Z"
   },
   {
    "duration": 28,
    "start_time": "2021-07-25T01:37:58.513Z"
   },
   {
    "duration": 98,
    "start_time": "2021-07-25T01:43:16.458Z"
   },
   {
    "duration": 84,
    "start_time": "2021-07-25T01:53:52.943Z"
   },
   {
    "duration": 13,
    "start_time": "2021-07-25T01:54:33.925Z"
   },
   {
    "duration": 6299,
    "start_time": "2021-07-25T13:05:11.288Z"
   },
   {
    "duration": 1169,
    "start_time": "2021-07-25T13:05:17.589Z"
   },
   {
    "duration": 2174,
    "start_time": "2021-07-25T13:05:18.760Z"
   },
   {
    "duration": 463,
    "start_time": "2021-07-25T13:05:20.936Z"
   },
   {
    "duration": 5,
    "start_time": "2021-07-25T13:05:21.401Z"
   },
   {
    "duration": 35,
    "start_time": "2021-07-25T13:05:21.408Z"
   },
   {
    "duration": 82,
    "start_time": "2021-07-25T13:05:21.445Z"
   },
   {
    "duration": 1548,
    "start_time": "2021-07-25T13:05:21.529Z"
   },
   {
    "duration": 65,
    "start_time": "2021-07-25T13:05:23.079Z"
   },
   {
    "duration": 21,
    "start_time": "2021-07-25T13:05:23.146Z"
   },
   {
    "duration": 56,
    "start_time": "2021-07-25T13:05:23.169Z"
   },
   {
    "duration": 154,
    "start_time": "2021-07-25T13:05:23.227Z"
   },
   {
    "duration": 118,
    "start_time": "2021-07-25T13:05:23.382Z"
   },
   {
    "duration": 7,
    "start_time": "2021-07-25T13:05:23.501Z"
   },
   {
    "duration": 257,
    "start_time": "2021-07-25T13:05:23.510Z"
   },
   {
    "duration": 13,
    "start_time": "2021-07-25T13:05:23.768Z"
   },
   {
    "duration": 3,
    "start_time": "2021-07-25T13:05:23.791Z"
   },
   {
    "duration": 27,
    "start_time": "2021-07-25T13:05:23.795Z"
   },
   {
    "duration": 45,
    "start_time": "2021-07-25T13:05:23.823Z"
   },
   {
    "duration": 23,
    "start_time": "2021-07-25T13:05:23.869Z"
   },
   {
    "duration": 5,
    "start_time": "2021-07-25T13:05:23.893Z"
   },
   {
    "duration": 67,
    "start_time": "2021-07-25T13:05:23.899Z"
   },
   {
    "duration": 153,
    "start_time": "2021-07-25T13:05:23.969Z"
   },
   {
    "duration": 418,
    "start_time": "2021-07-25T13:05:24.125Z"
   },
   {
    "duration": 11,
    "start_time": "2021-07-25T13:05:24.545Z"
   },
   {
    "duration": 280,
    "start_time": "2021-07-25T13:05:24.557Z"
   },
   {
    "duration": 407,
    "start_time": "2021-07-25T13:05:24.839Z"
   },
   {
    "duration": 15,
    "start_time": "2021-07-25T13:05:25.247Z"
   },
   {
    "duration": 123,
    "start_time": "2021-07-25T13:05:25.263Z"
   },
   {
    "duration": 100,
    "start_time": "2021-07-25T13:05:25.391Z"
   },
   {
    "duration": 22,
    "start_time": "2021-07-25T13:05:25.493Z"
   },
   {
    "duration": 7,
    "start_time": "2021-07-25T13:05:25.517Z"
   },
   {
    "duration": 444,
    "start_time": "2021-07-25T13:05:25.526Z"
   },
   {
    "duration": 34,
    "start_time": "2021-07-25T13:05:25.971Z"
   },
   {
    "duration": 1943,
    "start_time": "2021-07-25T13:05:26.007Z"
   },
   {
    "duration": 1807,
    "start_time": "2021-07-25T13:05:27.952Z"
   },
   {
    "duration": 1366,
    "start_time": "2021-07-25T13:05:29.761Z"
   },
   {
    "duration": 5740,
    "start_time": "2021-07-25T13:05:31.129Z"
   },
   {
    "duration": 4613,
    "start_time": "2021-07-25T13:05:36.870Z"
   },
   {
    "duration": 6478,
    "start_time": "2021-07-25T13:05:41.484Z"
   },
   {
    "duration": 9838,
    "start_time": "2021-07-25T13:05:47.963Z"
   },
   {
    "duration": 1071,
    "start_time": "2021-07-25T13:05:57.803Z"
   },
   {
    "duration": 2337,
    "start_time": "2021-07-25T13:05:58.875Z"
   },
   {
    "duration": 545,
    "start_time": "2021-07-25T13:06:01.214Z"
   },
   {
    "duration": 48,
    "start_time": "2021-07-25T13:06:01.760Z"
   },
   {
    "duration": 30,
    "start_time": "2021-07-25T13:06:01.809Z"
   },
   {
    "duration": 401,
    "start_time": "2021-07-25T13:06:01.841Z"
   },
   {
    "duration": 12,
    "start_time": "2021-07-25T13:06:02.244Z"
   },
   {
    "duration": 8,
    "start_time": "2021-07-25T13:06:02.257Z"
   },
   {
    "duration": 8,
    "start_time": "2021-07-25T13:06:02.266Z"
   },
   {
    "duration": 16,
    "start_time": "2021-07-25T13:06:02.276Z"
   },
   {
    "duration": 35,
    "start_time": "2021-07-25T13:06:02.293Z"
   },
   {
    "duration": 29,
    "start_time": "2021-07-25T13:06:02.329Z"
   },
   {
    "duration": 5,
    "start_time": "2021-07-25T13:06:02.360Z"
   },
   {
    "duration": 8,
    "start_time": "2021-07-25T13:06:02.366Z"
   },
   {
    "duration": 13,
    "start_time": "2021-07-25T13:06:02.391Z"
   },
   {
    "duration": 11,
    "start_time": "2021-07-25T13:06:02.406Z"
   },
   {
    "duration": 73,
    "start_time": "2021-07-25T13:06:02.418Z"
   },
   {
    "duration": 20,
    "start_time": "2021-07-25T13:06:02.493Z"
   },
   {
    "duration": 2948,
    "start_time": "2021-07-25T13:06:02.515Z"
   },
   {
    "duration": 1092,
    "start_time": "2021-07-25T13:06:05.465Z"
   },
   {
    "duration": 932,
    "start_time": "2021-07-25T13:06:06.559Z"
   },
   {
    "duration": 11,
    "start_time": "2021-07-25T13:06:07.493Z"
   },
   {
    "duration": 267,
    "start_time": "2021-07-25T13:06:07.506Z"
   },
   {
    "duration": 16,
    "start_time": "2021-07-25T13:06:07.775Z"
   },
   {
    "duration": 50,
    "start_time": "2021-07-25T13:06:07.793Z"
   },
   {
    "duration": 4,
    "start_time": "2021-07-25T13:06:07.844Z"
   },
   {
    "duration": 3,
    "start_time": "2021-07-25T13:06:07.853Z"
   },
   {
    "duration": 325,
    "start_time": "2021-07-25T13:06:07.858Z"
   },
   {
    "duration": 7,
    "start_time": "2021-07-25T13:06:08.185Z"
   },
   {
    "duration": 9,
    "start_time": "2021-07-25T13:06:08.194Z"
   },
   {
    "duration": 398,
    "start_time": "2021-07-25T13:06:08.205Z"
   },
   {
    "duration": 35,
    "start_time": "2021-07-25T13:06:08.605Z"
   },
   {
    "duration": 394,
    "start_time": "2021-07-25T13:06:08.641Z"
   },
   {
    "duration": 121,
    "start_time": "2021-07-25T13:20:38.549Z"
   },
   {
    "duration": 340,
    "start_time": "2021-07-25T13:20:39.169Z"
   },
   {
    "duration": 24,
    "start_time": "2021-07-25T13:20:39.511Z"
   },
   {
    "duration": 2042,
    "start_time": "2021-07-25T13:20:39.537Z"
   },
   {
    "duration": 1710,
    "start_time": "2021-07-25T13:20:41.581Z"
   },
   {
    "duration": 1343,
    "start_time": "2021-07-25T13:20:43.293Z"
   },
   {
    "duration": 6130,
    "start_time": "2021-07-25T13:20:44.638Z"
   },
   {
    "duration": 4607,
    "start_time": "2021-07-25T13:20:50.770Z"
   },
   {
    "duration": 6707,
    "start_time": "2021-07-25T13:20:55.379Z"
   },
   {
    "duration": 9397,
    "start_time": "2021-07-25T13:21:02.091Z"
   },
   {
    "duration": 1064,
    "start_time": "2021-07-25T13:21:11.492Z"
   },
   {
    "duration": 2364,
    "start_time": "2021-07-25T13:21:12.558Z"
   },
   {
    "duration": 510,
    "start_time": "2021-07-25T13:21:14.924Z"
   },
   {
    "duration": 41,
    "start_time": "2021-07-25T13:21:15.435Z"
   },
   {
    "duration": 38,
    "start_time": "2021-07-25T13:21:15.478Z"
   },
   {
    "duration": 7,
    "start_time": "2021-07-25T13:22:49.654Z"
   },
   {
    "duration": 341,
    "start_time": "2021-07-25T13:22:50.229Z"
   },
   {
    "duration": 22,
    "start_time": "2021-07-25T13:22:50.572Z"
   },
   {
    "duration": 1869,
    "start_time": "2021-07-25T13:22:50.599Z"
   },
   {
    "duration": 1787,
    "start_time": "2021-07-25T13:22:52.470Z"
   },
   {
    "duration": 1376,
    "start_time": "2021-07-25T13:22:54.259Z"
   },
   {
    "duration": 6393,
    "start_time": "2021-07-25T13:22:55.636Z"
   },
   {
    "duration": 4762,
    "start_time": "2021-07-25T13:23:02.031Z"
   },
   {
    "duration": 6655,
    "start_time": "2021-07-25T13:23:06.795Z"
   },
   {
    "duration": 9582,
    "start_time": "2021-07-25T13:23:13.451Z"
   },
   {
    "duration": 1008,
    "start_time": "2021-07-25T13:23:23.035Z"
   },
   {
    "duration": 2507,
    "start_time": "2021-07-25T13:23:24.045Z"
   },
   {
    "duration": 680,
    "start_time": "2021-07-25T13:23:26.554Z"
   },
   {
    "duration": 39,
    "start_time": "2021-07-25T13:23:27.236Z"
   },
   {
    "duration": 8,
    "start_time": "2021-07-25T13:24:17.531Z"
   },
   {
    "duration": 333,
    "start_time": "2021-07-25T13:24:19.255Z"
   },
   {
    "duration": 24,
    "start_time": "2021-07-25T13:24:19.592Z"
   },
   {
    "duration": 1856,
    "start_time": "2021-07-25T13:24:19.761Z"
   },
   {
    "duration": 1698,
    "start_time": "2021-07-25T13:24:21.618Z"
   },
   {
    "duration": 1354,
    "start_time": "2021-07-25T13:24:23.318Z"
   },
   {
    "duration": 6262,
    "start_time": "2021-07-25T13:24:24.673Z"
   },
   {
    "duration": 4492,
    "start_time": "2021-07-25T13:24:30.936Z"
   },
   {
    "duration": 6275,
    "start_time": "2021-07-25T13:24:35.429Z"
   },
   {
    "duration": 9925,
    "start_time": "2021-07-25T13:24:41.705Z"
   },
   {
    "duration": 1030,
    "start_time": "2021-07-25T13:24:51.632Z"
   },
   {
    "duration": 2364,
    "start_time": "2021-07-25T13:24:52.664Z"
   },
   {
    "duration": 687,
    "start_time": "2021-07-25T13:24:55.030Z"
   },
   {
    "duration": 38,
    "start_time": "2021-07-25T13:24:55.719Z"
   },
   {
    "duration": 42,
    "start_time": "2021-07-25T13:24:55.759Z"
   },
   {
    "duration": 8,
    "start_time": "2021-07-25T13:25:26.432Z"
   },
   {
    "duration": 338,
    "start_time": "2021-07-25T13:25:26.828Z"
   },
   {
    "duration": 24,
    "start_time": "2021-07-25T13:25:27.168Z"
   },
   {
    "duration": 1890,
    "start_time": "2021-07-25T13:25:27.314Z"
   },
   {
    "duration": 1706,
    "start_time": "2021-07-25T13:25:29.206Z"
   },
   {
    "duration": 1475,
    "start_time": "2021-07-25T13:25:30.914Z"
   },
   {
    "duration": 6460,
    "start_time": "2021-07-25T13:25:32.392Z"
   },
   {
    "duration": 4604,
    "start_time": "2021-07-25T13:25:38.853Z"
   },
   {
    "duration": 6419,
    "start_time": "2021-07-25T13:25:43.459Z"
   },
   {
    "duration": 9885,
    "start_time": "2021-07-25T13:25:49.880Z"
   },
   {
    "duration": 1036,
    "start_time": "2021-07-25T13:25:59.767Z"
   },
   {
    "duration": 2399,
    "start_time": "2021-07-25T13:26:00.805Z"
   },
   {
    "duration": 672,
    "start_time": "2021-07-25T13:26:03.206Z"
   },
   {
    "duration": 38,
    "start_time": "2021-07-25T13:26:03.879Z"
   },
   {
    "duration": 28,
    "start_time": "2021-07-25T13:26:03.919Z"
   },
   {
    "duration": 7,
    "start_time": "2021-07-25T13:27:41.133Z"
   },
   {
    "duration": 344,
    "start_time": "2021-07-25T13:27:41.877Z"
   },
   {
    "duration": 22,
    "start_time": "2021-07-25T13:27:42.223Z"
   },
   {
    "duration": 2074,
    "start_time": "2021-07-25T13:27:42.247Z"
   },
   {
    "duration": 1721,
    "start_time": "2021-07-25T13:27:44.323Z"
   },
   {
    "duration": 1359,
    "start_time": "2021-07-25T13:27:46.046Z"
   },
   {
    "duration": 6691,
    "start_time": "2021-07-25T13:27:47.406Z"
   },
   {
    "duration": 4568,
    "start_time": "2021-07-25T13:27:54.098Z"
   },
   {
    "duration": 6484,
    "start_time": "2021-07-25T13:27:58.668Z"
   },
   {
    "duration": 10233,
    "start_time": "2021-07-25T13:28:05.153Z"
   },
   {
    "duration": 1287,
    "start_time": "2021-07-25T13:28:15.388Z"
   },
   {
    "duration": 2362,
    "start_time": "2021-07-25T13:28:16.677Z"
   },
   {
    "duration": 677,
    "start_time": "2021-07-25T13:28:19.040Z"
   },
   {
    "duration": 36,
    "start_time": "2021-07-25T13:28:19.719Z"
   },
   {
    "duration": 37,
    "start_time": "2021-07-25T13:28:19.756Z"
   },
   {
    "duration": 7,
    "start_time": "2021-07-25T13:30:56.593Z"
   },
   {
    "duration": 362,
    "start_time": "2021-07-25T13:30:56.961Z"
   },
   {
    "duration": 22,
    "start_time": "2021-07-25T13:30:57.324Z"
   },
   {
    "duration": 1957,
    "start_time": "2021-07-25T13:30:57.348Z"
   },
   {
    "duration": 1813,
    "start_time": "2021-07-25T13:30:59.307Z"
   },
   {
    "duration": 1381,
    "start_time": "2021-07-25T13:31:01.122Z"
   },
   {
    "duration": 6702,
    "start_time": "2021-07-25T13:31:02.505Z"
   },
   {
    "duration": 4580,
    "start_time": "2021-07-25T13:31:09.208Z"
   },
   {
    "duration": 6356,
    "start_time": "2021-07-25T13:31:13.791Z"
   },
   {
    "duration": 10410,
    "start_time": "2021-07-25T13:31:20.148Z"
   },
   {
    "duration": 1191,
    "start_time": "2021-07-25T13:31:30.560Z"
   },
   {
    "duration": 2395,
    "start_time": "2021-07-25T13:31:31.753Z"
   },
   {
    "duration": 680,
    "start_time": "2021-07-25T13:31:34.150Z"
   },
   {
    "duration": 37,
    "start_time": "2021-07-25T13:31:34.831Z"
   },
   {
    "duration": 8,
    "start_time": "2021-07-25T13:34:01.394Z"
   },
   {
    "duration": 335,
    "start_time": "2021-07-25T13:34:01.744Z"
   },
   {
    "duration": 20,
    "start_time": "2021-07-25T13:34:02.080Z"
   },
   {
    "duration": 2040,
    "start_time": "2021-07-25T13:34:02.102Z"
   },
   {
    "duration": 1734,
    "start_time": "2021-07-25T13:34:04.143Z"
   },
   {
    "duration": 1358,
    "start_time": "2021-07-25T13:34:05.880Z"
   },
   {
    "duration": 6978,
    "start_time": "2021-07-25T13:34:07.240Z"
   },
   {
    "duration": 4704,
    "start_time": "2021-07-25T13:34:14.220Z"
   },
   {
    "duration": 6609,
    "start_time": "2021-07-25T13:34:18.926Z"
   },
   {
    "duration": 10320,
    "start_time": "2021-07-25T13:34:25.537Z"
   },
   {
    "duration": 1277,
    "start_time": "2021-07-25T13:34:35.859Z"
   },
   {
    "duration": 2405,
    "start_time": "2021-07-25T13:34:37.138Z"
   },
   {
    "duration": 694,
    "start_time": "2021-07-25T13:34:39.545Z"
   },
   {
    "duration": 41,
    "start_time": "2021-07-25T13:34:40.240Z"
   },
   {
    "duration": 34,
    "start_time": "2021-07-25T13:34:40.283Z"
   },
   {
    "duration": 8,
    "start_time": "2021-07-25T13:39:20.305Z"
   },
   {
    "duration": 338,
    "start_time": "2021-07-25T13:39:21.201Z"
   },
   {
    "duration": 22,
    "start_time": "2021-07-25T13:39:21.737Z"
   },
   {
    "duration": 2221,
    "start_time": "2021-07-25T13:39:21.936Z"
   },
   {
    "duration": 1754,
    "start_time": "2021-07-25T13:39:24.159Z"
   },
   {
    "duration": 1395,
    "start_time": "2021-07-25T13:39:25.915Z"
   },
   {
    "duration": 7623,
    "start_time": "2021-07-25T13:39:27.312Z"
   },
   {
    "duration": 4812,
    "start_time": "2021-07-25T13:39:34.937Z"
   },
   {
    "duration": 7002,
    "start_time": "2021-07-25T13:39:39.750Z"
   },
   {
    "duration": 10704,
    "start_time": "2021-07-25T13:39:46.753Z"
   },
   {
    "duration": 1260,
    "start_time": "2021-07-25T13:39:57.459Z"
   },
   {
    "duration": 2705,
    "start_time": "2021-07-25T13:39:58.720Z"
   },
   {
    "duration": 683,
    "start_time": "2021-07-25T13:40:01.427Z"
   },
   {
    "duration": 35,
    "start_time": "2021-07-25T13:40:02.112Z"
   },
   {
    "duration": 43,
    "start_time": "2021-07-25T13:40:02.148Z"
   },
   {
    "duration": 8,
    "start_time": "2021-07-25T13:44:39.940Z"
   },
   {
    "duration": 334,
    "start_time": "2021-07-25T13:44:40.342Z"
   },
   {
    "duration": 20,
    "start_time": "2021-07-25T13:44:40.678Z"
   },
   {
    "duration": 2371,
    "start_time": "2021-07-25T13:44:40.700Z"
   },
   {
    "duration": 1699,
    "start_time": "2021-07-25T13:44:43.072Z"
   },
   {
    "duration": 1372,
    "start_time": "2021-07-25T13:44:44.773Z"
   },
   {
    "duration": 7886,
    "start_time": "2021-07-25T13:44:46.147Z"
   },
   {
    "duration": 5176,
    "start_time": "2021-07-25T13:44:54.035Z"
   },
   {
    "duration": 7251,
    "start_time": "2021-07-25T13:44:59.213Z"
   },
   {
    "duration": 10773,
    "start_time": "2021-07-25T13:45:06.466Z"
   },
   {
    "duration": 1252,
    "start_time": "2021-07-25T13:45:17.242Z"
   },
   {
    "duration": 2523,
    "start_time": "2021-07-25T13:45:18.495Z"
   },
   {
    "duration": 677,
    "start_time": "2021-07-25T13:45:21.020Z"
   },
   {
    "duration": 33,
    "start_time": "2021-07-25T13:45:21.698Z"
   },
   {
    "duration": 26,
    "start_time": "2021-07-25T13:45:21.733Z"
   },
   {
    "duration": 9,
    "start_time": "2021-07-25T13:45:58.727Z"
   },
   {
    "duration": 8117,
    "start_time": "2021-07-25T13:46:01.770Z"
   },
   {
    "duration": 32,
    "start_time": "2021-07-25T13:46:09.892Z"
   },
   {
    "duration": 29,
    "start_time": "2021-07-25T13:46:09.926Z"
   },
   {
    "duration": 9,
    "start_time": "2021-07-25T13:47:50.370Z"
   },
   {
    "duration": 340,
    "start_time": "2021-07-25T13:47:50.765Z"
   },
   {
    "duration": 19,
    "start_time": "2021-07-25T13:47:51.107Z"
   },
   {
    "duration": 2425,
    "start_time": "2021-07-25T13:47:51.260Z"
   },
   {
    "duration": 1713,
    "start_time": "2021-07-25T13:47:53.691Z"
   },
   {
    "duration": 1378,
    "start_time": "2021-07-25T13:47:55.406Z"
   },
   {
    "duration": 8462,
    "start_time": "2021-07-25T13:47:56.786Z"
   },
   {
    "duration": 5361,
    "start_time": "2021-07-25T13:48:05.250Z"
   },
   {
    "duration": 7579,
    "start_time": "2021-07-25T13:48:10.613Z"
   },
   {
    "duration": 10700,
    "start_time": "2021-07-25T13:48:18.193Z"
   },
   {
    "duration": 1244,
    "start_time": "2021-07-25T13:48:28.896Z"
   },
   {
    "duration": 2600,
    "start_time": "2021-07-25T13:48:30.142Z"
   },
   {
    "duration": 678,
    "start_time": "2021-07-25T13:48:32.744Z"
   },
   {
    "duration": 31,
    "start_time": "2021-07-25T13:48:33.424Z"
   },
   {
    "duration": 44,
    "start_time": "2021-07-25T13:48:33.457Z"
   },
   {
    "duration": 9,
    "start_time": "2021-07-25T14:39:35.595Z"
   },
   {
    "duration": 335,
    "start_time": "2021-07-25T14:39:36.051Z"
   },
   {
    "duration": 20,
    "start_time": "2021-07-25T14:39:36.387Z"
   },
   {
    "duration": 2367,
    "start_time": "2021-07-25T14:39:36.409Z"
   },
   {
    "duration": 1722,
    "start_time": "2021-07-25T14:39:38.778Z"
   },
   {
    "duration": 1391,
    "start_time": "2021-07-25T14:39:40.502Z"
   },
   {
    "duration": 8462,
    "start_time": "2021-07-25T14:39:41.895Z"
   },
   {
    "duration": 5236,
    "start_time": "2021-07-25T14:39:50.359Z"
   },
   {
    "duration": 7246,
    "start_time": "2021-07-25T14:39:55.597Z"
   },
   {
    "duration": 10932,
    "start_time": "2021-07-25T14:40:02.844Z"
   },
   {
    "duration": 1283,
    "start_time": "2021-07-25T14:40:13.778Z"
   },
   {
    "duration": 2772,
    "start_time": "2021-07-25T14:40:15.062Z"
   },
   {
    "duration": 773,
    "start_time": "2021-07-25T14:40:17.835Z"
   },
   {
    "duration": 26,
    "start_time": "2021-07-25T14:40:18.609Z"
   },
   {
    "duration": 9,
    "start_time": "2021-07-25T15:04:18.630Z"
   },
   {
    "duration": 333,
    "start_time": "2021-07-25T15:04:18.870Z"
   },
   {
    "duration": 21,
    "start_time": "2021-07-25T15:04:19.205Z"
   },
   {
    "duration": 2932,
    "start_time": "2021-07-25T15:04:19.228Z"
   },
   {
    "duration": 1729,
    "start_time": "2021-07-25T15:04:22.162Z"
   },
   {
    "duration": 1374,
    "start_time": "2021-07-25T15:04:23.893Z"
   },
   {
    "duration": 8734,
    "start_time": "2021-07-25T15:04:25.269Z"
   },
   {
    "duration": 5856,
    "start_time": "2021-07-25T15:04:34.004Z"
   },
   {
    "duration": 7251,
    "start_time": "2021-07-25T15:04:39.861Z"
   },
   {
    "duration": 11263,
    "start_time": "2021-07-25T15:04:47.113Z"
   },
   {
    "duration": 1261,
    "start_time": "2021-07-25T15:04:58.378Z"
   },
   {
    "duration": 2805,
    "start_time": "2021-07-25T15:04:59.641Z"
   },
   {
    "duration": 686,
    "start_time": "2021-07-25T15:05:02.447Z"
   },
   {
    "duration": 26,
    "start_time": "2021-07-25T15:05:03.135Z"
   },
   {
    "duration": 39,
    "start_time": "2021-07-25T15:05:03.163Z"
   },
   {
    "duration": 9,
    "start_time": "2021-07-25T15:42:07.534Z"
   },
   {
    "duration": 336,
    "start_time": "2021-07-25T15:42:07.865Z"
   },
   {
    "duration": 20,
    "start_time": "2021-07-25T15:42:08.203Z"
   },
   {
    "duration": 2882,
    "start_time": "2021-07-25T15:42:08.225Z"
   },
   {
    "duration": 1725,
    "start_time": "2021-07-25T15:42:11.109Z"
   },
   {
    "duration": 1371,
    "start_time": "2021-07-25T15:42:12.836Z"
   },
   {
    "duration": 8988,
    "start_time": "2021-07-25T15:42:14.209Z"
   },
   {
    "duration": 5403,
    "start_time": "2021-07-25T15:42:23.198Z"
   },
   {
    "duration": 7397,
    "start_time": "2021-07-25T15:42:28.603Z"
   },
   {
    "duration": 11109,
    "start_time": "2021-07-25T15:42:36.001Z"
   },
   {
    "duration": 1348,
    "start_time": "2021-07-25T15:42:47.112Z"
   },
   {
    "duration": 3057,
    "start_time": "2021-07-25T15:42:48.462Z"
   },
   {
    "duration": 681,
    "start_time": "2021-07-25T15:42:51.521Z"
   },
   {
    "duration": 28,
    "start_time": "2021-07-25T15:42:52.204Z"
   },
   {
    "duration": 9,
    "start_time": "2021-07-25T16:13:38.625Z"
   },
   {
    "duration": 348,
    "start_time": "2021-07-25T16:13:39.339Z"
   },
   {
    "duration": 20,
    "start_time": "2021-07-25T16:13:39.689Z"
   },
   {
    "duration": 2911,
    "start_time": "2021-07-25T16:13:39.711Z"
   },
   {
    "duration": 1716,
    "start_time": "2021-07-25T16:13:42.624Z"
   },
   {
    "duration": 1371,
    "start_time": "2021-07-25T16:13:44.342Z"
   },
   {
    "duration": 8832,
    "start_time": "2021-07-25T16:13:45.715Z"
   },
   {
    "duration": 5818,
    "start_time": "2021-07-25T16:13:54.549Z"
   },
   {
    "duration": 7168,
    "start_time": "2021-07-25T16:14:00.369Z"
   },
   {
    "duration": 11624,
    "start_time": "2021-07-25T16:14:07.539Z"
   },
   {
    "duration": 1369,
    "start_time": "2021-07-25T16:14:19.166Z"
   },
   {
    "duration": 3106,
    "start_time": "2021-07-25T16:14:20.536Z"
   },
   {
    "duration": 677,
    "start_time": "2021-07-25T16:14:23.644Z"
   },
   {
    "duration": 19,
    "start_time": "2021-07-25T16:14:24.323Z"
   },
   {
    "duration": 15,
    "start_time": "2021-07-25T16:14:24.343Z"
   },
   {
    "duration": 9034,
    "start_time": "2021-07-26T12:01:07.859Z"
   },
   {
    "duration": 1538,
    "start_time": "2021-07-26T12:01:16.896Z"
   },
   {
    "duration": 1212,
    "start_time": "2021-07-26T12:01:18.438Z"
   },
   {
    "duration": 774,
    "start_time": "2021-07-26T12:01:19.653Z"
   },
   {
    "duration": 8,
    "start_time": "2021-07-26T12:01:20.430Z"
   },
   {
    "duration": 52,
    "start_time": "2021-07-26T12:01:20.440Z"
   },
   {
    "duration": 119,
    "start_time": "2021-07-26T12:01:20.495Z"
   },
   {
    "duration": 3219,
    "start_time": "2021-07-26T12:01:20.616Z"
   },
   {
    "duration": 99,
    "start_time": "2021-07-26T12:01:23.839Z"
   },
   {
    "duration": 50,
    "start_time": "2021-07-26T12:01:23.942Z"
   },
   {
    "duration": 61,
    "start_time": "2021-07-26T12:01:23.994Z"
   },
   {
    "duration": 243,
    "start_time": "2021-07-26T12:01:24.057Z"
   },
   {
    "duration": 193,
    "start_time": "2021-07-26T12:01:24.302Z"
   },
   {
    "duration": 8,
    "start_time": "2021-07-26T12:01:24.497Z"
   },
   {
    "duration": 474,
    "start_time": "2021-07-26T12:01:24.508Z"
   },
   {
    "duration": 22,
    "start_time": "2021-07-26T12:01:24.985Z"
   },
   {
    "duration": 8,
    "start_time": "2021-07-26T12:01:25.011Z"
   },
   {
    "duration": 70,
    "start_time": "2021-07-26T12:01:25.022Z"
   },
   {
    "duration": 68,
    "start_time": "2021-07-26T12:01:25.094Z"
   },
   {
    "duration": 24,
    "start_time": "2021-07-26T12:01:25.164Z"
   },
   {
    "duration": 9,
    "start_time": "2021-07-26T12:01:25.191Z"
   },
   {
    "duration": 174,
    "start_time": "2021-07-26T12:01:25.202Z"
   },
   {
    "duration": 324,
    "start_time": "2021-07-26T12:01:25.382Z"
   },
   {
    "duration": 1124,
    "start_time": "2021-07-26T12:01:25.709Z"
   },
   {
    "duration": 17,
    "start_time": "2021-07-26T12:01:26.836Z"
   },
   {
    "duration": 496,
    "start_time": "2021-07-26T12:01:26.855Z"
   },
   {
    "duration": 738,
    "start_time": "2021-07-26T12:01:27.357Z"
   },
   {
    "duration": 22,
    "start_time": "2021-07-26T12:01:28.099Z"
   },
   {
    "duration": 195,
    "start_time": "2021-07-26T12:01:28.124Z"
   },
   {
    "duration": 165,
    "start_time": "2021-07-26T12:01:28.321Z"
   },
   {
    "duration": 47,
    "start_time": "2021-07-26T12:01:28.488Z"
   },
   {
    "duration": 14,
    "start_time": "2021-07-26T12:01:28.537Z"
   },
   {
    "duration": 711,
    "start_time": "2021-07-26T12:01:28.553Z"
   },
   {
    "duration": 49,
    "start_time": "2021-07-26T12:01:29.267Z"
   },
   {
    "duration": 5384,
    "start_time": "2021-07-26T12:01:29.318Z"
   },
   {
    "duration": 3145,
    "start_time": "2021-07-26T12:01:34.704Z"
   },
   {
    "duration": 2536,
    "start_time": "2021-07-26T12:01:37.851Z"
   },
   {
    "duration": 16066,
    "start_time": "2021-07-26T12:01:40.389Z"
   },
   {
    "duration": 10066,
    "start_time": "2021-07-26T12:01:56.458Z"
   },
   {
    "duration": 13409,
    "start_time": "2021-07-26T12:02:06.527Z"
   },
   {
    "duration": 20567,
    "start_time": "2021-07-26T12:02:19.939Z"
   },
   {
    "duration": 2516,
    "start_time": "2021-07-26T12:02:40.508Z"
   },
   {
    "duration": 5632,
    "start_time": "2021-07-26T12:02:43.026Z"
   },
   {
    "duration": 1248,
    "start_time": "2021-07-26T12:02:48.661Z"
   },
   {
    "duration": 33,
    "start_time": "2021-07-26T12:02:49.911Z"
   },
   {
    "duration": 48,
    "start_time": "2021-07-26T12:02:49.946Z"
   },
   {
    "duration": 653,
    "start_time": "2021-07-26T12:02:49.997Z"
   },
   {
    "duration": 30,
    "start_time": "2021-07-26T12:02:50.653Z"
   },
   {
    "duration": 12,
    "start_time": "2021-07-26T12:02:50.685Z"
   },
   {
    "duration": 6,
    "start_time": "2021-07-26T12:02:50.699Z"
   },
   {
    "duration": 19,
    "start_time": "2021-07-26T12:02:50.708Z"
   },
   {
    "duration": 63,
    "start_time": "2021-07-26T12:02:50.730Z"
   },
   {
    "duration": 49,
    "start_time": "2021-07-26T12:02:50.795Z"
   },
   {
    "duration": 6,
    "start_time": "2021-07-26T12:02:50.846Z"
   },
   {
    "duration": 29,
    "start_time": "2021-07-26T12:02:50.854Z"
   },
   {
    "duration": 21,
    "start_time": "2021-07-26T12:02:50.886Z"
   },
   {
    "duration": 29,
    "start_time": "2021-07-26T12:02:50.910Z"
   },
   {
    "duration": 122,
    "start_time": "2021-07-26T12:02:50.942Z"
   },
   {
    "duration": 34,
    "start_time": "2021-07-26T12:02:51.066Z"
   },
   {
    "duration": 4689,
    "start_time": "2021-07-26T12:02:51.102Z"
   },
   {
    "duration": 1914,
    "start_time": "2021-07-26T12:02:55.794Z"
   },
   {
    "duration": 2364,
    "start_time": "2021-07-26T12:02:57.711Z"
   },
   {
    "duration": 24,
    "start_time": "2021-07-26T12:03:00.078Z"
   },
   {
    "duration": 497,
    "start_time": "2021-07-26T12:03:00.105Z"
   },
   {
    "duration": 8,
    "start_time": "2021-07-26T12:03:00.605Z"
   },
   {
    "duration": 111,
    "start_time": "2021-07-26T12:03:00.616Z"
   },
   {
    "duration": 5,
    "start_time": "2021-07-26T12:03:00.730Z"
   },
   {
    "duration": 34,
    "start_time": "2021-07-26T12:03:00.737Z"
   },
   {
    "duration": 578,
    "start_time": "2021-07-26T12:03:00.774Z"
   },
   {
    "duration": 3,
    "start_time": "2021-07-26T12:03:01.354Z"
   },
   {
    "duration": 25,
    "start_time": "2021-07-26T12:03:01.359Z"
   },
   {
    "duration": 578,
    "start_time": "2021-07-26T12:03:01.386Z"
   },
   {
    "duration": 55,
    "start_time": "2021-07-26T12:03:01.966Z"
   },
   {
    "duration": 690,
    "start_time": "2021-07-26T12:03:02.023Z"
   },
   {
    "duration": 18,
    "start_time": "2021-07-26T12:14:29.319Z"
   },
   {
    "duration": 108,
    "start_time": "2021-07-26T12:21:56.052Z"
   },
   {
    "duration": 59,
    "start_time": "2021-07-26T12:22:02.951Z"
   },
   {
    "duration": 9,
    "start_time": "2021-07-26T12:22:08.679Z"
   },
   {
    "duration": 57,
    "start_time": "2021-07-26T12:22:55.227Z"
   },
   {
    "duration": 9,
    "start_time": "2021-07-26T12:22:59.765Z"
   },
   {
    "duration": 59,
    "start_time": "2021-07-26T12:23:50.059Z"
   },
   {
    "duration": 10,
    "start_time": "2021-07-26T12:23:51.485Z"
   },
   {
    "duration": 938,
    "start_time": "2021-07-26T12:24:46.727Z"
   },
   {
    "duration": 3,
    "start_time": "2021-07-26T12:25:14.374Z"
   },
   {
    "duration": 4080,
    "start_time": "2021-07-26T12:25:45.285Z"
   },
   {
    "duration": 261,
    "start_time": "2021-07-26T12:25:53.978Z"
   },
   {
    "duration": 18837,
    "start_time": "2021-07-26T12:26:29.638Z"
   },
   {
    "duration": 286,
    "start_time": "2021-07-26T12:26:51.997Z"
   },
   {
    "duration": 291,
    "start_time": "2021-07-26T12:27:23.229Z"
   },
   {
    "duration": 14,
    "start_time": "2021-07-26T12:28:10.632Z"
   },
   {
    "duration": 293,
    "start_time": "2021-07-26T12:28:52.873Z"
   },
   {
    "duration": 9835,
    "start_time": "2021-07-26T12:30:44.552Z"
   },
   {
    "duration": 299,
    "start_time": "2021-07-26T12:31:05.803Z"
   },
   {
    "duration": 278,
    "start_time": "2021-07-26T12:33:37.103Z"
   },
   {
    "duration": 264,
    "start_time": "2021-07-26T12:34:10.647Z"
   },
   {
    "duration": 305,
    "start_time": "2021-07-26T12:34:21.497Z"
   },
   {
    "duration": 460,
    "start_time": "2021-07-26T12:34:38.367Z"
   },
   {
    "duration": 648,
    "start_time": "2021-07-26T12:36:00.767Z"
   },
   {
    "duration": 797,
    "start_time": "2021-07-26T12:36:34.615Z"
   },
   {
    "duration": 734,
    "start_time": "2021-07-26T12:38:42.539Z"
   },
   {
    "duration": 11,
    "start_time": "2021-07-26T12:39:16.243Z"
   },
   {
    "duration": 996,
    "start_time": "2021-07-26T12:40:20.714Z"
   },
   {
    "duration": 679,
    "start_time": "2021-07-26T12:40:28.852Z"
   },
   {
    "duration": 433,
    "start_time": "2021-07-26T12:42:07.986Z"
   },
   {
    "duration": 9,
    "start_time": "2021-07-26T12:42:47.314Z"
   },
   {
    "duration": 346,
    "start_time": "2021-07-26T12:43:21.286Z"
   },
   {
    "duration": 546,
    "start_time": "2021-07-26T12:44:52.573Z"
   },
   {
    "duration": 5,
    "start_time": "2021-07-26T12:45:17.943Z"
   },
   {
    "duration": 548,
    "start_time": "2021-07-26T12:45:23.221Z"
   },
   {
    "duration": 6,
    "start_time": "2021-07-26T12:45:47.024Z"
   },
   {
    "duration": 529,
    "start_time": "2021-07-26T12:45:49.871Z"
   },
   {
    "duration": 19,
    "start_time": "2021-07-26T13:08:46.206Z"
   },
   {
    "duration": 293,
    "start_time": "2021-07-26T13:09:31.227Z"
   },
   {
    "duration": 103,
    "start_time": "2021-07-26T13:09:38.463Z"
   },
   {
    "duration": 20,
    "start_time": "2021-07-26T13:09:50.204Z"
   },
   {
    "duration": 9,
    "start_time": "2021-07-26T13:10:17.172Z"
   },
   {
    "duration": 68,
    "start_time": "2021-07-26T13:10:44.953Z"
   },
   {
    "duration": 366,
    "start_time": "2021-07-26T13:11:57.426Z"
   },
   {
    "duration": 93,
    "start_time": "2021-07-26T13:12:00.500Z"
   },
   {
    "duration": 20,
    "start_time": "2021-07-26T13:12:02.652Z"
   },
   {
    "duration": 11,
    "start_time": "2021-07-26T13:12:06.680Z"
   },
   {
    "duration": 66,
    "start_time": "2021-07-26T13:12:08.492Z"
   },
   {
    "duration": 28,
    "start_time": "2021-07-26T13:57:20.089Z"
   },
   {
    "duration": 3,
    "start_time": "2021-07-26T14:34:40.921Z"
   },
   {
    "duration": 6789,
    "start_time": "2021-07-26T15:01:15.781Z"
   },
   {
    "duration": 2032,
    "start_time": "2021-07-26T15:01:22.573Z"
   },
   {
    "duration": 889,
    "start_time": "2021-07-26T15:01:24.608Z"
   },
   {
    "duration": 784,
    "start_time": "2021-07-26T15:01:25.500Z"
   },
   {
    "duration": 8,
    "start_time": "2021-07-26T15:01:26.287Z"
   },
   {
    "duration": 46,
    "start_time": "2021-07-26T15:01:26.297Z"
   },
   {
    "duration": 122,
    "start_time": "2021-07-26T15:01:26.346Z"
   },
   {
    "duration": 3210,
    "start_time": "2021-07-26T15:01:26.472Z"
   },
   {
    "duration": 82,
    "start_time": "2021-07-26T15:01:29.685Z"
   },
   {
    "duration": 39,
    "start_time": "2021-07-26T15:01:29.782Z"
   },
   {
    "duration": 87,
    "start_time": "2021-07-26T15:01:29.824Z"
   },
   {
    "duration": 239,
    "start_time": "2021-07-26T15:01:29.914Z"
   },
   {
    "duration": 195,
    "start_time": "2021-07-26T15:01:30.156Z"
   },
   {
    "duration": 8,
    "start_time": "2021-07-26T15:01:30.354Z"
   },
   {
    "duration": 488,
    "start_time": "2021-07-26T15:01:30.364Z"
   },
   {
    "duration": 37,
    "start_time": "2021-07-26T15:01:30.855Z"
   },
   {
    "duration": 13,
    "start_time": "2021-07-26T15:01:30.894Z"
   },
   {
    "duration": 52,
    "start_time": "2021-07-26T15:01:30.910Z"
   },
   {
    "duration": 78,
    "start_time": "2021-07-26T15:01:30.965Z"
   },
   {
    "duration": 6,
    "start_time": "2021-07-26T15:01:31.046Z"
   },
   {
    "duration": 20,
    "start_time": "2021-07-26T15:01:31.054Z"
   },
   {
    "duration": 117,
    "start_time": "2021-07-26T15:01:31.076Z"
   },
   {
    "duration": 244,
    "start_time": "2021-07-26T15:01:31.199Z"
   },
   {
    "duration": 571,
    "start_time": "2021-07-26T15:01:31.447Z"
   },
   {
    "duration": 17,
    "start_time": "2021-07-26T15:01:32.020Z"
   },
   {
    "duration": 466,
    "start_time": "2021-07-26T15:01:32.039Z"
   },
   {
    "duration": 692,
    "start_time": "2021-07-26T15:01:32.508Z"
   },
   {
    "duration": 23,
    "start_time": "2021-07-26T15:01:33.202Z"
   },
   {
    "duration": 195,
    "start_time": "2021-07-26T15:01:33.228Z"
   },
   {
    "duration": 232,
    "start_time": "2021-07-26T15:01:33.426Z"
   },
   {
    "duration": 49,
    "start_time": "2021-07-26T15:01:33.661Z"
   },
   {
    "duration": 13,
    "start_time": "2021-07-26T15:01:33.712Z"
   },
   {
    "duration": 737,
    "start_time": "2021-07-26T15:01:33.728Z"
   },
   {
    "duration": 48,
    "start_time": "2021-07-26T15:01:34.467Z"
   },
   {
    "duration": 5187,
    "start_time": "2021-07-26T15:01:34.517Z"
   },
   {
    "duration": 3085,
    "start_time": "2021-07-26T15:01:39.706Z"
   },
   {
    "duration": 2429,
    "start_time": "2021-07-26T15:01:42.794Z"
   },
   {
    "duration": 16067,
    "start_time": "2021-07-26T15:01:45.226Z"
   },
   {
    "duration": 10202,
    "start_time": "2021-07-26T15:02:01.296Z"
   },
   {
    "duration": 12945,
    "start_time": "2021-07-26T15:02:11.501Z"
   },
   {
    "duration": 19765,
    "start_time": "2021-07-26T15:02:24.449Z"
   },
   {
    "duration": 2459,
    "start_time": "2021-07-26T15:02:44.216Z"
   },
   {
    "duration": 5482,
    "start_time": "2021-07-26T15:02:46.678Z"
   },
   {
    "duration": 1206,
    "start_time": "2021-07-26T15:02:52.163Z"
   },
   {
    "duration": 33,
    "start_time": "2021-07-26T15:02:53.372Z"
   },
   {
    "duration": 23,
    "start_time": "2021-07-26T15:02:53.407Z"
   },
   {
    "duration": 59,
    "start_time": "2021-07-26T15:02:53.433Z"
   },
   {
    "duration": 64,
    "start_time": "2021-07-26T15:02:53.494Z"
   },
   {
    "duration": 5,
    "start_time": "2021-07-26T15:02:53.561Z"
   },
   {
    "duration": 374,
    "start_time": "2021-07-26T15:02:53.583Z"
   },
   {
    "duration": 624,
    "start_time": "2021-07-26T15:02:53.960Z"
   },
   {
    "duration": 16,
    "start_time": "2021-07-26T15:02:54.586Z"
   },
   {
    "duration": 12,
    "start_time": "2021-07-26T15:02:54.605Z"
   },
   {
    "duration": 8,
    "start_time": "2021-07-26T15:02:54.620Z"
   },
   {
    "duration": 7,
    "start_time": "2021-07-26T15:02:54.630Z"
   },
   {
    "duration": 83,
    "start_time": "2021-07-26T15:02:54.639Z"
   },
   {
    "duration": 58,
    "start_time": "2021-07-26T15:02:54.724Z"
   },
   {
    "duration": 8,
    "start_time": "2021-07-26T15:02:54.785Z"
   },
   {
    "duration": 8,
    "start_time": "2021-07-26T15:02:54.797Z"
   },
   {
    "duration": 23,
    "start_time": "2021-07-26T15:02:54.808Z"
   },
   {
    "duration": 68,
    "start_time": "2021-07-26T15:02:54.834Z"
   },
   {
    "duration": 115,
    "start_time": "2021-07-26T15:02:54.905Z"
   },
   {
    "duration": 25,
    "start_time": "2021-07-26T15:02:55.022Z"
   },
   {
    "duration": 3180,
    "start_time": "2021-07-26T15:02:55.049Z"
   },
   {
    "duration": 1521,
    "start_time": "2021-07-26T15:02:58.232Z"
   },
   {
    "duration": -1372,
    "start_time": "2021-07-26T15:03:01.128Z"
   },
   {
    "duration": -1374,
    "start_time": "2021-07-26T15:03:01.132Z"
   },
   {
    "duration": -1377,
    "start_time": "2021-07-26T15:03:01.136Z"
   },
   {
    "duration": -1381,
    "start_time": "2021-07-26T15:03:01.141Z"
   },
   {
    "duration": -1384,
    "start_time": "2021-07-26T15:03:01.146Z"
   },
   {
    "duration": -1389,
    "start_time": "2021-07-26T15:03:01.152Z"
   },
   {
    "duration": -1392,
    "start_time": "2021-07-26T15:03:01.156Z"
   },
   {
    "duration": -1380,
    "start_time": "2021-07-26T15:03:01.161Z"
   },
   {
    "duration": -1382,
    "start_time": "2021-07-26T15:03:01.165Z"
   },
   {
    "duration": -1386,
    "start_time": "2021-07-26T15:03:01.170Z"
   },
   {
    "duration": -1389,
    "start_time": "2021-07-26T15:03:01.175Z"
   },
   {
    "duration": -1393,
    "start_time": "2021-07-26T15:03:01.180Z"
   },
   {
    "duration": -1397,
    "start_time": "2021-07-26T15:03:01.186Z"
   },
   {
    "duration": -1401,
    "start_time": "2021-07-26T15:03:01.191Z"
   },
   {
    "duration": -1404,
    "start_time": "2021-07-26T15:03:01.196Z"
   },
   {
    "duration": -1417,
    "start_time": "2021-07-26T15:03:01.210Z"
   },
   {
    "duration": -1421,
    "start_time": "2021-07-26T15:03:01.215Z"
   },
   {
    "duration": -1425,
    "start_time": "2021-07-26T15:03:01.221Z"
   },
   {
    "duration": 1502,
    "start_time": "2021-07-26T15:10:19.130Z"
   },
   {
    "duration": 7234,
    "start_time": "2021-07-26T15:10:39.042Z"
   },
   {
    "duration": 1625,
    "start_time": "2021-07-26T15:10:46.279Z"
   },
   {
    "duration": 887,
    "start_time": "2021-07-26T15:10:47.907Z"
   },
   {
    "duration": 1263,
    "start_time": "2021-07-26T15:10:48.796Z"
   },
   {
    "duration": 20,
    "start_time": "2021-07-26T15:10:50.062Z"
   },
   {
    "duration": 44,
    "start_time": "2021-07-26T15:10:50.086Z"
   },
   {
    "duration": 208,
    "start_time": "2021-07-26T15:10:50.133Z"
   },
   {
    "duration": 6304,
    "start_time": "2021-07-26T15:10:50.346Z"
   },
   {
    "duration": 158,
    "start_time": "2021-07-26T15:10:56.654Z"
   },
   {
    "duration": 72,
    "start_time": "2021-07-26T15:10:56.816Z"
   },
   {
    "duration": 104,
    "start_time": "2021-07-26T15:10:56.891Z"
   },
   {
    "duration": 384,
    "start_time": "2021-07-26T15:10:56.999Z"
   },
   {
    "duration": 286,
    "start_time": "2021-07-26T15:10:57.387Z"
   },
   {
    "duration": 14,
    "start_time": "2021-07-26T15:10:57.677Z"
   },
   {
    "duration": 744,
    "start_time": "2021-07-26T15:10:57.694Z"
   },
   {
    "duration": 44,
    "start_time": "2021-07-26T15:10:58.442Z"
   },
   {
    "duration": 6,
    "start_time": "2021-07-26T15:10:58.488Z"
   },
   {
    "duration": 43,
    "start_time": "2021-07-26T15:10:58.498Z"
   },
   {
    "duration": 99,
    "start_time": "2021-07-26T15:10:58.545Z"
   },
   {
    "duration": 7,
    "start_time": "2021-07-26T15:10:58.647Z"
   },
   {
    "duration": 7,
    "start_time": "2021-07-26T15:10:58.684Z"
   },
   {
    "duration": 123,
    "start_time": "2021-07-26T15:10:58.695Z"
   },
   {
    "duration": 256,
    "start_time": "2021-07-26T15:10:58.827Z"
   },
   {
    "duration": 495,
    "start_time": "2021-07-26T15:10:59.089Z"
   },
   {
    "duration": 17,
    "start_time": "2021-07-26T15:10:59.587Z"
   },
   {
    "duration": 459,
    "start_time": "2021-07-26T15:10:59.606Z"
   },
   {
    "duration": 736,
    "start_time": "2021-07-26T15:11:00.067Z"
   },
   {
    "duration": 25,
    "start_time": "2021-07-26T15:11:00.806Z"
   },
   {
    "duration": 213,
    "start_time": "2021-07-26T15:11:00.834Z"
   },
   {
    "duration": 167,
    "start_time": "2021-07-26T15:11:01.049Z"
   },
   {
    "duration": 39,
    "start_time": "2021-07-26T15:11:01.218Z"
   },
   {
    "duration": 26,
    "start_time": "2021-07-26T15:11:01.260Z"
   },
   {
    "duration": 803,
    "start_time": "2021-07-26T15:11:01.288Z"
   },
   {
    "duration": 46,
    "start_time": "2021-07-26T15:11:02.094Z"
   },
   {
    "duration": 5145,
    "start_time": "2021-07-26T15:11:02.143Z"
   },
   {
    "duration": 3102,
    "start_time": "2021-07-26T15:11:07.291Z"
   },
   {
    "duration": 2505,
    "start_time": "2021-07-26T15:11:10.395Z"
   },
   {
    "duration": 16102,
    "start_time": "2021-07-26T15:11:12.903Z"
   },
   {
    "duration": 9551,
    "start_time": "2021-07-26T15:11:29.007Z"
   },
   {
    "duration": 12998,
    "start_time": "2021-07-26T15:11:38.560Z"
   },
   {
    "duration": 20286,
    "start_time": "2021-07-26T15:11:51.560Z"
   },
   {
    "duration": 2540,
    "start_time": "2021-07-26T15:12:11.849Z"
   },
   {
    "duration": 5447,
    "start_time": "2021-07-26T15:12:14.392Z"
   },
   {
    "duration": 1178,
    "start_time": "2021-07-26T15:12:19.842Z"
   },
   {
    "duration": 29,
    "start_time": "2021-07-26T15:12:21.023Z"
   },
   {
    "duration": 46,
    "start_time": "2021-07-26T15:12:21.054Z"
   },
   {
    "duration": 24,
    "start_time": "2021-07-26T15:12:21.103Z"
   },
   {
    "duration": 80,
    "start_time": "2021-07-26T15:12:21.130Z"
   },
   {
    "duration": 5,
    "start_time": "2021-07-26T15:12:21.212Z"
   },
   {
    "duration": 434,
    "start_time": "2021-07-26T15:12:21.219Z"
   },
   {
    "duration": 638,
    "start_time": "2021-07-26T15:12:21.655Z"
   },
   {
    "duration": 18,
    "start_time": "2021-07-26T15:12:22.295Z"
   },
   {
    "duration": 18,
    "start_time": "2021-07-26T15:12:22.315Z"
   },
   {
    "duration": 9,
    "start_time": "2021-07-26T15:12:22.335Z"
   },
   {
    "duration": 36,
    "start_time": "2021-07-26T15:12:22.347Z"
   },
   {
    "duration": 55,
    "start_time": "2021-07-26T15:12:22.386Z"
   },
   {
    "duration": 48,
    "start_time": "2021-07-26T15:12:22.443Z"
   },
   {
    "duration": 7,
    "start_time": "2021-07-26T15:12:22.494Z"
   },
   {
    "duration": 10,
    "start_time": "2021-07-26T15:12:22.503Z"
   },
   {
    "duration": 25,
    "start_time": "2021-07-26T15:12:22.515Z"
   },
   {
    "duration": 52,
    "start_time": "2021-07-26T15:12:22.542Z"
   },
   {
    "duration": 97,
    "start_time": "2021-07-26T15:12:22.596Z"
   },
   {
    "duration": 26,
    "start_time": "2021-07-26T15:12:22.696Z"
   },
   {
    "duration": 3193,
    "start_time": "2021-07-26T15:12:22.725Z"
   },
   {
    "duration": 1607,
    "start_time": "2021-07-26T15:12:25.920Z"
   },
   {
    "duration": -1376,
    "start_time": "2021-07-26T15:12:28.907Z"
   },
   {
    "duration": -1381,
    "start_time": "2021-07-26T15:12:28.913Z"
   },
   {
    "duration": -1384,
    "start_time": "2021-07-26T15:12:28.918Z"
   },
   {
    "duration": -1387,
    "start_time": "2021-07-26T15:12:28.922Z"
   },
   {
    "duration": -1391,
    "start_time": "2021-07-26T15:12:28.928Z"
   },
   {
    "duration": -1394,
    "start_time": "2021-07-26T15:12:28.932Z"
   },
   {
    "duration": -1398,
    "start_time": "2021-07-26T15:12:28.938Z"
   },
   {
    "duration": -1401,
    "start_time": "2021-07-26T15:12:28.942Z"
   },
   {
    "duration": -1404,
    "start_time": "2021-07-26T15:12:28.947Z"
   },
   {
    "duration": -1408,
    "start_time": "2021-07-26T15:12:28.952Z"
   },
   {
    "duration": -1412,
    "start_time": "2021-07-26T15:12:28.958Z"
   },
   {
    "duration": -1433,
    "start_time": "2021-07-26T15:12:28.981Z"
   },
   {
    "duration": -1405,
    "start_time": "2021-07-26T15:12:28.987Z"
   },
   {
    "duration": -1413,
    "start_time": "2021-07-26T15:12:28.997Z"
   },
   {
    "duration": -1418,
    "start_time": "2021-07-26T15:12:29.003Z"
   },
   {
    "duration": -1420,
    "start_time": "2021-07-26T15:12:29.007Z"
   },
   {
    "duration": -1428,
    "start_time": "2021-07-26T15:12:29.016Z"
   },
   {
    "duration": -1431,
    "start_time": "2021-07-26T15:12:29.021Z"
   },
   {
    "duration": 3309,
    "start_time": "2021-07-26T15:22:03.015Z"
   },
   {
    "duration": 1410,
    "start_time": "2021-07-26T15:22:07.363Z"
   },
   {
    "duration": 5503,
    "start_time": "2021-07-26T15:22:27.736Z"
   },
   {
    "duration": 6448,
    "start_time": "2021-07-26T15:23:04.105Z"
   },
   {
    "duration": 1493,
    "start_time": "2021-07-26T15:23:20.705Z"
   },
   {
    "duration": 1488,
    "start_time": "2021-07-26T15:23:29.764Z"
   },
   {
    "duration": 18,
    "start_time": "2021-07-26T15:25:11.821Z"
   },
   {
    "duration": 299,
    "start_time": "2021-07-26T15:25:11.842Z"
   },
   {
    "duration": 7,
    "start_time": "2021-07-26T15:25:12.144Z"
   },
   {
    "duration": 104,
    "start_time": "2021-07-26T15:25:12.154Z"
   },
   {
    "duration": 5,
    "start_time": "2021-07-26T15:25:12.260Z"
   },
   {
    "duration": 18,
    "start_time": "2021-07-26T15:25:12.267Z"
   },
   {
    "duration": 396,
    "start_time": "2021-07-26T15:25:12.287Z"
   },
   {
    "duration": 4,
    "start_time": "2021-07-26T15:25:12.686Z"
   },
   {
    "duration": 7,
    "start_time": "2021-07-26T15:25:12.695Z"
   },
   {
    "duration": 119,
    "start_time": "2021-07-26T15:25:12.704Z"
   },
   {
    "duration": -1437,
    "start_time": "2021-07-26T15:25:14.263Z"
   },
   {
    "duration": -1457,
    "start_time": "2021-07-26T15:25:14.285Z"
   },
   {
    "duration": -1480,
    "start_time": "2021-07-26T15:25:14.309Z"
   },
   {
    "duration": -1503,
    "start_time": "2021-07-26T15:25:14.334Z"
   },
   {
    "duration": -1524,
    "start_time": "2021-07-26T15:25:14.356Z"
   },
   {
    "duration": -1528,
    "start_time": "2021-07-26T15:25:14.362Z"
   },
   {
    "duration": -1532,
    "start_time": "2021-07-26T15:25:14.367Z"
   },
   {
    "duration": 377,
    "start_time": "2021-07-26T15:26:01.604Z"
   },
   {
    "duration": 358,
    "start_time": "2021-07-26T15:26:10.800Z"
   },
   {
    "duration": 57,
    "start_time": "2021-07-26T15:26:11.160Z"
   },
   {
    "duration": 662,
    "start_time": "2021-07-26T15:26:11.220Z"
   },
   {
    "duration": 17,
    "start_time": "2021-07-26T15:26:11.885Z"
   },
   {
    "duration": 177,
    "start_time": "2021-07-26T15:26:11.905Z"
   },
   {
    "duration": 19,
    "start_time": "2021-07-26T15:26:12.085Z"
   },
   {
    "duration": 11,
    "start_time": "2021-07-26T15:26:12.107Z"
   },
   {
    "duration": 96,
    "start_time": "2021-07-26T15:26:12.121Z"
   },
   {
    "duration": 6424,
    "start_time": "2021-07-26T15:26:33.368Z"
   },
   {
    "duration": 1548,
    "start_time": "2021-07-26T15:26:39.796Z"
   },
   {
    "duration": 876,
    "start_time": "2021-07-26T15:26:41.347Z"
   },
   {
    "duration": 741,
    "start_time": "2021-07-26T15:26:42.226Z"
   },
   {
    "duration": 16,
    "start_time": "2021-07-26T15:26:42.969Z"
   },
   {
    "duration": 36,
    "start_time": "2021-07-26T15:26:42.988Z"
   },
   {
    "duration": 121,
    "start_time": "2021-07-26T15:26:43.026Z"
   },
   {
    "duration": 3174,
    "start_time": "2021-07-26T15:26:43.151Z"
   },
   {
    "duration": 98,
    "start_time": "2021-07-26T15:26:46.328Z"
   },
   {
    "duration": 40,
    "start_time": "2021-07-26T15:26:46.428Z"
   },
   {
    "duration": 65,
    "start_time": "2021-07-26T15:26:46.483Z"
   },
   {
    "duration": 258,
    "start_time": "2021-07-26T15:26:46.550Z"
   },
   {
    "duration": 194,
    "start_time": "2021-07-26T15:26:46.810Z"
   },
   {
    "duration": 10,
    "start_time": "2021-07-26T15:26:47.007Z"
   },
   {
    "duration": 465,
    "start_time": "2021-07-26T15:26:47.019Z"
   },
   {
    "duration": 24,
    "start_time": "2021-07-26T15:26:47.487Z"
   },
   {
    "duration": 5,
    "start_time": "2021-07-26T15:26:47.514Z"
   },
   {
    "duration": 68,
    "start_time": "2021-07-26T15:26:47.521Z"
   },
   {
    "duration": 68,
    "start_time": "2021-07-26T15:26:47.592Z"
   },
   {
    "duration": 8,
    "start_time": "2021-07-26T15:26:47.684Z"
   },
   {
    "duration": 8,
    "start_time": "2021-07-26T15:26:47.695Z"
   },
   {
    "duration": 130,
    "start_time": "2021-07-26T15:26:47.705Z"
   },
   {
    "duration": 253,
    "start_time": "2021-07-26T15:26:47.841Z"
   },
   {
    "duration": 479,
    "start_time": "2021-07-26T15:26:48.098Z"
   },
   {
    "duration": 17,
    "start_time": "2021-07-26T15:26:48.583Z"
   },
   {
    "duration": 525,
    "start_time": "2021-07-26T15:26:48.603Z"
   },
   {
    "duration": 683,
    "start_time": "2021-07-26T15:26:49.131Z"
   },
   {
    "duration": 23,
    "start_time": "2021-07-26T15:26:49.817Z"
   },
   {
    "duration": 189,
    "start_time": "2021-07-26T15:26:49.842Z"
   },
   {
    "duration": 160,
    "start_time": "2021-07-26T15:26:50.033Z"
   },
   {
    "duration": 37,
    "start_time": "2021-07-26T15:26:50.196Z"
   },
   {
    "duration": 14,
    "start_time": "2021-07-26T15:26:50.236Z"
   },
   {
    "duration": 734,
    "start_time": "2021-07-26T15:26:50.253Z"
   },
   {
    "duration": 46,
    "start_time": "2021-07-26T15:26:50.990Z"
   },
   {
    "duration": 5072,
    "start_time": "2021-07-26T15:26:51.038Z"
   },
   {
    "duration": 3018,
    "start_time": "2021-07-26T15:26:56.113Z"
   },
   {
    "duration": 2364,
    "start_time": "2021-07-26T15:26:59.134Z"
   },
   {
    "duration": 15602,
    "start_time": "2021-07-26T15:27:01.501Z"
   },
   {
    "duration": 9711,
    "start_time": "2021-07-26T15:27:17.105Z"
   },
   {
    "duration": 13972,
    "start_time": "2021-07-26T15:27:26.819Z"
   },
   {
    "duration": 19781,
    "start_time": "2021-07-26T15:27:40.793Z"
   },
   {
    "duration": 2438,
    "start_time": "2021-07-26T15:28:00.577Z"
   },
   {
    "duration": 5280,
    "start_time": "2021-07-26T15:28:03.018Z"
   },
   {
    "duration": 1229,
    "start_time": "2021-07-26T15:28:08.300Z"
   },
   {
    "duration": 37,
    "start_time": "2021-07-26T15:28:09.532Z"
   },
   {
    "duration": 31,
    "start_time": "2021-07-26T15:28:09.572Z"
   },
   {
    "duration": 24,
    "start_time": "2021-07-26T15:28:09.606Z"
   },
   {
    "duration": 69,
    "start_time": "2021-07-26T15:28:09.632Z"
   },
   {
    "duration": 5,
    "start_time": "2021-07-26T15:28:09.703Z"
   },
   {
    "duration": 465,
    "start_time": "2021-07-26T15:28:09.711Z"
   },
   {
    "duration": 924,
    "start_time": "2021-07-26T15:28:10.179Z"
   },
   {
    "duration": 18,
    "start_time": "2021-07-26T15:28:11.106Z"
   },
   {
    "duration": 17,
    "start_time": "2021-07-26T15:28:11.126Z"
   },
   {
    "duration": 4,
    "start_time": "2021-07-26T15:28:11.145Z"
   },
   {
    "duration": 32,
    "start_time": "2021-07-26T15:28:11.151Z"
   },
   {
    "duration": 50,
    "start_time": "2021-07-26T15:28:11.185Z"
   },
   {
    "duration": 62,
    "start_time": "2021-07-26T15:28:11.238Z"
   },
   {
    "duration": 6,
    "start_time": "2021-07-26T15:28:11.303Z"
   },
   {
    "duration": 9,
    "start_time": "2021-07-26T15:28:11.311Z"
   },
   {
    "duration": 24,
    "start_time": "2021-07-26T15:28:11.322Z"
   },
   {
    "duration": 51,
    "start_time": "2021-07-26T15:28:11.349Z"
   },
   {
    "duration": 109,
    "start_time": "2021-07-26T15:28:11.403Z"
   },
   {
    "duration": 24,
    "start_time": "2021-07-26T15:28:11.514Z"
   },
   {
    "duration": 6372,
    "start_time": "2021-07-26T15:28:11.540Z"
   },
   {
    "duration": 1548,
    "start_time": "2021-07-26T15:28:17.914Z"
   },
   {
    "duration": -1375,
    "start_time": "2021-07-26T15:28:20.840Z"
   },
   {
    "duration": -1380,
    "start_time": "2021-07-26T15:28:20.846Z"
   },
   {
    "duration": -1385,
    "start_time": "2021-07-26T15:28:20.853Z"
   },
   {
    "duration": -1391,
    "start_time": "2021-07-26T15:28:20.860Z"
   },
   {
    "duration": -1383,
    "start_time": "2021-07-26T15:28:20.865Z"
   },
   {
    "duration": -1387,
    "start_time": "2021-07-26T15:28:20.870Z"
   },
   {
    "duration": -1391,
    "start_time": "2021-07-26T15:28:20.875Z"
   },
   {
    "duration": -1395,
    "start_time": "2021-07-26T15:28:20.881Z"
   },
   {
    "duration": -1399,
    "start_time": "2021-07-26T15:28:20.886Z"
   },
   {
    "duration": -1405,
    "start_time": "2021-07-26T15:28:20.893Z"
   },
   {
    "duration": -1408,
    "start_time": "2021-07-26T15:28:20.898Z"
   },
   {
    "duration": -1447,
    "start_time": "2021-07-26T15:28:20.938Z"
   },
   {
    "duration": -1453,
    "start_time": "2021-07-26T15:28:20.945Z"
   },
   {
    "duration": -1457,
    "start_time": "2021-07-26T15:28:20.950Z"
   },
   {
    "duration": -1461,
    "start_time": "2021-07-26T15:28:20.955Z"
   },
   {
    "duration": -1466,
    "start_time": "2021-07-26T15:28:20.962Z"
   },
   {
    "duration": -1471,
    "start_time": "2021-07-26T15:28:20.968Z"
   },
   {
    "duration": -1477,
    "start_time": "2021-07-26T15:28:20.975Z"
   },
   {
    "duration": 6456,
    "start_time": "2021-07-26T16:01:23.045Z"
   },
   {
    "duration": 1865,
    "start_time": "2021-07-26T16:01:29.504Z"
   },
   {
    "duration": 872,
    "start_time": "2021-07-26T16:01:31.372Z"
   },
   {
    "duration": 728,
    "start_time": "2021-07-26T16:01:32.246Z"
   },
   {
    "duration": 9,
    "start_time": "2021-07-26T16:01:32.982Z"
   },
   {
    "duration": 45,
    "start_time": "2021-07-26T16:01:32.993Z"
   },
   {
    "duration": 117,
    "start_time": "2021-07-26T16:01:33.040Z"
   },
   {
    "duration": 3354,
    "start_time": "2021-07-26T16:01:33.161Z"
   },
   {
    "duration": 94,
    "start_time": "2021-07-26T16:01:36.518Z"
   },
   {
    "duration": 35,
    "start_time": "2021-07-26T16:01:36.615Z"
   },
   {
    "duration": 77,
    "start_time": "2021-07-26T16:01:36.653Z"
   },
   {
    "duration": 244,
    "start_time": "2021-07-26T16:01:36.733Z"
   },
   {
    "duration": 186,
    "start_time": "2021-07-26T16:01:36.982Z"
   },
   {
    "duration": 13,
    "start_time": "2021-07-26T16:01:37.170Z"
   },
   {
    "duration": 471,
    "start_time": "2021-07-26T16:01:37.185Z"
   },
   {
    "duration": 32,
    "start_time": "2021-07-26T16:01:37.658Z"
   },
   {
    "duration": 11,
    "start_time": "2021-07-26T16:01:37.693Z"
   },
   {
    "duration": 65,
    "start_time": "2021-07-26T16:01:37.707Z"
   },
   {
    "duration": 91,
    "start_time": "2021-07-26T16:01:37.775Z"
   },
   {
    "duration": 19,
    "start_time": "2021-07-26T16:01:37.869Z"
   },
   {
    "duration": 7,
    "start_time": "2021-07-26T16:01:37.890Z"
   },
   {
    "duration": 129,
    "start_time": "2021-07-26T16:01:37.899Z"
   },
   {
    "duration": 247,
    "start_time": "2021-07-26T16:01:38.035Z"
   },
   {
    "duration": 482,
    "start_time": "2021-07-26T16:01:38.286Z"
   },
   {
    "duration": 25,
    "start_time": "2021-07-26T16:01:38.771Z"
   },
   {
    "duration": 437,
    "start_time": "2021-07-26T16:01:38.799Z"
   },
   {
    "duration": 680,
    "start_time": "2021-07-26T16:01:39.238Z"
   },
   {
    "duration": 23,
    "start_time": "2021-07-26T16:01:39.920Z"
   },
   {
    "duration": 201,
    "start_time": "2021-07-26T16:01:39.946Z"
   },
   {
    "duration": 162,
    "start_time": "2021-07-26T16:01:40.150Z"
   },
   {
    "duration": 38,
    "start_time": "2021-07-26T16:01:40.314Z"
   },
   {
    "duration": 30,
    "start_time": "2021-07-26T16:01:40.355Z"
   },
   {
    "duration": 736,
    "start_time": "2021-07-26T16:01:40.388Z"
   },
   {
    "duration": 57,
    "start_time": "2021-07-26T16:01:41.127Z"
   },
   {
    "duration": 5112,
    "start_time": "2021-07-26T16:01:41.187Z"
   },
   {
    "duration": 3010,
    "start_time": "2021-07-26T16:01:46.302Z"
   },
   {
    "duration": 2426,
    "start_time": "2021-07-26T16:01:49.315Z"
   },
   {
    "duration": 15492,
    "start_time": "2021-07-26T16:01:51.744Z"
   },
   {
    "duration": 10162,
    "start_time": "2021-07-26T16:02:07.238Z"
   },
   {
    "duration": 12579,
    "start_time": "2021-07-26T16:02:17.403Z"
   },
   {
    "duration": 19826,
    "start_time": "2021-07-26T16:02:29.985Z"
   },
   {
    "duration": 2411,
    "start_time": "2021-07-26T16:02:49.814Z"
   },
   {
    "duration": 5368,
    "start_time": "2021-07-26T16:02:52.227Z"
   },
   {
    "duration": 1203,
    "start_time": "2021-07-26T16:02:57.597Z"
   },
   {
    "duration": 30,
    "start_time": "2021-07-26T16:02:58.803Z"
   },
   {
    "duration": 47,
    "start_time": "2021-07-26T16:02:58.835Z"
   },
   {
    "duration": 24,
    "start_time": "2021-07-26T16:02:58.884Z"
   },
   {
    "duration": 79,
    "start_time": "2021-07-26T16:02:58.910Z"
   },
   {
    "duration": 4,
    "start_time": "2021-07-26T16:02:58.992Z"
   },
   {
    "duration": 430,
    "start_time": "2021-07-26T16:02:58.999Z"
   },
   {
    "duration": 707,
    "start_time": "2021-07-26T16:02:59.432Z"
   },
   {
    "duration": 17,
    "start_time": "2021-07-26T16:03:00.141Z"
   },
   {
    "duration": 27,
    "start_time": "2021-07-26T16:03:00.161Z"
   },
   {
    "duration": 8,
    "start_time": "2021-07-26T16:03:00.190Z"
   },
   {
    "duration": 10,
    "start_time": "2021-07-26T16:03:00.201Z"
   },
   {
    "duration": 72,
    "start_time": "2021-07-26T16:03:00.213Z"
   },
   {
    "duration": 44,
    "start_time": "2021-07-26T16:03:00.287Z"
   },
   {
    "duration": 10,
    "start_time": "2021-07-26T16:03:00.334Z"
   },
   {
    "duration": 13,
    "start_time": "2021-07-26T16:03:00.346Z"
   },
   {
    "duration": 21,
    "start_time": "2021-07-26T16:03:00.382Z"
   },
   {
    "duration": 21,
    "start_time": "2021-07-26T16:03:00.405Z"
   },
   {
    "duration": 115,
    "start_time": "2021-07-26T16:03:00.429Z"
   },
   {
    "duration": 39,
    "start_time": "2021-07-26T16:03:00.546Z"
   },
   {
    "duration": 7254,
    "start_time": "2021-07-26T16:03:00.588Z"
   },
   {
    "duration": 1571,
    "start_time": "2021-07-26T16:03:07.845Z"
   },
   {
    "duration": -1408,
    "start_time": "2021-07-26T16:03:10.828Z"
   },
   {
    "duration": -1413,
    "start_time": "2021-07-26T16:03:10.834Z"
   },
   {
    "duration": -1416,
    "start_time": "2021-07-26T16:03:10.839Z"
   },
   {
    "duration": -1419,
    "start_time": "2021-07-26T16:03:10.844Z"
   },
   {
    "duration": -1424,
    "start_time": "2021-07-26T16:03:10.850Z"
   },
   {
    "duration": -1428,
    "start_time": "2021-07-26T16:03:10.856Z"
   },
   {
    "duration": -1432,
    "start_time": "2021-07-26T16:03:10.861Z"
   },
   {
    "duration": -1436,
    "start_time": "2021-07-26T16:03:10.867Z"
   },
   {
    "duration": -1440,
    "start_time": "2021-07-26T16:03:10.872Z"
   },
   {
    "duration": -1444,
    "start_time": "2021-07-26T16:03:10.878Z"
   },
   {
    "duration": -1448,
    "start_time": "2021-07-26T16:03:10.884Z"
   },
   {
    "duration": -1453,
    "start_time": "2021-07-26T16:03:10.890Z"
   },
   {
    "duration": -1456,
    "start_time": "2021-07-26T16:03:10.895Z"
   },
   {
    "duration": -1460,
    "start_time": "2021-07-26T16:03:10.901Z"
   },
   {
    "duration": -1473,
    "start_time": "2021-07-26T16:03:10.915Z"
   },
   {
    "duration": -1442,
    "start_time": "2021-07-26T16:03:10.924Z"
   },
   {
    "duration": -1445,
    "start_time": "2021-07-26T16:03:10.929Z"
   },
   {
    "duration": -1450,
    "start_time": "2021-07-26T16:03:10.935Z"
   },
   {
    "duration": 1365,
    "start_time": "2021-07-26T16:03:14.469Z"
   },
   {
    "duration": 1614,
    "start_time": "2021-07-26T16:04:52.935Z"
   },
   {
    "duration": 1419,
    "start_time": "2021-07-26T16:04:55.514Z"
   },
   {
    "duration": 1475,
    "start_time": "2021-07-26T16:04:59.670Z"
   },
   {
    "duration": 1557,
    "start_time": "2021-07-26T16:05:02.677Z"
   },
   {
    "duration": 1419,
    "start_time": "2021-07-26T16:05:04.726Z"
   },
   {
    "duration": 1605,
    "start_time": "2021-07-26T16:05:06.786Z"
   },
   {
    "duration": 1421,
    "start_time": "2021-07-26T16:05:09.046Z"
   },
   {
    "duration": 1376,
    "start_time": "2021-07-26T16:05:19.894Z"
   },
   {
    "duration": 6464,
    "start_time": "2021-07-26T16:05:23.532Z"
   },
   {
    "duration": 1652,
    "start_time": "2021-07-26T16:05:33.688Z"
   },
   {
    "duration": 6682,
    "start_time": "2021-07-26T16:05:37.132Z"
   },
   {
    "duration": 1467,
    "start_time": "2021-07-26T16:05:43.817Z"
   },
   {
    "duration": 2080,
    "start_time": "2021-07-26T16:06:08.679Z"
   },
   {
    "duration": 1586,
    "start_time": "2021-07-26T16:06:17.455Z"
   },
   {
    "duration": 6606,
    "start_time": "2021-07-26T16:09:37.707Z"
   },
   {
    "duration": 10689,
    "start_time": "2021-07-26T16:10:24.118Z"
   },
   {
    "duration": 1483,
    "start_time": "2021-07-26T16:10:48.108Z"
   },
   {
    "duration": 1585,
    "start_time": "2021-07-26T16:12:37.680Z"
   },
   {
    "duration": 78,
    "start_time": "2021-07-26T16:12:51.981Z"
   },
   {
    "duration": 2007,
    "start_time": "2021-07-26T16:12:57.726Z"
   },
   {
    "duration": 1399,
    "start_time": "2021-07-26T16:13:04.031Z"
   },
   {
    "duration": 1535,
    "start_time": "2021-07-26T16:13:09.903Z"
   },
   {
    "duration": 1475,
    "start_time": "2021-07-26T16:14:42.656Z"
   },
   {
    "duration": 10175,
    "start_time": "2021-07-26T16:14:55.910Z"
   },
   {
    "duration": 1632,
    "start_time": "2021-07-26T16:15:09.924Z"
   },
   {
    "duration": 20563,
    "start_time": "2021-07-26T16:15:30.669Z"
   },
   {
    "duration": 1595,
    "start_time": "2021-07-26T16:15:54.947Z"
   },
   {
    "duration": 6,
    "start_time": "2021-07-26T16:16:43.189Z"
   },
   {
    "duration": 25,
    "start_time": "2021-07-26T16:17:00.578Z"
   },
   {
    "duration": 1438,
    "start_time": "2021-07-26T16:17:47.415Z"
   },
   {
    "duration": 1529,
    "start_time": "2021-07-26T16:18:42.733Z"
   },
   {
    "duration": 816,
    "start_time": "2021-07-26T16:18:57.314Z"
   },
   {
    "duration": 1752,
    "start_time": "2021-07-26T16:19:39.530Z"
   },
   {
    "duration": 1504,
    "start_time": "2021-07-26T16:22:30.078Z"
   },
   {
    "duration": 1641,
    "start_time": "2021-07-26T16:23:09.070Z"
   },
   {
    "duration": 1405,
    "start_time": "2021-07-26T16:24:33.360Z"
   },
   {
    "duration": 14678,
    "start_time": "2021-07-26T16:25:03.392Z"
   },
   {
    "duration": 1460,
    "start_time": "2021-07-26T16:25:18.074Z"
   },
   {
    "duration": 6038,
    "start_time": "2021-07-26T16:27:26.630Z"
   },
   {
    "duration": 1967,
    "start_time": "2021-07-26T16:27:41.471Z"
   },
   {
    "duration": 6442,
    "start_time": "2021-07-26T16:28:30.761Z"
   },
   {
    "duration": 1658,
    "start_time": "2021-07-26T16:28:37.205Z"
   },
   {
    "duration": 776,
    "start_time": "2021-07-26T16:28:38.866Z"
   },
   {
    "duration": 864,
    "start_time": "2021-07-26T16:28:39.645Z"
   },
   {
    "duration": 8,
    "start_time": "2021-07-26T16:28:40.512Z"
   },
   {
    "duration": 37,
    "start_time": "2021-07-26T16:28:40.522Z"
   },
   {
    "duration": 140,
    "start_time": "2021-07-26T16:28:40.561Z"
   },
   {
    "duration": 3192,
    "start_time": "2021-07-26T16:28:40.704Z"
   },
   {
    "duration": 93,
    "start_time": "2021-07-26T16:28:43.900Z"
   },
   {
    "duration": 45,
    "start_time": "2021-07-26T16:28:43.996Z"
   },
   {
    "duration": 76,
    "start_time": "2021-07-26T16:28:44.044Z"
   },
   {
    "duration": 285,
    "start_time": "2021-07-26T16:28:44.123Z"
   },
   {
    "duration": 213,
    "start_time": "2021-07-26T16:28:44.411Z"
   },
   {
    "duration": 7,
    "start_time": "2021-07-26T16:28:44.626Z"
   },
   {
    "duration": 520,
    "start_time": "2021-07-26T16:28:44.635Z"
   },
   {
    "duration": 30,
    "start_time": "2021-07-26T16:28:45.157Z"
   },
   {
    "duration": 6,
    "start_time": "2021-07-26T16:28:45.190Z"
   },
   {
    "duration": 50,
    "start_time": "2021-07-26T16:28:45.199Z"
   },
   {
    "duration": 46,
    "start_time": "2021-07-26T16:28:45.252Z"
   },
   {
    "duration": 9,
    "start_time": "2021-07-26T16:28:45.301Z"
   },
   {
    "duration": 9,
    "start_time": "2021-07-26T16:28:45.313Z"
   },
   {
    "duration": 160,
    "start_time": "2021-07-26T16:28:45.325Z"
   },
   {
    "duration": 399,
    "start_time": "2021-07-26T16:28:45.488Z"
   },
   {
    "duration": 497,
    "start_time": "2021-07-26T16:28:45.890Z"
   },
   {
    "duration": 16,
    "start_time": "2021-07-26T16:28:46.390Z"
   },
   {
    "duration": 573,
    "start_time": "2021-07-26T16:28:46.410Z"
   },
   {
    "duration": 803,
    "start_time": "2021-07-26T16:28:46.990Z"
   },
   {
    "duration": 32,
    "start_time": "2021-07-26T16:28:47.799Z"
   },
   {
    "duration": 204,
    "start_time": "2021-07-26T16:28:47.834Z"
   },
   {
    "duration": 173,
    "start_time": "2021-07-26T16:28:48.040Z"
   },
   {
    "duration": 40,
    "start_time": "2021-07-26T16:28:48.215Z"
   },
   {
    "duration": 30,
    "start_time": "2021-07-26T16:28:48.258Z"
   },
   {
    "duration": 574,
    "start_time": "2021-07-26T16:28:48.290Z"
   },
   {
    "duration": 51,
    "start_time": "2021-07-26T16:28:48.866Z"
   },
   {
    "duration": 4681,
    "start_time": "2021-07-26T16:28:48.920Z"
   },
   {
    "duration": 2781,
    "start_time": "2021-07-26T16:28:53.603Z"
   },
   {
    "duration": 2227,
    "start_time": "2021-07-26T16:28:56.387Z"
   },
   {
    "duration": 14222,
    "start_time": "2021-07-26T16:28:58.617Z"
   },
   {
    "duration": 8853,
    "start_time": "2021-07-26T16:29:12.842Z"
   },
   {
    "duration": 11687,
    "start_time": "2021-07-26T16:29:21.697Z"
   },
   {
    "duration": 18092,
    "start_time": "2021-07-26T16:29:33.386Z"
   },
   {
    "duration": 2190,
    "start_time": "2021-07-26T16:29:51.483Z"
   },
   {
    "duration": 4903,
    "start_time": "2021-07-26T16:29:53.675Z"
   },
   {
    "duration": 1098,
    "start_time": "2021-07-26T16:29:58.580Z"
   },
   {
    "duration": 103,
    "start_time": "2021-07-26T16:29:59.683Z"
   },
   {
    "duration": 30,
    "start_time": "2021-07-26T16:29:59.788Z"
   },
   {
    "duration": 23,
    "start_time": "2021-07-26T16:29:59.820Z"
   },
   {
    "duration": 96,
    "start_time": "2021-07-26T16:29:59.846Z"
   },
   {
    "duration": 4,
    "start_time": "2021-07-26T16:29:59.945Z"
   },
   {
    "duration": 377,
    "start_time": "2021-07-26T16:29:59.952Z"
   },
   {
    "duration": 240,
    "start_time": "2021-07-26T16:30:00.332Z"
   },
   {
    "duration": 25,
    "start_time": "2021-07-26T16:30:00.575Z"
   },
   {
    "duration": 12,
    "start_time": "2021-07-26T16:30:00.603Z"
   },
   {
    "duration": 9,
    "start_time": "2021-07-26T16:30:00.618Z"
   },
   {
    "duration": 13,
    "start_time": "2021-07-26T16:30:00.629Z"
   },
   {
    "duration": 75,
    "start_time": "2021-07-26T16:30:00.644Z"
   },
   {
    "duration": 44,
    "start_time": "2021-07-26T16:30:00.721Z"
   },
   {
    "duration": 18,
    "start_time": "2021-07-26T16:30:00.768Z"
   },
   {
    "duration": 16,
    "start_time": "2021-07-26T16:30:00.788Z"
   },
   {
    "duration": 33,
    "start_time": "2021-07-26T16:30:00.806Z"
   },
   {
    "duration": 17,
    "start_time": "2021-07-26T16:30:00.842Z"
   },
   {
    "duration": 104,
    "start_time": "2021-07-26T16:30:00.862Z"
   },
   {
    "duration": 31,
    "start_time": "2021-07-26T16:30:00.968Z"
   },
   {
    "duration": 14798,
    "start_time": "2021-07-26T16:30:01.002Z"
   },
   {
    "duration": 28,
    "start_time": "2021-07-26T16:30:15.803Z"
   },
   {
    "duration": 1727,
    "start_time": "2021-07-26T16:30:15.834Z"
   },
   {
    "duration": 1699,
    "start_time": "2021-07-26T16:30:17.564Z"
   },
   {
    "duration": 26,
    "start_time": "2021-07-26T16:30:19.265Z"
   },
   {
    "duration": 312,
    "start_time": "2021-07-26T16:30:19.294Z"
   },
   {
    "duration": 9,
    "start_time": "2021-07-26T16:30:19.608Z"
   },
   {
    "duration": 117,
    "start_time": "2021-07-26T16:30:19.619Z"
   },
   {
    "duration": 5,
    "start_time": "2021-07-26T16:30:19.738Z"
   },
   {
    "duration": 7,
    "start_time": "2021-07-26T16:30:19.745Z"
   },
   {
    "duration": 382,
    "start_time": "2021-07-26T16:30:19.755Z"
   },
   {
    "duration": 3,
    "start_time": "2021-07-26T16:30:20.140Z"
   },
   {
    "duration": 9,
    "start_time": "2021-07-26T16:30:20.146Z"
   },
   {
    "duration": 374,
    "start_time": "2021-07-26T16:30:20.157Z"
   },
   {
    "duration": 65,
    "start_time": "2021-07-26T16:30:20.534Z"
   },
   {
    "duration": 511,
    "start_time": "2021-07-26T16:30:20.601Z"
   },
   {
    "duration": 19,
    "start_time": "2021-07-26T16:30:21.114Z"
   },
   {
    "duration": 120,
    "start_time": "2021-07-26T16:30:21.141Z"
   },
   {
    "duration": 26,
    "start_time": "2021-07-26T16:30:21.264Z"
   },
   {
    "duration": 10,
    "start_time": "2021-07-26T16:30:21.292Z"
   },
   {
    "duration": 83,
    "start_time": "2021-07-26T16:30:21.305Z"
   },
   {
    "duration": 9461,
    "start_time": "2021-07-29T10:24:35.891Z"
   },
   {
    "duration": 1550,
    "start_time": "2021-07-29T10:24:45.356Z"
   },
   {
    "duration": 5971,
    "start_time": "2021-07-29T10:24:46.909Z"
   },
   {
    "duration": 886,
    "start_time": "2021-07-29T10:24:52.883Z"
   },
   {
    "duration": 9,
    "start_time": "2021-07-29T10:24:53.771Z"
   },
   {
    "duration": 60,
    "start_time": "2021-07-29T10:24:53.782Z"
   },
   {
    "duration": 104,
    "start_time": "2021-07-29T10:24:53.845Z"
   },
   {
    "duration": 3303,
    "start_time": "2021-07-29T10:24:53.956Z"
   },
   {
    "duration": 97,
    "start_time": "2021-07-29T10:24:57.262Z"
   },
   {
    "duration": 35,
    "start_time": "2021-07-29T10:24:57.361Z"
   },
   {
    "duration": 80,
    "start_time": "2021-07-29T10:24:57.399Z"
   },
   {
    "duration": 234,
    "start_time": "2021-07-29T10:24:57.481Z"
   },
   {
    "duration": 193,
    "start_time": "2021-07-29T10:24:57.718Z"
   },
   {
    "duration": 7,
    "start_time": "2021-07-29T10:24:57.914Z"
   },
   {
    "duration": 476,
    "start_time": "2021-07-29T10:24:57.924Z"
   },
   {
    "duration": 22,
    "start_time": "2021-07-29T10:24:58.403Z"
   },
   {
    "duration": 27,
    "start_time": "2021-07-29T10:24:58.427Z"
   },
   {
    "duration": 55,
    "start_time": "2021-07-29T10:24:58.457Z"
   },
   {
    "duration": 69,
    "start_time": "2021-07-29T10:24:58.514Z"
   },
   {
    "duration": 7,
    "start_time": "2021-07-29T10:24:58.585Z"
   },
   {
    "duration": 21,
    "start_time": "2021-07-29T10:24:58.594Z"
   },
   {
    "duration": 119,
    "start_time": "2021-07-29T10:24:58.617Z"
   },
   {
    "duration": 240,
    "start_time": "2021-07-29T10:24:58.743Z"
   },
   {
    "duration": 888,
    "start_time": "2021-07-29T10:24:58.987Z"
   },
   {
    "duration": 16,
    "start_time": "2021-07-29T10:24:59.878Z"
   },
   {
    "duration": 474,
    "start_time": "2021-07-29T10:24:59.896Z"
   },
   {
    "duration": 715,
    "start_time": "2021-07-29T10:25:00.373Z"
   },
   {
    "duration": 23,
    "start_time": "2021-07-29T10:25:01.090Z"
   },
   {
    "duration": 201,
    "start_time": "2021-07-29T10:25:01.115Z"
   },
   {
    "duration": 168,
    "start_time": "2021-07-29T10:25:01.318Z"
   },
   {
    "duration": 39,
    "start_time": "2021-07-29T10:25:01.488Z"
   },
   {
    "duration": 27,
    "start_time": "2021-07-29T10:25:01.530Z"
   },
   {
    "duration": 751,
    "start_time": "2021-07-29T10:25:01.559Z"
   },
   {
    "duration": 56,
    "start_time": "2021-07-29T10:25:02.312Z"
   },
   {
    "duration": 5089,
    "start_time": "2021-07-29T10:25:02.371Z"
   },
   {
    "duration": 3015,
    "start_time": "2021-07-29T10:25:07.462Z"
   },
   {
    "duration": 2367,
    "start_time": "2021-07-29T10:25:10.480Z"
   },
   {
    "duration": 22084,
    "start_time": "2021-07-29T10:25:12.850Z"
   },
   {
    "duration": 11686,
    "start_time": "2021-07-29T10:25:34.937Z"
   },
   {
    "duration": 13934,
    "start_time": "2021-07-29T10:25:46.625Z"
   },
   {
    "duration": 20857,
    "start_time": "2021-07-29T10:26:00.562Z"
   },
   {
    "duration": 2512,
    "start_time": "2021-07-29T10:26:21.422Z"
   },
   {
    "duration": 5571,
    "start_time": "2021-07-29T10:26:23.937Z"
   },
   {
    "duration": 1217,
    "start_time": "2021-07-29T10:26:29.511Z"
   },
   {
    "duration": 37,
    "start_time": "2021-07-29T10:26:30.731Z"
   },
   {
    "duration": 26,
    "start_time": "2021-07-29T10:26:30.771Z"
   },
   {
    "duration": 25,
    "start_time": "2021-07-29T10:26:30.800Z"
   },
   {
    "duration": 61,
    "start_time": "2021-07-29T10:26:30.854Z"
   },
   {
    "duration": 5,
    "start_time": "2021-07-29T10:26:30.917Z"
   },
   {
    "duration": 557,
    "start_time": "2021-07-29T10:26:30.924Z"
   },
   {
    "duration": 643,
    "start_time": "2021-07-29T10:26:31.484Z"
   },
   {
    "duration": 99,
    "start_time": "2021-07-29T10:26:32.130Z"
   },
   {
    "duration": 24,
    "start_time": "2021-07-29T10:26:32.231Z"
   },
   {
    "duration": 3,
    "start_time": "2021-07-29T10:26:32.258Z"
   },
   {
    "duration": 12,
    "start_time": "2021-07-29T10:26:32.264Z"
   },
   {
    "duration": 52,
    "start_time": "2021-07-29T10:26:32.278Z"
   },
   {
    "duration": 53,
    "start_time": "2021-07-29T10:26:32.333Z"
   },
   {
    "duration": 10,
    "start_time": "2021-07-29T10:26:32.388Z"
   },
   {
    "duration": 10,
    "start_time": "2021-07-29T10:26:32.401Z"
   },
   {
    "duration": 52,
    "start_time": "2021-07-29T10:26:32.413Z"
   },
   {
    "duration": 20,
    "start_time": "2021-07-29T10:26:32.468Z"
   },
   {
    "duration": 105,
    "start_time": "2021-07-29T10:26:32.490Z"
   },
   {
    "duration": 25,
    "start_time": "2021-07-29T10:26:32.597Z"
   },
   {
    "duration": 26455,
    "start_time": "2021-07-29T10:26:32.624Z"
   },
   {
    "duration": 27,
    "start_time": "2021-07-29T10:26:59.082Z"
   },
   {
    "duration": 1897,
    "start_time": "2021-07-29T10:26:59.112Z"
   },
   {
    "duration": 1546,
    "start_time": "2021-07-29T10:27:01.012Z"
   },
   {
    "duration": 17,
    "start_time": "2021-07-29T10:27:02.567Z"
   },
   {
    "duration": 481,
    "start_time": "2021-07-29T10:27:02.587Z"
   },
   {
    "duration": 9,
    "start_time": "2021-07-29T10:27:03.070Z"
   },
   {
    "duration": 115,
    "start_time": "2021-07-29T10:27:03.082Z"
   },
   {
    "duration": 5,
    "start_time": "2021-07-29T10:27:03.199Z"
   },
   {
    "duration": 27,
    "start_time": "2021-07-29T10:27:03.206Z"
   },
   {
    "duration": 545,
    "start_time": "2021-07-29T10:27:03.236Z"
   },
   {
    "duration": 4,
    "start_time": "2021-07-29T10:27:03.784Z"
   },
   {
    "duration": 38,
    "start_time": "2021-07-29T10:27:03.790Z"
   },
   {
    "duration": 659,
    "start_time": "2021-07-29T10:27:03.830Z"
   },
   {
    "duration": 47,
    "start_time": "2021-07-29T10:27:04.491Z"
   },
   {
    "duration": 645,
    "start_time": "2021-07-29T10:27:04.541Z"
   },
   {
    "duration": 19,
    "start_time": "2021-07-29T10:27:05.189Z"
   },
   {
    "duration": 129,
    "start_time": "2021-07-29T10:27:05.211Z"
   },
   {
    "duration": 28,
    "start_time": "2021-07-29T10:27:05.343Z"
   },
   {
    "duration": 12,
    "start_time": "2021-07-29T10:27:05.374Z"
   },
   {
    "duration": 97,
    "start_time": "2021-07-29T10:27:05.389Z"
   },
   {
    "duration": 11,
    "start_time": "2021-07-29T11:00:30.596Z"
   },
   {
    "duration": 9644,
    "start_time": "2021-07-29T13:43:18.096Z"
   },
   {
    "duration": 1506,
    "start_time": "2021-07-29T13:43:27.744Z"
   },
   {
    "duration": 924,
    "start_time": "2021-07-29T13:43:29.253Z"
   },
   {
    "duration": 772,
    "start_time": "2021-07-29T13:43:30.180Z"
   },
   {
    "duration": 8,
    "start_time": "2021-07-29T13:43:30.955Z"
   },
   {
    "duration": 54,
    "start_time": "2021-07-29T13:43:30.965Z"
   },
   {
    "duration": 114,
    "start_time": "2021-07-29T13:43:31.021Z"
   },
   {
    "duration": 3292,
    "start_time": "2021-07-29T13:43:31.138Z"
   },
   {
    "duration": 90,
    "start_time": "2021-07-29T13:43:34.435Z"
   },
   {
    "duration": 35,
    "start_time": "2021-07-29T13:43:34.528Z"
   },
   {
    "duration": 73,
    "start_time": "2021-07-29T13:43:34.565Z"
   },
   {
    "duration": 236,
    "start_time": "2021-07-29T13:43:34.641Z"
   },
   {
    "duration": 188,
    "start_time": "2021-07-29T13:43:34.879Z"
   },
   {
    "duration": 16,
    "start_time": "2021-07-29T13:43:35.069Z"
   },
   {
    "duration": 489,
    "start_time": "2021-07-29T13:43:35.087Z"
   },
   {
    "duration": 20,
    "start_time": "2021-07-29T13:43:35.578Z"
   },
   {
    "duration": 13,
    "start_time": "2021-07-29T13:43:35.601Z"
   },
   {
    "duration": 65,
    "start_time": "2021-07-29T13:43:35.617Z"
   },
   {
    "duration": 62,
    "start_time": "2021-07-29T13:43:35.686Z"
   },
   {
    "duration": 6,
    "start_time": "2021-07-29T13:43:35.750Z"
   },
   {
    "duration": 29,
    "start_time": "2021-07-29T13:43:35.759Z"
   },
   {
    "duration": 119,
    "start_time": "2021-07-29T13:43:35.791Z"
   },
   {
    "duration": 231,
    "start_time": "2021-07-29T13:43:35.913Z"
   },
   {
    "duration": 759,
    "start_time": "2021-07-29T13:43:36.147Z"
   },
   {
    "duration": 15,
    "start_time": "2021-07-29T13:43:36.909Z"
   },
   {
    "duration": 458,
    "start_time": "2021-07-29T13:43:36.927Z"
   },
   {
    "duration": 707,
    "start_time": "2021-07-29T13:43:37.392Z"
   },
   {
    "duration": 32,
    "start_time": "2021-07-29T13:43:38.103Z"
   },
   {
    "duration": 184,
    "start_time": "2021-07-29T13:43:38.138Z"
   },
   {
    "duration": 167,
    "start_time": "2021-07-29T13:43:38.324Z"
   },
   {
    "duration": 41,
    "start_time": "2021-07-29T13:43:38.493Z"
   },
   {
    "duration": 14,
    "start_time": "2021-07-29T13:43:38.536Z"
   },
   {
    "duration": 732,
    "start_time": "2021-07-29T13:43:38.553Z"
   },
   {
    "duration": 60,
    "start_time": "2021-07-29T13:43:39.288Z"
   },
   {
    "duration": 5263,
    "start_time": "2021-07-29T13:43:39.350Z"
   },
   {
    "duration": 3192,
    "start_time": "2021-07-29T13:43:44.616Z"
   },
   {
    "duration": 2429,
    "start_time": "2021-07-29T13:43:47.811Z"
   },
   {
    "duration": 15113,
    "start_time": "2021-07-29T13:43:50.242Z"
   },
   {
    "duration": 9352,
    "start_time": "2021-07-29T13:44:05.357Z"
   },
   {
    "duration": 12684,
    "start_time": "2021-07-29T13:44:14.711Z"
   },
   {
    "duration": 20150,
    "start_time": "2021-07-29T13:44:27.397Z"
   },
   {
    "duration": 2483,
    "start_time": "2021-07-29T13:44:47.550Z"
   },
   {
    "duration": 5259,
    "start_time": "2021-07-29T13:44:50.035Z"
   },
   {
    "duration": 1169,
    "start_time": "2021-07-29T13:44:55.296Z"
   },
   {
    "duration": 37,
    "start_time": "2021-07-29T13:44:56.468Z"
   },
   {
    "duration": 25,
    "start_time": "2021-07-29T13:44:56.508Z"
   },
   {
    "duration": 54,
    "start_time": "2021-07-29T13:44:56.536Z"
   },
   {
    "duration": 58,
    "start_time": "2021-07-29T13:44:56.593Z"
   },
   {
    "duration": 4,
    "start_time": "2021-07-29T13:44:56.654Z"
   },
   {
    "duration": 523,
    "start_time": "2021-07-29T13:44:56.684Z"
   },
   {
    "duration": 601,
    "start_time": "2021-07-29T13:44:57.210Z"
   },
   {
    "duration": 16,
    "start_time": "2021-07-29T13:44:57.814Z"
   },
   {
    "duration": 14,
    "start_time": "2021-07-29T13:44:57.832Z"
   },
   {
    "duration": 8,
    "start_time": "2021-07-29T13:44:57.849Z"
   },
   {
    "duration": 31,
    "start_time": "2021-07-29T13:44:57.860Z"
   },
   {
    "duration": 46,
    "start_time": "2021-07-29T13:44:57.893Z"
   },
   {
    "duration": 57,
    "start_time": "2021-07-29T13:44:57.942Z"
   },
   {
    "duration": 7,
    "start_time": "2021-07-29T13:44:58.001Z"
   },
   {
    "duration": 7,
    "start_time": "2021-07-29T13:44:58.011Z"
   },
   {
    "duration": 25,
    "start_time": "2021-07-29T13:44:58.020Z"
   },
   {
    "duration": 23,
    "start_time": "2021-07-29T13:44:58.085Z"
   },
   {
    "duration": 112,
    "start_time": "2021-07-29T13:44:58.110Z"
   },
   {
    "duration": 27,
    "start_time": "2021-07-29T13:44:58.225Z"
   },
   {
    "duration": 27019,
    "start_time": "2021-07-29T13:44:58.255Z"
   },
   {
    "duration": 33,
    "start_time": "2021-07-29T13:45:25.277Z"
   },
   {
    "duration": 1825,
    "start_time": "2021-07-29T13:45:25.314Z"
   },
   {
    "duration": 1728,
    "start_time": "2021-07-29T13:45:27.142Z"
   },
   {
    "duration": 28,
    "start_time": "2021-07-29T13:45:28.873Z"
   },
   {
    "duration": 588,
    "start_time": "2021-07-29T13:45:28.904Z"
   },
   {
    "duration": 11,
    "start_time": "2021-07-29T13:45:29.495Z"
   },
   {
    "duration": 111,
    "start_time": "2021-07-29T13:45:29.510Z"
   },
   {
    "duration": 5,
    "start_time": "2021-07-29T13:45:29.624Z"
   },
   {
    "duration": 8,
    "start_time": "2021-07-29T13:45:29.631Z"
   },
   {
    "duration": 573,
    "start_time": "2021-07-29T13:45:29.641Z"
   },
   {
    "duration": 4,
    "start_time": "2021-07-29T13:45:30.216Z"
   },
   {
    "duration": 10,
    "start_time": "2021-07-29T13:45:30.223Z"
   },
   {
    "duration": 568,
    "start_time": "2021-07-29T13:45:30.235Z"
   },
   {
    "duration": 50,
    "start_time": "2021-07-29T13:45:30.806Z"
   },
   {
    "duration": 762,
    "start_time": "2021-07-29T13:45:30.858Z"
   },
   {
    "duration": 17,
    "start_time": "2021-07-29T13:45:31.623Z"
   },
   {
    "duration": 124,
    "start_time": "2021-07-29T13:45:31.648Z"
   },
   {
    "duration": 23,
    "start_time": "2021-07-29T13:45:31.775Z"
   },
   {
    "duration": 10,
    "start_time": "2021-07-29T13:45:31.801Z"
   },
   {
    "duration": 90,
    "start_time": "2021-07-29T13:45:31.814Z"
   },
   {
    "duration": 558,
    "start_time": "2021-07-29T13:47:06.993Z"
   },
   {
    "duration": 1132,
    "start_time": "2021-07-29T13:47:14.647Z"
   },
   {
    "duration": 1226,
    "start_time": "2021-07-29T13:57:47.263Z"
   },
   {
    "duration": 1076,
    "start_time": "2021-07-29T13:57:56.384Z"
   },
   {
    "duration": 4,
    "start_time": "2021-07-29T14:03:23.826Z"
   },
   {
    "duration": 129,
    "start_time": "2021-07-29T14:03:26.530Z"
   },
   {
    "duration": 12578,
    "start_time": "2021-07-29T14:07:16.779Z"
   },
   {
    "duration": 1117,
    "start_time": "2021-07-29T14:09:50.100Z"
   },
   {
    "duration": 531,
    "start_time": "2021-07-29T15:40:09.738Z"
   },
   {
    "duration": 422,
    "start_time": "2021-07-29T15:40:31.579Z"
   },
   {
    "duration": 411,
    "start_time": "2021-07-29T15:40:37.081Z"
   },
   {
    "duration": 406,
    "start_time": "2021-07-29T15:41:03.086Z"
   },
   {
    "duration": 4,
    "start_time": "2021-07-29T15:42:39.180Z"
   },
   {
    "duration": 123,
    "start_time": "2021-07-29T15:42:44.039Z"
   },
   {
    "duration": 38,
    "start_time": "2021-07-29T15:43:03.095Z"
   },
   {
    "duration": 19584,
    "start_time": "2021-07-29T15:45:46.392Z"
   },
   {
    "duration": 28,
    "start_time": "2021-07-29T15:46:21.874Z"
   },
   {
    "duration": 7510,
    "start_time": "2021-07-29T15:46:56.226Z"
   },
   {
    "duration": 8,
    "start_time": "2021-07-29T15:47:03.739Z"
   },
   {
    "duration": 953,
    "start_time": "2021-07-29T15:47:03.750Z"
   },
   {
    "duration": 725,
    "start_time": "2021-07-29T15:47:04.705Z"
   },
   {
    "duration": 8,
    "start_time": "2021-07-29T15:47:05.432Z"
   },
   {
    "duration": 42,
    "start_time": "2021-07-29T15:47:05.443Z"
   },
   {
    "duration": 113,
    "start_time": "2021-07-29T15:47:05.487Z"
   },
   {
    "duration": 3199,
    "start_time": "2021-07-29T15:47:05.602Z"
   },
   {
    "duration": 89,
    "start_time": "2021-07-29T15:47:08.805Z"
   },
   {
    "duration": 38,
    "start_time": "2021-07-29T15:47:08.897Z"
   },
   {
    "duration": 88,
    "start_time": "2021-07-29T15:47:08.938Z"
   },
   {
    "duration": 232,
    "start_time": "2021-07-29T15:47:09.028Z"
   },
   {
    "duration": 205,
    "start_time": "2021-07-29T15:47:09.262Z"
   },
   {
    "duration": 18,
    "start_time": "2021-07-29T15:47:09.469Z"
   },
   {
    "duration": 486,
    "start_time": "2021-07-29T15:47:09.489Z"
   },
   {
    "duration": 29,
    "start_time": "2021-07-29T15:47:09.977Z"
   },
   {
    "duration": 5,
    "start_time": "2021-07-29T15:47:10.009Z"
   },
   {
    "duration": 78,
    "start_time": "2021-07-29T15:47:10.017Z"
   },
   {
    "duration": 92,
    "start_time": "2021-07-29T15:47:10.097Z"
   },
   {
    "duration": 6,
    "start_time": "2021-07-29T15:47:10.191Z"
   },
   {
    "duration": 7,
    "start_time": "2021-07-29T15:47:10.199Z"
   },
   {
    "duration": 130,
    "start_time": "2021-07-29T15:47:10.209Z"
   },
   {
    "duration": 237,
    "start_time": "2021-07-29T15:47:10.341Z"
   },
   {
    "duration": 767,
    "start_time": "2021-07-29T15:47:10.581Z"
   },
   {
    "duration": 15,
    "start_time": "2021-07-29T15:47:11.351Z"
   },
   {
    "duration": 449,
    "start_time": "2021-07-29T15:47:11.369Z"
   },
   {
    "duration": 703,
    "start_time": "2021-07-29T15:47:11.823Z"
   },
   {
    "duration": 23,
    "start_time": "2021-07-29T15:47:12.529Z"
   },
   {
    "duration": 185,
    "start_time": "2021-07-29T15:47:12.555Z"
   },
   {
    "duration": 164,
    "start_time": "2021-07-29T15:47:12.742Z"
   },
   {
    "duration": 38,
    "start_time": "2021-07-29T15:47:12.909Z"
   },
   {
    "duration": 37,
    "start_time": "2021-07-29T15:47:12.949Z"
   },
   {
    "duration": 12,
    "start_time": "2021-07-29T15:47:12.988Z"
   },
   {
    "duration": 20666,
    "start_time": "2021-07-29T15:47:13.002Z"
   },
   {
    "duration": 23,
    "start_time": "2021-07-29T15:47:37.892Z"
   },
   {
    "duration": 5,
    "start_time": "2021-07-29T15:51:02.818Z"
   },
   {
    "duration": 133,
    "start_time": "2021-07-29T15:51:17.201Z"
   },
   {
    "duration": 192,
    "start_time": "2021-07-29T15:51:24.961Z"
   },
   {
    "duration": 4,
    "start_time": "2021-07-29T15:51:32.258Z"
   },
   {
    "duration": 26,
    "start_time": "2021-07-29T15:51:36.999Z"
   },
   {
    "duration": 129,
    "start_time": "2021-07-29T15:53:54.100Z"
   },
   {
    "duration": 84162,
    "start_time": "2021-07-29T15:54:37.507Z"
   },
   {
    "duration": 26,
    "start_time": "2021-07-29T15:56:05.185Z"
   },
   {
    "duration": 28,
    "start_time": "2021-07-29T15:56:41.054Z"
   },
   {
    "duration": 746,
    "start_time": "2021-07-29T15:56:41.084Z"
   },
   {
    "duration": 33,
    "start_time": "2021-07-29T15:56:41.833Z"
   },
   {
    "duration": 5317,
    "start_time": "2021-07-29T15:56:41.868Z"
   },
   {
    "duration": 3229,
    "start_time": "2021-07-29T15:56:47.188Z"
   },
   {
    "duration": 2614,
    "start_time": "2021-07-29T15:56:50.420Z"
   },
   {
    "duration": 16271,
    "start_time": "2021-07-29T15:56:53.036Z"
   },
   {
    "duration": 9833,
    "start_time": "2021-07-29T15:57:09.310Z"
   },
   {
    "duration": 12843,
    "start_time": "2021-07-29T15:57:19.147Z"
   },
   {
    "duration": 21655,
    "start_time": "2021-07-29T15:57:31.995Z"
   },
   {
    "duration": 2501,
    "start_time": "2021-07-29T15:57:53.653Z"
   },
   {
    "duration": 5646,
    "start_time": "2021-07-29T15:57:56.156Z"
   },
   {
    "duration": 1359,
    "start_time": "2021-07-29T15:58:01.804Z"
   },
   {
    "duration": 48,
    "start_time": "2021-07-29T15:58:03.165Z"
   },
   {
    "duration": 24,
    "start_time": "2021-07-29T15:58:03.215Z"
   },
   {
    "duration": 46,
    "start_time": "2021-07-29T15:58:03.241Z"
   },
   {
    "duration": 63,
    "start_time": "2021-07-29T15:58:03.289Z"
   },
   {
    "duration": 4,
    "start_time": "2021-07-29T15:58:03.355Z"
   },
   {
    "duration": 678,
    "start_time": "2021-07-29T15:58:03.362Z"
   },
   {
    "duration": 769,
    "start_time": "2021-07-29T15:58:04.043Z"
   },
   {
    "duration": 18,
    "start_time": "2021-07-29T15:58:04.814Z"
   },
   {
    "duration": 12,
    "start_time": "2021-07-29T15:58:04.835Z"
   },
   {
    "duration": 4,
    "start_time": "2021-07-29T15:58:04.849Z"
   },
   {
    "duration": 35,
    "start_time": "2021-07-29T15:58:04.855Z"
   },
   {
    "duration": 58,
    "start_time": "2021-07-29T15:58:04.893Z"
   },
   {
    "duration": 67,
    "start_time": "2021-07-29T15:58:04.953Z"
   },
   {
    "duration": 8,
    "start_time": "2021-07-29T15:58:05.030Z"
   },
   {
    "duration": 12,
    "start_time": "2021-07-29T15:58:05.044Z"
   },
   {
    "duration": 52,
    "start_time": "2021-07-29T15:58:05.058Z"
   },
   {
    "duration": 24,
    "start_time": "2021-07-29T15:58:05.112Z"
   },
   {
    "duration": 114,
    "start_time": "2021-07-29T15:58:05.138Z"
   },
   {
    "duration": 42,
    "start_time": "2021-07-29T15:58:05.254Z"
   },
   {
    "duration": 16125,
    "start_time": "2021-07-29T15:58:05.299Z"
   },
   {
    "duration": 30,
    "start_time": "2021-07-29T15:58:21.427Z"
   },
   {
    "duration": 1703,
    "start_time": "2021-07-29T15:58:21.459Z"
   },
   {
    "duration": 1771,
    "start_time": "2021-07-29T15:58:23.165Z"
   },
   {
    "duration": 1185,
    "start_time": "2021-07-29T15:58:24.939Z"
   },
   {
    "duration": 18,
    "start_time": "2021-07-29T15:58:26.127Z"
   },
   {
    "duration": 466,
    "start_time": "2021-07-29T15:58:26.148Z"
   },
   {
    "duration": 8,
    "start_time": "2021-07-29T15:58:26.616Z"
   },
   {
    "duration": 96,
    "start_time": "2021-07-29T15:58:26.626Z"
   },
   {
    "duration": 5,
    "start_time": "2021-07-29T15:58:26.724Z"
   },
   {
    "duration": 13,
    "start_time": "2021-07-29T15:58:26.732Z"
   },
   {
    "duration": 545,
    "start_time": "2021-07-29T15:58:26.747Z"
   },
   {
    "duration": 4,
    "start_time": "2021-07-29T15:58:27.295Z"
   },
   {
    "duration": 25,
    "start_time": "2021-07-29T15:58:27.301Z"
   },
   {
    "duration": 536,
    "start_time": "2021-07-29T15:58:27.328Z"
   },
   {
    "duration": 59,
    "start_time": "2021-07-29T15:58:27.866Z"
   },
   {
    "duration": 665,
    "start_time": "2021-07-29T15:58:27.928Z"
   },
   {
    "duration": 17,
    "start_time": "2021-07-29T15:58:28.596Z"
   },
   {
    "duration": 122,
    "start_time": "2021-07-29T15:58:28.615Z"
   },
   {
    "duration": 19,
    "start_time": "2021-07-29T15:58:28.740Z"
   },
   {
    "duration": 25,
    "start_time": "2021-07-29T15:58:28.761Z"
   },
   {
    "duration": 60,
    "start_time": "2021-07-29T15:58:28.789Z"
   },
   {
    "duration": 7333,
    "start_time": "2021-07-29T15:58:28.852Z"
   },
   {
    "duration": 8,
    "start_time": "2021-07-29T15:58:36.188Z"
   },
   {
    "duration": 968,
    "start_time": "2021-07-29T15:58:36.199Z"
   },
   {
    "duration": 747,
    "start_time": "2021-07-29T15:58:37.169Z"
   },
   {
    "duration": 10,
    "start_time": "2021-07-29T15:58:37.919Z"
   },
   {
    "duration": 37,
    "start_time": "2021-07-29T15:58:37.931Z"
   },
   {
    "duration": 142,
    "start_time": "2021-07-29T15:58:37.971Z"
   },
   {
    "duration": 3449,
    "start_time": "2021-07-29T15:58:38.115Z"
   },
   {
    "duration": 87,
    "start_time": "2021-07-29T15:58:41.566Z"
   },
   {
    "duration": 51,
    "start_time": "2021-07-29T15:58:41.655Z"
   },
   {
    "duration": 77,
    "start_time": "2021-07-29T15:58:41.708Z"
   },
   {
    "duration": 233,
    "start_time": "2021-07-29T15:58:41.787Z"
   },
   {
    "duration": 191,
    "start_time": "2021-07-29T15:58:42.022Z"
   },
   {
    "duration": 7,
    "start_time": "2021-07-29T15:58:42.215Z"
   },
   {
    "duration": 614,
    "start_time": "2021-07-29T15:58:42.225Z"
   },
   {
    "duration": 21,
    "start_time": "2021-07-29T15:58:42.841Z"
   },
   {
    "duration": 22,
    "start_time": "2021-07-29T15:58:42.864Z"
   },
   {
    "duration": 44,
    "start_time": "2021-07-29T15:58:42.888Z"
   },
   {
    "duration": 107,
    "start_time": "2021-07-29T15:58:42.934Z"
   },
   {
    "duration": 6,
    "start_time": "2021-07-29T15:58:43.043Z"
   },
   {
    "duration": 9,
    "start_time": "2021-07-29T15:58:43.051Z"
   },
   {
    "duration": 129,
    "start_time": "2021-07-29T15:58:43.063Z"
   },
   {
    "duration": 253,
    "start_time": "2021-07-29T15:58:43.194Z"
   },
   {
    "duration": 899,
    "start_time": "2021-07-29T15:58:43.449Z"
   },
   {
    "duration": 16,
    "start_time": "2021-07-29T15:58:44.351Z"
   },
   {
    "duration": 449,
    "start_time": "2021-07-29T15:58:44.386Z"
   },
   {
    "duration": 738,
    "start_time": "2021-07-29T15:58:44.843Z"
   },
   {
    "duration": 25,
    "start_time": "2021-07-29T15:58:45.583Z"
   },
   {
    "duration": 208,
    "start_time": "2021-07-29T15:58:45.610Z"
   },
   {
    "duration": 172,
    "start_time": "2021-07-29T15:58:45.821Z"
   },
   {
    "duration": 39,
    "start_time": "2021-07-29T15:58:45.995Z"
   },
   {
    "duration": 24,
    "start_time": "2021-07-29T15:58:46.037Z"
   },
   {
    "duration": 25,
    "start_time": "2021-07-29T15:58:46.063Z"
   },
   {
    "duration": 6,
    "start_time": "2021-07-29T15:58:46.091Z"
   },
   {
    "duration": 81793,
    "start_time": "2021-07-29T15:58:50.434Z"
   },
   {
    "duration": 27,
    "start_time": "2021-07-29T16:00:15.666Z"
   },
   {
    "duration": 5,
    "start_time": "2021-07-29T16:09:35.090Z"
   },
   {
    "duration": 3384,
    "start_time": "2021-07-29T16:10:33.033Z"
   },
   {
    "duration": 132,
    "start_time": "2021-07-29T16:11:05.132Z"
   },
   {
    "duration": 129,
    "start_time": "2021-07-29T16:11:16.607Z"
   },
   {
    "duration": 124,
    "start_time": "2021-07-29T16:11:25.313Z"
   },
   {
    "duration": 4,
    "start_time": "2021-07-29T16:11:32.268Z"
   },
   {
    "duration": 50420,
    "start_time": "2021-07-29T16:11:41.165Z"
   },
   {
    "duration": 3282,
    "start_time": "2021-07-29T16:12:48.966Z"
   },
   {
    "duration": 4,
    "start_time": "2021-07-29T16:13:12.656Z"
   },
   {
    "duration": 3435,
    "start_time": "2021-07-29T16:13:16.691Z"
   },
   {
    "duration": 4,
    "start_time": "2021-07-29T16:14:12.721Z"
   },
   {
    "duration": 3382,
    "start_time": "2021-07-29T16:14:15.482Z"
   },
   {
    "duration": 5,
    "start_time": "2021-07-29T16:15:53.336Z"
   },
   {
    "duration": 4,
    "start_time": "2021-07-29T16:16:00.105Z"
   },
   {
    "duration": 3517,
    "start_time": "2021-07-29T16:16:02.137Z"
   },
   {
    "duration": 7726,
    "start_time": "2021-07-29T16:18:50.301Z"
   },
   {
    "duration": 2087,
    "start_time": "2021-07-29T16:18:58.031Z"
   },
   {
    "duration": 4969,
    "start_time": "2021-07-29T16:19:00.121Z"
   },
   {
    "duration": 857,
    "start_time": "2021-07-29T16:19:05.093Z"
   },
   {
    "duration": 9,
    "start_time": "2021-07-29T16:19:05.953Z"
   },
   {
    "duration": 57,
    "start_time": "2021-07-29T16:19:05.966Z"
   },
   {
    "duration": 125,
    "start_time": "2021-07-29T16:19:06.025Z"
   },
   {
    "duration": 3260,
    "start_time": "2021-07-29T16:19:06.154Z"
   },
   {
    "duration": 104,
    "start_time": "2021-07-29T16:19:09.417Z"
   },
   {
    "duration": 62,
    "start_time": "2021-07-29T16:19:09.523Z"
   },
   {
    "duration": 51,
    "start_time": "2021-07-29T16:19:09.588Z"
   },
   {
    "duration": 291,
    "start_time": "2021-07-29T16:19:09.641Z"
   },
   {
    "duration": 226,
    "start_time": "2021-07-29T16:19:09.935Z"
   },
   {
    "duration": 7,
    "start_time": "2021-07-29T16:19:10.164Z"
   },
   {
    "duration": 479,
    "start_time": "2021-07-29T16:19:10.185Z"
   },
   {
    "duration": 31,
    "start_time": "2021-07-29T16:19:10.667Z"
   },
   {
    "duration": 4,
    "start_time": "2021-07-29T16:19:10.700Z"
   },
   {
    "duration": 44,
    "start_time": "2021-07-29T16:19:10.706Z"
   },
   {
    "duration": 44,
    "start_time": "2021-07-29T16:19:10.752Z"
   },
   {
    "duration": 8,
    "start_time": "2021-07-29T16:19:10.798Z"
   },
   {
    "duration": 7,
    "start_time": "2021-07-29T16:19:10.809Z"
   },
   {
    "duration": 145,
    "start_time": "2021-07-29T16:19:10.819Z"
   },
   {
    "duration": 396,
    "start_time": "2021-07-29T16:19:10.970Z"
   },
   {
    "duration": 572,
    "start_time": "2021-07-29T16:19:11.370Z"
   },
   {
    "duration": 18,
    "start_time": "2021-07-29T16:19:11.945Z"
   },
   {
    "duration": 521,
    "start_time": "2021-07-29T16:19:11.966Z"
   },
   {
    "duration": 687,
    "start_time": "2021-07-29T16:19:12.490Z"
   },
   {
    "duration": 36,
    "start_time": "2021-07-29T16:19:13.179Z"
   },
   {
    "duration": 179,
    "start_time": "2021-07-29T16:19:13.217Z"
   },
   {
    "duration": 175,
    "start_time": "2021-07-29T16:19:13.399Z"
   },
   {
    "duration": 39,
    "start_time": "2021-07-29T16:19:13.576Z"
   },
   {
    "duration": 14,
    "start_time": "2021-07-29T16:19:13.618Z"
   },
   {
    "duration": 10,
    "start_time": "2021-07-29T16:19:13.635Z"
   },
   {
    "duration": 7,
    "start_time": "2021-07-29T16:19:13.647Z"
   },
   {
    "duration": 73051,
    "start_time": "2021-07-29T16:19:13.656Z"
   },
   {
    "duration": 92,
    "start_time": "2021-07-29T16:20:26.710Z"
   },
   {
    "duration": 23,
    "start_time": "2021-07-29T16:20:26.805Z"
   },
   {
    "duration": 107,
    "start_time": "2021-07-29T16:20:26.830Z"
   },
   {
    "duration": 5,
    "start_time": "2021-07-29T16:20:26.939Z"
   },
   {
    "duration": 358,
    "start_time": "2021-07-29T16:20:26.946Z"
   },
   {
    "duration": 222,
    "start_time": "2021-07-29T16:20:27.306Z"
   },
   {
    "duration": 14,
    "start_time": "2021-07-29T16:20:27.531Z"
   },
   {
    "duration": 10,
    "start_time": "2021-07-29T16:20:27.548Z"
   },
   {
    "duration": 25,
    "start_time": "2021-07-29T16:20:27.561Z"
   },
   {
    "duration": 7,
    "start_time": "2021-07-29T16:20:27.589Z"
   },
   {
    "duration": 51,
    "start_time": "2021-07-29T16:20:27.598Z"
   },
   {
    "duration": 60,
    "start_time": "2021-07-29T16:20:27.651Z"
   },
   {
    "duration": 7,
    "start_time": "2021-07-29T16:20:27.714Z"
   },
   {
    "duration": 8,
    "start_time": "2021-07-29T16:20:27.723Z"
   },
   {
    "duration": 52,
    "start_time": "2021-07-29T16:20:27.734Z"
   },
   {
    "duration": 18,
    "start_time": "2021-07-29T16:20:27.789Z"
   },
   {
    "duration": 107,
    "start_time": "2021-07-29T16:20:27.810Z"
   },
   {
    "duration": 25,
    "start_time": "2021-07-29T16:20:27.920Z"
   },
   {
    "duration": 15607,
    "start_time": "2021-07-29T16:20:27.947Z"
   },
   {
    "duration": 30,
    "start_time": "2021-07-29T16:20:43.557Z"
   },
   {
    "duration": 1700,
    "start_time": "2021-07-29T16:20:43.590Z"
   },
   {
    "duration": 1800,
    "start_time": "2021-07-29T16:20:45.293Z"
   },
   {
    "duration": 1045,
    "start_time": "2021-07-29T16:20:47.096Z"
   },
   {
    "duration": 18,
    "start_time": "2021-07-29T16:20:48.143Z"
   },
   {
    "duration": 321,
    "start_time": "2021-07-29T16:20:48.164Z"
   },
   {
    "duration": 8,
    "start_time": "2021-07-29T16:20:48.488Z"
   },
   {
    "duration": 111,
    "start_time": "2021-07-29T16:20:48.498Z"
   },
   {
    "duration": 5,
    "start_time": "2021-07-29T16:20:48.612Z"
   },
   {
    "duration": 10,
    "start_time": "2021-07-29T16:20:48.619Z"
   },
   {
    "duration": 390,
    "start_time": "2021-07-29T16:20:48.632Z"
   },
   {
    "duration": 4,
    "start_time": "2021-07-29T16:20:49.025Z"
   },
   {
    "duration": 13,
    "start_time": "2021-07-29T16:20:49.031Z"
   },
   {
    "duration": 399,
    "start_time": "2021-07-29T16:20:49.052Z"
   },
   {
    "duration": 71,
    "start_time": "2021-07-29T16:20:49.454Z"
   },
   {
    "duration": 509,
    "start_time": "2021-07-29T16:20:49.527Z"
   },
   {
    "duration": 20,
    "start_time": "2021-07-29T16:20:50.038Z"
   },
   {
    "duration": 110,
    "start_time": "2021-07-29T16:20:50.061Z"
   },
   {
    "duration": 15,
    "start_time": "2021-07-29T16:20:50.173Z"
   },
   {
    "duration": 18,
    "start_time": "2021-07-29T16:20:50.190Z"
   },
   {
    "duration": 49,
    "start_time": "2021-07-29T16:20:50.210Z"
   },
   {
    "duration": 4,
    "start_time": "2021-07-29T16:28:08.521Z"
   },
   {
    "duration": 7384,
    "start_time": "2021-07-29T16:28:14.043Z"
   },
   {
    "duration": 1710,
    "start_time": "2021-07-29T16:28:21.429Z"
   },
   {
    "duration": 900,
    "start_time": "2021-07-29T16:28:23.142Z"
   },
   {
    "duration": 883,
    "start_time": "2021-07-29T16:28:24.044Z"
   },
   {
    "duration": 9,
    "start_time": "2021-07-29T16:28:24.929Z"
   },
   {
    "duration": 57,
    "start_time": "2021-07-29T16:28:24.940Z"
   },
   {
    "duration": 140,
    "start_time": "2021-07-29T16:28:25.001Z"
   },
   {
    "duration": 3552,
    "start_time": "2021-07-29T16:28:25.145Z"
   },
   {
    "duration": 101,
    "start_time": "2021-07-29T16:28:28.700Z"
   },
   {
    "duration": 44,
    "start_time": "2021-07-29T16:28:28.803Z"
   },
   {
    "duration": 78,
    "start_time": "2021-07-29T16:28:28.849Z"
   },
   {
    "duration": 301,
    "start_time": "2021-07-29T16:28:28.930Z"
   },
   {
    "duration": 203,
    "start_time": "2021-07-29T16:28:29.233Z"
   },
   {
    "duration": 7,
    "start_time": "2021-07-29T16:28:29.438Z"
   },
   {
    "duration": 539,
    "start_time": "2021-07-29T16:28:29.447Z"
   },
   {
    "duration": 25,
    "start_time": "2021-07-29T16:28:29.989Z"
   },
   {
    "duration": 24,
    "start_time": "2021-07-29T16:28:30.017Z"
   },
   {
    "duration": 52,
    "start_time": "2021-07-29T16:28:30.044Z"
   },
   {
    "duration": 20,
    "start_time": "2021-07-29T16:28:30.098Z"
   },
   {
    "duration": 9,
    "start_time": "2021-07-29T16:28:30.120Z"
   },
   {
    "duration": 21,
    "start_time": "2021-07-29T16:28:30.132Z"
   },
   {
    "duration": 152,
    "start_time": "2021-07-29T16:28:30.156Z"
   },
   {
    "duration": 412,
    "start_time": "2021-07-29T16:28:30.316Z"
   },
   {
    "duration": 488,
    "start_time": "2021-07-29T16:28:30.733Z"
   },
   {
    "duration": 17,
    "start_time": "2021-07-29T16:28:31.224Z"
   },
   {
    "duration": 446,
    "start_time": "2021-07-29T16:28:31.244Z"
   },
   {
    "duration": 740,
    "start_time": "2021-07-29T16:28:31.693Z"
   },
   {
    "duration": 25,
    "start_time": "2021-07-29T16:28:32.436Z"
   },
   {
    "duration": 304,
    "start_time": "2021-07-29T16:28:32.464Z"
   },
   {
    "duration": 174,
    "start_time": "2021-07-29T16:28:32.771Z"
   },
   {
    "duration": 56,
    "start_time": "2021-07-29T16:28:32.948Z"
   },
   {
    "duration": 16,
    "start_time": "2021-07-29T16:28:33.008Z"
   },
   {
    "duration": 43,
    "start_time": "2021-07-29T16:28:33.027Z"
   },
   {
    "duration": 20,
    "start_time": "2021-07-29T16:28:33.073Z"
   },
   {
    "duration": 80711,
    "start_time": "2021-07-29T16:28:33.096Z"
   },
   {
    "duration": 697,
    "start_time": "2021-07-29T16:29:53.809Z"
   },
   {
    "duration": 38,
    "start_time": "2021-07-29T16:29:54.509Z"
   },
   {
    "duration": 5049,
    "start_time": "2021-07-29T16:29:54.549Z"
   },
   {
    "duration": 3017,
    "start_time": "2021-07-29T16:29:59.601Z"
   },
   {
    "duration": 2360,
    "start_time": "2021-07-29T16:30:02.621Z"
   },
   {
    "duration": 14942,
    "start_time": "2021-07-29T16:30:04.986Z"
   },
   {
    "duration": 9589,
    "start_time": "2021-07-29T16:30:19.930Z"
   },
   {
    "duration": 12412,
    "start_time": "2021-07-29T16:30:29.522Z"
   },
   {
    "duration": 19373,
    "start_time": "2021-07-29T16:30:41.937Z"
   },
   {
    "duration": 2307,
    "start_time": "2021-07-29T16:31:01.313Z"
   },
   {
    "duration": 5182,
    "start_time": "2021-07-29T16:31:03.622Z"
   },
   {
    "duration": 1152,
    "start_time": "2021-07-29T16:31:08.807Z"
   },
   {
    "duration": 142,
    "start_time": "2021-07-29T16:31:09.962Z"
   },
   {
    "duration": 33,
    "start_time": "2021-07-29T16:31:10.107Z"
   },
   {
    "duration": 50,
    "start_time": "2021-07-29T16:31:10.142Z"
   },
   {
    "duration": 72,
    "start_time": "2021-07-29T16:31:10.195Z"
   },
   {
    "duration": 18,
    "start_time": "2021-07-29T16:31:10.270Z"
   },
   {
    "duration": 371,
    "start_time": "2021-07-29T16:31:10.292Z"
   },
   {
    "duration": 237,
    "start_time": "2021-07-29T16:31:10.667Z"
   },
   {
    "duration": 18,
    "start_time": "2021-07-29T16:31:10.907Z"
   },
   {
    "duration": 12,
    "start_time": "2021-07-29T16:31:10.928Z"
   },
   {
    "duration": 10,
    "start_time": "2021-07-29T16:31:10.942Z"
   },
   {
    "duration": 4,
    "start_time": "2021-07-29T16:31:10.986Z"
   },
   {
    "duration": 58,
    "start_time": "2021-07-29T16:31:10.994Z"
   },
   {
    "duration": 67,
    "start_time": "2021-07-29T16:31:11.055Z"
   },
   {
    "duration": 7,
    "start_time": "2021-07-29T16:31:11.125Z"
   },
   {
    "duration": 7,
    "start_time": "2021-07-29T16:31:11.135Z"
   },
   {
    "duration": 54,
    "start_time": "2021-07-29T16:31:11.144Z"
   },
   {
    "duration": 19,
    "start_time": "2021-07-29T16:31:11.200Z"
   },
   {
    "duration": 115,
    "start_time": "2021-07-29T16:31:11.222Z"
   },
   {
    "duration": 25,
    "start_time": "2021-07-29T16:31:11.340Z"
   },
   {
    "duration": 15198,
    "start_time": "2021-07-29T16:31:11.386Z"
   },
   {
    "duration": 28,
    "start_time": "2021-07-29T16:31:26.594Z"
   },
   {
    "duration": 1735,
    "start_time": "2021-07-29T16:31:26.625Z"
   },
   {
    "duration": 1679,
    "start_time": "2021-07-29T16:31:28.363Z"
   },
   {
    "duration": 1062,
    "start_time": "2021-07-29T16:31:30.045Z"
   },
   {
    "duration": 16,
    "start_time": "2021-07-29T16:31:31.110Z"
   },
   {
    "duration": 308,
    "start_time": "2021-07-29T16:31:31.129Z"
   },
   {
    "duration": 7,
    "start_time": "2021-07-29T16:31:31.439Z"
   },
   {
    "duration": 119,
    "start_time": "2021-07-29T16:31:31.449Z"
   },
   {
    "duration": 5,
    "start_time": "2021-07-29T16:31:31.570Z"
   },
   {
    "duration": 15,
    "start_time": "2021-07-29T16:31:31.585Z"
   },
   {
    "duration": 389,
    "start_time": "2021-07-29T16:31:31.603Z"
   },
   {
    "duration": 4,
    "start_time": "2021-07-29T16:31:31.994Z"
   },
   {
    "duration": 36,
    "start_time": "2021-07-29T16:31:32.000Z"
   },
   {
    "duration": 389,
    "start_time": "2021-07-29T16:31:32.038Z"
   },
   {
    "duration": 69,
    "start_time": "2021-07-29T16:31:32.429Z"
   },
   {
    "duration": 516,
    "start_time": "2021-07-29T16:31:32.501Z"
   },
   {
    "duration": 19,
    "start_time": "2021-07-29T16:31:33.020Z"
   },
   {
    "duration": 120,
    "start_time": "2021-07-29T16:31:33.041Z"
   },
   {
    "duration": 27,
    "start_time": "2021-07-29T16:31:33.164Z"
   },
   {
    "duration": 10,
    "start_time": "2021-07-29T16:31:33.194Z"
   },
   {
    "duration": 91,
    "start_time": "2021-07-29T16:31:33.206Z"
   }
  ],
  "kernelspec": {
   "display_name": "Python 3",
   "language": "python",
   "name": "python3"
  },
  "language_info": {
   "codemirror_mode": {
    "name": "ipython",
    "version": 3
   },
   "file_extension": ".py",
   "mimetype": "text/x-python",
   "name": "python",
   "nbconvert_exporter": "python",
   "pygments_lexer": "ipython3",
   "version": "3.8.8"
  },
  "toc": {
   "base_numbering": 1,
   "nav_menu": {},
   "number_sections": true,
   "sideBar": true,
   "skip_h1_title": true,
   "title_cell": "Table of Contents",
   "title_sidebar": "Contents",
   "toc_cell": true,
   "toc_position": {
    "height": "calc(100% - 180px)",
    "left": "10px",
    "top": "150px",
    "width": "366.391px"
   },
   "toc_section_display": true,
   "toc_window_display": true
  }
 },
 "nbformat": 4,
 "nbformat_minor": 2
}
