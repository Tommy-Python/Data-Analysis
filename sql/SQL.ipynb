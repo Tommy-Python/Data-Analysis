{
 "cells": [
  {
   "cell_type": "markdown",
   "id": "eca95068",
   "metadata": {},
   "source": [
    "## SQL Project\n",
    "The coronavirus took the entire world by surprise, changing everyone's daily routine. City dwellers no longer spent their free time outside, going to cafes and malls; more people were home, reading books. That attracted the attention of startups that rushed to develop new apps for book lovers.\n",
    "You've been given a database of one of the services competing in this market. It contains data on books, publishers, authors, and customer ratings and reviews of books. This information will be used to generate a value proposition for a new product."
   ]
  },
  {
   "cell_type": "code",
   "execution_count": 1,
   "id": "ac783ff4",
   "metadata": {},
   "outputs": [
    {
     "name": "stdout",
     "output_type": "stream",
     "text": [
      "Defaulting to user installation because normal site-packages is not writeable\n",
      "Requirement already satisfied: psycopg2-binary in /opt/conda/lib/python3.7/site-packages (2.8.4)\n"
     ]
    }
   ],
   "source": [
    "# import libraries\n",
    "import pandas as pd\n",
    "!pip install psycopg2-binary\n",
    "from sqlalchemy import create_engine\n",
    "\n",
    "\n",
    "db_config = {'user': 'user',         # user name\n",
    "             'pwd': 'pwd', # password\n",
    "             'host': 'host', # host\n",
    "             'port': 6432,              # connection port\n",
    "             'db': 'db'}          # the name of the data base\n",
    "\n",
    "connection_string = 'postgresql://{}:{}@{}:{}/{}'.format(db_config['user'],\n",
    "                                                                     db_config['pwd'],\n",
    "                                                                       db_config['host'],\n",
    "                                                                       db_config['port'],\n",
    "                                                                       db_config['db'])\n",
    "\n",
    "engine = create_engine(connection_string, connect_args={'sslmode':'require'})\n",
    "\n",
    "\n",
    "def taskfunc(query):\n",
    "    data=pd.io.sql.read_sql(query, con = engine)\n",
    "    display(data)\n",
    "\n",
    "\n",
    "\n"
   ]
  },
  {
   "cell_type": "markdown",
   "id": "b6a489c1",
   "metadata": {},
   "source": [
    "## 1.  Print the head of all tables"
   ]
  },
  {
   "cell_type": "code",
   "execution_count": null,
   "id": "51e21c94",
   "metadata": {},
   "outputs": [],
   "source": []
  },
  {
   "cell_type": "code",
   "execution_count": 2,
   "id": "169af5b5",
   "metadata": {},
   "outputs": [],
   "source": [
    "def printfunc(table):\n",
    "    taskfunc(\n",
    "    '''\n",
    "    SELECT * FROM {}\n",
    "\n",
    "\n",
    "    LIMIT 5\n",
    "    '''.format(table)\n",
    "    )"
   ]
  },
  {
   "cell_type": "code",
   "execution_count": 3,
   "id": "151507fc",
   "metadata": {},
   "outputs": [],
   "source": [
    "table=[\"books\",\"ratings\",\"reviews\",\"publishers\",\"authors\"]"
   ]
  },
  {
   "cell_type": "code",
   "execution_count": 4,
   "id": "9ed09f74",
   "metadata": {},
   "outputs": [
    {
     "data": {
      "text/html": [
       "<div>\n",
       "<style scoped>\n",
       "    .dataframe tbody tr th:only-of-type {\n",
       "        vertical-align: middle;\n",
       "    }\n",
       "\n",
       "    .dataframe tbody tr th {\n",
       "        vertical-align: top;\n",
       "    }\n",
       "\n",
       "    .dataframe thead th {\n",
       "        text-align: right;\n",
       "    }\n",
       "</style>\n",
       "<table border=\"1\" class=\"dataframe\">\n",
       "  <thead>\n",
       "    <tr style=\"text-align: right;\">\n",
       "      <th></th>\n",
       "      <th>book_id</th>\n",
       "      <th>author_id</th>\n",
       "      <th>title</th>\n",
       "      <th>num_pages</th>\n",
       "      <th>publication_date</th>\n",
       "      <th>publisher_id</th>\n",
       "    </tr>\n",
       "  </thead>\n",
       "  <tbody>\n",
       "    <tr>\n",
       "      <td>0</td>\n",
       "      <td>1</td>\n",
       "      <td>546</td>\n",
       "      <td>'Salem's Lot</td>\n",
       "      <td>594</td>\n",
       "      <td>2005-11-01</td>\n",
       "      <td>93</td>\n",
       "    </tr>\n",
       "    <tr>\n",
       "      <td>1</td>\n",
       "      <td>2</td>\n",
       "      <td>465</td>\n",
       "      <td>1 000 Places to See Before You Die</td>\n",
       "      <td>992</td>\n",
       "      <td>2003-05-22</td>\n",
       "      <td>336</td>\n",
       "    </tr>\n",
       "    <tr>\n",
       "      <td>2</td>\n",
       "      <td>3</td>\n",
       "      <td>407</td>\n",
       "      <td>13 Little Blue Envelopes (Little Blue Envelope...</td>\n",
       "      <td>322</td>\n",
       "      <td>2010-12-21</td>\n",
       "      <td>135</td>\n",
       "    </tr>\n",
       "    <tr>\n",
       "      <td>3</td>\n",
       "      <td>4</td>\n",
       "      <td>82</td>\n",
       "      <td>1491: New Revelations of the Americas Before C...</td>\n",
       "      <td>541</td>\n",
       "      <td>2006-10-10</td>\n",
       "      <td>309</td>\n",
       "    </tr>\n",
       "    <tr>\n",
       "      <td>4</td>\n",
       "      <td>5</td>\n",
       "      <td>125</td>\n",
       "      <td>1776</td>\n",
       "      <td>386</td>\n",
       "      <td>2006-07-04</td>\n",
       "      <td>268</td>\n",
       "    </tr>\n",
       "  </tbody>\n",
       "</table>\n",
       "</div>"
      ],
      "text/plain": [
       "   book_id  author_id                                              title  \\\n",
       "0        1        546                                       'Salem's Lot   \n",
       "1        2        465                 1 000 Places to See Before You Die   \n",
       "2        3        407  13 Little Blue Envelopes (Little Blue Envelope...   \n",
       "3        4         82  1491: New Revelations of the Americas Before C...   \n",
       "4        5        125                                               1776   \n",
       "\n",
       "   num_pages publication_date  publisher_id  \n",
       "0        594       2005-11-01            93  \n",
       "1        992       2003-05-22           336  \n",
       "2        322       2010-12-21           135  \n",
       "3        541       2006-10-10           309  \n",
       "4        386       2006-07-04           268  "
      ]
     },
     "metadata": {},
     "output_type": "display_data"
    },
    {
     "data": {
      "text/html": [
       "<div>\n",
       "<style scoped>\n",
       "    .dataframe tbody tr th:only-of-type {\n",
       "        vertical-align: middle;\n",
       "    }\n",
       "\n",
       "    .dataframe tbody tr th {\n",
       "        vertical-align: top;\n",
       "    }\n",
       "\n",
       "    .dataframe thead th {\n",
       "        text-align: right;\n",
       "    }\n",
       "</style>\n",
       "<table border=\"1\" class=\"dataframe\">\n",
       "  <thead>\n",
       "    <tr style=\"text-align: right;\">\n",
       "      <th></th>\n",
       "      <th>rating_id</th>\n",
       "      <th>book_id</th>\n",
       "      <th>username</th>\n",
       "      <th>rating</th>\n",
       "    </tr>\n",
       "  </thead>\n",
       "  <tbody>\n",
       "    <tr>\n",
       "      <td>0</td>\n",
       "      <td>1</td>\n",
       "      <td>1</td>\n",
       "      <td>ryanfranco</td>\n",
       "      <td>4</td>\n",
       "    </tr>\n",
       "    <tr>\n",
       "      <td>1</td>\n",
       "      <td>2</td>\n",
       "      <td>1</td>\n",
       "      <td>grantpatricia</td>\n",
       "      <td>2</td>\n",
       "    </tr>\n",
       "    <tr>\n",
       "      <td>2</td>\n",
       "      <td>3</td>\n",
       "      <td>1</td>\n",
       "      <td>brandtandrea</td>\n",
       "      <td>5</td>\n",
       "    </tr>\n",
       "    <tr>\n",
       "      <td>3</td>\n",
       "      <td>4</td>\n",
       "      <td>2</td>\n",
       "      <td>lorichen</td>\n",
       "      <td>3</td>\n",
       "    </tr>\n",
       "    <tr>\n",
       "      <td>4</td>\n",
       "      <td>5</td>\n",
       "      <td>2</td>\n",
       "      <td>mariokeller</td>\n",
       "      <td>2</td>\n",
       "    </tr>\n",
       "  </tbody>\n",
       "</table>\n",
       "</div>"
      ],
      "text/plain": [
       "   rating_id  book_id       username  rating\n",
       "0          1        1     ryanfranco       4\n",
       "1          2        1  grantpatricia       2\n",
       "2          3        1   brandtandrea       5\n",
       "3          4        2       lorichen       3\n",
       "4          5        2    mariokeller       2"
      ]
     },
     "metadata": {},
     "output_type": "display_data"
    },
    {
     "data": {
      "text/html": [
       "<div>\n",
       "<style scoped>\n",
       "    .dataframe tbody tr th:only-of-type {\n",
       "        vertical-align: middle;\n",
       "    }\n",
       "\n",
       "    .dataframe tbody tr th {\n",
       "        vertical-align: top;\n",
       "    }\n",
       "\n",
       "    .dataframe thead th {\n",
       "        text-align: right;\n",
       "    }\n",
       "</style>\n",
       "<table border=\"1\" class=\"dataframe\">\n",
       "  <thead>\n",
       "    <tr style=\"text-align: right;\">\n",
       "      <th></th>\n",
       "      <th>review_id</th>\n",
       "      <th>book_id</th>\n",
       "      <th>username</th>\n",
       "      <th>text</th>\n",
       "    </tr>\n",
       "  </thead>\n",
       "  <tbody>\n",
       "    <tr>\n",
       "      <td>0</td>\n",
       "      <td>1</td>\n",
       "      <td>1</td>\n",
       "      <td>brandtandrea</td>\n",
       "      <td>Mention society tell send professor analysis. ...</td>\n",
       "    </tr>\n",
       "    <tr>\n",
       "      <td>1</td>\n",
       "      <td>2</td>\n",
       "      <td>1</td>\n",
       "      <td>ryanfranco</td>\n",
       "      <td>Foot glass pretty audience hit themselves. Amo...</td>\n",
       "    </tr>\n",
       "    <tr>\n",
       "      <td>2</td>\n",
       "      <td>3</td>\n",
       "      <td>2</td>\n",
       "      <td>lorichen</td>\n",
       "      <td>Listen treat keep worry. Miss husband tax but ...</td>\n",
       "    </tr>\n",
       "    <tr>\n",
       "      <td>3</td>\n",
       "      <td>4</td>\n",
       "      <td>3</td>\n",
       "      <td>johnsonamanda</td>\n",
       "      <td>Finally month interesting blue could nature cu...</td>\n",
       "    </tr>\n",
       "    <tr>\n",
       "      <td>4</td>\n",
       "      <td>5</td>\n",
       "      <td>3</td>\n",
       "      <td>scotttamara</td>\n",
       "      <td>Nation purpose heavy give wait song will. List...</td>\n",
       "    </tr>\n",
       "  </tbody>\n",
       "</table>\n",
       "</div>"
      ],
      "text/plain": [
       "   review_id  book_id       username  \\\n",
       "0          1        1   brandtandrea   \n",
       "1          2        1     ryanfranco   \n",
       "2          3        2       lorichen   \n",
       "3          4        3  johnsonamanda   \n",
       "4          5        3    scotttamara   \n",
       "\n",
       "                                                text  \n",
       "0  Mention society tell send professor analysis. ...  \n",
       "1  Foot glass pretty audience hit themselves. Amo...  \n",
       "2  Listen treat keep worry. Miss husband tax but ...  \n",
       "3  Finally month interesting blue could nature cu...  \n",
       "4  Nation purpose heavy give wait song will. List...  "
      ]
     },
     "metadata": {},
     "output_type": "display_data"
    },
    {
     "data": {
      "text/html": [
       "<div>\n",
       "<style scoped>\n",
       "    .dataframe tbody tr th:only-of-type {\n",
       "        vertical-align: middle;\n",
       "    }\n",
       "\n",
       "    .dataframe tbody tr th {\n",
       "        vertical-align: top;\n",
       "    }\n",
       "\n",
       "    .dataframe thead th {\n",
       "        text-align: right;\n",
       "    }\n",
       "</style>\n",
       "<table border=\"1\" class=\"dataframe\">\n",
       "  <thead>\n",
       "    <tr style=\"text-align: right;\">\n",
       "      <th></th>\n",
       "      <th>publisher_id</th>\n",
       "      <th>publisher</th>\n",
       "    </tr>\n",
       "  </thead>\n",
       "  <tbody>\n",
       "    <tr>\n",
       "      <td>0</td>\n",
       "      <td>1</td>\n",
       "      <td>Ace</td>\n",
       "    </tr>\n",
       "    <tr>\n",
       "      <td>1</td>\n",
       "      <td>2</td>\n",
       "      <td>Ace Book</td>\n",
       "    </tr>\n",
       "    <tr>\n",
       "      <td>2</td>\n",
       "      <td>3</td>\n",
       "      <td>Ace Books</td>\n",
       "    </tr>\n",
       "    <tr>\n",
       "      <td>3</td>\n",
       "      <td>4</td>\n",
       "      <td>Ace Hardcover</td>\n",
       "    </tr>\n",
       "    <tr>\n",
       "      <td>4</td>\n",
       "      <td>5</td>\n",
       "      <td>Addison Wesley Publishing Company</td>\n",
       "    </tr>\n",
       "  </tbody>\n",
       "</table>\n",
       "</div>"
      ],
      "text/plain": [
       "   publisher_id                          publisher\n",
       "0             1                                Ace\n",
       "1             2                           Ace Book\n",
       "2             3                          Ace Books\n",
       "3             4                      Ace Hardcover\n",
       "4             5  Addison Wesley Publishing Company"
      ]
     },
     "metadata": {},
     "output_type": "display_data"
    },
    {
     "data": {
      "text/html": [
       "<div>\n",
       "<style scoped>\n",
       "    .dataframe tbody tr th:only-of-type {\n",
       "        vertical-align: middle;\n",
       "    }\n",
       "\n",
       "    .dataframe tbody tr th {\n",
       "        vertical-align: top;\n",
       "    }\n",
       "\n",
       "    .dataframe thead th {\n",
       "        text-align: right;\n",
       "    }\n",
       "</style>\n",
       "<table border=\"1\" class=\"dataframe\">\n",
       "  <thead>\n",
       "    <tr style=\"text-align: right;\">\n",
       "      <th></th>\n",
       "      <th>author_id</th>\n",
       "      <th>author</th>\n",
       "    </tr>\n",
       "  </thead>\n",
       "  <tbody>\n",
       "    <tr>\n",
       "      <td>0</td>\n",
       "      <td>1</td>\n",
       "      <td>A.S. Byatt</td>\n",
       "    </tr>\n",
       "    <tr>\n",
       "      <td>1</td>\n",
       "      <td>2</td>\n",
       "      <td>Aesop/Laura Harris/Laura Gibbs</td>\n",
       "    </tr>\n",
       "    <tr>\n",
       "      <td>2</td>\n",
       "      <td>3</td>\n",
       "      <td>Agatha Christie</td>\n",
       "    </tr>\n",
       "    <tr>\n",
       "      <td>3</td>\n",
       "      <td>4</td>\n",
       "      <td>Alan Brennert</td>\n",
       "    </tr>\n",
       "    <tr>\n",
       "      <td>4</td>\n",
       "      <td>5</td>\n",
       "      <td>Alan Moore/David   Lloyd</td>\n",
       "    </tr>\n",
       "  </tbody>\n",
       "</table>\n",
       "</div>"
      ],
      "text/plain": [
       "   author_id                          author\n",
       "0          1                      A.S. Byatt\n",
       "1          2  Aesop/Laura Harris/Laura Gibbs\n",
       "2          3                 Agatha Christie\n",
       "3          4                   Alan Brennert\n",
       "4          5        Alan Moore/David   Lloyd"
      ]
     },
     "metadata": {},
     "output_type": "display_data"
    }
   ],
   "source": [
    "for tablename in table:\n",
    "    printfunc(tablename)"
   ]
  },
  {
   "cell_type": "code",
   "execution_count": 5,
   "id": "b5232477",
   "metadata": {},
   "outputs": [],
   "source": [
    "def dtaskfunc(query):\n",
    "    data=pd.io.sql.read_sql(query, con = engine)"
   ]
  },
  {
   "cell_type": "code",
   "execution_count": 6,
   "id": "58ef2998",
   "metadata": {},
   "outputs": [],
   "source": [
    "def dprintfunc(table):\n",
    "    dtaskfunc(\n",
    "    '''\n",
    "    SELECT * FROM {}\n",
    "\n",
    "\n",
    "    \n",
    "    '''.format(table)\n",
    "    )"
   ]
  },
  {
   "cell_type": "code",
   "execution_count": 7,
   "id": "edd4cffd",
   "metadata": {},
   "outputs": [],
   "source": [
    "for tablename in table:\n",
    "    abc=pd.DataFrame(dprintfunc(tablename))\n",
    "    abc.duplicated()"
   ]
  },
  {
   "cell_type": "markdown",
   "id": "f2a1ee3b",
   "metadata": {},
   "source": [
    "An empty dataframe show there are no duplicates"
   ]
  },
  {
   "cell_type": "markdown",
   "id": "2614360f",
   "metadata": {},
   "source": [
    "## 2.1 Find the number of books released after January 1, 2000."
   ]
  },
  {
   "cell_type": "code",
   "execution_count": 8,
   "id": "b40074df",
   "metadata": {},
   "outputs": [
    {
     "data": {
      "text/html": [
       "<div>\n",
       "<style scoped>\n",
       "    .dataframe tbody tr th:only-of-type {\n",
       "        vertical-align: middle;\n",
       "    }\n",
       "\n",
       "    .dataframe tbody tr th {\n",
       "        vertical-align: top;\n",
       "    }\n",
       "\n",
       "    .dataframe thead th {\n",
       "        text-align: right;\n",
       "    }\n",
       "</style>\n",
       "<table border=\"1\" class=\"dataframe\">\n",
       "  <thead>\n",
       "    <tr style=\"text-align: right;\">\n",
       "      <th></th>\n",
       "      <th>count</th>\n",
       "    </tr>\n",
       "  </thead>\n",
       "  <tbody>\n",
       "    <tr>\n",
       "      <td>0</td>\n",
       "      <td>819</td>\n",
       "    </tr>\n",
       "  </tbody>\n",
       "</table>\n",
       "</div>"
      ],
      "text/plain": [
       "   count\n",
       "0    819"
      ]
     },
     "metadata": {},
     "output_type": "display_data"
    }
   ],
   "source": [
    "taskfunc(\n",
    "'''\n",
    "SELECT COUNT(*)\n",
    "\n",
    "FROM books\n",
    "\n",
    "WHERE\n",
    "            CAST(books.publication_date AS date)  > '2000-01-01'\n",
    "\n",
    "LIMIT 5\n",
    "'''\n",
    ")"
   ]
  },
  {
   "cell_type": "markdown",
   "id": "eae988a6",
   "metadata": {},
   "source": [
    "The books released after 2000 are 819 pieces"
   ]
  },
  {
   "cell_type": "code",
   "execution_count": null,
   "id": "f1ac9c11",
   "metadata": {},
   "outputs": [],
   "source": []
  },
  {
   "cell_type": "markdown",
   "id": "811e8f7e",
   "metadata": {},
   "source": [
    "## 2.2 Find the number of user reviews and the average rating for each book."
   ]
  },
  {
   "cell_type": "code",
   "execution_count": 9,
   "id": "80a41d2e",
   "metadata": {},
   "outputs": [
    {
     "data": {
      "text/plain": [
       "['books', 'ratings', 'reviews', 'publishers', 'authors']"
      ]
     },
     "execution_count": 9,
     "metadata": {},
     "output_type": "execute_result"
    }
   ],
   "source": [
    "table"
   ]
  },
  {
   "cell_type": "code",
   "execution_count": 10,
   "id": "02942289",
   "metadata": {},
   "outputs": [
    {
     "data": {
      "text/html": [
       "<div>\n",
       "<style scoped>\n",
       "    .dataframe tbody tr th:only-of-type {\n",
       "        vertical-align: middle;\n",
       "    }\n",
       "\n",
       "    .dataframe tbody tr th {\n",
       "        vertical-align: top;\n",
       "    }\n",
       "\n",
       "    .dataframe thead th {\n",
       "        text-align: right;\n",
       "    }\n",
       "</style>\n",
       "<table border=\"1\" class=\"dataframe\">\n",
       "  <thead>\n",
       "    <tr style=\"text-align: right;\">\n",
       "      <th></th>\n",
       "      <th>title</th>\n",
       "      <th>avg</th>\n",
       "      <th>count</th>\n",
       "    </tr>\n",
       "  </thead>\n",
       "  <tbody>\n",
       "    <tr>\n",
       "      <td>0</td>\n",
       "      <td>Memoirs of a Geisha</td>\n",
       "      <td>4.138462</td>\n",
       "      <td>8</td>\n",
       "    </tr>\n",
       "    <tr>\n",
       "      <td>1</td>\n",
       "      <td>Twilight (Twilight  #1)</td>\n",
       "      <td>3.662500</td>\n",
       "      <td>7</td>\n",
       "    </tr>\n",
       "    <tr>\n",
       "      <td>2</td>\n",
       "      <td>The Da Vinci Code (Robert Langdon  #2)</td>\n",
       "      <td>3.830508</td>\n",
       "      <td>6</td>\n",
       "    </tr>\n",
       "    <tr>\n",
       "      <td>3</td>\n",
       "      <td>The Road</td>\n",
       "      <td>3.772727</td>\n",
       "      <td>6</td>\n",
       "    </tr>\n",
       "    <tr>\n",
       "      <td>4</td>\n",
       "      <td>Harry Potter and the Prisoner of Azkaban (Harr...</td>\n",
       "      <td>4.414634</td>\n",
       "      <td>6</td>\n",
       "    </tr>\n",
       "    <tr>\n",
       "      <td>...</td>\n",
       "      <td>...</td>\n",
       "      <td>...</td>\n",
       "      <td>...</td>\n",
       "    </tr>\n",
       "    <tr>\n",
       "      <td>988</td>\n",
       "      <td>Naked Empire (Sword of Truth  #8)</td>\n",
       "      <td>3.500000</td>\n",
       "      <td>1</td>\n",
       "    </tr>\n",
       "    <tr>\n",
       "      <td>989</td>\n",
       "      <td>Moo  Baa  La La La!</td>\n",
       "      <td>3.000000</td>\n",
       "      <td>1</td>\n",
       "    </tr>\n",
       "    <tr>\n",
       "      <td>990</td>\n",
       "      <td>Merrick (The Vampire Chronicles #7)</td>\n",
       "      <td>4.000000</td>\n",
       "      <td>1</td>\n",
       "    </tr>\n",
       "    <tr>\n",
       "      <td>991</td>\n",
       "      <td>Babyville</td>\n",
       "      <td>3.500000</td>\n",
       "      <td>1</td>\n",
       "    </tr>\n",
       "    <tr>\n",
       "      <td>992</td>\n",
       "      <td>Lysistrata</td>\n",
       "      <td>4.000000</td>\n",
       "      <td>1</td>\n",
       "    </tr>\n",
       "  </tbody>\n",
       "</table>\n",
       "<p>993 rows × 3 columns</p>\n",
       "</div>"
      ],
      "text/plain": [
       "                                                 title       avg  count\n",
       "0                                  Memoirs of a Geisha  4.138462      8\n",
       "1                              Twilight (Twilight  #1)  3.662500      7\n",
       "2               The Da Vinci Code (Robert Langdon  #2)  3.830508      6\n",
       "3                                             The Road  3.772727      6\n",
       "4    Harry Potter and the Prisoner of Azkaban (Harr...  4.414634      6\n",
       "..                                                 ...       ...    ...\n",
       "988                  Naked Empire (Sword of Truth  #8)  3.500000      1\n",
       "989                                Moo  Baa  La La La!  3.000000      1\n",
       "990                Merrick (The Vampire Chronicles #7)  4.000000      1\n",
       "991                                          Babyville  3.500000      1\n",
       "992                                         Lysistrata  4.000000      1\n",
       "\n",
       "[993 rows x 3 columns]"
      ]
     },
     "metadata": {},
     "output_type": "display_data"
    }
   ],
   "source": [
    "taskfunc(\n",
    "'''\n",
    "SELECT \n",
    "    books.title,\n",
    "    AVG(ratings.rating),\n",
    "    COUNT(DISTINCT reviews.username)\n",
    "FROM\n",
    "    reviews\n",
    "    LEFT JOIN \n",
    "       ratings ON ratings.book_id = reviews.book_id\n",
    "    LEFT JOIN \n",
    "       books ON books.book_id = reviews.book_id\n",
    "Group by\n",
    "books.title\n",
    "ORDER BY\n",
    "count DESC\n",
    "\n",
    "\n",
    "\n",
    "\n",
    "'''\n",
    ")"
   ]
  },
  {
   "cell_type": "markdown",
   "id": "6ac843cb",
   "metadata": {},
   "source": [
    "## 2.3 Identify the publisher that has released the greatest number of books with more than 50 pages (this will help you exclude brochures and similar publications from your analysis)."
   ]
  },
  {
   "cell_type": "code",
   "execution_count": 11,
   "id": "31e91b72",
   "metadata": {},
   "outputs": [
    {
     "data": {
      "text/plain": [
       "['books', 'ratings', 'reviews', 'publishers', 'authors']"
      ]
     },
     "execution_count": 11,
     "metadata": {},
     "output_type": "execute_result"
    }
   ],
   "source": [
    "table\n"
   ]
  },
  {
   "cell_type": "code",
   "execution_count": 12,
   "id": "5bf92a8e",
   "metadata": {},
   "outputs": [
    {
     "data": {
      "text/html": [
       "<div>\n",
       "<style scoped>\n",
       "    .dataframe tbody tr th:only-of-type {\n",
       "        vertical-align: middle;\n",
       "    }\n",
       "\n",
       "    .dataframe tbody tr th {\n",
       "        vertical-align: top;\n",
       "    }\n",
       "\n",
       "    .dataframe thead th {\n",
       "        text-align: right;\n",
       "    }\n",
       "</style>\n",
       "<table border=\"1\" class=\"dataframe\">\n",
       "  <thead>\n",
       "    <tr style=\"text-align: right;\">\n",
       "      <th></th>\n",
       "      <th>publisher</th>\n",
       "      <th>count</th>\n",
       "    </tr>\n",
       "  </thead>\n",
       "  <tbody>\n",
       "    <tr>\n",
       "      <td>0</td>\n",
       "      <td>Penguin Books</td>\n",
       "      <td>42</td>\n",
       "    </tr>\n",
       "  </tbody>\n",
       "</table>\n",
       "</div>"
      ],
      "text/plain": [
       "       publisher  count\n",
       "0  Penguin Books     42"
      ]
     },
     "metadata": {},
     "output_type": "display_data"
    }
   ],
   "source": [
    "taskfunc(\n",
    "'''\n",
    "SELECT \n",
    "    publishers.publisher,\n",
    "    COUNT(books.book_id)\n",
    "FROM\n",
    "    publishers\n",
    "    \n",
    "    LEFT JOIN \n",
    "       books ON books.publisher_id = publishers.publisher_id\n",
    "WHERE\n",
    "books.num_pages > 50\n",
    "\n",
    "    \n",
    "Group by\n",
    "publishers.publisher_id\n",
    "ORDER BY\n",
    "count DESC\n",
    "\n",
    "\n",
    "\n",
    "LIMIT 1\n",
    "'''\n",
    ")"
   ]
  },
  {
   "cell_type": "markdown",
   "id": "29731263",
   "metadata": {},
   "source": [
    "## 2.4 Identify the author with the highest average book rating (look only at books with at least 50 ratings)."
   ]
  },
  {
   "cell_type": "code",
   "execution_count": 13,
   "id": "190d2fd9",
   "metadata": {},
   "outputs": [
    {
     "data": {
      "text/plain": [
       "['books', 'ratings', 'reviews', 'publishers', 'authors']"
      ]
     },
     "execution_count": 13,
     "metadata": {},
     "output_type": "execute_result"
    }
   ],
   "source": [
    "table"
   ]
  },
  {
   "cell_type": "code",
   "execution_count": 14,
   "id": "a4ef9664",
   "metadata": {},
   "outputs": [
    {
     "data": {
      "text/html": [
       "<div>\n",
       "<style scoped>\n",
       "    .dataframe tbody tr th:only-of-type {\n",
       "        vertical-align: middle;\n",
       "    }\n",
       "\n",
       "    .dataframe tbody tr th {\n",
       "        vertical-align: top;\n",
       "    }\n",
       "\n",
       "    .dataframe thead th {\n",
       "        text-align: right;\n",
       "    }\n",
       "</style>\n",
       "<table border=\"1\" class=\"dataframe\">\n",
       "  <thead>\n",
       "    <tr style=\"text-align: right;\">\n",
       "      <th></th>\n",
       "      <th>author</th>\n",
       "      <th>avg</th>\n",
       "      <th>count</th>\n",
       "    </tr>\n",
       "  </thead>\n",
       "  <tbody>\n",
       "    <tr>\n",
       "      <td>0</td>\n",
       "      <td>J.K. Rowling/Mary GrandPré</td>\n",
       "      <td>4.288462</td>\n",
       "      <td>312</td>\n",
       "    </tr>\n",
       "  </tbody>\n",
       "</table>\n",
       "</div>"
      ],
      "text/plain": [
       "                       author       avg  count\n",
       "0  J.K. Rowling/Mary GrandPré  4.288462    312"
      ]
     },
     "metadata": {},
     "output_type": "display_data"
    }
   ],
   "source": [
    "taskfunc(\n",
    "'''\n",
    "SELECT \n",
    "    authors.author,\n",
    "    AVG(ratings.rating),\n",
    "    COUNT(ratings.rating)\n",
    "FROM\n",
    "    books\n",
    "    \n",
    "    LEFT JOIN \n",
    "       authors ON authors.author_id = books.author_id\n",
    "    LEFT JOIN \n",
    "       ratings ON ratings.book_id = books.book_id\n",
    "\n",
    "\n",
    "    \n",
    "Group by\n",
    "authors.author\n",
    "HAVING\n",
    "Count(ratings.rating) > 50\n",
    "ORDER BY\n",
    "avg DESC\n",
    "\n",
    "\n",
    "\n",
    "LIMIT 1\n",
    "'''\n",
    ")"
   ]
  },
  {
   "cell_type": "markdown",
   "id": "bb868bba",
   "metadata": {},
   "source": [
    "## 2.5 Find the average number of text reviews among users who rated more than 50 books."
   ]
  },
  {
   "cell_type": "code",
   "execution_count": 15,
   "id": "38c7a7dc",
   "metadata": {},
   "outputs": [
    {
     "data": {
      "text/plain": [
       "['books', 'ratings', 'reviews', 'publishers', 'authors']"
      ]
     },
     "execution_count": 15,
     "metadata": {},
     "output_type": "execute_result"
    }
   ],
   "source": [
    "table"
   ]
  },
  {
   "cell_type": "code",
   "execution_count": 16,
   "id": "52c82238",
   "metadata": {},
   "outputs": [
    {
     "data": {
      "text/html": [
       "<div>\n",
       "<style scoped>\n",
       "    .dataframe tbody tr th:only-of-type {\n",
       "        vertical-align: middle;\n",
       "    }\n",
       "\n",
       "    .dataframe tbody tr th {\n",
       "        vertical-align: top;\n",
       "    }\n",
       "\n",
       "    .dataframe thead th {\n",
       "        text-align: right;\n",
       "    }\n",
       "</style>\n",
       "<table border=\"1\" class=\"dataframe\">\n",
       "  <thead>\n",
       "    <tr style=\"text-align: right;\">\n",
       "      <th></th>\n",
       "      <th>count</th>\n",
       "      <th>username</th>\n",
       "    </tr>\n",
       "  </thead>\n",
       "  <tbody>\n",
       "    <tr>\n",
       "      <td>0</td>\n",
       "      <td>56</td>\n",
       "      <td>martinadam</td>\n",
       "    </tr>\n",
       "    <tr>\n",
       "      <td>1</td>\n",
       "      <td>56</td>\n",
       "      <td>paul88</td>\n",
       "    </tr>\n",
       "    <tr>\n",
       "      <td>2</td>\n",
       "      <td>55</td>\n",
       "      <td>richard89</td>\n",
       "    </tr>\n",
       "    <tr>\n",
       "      <td>3</td>\n",
       "      <td>55</td>\n",
       "      <td>sfitzgerald</td>\n",
       "    </tr>\n",
       "    <tr>\n",
       "      <td>4</td>\n",
       "      <td>53</td>\n",
       "      <td>jennifermiller</td>\n",
       "    </tr>\n",
       "    <tr>\n",
       "      <td>5</td>\n",
       "      <td>51</td>\n",
       "      <td>xdavis</td>\n",
       "    </tr>\n",
       "  </tbody>\n",
       "</table>\n",
       "</div>"
      ],
      "text/plain": [
       "   count        username\n",
       "0     56      martinadam\n",
       "1     56          paul88\n",
       "2     55       richard89\n",
       "3     55     sfitzgerald\n",
       "4     53  jennifermiller\n",
       "5     51          xdavis"
      ]
     },
     "metadata": {},
     "output_type": "display_data"
    }
   ],
   "source": [
    "taskfunc(\n",
    "'''\n",
    "SELECT \n",
    "            count(username),\n",
    "            username\n",
    "FROM ratings\n",
    "\n",
    "group by \n",
    "username\n",
    "ORDER BY\n",
    "COUNT DESC\n",
    "\n",
    "LIMIT 6\n",
    "'''\n",
    ")"
   ]
  },
  {
   "cell_type": "code",
   "execution_count": null,
   "id": "e9060f11",
   "metadata": {},
   "outputs": [],
   "source": []
  },
  {
   "cell_type": "code",
   "execution_count": 17,
   "id": "8d6ab515",
   "metadata": {},
   "outputs": [
    {
     "data": {
      "text/html": [
       "<div>\n",
       "<style scoped>\n",
       "    .dataframe tbody tr th:only-of-type {\n",
       "        vertical-align: middle;\n",
       "    }\n",
       "\n",
       "    .dataframe tbody tr th {\n",
       "        vertical-align: top;\n",
       "    }\n",
       "\n",
       "    .dataframe thead th {\n",
       "        text-align: right;\n",
       "    }\n",
       "</style>\n",
       "<table border=\"1\" class=\"dataframe\">\n",
       "  <thead>\n",
       "    <tr style=\"text-align: right;\">\n",
       "      <th></th>\n",
       "      <th>username</th>\n",
       "      <th>text</th>\n",
       "    </tr>\n",
       "  </thead>\n",
       "  <tbody>\n",
       "    <tr>\n",
       "      <td>0</td>\n",
       "      <td>xdavis</td>\n",
       "      <td>Hold Mr stock factor officer community actuall...</td>\n",
       "    </tr>\n",
       "    <tr>\n",
       "      <td>1</td>\n",
       "      <td>jennifermiller</td>\n",
       "      <td>Appear give matter wrong. Individual informati...</td>\n",
       "    </tr>\n",
       "    <tr>\n",
       "      <td>2</td>\n",
       "      <td>xdavis</td>\n",
       "      <td>Interesting experience suggest herself mind. W...</td>\n",
       "    </tr>\n",
       "    <tr>\n",
       "      <td>3</td>\n",
       "      <td>richard89</td>\n",
       "      <td>Church structure rather understand. Attorney b...</td>\n",
       "    </tr>\n",
       "    <tr>\n",
       "      <td>4</td>\n",
       "      <td>richard89</td>\n",
       "      <td>Design letter against billion position condition.</td>\n",
       "    </tr>\n",
       "    <tr>\n",
       "      <td>...</td>\n",
       "      <td>...</td>\n",
       "      <td>...</td>\n",
       "    </tr>\n",
       "    <tr>\n",
       "      <td>141</td>\n",
       "      <td>xdavis</td>\n",
       "      <td>Rise ability expert bank individual. Practice ...</td>\n",
       "    </tr>\n",
       "    <tr>\n",
       "      <td>142</td>\n",
       "      <td>sfitzgerald</td>\n",
       "      <td>Mouth provide oil agency occur wear year air. ...</td>\n",
       "    </tr>\n",
       "    <tr>\n",
       "      <td>143</td>\n",
       "      <td>richard89</td>\n",
       "      <td>Measure live lead difficult modern door. Inter...</td>\n",
       "    </tr>\n",
       "    <tr>\n",
       "      <td>144</td>\n",
       "      <td>xdavis</td>\n",
       "      <td>Sound standard structure light no success. Mee...</td>\n",
       "    </tr>\n",
       "    <tr>\n",
       "      <td>145</td>\n",
       "      <td>jennifermiller</td>\n",
       "      <td>Specific should appear style nature both suffe...</td>\n",
       "    </tr>\n",
       "  </tbody>\n",
       "</table>\n",
       "<p>146 rows × 2 columns</p>\n",
       "</div>"
      ],
      "text/plain": [
       "           username                                               text\n",
       "0            xdavis  Hold Mr stock factor officer community actuall...\n",
       "1    jennifermiller  Appear give matter wrong. Individual informati...\n",
       "2            xdavis  Interesting experience suggest herself mind. W...\n",
       "3         richard89  Church structure rather understand. Attorney b...\n",
       "4         richard89  Design letter against billion position condition.\n",
       "..              ...                                                ...\n",
       "141          xdavis  Rise ability expert bank individual. Practice ...\n",
       "142     sfitzgerald  Mouth provide oil agency occur wear year air. ...\n",
       "143       richard89  Measure live lead difficult modern door. Inter...\n",
       "144          xdavis  Sound standard structure light no success. Mee...\n",
       "145  jennifermiller  Specific should appear style nature both suffe...\n",
       "\n",
       "[146 rows x 2 columns]"
      ]
     },
     "metadata": {},
     "output_type": "display_data"
    }
   ],
   "source": [
    "taskfunc(\n",
    "'''\n",
    "SELECT \n",
    "    reviews.username,\n",
    "    reviews.text\n",
    "    \n",
    "FROM\n",
    "    reviews\n",
    "    \n",
    "    LEFT JOIN \n",
    "       ratings ON ratings.username = reviews.username\n",
    "   \n",
    "WHERE\n",
    "reviews.username  IN ('martinadam','paul88','richard89','sfitzgerald','jennifermiller','xdavis')\n",
    "Group by\n",
    "reviews.text,\n",
    "reviews.username\n",
    "\n",
    "\n",
    "\n",
    "'''\n",
    ")"
   ]
  },
  {
   "cell_type": "code",
   "execution_count": 18,
   "id": "f6e34343",
   "metadata": {},
   "outputs": [
    {
     "data": {
      "text/plain": [
       "'The Average is'"
      ]
     },
     "metadata": {},
     "output_type": "display_data"
    },
    {
     "data": {
      "text/plain": [
       "24.333333333333332"
      ]
     },
     "metadata": {},
     "output_type": "display_data"
    }
   ],
   "source": [
    "display('The Average is', 146/6)"
   ]
  },
  {
   "cell_type": "markdown",
   "id": "44a6f135",
   "metadata": {},
   "source": [
    "solve it in a subquery for a clean code"
   ]
  },
  {
   "cell_type": "code",
   "execution_count": 19,
   "id": "8b180c51",
   "metadata": {},
   "outputs": [
    {
     "data": {
      "text/html": [
       "<div>\n",
       "<style scoped>\n",
       "    .dataframe tbody tr th:only-of-type {\n",
       "        vertical-align: middle;\n",
       "    }\n",
       "\n",
       "    .dataframe tbody tr th {\n",
       "        vertical-align: top;\n",
       "    }\n",
       "\n",
       "    .dataframe thead th {\n",
       "        text-align: right;\n",
       "    }\n",
       "</style>\n",
       "<table border=\"1\" class=\"dataframe\">\n",
       "  <thead>\n",
       "    <tr style=\"text-align: right;\">\n",
       "      <th></th>\n",
       "      <th>?column?</th>\n",
       "    </tr>\n",
       "  </thead>\n",
       "  <tbody>\n",
       "    <tr>\n",
       "      <td>0</td>\n",
       "      <td>24</td>\n",
       "    </tr>\n",
       "  </tbody>\n",
       "</table>\n",
       "</div>"
      ],
      "text/plain": [
       "   ?column?\n",
       "0        24"
      ]
     },
     "metadata": {},
     "output_type": "display_data"
    }
   ],
   "source": [
    "taskfunc(\n",
    "'''\n",
    "SELECT\n",
    "\n",
    "    count(text) / count(DISTINCT(reviews.username))\n",
    "From \n",
    "    reviews\n",
    "LEFT JOIN \n",
    "    (\n",
    "    SELECT \n",
    "        DISTINCT ratings.username\n",
    "    FROM \n",
    "        ratings\n",
    "    Group by \n",
    "        username\n",
    "    HAVING\n",
    "        count(username) > 50\n",
    "    ) AS SUBQ\n",
    "ON SUBQ.username = reviews.username\n",
    "WHERE\n",
    "    SUBQ.username = reviews.username \n",
    "\n",
    "\n",
    "'''\n",
    ")"
   ]
  },
  {
   "cell_type": "code",
   "execution_count": null,
   "id": "e915cc86",
   "metadata": {},
   "outputs": [],
   "source": []
  }
 ],
 "metadata": {
  "ExecuteTimeLog": [
   {
    "duration": 5106,
    "start_time": "2021-06-29T09:06:21.533Z"
   },
   {
    "duration": 4,
    "start_time": "2021-06-29T09:06:26.642Z"
   },
   {
    "duration": 18,
    "start_time": "2021-06-29T09:06:26.656Z"
   },
   {
    "duration": 179,
    "start_time": "2021-06-29T09:06:26.677Z"
   },
   {
    "duration": 20,
    "start_time": "2021-06-29T09:06:26.859Z"
   },
   {
    "duration": 80,
    "start_time": "2021-06-29T09:06:26.882Z"
   },
   {
    "duration": 88,
    "start_time": "2021-06-29T09:06:26.966Z"
   },
   {
    "duration": 5,
    "start_time": "2021-06-29T09:06:27.057Z"
   },
   {
    "duration": 27,
    "start_time": "2021-06-29T09:06:27.064Z"
   },
   {
    "duration": 18,
    "start_time": "2021-06-29T09:06:27.094Z"
   },
   {
    "duration": 31,
    "start_time": "2021-06-29T09:06:27.114Z"
   },
   {
    "duration": 20,
    "start_time": "2021-06-29T09:06:27.148Z"
   },
   {
    "duration": 22,
    "start_time": "2021-06-29T09:06:27.171Z"
   },
   {
    "duration": 64,
    "start_time": "2021-06-29T09:06:27.196Z"
   },
   {
    "duration": 7,
    "start_time": "2021-06-29T09:06:27.262Z"
   },
   {
    "duration": 131,
    "start_time": "2021-06-29T16:14:00.840Z"
   },
   {
    "duration": 115,
    "start_time": "2021-06-29T16:14:17.435Z"
   },
   {
    "duration": 121,
    "start_time": "2021-06-29T16:14:36.677Z"
   },
   {
    "duration": 4,
    "start_time": "2021-06-29T16:15:08.737Z"
   },
   {
    "duration": 536,
    "start_time": "2021-06-29T16:15:17.919Z"
   },
   {
    "duration": 4535,
    "start_time": "2021-06-29T16:15:27.881Z"
   },
   {
    "duration": 4,
    "start_time": "2021-06-29T16:15:32.418Z"
   },
   {
    "duration": 22,
    "start_time": "2021-06-29T16:15:32.426Z"
   },
   {
    "duration": 491,
    "start_time": "2021-06-29T16:15:32.452Z"
   },
   {
    "duration": 3,
    "start_time": "2021-06-29T16:15:32.945Z"
   },
   {
    "duration": 1203,
    "start_time": "2021-06-29T16:15:32.951Z"
   },
   {
    "duration": -604,
    "start_time": "2021-06-29T16:15:34.761Z"
   },
   {
    "duration": -613,
    "start_time": "2021-06-29T16:15:34.772Z"
   },
   {
    "duration": -614,
    "start_time": "2021-06-29T16:15:34.774Z"
   },
   {
    "duration": -615,
    "start_time": "2021-06-29T16:15:34.777Z"
   },
   {
    "duration": -616,
    "start_time": "2021-06-29T16:15:34.779Z"
   },
   {
    "duration": -616,
    "start_time": "2021-06-29T16:15:34.781Z"
   },
   {
    "duration": -618,
    "start_time": "2021-06-29T16:15:34.784Z"
   },
   {
    "duration": -619,
    "start_time": "2021-06-29T16:15:34.786Z"
   },
   {
    "duration": -620,
    "start_time": "2021-06-29T16:15:34.789Z"
   },
   {
    "duration": -621,
    "start_time": "2021-06-29T16:15:34.791Z"
   },
   {
    "duration": -622,
    "start_time": "2021-06-29T16:15:34.793Z"
   },
   {
    "duration": 4,
    "start_time": "2021-06-29T16:16:15.132Z"
   },
   {
    "duration": 507,
    "start_time": "2021-06-29T16:17:04.237Z"
   },
   {
    "duration": 354,
    "start_time": "2021-06-29T16:18:02.765Z"
   },
   {
    "duration": 1070,
    "start_time": "2021-06-29T16:18:16.859Z"
   },
   {
    "duration": 386,
    "start_time": "2021-06-29T16:18:42.151Z"
   },
   {
    "duration": 295,
    "start_time": "2021-06-29T16:18:56.390Z"
   },
   {
    "duration": 408,
    "start_time": "2021-06-29T16:19:20.337Z"
   },
   {
    "duration": 545,
    "start_time": "2021-06-29T16:19:39.913Z"
   },
   {
    "duration": 486,
    "start_time": "2021-06-29T16:23:21.293Z"
   },
   {
    "duration": 420,
    "start_time": "2021-06-29T16:23:41.825Z"
   },
   {
    "duration": 426,
    "start_time": "2021-06-29T16:24:29.163Z"
   },
   {
    "duration": 486,
    "start_time": "2021-06-29T16:25:20.037Z"
   },
   {
    "duration": 5,
    "start_time": "2021-06-29T16:26:57.736Z"
   },
   {
    "duration": 4,
    "start_time": "2021-06-29T16:26:59.284Z"
   },
   {
    "duration": 4,
    "start_time": "2021-06-29T16:27:02.069Z"
   },
   {
    "duration": 5,
    "start_time": "2021-06-29T16:27:39.481Z"
   },
   {
    "duration": 4,
    "start_time": "2021-06-29T16:27:41.087Z"
   },
   {
    "duration": 400,
    "start_time": "2021-06-29T16:27:43.237Z"
   },
   {
    "duration": 4332,
    "start_time": "2021-06-29T16:28:32.226Z"
   },
   {
    "duration": 5,
    "start_time": "2021-06-29T16:28:36.561Z"
   },
   {
    "duration": 11,
    "start_time": "2021-06-29T16:28:36.570Z"
   },
   {
    "duration": 497,
    "start_time": "2021-06-29T16:28:36.585Z"
   },
   {
    "duration": 3,
    "start_time": "2021-06-29T16:28:37.085Z"
   },
   {
    "duration": 8,
    "start_time": "2021-06-29T16:28:37.090Z"
   },
   {
    "duration": 404,
    "start_time": "2021-06-29T16:28:37.100Z"
   },
   {
    "duration": 61,
    "start_time": "2021-06-29T16:28:37.507Z"
   },
   {
    "duration": 6,
    "start_time": "2021-06-29T16:28:37.572Z"
   },
   {
    "duration": 163,
    "start_time": "2021-06-29T16:28:37.580Z"
   },
   {
    "duration": 6,
    "start_time": "2021-06-29T16:28:37.746Z"
   },
   {
    "duration": 86,
    "start_time": "2021-06-29T16:28:37.754Z"
   },
   {
    "duration": 5,
    "start_time": "2021-06-29T16:28:37.842Z"
   },
   {
    "duration": 77,
    "start_time": "2021-06-29T16:28:37.849Z"
   },
   {
    "duration": 6,
    "start_time": "2021-06-29T16:28:37.929Z"
   },
   {
    "duration": 65,
    "start_time": "2021-06-29T16:28:37.937Z"
   },
   {
    "duration": 76,
    "start_time": "2021-06-29T16:28:38.004Z"
   },
   {
    "duration": 7,
    "start_time": "2021-06-29T16:28:38.083Z"
   },
   {
    "duration": 810,
    "start_time": "2021-06-29T16:43:13.967Z"
   },
   {
    "duration": 744,
    "start_time": "2021-06-29T16:43:33.016Z"
   },
   {
    "duration": 130,
    "start_time": "2021-06-29T16:53:52.051Z"
   },
   {
    "duration": 832,
    "start_time": "2021-06-29T16:54:16.716Z"
   },
   {
    "duration": 963,
    "start_time": "2021-06-29T16:54:49.770Z"
   },
   {
    "duration": 968,
    "start_time": "2021-06-29T16:55:32.421Z"
   },
   {
    "duration": 813,
    "start_time": "2021-06-29T16:56:36.065Z"
   },
   {
    "duration": 728,
    "start_time": "2021-06-29T16:58:44.914Z"
   },
   {
    "duration": 903,
    "start_time": "2021-06-29T17:00:02.157Z"
   },
   {
    "duration": 736,
    "start_time": "2021-06-29T17:00:20.324Z"
   },
   {
    "duration": 67,
    "start_time": "2021-06-29T17:02:39.906Z"
   },
   {
    "duration": 61,
    "start_time": "2021-06-29T17:02:48.178Z"
   },
   {
    "duration": 168,
    "start_time": "2021-06-29T17:06:40.258Z"
   },
   {
    "duration": 161,
    "start_time": "2021-06-29T17:07:07.821Z"
   },
   {
    "duration": 236,
    "start_time": "2021-06-29T17:08:39.702Z"
   },
   {
    "duration": 147,
    "start_time": "2021-06-29T17:08:57.633Z"
   },
   {
    "duration": 4134,
    "start_time": "2021-06-29T17:09:17.943Z"
   },
   {
    "duration": 4,
    "start_time": "2021-06-29T17:09:22.080Z"
   },
   {
    "duration": 12,
    "start_time": "2021-06-29T17:09:22.087Z"
   },
   {
    "duration": 540,
    "start_time": "2021-06-29T17:09:22.102Z"
   },
   {
    "duration": 5,
    "start_time": "2021-06-29T17:09:22.645Z"
   },
   {
    "duration": 10,
    "start_time": "2021-06-29T17:09:22.653Z"
   },
   {
    "duration": 417,
    "start_time": "2021-06-29T17:09:22.665Z"
   },
   {
    "duration": 83,
    "start_time": "2021-06-29T17:09:23.086Z"
   },
   {
    "duration": 6,
    "start_time": "2021-06-29T17:09:23.171Z"
   },
   {
    "duration": 155,
    "start_time": "2021-06-29T17:09:23.179Z"
   },
   {
    "duration": 5,
    "start_time": "2021-06-29T17:09:23.336Z"
   },
   {
    "duration": 62,
    "start_time": "2021-06-29T17:09:23.343Z"
   },
   {
    "duration": 5,
    "start_time": "2021-06-29T17:09:23.407Z"
   },
   {
    "duration": 76,
    "start_time": "2021-06-29T17:09:23.414Z"
   },
   {
    "duration": 5,
    "start_time": "2021-06-29T17:09:23.492Z"
   },
   {
    "duration": 80,
    "start_time": "2021-06-29T17:09:23.500Z"
   },
   {
    "duration": 86,
    "start_time": "2021-06-29T17:09:23.583Z"
   },
   {
    "duration": 5,
    "start_time": "2021-06-29T17:09:23.672Z"
   },
   {
    "duration": 65,
    "start_time": "2021-06-29T17:09:23.680Z"
   },
   {
    "duration": 3,
    "start_time": "2021-06-29T17:18:07.184Z"
   },
   {
    "duration": 5596,
    "start_time": "2021-06-29T22:38:46.897Z"
   },
   {
    "duration": 5,
    "start_time": "2021-06-29T22:38:52.501Z"
   },
   {
    "duration": 7,
    "start_time": "2021-06-29T22:38:52.509Z"
   },
   {
    "duration": 611,
    "start_time": "2021-06-29T22:38:52.519Z"
   },
   {
    "duration": 4,
    "start_time": "2021-06-29T22:38:53.132Z"
   },
   {
    "duration": 9,
    "start_time": "2021-06-29T22:38:53.138Z"
   },
   {
    "duration": 452,
    "start_time": "2021-06-29T22:38:53.151Z"
   },
   {
    "duration": 81,
    "start_time": "2021-06-29T22:38:53.605Z"
   },
   {
    "duration": 5,
    "start_time": "2021-06-29T22:38:53.689Z"
   },
   {
    "duration": 162,
    "start_time": "2021-06-29T22:38:53.696Z"
   },
   {
    "duration": 5,
    "start_time": "2021-06-29T22:38:53.860Z"
   },
   {
    "duration": 79,
    "start_time": "2021-06-29T22:38:53.867Z"
   },
   {
    "duration": 6,
    "start_time": "2021-06-29T22:38:53.949Z"
   },
   {
    "duration": 90,
    "start_time": "2021-06-29T22:38:53.958Z"
   },
   {
    "duration": 6,
    "start_time": "2021-06-29T22:38:54.051Z"
   },
   {
    "duration": 97,
    "start_time": "2021-06-29T22:38:54.060Z"
   },
   {
    "duration": 98,
    "start_time": "2021-06-29T22:38:54.160Z"
   },
   {
    "duration": 5,
    "start_time": "2021-06-29T22:38:54.261Z"
   },
   {
    "duration": 91,
    "start_time": "2021-06-29T22:38:54.268Z"
   }
  ],
  "kernelspec": {
   "display_name": "Python 3",
   "language": "python",
   "name": "python3"
  },
  "language_info": {
   "codemirror_mode": {
    "name": "ipython",
    "version": 3
   },
   "file_extension": ".py",
   "mimetype": "text/x-python",
   "name": "python",
   "nbconvert_exporter": "python",
   "pygments_lexer": "ipython3",
   "version": "3.8.8"
  },
  "toc": {
   "base_numbering": 1,
   "nav_menu": {},
   "number_sections": true,
   "sideBar": true,
   "skip_h1_title": true,
   "title_cell": "Table of Contents",
   "title_sidebar": "Contents",
   "toc_cell": false,
   "toc_position": {},
   "toc_section_display": true,
   "toc_window_display": false
  }
 },
 "nbformat": 4,
 "nbformat_minor": 5
}
