{
 "cells": [
  {
   "cell_type": "markdown",
   "id": "ee92bce8",
   "metadata": {},
   "source": []
  },
  {
   "cell_type": "markdown",
   "id": "8dd926f1",
   "metadata": {
    "toc": true
   },
   "source": [
    "<h1>Table of Contents<span class=\"tocSkip\"></span></h1>\n",
    "<div class=\"toc\"><ul class=\"toc-item\"><li><ul class=\"toc-item\"><li><span><a  href=\"#0-Describe-the-goals-of-the-research-and-import-data\" data-toc-modified-id=\"0-Describe-the-goals-of-the-research-and-import-data-1\">0 Describe the goals of the research and import data</a></span></li><li><span><a href=\"#1-Preprocessing\" data-toc-modified-id=\"1-Preprocessing-2\">1 Preprocessing</a></span></li><li><span><a href=\"#1-Conclusion\" data-toc-modified-id=\"1-Conclusion-3\">1 Conclusion</a></span></li><li><span><a href=\"#2-Carry-out-exploratory-data-analysis\" data-toc-modified-id=\"2-Carry-out-exploratory-data-analysis-4\">2 Carry out exploratory data analysis</a></span></li><li><span><a href=\"#2.1---Study-conversion-at-different-funnel-stages\" data-toc-modified-id=\"2.1---Study-conversion-at-different-funnel-stages-5\">2.1 - Study conversion at different funnel stages</a></span></li><li><span><a href=\"#2.1-Conclusion\" data-toc-modified-id=\"2.1-Conclusion-6\">2.1 Conclusion</a></span></li><li><span><a href=\"#2.2-Is-the-number-of-events-per-user-distributed-equally-in-the-samples?\" data-toc-modified-id=\"2.2-Is-the-number-of-events-per-user-distributed-equally-in-the-samples?-7\">2.2 Is the number of events per user distributed equally in the samples?</a></span></li><li><span><a href=\"#2.2-conclusion\" data-toc-modified-id=\"2.2-conclusion-8\">2.2 conclusion</a></span></li><li><span><a href=\"#2.3---Are-there-users-who-enter-both-samples?\" data-toc-modified-id=\"2.3---Are-there-users-who-enter-both-samples?-9\">2.3 - Are there users who enter both samples?</a></span></li><li><span><a href=\"#2.3-Conclusion\" data-toc-modified-id=\"2.3-Conclusion-10\">2.3 Conclusion</a></span></li><li><span><a href=\"#2.4---How-is-the-number-of-events-distributed-by-days?\" data-toc-modified-id=\"2.4---How-is-the-number-of-events-distributed-by-days?-11\">2.4 - How is the number of events distributed by days?</a></span></li><li><span><a href=\"#2.4-Conclusion\" data-toc-modified-id=\"2.4-Conclusion-12\">2.4 Conclusion</a></span></li><li><span><a href=\"#2.5---Think-of-the-possible-details-in-the-data-that-you-have-to-take-into-account-before-starting-the-A/B-test?\" data-toc-modified-id=\"2.5---Think-of-the-possible-details-in-the-data-that-you-have-to-take-into-account-before-starting-the-A/B-test?-13\">2.5 - Think of the possible details in the data that you have to take into account before starting the A/B test?</a></span></li><li><span><a href=\"#2.5-Conclusion\" data-toc-modified-id=\"2.5-Conclusion-14\">2.5 Conclusion</a></span></li><li><span><a href=\"#2---Conclusion\" data-toc-modified-id=\"2---Conclusion-15\">2 - Conclusion</a></span></li><li><span><a href=\"#3----Evaluate-the-A/B-test-results\" data-toc-modified-id=\"3----Evaluate-the-A/B-test-results-16\">3  - Evaluate the A/B test results</a></span></li><li><span><a href=\"#3.1---What-can-you-tell-about-the-A/B-test-results?\" data-toc-modified-id=\"3.1---What-can-you-tell-about-the-A/B-test-results?-17\">3.1 - What can you tell about the A/B test results?</a></span></li><li><span><a href=\"#3.1-Conclusion\" data-toc-modified-id=\"3.1-Conclusion-18\">3.1 Conclusion</a></span></li><li><span><a href=\"#3.2---Use-the-z-criterion-to-check-the-statistical-difference-between-the-proportions\" data-toc-modified-id=\"3.2---Use-the-z-criterion-to-check-the-statistical-difference-between-the-proportions-19\">3.2 - Use the z-criterion to check the statistical difference between the proportions</a></span></li><li><span><a href=\"#3---Conclusion\" data-toc-modified-id=\"3---Conclusion-20\">3 - Conclusion</a></span></li><li><span><a href=\"#4-General-conclusion\" data-toc-modified-id=\"4-General-conclusion-21\">4 General conclusion</a></span></li><li><span><a href=\"#5-Recommendation\" data-toc-modified-id=\"5-Recommendation-22\">5 Recommendation</a></span></li></ul></div>"
   ]
  },
  {
   "cell_type": "markdown",
   "id": "4e9a990b",
   "metadata": {},
   "source": [
    "---"
   ]
  },
  {
   "cell_type": "markdown",
   "id": "e66b9be7",
   "metadata": {},
   "source": [
    "##  0 Describe the goals of the research and import data"
   ]
  },
  {
   "cell_type": "code",
   "execution_count": 143,
   "id": "1b3e501c",
   "metadata": {},
   "outputs": [
    {
     "name": "stdout",
     "output_type": "stream",
     "text": [
      "Defaulting to user installation because normal site-packages is not writeable\n",
      "Requirement already up-to-date: seaborn in /home/jovyan/.local/lib/python3.7/site-packages (0.11.1)\n",
      "Requirement already satisfied, skipping upgrade: scipy>=1.0 in /opt/conda/lib/python3.7/site-packages (from seaborn) (1.4.1)\n",
      "Requirement already satisfied, skipping upgrade: pandas>=0.23 in /opt/conda/lib/python3.7/site-packages (from seaborn) (0.25.1)\n",
      "Requirement already satisfied, skipping upgrade: numpy>=1.15 in /opt/conda/lib/python3.7/site-packages (from seaborn) (1.19.5)\n",
      "Requirement already satisfied, skipping upgrade: matplotlib>=2.2 in /opt/conda/lib/python3.7/site-packages (from seaborn) (3.1.0)\n",
      "Requirement already satisfied, skipping upgrade: python-dateutil>=2.6.1 in /opt/conda/lib/python3.7/site-packages (from pandas>=0.23->seaborn) (2.8.1)\n",
      "Requirement already satisfied, skipping upgrade: pytz>=2017.2 in /opt/conda/lib/python3.7/site-packages (from pandas>=0.23->seaborn) (2021.1)\n",
      "Requirement already satisfied, skipping upgrade: kiwisolver>=1.0.1 in /opt/conda/lib/python3.7/site-packages (from matplotlib>=2.2->seaborn) (1.3.1)\n",
      "Requirement already satisfied, skipping upgrade: cycler>=0.10 in /opt/conda/lib/python3.7/site-packages (from matplotlib>=2.2->seaborn) (0.10.0)\n",
      "Requirement already satisfied, skipping upgrade: pyparsing!=2.0.4,!=2.1.2,!=2.1.6,>=2.0.1 in /opt/conda/lib/python3.7/site-packages (from matplotlib>=2.2->seaborn) (2.4.7)\n",
      "Requirement already satisfied, skipping upgrade: six>=1.5 in /opt/conda/lib/python3.7/site-packages (from python-dateutil>=2.6.1->pandas>=0.23->seaborn) (1.15.0)\n",
      "Defaulting to user installation because normal site-packages is not writeable\n",
      "Requirement already up-to-date: plotly in /home/jovyan/.local/lib/python3.7/site-packages (5.0.0)\n",
      "Requirement already satisfied, skipping upgrade: tenacity>=6.2.0 in /home/jovyan/.local/lib/python3.7/site-packages (from plotly) (7.0.0)\n",
      "Requirement already satisfied, skipping upgrade: six in /opt/conda/lib/python3.7/site-packages (from plotly) (1.15.0)\n"
     ]
    }
   ],
   "source": [
    "# !pip install plotly.express\n",
    "!pip install seaborn -U\n",
    "# !pip install plotly.express -U\n",
    "!pip install plotly -U\n",
    "import plotly.express as px\n",
    "import pandas as pd\n",
    "import numpy as np\n",
    "from scipy import stats as st\n",
    "import matplotlib.pyplot as plt \n",
    "from functools import reduce\n",
    "import math\n",
    "import warnings\n",
    "import seaborn as sns\n",
    "import datetime as dt\n",
    "warnings.filterwarnings(\"ignore\")\n",
    "pd.set_option('max_colwidth', 400)"
   ]
  },
  {
   "cell_type": "code",
   "execution_count": 144,
   "id": "e540500d",
   "metadata": {},
   "outputs": [],
   "source": [
    "try:\n",
    "    data1=pd.read_csv(r'C:\\Users\\49157\\Desktop\\p100ab\\revenue.csv')\n",
    "    data2=pd.read_csv(r'C:\\Users\\49157\\Desktop\\p100ab\\group.csv')\n",
    "    data3=pd.read_csv(r'C:\\Users\\49157\\Desktop\\p100ab\\2sample.csv')\n",
    "except:\n",
    "    data1=pd.read_csv(r'/datasets/final_ab_events_upd_us.csv')\n",
    "    data3=pd.read_csv(r'/datasets/final_ab_new_users_upd_us.csv')\n",
    "    data2=pd.read_csv(r'/datasets/final_ab_participants_upd_us.csv')\n",
    "    data4=pd.read_csv(r'/datasets/ab_project_marketing_events_us.csv')"
   ]
  },
  {
   "cell_type": "markdown",
   "id": "3ff01119",
   "metadata": {},
   "source": [
    "## 1 Preprocessing\n",
    "- Does it need converting types?\n",
    "- Are there any missing or duplicate values? If so, what's their nature?"
   ]
  },
  {
   "cell_type": "code",
   "execution_count": 145,
   "id": "b0125f34",
   "metadata": {},
   "outputs": [],
   "source": [
    "def showdata(df):\n",
    "    display(df.head(10))\n",
    "    display(df.info())\n",
    "    display(df.describe())\n",
    "    display(df.isnull().sum() * 100 / len(df))\n",
    "    display(df.duplicated().sum() * 100 / len(df))\n",
    "    display(df.describe())"
   ]
  },
  {
   "cell_type": "code",
   "execution_count": 146,
   "id": "37432e82",
   "metadata": {},
   "outputs": [
    {
     "data": {
      "text/html": [
       "<div>\n",
       "<style scoped>\n",
       "    .dataframe tbody tr th:only-of-type {\n",
       "        vertical-align: middle;\n",
       "    }\n",
       "\n",
       "    .dataframe tbody tr th {\n",
       "        vertical-align: top;\n",
       "    }\n",
       "\n",
       "    .dataframe thead th {\n",
       "        text-align: right;\n",
       "    }\n",
       "</style>\n",
       "<table border=\"1\" class=\"dataframe\">\n",
       "  <thead>\n",
       "    <tr style=\"text-align: right;\">\n",
       "      <th></th>\n",
       "      <th>user_id</th>\n",
       "      <th>event_dt</th>\n",
       "      <th>event_name</th>\n",
       "      <th>details</th>\n",
       "    </tr>\n",
       "  </thead>\n",
       "  <tbody>\n",
       "    <tr>\n",
       "      <td>0</td>\n",
       "      <td>E1BDDCE0DAFA2679</td>\n",
       "      <td>2020-12-07 20:22:03</td>\n",
       "      <td>purchase</td>\n",
       "      <td>99.99</td>\n",
       "    </tr>\n",
       "    <tr>\n",
       "      <td>1</td>\n",
       "      <td>7B6452F081F49504</td>\n",
       "      <td>2020-12-07 09:22:53</td>\n",
       "      <td>purchase</td>\n",
       "      <td>9.99</td>\n",
       "    </tr>\n",
       "    <tr>\n",
       "      <td>2</td>\n",
       "      <td>9CD9F34546DF254C</td>\n",
       "      <td>2020-12-07 12:59:29</td>\n",
       "      <td>purchase</td>\n",
       "      <td>4.99</td>\n",
       "    </tr>\n",
       "    <tr>\n",
       "      <td>3</td>\n",
       "      <td>96F27A054B191457</td>\n",
       "      <td>2020-12-07 04:02:40</td>\n",
       "      <td>purchase</td>\n",
       "      <td>4.99</td>\n",
       "    </tr>\n",
       "    <tr>\n",
       "      <td>4</td>\n",
       "      <td>1FD7660FDF94CA1F</td>\n",
       "      <td>2020-12-07 10:15:09</td>\n",
       "      <td>purchase</td>\n",
       "      <td>4.99</td>\n",
       "    </tr>\n",
       "    <tr>\n",
       "      <td>5</td>\n",
       "      <td>831887FE7F2D6CBA</td>\n",
       "      <td>2020-12-07 06:50:29</td>\n",
       "      <td>purchase</td>\n",
       "      <td>4.99</td>\n",
       "    </tr>\n",
       "    <tr>\n",
       "      <td>6</td>\n",
       "      <td>6B2F726BFD5F8220</td>\n",
       "      <td>2020-12-07 11:27:42</td>\n",
       "      <td>purchase</td>\n",
       "      <td>4.99</td>\n",
       "    </tr>\n",
       "    <tr>\n",
       "      <td>7</td>\n",
       "      <td>BEB37715AACF53B0</td>\n",
       "      <td>2020-12-07 04:26:15</td>\n",
       "      <td>purchase</td>\n",
       "      <td>4.99</td>\n",
       "    </tr>\n",
       "    <tr>\n",
       "      <td>8</td>\n",
       "      <td>B5FA27F582227197</td>\n",
       "      <td>2020-12-07 01:46:37</td>\n",
       "      <td>purchase</td>\n",
       "      <td>4.99</td>\n",
       "    </tr>\n",
       "    <tr>\n",
       "      <td>9</td>\n",
       "      <td>A92195E3CFB83DBD</td>\n",
       "      <td>2020-12-07 00:32:07</td>\n",
       "      <td>purchase</td>\n",
       "      <td>4.99</td>\n",
       "    </tr>\n",
       "  </tbody>\n",
       "</table>\n",
       "</div>"
      ],
      "text/plain": [
       "            user_id             event_dt event_name  details\n",
       "0  E1BDDCE0DAFA2679  2020-12-07 20:22:03   purchase    99.99\n",
       "1  7B6452F081F49504  2020-12-07 09:22:53   purchase     9.99\n",
       "2  9CD9F34546DF254C  2020-12-07 12:59:29   purchase     4.99\n",
       "3  96F27A054B191457  2020-12-07 04:02:40   purchase     4.99\n",
       "4  1FD7660FDF94CA1F  2020-12-07 10:15:09   purchase     4.99\n",
       "5  831887FE7F2D6CBA  2020-12-07 06:50:29   purchase     4.99\n",
       "6  6B2F726BFD5F8220  2020-12-07 11:27:42   purchase     4.99\n",
       "7  BEB37715AACF53B0  2020-12-07 04:26:15   purchase     4.99\n",
       "8  B5FA27F582227197  2020-12-07 01:46:37   purchase     4.99\n",
       "9  A92195E3CFB83DBD  2020-12-07 00:32:07   purchase     4.99"
      ]
     },
     "metadata": {},
     "output_type": "display_data"
    },
    {
     "name": "stdout",
     "output_type": "stream",
     "text": [
      "<class 'pandas.core.frame.DataFrame'>\n",
      "RangeIndex: 423761 entries, 0 to 423760\n",
      "Data columns (total 4 columns):\n",
      "user_id       423761 non-null object\n",
      "event_dt      423761 non-null object\n",
      "event_name    423761 non-null object\n",
      "details       60314 non-null float64\n",
      "dtypes: float64(1), object(3)\n",
      "memory usage: 12.9+ MB\n"
     ]
    },
    {
     "data": {
      "text/plain": [
       "None"
      ]
     },
     "metadata": {},
     "output_type": "display_data"
    },
    {
     "data": {
      "text/html": [
       "<div>\n",
       "<style scoped>\n",
       "    .dataframe tbody tr th:only-of-type {\n",
       "        vertical-align: middle;\n",
       "    }\n",
       "\n",
       "    .dataframe tbody tr th {\n",
       "        vertical-align: top;\n",
       "    }\n",
       "\n",
       "    .dataframe thead th {\n",
       "        text-align: right;\n",
       "    }\n",
       "</style>\n",
       "<table border=\"1\" class=\"dataframe\">\n",
       "  <thead>\n",
       "    <tr style=\"text-align: right;\">\n",
       "      <th></th>\n",
       "      <th>details</th>\n",
       "    </tr>\n",
       "  </thead>\n",
       "  <tbody>\n",
       "    <tr>\n",
       "      <td>count</td>\n",
       "      <td>60314.000000</td>\n",
       "    </tr>\n",
       "    <tr>\n",
       "      <td>mean</td>\n",
       "      <td>23.881219</td>\n",
       "    </tr>\n",
       "    <tr>\n",
       "      <td>std</td>\n",
       "      <td>72.228884</td>\n",
       "    </tr>\n",
       "    <tr>\n",
       "      <td>min</td>\n",
       "      <td>4.990000</td>\n",
       "    </tr>\n",
       "    <tr>\n",
       "      <td>25%</td>\n",
       "      <td>4.990000</td>\n",
       "    </tr>\n",
       "    <tr>\n",
       "      <td>50%</td>\n",
       "      <td>4.990000</td>\n",
       "    </tr>\n",
       "    <tr>\n",
       "      <td>75%</td>\n",
       "      <td>9.990000</td>\n",
       "    </tr>\n",
       "    <tr>\n",
       "      <td>max</td>\n",
       "      <td>499.990000</td>\n",
       "    </tr>\n",
       "  </tbody>\n",
       "</table>\n",
       "</div>"
      ],
      "text/plain": [
       "            details\n",
       "count  60314.000000\n",
       "mean      23.881219\n",
       "std       72.228884\n",
       "min        4.990000\n",
       "25%        4.990000\n",
       "50%        4.990000\n",
       "75%        9.990000\n",
       "max      499.990000"
      ]
     },
     "metadata": {},
     "output_type": "display_data"
    },
    {
     "data": {
      "text/plain": [
       "user_id        0.000000\n",
       "event_dt       0.000000\n",
       "event_name     0.000000\n",
       "details       85.766977\n",
       "dtype: float64"
      ]
     },
     "metadata": {},
     "output_type": "display_data"
    },
    {
     "data": {
      "text/plain": [
       "0.0"
      ]
     },
     "metadata": {},
     "output_type": "display_data"
    },
    {
     "data": {
      "text/html": [
       "<div>\n",
       "<style scoped>\n",
       "    .dataframe tbody tr th:only-of-type {\n",
       "        vertical-align: middle;\n",
       "    }\n",
       "\n",
       "    .dataframe tbody tr th {\n",
       "        vertical-align: top;\n",
       "    }\n",
       "\n",
       "    .dataframe thead th {\n",
       "        text-align: right;\n",
       "    }\n",
       "</style>\n",
       "<table border=\"1\" class=\"dataframe\">\n",
       "  <thead>\n",
       "    <tr style=\"text-align: right;\">\n",
       "      <th></th>\n",
       "      <th>details</th>\n",
       "    </tr>\n",
       "  </thead>\n",
       "  <tbody>\n",
       "    <tr>\n",
       "      <td>count</td>\n",
       "      <td>60314.000000</td>\n",
       "    </tr>\n",
       "    <tr>\n",
       "      <td>mean</td>\n",
       "      <td>23.881219</td>\n",
       "    </tr>\n",
       "    <tr>\n",
       "      <td>std</td>\n",
       "      <td>72.228884</td>\n",
       "    </tr>\n",
       "    <tr>\n",
       "      <td>min</td>\n",
       "      <td>4.990000</td>\n",
       "    </tr>\n",
       "    <tr>\n",
       "      <td>25%</td>\n",
       "      <td>4.990000</td>\n",
       "    </tr>\n",
       "    <tr>\n",
       "      <td>50%</td>\n",
       "      <td>4.990000</td>\n",
       "    </tr>\n",
       "    <tr>\n",
       "      <td>75%</td>\n",
       "      <td>9.990000</td>\n",
       "    </tr>\n",
       "    <tr>\n",
       "      <td>max</td>\n",
       "      <td>499.990000</td>\n",
       "    </tr>\n",
       "  </tbody>\n",
       "</table>\n",
       "</div>"
      ],
      "text/plain": [
       "            details\n",
       "count  60314.000000\n",
       "mean      23.881219\n",
       "std       72.228884\n",
       "min        4.990000\n",
       "25%        4.990000\n",
       "50%        4.990000\n",
       "75%        9.990000\n",
       "max      499.990000"
      ]
     },
     "metadata": {},
     "output_type": "display_data"
    }
   ],
   "source": [
    "showdata(data1)"
   ]
  },
  {
   "cell_type": "code",
   "execution_count": 147,
   "id": "7e3be950",
   "metadata": {},
   "outputs": [
    {
     "data": {
      "text/plain": [
       "58703"
      ]
     },
     "execution_count": 147,
     "metadata": {},
     "output_type": "execute_result"
    }
   ],
   "source": [
    "data1[\"user_id\"].nunique()"
   ]
  },
  {
   "cell_type": "code",
   "execution_count": 148,
   "id": "9b0bcdfa",
   "metadata": {},
   "outputs": [
    {
     "data": {
      "text/plain": [
       "13638"
      ]
     },
     "execution_count": 148,
     "metadata": {},
     "output_type": "execute_result"
    }
   ],
   "source": [
    "data2[\"user_id\"].nunique()"
   ]
  },
  {
   "cell_type": "code",
   "execution_count": 149,
   "id": "10552d1e",
   "metadata": {},
   "outputs": [
    {
     "data": {
      "text/html": [
       "<div>\n",
       "<style scoped>\n",
       "    .dataframe tbody tr th:only-of-type {\n",
       "        vertical-align: middle;\n",
       "    }\n",
       "\n",
       "    .dataframe tbody tr th {\n",
       "        vertical-align: top;\n",
       "    }\n",
       "\n",
       "    .dataframe thead th {\n",
       "        text-align: right;\n",
       "    }\n",
       "</style>\n",
       "<table border=\"1\" class=\"dataframe\">\n",
       "  <thead>\n",
       "    <tr style=\"text-align: right;\">\n",
       "      <th></th>\n",
       "      <th>user_id</th>\n",
       "      <th>group</th>\n",
       "      <th>ab_test</th>\n",
       "    </tr>\n",
       "  </thead>\n",
       "  <tbody>\n",
       "    <tr>\n",
       "      <td>0</td>\n",
       "      <td>D1ABA3E2887B6A73</td>\n",
       "      <td>A</td>\n",
       "      <td>recommender_system_test</td>\n",
       "    </tr>\n",
       "    <tr>\n",
       "      <td>1</td>\n",
       "      <td>A7A3664BD6242119</td>\n",
       "      <td>A</td>\n",
       "      <td>recommender_system_test</td>\n",
       "    </tr>\n",
       "    <tr>\n",
       "      <td>2</td>\n",
       "      <td>DABC14FDDFADD29E</td>\n",
       "      <td>A</td>\n",
       "      <td>recommender_system_test</td>\n",
       "    </tr>\n",
       "    <tr>\n",
       "      <td>3</td>\n",
       "      <td>04988C5DF189632E</td>\n",
       "      <td>A</td>\n",
       "      <td>recommender_system_test</td>\n",
       "    </tr>\n",
       "    <tr>\n",
       "      <td>4</td>\n",
       "      <td>4FF2998A348C484F</td>\n",
       "      <td>A</td>\n",
       "      <td>recommender_system_test</td>\n",
       "    </tr>\n",
       "    <tr>\n",
       "      <td>5</td>\n",
       "      <td>7473E0943673C09E</td>\n",
       "      <td>A</td>\n",
       "      <td>recommender_system_test</td>\n",
       "    </tr>\n",
       "    <tr>\n",
       "      <td>6</td>\n",
       "      <td>C46FE336D240A054</td>\n",
       "      <td>A</td>\n",
       "      <td>recommender_system_test</td>\n",
       "    </tr>\n",
       "    <tr>\n",
       "      <td>7</td>\n",
       "      <td>92CB588012C10D3D</td>\n",
       "      <td>A</td>\n",
       "      <td>recommender_system_test</td>\n",
       "    </tr>\n",
       "    <tr>\n",
       "      <td>8</td>\n",
       "      <td>B3A2485649E4A012</td>\n",
       "      <td>A</td>\n",
       "      <td>recommender_system_test</td>\n",
       "    </tr>\n",
       "    <tr>\n",
       "      <td>9</td>\n",
       "      <td>66FC298441D50783</td>\n",
       "      <td>A</td>\n",
       "      <td>recommender_system_test</td>\n",
       "    </tr>\n",
       "  </tbody>\n",
       "</table>\n",
       "</div>"
      ],
      "text/plain": [
       "            user_id group                  ab_test\n",
       "0  D1ABA3E2887B6A73     A  recommender_system_test\n",
       "1  A7A3664BD6242119     A  recommender_system_test\n",
       "2  DABC14FDDFADD29E     A  recommender_system_test\n",
       "3  04988C5DF189632E     A  recommender_system_test\n",
       "4  4FF2998A348C484F     A  recommender_system_test\n",
       "5  7473E0943673C09E     A  recommender_system_test\n",
       "6  C46FE336D240A054     A  recommender_system_test\n",
       "7  92CB588012C10D3D     A  recommender_system_test\n",
       "8  B3A2485649E4A012     A  recommender_system_test\n",
       "9  66FC298441D50783     A  recommender_system_test"
      ]
     },
     "metadata": {},
     "output_type": "display_data"
    },
    {
     "name": "stdout",
     "output_type": "stream",
     "text": [
      "<class 'pandas.core.frame.DataFrame'>\n",
      "RangeIndex: 14525 entries, 0 to 14524\n",
      "Data columns (total 3 columns):\n",
      "user_id    14525 non-null object\n",
      "group      14525 non-null object\n",
      "ab_test    14525 non-null object\n",
      "dtypes: object(3)\n",
      "memory usage: 340.6+ KB\n"
     ]
    },
    {
     "data": {
      "text/plain": [
       "None"
      ]
     },
     "metadata": {},
     "output_type": "display_data"
    },
    {
     "data": {
      "text/html": [
       "<div>\n",
       "<style scoped>\n",
       "    .dataframe tbody tr th:only-of-type {\n",
       "        vertical-align: middle;\n",
       "    }\n",
       "\n",
       "    .dataframe tbody tr th {\n",
       "        vertical-align: top;\n",
       "    }\n",
       "\n",
       "    .dataframe thead th {\n",
       "        text-align: right;\n",
       "    }\n",
       "</style>\n",
       "<table border=\"1\" class=\"dataframe\">\n",
       "  <thead>\n",
       "    <tr style=\"text-align: right;\">\n",
       "      <th></th>\n",
       "      <th>user_id</th>\n",
       "      <th>group</th>\n",
       "      <th>ab_test</th>\n",
       "    </tr>\n",
       "  </thead>\n",
       "  <tbody>\n",
       "    <tr>\n",
       "      <td>count</td>\n",
       "      <td>14525</td>\n",
       "      <td>14525</td>\n",
       "      <td>14525</td>\n",
       "    </tr>\n",
       "    <tr>\n",
       "      <td>unique</td>\n",
       "      <td>13638</td>\n",
       "      <td>2</td>\n",
       "      <td>2</td>\n",
       "    </tr>\n",
       "    <tr>\n",
       "      <td>top</td>\n",
       "      <td>57442DD4178AFE27</td>\n",
       "      <td>A</td>\n",
       "      <td>interface_eu_test</td>\n",
       "    </tr>\n",
       "    <tr>\n",
       "      <td>freq</td>\n",
       "      <td>2</td>\n",
       "      <td>8214</td>\n",
       "      <td>10850</td>\n",
       "    </tr>\n",
       "  </tbody>\n",
       "</table>\n",
       "</div>"
      ],
      "text/plain": [
       "                 user_id  group            ab_test\n",
       "count              14525  14525              14525\n",
       "unique             13638      2                  2\n",
       "top     57442DD4178AFE27      A  interface_eu_test\n",
       "freq                   2   8214              10850"
      ]
     },
     "metadata": {},
     "output_type": "display_data"
    },
    {
     "data": {
      "text/plain": [
       "user_id    0.0\n",
       "group      0.0\n",
       "ab_test    0.0\n",
       "dtype: float64"
      ]
     },
     "metadata": {},
     "output_type": "display_data"
    },
    {
     "data": {
      "text/plain": [
       "0.0"
      ]
     },
     "metadata": {},
     "output_type": "display_data"
    },
    {
     "data": {
      "text/html": [
       "<div>\n",
       "<style scoped>\n",
       "    .dataframe tbody tr th:only-of-type {\n",
       "        vertical-align: middle;\n",
       "    }\n",
       "\n",
       "    .dataframe tbody tr th {\n",
       "        vertical-align: top;\n",
       "    }\n",
       "\n",
       "    .dataframe thead th {\n",
       "        text-align: right;\n",
       "    }\n",
       "</style>\n",
       "<table border=\"1\" class=\"dataframe\">\n",
       "  <thead>\n",
       "    <tr style=\"text-align: right;\">\n",
       "      <th></th>\n",
       "      <th>user_id</th>\n",
       "      <th>group</th>\n",
       "      <th>ab_test</th>\n",
       "    </tr>\n",
       "  </thead>\n",
       "  <tbody>\n",
       "    <tr>\n",
       "      <td>count</td>\n",
       "      <td>14525</td>\n",
       "      <td>14525</td>\n",
       "      <td>14525</td>\n",
       "    </tr>\n",
       "    <tr>\n",
       "      <td>unique</td>\n",
       "      <td>13638</td>\n",
       "      <td>2</td>\n",
       "      <td>2</td>\n",
       "    </tr>\n",
       "    <tr>\n",
       "      <td>top</td>\n",
       "      <td>57442DD4178AFE27</td>\n",
       "      <td>A</td>\n",
       "      <td>interface_eu_test</td>\n",
       "    </tr>\n",
       "    <tr>\n",
       "      <td>freq</td>\n",
       "      <td>2</td>\n",
       "      <td>8214</td>\n",
       "      <td>10850</td>\n",
       "    </tr>\n",
       "  </tbody>\n",
       "</table>\n",
       "</div>"
      ],
      "text/plain": [
       "                 user_id  group            ab_test\n",
       "count              14525  14525              14525\n",
       "unique             13638      2                  2\n",
       "top     57442DD4178AFE27      A  interface_eu_test\n",
       "freq                   2   8214              10850"
      ]
     },
     "metadata": {},
     "output_type": "display_data"
    }
   ],
   "source": [
    "showdata(data2)"
   ]
  },
  {
   "cell_type": "code",
   "execution_count": 150,
   "id": "08d6fa3a",
   "metadata": {},
   "outputs": [],
   "source": [
    "test=data2.groupby(['user_id'])['ab_test'].nunique().reset_index().query('ab_test==1')"
   ]
  },
  {
   "cell_type": "code",
   "execution_count": 151,
   "id": "07639457",
   "metadata": {},
   "outputs": [],
   "source": [
    "data2=data2[data2[\"user_id\"].isin(test[\"user_id\"])]"
   ]
  },
  {
   "cell_type": "code",
   "execution_count": 152,
   "id": "33e6da22",
   "metadata": {},
   "outputs": [
    {
     "data": {
      "text/html": [
       "<div>\n",
       "<style scoped>\n",
       "    .dataframe tbody tr th:only-of-type {\n",
       "        vertical-align: middle;\n",
       "    }\n",
       "\n",
       "    .dataframe tbody tr th {\n",
       "        vertical-align: top;\n",
       "    }\n",
       "\n",
       "    .dataframe thead th {\n",
       "        text-align: right;\n",
       "    }\n",
       "</style>\n",
       "<table border=\"1\" class=\"dataframe\">\n",
       "  <thead>\n",
       "    <tr style=\"text-align: right;\">\n",
       "      <th></th>\n",
       "      <th>user_id</th>\n",
       "      <th>group</th>\n",
       "      <th>ab_test</th>\n",
       "    </tr>\n",
       "  </thead>\n",
       "  <tbody>\n",
       "    <tr>\n",
       "      <td>0</td>\n",
       "      <td>D1ABA3E2887B6A73</td>\n",
       "      <td>A</td>\n",
       "      <td>recommender_system_test</td>\n",
       "    </tr>\n",
       "    <tr>\n",
       "      <td>1</td>\n",
       "      <td>A7A3664BD6242119</td>\n",
       "      <td>A</td>\n",
       "      <td>recommender_system_test</td>\n",
       "    </tr>\n",
       "    <tr>\n",
       "      <td>4</td>\n",
       "      <td>4FF2998A348C484F</td>\n",
       "      <td>A</td>\n",
       "      <td>recommender_system_test</td>\n",
       "    </tr>\n",
       "    <tr>\n",
       "      <td>5</td>\n",
       "      <td>7473E0943673C09E</td>\n",
       "      <td>A</td>\n",
       "      <td>recommender_system_test</td>\n",
       "    </tr>\n",
       "    <tr>\n",
       "      <td>6</td>\n",
       "      <td>C46FE336D240A054</td>\n",
       "      <td>A</td>\n",
       "      <td>recommender_system_test</td>\n",
       "    </tr>\n",
       "    <tr>\n",
       "      <td>...</td>\n",
       "      <td>...</td>\n",
       "      <td>...</td>\n",
       "      <td>...</td>\n",
       "    </tr>\n",
       "    <tr>\n",
       "      <td>14520</td>\n",
       "      <td>1D302F8688B91781</td>\n",
       "      <td>B</td>\n",
       "      <td>interface_eu_test</td>\n",
       "    </tr>\n",
       "    <tr>\n",
       "      <td>14521</td>\n",
       "      <td>3DE51B726983B657</td>\n",
       "      <td>A</td>\n",
       "      <td>interface_eu_test</td>\n",
       "    </tr>\n",
       "    <tr>\n",
       "      <td>14522</td>\n",
       "      <td>F501F79D332BE86C</td>\n",
       "      <td>A</td>\n",
       "      <td>interface_eu_test</td>\n",
       "    </tr>\n",
       "    <tr>\n",
       "      <td>14523</td>\n",
       "      <td>63FBE257B05F2245</td>\n",
       "      <td>A</td>\n",
       "      <td>interface_eu_test</td>\n",
       "    </tr>\n",
       "    <tr>\n",
       "      <td>14524</td>\n",
       "      <td>79F9ABFB029CF724</td>\n",
       "      <td>B</td>\n",
       "      <td>interface_eu_test</td>\n",
       "    </tr>\n",
       "  </tbody>\n",
       "</table>\n",
       "<p>12751 rows × 3 columns</p>\n",
       "</div>"
      ],
      "text/plain": [
       "                user_id group                  ab_test\n",
       "0      D1ABA3E2887B6A73     A  recommender_system_test\n",
       "1      A7A3664BD6242119     A  recommender_system_test\n",
       "4      4FF2998A348C484F     A  recommender_system_test\n",
       "5      7473E0943673C09E     A  recommender_system_test\n",
       "6      C46FE336D240A054     A  recommender_system_test\n",
       "...                 ...   ...                      ...\n",
       "14520  1D302F8688B91781     B        interface_eu_test\n",
       "14521  3DE51B726983B657     A        interface_eu_test\n",
       "14522  F501F79D332BE86C     A        interface_eu_test\n",
       "14523  63FBE257B05F2245     A        interface_eu_test\n",
       "14524  79F9ABFB029CF724     B        interface_eu_test\n",
       "\n",
       "[12751 rows x 3 columns]"
      ]
     },
     "execution_count": 152,
     "metadata": {},
     "output_type": "execute_result"
    }
   ],
   "source": [
    "data2"
   ]
  },
  {
   "cell_type": "code",
   "execution_count": null,
   "id": "136a7cbd",
   "metadata": {},
   "outputs": [],
   "source": []
  },
  {
   "cell_type": "code",
   "execution_count": null,
   "id": "60824990",
   "metadata": {},
   "outputs": [],
   "source": []
  },
  {
   "cell_type": "code",
   "execution_count": 153,
   "id": "44a8ef5e",
   "metadata": {},
   "outputs": [],
   "source": [
    "data2=data2[data2[\"user_id\"].isin(test[\"user_id\"])]"
   ]
  },
  {
   "cell_type": "code",
   "execution_count": 154,
   "id": "928b83b7",
   "metadata": {},
   "outputs": [],
   "source": [
    "data2=data2.query('ab_test == \"interface_eu_test\"')"
   ]
  },
  {
   "cell_type": "code",
   "execution_count": 155,
   "id": "a1ef3948",
   "metadata": {},
   "outputs": [
    {
     "data": {
      "text/html": [
       "<div>\n",
       "<style scoped>\n",
       "    .dataframe tbody tr th:only-of-type {\n",
       "        vertical-align: middle;\n",
       "    }\n",
       "\n",
       "    .dataframe tbody tr th {\n",
       "        vertical-align: top;\n",
       "    }\n",
       "\n",
       "    .dataframe thead th {\n",
       "        text-align: right;\n",
       "    }\n",
       "</style>\n",
       "<table border=\"1\" class=\"dataframe\">\n",
       "  <thead>\n",
       "    <tr style=\"text-align: right;\">\n",
       "      <th></th>\n",
       "      <th>user_id</th>\n",
       "      <th>group</th>\n",
       "      <th>ab_test</th>\n",
       "    </tr>\n",
       "  </thead>\n",
       "  <tbody>\n",
       "    <tr>\n",
       "      <td>3675</td>\n",
       "      <td>D4E530F6595A05A3</td>\n",
       "      <td>A</td>\n",
       "      <td>interface_eu_test</td>\n",
       "    </tr>\n",
       "    <tr>\n",
       "      <td>3676</td>\n",
       "      <td>6BCB0F33D3BAB8C2</td>\n",
       "      <td>A</td>\n",
       "      <td>interface_eu_test</td>\n",
       "    </tr>\n",
       "    <tr>\n",
       "      <td>3678</td>\n",
       "      <td>2D2E7AA539CF348F</td>\n",
       "      <td>B</td>\n",
       "      <td>interface_eu_test</td>\n",
       "    </tr>\n",
       "    <tr>\n",
       "      <td>3679</td>\n",
       "      <td>4BA448BCE1343C6F</td>\n",
       "      <td>A</td>\n",
       "      <td>interface_eu_test</td>\n",
       "    </tr>\n",
       "    <tr>\n",
       "      <td>3680</td>\n",
       "      <td>76B6CDF2A8B1DBFC</td>\n",
       "      <td>B</td>\n",
       "      <td>interface_eu_test</td>\n",
       "    </tr>\n",
       "    <tr>\n",
       "      <td>...</td>\n",
       "      <td>...</td>\n",
       "      <td>...</td>\n",
       "      <td>...</td>\n",
       "    </tr>\n",
       "    <tr>\n",
       "      <td>14520</td>\n",
       "      <td>1D302F8688B91781</td>\n",
       "      <td>B</td>\n",
       "      <td>interface_eu_test</td>\n",
       "    </tr>\n",
       "    <tr>\n",
       "      <td>14521</td>\n",
       "      <td>3DE51B726983B657</td>\n",
       "      <td>A</td>\n",
       "      <td>interface_eu_test</td>\n",
       "    </tr>\n",
       "    <tr>\n",
       "      <td>14522</td>\n",
       "      <td>F501F79D332BE86C</td>\n",
       "      <td>A</td>\n",
       "      <td>interface_eu_test</td>\n",
       "    </tr>\n",
       "    <tr>\n",
       "      <td>14523</td>\n",
       "      <td>63FBE257B05F2245</td>\n",
       "      <td>A</td>\n",
       "      <td>interface_eu_test</td>\n",
       "    </tr>\n",
       "    <tr>\n",
       "      <td>14524</td>\n",
       "      <td>79F9ABFB029CF724</td>\n",
       "      <td>B</td>\n",
       "      <td>interface_eu_test</td>\n",
       "    </tr>\n",
       "  </tbody>\n",
       "</table>\n",
       "<p>9963 rows × 3 columns</p>\n",
       "</div>"
      ],
      "text/plain": [
       "                user_id group            ab_test\n",
       "3675   D4E530F6595A05A3     A  interface_eu_test\n",
       "3676   6BCB0F33D3BAB8C2     A  interface_eu_test\n",
       "3678   2D2E7AA539CF348F     B  interface_eu_test\n",
       "3679   4BA448BCE1343C6F     A  interface_eu_test\n",
       "3680   76B6CDF2A8B1DBFC     B  interface_eu_test\n",
       "...                 ...   ...                ...\n",
       "14520  1D302F8688B91781     B  interface_eu_test\n",
       "14521  3DE51B726983B657     A  interface_eu_test\n",
       "14522  F501F79D332BE86C     A  interface_eu_test\n",
       "14523  63FBE257B05F2245     A  interface_eu_test\n",
       "14524  79F9ABFB029CF724     B  interface_eu_test\n",
       "\n",
       "[9963 rows x 3 columns]"
      ]
     },
     "execution_count": 155,
     "metadata": {},
     "output_type": "execute_result"
    }
   ],
   "source": [
    "data2"
   ]
  },
  {
   "cell_type": "code",
   "execution_count": 156,
   "id": "a36066a7",
   "metadata": {},
   "outputs": [],
   "source": [
    "test=data2.groupby(['user_id'])['group'].nunique().reset_index().query('group==1')"
   ]
  },
  {
   "cell_type": "code",
   "execution_count": null,
   "id": "3babf64d",
   "metadata": {},
   "outputs": [],
   "source": []
  },
  {
   "cell_type": "code",
   "execution_count": 157,
   "id": "759e953f",
   "metadata": {},
   "outputs": [
    {
     "data": {
      "text/html": [
       "<div>\n",
       "<style scoped>\n",
       "    .dataframe tbody tr th:only-of-type {\n",
       "        vertical-align: middle;\n",
       "    }\n",
       "\n",
       "    .dataframe tbody tr th {\n",
       "        vertical-align: top;\n",
       "    }\n",
       "\n",
       "    .dataframe thead th {\n",
       "        text-align: right;\n",
       "    }\n",
       "</style>\n",
       "<table border=\"1\" class=\"dataframe\">\n",
       "  <thead>\n",
       "    <tr style=\"text-align: right;\">\n",
       "      <th></th>\n",
       "      <th>user_id</th>\n",
       "      <th>first_date</th>\n",
       "      <th>region</th>\n",
       "      <th>device</th>\n",
       "    </tr>\n",
       "  </thead>\n",
       "  <tbody>\n",
       "    <tr>\n",
       "      <td>0</td>\n",
       "      <td>D72A72121175D8BE</td>\n",
       "      <td>2020-12-07</td>\n",
       "      <td>EU</td>\n",
       "      <td>PC</td>\n",
       "    </tr>\n",
       "    <tr>\n",
       "      <td>1</td>\n",
       "      <td>F1C668619DFE6E65</td>\n",
       "      <td>2020-12-07</td>\n",
       "      <td>N.America</td>\n",
       "      <td>Android</td>\n",
       "    </tr>\n",
       "    <tr>\n",
       "      <td>2</td>\n",
       "      <td>2E1BF1D4C37EA01F</td>\n",
       "      <td>2020-12-07</td>\n",
       "      <td>EU</td>\n",
       "      <td>PC</td>\n",
       "    </tr>\n",
       "    <tr>\n",
       "      <td>3</td>\n",
       "      <td>50734A22C0C63768</td>\n",
       "      <td>2020-12-07</td>\n",
       "      <td>EU</td>\n",
       "      <td>iPhone</td>\n",
       "    </tr>\n",
       "    <tr>\n",
       "      <td>4</td>\n",
       "      <td>E1BDDCE0DAFA2679</td>\n",
       "      <td>2020-12-07</td>\n",
       "      <td>N.America</td>\n",
       "      <td>iPhone</td>\n",
       "    </tr>\n",
       "    <tr>\n",
       "      <td>5</td>\n",
       "      <td>137119F5A9E69421</td>\n",
       "      <td>2020-12-07</td>\n",
       "      <td>N.America</td>\n",
       "      <td>iPhone</td>\n",
       "    </tr>\n",
       "    <tr>\n",
       "      <td>6</td>\n",
       "      <td>62F0C741CC42D0CC</td>\n",
       "      <td>2020-12-07</td>\n",
       "      <td>APAC</td>\n",
       "      <td>iPhone</td>\n",
       "    </tr>\n",
       "    <tr>\n",
       "      <td>7</td>\n",
       "      <td>8942E64218C9A1ED</td>\n",
       "      <td>2020-12-07</td>\n",
       "      <td>EU</td>\n",
       "      <td>PC</td>\n",
       "    </tr>\n",
       "    <tr>\n",
       "      <td>8</td>\n",
       "      <td>499AFACF904BBAE3</td>\n",
       "      <td>2020-12-07</td>\n",
       "      <td>N.America</td>\n",
       "      <td>iPhone</td>\n",
       "    </tr>\n",
       "    <tr>\n",
       "      <td>9</td>\n",
       "      <td>FFCEA1179C253104</td>\n",
       "      <td>2020-12-07</td>\n",
       "      <td>EU</td>\n",
       "      <td>Android</td>\n",
       "    </tr>\n",
       "  </tbody>\n",
       "</table>\n",
       "</div>"
      ],
      "text/plain": [
       "            user_id  first_date     region   device\n",
       "0  D72A72121175D8BE  2020-12-07         EU       PC\n",
       "1  F1C668619DFE6E65  2020-12-07  N.America  Android\n",
       "2  2E1BF1D4C37EA01F  2020-12-07         EU       PC\n",
       "3  50734A22C0C63768  2020-12-07         EU   iPhone\n",
       "4  E1BDDCE0DAFA2679  2020-12-07  N.America   iPhone\n",
       "5  137119F5A9E69421  2020-12-07  N.America   iPhone\n",
       "6  62F0C741CC42D0CC  2020-12-07       APAC   iPhone\n",
       "7  8942E64218C9A1ED  2020-12-07         EU       PC\n",
       "8  499AFACF904BBAE3  2020-12-07  N.America   iPhone\n",
       "9  FFCEA1179C253104  2020-12-07         EU  Android"
      ]
     },
     "metadata": {},
     "output_type": "display_data"
    },
    {
     "name": "stdout",
     "output_type": "stream",
     "text": [
      "<class 'pandas.core.frame.DataFrame'>\n",
      "RangeIndex: 58703 entries, 0 to 58702\n",
      "Data columns (total 4 columns):\n",
      "user_id       58703 non-null object\n",
      "first_date    58703 non-null object\n",
      "region        58703 non-null object\n",
      "device        58703 non-null object\n",
      "dtypes: object(4)\n",
      "memory usage: 1.8+ MB\n"
     ]
    },
    {
     "data": {
      "text/plain": [
       "None"
      ]
     },
     "metadata": {},
     "output_type": "display_data"
    },
    {
     "data": {
      "text/html": [
       "<div>\n",
       "<style scoped>\n",
       "    .dataframe tbody tr th:only-of-type {\n",
       "        vertical-align: middle;\n",
       "    }\n",
       "\n",
       "    .dataframe tbody tr th {\n",
       "        vertical-align: top;\n",
       "    }\n",
       "\n",
       "    .dataframe thead th {\n",
       "        text-align: right;\n",
       "    }\n",
       "</style>\n",
       "<table border=\"1\" class=\"dataframe\">\n",
       "  <thead>\n",
       "    <tr style=\"text-align: right;\">\n",
       "      <th></th>\n",
       "      <th>user_id</th>\n",
       "      <th>first_date</th>\n",
       "      <th>region</th>\n",
       "      <th>device</th>\n",
       "    </tr>\n",
       "  </thead>\n",
       "  <tbody>\n",
       "    <tr>\n",
       "      <td>count</td>\n",
       "      <td>58703</td>\n",
       "      <td>58703</td>\n",
       "      <td>58703</td>\n",
       "      <td>58703</td>\n",
       "    </tr>\n",
       "    <tr>\n",
       "      <td>unique</td>\n",
       "      <td>58703</td>\n",
       "      <td>17</td>\n",
       "      <td>4</td>\n",
       "      <td>4</td>\n",
       "    </tr>\n",
       "    <tr>\n",
       "      <td>top</td>\n",
       "      <td>CACAF6059D646678</td>\n",
       "      <td>2020-12-21</td>\n",
       "      <td>EU</td>\n",
       "      <td>Android</td>\n",
       "    </tr>\n",
       "    <tr>\n",
       "      <td>freq</td>\n",
       "      <td>1</td>\n",
       "      <td>6077</td>\n",
       "      <td>43396</td>\n",
       "      <td>26159</td>\n",
       "    </tr>\n",
       "  </tbody>\n",
       "</table>\n",
       "</div>"
      ],
      "text/plain": [
       "                 user_id  first_date region   device\n",
       "count              58703       58703  58703    58703\n",
       "unique             58703          17      4        4\n",
       "top     CACAF6059D646678  2020-12-21     EU  Android\n",
       "freq                   1        6077  43396    26159"
      ]
     },
     "metadata": {},
     "output_type": "display_data"
    },
    {
     "data": {
      "text/plain": [
       "user_id       0.0\n",
       "first_date    0.0\n",
       "region        0.0\n",
       "device        0.0\n",
       "dtype: float64"
      ]
     },
     "metadata": {},
     "output_type": "display_data"
    },
    {
     "data": {
      "text/plain": [
       "0.0"
      ]
     },
     "metadata": {},
     "output_type": "display_data"
    },
    {
     "data": {
      "text/html": [
       "<div>\n",
       "<style scoped>\n",
       "    .dataframe tbody tr th:only-of-type {\n",
       "        vertical-align: middle;\n",
       "    }\n",
       "\n",
       "    .dataframe tbody tr th {\n",
       "        vertical-align: top;\n",
       "    }\n",
       "\n",
       "    .dataframe thead th {\n",
       "        text-align: right;\n",
       "    }\n",
       "</style>\n",
       "<table border=\"1\" class=\"dataframe\">\n",
       "  <thead>\n",
       "    <tr style=\"text-align: right;\">\n",
       "      <th></th>\n",
       "      <th>user_id</th>\n",
       "      <th>first_date</th>\n",
       "      <th>region</th>\n",
       "      <th>device</th>\n",
       "    </tr>\n",
       "  </thead>\n",
       "  <tbody>\n",
       "    <tr>\n",
       "      <td>count</td>\n",
       "      <td>58703</td>\n",
       "      <td>58703</td>\n",
       "      <td>58703</td>\n",
       "      <td>58703</td>\n",
       "    </tr>\n",
       "    <tr>\n",
       "      <td>unique</td>\n",
       "      <td>58703</td>\n",
       "      <td>17</td>\n",
       "      <td>4</td>\n",
       "      <td>4</td>\n",
       "    </tr>\n",
       "    <tr>\n",
       "      <td>top</td>\n",
       "      <td>CACAF6059D646678</td>\n",
       "      <td>2020-12-21</td>\n",
       "      <td>EU</td>\n",
       "      <td>Android</td>\n",
       "    </tr>\n",
       "    <tr>\n",
       "      <td>freq</td>\n",
       "      <td>1</td>\n",
       "      <td>6077</td>\n",
       "      <td>43396</td>\n",
       "      <td>26159</td>\n",
       "    </tr>\n",
       "  </tbody>\n",
       "</table>\n",
       "</div>"
      ],
      "text/plain": [
       "                 user_id  first_date region   device\n",
       "count              58703       58703  58703    58703\n",
       "unique             58703          17      4        4\n",
       "top     CACAF6059D646678  2020-12-21     EU  Android\n",
       "freq                   1        6077  43396    26159"
      ]
     },
     "metadata": {},
     "output_type": "display_data"
    }
   ],
   "source": [
    "showdata(data3)"
   ]
  },
  {
   "cell_type": "code",
   "execution_count": 158,
   "id": "10b098ef",
   "metadata": {},
   "outputs": [
    {
     "data": {
      "text/plain": [
       "array(['2020-12-07', '2020-12-14', '2020-12-21', '2020-12-08',\n",
       "       '2020-12-15', '2020-12-22', '2020-12-09', '2020-12-16',\n",
       "       '2020-12-23', '2020-12-10', '2020-12-17', '2020-12-11',\n",
       "       '2020-12-18', '2020-12-12', '2020-12-19', '2020-12-13',\n",
       "       '2020-12-20'], dtype=object)"
      ]
     },
     "execution_count": 158,
     "metadata": {},
     "output_type": "execute_result"
    }
   ],
   "source": [
    "data3[\"first_date\"].unique()"
   ]
  },
  {
   "cell_type": "code",
   "execution_count": null,
   "id": "9b3d1f56",
   "metadata": {},
   "outputs": [],
   "source": []
  },
  {
   "cell_type": "code",
   "execution_count": 159,
   "id": "eee097c5",
   "metadata": {},
   "outputs": [],
   "source": [
    "data3=data3.query('region == \"EU\"')"
   ]
  },
  {
   "cell_type": "code",
   "execution_count": 160,
   "id": "7d51cd66",
   "metadata": {},
   "outputs": [
    {
     "data": {
      "text/plain": [
       "43396"
      ]
     },
     "execution_count": 160,
     "metadata": {},
     "output_type": "execute_result"
    }
   ],
   "source": [
    "data3[\"user_id\"].nunique()"
   ]
  },
  {
   "cell_type": "code",
   "execution_count": 161,
   "id": "9c4fd12a",
   "metadata": {},
   "outputs": [
    {
     "name": "stdout",
     "output_type": "stream",
     "text": [
      "<class 'pandas.core.frame.DataFrame'>\n",
      "Int64Index: 43396 entries, 0 to 58702\n",
      "Data columns (total 4 columns):\n",
      "user_id       43396 non-null object\n",
      "first_date    43396 non-null object\n",
      "region        43396 non-null object\n",
      "device        43396 non-null object\n",
      "dtypes: object(4)\n",
      "memory usage: 1.7+ MB\n"
     ]
    }
   ],
   "source": [
    "data3.info()"
   ]
  },
  {
   "cell_type": "code",
   "execution_count": 162,
   "id": "41cbb7bb",
   "metadata": {},
   "outputs": [
    {
     "data": {
      "text/html": [
       "<div>\n",
       "<style scoped>\n",
       "    .dataframe tbody tr th:only-of-type {\n",
       "        vertical-align: middle;\n",
       "    }\n",
       "\n",
       "    .dataframe tbody tr th {\n",
       "        vertical-align: top;\n",
       "    }\n",
       "\n",
       "    .dataframe thead th {\n",
       "        text-align: right;\n",
       "    }\n",
       "</style>\n",
       "<table border=\"1\" class=\"dataframe\">\n",
       "  <thead>\n",
       "    <tr style=\"text-align: right;\">\n",
       "      <th></th>\n",
       "      <th>user_id</th>\n",
       "      <th>group</th>\n",
       "      <th>ab_test</th>\n",
       "    </tr>\n",
       "  </thead>\n",
       "  <tbody>\n",
       "    <tr>\n",
       "      <td>3675</td>\n",
       "      <td>D4E530F6595A05A3</td>\n",
       "      <td>A</td>\n",
       "      <td>interface_eu_test</td>\n",
       "    </tr>\n",
       "    <tr>\n",
       "      <td>3676</td>\n",
       "      <td>6BCB0F33D3BAB8C2</td>\n",
       "      <td>A</td>\n",
       "      <td>interface_eu_test</td>\n",
       "    </tr>\n",
       "    <tr>\n",
       "      <td>3678</td>\n",
       "      <td>2D2E7AA539CF348F</td>\n",
       "      <td>B</td>\n",
       "      <td>interface_eu_test</td>\n",
       "    </tr>\n",
       "    <tr>\n",
       "      <td>3679</td>\n",
       "      <td>4BA448BCE1343C6F</td>\n",
       "      <td>A</td>\n",
       "      <td>interface_eu_test</td>\n",
       "    </tr>\n",
       "    <tr>\n",
       "      <td>3680</td>\n",
       "      <td>76B6CDF2A8B1DBFC</td>\n",
       "      <td>B</td>\n",
       "      <td>interface_eu_test</td>\n",
       "    </tr>\n",
       "    <tr>\n",
       "      <td>...</td>\n",
       "      <td>...</td>\n",
       "      <td>...</td>\n",
       "      <td>...</td>\n",
       "    </tr>\n",
       "    <tr>\n",
       "      <td>14520</td>\n",
       "      <td>1D302F8688B91781</td>\n",
       "      <td>B</td>\n",
       "      <td>interface_eu_test</td>\n",
       "    </tr>\n",
       "    <tr>\n",
       "      <td>14521</td>\n",
       "      <td>3DE51B726983B657</td>\n",
       "      <td>A</td>\n",
       "      <td>interface_eu_test</td>\n",
       "    </tr>\n",
       "    <tr>\n",
       "      <td>14522</td>\n",
       "      <td>F501F79D332BE86C</td>\n",
       "      <td>A</td>\n",
       "      <td>interface_eu_test</td>\n",
       "    </tr>\n",
       "    <tr>\n",
       "      <td>14523</td>\n",
       "      <td>63FBE257B05F2245</td>\n",
       "      <td>A</td>\n",
       "      <td>interface_eu_test</td>\n",
       "    </tr>\n",
       "    <tr>\n",
       "      <td>14524</td>\n",
       "      <td>79F9ABFB029CF724</td>\n",
       "      <td>B</td>\n",
       "      <td>interface_eu_test</td>\n",
       "    </tr>\n",
       "  </tbody>\n",
       "</table>\n",
       "<p>9963 rows × 3 columns</p>\n",
       "</div>"
      ],
      "text/plain": [
       "                user_id group            ab_test\n",
       "3675   D4E530F6595A05A3     A  interface_eu_test\n",
       "3676   6BCB0F33D3BAB8C2     A  interface_eu_test\n",
       "3678   2D2E7AA539CF348F     B  interface_eu_test\n",
       "3679   4BA448BCE1343C6F     A  interface_eu_test\n",
       "3680   76B6CDF2A8B1DBFC     B  interface_eu_test\n",
       "...                 ...   ...                ...\n",
       "14520  1D302F8688B91781     B  interface_eu_test\n",
       "14521  3DE51B726983B657     A  interface_eu_test\n",
       "14522  F501F79D332BE86C     A  interface_eu_test\n",
       "14523  63FBE257B05F2245     A  interface_eu_test\n",
       "14524  79F9ABFB029CF724     B  interface_eu_test\n",
       "\n",
       "[9963 rows x 3 columns]"
      ]
     },
     "execution_count": 162,
     "metadata": {},
     "output_type": "execute_result"
    }
   ],
   "source": [
    "data2"
   ]
  },
  {
   "cell_type": "code",
   "execution_count": 163,
   "id": "592067ee",
   "metadata": {},
   "outputs": [
    {
     "data": {
      "text/plain": [
       "9963"
      ]
     },
     "execution_count": 163,
     "metadata": {},
     "output_type": "execute_result"
    }
   ],
   "source": [
    "data2[\"user_id\"].nunique()"
   ]
  },
  {
   "cell_type": "code",
   "execution_count": 164,
   "id": "37151866",
   "metadata": {},
   "outputs": [],
   "source": [
    "data2=data2.query('ab_test == \"interface_eu_test\"')"
   ]
  },
  {
   "cell_type": "code",
   "execution_count": 165,
   "id": "7ee25b67",
   "metadata": {},
   "outputs": [
    {
     "data": {
      "text/html": [
       "<div>\n",
       "<style scoped>\n",
       "    .dataframe tbody tr th:only-of-type {\n",
       "        vertical-align: middle;\n",
       "    }\n",
       "\n",
       "    .dataframe tbody tr th {\n",
       "        vertical-align: top;\n",
       "    }\n",
       "\n",
       "    .dataframe thead th {\n",
       "        text-align: right;\n",
       "    }\n",
       "</style>\n",
       "<table border=\"1\" class=\"dataframe\">\n",
       "  <thead>\n",
       "    <tr style=\"text-align: right;\">\n",
       "      <th></th>\n",
       "      <th>user_id</th>\n",
       "      <th>group</th>\n",
       "      <th>ab_test</th>\n",
       "    </tr>\n",
       "  </thead>\n",
       "  <tbody>\n",
       "    <tr>\n",
       "      <td>3675</td>\n",
       "      <td>D4E530F6595A05A3</td>\n",
       "      <td>A</td>\n",
       "      <td>interface_eu_test</td>\n",
       "    </tr>\n",
       "    <tr>\n",
       "      <td>3676</td>\n",
       "      <td>6BCB0F33D3BAB8C2</td>\n",
       "      <td>A</td>\n",
       "      <td>interface_eu_test</td>\n",
       "    </tr>\n",
       "    <tr>\n",
       "      <td>3678</td>\n",
       "      <td>2D2E7AA539CF348F</td>\n",
       "      <td>B</td>\n",
       "      <td>interface_eu_test</td>\n",
       "    </tr>\n",
       "    <tr>\n",
       "      <td>3679</td>\n",
       "      <td>4BA448BCE1343C6F</td>\n",
       "      <td>A</td>\n",
       "      <td>interface_eu_test</td>\n",
       "    </tr>\n",
       "    <tr>\n",
       "      <td>3680</td>\n",
       "      <td>76B6CDF2A8B1DBFC</td>\n",
       "      <td>B</td>\n",
       "      <td>interface_eu_test</td>\n",
       "    </tr>\n",
       "    <tr>\n",
       "      <td>...</td>\n",
       "      <td>...</td>\n",
       "      <td>...</td>\n",
       "      <td>...</td>\n",
       "    </tr>\n",
       "    <tr>\n",
       "      <td>14520</td>\n",
       "      <td>1D302F8688B91781</td>\n",
       "      <td>B</td>\n",
       "      <td>interface_eu_test</td>\n",
       "    </tr>\n",
       "    <tr>\n",
       "      <td>14521</td>\n",
       "      <td>3DE51B726983B657</td>\n",
       "      <td>A</td>\n",
       "      <td>interface_eu_test</td>\n",
       "    </tr>\n",
       "    <tr>\n",
       "      <td>14522</td>\n",
       "      <td>F501F79D332BE86C</td>\n",
       "      <td>A</td>\n",
       "      <td>interface_eu_test</td>\n",
       "    </tr>\n",
       "    <tr>\n",
       "      <td>14523</td>\n",
       "      <td>63FBE257B05F2245</td>\n",
       "      <td>A</td>\n",
       "      <td>interface_eu_test</td>\n",
       "    </tr>\n",
       "    <tr>\n",
       "      <td>14524</td>\n",
       "      <td>79F9ABFB029CF724</td>\n",
       "      <td>B</td>\n",
       "      <td>interface_eu_test</td>\n",
       "    </tr>\n",
       "  </tbody>\n",
       "</table>\n",
       "<p>9963 rows × 3 columns</p>\n",
       "</div>"
      ],
      "text/plain": [
       "                user_id group            ab_test\n",
       "3675   D4E530F6595A05A3     A  interface_eu_test\n",
       "3676   6BCB0F33D3BAB8C2     A  interface_eu_test\n",
       "3678   2D2E7AA539CF348F     B  interface_eu_test\n",
       "3679   4BA448BCE1343C6F     A  interface_eu_test\n",
       "3680   76B6CDF2A8B1DBFC     B  interface_eu_test\n",
       "...                 ...   ...                ...\n",
       "14520  1D302F8688B91781     B  interface_eu_test\n",
       "14521  3DE51B726983B657     A  interface_eu_test\n",
       "14522  F501F79D332BE86C     A  interface_eu_test\n",
       "14523  63FBE257B05F2245     A  interface_eu_test\n",
       "14524  79F9ABFB029CF724     B  interface_eu_test\n",
       "\n",
       "[9963 rows x 3 columns]"
      ]
     },
     "execution_count": 165,
     "metadata": {},
     "output_type": "execute_result"
    }
   ],
   "source": [
    "data2"
   ]
  },
  {
   "cell_type": "code",
   "execution_count": 166,
   "id": "e3747b34",
   "metadata": {},
   "outputs": [],
   "source": [
    "udata=data3.merge(data2, on='user_id',how = \"left\")"
   ]
  },
  {
   "cell_type": "code",
   "execution_count": 167,
   "id": "acaf5cf6",
   "metadata": {},
   "outputs": [
    {
     "data": {
      "text/html": [
       "<div>\n",
       "<style scoped>\n",
       "    .dataframe tbody tr th:only-of-type {\n",
       "        vertical-align: middle;\n",
       "    }\n",
       "\n",
       "    .dataframe tbody tr th {\n",
       "        vertical-align: top;\n",
       "    }\n",
       "\n",
       "    .dataframe thead th {\n",
       "        text-align: right;\n",
       "    }\n",
       "</style>\n",
       "<table border=\"1\" class=\"dataframe\">\n",
       "  <thead>\n",
       "    <tr style=\"text-align: right;\">\n",
       "      <th></th>\n",
       "      <th>user_id</th>\n",
       "      <th>first_date</th>\n",
       "      <th>region</th>\n",
       "      <th>device</th>\n",
       "      <th>group</th>\n",
       "      <th>ab_test</th>\n",
       "    </tr>\n",
       "  </thead>\n",
       "  <tbody>\n",
       "    <tr>\n",
       "      <td>0</td>\n",
       "      <td>D72A72121175D8BE</td>\n",
       "      <td>2020-12-07</td>\n",
       "      <td>EU</td>\n",
       "      <td>PC</td>\n",
       "      <td>NaN</td>\n",
       "      <td>NaN</td>\n",
       "    </tr>\n",
       "    <tr>\n",
       "      <td>1</td>\n",
       "      <td>2E1BF1D4C37EA01F</td>\n",
       "      <td>2020-12-07</td>\n",
       "      <td>EU</td>\n",
       "      <td>PC</td>\n",
       "      <td>A</td>\n",
       "      <td>interface_eu_test</td>\n",
       "    </tr>\n",
       "    <tr>\n",
       "      <td>2</td>\n",
       "      <td>50734A22C0C63768</td>\n",
       "      <td>2020-12-07</td>\n",
       "      <td>EU</td>\n",
       "      <td>iPhone</td>\n",
       "      <td>B</td>\n",
       "      <td>interface_eu_test</td>\n",
       "    </tr>\n",
       "    <tr>\n",
       "      <td>3</td>\n",
       "      <td>8942E64218C9A1ED</td>\n",
       "      <td>2020-12-07</td>\n",
       "      <td>EU</td>\n",
       "      <td>PC</td>\n",
       "      <td>NaN</td>\n",
       "      <td>NaN</td>\n",
       "    </tr>\n",
       "    <tr>\n",
       "      <td>4</td>\n",
       "      <td>FFCEA1179C253104</td>\n",
       "      <td>2020-12-07</td>\n",
       "      <td>EU</td>\n",
       "      <td>Android</td>\n",
       "      <td>NaN</td>\n",
       "      <td>NaN</td>\n",
       "    </tr>\n",
       "    <tr>\n",
       "      <td>...</td>\n",
       "      <td>...</td>\n",
       "      <td>...</td>\n",
       "      <td>...</td>\n",
       "      <td>...</td>\n",
       "      <td>...</td>\n",
       "      <td>...</td>\n",
       "    </tr>\n",
       "    <tr>\n",
       "      <td>43391</td>\n",
       "      <td>1DB53B933257165D</td>\n",
       "      <td>2020-12-20</td>\n",
       "      <td>EU</td>\n",
       "      <td>Android</td>\n",
       "      <td>NaN</td>\n",
       "      <td>NaN</td>\n",
       "    </tr>\n",
       "    <tr>\n",
       "      <td>43392</td>\n",
       "      <td>538643EB4527ED03</td>\n",
       "      <td>2020-12-20</td>\n",
       "      <td>EU</td>\n",
       "      <td>Mac</td>\n",
       "      <td>NaN</td>\n",
       "      <td>NaN</td>\n",
       "    </tr>\n",
       "    <tr>\n",
       "      <td>43393</td>\n",
       "      <td>7ADEE837D5D8CBBD</td>\n",
       "      <td>2020-12-20</td>\n",
       "      <td>EU</td>\n",
       "      <td>PC</td>\n",
       "      <td>NaN</td>\n",
       "      <td>NaN</td>\n",
       "    </tr>\n",
       "    <tr>\n",
       "      <td>43394</td>\n",
       "      <td>1C7D23927835213F</td>\n",
       "      <td>2020-12-20</td>\n",
       "      <td>EU</td>\n",
       "      <td>iPhone</td>\n",
       "      <td>B</td>\n",
       "      <td>interface_eu_test</td>\n",
       "    </tr>\n",
       "    <tr>\n",
       "      <td>43395</td>\n",
       "      <td>8F04273BB2860229</td>\n",
       "      <td>2020-12-20</td>\n",
       "      <td>EU</td>\n",
       "      <td>Android</td>\n",
       "      <td>NaN</td>\n",
       "      <td>NaN</td>\n",
       "    </tr>\n",
       "  </tbody>\n",
       "</table>\n",
       "<p>43396 rows × 6 columns</p>\n",
       "</div>"
      ],
      "text/plain": [
       "                user_id  first_date region   device group            ab_test\n",
       "0      D72A72121175D8BE  2020-12-07     EU       PC   NaN                NaN\n",
       "1      2E1BF1D4C37EA01F  2020-12-07     EU       PC     A  interface_eu_test\n",
       "2      50734A22C0C63768  2020-12-07     EU   iPhone     B  interface_eu_test\n",
       "3      8942E64218C9A1ED  2020-12-07     EU       PC   NaN                NaN\n",
       "4      FFCEA1179C253104  2020-12-07     EU  Android   NaN                NaN\n",
       "...                 ...         ...    ...      ...   ...                ...\n",
       "43391  1DB53B933257165D  2020-12-20     EU  Android   NaN                NaN\n",
       "43392  538643EB4527ED03  2020-12-20     EU      Mac   NaN                NaN\n",
       "43393  7ADEE837D5D8CBBD  2020-12-20     EU       PC   NaN                NaN\n",
       "43394  1C7D23927835213F  2020-12-20     EU   iPhone     B  interface_eu_test\n",
       "43395  8F04273BB2860229  2020-12-20     EU  Android   NaN                NaN\n",
       "\n",
       "[43396 rows x 6 columns]"
      ]
     },
     "execution_count": 167,
     "metadata": {},
     "output_type": "execute_result"
    }
   ],
   "source": [
    "udata"
   ]
  },
  {
   "cell_type": "code",
   "execution_count": 168,
   "id": "54ab9346",
   "metadata": {},
   "outputs": [],
   "source": [
    "\n",
    "data1.rename(columns={'id':'user_id'}, inplace=True)"
   ]
  },
  {
   "cell_type": "code",
   "execution_count": 169,
   "id": "e47b6bd9",
   "metadata": {},
   "outputs": [
    {
     "data": {
      "text/html": [
       "<div>\n",
       "<style scoped>\n",
       "    .dataframe tbody tr th:only-of-type {\n",
       "        vertical-align: middle;\n",
       "    }\n",
       "\n",
       "    .dataframe tbody tr th {\n",
       "        vertical-align: top;\n",
       "    }\n",
       "\n",
       "    .dataframe thead th {\n",
       "        text-align: right;\n",
       "    }\n",
       "</style>\n",
       "<table border=\"1\" class=\"dataframe\">\n",
       "  <thead>\n",
       "    <tr style=\"text-align: right;\">\n",
       "      <th></th>\n",
       "      <th>user_id</th>\n",
       "      <th>event_dt</th>\n",
       "      <th>event_name</th>\n",
       "      <th>details</th>\n",
       "    </tr>\n",
       "  </thead>\n",
       "  <tbody>\n",
       "    <tr>\n",
       "      <td>0</td>\n",
       "      <td>E1BDDCE0DAFA2679</td>\n",
       "      <td>2020-12-07 20:22:03</td>\n",
       "      <td>purchase</td>\n",
       "      <td>99.99</td>\n",
       "    </tr>\n",
       "    <tr>\n",
       "      <td>1</td>\n",
       "      <td>7B6452F081F49504</td>\n",
       "      <td>2020-12-07 09:22:53</td>\n",
       "      <td>purchase</td>\n",
       "      <td>9.99</td>\n",
       "    </tr>\n",
       "    <tr>\n",
       "      <td>2</td>\n",
       "      <td>9CD9F34546DF254C</td>\n",
       "      <td>2020-12-07 12:59:29</td>\n",
       "      <td>purchase</td>\n",
       "      <td>4.99</td>\n",
       "    </tr>\n",
       "    <tr>\n",
       "      <td>3</td>\n",
       "      <td>96F27A054B191457</td>\n",
       "      <td>2020-12-07 04:02:40</td>\n",
       "      <td>purchase</td>\n",
       "      <td>4.99</td>\n",
       "    </tr>\n",
       "    <tr>\n",
       "      <td>4</td>\n",
       "      <td>1FD7660FDF94CA1F</td>\n",
       "      <td>2020-12-07 10:15:09</td>\n",
       "      <td>purchase</td>\n",
       "      <td>4.99</td>\n",
       "    </tr>\n",
       "    <tr>\n",
       "      <td>...</td>\n",
       "      <td>...</td>\n",
       "      <td>...</td>\n",
       "      <td>...</td>\n",
       "      <td>...</td>\n",
       "    </tr>\n",
       "    <tr>\n",
       "      <td>423756</td>\n",
       "      <td>245E85F65C358E08</td>\n",
       "      <td>2020-12-30 19:35:55</td>\n",
       "      <td>login</td>\n",
       "      <td>NaN</td>\n",
       "    </tr>\n",
       "    <tr>\n",
       "      <td>423757</td>\n",
       "      <td>9385A108F5A0A7A7</td>\n",
       "      <td>2020-12-30 10:54:15</td>\n",
       "      <td>login</td>\n",
       "      <td>NaN</td>\n",
       "    </tr>\n",
       "    <tr>\n",
       "      <td>423758</td>\n",
       "      <td>DB650B7559AC6EAC</td>\n",
       "      <td>2020-12-30 10:59:09</td>\n",
       "      <td>login</td>\n",
       "      <td>NaN</td>\n",
       "    </tr>\n",
       "    <tr>\n",
       "      <td>423759</td>\n",
       "      <td>F80C9BDDEA02E53C</td>\n",
       "      <td>2020-12-30 09:53:39</td>\n",
       "      <td>login</td>\n",
       "      <td>NaN</td>\n",
       "    </tr>\n",
       "    <tr>\n",
       "      <td>423760</td>\n",
       "      <td>7AEC61159B672CC5</td>\n",
       "      <td>2020-12-30 11:36:13</td>\n",
       "      <td>login</td>\n",
       "      <td>NaN</td>\n",
       "    </tr>\n",
       "  </tbody>\n",
       "</table>\n",
       "<p>423761 rows × 4 columns</p>\n",
       "</div>"
      ],
      "text/plain": [
       "                 user_id             event_dt event_name  details\n",
       "0       E1BDDCE0DAFA2679  2020-12-07 20:22:03   purchase    99.99\n",
       "1       7B6452F081F49504  2020-12-07 09:22:53   purchase     9.99\n",
       "2       9CD9F34546DF254C  2020-12-07 12:59:29   purchase     4.99\n",
       "3       96F27A054B191457  2020-12-07 04:02:40   purchase     4.99\n",
       "4       1FD7660FDF94CA1F  2020-12-07 10:15:09   purchase     4.99\n",
       "...                  ...                  ...        ...      ...\n",
       "423756  245E85F65C358E08  2020-12-30 19:35:55      login      NaN\n",
       "423757  9385A108F5A0A7A7  2020-12-30 10:54:15      login      NaN\n",
       "423758  DB650B7559AC6EAC  2020-12-30 10:59:09      login      NaN\n",
       "423759  F80C9BDDEA02E53C  2020-12-30 09:53:39      login      NaN\n",
       "423760  7AEC61159B672CC5  2020-12-30 11:36:13      login      NaN\n",
       "\n",
       "[423761 rows x 4 columns]"
      ]
     },
     "execution_count": 169,
     "metadata": {},
     "output_type": "execute_result"
    }
   ],
   "source": [
    "data1"
   ]
  },
  {
   "cell_type": "code",
   "execution_count": 170,
   "id": "34e43041",
   "metadata": {},
   "outputs": [],
   "source": [
    "data1=data1[data1[\"user_id\"].isin(udata[\"user_id\"])]"
   ]
  },
  {
   "cell_type": "code",
   "execution_count": 171,
   "id": "6225dede",
   "metadata": {},
   "outputs": [],
   "source": [
    "udata=udata.merge(data1, on='user_id',how = \"right\")"
   ]
  },
  {
   "cell_type": "code",
   "execution_count": 172,
   "id": "fe6cb65d",
   "metadata": {},
   "outputs": [],
   "source": [
    "udata=udata.query('ab_test == \"interface_eu_test\"')"
   ]
  },
  {
   "cell_type": "code",
   "execution_count": 173,
   "id": "aa7e18a0",
   "metadata": {},
   "outputs": [
    {
     "data": {
      "text/html": [
       "<div>\n",
       "<style scoped>\n",
       "    .dataframe tbody tr th:only-of-type {\n",
       "        vertical-align: middle;\n",
       "    }\n",
       "\n",
       "    .dataframe tbody tr th {\n",
       "        vertical-align: top;\n",
       "    }\n",
       "\n",
       "    .dataframe thead th {\n",
       "        text-align: right;\n",
       "    }\n",
       "</style>\n",
       "<table border=\"1\" class=\"dataframe\">\n",
       "  <thead>\n",
       "    <tr style=\"text-align: right;\">\n",
       "      <th></th>\n",
       "      <th>user_id</th>\n",
       "      <th>first_date</th>\n",
       "      <th>region</th>\n",
       "      <th>device</th>\n",
       "      <th>group</th>\n",
       "      <th>ab_test</th>\n",
       "      <th>event_dt</th>\n",
       "      <th>event_name</th>\n",
       "      <th>details</th>\n",
       "    </tr>\n",
       "  </thead>\n",
       "  <tbody>\n",
       "    <tr>\n",
       "      <td>2</td>\n",
       "      <td>2E1BF1D4C37EA01F</td>\n",
       "      <td>2020-12-07</td>\n",
       "      <td>EU</td>\n",
       "      <td>PC</td>\n",
       "      <td>A</td>\n",
       "      <td>interface_eu_test</td>\n",
       "      <td>2020-12-07 09:05:47</td>\n",
       "      <td>product_cart</td>\n",
       "      <td>NaN</td>\n",
       "    </tr>\n",
       "    <tr>\n",
       "      <td>3</td>\n",
       "      <td>2E1BF1D4C37EA01F</td>\n",
       "      <td>2020-12-07</td>\n",
       "      <td>EU</td>\n",
       "      <td>PC</td>\n",
       "      <td>A</td>\n",
       "      <td>interface_eu_test</td>\n",
       "      <td>2020-12-10 04:13:53</td>\n",
       "      <td>product_cart</td>\n",
       "      <td>NaN</td>\n",
       "    </tr>\n",
       "    <tr>\n",
       "      <td>4</td>\n",
       "      <td>2E1BF1D4C37EA01F</td>\n",
       "      <td>2020-12-07</td>\n",
       "      <td>EU</td>\n",
       "      <td>PC</td>\n",
       "      <td>A</td>\n",
       "      <td>interface_eu_test</td>\n",
       "      <td>2020-12-12 17:54:57</td>\n",
       "      <td>product_cart</td>\n",
       "      <td>NaN</td>\n",
       "    </tr>\n",
       "    <tr>\n",
       "      <td>5</td>\n",
       "      <td>2E1BF1D4C37EA01F</td>\n",
       "      <td>2020-12-07</td>\n",
       "      <td>EU</td>\n",
       "      <td>PC</td>\n",
       "      <td>A</td>\n",
       "      <td>interface_eu_test</td>\n",
       "      <td>2020-12-07 09:05:46</td>\n",
       "      <td>product_page</td>\n",
       "      <td>NaN</td>\n",
       "    </tr>\n",
       "    <tr>\n",
       "      <td>6</td>\n",
       "      <td>2E1BF1D4C37EA01F</td>\n",
       "      <td>2020-12-07</td>\n",
       "      <td>EU</td>\n",
       "      <td>PC</td>\n",
       "      <td>A</td>\n",
       "      <td>interface_eu_test</td>\n",
       "      <td>2020-12-10 04:13:53</td>\n",
       "      <td>product_page</td>\n",
       "      <td>NaN</td>\n",
       "    </tr>\n",
       "    <tr>\n",
       "      <td>7</td>\n",
       "      <td>2E1BF1D4C37EA01F</td>\n",
       "      <td>2020-12-07</td>\n",
       "      <td>EU</td>\n",
       "      <td>PC</td>\n",
       "      <td>A</td>\n",
       "      <td>interface_eu_test</td>\n",
       "      <td>2020-12-12 17:54:57</td>\n",
       "      <td>product_page</td>\n",
       "      <td>NaN</td>\n",
       "    </tr>\n",
       "    <tr>\n",
       "      <td>8</td>\n",
       "      <td>2E1BF1D4C37EA01F</td>\n",
       "      <td>2020-12-07</td>\n",
       "      <td>EU</td>\n",
       "      <td>PC</td>\n",
       "      <td>A</td>\n",
       "      <td>interface_eu_test</td>\n",
       "      <td>2020-12-07 09:05:46</td>\n",
       "      <td>login</td>\n",
       "      <td>NaN</td>\n",
       "    </tr>\n",
       "    <tr>\n",
       "      <td>9</td>\n",
       "      <td>2E1BF1D4C37EA01F</td>\n",
       "      <td>2020-12-07</td>\n",
       "      <td>EU</td>\n",
       "      <td>PC</td>\n",
       "      <td>A</td>\n",
       "      <td>interface_eu_test</td>\n",
       "      <td>2020-12-10 04:13:53</td>\n",
       "      <td>login</td>\n",
       "      <td>NaN</td>\n",
       "    </tr>\n",
       "    <tr>\n",
       "      <td>10</td>\n",
       "      <td>2E1BF1D4C37EA01F</td>\n",
       "      <td>2020-12-07</td>\n",
       "      <td>EU</td>\n",
       "      <td>PC</td>\n",
       "      <td>A</td>\n",
       "      <td>interface_eu_test</td>\n",
       "      <td>2020-12-12 17:54:57</td>\n",
       "      <td>login</td>\n",
       "      <td>NaN</td>\n",
       "    </tr>\n",
       "    <tr>\n",
       "      <td>11</td>\n",
       "      <td>50734A22C0C63768</td>\n",
       "      <td>2020-12-07</td>\n",
       "      <td>EU</td>\n",
       "      <td>iPhone</td>\n",
       "      <td>B</td>\n",
       "      <td>interface_eu_test</td>\n",
       "      <td>2020-12-07 13:24:03</td>\n",
       "      <td>product_cart</td>\n",
       "      <td>NaN</td>\n",
       "    </tr>\n",
       "  </tbody>\n",
       "</table>\n",
       "</div>"
      ],
      "text/plain": [
       "             user_id  first_date region  device group            ab_test  \\\n",
       "2   2E1BF1D4C37EA01F  2020-12-07     EU      PC     A  interface_eu_test   \n",
       "3   2E1BF1D4C37EA01F  2020-12-07     EU      PC     A  interface_eu_test   \n",
       "4   2E1BF1D4C37EA01F  2020-12-07     EU      PC     A  interface_eu_test   \n",
       "5   2E1BF1D4C37EA01F  2020-12-07     EU      PC     A  interface_eu_test   \n",
       "6   2E1BF1D4C37EA01F  2020-12-07     EU      PC     A  interface_eu_test   \n",
       "7   2E1BF1D4C37EA01F  2020-12-07     EU      PC     A  interface_eu_test   \n",
       "8   2E1BF1D4C37EA01F  2020-12-07     EU      PC     A  interface_eu_test   \n",
       "9   2E1BF1D4C37EA01F  2020-12-07     EU      PC     A  interface_eu_test   \n",
       "10  2E1BF1D4C37EA01F  2020-12-07     EU      PC     A  interface_eu_test   \n",
       "11  50734A22C0C63768  2020-12-07     EU  iPhone     B  interface_eu_test   \n",
       "\n",
       "               event_dt    event_name  details  \n",
       "2   2020-12-07 09:05:47  product_cart      NaN  \n",
       "3   2020-12-10 04:13:53  product_cart      NaN  \n",
       "4   2020-12-12 17:54:57  product_cart      NaN  \n",
       "5   2020-12-07 09:05:46  product_page      NaN  \n",
       "6   2020-12-10 04:13:53  product_page      NaN  \n",
       "7   2020-12-12 17:54:57  product_page      NaN  \n",
       "8   2020-12-07 09:05:46         login      NaN  \n",
       "9   2020-12-10 04:13:53         login      NaN  \n",
       "10  2020-12-12 17:54:57         login      NaN  \n",
       "11  2020-12-07 13:24:03  product_cart      NaN  "
      ]
     },
     "metadata": {},
     "output_type": "display_data"
    },
    {
     "name": "stdout",
     "output_type": "stream",
     "text": [
      "<class 'pandas.core.frame.DataFrame'>\n",
      "Int64Index: 73214 entries, 2 to 314774\n",
      "Data columns (total 9 columns):\n",
      "user_id       73214 non-null object\n",
      "first_date    73214 non-null object\n",
      "region        73214 non-null object\n",
      "device        73214 non-null object\n",
      "group         73214 non-null object\n",
      "ab_test       73214 non-null object\n",
      "event_dt      73214 non-null object\n",
      "event_name    73214 non-null object\n",
      "details       10824 non-null float64\n",
      "dtypes: float64(1), object(8)\n",
      "memory usage: 5.6+ MB\n"
     ]
    },
    {
     "data": {
      "text/plain": [
       "None"
      ]
     },
     "metadata": {},
     "output_type": "display_data"
    },
    {
     "data": {
      "text/html": [
       "<div>\n",
       "<style scoped>\n",
       "    .dataframe tbody tr th:only-of-type {\n",
       "        vertical-align: middle;\n",
       "    }\n",
       "\n",
       "    .dataframe tbody tr th {\n",
       "        vertical-align: top;\n",
       "    }\n",
       "\n",
       "    .dataframe thead th {\n",
       "        text-align: right;\n",
       "    }\n",
       "</style>\n",
       "<table border=\"1\" class=\"dataframe\">\n",
       "  <thead>\n",
       "    <tr style=\"text-align: right;\">\n",
       "      <th></th>\n",
       "      <th>details</th>\n",
       "    </tr>\n",
       "  </thead>\n",
       "  <tbody>\n",
       "    <tr>\n",
       "      <td>count</td>\n",
       "      <td>10824.000000</td>\n",
       "    </tr>\n",
       "    <tr>\n",
       "      <td>mean</td>\n",
       "      <td>23.706279</td>\n",
       "    </tr>\n",
       "    <tr>\n",
       "      <td>std</td>\n",
       "      <td>72.116303</td>\n",
       "    </tr>\n",
       "    <tr>\n",
       "      <td>min</td>\n",
       "      <td>4.990000</td>\n",
       "    </tr>\n",
       "    <tr>\n",
       "      <td>25%</td>\n",
       "      <td>4.990000</td>\n",
       "    </tr>\n",
       "    <tr>\n",
       "      <td>50%</td>\n",
       "      <td>4.990000</td>\n",
       "    </tr>\n",
       "    <tr>\n",
       "      <td>75%</td>\n",
       "      <td>9.990000</td>\n",
       "    </tr>\n",
       "    <tr>\n",
       "      <td>max</td>\n",
       "      <td>499.990000</td>\n",
       "    </tr>\n",
       "  </tbody>\n",
       "</table>\n",
       "</div>"
      ],
      "text/plain": [
       "            details\n",
       "count  10824.000000\n",
       "mean      23.706279\n",
       "std       72.116303\n",
       "min        4.990000\n",
       "25%        4.990000\n",
       "50%        4.990000\n",
       "75%        9.990000\n",
       "max      499.990000"
      ]
     },
     "metadata": {},
     "output_type": "display_data"
    },
    {
     "data": {
      "text/plain": [
       "user_id        0.000000\n",
       "first_date     0.000000\n",
       "region         0.000000\n",
       "device         0.000000\n",
       "group          0.000000\n",
       "ab_test        0.000000\n",
       "event_dt       0.000000\n",
       "event_name     0.000000\n",
       "details       85.215942\n",
       "dtype: float64"
      ]
     },
     "metadata": {},
     "output_type": "display_data"
    },
    {
     "data": {
      "text/plain": [
       "0.0"
      ]
     },
     "metadata": {},
     "output_type": "display_data"
    },
    {
     "data": {
      "text/html": [
       "<div>\n",
       "<style scoped>\n",
       "    .dataframe tbody tr th:only-of-type {\n",
       "        vertical-align: middle;\n",
       "    }\n",
       "\n",
       "    .dataframe tbody tr th {\n",
       "        vertical-align: top;\n",
       "    }\n",
       "\n",
       "    .dataframe thead th {\n",
       "        text-align: right;\n",
       "    }\n",
       "</style>\n",
       "<table border=\"1\" class=\"dataframe\">\n",
       "  <thead>\n",
       "    <tr style=\"text-align: right;\">\n",
       "      <th></th>\n",
       "      <th>details</th>\n",
       "    </tr>\n",
       "  </thead>\n",
       "  <tbody>\n",
       "    <tr>\n",
       "      <td>count</td>\n",
       "      <td>10824.000000</td>\n",
       "    </tr>\n",
       "    <tr>\n",
       "      <td>mean</td>\n",
       "      <td>23.706279</td>\n",
       "    </tr>\n",
       "    <tr>\n",
       "      <td>std</td>\n",
       "      <td>72.116303</td>\n",
       "    </tr>\n",
       "    <tr>\n",
       "      <td>min</td>\n",
       "      <td>4.990000</td>\n",
       "    </tr>\n",
       "    <tr>\n",
       "      <td>25%</td>\n",
       "      <td>4.990000</td>\n",
       "    </tr>\n",
       "    <tr>\n",
       "      <td>50%</td>\n",
       "      <td>4.990000</td>\n",
       "    </tr>\n",
       "    <tr>\n",
       "      <td>75%</td>\n",
       "      <td>9.990000</td>\n",
       "    </tr>\n",
       "    <tr>\n",
       "      <td>max</td>\n",
       "      <td>499.990000</td>\n",
       "    </tr>\n",
       "  </tbody>\n",
       "</table>\n",
       "</div>"
      ],
      "text/plain": [
       "            details\n",
       "count  10824.000000\n",
       "mean      23.706279\n",
       "std       72.116303\n",
       "min        4.990000\n",
       "25%        4.990000\n",
       "50%        4.990000\n",
       "75%        9.990000\n",
       "max      499.990000"
      ]
     },
     "metadata": {},
     "output_type": "display_data"
    }
   ],
   "source": [
    "showdata(udata)"
   ]
  },
  {
   "cell_type": "code",
   "execution_count": 174,
   "id": "b3f6c14c",
   "metadata": {},
   "outputs": [
    {
     "data": {
      "text/plain": [
       "9963"
      ]
     },
     "execution_count": 174,
     "metadata": {},
     "output_type": "execute_result"
    }
   ],
   "source": [
    "udata[\"user_id\"].nunique()"
   ]
  },
  {
   "cell_type": "markdown",
   "id": "6c25f1ae",
   "metadata": {},
   "source": [
    "## 1 Conclusion"
   ]
  },
  {
   "cell_type": "markdown",
   "id": "5aad8ab8",
   "metadata": {},
   "source": [
    "I noticed a mistake in the description and merged the data to have a clean data with only EU and interface_eu_test includs."
   ]
  },
  {
   "cell_type": "markdown",
   "id": "74e7d400",
   "metadata": {},
   "source": [
    "## 2 Carry out exploratory data analysis"
   ]
  },
  {
   "cell_type": "markdown",
   "id": "b54d19b5",
   "metadata": {},
   "source": [
    "## 2.1 - Study conversion at different funnel stages"
   ]
  },
  {
   "cell_type": "code",
   "execution_count": 175,
   "id": "85325e5b",
   "metadata": {},
   "outputs": [
    {
     "data": {
      "text/html": [
       "<div>\n",
       "<style scoped>\n",
       "    .dataframe tbody tr th:only-of-type {\n",
       "        vertical-align: middle;\n",
       "    }\n",
       "\n",
       "    .dataframe tbody tr th {\n",
       "        vertical-align: top;\n",
       "    }\n",
       "\n",
       "    .dataframe thead th {\n",
       "        text-align: right;\n",
       "    }\n",
       "</style>\n",
       "<table border=\"1\" class=\"dataframe\">\n",
       "  <thead>\n",
       "    <tr style=\"text-align: right;\">\n",
       "      <th></th>\n",
       "      <th>user_id</th>\n",
       "      <th>first_date</th>\n",
       "      <th>region</th>\n",
       "      <th>device</th>\n",
       "      <th>group</th>\n",
       "      <th>ab_test</th>\n",
       "      <th>event_dt</th>\n",
       "      <th>event_name</th>\n",
       "      <th>details</th>\n",
       "    </tr>\n",
       "  </thead>\n",
       "  <tbody>\n",
       "    <tr>\n",
       "      <td>2</td>\n",
       "      <td>2E1BF1D4C37EA01F</td>\n",
       "      <td>2020-12-07</td>\n",
       "      <td>EU</td>\n",
       "      <td>PC</td>\n",
       "      <td>A</td>\n",
       "      <td>interface_eu_test</td>\n",
       "      <td>2020-12-07 09:05:47</td>\n",
       "      <td>product_cart</td>\n",
       "      <td>NaN</td>\n",
       "    </tr>\n",
       "    <tr>\n",
       "      <td>3</td>\n",
       "      <td>2E1BF1D4C37EA01F</td>\n",
       "      <td>2020-12-07</td>\n",
       "      <td>EU</td>\n",
       "      <td>PC</td>\n",
       "      <td>A</td>\n",
       "      <td>interface_eu_test</td>\n",
       "      <td>2020-12-10 04:13:53</td>\n",
       "      <td>product_cart</td>\n",
       "      <td>NaN</td>\n",
       "    </tr>\n",
       "    <tr>\n",
       "      <td>4</td>\n",
       "      <td>2E1BF1D4C37EA01F</td>\n",
       "      <td>2020-12-07</td>\n",
       "      <td>EU</td>\n",
       "      <td>PC</td>\n",
       "      <td>A</td>\n",
       "      <td>interface_eu_test</td>\n",
       "      <td>2020-12-12 17:54:57</td>\n",
       "      <td>product_cart</td>\n",
       "      <td>NaN</td>\n",
       "    </tr>\n",
       "    <tr>\n",
       "      <td>5</td>\n",
       "      <td>2E1BF1D4C37EA01F</td>\n",
       "      <td>2020-12-07</td>\n",
       "      <td>EU</td>\n",
       "      <td>PC</td>\n",
       "      <td>A</td>\n",
       "      <td>interface_eu_test</td>\n",
       "      <td>2020-12-07 09:05:46</td>\n",
       "      <td>product_page</td>\n",
       "      <td>NaN</td>\n",
       "    </tr>\n",
       "    <tr>\n",
       "      <td>6</td>\n",
       "      <td>2E1BF1D4C37EA01F</td>\n",
       "      <td>2020-12-07</td>\n",
       "      <td>EU</td>\n",
       "      <td>PC</td>\n",
       "      <td>A</td>\n",
       "      <td>interface_eu_test</td>\n",
       "      <td>2020-12-10 04:13:53</td>\n",
       "      <td>product_page</td>\n",
       "      <td>NaN</td>\n",
       "    </tr>\n",
       "  </tbody>\n",
       "</table>\n",
       "</div>"
      ],
      "text/plain": [
       "            user_id  first_date region device group            ab_test  \\\n",
       "2  2E1BF1D4C37EA01F  2020-12-07     EU     PC     A  interface_eu_test   \n",
       "3  2E1BF1D4C37EA01F  2020-12-07     EU     PC     A  interface_eu_test   \n",
       "4  2E1BF1D4C37EA01F  2020-12-07     EU     PC     A  interface_eu_test   \n",
       "5  2E1BF1D4C37EA01F  2020-12-07     EU     PC     A  interface_eu_test   \n",
       "6  2E1BF1D4C37EA01F  2020-12-07     EU     PC     A  interface_eu_test   \n",
       "\n",
       "              event_dt    event_name  details  \n",
       "2  2020-12-07 09:05:47  product_cart      NaN  \n",
       "3  2020-12-10 04:13:53  product_cart      NaN  \n",
       "4  2020-12-12 17:54:57  product_cart      NaN  \n",
       "5  2020-12-07 09:05:46  product_page      NaN  \n",
       "6  2020-12-10 04:13:53  product_page      NaN  "
      ]
     },
     "execution_count": 175,
     "metadata": {},
     "output_type": "execute_result"
    }
   ],
   "source": [
    "udata.head()"
   ]
  },
  {
   "cell_type": "code",
   "execution_count": 176,
   "id": "4fcc43a4",
   "metadata": {},
   "outputs": [
    {
     "data": {
      "text/html": [
       "<div>\n",
       "<style scoped>\n",
       "    .dataframe tbody tr th:only-of-type {\n",
       "        vertical-align: middle;\n",
       "    }\n",
       "\n",
       "    .dataframe tbody tr th {\n",
       "        vertical-align: top;\n",
       "    }\n",
       "\n",
       "    .dataframe thead th {\n",
       "        text-align: right;\n",
       "    }\n",
       "</style>\n",
       "<table border=\"1\" class=\"dataframe\">\n",
       "  <thead>\n",
       "    <tr style=\"text-align: right;\">\n",
       "      <th></th>\n",
       "      <th>user_id</th>\n",
       "    </tr>\n",
       "    <tr>\n",
       "      <th>event_name</th>\n",
       "      <th></th>\n",
       "    </tr>\n",
       "  </thead>\n",
       "  <tbody>\n",
       "    <tr>\n",
       "      <td>login</td>\n",
       "      <td>31264</td>\n",
       "    </tr>\n",
       "    <tr>\n",
       "      <td>product_page</td>\n",
       "      <td>20671</td>\n",
       "    </tr>\n",
       "    <tr>\n",
       "      <td>purchase</td>\n",
       "      <td>10824</td>\n",
       "    </tr>\n",
       "    <tr>\n",
       "      <td>product_cart</td>\n",
       "      <td>10455</td>\n",
       "    </tr>\n",
       "  </tbody>\n",
       "</table>\n",
       "</div>"
      ],
      "text/plain": [
       "              user_id\n",
       "event_name           \n",
       "login           31264\n",
       "product_page    20671\n",
       "purchase        10824\n",
       "product_cart    10455"
      ]
     },
     "execution_count": 176,
     "metadata": {},
     "output_type": "execute_result"
    }
   ],
   "source": [
    "udata.pivot_table(values='user_id', index='event_name', aggfunc=pd.Series.count).sort_values(by=\"user_id\", ascending=False)"
   ]
  },
  {
   "cell_type": "code",
   "execution_count": 177,
   "id": "30435fd0",
   "metadata": {},
   "outputs": [
    {
     "data": {
      "text/plain": [
       "array(['product_cart', 'product_page', 'login', 'purchase'], dtype=object)"
      ]
     },
     "execution_count": 177,
     "metadata": {},
     "output_type": "execute_result"
    }
   ],
   "source": [
    "udata[\"event_name\"].unique()"
   ]
  },
  {
   "cell_type": "code",
   "execution_count": 178,
   "id": "cc6ae4e7",
   "metadata": {},
   "outputs": [],
   "source": [
    "def getid(row):\n",
    "    \n",
    "    if row[\"event_name\"] == \"login\":\n",
    "        x=0\n",
    "    elif row[\"event_name\"] == \"product_page\":\n",
    "        x=1\n",
    "    elif row[\"event_name\"] == \"product_cart\":\n",
    "        x=2\n",
    "    elif row[\"event_name\"] == \"purchase\":\n",
    "        x=3\n",
    "   \n",
    "    \n",
    "    return x\n",
    "udata['experiment_id'] = udata.apply(getid,axis=1)"
   ]
  },
  {
   "cell_type": "code",
   "execution_count": 179,
   "id": "df6c5270",
   "metadata": {},
   "outputs": [
    {
     "data": {
      "text/html": [
       "<div>\n",
       "<style scoped>\n",
       "    .dataframe tbody tr th:only-of-type {\n",
       "        vertical-align: middle;\n",
       "    }\n",
       "\n",
       "    .dataframe tbody tr th {\n",
       "        vertical-align: top;\n",
       "    }\n",
       "\n",
       "    .dataframe thead th {\n",
       "        text-align: right;\n",
       "    }\n",
       "</style>\n",
       "<table border=\"1\" class=\"dataframe\">\n",
       "  <thead>\n",
       "    <tr style=\"text-align: right;\">\n",
       "      <th></th>\n",
       "      <th>user_id</th>\n",
       "      <th>first_date</th>\n",
       "      <th>region</th>\n",
       "      <th>device</th>\n",
       "      <th>group</th>\n",
       "      <th>ab_test</th>\n",
       "      <th>event_dt</th>\n",
       "      <th>event_name</th>\n",
       "      <th>details</th>\n",
       "      <th>experiment_id</th>\n",
       "    </tr>\n",
       "  </thead>\n",
       "  <tbody>\n",
       "    <tr>\n",
       "      <td>2</td>\n",
       "      <td>2E1BF1D4C37EA01F</td>\n",
       "      <td>2020-12-07</td>\n",
       "      <td>EU</td>\n",
       "      <td>PC</td>\n",
       "      <td>A</td>\n",
       "      <td>interface_eu_test</td>\n",
       "      <td>2020-12-07 09:05:47</td>\n",
       "      <td>product_cart</td>\n",
       "      <td>NaN</td>\n",
       "      <td>2</td>\n",
       "    </tr>\n",
       "    <tr>\n",
       "      <td>3</td>\n",
       "      <td>2E1BF1D4C37EA01F</td>\n",
       "      <td>2020-12-07</td>\n",
       "      <td>EU</td>\n",
       "      <td>PC</td>\n",
       "      <td>A</td>\n",
       "      <td>interface_eu_test</td>\n",
       "      <td>2020-12-10 04:13:53</td>\n",
       "      <td>product_cart</td>\n",
       "      <td>NaN</td>\n",
       "      <td>2</td>\n",
       "    </tr>\n",
       "    <tr>\n",
       "      <td>4</td>\n",
       "      <td>2E1BF1D4C37EA01F</td>\n",
       "      <td>2020-12-07</td>\n",
       "      <td>EU</td>\n",
       "      <td>PC</td>\n",
       "      <td>A</td>\n",
       "      <td>interface_eu_test</td>\n",
       "      <td>2020-12-12 17:54:57</td>\n",
       "      <td>product_cart</td>\n",
       "      <td>NaN</td>\n",
       "      <td>2</td>\n",
       "    </tr>\n",
       "    <tr>\n",
       "      <td>5</td>\n",
       "      <td>2E1BF1D4C37EA01F</td>\n",
       "      <td>2020-12-07</td>\n",
       "      <td>EU</td>\n",
       "      <td>PC</td>\n",
       "      <td>A</td>\n",
       "      <td>interface_eu_test</td>\n",
       "      <td>2020-12-07 09:05:46</td>\n",
       "      <td>product_page</td>\n",
       "      <td>NaN</td>\n",
       "      <td>1</td>\n",
       "    </tr>\n",
       "    <tr>\n",
       "      <td>6</td>\n",
       "      <td>2E1BF1D4C37EA01F</td>\n",
       "      <td>2020-12-07</td>\n",
       "      <td>EU</td>\n",
       "      <td>PC</td>\n",
       "      <td>A</td>\n",
       "      <td>interface_eu_test</td>\n",
       "      <td>2020-12-10 04:13:53</td>\n",
       "      <td>product_page</td>\n",
       "      <td>NaN</td>\n",
       "      <td>1</td>\n",
       "    </tr>\n",
       "  </tbody>\n",
       "</table>\n",
       "</div>"
      ],
      "text/plain": [
       "            user_id  first_date region device group            ab_test  \\\n",
       "2  2E1BF1D4C37EA01F  2020-12-07     EU     PC     A  interface_eu_test   \n",
       "3  2E1BF1D4C37EA01F  2020-12-07     EU     PC     A  interface_eu_test   \n",
       "4  2E1BF1D4C37EA01F  2020-12-07     EU     PC     A  interface_eu_test   \n",
       "5  2E1BF1D4C37EA01F  2020-12-07     EU     PC     A  interface_eu_test   \n",
       "6  2E1BF1D4C37EA01F  2020-12-07     EU     PC     A  interface_eu_test   \n",
       "\n",
       "              event_dt    event_name  details  experiment_id  \n",
       "2  2020-12-07 09:05:47  product_cart      NaN              2  \n",
       "3  2020-12-10 04:13:53  product_cart      NaN              2  \n",
       "4  2020-12-12 17:54:57  product_cart      NaN              2  \n",
       "5  2020-12-07 09:05:46  product_page      NaN              1  \n",
       "6  2020-12-10 04:13:53  product_page      NaN              1  "
      ]
     },
     "execution_count": 179,
     "metadata": {},
     "output_type": "execute_result"
    }
   ],
   "source": [
    "udata.head()"
   ]
  },
  {
   "cell_type": "code",
   "execution_count": 180,
   "id": "2bd8ed8e",
   "metadata": {},
   "outputs": [],
   "source": [
    "udata=udata.rename(columns={\"event_name\": \"eventname\", \"user_id\": \"id\", \"event_dt\": \"timestamp\"})"
   ]
  },
  {
   "cell_type": "code",
   "execution_count": 181,
   "id": "1367e9b9",
   "metadata": {},
   "outputs": [
    {
     "data": {
      "text/html": [
       "<div>\n",
       "<style scoped>\n",
       "    .dataframe tbody tr th:only-of-type {\n",
       "        vertical-align: middle;\n",
       "    }\n",
       "\n",
       "    .dataframe tbody tr th {\n",
       "        vertical-align: top;\n",
       "    }\n",
       "\n",
       "    .dataframe thead th {\n",
       "        text-align: right;\n",
       "    }\n",
       "</style>\n",
       "<table border=\"1\" class=\"dataframe\">\n",
       "  <thead>\n",
       "    <tr style=\"text-align: right;\">\n",
       "      <th></th>\n",
       "      <th>id</th>\n",
       "      <th>first_date</th>\n",
       "      <th>region</th>\n",
       "      <th>device</th>\n",
       "      <th>group</th>\n",
       "      <th>ab_test</th>\n",
       "      <th>timestamp</th>\n",
       "      <th>eventname</th>\n",
       "      <th>details</th>\n",
       "      <th>experiment_id</th>\n",
       "    </tr>\n",
       "  </thead>\n",
       "  <tbody>\n",
       "    <tr>\n",
       "      <td>2</td>\n",
       "      <td>2E1BF1D4C37EA01F</td>\n",
       "      <td>2020-12-07</td>\n",
       "      <td>EU</td>\n",
       "      <td>PC</td>\n",
       "      <td>A</td>\n",
       "      <td>interface_eu_test</td>\n",
       "      <td>2020-12-07 09:05:47</td>\n",
       "      <td>product_cart</td>\n",
       "      <td>NaN</td>\n",
       "      <td>2</td>\n",
       "    </tr>\n",
       "    <tr>\n",
       "      <td>3</td>\n",
       "      <td>2E1BF1D4C37EA01F</td>\n",
       "      <td>2020-12-07</td>\n",
       "      <td>EU</td>\n",
       "      <td>PC</td>\n",
       "      <td>A</td>\n",
       "      <td>interface_eu_test</td>\n",
       "      <td>2020-12-10 04:13:53</td>\n",
       "      <td>product_cart</td>\n",
       "      <td>NaN</td>\n",
       "      <td>2</td>\n",
       "    </tr>\n",
       "    <tr>\n",
       "      <td>4</td>\n",
       "      <td>2E1BF1D4C37EA01F</td>\n",
       "      <td>2020-12-07</td>\n",
       "      <td>EU</td>\n",
       "      <td>PC</td>\n",
       "      <td>A</td>\n",
       "      <td>interface_eu_test</td>\n",
       "      <td>2020-12-12 17:54:57</td>\n",
       "      <td>product_cart</td>\n",
       "      <td>NaN</td>\n",
       "      <td>2</td>\n",
       "    </tr>\n",
       "    <tr>\n",
       "      <td>5</td>\n",
       "      <td>2E1BF1D4C37EA01F</td>\n",
       "      <td>2020-12-07</td>\n",
       "      <td>EU</td>\n",
       "      <td>PC</td>\n",
       "      <td>A</td>\n",
       "      <td>interface_eu_test</td>\n",
       "      <td>2020-12-07 09:05:46</td>\n",
       "      <td>product_page</td>\n",
       "      <td>NaN</td>\n",
       "      <td>1</td>\n",
       "    </tr>\n",
       "    <tr>\n",
       "      <td>6</td>\n",
       "      <td>2E1BF1D4C37EA01F</td>\n",
       "      <td>2020-12-07</td>\n",
       "      <td>EU</td>\n",
       "      <td>PC</td>\n",
       "      <td>A</td>\n",
       "      <td>interface_eu_test</td>\n",
       "      <td>2020-12-10 04:13:53</td>\n",
       "      <td>product_page</td>\n",
       "      <td>NaN</td>\n",
       "      <td>1</td>\n",
       "    </tr>\n",
       "  </tbody>\n",
       "</table>\n",
       "</div>"
      ],
      "text/plain": [
       "                 id  first_date region device group            ab_test  \\\n",
       "2  2E1BF1D4C37EA01F  2020-12-07     EU     PC     A  interface_eu_test   \n",
       "3  2E1BF1D4C37EA01F  2020-12-07     EU     PC     A  interface_eu_test   \n",
       "4  2E1BF1D4C37EA01F  2020-12-07     EU     PC     A  interface_eu_test   \n",
       "5  2E1BF1D4C37EA01F  2020-12-07     EU     PC     A  interface_eu_test   \n",
       "6  2E1BF1D4C37EA01F  2020-12-07     EU     PC     A  interface_eu_test   \n",
       "\n",
       "             timestamp     eventname  details  experiment_id  \n",
       "2  2020-12-07 09:05:47  product_cart      NaN              2  \n",
       "3  2020-12-10 04:13:53  product_cart      NaN              2  \n",
       "4  2020-12-12 17:54:57  product_cart      NaN              2  \n",
       "5  2020-12-07 09:05:46  product_page      NaN              1  \n",
       "6  2020-12-10 04:13:53  product_page      NaN              1  "
      ]
     },
     "execution_count": 181,
     "metadata": {},
     "output_type": "execute_result"
    }
   ],
   "source": [
    "udata.head()"
   ]
  },
  {
   "cell_type": "code",
   "execution_count": 182,
   "id": "8f59a411",
   "metadata": {},
   "outputs": [],
   "source": [
    "udata['timestamp'] = pd.to_datetime(udata['timestamp'])"
   ]
  },
  {
   "cell_type": "code",
   "execution_count": 183,
   "id": "796c6499",
   "metadata": {},
   "outputs": [
    {
     "name": "stdout",
     "output_type": "stream",
     "text": [
      "<class 'pandas.core.frame.DataFrame'>\n",
      "Int64Index: 73214 entries, 2 to 314774\n",
      "Data columns (total 10 columns):\n",
      "id               73214 non-null object\n",
      "first_date       73214 non-null object\n",
      "region           73214 non-null object\n",
      "device           73214 non-null object\n",
      "group            73214 non-null object\n",
      "ab_test          73214 non-null object\n",
      "timestamp        73214 non-null datetime64[ns]\n",
      "eventname        73214 non-null object\n",
      "details          10824 non-null float64\n",
      "experiment_id    73214 non-null int64\n",
      "dtypes: datetime64[ns](1), float64(1), int64(1), object(7)\n",
      "memory usage: 6.1+ MB\n"
     ]
    }
   ],
   "source": [
    "udata.info()"
   ]
  },
  {
   "cell_type": "code",
   "execution_count": 184,
   "id": "f95d1cf8",
   "metadata": {},
   "outputs": [
    {
     "name": "stdout",
     "output_type": "stream",
     "text": [
      "There are 4 different events on the logs and 73214 total events \n"
     ]
    }
   ],
   "source": [
    "print(\"There are {} different events on the logs and {} total events \".format(len(udata[\"eventname\"].unique() ), udata[\"eventname\"].count())\n",
    "     )"
   ]
  },
  {
   "cell_type": "code",
   "execution_count": 185,
   "id": "88337883",
   "metadata": {},
   "outputs": [
    {
     "name": "stdout",
     "output_type": "stream",
     "text": [
      "There are 9963 different users on the logs\n"
     ]
    }
   ],
   "source": [
    "print(\"There are {} different users on the logs\".format(udata[\"id\"].nunique()))"
   ]
  },
  {
   "cell_type": "code",
   "execution_count": 186,
   "id": "a13afce1",
   "metadata": {},
   "outputs": [],
   "source": [
    "def plotdist(data):\n",
    "    plt.figure(figsize=(15,10))\n",
    "    plt.title(\"Distribution of time\")\n",
    "    plt.xlabel(\"time\")\n",
    "    plt.ylabel(\"count\")\n",
    "    plt.xticks(fontsize = 10)\n",
    "    sns.histplot(data=data, x=\"timestamp\")\n",
    "    plt.show()"
   ]
  },
  {
   "cell_type": "code",
   "execution_count": 187,
   "id": "6c5ea909",
   "metadata": {},
   "outputs": [
    {
     "data": {
      "image/png": "[encoded data removed]",
      "text/plain": [
       "<Figure size 1080x720 with 1 Axes>"
      ]
     },
     "metadata": {
      "needs_background": "light"
     },
     "output_type": "display_data"
    }
   ],
   "source": [
    "plotdist(udata)"
   ]
  },
  {
   "cell_type": "code",
   "execution_count": null,
   "id": "c2170644",
   "metadata": {},
   "outputs": [],
   "source": []
  },
  {
   "cell_type": "code",
   "execution_count": 188,
   "id": "bed5f83d",
   "metadata": {},
   "outputs": [
    {
     "data": {
      "text/html": [
       "<div>\n",
       "<style scoped>\n",
       "    .dataframe tbody tr th:only-of-type {\n",
       "        vertical-align: middle;\n",
       "    }\n",
       "\n",
       "    .dataframe tbody tr th {\n",
       "        vertical-align: top;\n",
       "    }\n",
       "\n",
       "    .dataframe thead th {\n",
       "        text-align: right;\n",
       "    }\n",
       "</style>\n",
       "<table border=\"1\" class=\"dataframe\">\n",
       "  <thead>\n",
       "    <tr style=\"text-align: right;\">\n",
       "      <th>experiment_id</th>\n",
       "      <th>eventname</th>\n",
       "      <th>0</th>\n",
       "      <th>1</th>\n",
       "      <th>2</th>\n",
       "      <th>3</th>\n",
       "    </tr>\n",
       "  </thead>\n",
       "  <tbody>\n",
       "    <tr>\n",
       "      <td>0</td>\n",
       "      <td>login</td>\n",
       "      <td>9962.0</td>\n",
       "      <td>NaN</td>\n",
       "      <td>NaN</td>\n",
       "      <td>NaN</td>\n",
       "    </tr>\n",
       "    <tr>\n",
       "      <td>1</td>\n",
       "      <td>product_cart</td>\n",
       "      <td>NaN</td>\n",
       "      <td>NaN</td>\n",
       "      <td>3315.0</td>\n",
       "      <td>NaN</td>\n",
       "    </tr>\n",
       "    <tr>\n",
       "      <td>2</td>\n",
       "      <td>product_page</td>\n",
       "      <td>NaN</td>\n",
       "      <td>6620.0</td>\n",
       "      <td>NaN</td>\n",
       "      <td>NaN</td>\n",
       "    </tr>\n",
       "    <tr>\n",
       "      <td>3</td>\n",
       "      <td>purchase</td>\n",
       "      <td>NaN</td>\n",
       "      <td>NaN</td>\n",
       "      <td>NaN</td>\n",
       "      <td>3435.0</td>\n",
       "    </tr>\n",
       "  </tbody>\n",
       "</table>\n",
       "</div>"
      ],
      "text/plain": [
       "experiment_id     eventname       0       1       2       3\n",
       "0                     login  9962.0     NaN     NaN     NaN\n",
       "1              product_cart     NaN     NaN  3315.0     NaN\n",
       "2              product_page     NaN  6620.0     NaN     NaN\n",
       "3                  purchase     NaN     NaN     NaN  3435.0"
      ]
     },
     "execution_count": 188,
     "metadata": {},
     "output_type": "execute_result"
    }
   ],
   "source": [
    "pivot = udata.pivot_table(index='eventname', values='id', columns='experiment_id', aggfunc=lambda x: x.nunique()).reset_index()\n",
    "pivot"
   ]
  },
  {
   "cell_type": "code",
   "execution_count": 189,
   "id": "ecdb13f6",
   "metadata": {},
   "outputs": [
    {
     "data": {
      "text/html": [
       "<div>\n",
       "<style scoped>\n",
       "    .dataframe tbody tr th:only-of-type {\n",
       "        vertical-align: middle;\n",
       "    }\n",
       "\n",
       "    .dataframe tbody tr th {\n",
       "        vertical-align: top;\n",
       "    }\n",
       "\n",
       "    .dataframe thead th {\n",
       "        text-align: right;\n",
       "    }\n",
       "</style>\n",
       "<table border=\"1\" class=\"dataframe\">\n",
       "  <thead>\n",
       "    <tr style=\"text-align: right;\">\n",
       "      <th></th>\n",
       "      <th>id</th>\n",
       "    </tr>\n",
       "    <tr>\n",
       "      <th>eventname</th>\n",
       "      <th></th>\n",
       "    </tr>\n",
       "  </thead>\n",
       "  <tbody>\n",
       "    <tr>\n",
       "      <td>login</td>\n",
       "      <td>31264</td>\n",
       "    </tr>\n",
       "    <tr>\n",
       "      <td>product_page</td>\n",
       "      <td>20671</td>\n",
       "    </tr>\n",
       "    <tr>\n",
       "      <td>purchase</td>\n",
       "      <td>10824</td>\n",
       "    </tr>\n",
       "    <tr>\n",
       "      <td>product_cart</td>\n",
       "      <td>10455</td>\n",
       "    </tr>\n",
       "  </tbody>\n",
       "</table>\n",
       "</div>"
      ],
      "text/plain": [
       "                 id\n",
       "eventname          \n",
       "login         31264\n",
       "product_page  20671\n",
       "purchase      10824\n",
       "product_cart  10455"
      ]
     },
     "execution_count": 189,
     "metadata": {},
     "output_type": "execute_result"
    }
   ],
   "source": [
    "udata.pivot_table(values='id', index='eventname', aggfunc=pd.Series.count).sort_values(by=\"id\", ascending=False)"
   ]
  },
  {
   "cell_type": "markdown",
   "id": "f5cb5cb1",
   "metadata": {},
   "source": [
    "## 2.1 Conclusion "
   ]
  },
  {
   "cell_type": "markdown",
   "id": "d397233c",
   "metadata": {},
   "source": [
    "We notice all users that put something in the cart, purchased it. "
   ]
  },
  {
   "cell_type": "markdown",
   "id": "3e2c7bb2",
   "metadata": {},
   "source": [
    "We can see the user are more active when chrismas come closer, then a break happen and after chrismas there are much less active user"
   ]
  },
  {
   "cell_type": "markdown",
   "id": "2de5c1d1",
   "metadata": {},
   "source": [
    "## 2.2 Is the number of events per user distributed equally in the samples?"
   ]
  },
  {
   "cell_type": "code",
   "execution_count": 190,
   "id": "714057dc",
   "metadata": {},
   "outputs": [
    {
     "data": {
      "text/html": [
       "<div>\n",
       "<style scoped>\n",
       "    .dataframe tbody tr th:only-of-type {\n",
       "        vertical-align: middle;\n",
       "    }\n",
       "\n",
       "    .dataframe tbody tr th {\n",
       "        vertical-align: top;\n",
       "    }\n",
       "\n",
       "    .dataframe thead th {\n",
       "        text-align: right;\n",
       "    }\n",
       "</style>\n",
       "<table border=\"1\" class=\"dataframe\">\n",
       "  <thead>\n",
       "    <tr style=\"text-align: right;\">\n",
       "      <th>eventname</th>\n",
       "      <th>login</th>\n",
       "      <th>product_cart</th>\n",
       "      <th>product_page</th>\n",
       "      <th>purchase</th>\n",
       "    </tr>\n",
       "    <tr>\n",
       "      <th>group</th>\n",
       "      <th></th>\n",
       "      <th></th>\n",
       "      <th></th>\n",
       "      <th></th>\n",
       "    </tr>\n",
       "  </thead>\n",
       "  <tbody>\n",
       "    <tr>\n",
       "      <td>A</td>\n",
       "      <td>15771</td>\n",
       "      <td>5189</td>\n",
       "      <td>10544</td>\n",
       "      <td>5631</td>\n",
       "    </tr>\n",
       "    <tr>\n",
       "      <td>B</td>\n",
       "      <td>15493</td>\n",
       "      <td>5266</td>\n",
       "      <td>10127</td>\n",
       "      <td>5193</td>\n",
       "    </tr>\n",
       "  </tbody>\n",
       "</table>\n",
       "</div>"
      ],
      "text/plain": [
       "eventname  login  product_cart  product_page  purchase\n",
       "group                                                 \n",
       "A          15771          5189         10544      5631\n",
       "B          15493          5266         10127      5193"
      ]
     },
     "execution_count": 190,
     "metadata": {},
     "output_type": "execute_result"
    }
   ],
   "source": [
    "udata.pivot_table(values='id', index='group', columns=\"eventname\", aggfunc=pd.Series.count)"
   ]
  },
  {
   "cell_type": "markdown",
   "id": "aaa87226",
   "metadata": {},
   "source": [
    "## 2.2 conclusion"
   ]
  },
  {
   "cell_type": "markdown",
   "id": "abfbfaec",
   "metadata": {},
   "source": [
    "The groups are not equally distributed."
   ]
  },
  {
   "cell_type": "markdown",
   "id": "4f9bbdd8",
   "metadata": {},
   "source": [
    "## 2.3 - Are there users who enter both samples?"
   ]
  },
  {
   "cell_type": "code",
   "execution_count": 191,
   "id": "867cbb2c",
   "metadata": {},
   "outputs": [
    {
     "data": {
      "text/html": [
       "<div>\n",
       "<style scoped>\n",
       "    .dataframe tbody tr th:only-of-type {\n",
       "        vertical-align: middle;\n",
       "    }\n",
       "\n",
       "    .dataframe tbody tr th {\n",
       "        vertical-align: top;\n",
       "    }\n",
       "\n",
       "    .dataframe thead th {\n",
       "        text-align: right;\n",
       "    }\n",
       "</style>\n",
       "<table border=\"1\" class=\"dataframe\">\n",
       "  <thead>\n",
       "    <tr style=\"text-align: right;\">\n",
       "      <th></th>\n",
       "      <th>id</th>\n",
       "      <th>first_date</th>\n",
       "      <th>region</th>\n",
       "      <th>device</th>\n",
       "      <th>group</th>\n",
       "      <th>ab_test</th>\n",
       "      <th>timestamp</th>\n",
       "      <th>eventname</th>\n",
       "      <th>details</th>\n",
       "      <th>experiment_id</th>\n",
       "    </tr>\n",
       "  </thead>\n",
       "  <tbody>\n",
       "    <tr>\n",
       "      <td>2</td>\n",
       "      <td>2E1BF1D4C37EA01F</td>\n",
       "      <td>2020-12-07</td>\n",
       "      <td>EU</td>\n",
       "      <td>PC</td>\n",
       "      <td>A</td>\n",
       "      <td>interface_eu_test</td>\n",
       "      <td>2020-12-07 09:05:47</td>\n",
       "      <td>product_cart</td>\n",
       "      <td>NaN</td>\n",
       "      <td>2</td>\n",
       "    </tr>\n",
       "    <tr>\n",
       "      <td>3</td>\n",
       "      <td>2E1BF1D4C37EA01F</td>\n",
       "      <td>2020-12-07</td>\n",
       "      <td>EU</td>\n",
       "      <td>PC</td>\n",
       "      <td>A</td>\n",
       "      <td>interface_eu_test</td>\n",
       "      <td>2020-12-10 04:13:53</td>\n",
       "      <td>product_cart</td>\n",
       "      <td>NaN</td>\n",
       "      <td>2</td>\n",
       "    </tr>\n",
       "    <tr>\n",
       "      <td>4</td>\n",
       "      <td>2E1BF1D4C37EA01F</td>\n",
       "      <td>2020-12-07</td>\n",
       "      <td>EU</td>\n",
       "      <td>PC</td>\n",
       "      <td>A</td>\n",
       "      <td>interface_eu_test</td>\n",
       "      <td>2020-12-12 17:54:57</td>\n",
       "      <td>product_cart</td>\n",
       "      <td>NaN</td>\n",
       "      <td>2</td>\n",
       "    </tr>\n",
       "    <tr>\n",
       "      <td>5</td>\n",
       "      <td>2E1BF1D4C37EA01F</td>\n",
       "      <td>2020-12-07</td>\n",
       "      <td>EU</td>\n",
       "      <td>PC</td>\n",
       "      <td>A</td>\n",
       "      <td>interface_eu_test</td>\n",
       "      <td>2020-12-07 09:05:46</td>\n",
       "      <td>product_page</td>\n",
       "      <td>NaN</td>\n",
       "      <td>1</td>\n",
       "    </tr>\n",
       "    <tr>\n",
       "      <td>6</td>\n",
       "      <td>2E1BF1D4C37EA01F</td>\n",
       "      <td>2020-12-07</td>\n",
       "      <td>EU</td>\n",
       "      <td>PC</td>\n",
       "      <td>A</td>\n",
       "      <td>interface_eu_test</td>\n",
       "      <td>2020-12-10 04:13:53</td>\n",
       "      <td>product_page</td>\n",
       "      <td>NaN</td>\n",
       "      <td>1</td>\n",
       "    </tr>\n",
       "  </tbody>\n",
       "</table>\n",
       "</div>"
      ],
      "text/plain": [
       "                 id  first_date region device group            ab_test  \\\n",
       "2  2E1BF1D4C37EA01F  2020-12-07     EU     PC     A  interface_eu_test   \n",
       "3  2E1BF1D4C37EA01F  2020-12-07     EU     PC     A  interface_eu_test   \n",
       "4  2E1BF1D4C37EA01F  2020-12-07     EU     PC     A  interface_eu_test   \n",
       "5  2E1BF1D4C37EA01F  2020-12-07     EU     PC     A  interface_eu_test   \n",
       "6  2E1BF1D4C37EA01F  2020-12-07     EU     PC     A  interface_eu_test   \n",
       "\n",
       "            timestamp     eventname  details  experiment_id  \n",
       "2 2020-12-07 09:05:47  product_cart      NaN              2  \n",
       "3 2020-12-10 04:13:53  product_cart      NaN              2  \n",
       "4 2020-12-12 17:54:57  product_cart      NaN              2  \n",
       "5 2020-12-07 09:05:46  product_page      NaN              1  \n",
       "6 2020-12-10 04:13:53  product_page      NaN              1  "
      ]
     },
     "execution_count": 191,
     "metadata": {},
     "output_type": "execute_result"
    }
   ],
   "source": [
    "udata.head()"
   ]
  },
  {
   "cell_type": "code",
   "execution_count": 192,
   "id": "e38dc2d2",
   "metadata": {},
   "outputs": [],
   "source": [
    "groupa=udata.query('group == \"A\"')"
   ]
  },
  {
   "cell_type": "code",
   "execution_count": 193,
   "id": "2578478e",
   "metadata": {},
   "outputs": [],
   "source": [
    "bothsampelusers=udata.groupby(['id'])['group'].nunique().reset_index().query('group>1')"
   ]
  },
  {
   "cell_type": "code",
   "execution_count": 194,
   "id": "8d168dc8",
   "metadata": {},
   "outputs": [
    {
     "data": {
      "text/html": [
       "<div>\n",
       "<style scoped>\n",
       "    .dataframe tbody tr th:only-of-type {\n",
       "        vertical-align: middle;\n",
       "    }\n",
       "\n",
       "    .dataframe tbody tr th {\n",
       "        vertical-align: top;\n",
       "    }\n",
       "\n",
       "    .dataframe thead th {\n",
       "        text-align: right;\n",
       "    }\n",
       "</style>\n",
       "<table border=\"1\" class=\"dataframe\">\n",
       "  <thead>\n",
       "    <tr style=\"text-align: right;\">\n",
       "      <th></th>\n",
       "      <th>id</th>\n",
       "      <th>group</th>\n",
       "    </tr>\n",
       "  </thead>\n",
       "  <tbody>\n",
       "  </tbody>\n",
       "</table>\n",
       "</div>"
      ],
      "text/plain": [
       "Empty DataFrame\n",
       "Columns: [id, group]\n",
       "Index: []"
      ]
     },
     "execution_count": 194,
     "metadata": {},
     "output_type": "execute_result"
    }
   ],
   "source": [
    "bothsampelusers"
   ]
  },
  {
   "cell_type": "code",
   "execution_count": null,
   "id": "48a6fdac",
   "metadata": {},
   "outputs": [],
   "source": []
  },
  {
   "cell_type": "markdown",
   "id": "bae7c6c6",
   "metadata": {},
   "source": [
    "## 2.3 Conclusion "
   ]
  },
  {
   "cell_type": "markdown",
   "id": "f7fb7a2c",
   "metadata": {},
   "source": [
    "There are no users in both groups"
   ]
  },
  {
   "cell_type": "markdown",
   "id": "290f940d",
   "metadata": {},
   "source": [
    "## 2.4 - How is the number of events distributed by days?"
   ]
  },
  {
   "cell_type": "code",
   "execution_count": 195,
   "id": "4c5d4160",
   "metadata": {},
   "outputs": [
    {
     "data": {
      "text/html": [
       "<div>\n",
       "<style scoped>\n",
       "    .dataframe tbody tr th:only-of-type {\n",
       "        vertical-align: middle;\n",
       "    }\n",
       "\n",
       "    .dataframe tbody tr th {\n",
       "        vertical-align: top;\n",
       "    }\n",
       "\n",
       "    .dataframe thead th {\n",
       "        text-align: right;\n",
       "    }\n",
       "</style>\n",
       "<table border=\"1\" class=\"dataframe\">\n",
       "  <thead>\n",
       "    <tr style=\"text-align: right;\">\n",
       "      <th></th>\n",
       "      <th>id</th>\n",
       "      <th>first_date</th>\n",
       "      <th>region</th>\n",
       "      <th>device</th>\n",
       "      <th>group</th>\n",
       "      <th>ab_test</th>\n",
       "      <th>timestamp</th>\n",
       "      <th>eventname</th>\n",
       "      <th>details</th>\n",
       "      <th>experiment_id</th>\n",
       "    </tr>\n",
       "  </thead>\n",
       "  <tbody>\n",
       "    <tr>\n",
       "      <td>2</td>\n",
       "      <td>2E1BF1D4C37EA01F</td>\n",
       "      <td>2020-12-07</td>\n",
       "      <td>EU</td>\n",
       "      <td>PC</td>\n",
       "      <td>A</td>\n",
       "      <td>interface_eu_test</td>\n",
       "      <td>2020-12-07 09:05:47</td>\n",
       "      <td>product_cart</td>\n",
       "      <td>NaN</td>\n",
       "      <td>2</td>\n",
       "    </tr>\n",
       "    <tr>\n",
       "      <td>3</td>\n",
       "      <td>2E1BF1D4C37EA01F</td>\n",
       "      <td>2020-12-07</td>\n",
       "      <td>EU</td>\n",
       "      <td>PC</td>\n",
       "      <td>A</td>\n",
       "      <td>interface_eu_test</td>\n",
       "      <td>2020-12-10 04:13:53</td>\n",
       "      <td>product_cart</td>\n",
       "      <td>NaN</td>\n",
       "      <td>2</td>\n",
       "    </tr>\n",
       "    <tr>\n",
       "      <td>4</td>\n",
       "      <td>2E1BF1D4C37EA01F</td>\n",
       "      <td>2020-12-07</td>\n",
       "      <td>EU</td>\n",
       "      <td>PC</td>\n",
       "      <td>A</td>\n",
       "      <td>interface_eu_test</td>\n",
       "      <td>2020-12-12 17:54:57</td>\n",
       "      <td>product_cart</td>\n",
       "      <td>NaN</td>\n",
       "      <td>2</td>\n",
       "    </tr>\n",
       "    <tr>\n",
       "      <td>5</td>\n",
       "      <td>2E1BF1D4C37EA01F</td>\n",
       "      <td>2020-12-07</td>\n",
       "      <td>EU</td>\n",
       "      <td>PC</td>\n",
       "      <td>A</td>\n",
       "      <td>interface_eu_test</td>\n",
       "      <td>2020-12-07 09:05:46</td>\n",
       "      <td>product_page</td>\n",
       "      <td>NaN</td>\n",
       "      <td>1</td>\n",
       "    </tr>\n",
       "    <tr>\n",
       "      <td>6</td>\n",
       "      <td>2E1BF1D4C37EA01F</td>\n",
       "      <td>2020-12-07</td>\n",
       "      <td>EU</td>\n",
       "      <td>PC</td>\n",
       "      <td>A</td>\n",
       "      <td>interface_eu_test</td>\n",
       "      <td>2020-12-10 04:13:53</td>\n",
       "      <td>product_page</td>\n",
       "      <td>NaN</td>\n",
       "      <td>1</td>\n",
       "    </tr>\n",
       "    <tr>\n",
       "      <td>...</td>\n",
       "      <td>...</td>\n",
       "      <td>...</td>\n",
       "      <td>...</td>\n",
       "      <td>...</td>\n",
       "      <td>...</td>\n",
       "      <td>...</td>\n",
       "      <td>...</td>\n",
       "      <td>...</td>\n",
       "      <td>...</td>\n",
       "      <td>...</td>\n",
       "    </tr>\n",
       "    <tr>\n",
       "      <td>314770</td>\n",
       "      <td>1C7D23927835213F</td>\n",
       "      <td>2020-12-20</td>\n",
       "      <td>EU</td>\n",
       "      <td>iPhone</td>\n",
       "      <td>B</td>\n",
       "      <td>interface_eu_test</td>\n",
       "      <td>2020-12-27 03:51:36</td>\n",
       "      <td>product_page</td>\n",
       "      <td>NaN</td>\n",
       "      <td>1</td>\n",
       "    </tr>\n",
       "    <tr>\n",
       "      <td>314771</td>\n",
       "      <td>1C7D23927835213F</td>\n",
       "      <td>2020-12-20</td>\n",
       "      <td>EU</td>\n",
       "      <td>iPhone</td>\n",
       "      <td>B</td>\n",
       "      <td>interface_eu_test</td>\n",
       "      <td>2020-12-20 14:14:28</td>\n",
       "      <td>login</td>\n",
       "      <td>NaN</td>\n",
       "      <td>0</td>\n",
       "    </tr>\n",
       "    <tr>\n",
       "      <td>314772</td>\n",
       "      <td>1C7D23927835213F</td>\n",
       "      <td>2020-12-20</td>\n",
       "      <td>EU</td>\n",
       "      <td>iPhone</td>\n",
       "      <td>B</td>\n",
       "      <td>interface_eu_test</td>\n",
       "      <td>2020-12-21 04:31:15</td>\n",
       "      <td>login</td>\n",
       "      <td>NaN</td>\n",
       "      <td>0</td>\n",
       "    </tr>\n",
       "    <tr>\n",
       "      <td>314773</td>\n",
       "      <td>1C7D23927835213F</td>\n",
       "      <td>2020-12-20</td>\n",
       "      <td>EU</td>\n",
       "      <td>iPhone</td>\n",
       "      <td>B</td>\n",
       "      <td>interface_eu_test</td>\n",
       "      <td>2020-12-23 15:47:23</td>\n",
       "      <td>login</td>\n",
       "      <td>NaN</td>\n",
       "      <td>0</td>\n",
       "    </tr>\n",
       "    <tr>\n",
       "      <td>314774</td>\n",
       "      <td>1C7D23927835213F</td>\n",
       "      <td>2020-12-20</td>\n",
       "      <td>EU</td>\n",
       "      <td>iPhone</td>\n",
       "      <td>B</td>\n",
       "      <td>interface_eu_test</td>\n",
       "      <td>2020-12-27 03:51:35</td>\n",
       "      <td>login</td>\n",
       "      <td>NaN</td>\n",
       "      <td>0</td>\n",
       "    </tr>\n",
       "  </tbody>\n",
       "</table>\n",
       "<p>73214 rows × 10 columns</p>\n",
       "</div>"
      ],
      "text/plain": [
       "                      id  first_date region  device group            ab_test  \\\n",
       "2       2E1BF1D4C37EA01F  2020-12-07     EU      PC     A  interface_eu_test   \n",
       "3       2E1BF1D4C37EA01F  2020-12-07     EU      PC     A  interface_eu_test   \n",
       "4       2E1BF1D4C37EA01F  2020-12-07     EU      PC     A  interface_eu_test   \n",
       "5       2E1BF1D4C37EA01F  2020-12-07     EU      PC     A  interface_eu_test   \n",
       "6       2E1BF1D4C37EA01F  2020-12-07     EU      PC     A  interface_eu_test   \n",
       "...                  ...         ...    ...     ...   ...                ...   \n",
       "314770  1C7D23927835213F  2020-12-20     EU  iPhone     B  interface_eu_test   \n",
       "314771  1C7D23927835213F  2020-12-20     EU  iPhone     B  interface_eu_test   \n",
       "314772  1C7D23927835213F  2020-12-20     EU  iPhone     B  interface_eu_test   \n",
       "314773  1C7D23927835213F  2020-12-20     EU  iPhone     B  interface_eu_test   \n",
       "314774  1C7D23927835213F  2020-12-20     EU  iPhone     B  interface_eu_test   \n",
       "\n",
       "                 timestamp     eventname  details  experiment_id  \n",
       "2      2020-12-07 09:05:47  product_cart      NaN              2  \n",
       "3      2020-12-10 04:13:53  product_cart      NaN              2  \n",
       "4      2020-12-12 17:54:57  product_cart      NaN              2  \n",
       "5      2020-12-07 09:05:46  product_page      NaN              1  \n",
       "6      2020-12-10 04:13:53  product_page      NaN              1  \n",
       "...                    ...           ...      ...            ...  \n",
       "314770 2020-12-27 03:51:36  product_page      NaN              1  \n",
       "314771 2020-12-20 14:14:28         login      NaN              0  \n",
       "314772 2020-12-21 04:31:15         login      NaN              0  \n",
       "314773 2020-12-23 15:47:23         login      NaN              0  \n",
       "314774 2020-12-27 03:51:35         login      NaN              0  \n",
       "\n",
       "[73214 rows x 10 columns]"
      ]
     },
     "execution_count": 195,
     "metadata": {},
     "output_type": "execute_result"
    }
   ],
   "source": [
    "udata"
   ]
  },
  {
   "cell_type": "code",
   "execution_count": null,
   "id": "5aa5a2f4",
   "metadata": {},
   "outputs": [],
   "source": []
  },
  {
   "cell_type": "code",
   "execution_count": 196,
   "id": "789be7df",
   "metadata": {},
   "outputs": [
    {
     "data": {
      "image/png": "[encoded data removed]",
      "text/plain": [
       "<Figure size 1080x720 with 1 Axes>"
      ]
     },
     "metadata": {
      "needs_background": "light"
     },
     "output_type": "display_data"
    }
   ],
   "source": [
    "plt.figure(figsize=(15,10))\n",
    "plt.title(\"he number of events distributed by days\")\n",
    "plt.xlabel(\"timeline\")\n",
    "plt.ylabel(\"count\")\n",
    "plt.xticks(fontsize = 10)\n",
    "sns.histplot(data=udata, x=\"timestamp\", hue=\"eventname\")\n",
    "plt.show()"
   ]
  },
  {
   "cell_type": "markdown",
   "id": "fedf0d41",
   "metadata": {},
   "source": [
    "## 2.4 Conclusion"
   ]
  },
  {
   "cell_type": "markdown",
   "id": "63fb640d",
   "metadata": {},
   "source": [
    "In the graph we can see the distribution of the purchase and product_cart is nearly the same"
   ]
  },
  {
   "cell_type": "markdown",
   "id": "5f69cf70",
   "metadata": {},
   "source": [
    "## 2.5 - Think of the possible details in the data that you have to take into account before starting the A/B test?"
   ]
  },
  {
   "cell_type": "markdown",
   "id": "d16b78f9",
   "metadata": {},
   "source": [
    "## 2.5 Conclusion"
   ]
  },
  {
   "cell_type": "markdown",
   "id": "66ff314e",
   "metadata": {},
   "source": [
    "i don't removed any optional stages. The data ist ready"
   ]
  },
  {
   "cell_type": "markdown",
   "id": "add01916",
   "metadata": {},
   "source": [
    "## 2 - Conclusion"
   ]
  },
  {
   "cell_type": "markdown",
   "id": "b1a35f06",
   "metadata": {},
   "source": [
    "We notice all users that put something in the cart, purchased it. \\\n",
    "The groups are not equally distributed. \\\n",
    "There are no users in both groups \\\n",
    "the distribution of the purchase and product_cart is nearly the same "
   ]
  },
  {
   "cell_type": "markdown",
   "id": "abb304ab",
   "metadata": {},
   "source": [
    "## 3  - Evaluate the A/B test results"
   ]
  },
  {
   "cell_type": "code",
   "execution_count": null,
   "id": "8e734298",
   "metadata": {},
   "outputs": [],
   "source": []
  },
  {
   "cell_type": "markdown",
   "id": "4c65750c",
   "metadata": {},
   "source": [
    "## 3.1 - What can you tell about the A/B test results?"
   ]
  },
  {
   "cell_type": "code",
   "execution_count": 128,
   "id": "4d78390a",
   "metadata": {},
   "outputs": [
    {
     "data": {
      "image/png": "[encoded data removed]",
      "text/plain": [
       "<Figure size 1080x720 with 1 Axes>"
      ]
     },
     "metadata": {
      "needs_background": "light"
     },
     "output_type": "display_data"
    }
   ],
   "source": [
    "plt.figure(figsize=(15,10))\n",
    "plt.title(\"he number of events distributed by days\")\n",
    "plt.xlabel(\"timeline\")\n",
    "plt.ylabel(\"count\")\n",
    "plt.xticks(fontsize = 10)\n",
    "sns.histplot(data=udata, x=\"timestamp\", hue=\"eventname\")\n",
    "plt.show()"
   ]
  },
  {
   "cell_type": "code",
   "execution_count": null,
   "id": "24d3b790",
   "metadata": {},
   "outputs": [],
   "source": []
  },
  {
   "cell_type": "code",
   "execution_count": 129,
   "id": "e375605c",
   "metadata": {},
   "outputs": [
    {
     "data": {
      "text/plain": [
       "9963"
      ]
     },
     "execution_count": 129,
     "metadata": {},
     "output_type": "execute_result"
    }
   ],
   "source": [
    "udata['id'].nunique()"
   ]
  },
  {
   "cell_type": "code",
   "execution_count": 130,
   "id": "964144aa",
   "metadata": {},
   "outputs": [
    {
     "data": {
      "text/html": [
       "<div>\n",
       "<style scoped>\n",
       "    .dataframe tbody tr th:only-of-type {\n",
       "        vertical-align: middle;\n",
       "    }\n",
       "\n",
       "    .dataframe tbody tr th {\n",
       "        vertical-align: top;\n",
       "    }\n",
       "\n",
       "    .dataframe thead th {\n",
       "        text-align: right;\n",
       "    }\n",
       "</style>\n",
       "<table border=\"1\" class=\"dataframe\">\n",
       "  <thead>\n",
       "    <tr style=\"text-align: right;\">\n",
       "      <th></th>\n",
       "      <th>id</th>\n",
       "      <th>first_date</th>\n",
       "      <th>region</th>\n",
       "      <th>device</th>\n",
       "      <th>group</th>\n",
       "      <th>ab_test</th>\n",
       "      <th>timestamp</th>\n",
       "      <th>eventname</th>\n",
       "      <th>details</th>\n",
       "      <th>experiment_id</th>\n",
       "    </tr>\n",
       "  </thead>\n",
       "  <tbody>\n",
       "    <tr>\n",
       "      <td>5</td>\n",
       "      <td>2E1BF1D4C37EA01F</td>\n",
       "      <td>2020-12-07</td>\n",
       "      <td>EU</td>\n",
       "      <td>PC</td>\n",
       "      <td>A</td>\n",
       "      <td>interface_eu_test</td>\n",
       "      <td>2020-12-07 09:05:46</td>\n",
       "      <td>product_page</td>\n",
       "      <td>NaN</td>\n",
       "      <td>1</td>\n",
       "    </tr>\n",
       "    <tr>\n",
       "      <td>6</td>\n",
       "      <td>2E1BF1D4C37EA01F</td>\n",
       "      <td>2020-12-07</td>\n",
       "      <td>EU</td>\n",
       "      <td>PC</td>\n",
       "      <td>A</td>\n",
       "      <td>interface_eu_test</td>\n",
       "      <td>2020-12-10 04:13:53</td>\n",
       "      <td>product_page</td>\n",
       "      <td>NaN</td>\n",
       "      <td>1</td>\n",
       "    </tr>\n",
       "    <tr>\n",
       "      <td>7</td>\n",
       "      <td>2E1BF1D4C37EA01F</td>\n",
       "      <td>2020-12-07</td>\n",
       "      <td>EU</td>\n",
       "      <td>PC</td>\n",
       "      <td>A</td>\n",
       "      <td>interface_eu_test</td>\n",
       "      <td>2020-12-12 17:54:57</td>\n",
       "      <td>product_page</td>\n",
       "      <td>NaN</td>\n",
       "      <td>1</td>\n",
       "    </tr>\n",
       "    <tr>\n",
       "      <td>8</td>\n",
       "      <td>2E1BF1D4C37EA01F</td>\n",
       "      <td>2020-12-07</td>\n",
       "      <td>EU</td>\n",
       "      <td>PC</td>\n",
       "      <td>A</td>\n",
       "      <td>interface_eu_test</td>\n",
       "      <td>2020-12-07 09:05:46</td>\n",
       "      <td>login</td>\n",
       "      <td>NaN</td>\n",
       "      <td>0</td>\n",
       "    </tr>\n",
       "    <tr>\n",
       "      <td>9</td>\n",
       "      <td>2E1BF1D4C37EA01F</td>\n",
       "      <td>2020-12-07</td>\n",
       "      <td>EU</td>\n",
       "      <td>PC</td>\n",
       "      <td>A</td>\n",
       "      <td>interface_eu_test</td>\n",
       "      <td>2020-12-10 04:13:53</td>\n",
       "      <td>login</td>\n",
       "      <td>NaN</td>\n",
       "      <td>0</td>\n",
       "    </tr>\n",
       "    <tr>\n",
       "      <td>...</td>\n",
       "      <td>...</td>\n",
       "      <td>...</td>\n",
       "      <td>...</td>\n",
       "      <td>...</td>\n",
       "      <td>...</td>\n",
       "      <td>...</td>\n",
       "      <td>...</td>\n",
       "      <td>...</td>\n",
       "      <td>...</td>\n",
       "      <td>...</td>\n",
       "    </tr>\n",
       "    <tr>\n",
       "      <td>314770</td>\n",
       "      <td>1C7D23927835213F</td>\n",
       "      <td>2020-12-20</td>\n",
       "      <td>EU</td>\n",
       "      <td>iPhone</td>\n",
       "      <td>B</td>\n",
       "      <td>interface_eu_test</td>\n",
       "      <td>2020-12-27 03:51:36</td>\n",
       "      <td>product_page</td>\n",
       "      <td>NaN</td>\n",
       "      <td>1</td>\n",
       "    </tr>\n",
       "    <tr>\n",
       "      <td>314771</td>\n",
       "      <td>1C7D23927835213F</td>\n",
       "      <td>2020-12-20</td>\n",
       "      <td>EU</td>\n",
       "      <td>iPhone</td>\n",
       "      <td>B</td>\n",
       "      <td>interface_eu_test</td>\n",
       "      <td>2020-12-20 14:14:28</td>\n",
       "      <td>login</td>\n",
       "      <td>NaN</td>\n",
       "      <td>0</td>\n",
       "    </tr>\n",
       "    <tr>\n",
       "      <td>314772</td>\n",
       "      <td>1C7D23927835213F</td>\n",
       "      <td>2020-12-20</td>\n",
       "      <td>EU</td>\n",
       "      <td>iPhone</td>\n",
       "      <td>B</td>\n",
       "      <td>interface_eu_test</td>\n",
       "      <td>2020-12-21 04:31:15</td>\n",
       "      <td>login</td>\n",
       "      <td>NaN</td>\n",
       "      <td>0</td>\n",
       "    </tr>\n",
       "    <tr>\n",
       "      <td>314773</td>\n",
       "      <td>1C7D23927835213F</td>\n",
       "      <td>2020-12-20</td>\n",
       "      <td>EU</td>\n",
       "      <td>iPhone</td>\n",
       "      <td>B</td>\n",
       "      <td>interface_eu_test</td>\n",
       "      <td>2020-12-23 15:47:23</td>\n",
       "      <td>login</td>\n",
       "      <td>NaN</td>\n",
       "      <td>0</td>\n",
       "    </tr>\n",
       "    <tr>\n",
       "      <td>314774</td>\n",
       "      <td>1C7D23927835213F</td>\n",
       "      <td>2020-12-20</td>\n",
       "      <td>EU</td>\n",
       "      <td>iPhone</td>\n",
       "      <td>B</td>\n",
       "      <td>interface_eu_test</td>\n",
       "      <td>2020-12-27 03:51:35</td>\n",
       "      <td>login</td>\n",
       "      <td>NaN</td>\n",
       "      <td>0</td>\n",
       "    </tr>\n",
       "  </tbody>\n",
       "</table>\n",
       "<p>62759 rows × 10 columns</p>\n",
       "</div>"
      ],
      "text/plain": [
       "                      id  first_date region  device group            ab_test  \\\n",
       "5       2E1BF1D4C37EA01F  2020-12-07     EU      PC     A  interface_eu_test   \n",
       "6       2E1BF1D4C37EA01F  2020-12-07     EU      PC     A  interface_eu_test   \n",
       "7       2E1BF1D4C37EA01F  2020-12-07     EU      PC     A  interface_eu_test   \n",
       "8       2E1BF1D4C37EA01F  2020-12-07     EU      PC     A  interface_eu_test   \n",
       "9       2E1BF1D4C37EA01F  2020-12-07     EU      PC     A  interface_eu_test   \n",
       "...                  ...         ...    ...     ...   ...                ...   \n",
       "314770  1C7D23927835213F  2020-12-20     EU  iPhone     B  interface_eu_test   \n",
       "314771  1C7D23927835213F  2020-12-20     EU  iPhone     B  interface_eu_test   \n",
       "314772  1C7D23927835213F  2020-12-20     EU  iPhone     B  interface_eu_test   \n",
       "314773  1C7D23927835213F  2020-12-20     EU  iPhone     B  interface_eu_test   \n",
       "314774  1C7D23927835213F  2020-12-20     EU  iPhone     B  interface_eu_test   \n",
       "\n",
       "                 timestamp     eventname  details  experiment_id  \n",
       "5      2020-12-07 09:05:46  product_page      NaN              1  \n",
       "6      2020-12-10 04:13:53  product_page      NaN              1  \n",
       "7      2020-12-12 17:54:57  product_page      NaN              1  \n",
       "8      2020-12-07 09:05:46         login      NaN              0  \n",
       "9      2020-12-10 04:13:53         login      NaN              0  \n",
       "...                    ...           ...      ...            ...  \n",
       "314770 2020-12-27 03:51:36  product_page      NaN              1  \n",
       "314771 2020-12-20 14:14:28         login      NaN              0  \n",
       "314772 2020-12-21 04:31:15         login      NaN              0  \n",
       "314773 2020-12-23 15:47:23         login      NaN              0  \n",
       "314774 2020-12-27 03:51:35         login      NaN              0  \n",
       "\n",
       "[62759 rows x 10 columns]"
      ]
     },
     "execution_count": 130,
     "metadata": {},
     "output_type": "execute_result"
    }
   ],
   "source": [
    "udata"
   ]
  },
  {
   "cell_type": "code",
   "execution_count": null,
   "id": "72363633",
   "metadata": {},
   "outputs": [],
   "source": []
  },
  {
   "cell_type": "code",
   "execution_count": 215,
   "id": "ff8f61ee",
   "metadata": {},
   "outputs": [],
   "source": [
    "funnel_shift=udata.groupby(['eventname', \"group\", \"experiment_id\"]).agg({\"id\":\"nunique\"}).sort_values(by=\"experiment_id\",ascending=True).reset_index()\n"
   ]
  },
  {
   "cell_type": "code",
   "execution_count": 216,
   "id": "56fb6471",
   "metadata": {},
   "outputs": [
    {
     "data": {
      "text/html": [
       "<div>\n",
       "<style scoped>\n",
       "    .dataframe tbody tr th:only-of-type {\n",
       "        vertical-align: middle;\n",
       "    }\n",
       "\n",
       "    .dataframe tbody tr th {\n",
       "        vertical-align: top;\n",
       "    }\n",
       "\n",
       "    .dataframe thead th {\n",
       "        text-align: right;\n",
       "    }\n",
       "</style>\n",
       "<table border=\"1\" class=\"dataframe\">\n",
       "  <thead>\n",
       "    <tr style=\"text-align: right;\">\n",
       "      <th></th>\n",
       "      <th>eventname</th>\n",
       "      <th>group</th>\n",
       "      <th>experiment_id</th>\n",
       "      <th>id</th>\n",
       "    </tr>\n",
       "  </thead>\n",
       "  <tbody>\n",
       "    <tr>\n",
       "      <td>0</td>\n",
       "      <td>login</td>\n",
       "      <td>A</td>\n",
       "      <td>0</td>\n",
       "      <td>5010</td>\n",
       "    </tr>\n",
       "    <tr>\n",
       "      <td>1</td>\n",
       "      <td>login</td>\n",
       "      <td>B</td>\n",
       "      <td>0</td>\n",
       "      <td>4952</td>\n",
       "    </tr>\n",
       "    <tr>\n",
       "      <td>2</td>\n",
       "      <td>product_page</td>\n",
       "      <td>A</td>\n",
       "      <td>1</td>\n",
       "      <td>3366</td>\n",
       "    </tr>\n",
       "    <tr>\n",
       "      <td>3</td>\n",
       "      <td>product_page</td>\n",
       "      <td>B</td>\n",
       "      <td>1</td>\n",
       "      <td>3254</td>\n",
       "    </tr>\n",
       "    <tr>\n",
       "      <td>4</td>\n",
       "      <td>product_cart</td>\n",
       "      <td>A</td>\n",
       "      <td>2</td>\n",
       "      <td>1629</td>\n",
       "    </tr>\n",
       "    <tr>\n",
       "      <td>5</td>\n",
       "      <td>product_cart</td>\n",
       "      <td>B</td>\n",
       "      <td>2</td>\n",
       "      <td>1686</td>\n",
       "    </tr>\n",
       "    <tr>\n",
       "      <td>6</td>\n",
       "      <td>purchase</td>\n",
       "      <td>A</td>\n",
       "      <td>3</td>\n",
       "      <td>1782</td>\n",
       "    </tr>\n",
       "    <tr>\n",
       "      <td>7</td>\n",
       "      <td>purchase</td>\n",
       "      <td>B</td>\n",
       "      <td>3</td>\n",
       "      <td>1653</td>\n",
       "    </tr>\n",
       "  </tbody>\n",
       "</table>\n",
       "</div>"
      ],
      "text/plain": [
       "      eventname group  experiment_id    id\n",
       "0         login     A              0  5010\n",
       "1         login     B              0  4952\n",
       "2  product_page     A              1  3366\n",
       "3  product_page     B              1  3254\n",
       "4  product_cart     A              2  1629\n",
       "5  product_cart     B              2  1686\n",
       "6      purchase     A              3  1782\n",
       "7      purchase     B              3  1653"
      ]
     },
     "execution_count": 216,
     "metadata": {},
     "output_type": "execute_result"
    }
   ],
   "source": []
  },
  {
   "cell_type": "code",
   "execution_count": 206,
   "id": "a01b6dbc",
   "metadata": {},
   "outputs": [],
   "source": []
  },
  {
   "cell_type": "markdown",
   "id": "935342d4",
   "metadata": {},
   "source": [
    "plt.figure(figsize=(20,10))\n",
    "pos = -0.15\n",
    "for index, row in funnel_shift.iterrows():\n",
    "    plt.text(pos,\n",
    "             row.id + 20,\n",
    "             row.id,\n",
    "             color='black',\n",
    "             ha=\"center\",\n",
    "             fontsize=16)\n",
    "\n",
    "    pos += 0.5\n",
    "sns.barplot(x=\"eventname\", y=\"id\", hue=\"group\", data=funnel_shift)\n",
    "\n",
    "plt.ylabel(\"count\")\n",
    "plt.suptitle(\"Group Results\", fontsize=20) \n",
    "\n",
    "plt.show()"
   ]
  },
  {
   "cell_type": "markdown",
   "id": "673fae3f",
   "metadata": {},
   "source": [
    "## 3.1 Conclusion"
   ]
  },
  {
   "cell_type": "markdown",
   "id": "1828c0d0",
   "metadata": {},
   "source": [
    "Something in the A group went wrong, there are more purchase than product_cart. Mabye there is an express buy method. \\\n",
    "Also threre is a good sign in the distribution between the events, they match the expected results. to match the logic outcome of the filter i kickt out the product_cart because its an optional event."
   ]
  },
  {
   "cell_type": "markdown",
   "id": "d0bbc1e8",
   "metadata": {},
   "source": [
    "## 3.2 - Use the z-criterion to check the statistical difference between the proportions"
   ]
  },
  {
   "cell_type": "code",
   "execution_count": 61,
   "id": "b81c29f9",
   "metadata": {},
   "outputs": [],
   "source": [
    "pivot=udata.pivot_table(index='eventname', columns='group',values='id',aggfunc=lambda x: x.nunique()).reset_index()"
   ]
  },
  {
   "cell_type": "code",
   "execution_count": 62,
   "id": "00799c03",
   "metadata": {},
   "outputs": [],
   "source": [
    "pivot.rename(columns={'eventname':'event_name'}, inplace=True)"
   ]
  },
  {
   "cell_type": "code",
   "execution_count": 63,
   "id": "766a25a6",
   "metadata": {},
   "outputs": [],
   "source": [
    "df=udata"
   ]
  },
  {
   "cell_type": "code",
   "execution_count": 64,
   "id": "24d946fd",
   "metadata": {},
   "outputs": [],
   "source": [
    "df.rename(columns={'eventname':'event_name', 'id':'user_id',}, inplace=True)"
   ]
  },
  {
   "cell_type": "code",
   "execution_count": 65,
   "id": "b6908eb2",
   "metadata": {},
   "outputs": [
    {
     "data": {
      "text/html": [
       "<div>\n",
       "<style scoped>\n",
       "    .dataframe tbody tr th:only-of-type {\n",
       "        vertical-align: middle;\n",
       "    }\n",
       "\n",
       "    .dataframe tbody tr th {\n",
       "        vertical-align: top;\n",
       "    }\n",
       "\n",
       "    .dataframe thead th {\n",
       "        text-align: right;\n",
       "    }\n",
       "</style>\n",
       "<table border=\"1\" class=\"dataframe\">\n",
       "  <thead>\n",
       "    <tr style=\"text-align: right;\">\n",
       "      <th></th>\n",
       "      <th>user_id</th>\n",
       "      <th>first_date</th>\n",
       "      <th>region</th>\n",
       "      <th>device</th>\n",
       "      <th>group</th>\n",
       "      <th>ab_test</th>\n",
       "      <th>timestamp</th>\n",
       "      <th>event_name</th>\n",
       "      <th>details</th>\n",
       "      <th>experiment_id</th>\n",
       "    </tr>\n",
       "  </thead>\n",
       "  <tbody>\n",
       "    <tr>\n",
       "      <td>5</td>\n",
       "      <td>2E1BF1D4C37EA01F</td>\n",
       "      <td>2020-12-07</td>\n",
       "      <td>EU</td>\n",
       "      <td>PC</td>\n",
       "      <td>A</td>\n",
       "      <td>interface_eu_test</td>\n",
       "      <td>2020-12-07 09:05:46</td>\n",
       "      <td>product_page</td>\n",
       "      <td>NaN</td>\n",
       "      <td>1</td>\n",
       "    </tr>\n",
       "    <tr>\n",
       "      <td>6</td>\n",
       "      <td>2E1BF1D4C37EA01F</td>\n",
       "      <td>2020-12-07</td>\n",
       "      <td>EU</td>\n",
       "      <td>PC</td>\n",
       "      <td>A</td>\n",
       "      <td>interface_eu_test</td>\n",
       "      <td>2020-12-10 04:13:53</td>\n",
       "      <td>product_page</td>\n",
       "      <td>NaN</td>\n",
       "      <td>1</td>\n",
       "    </tr>\n",
       "    <tr>\n",
       "      <td>7</td>\n",
       "      <td>2E1BF1D4C37EA01F</td>\n",
       "      <td>2020-12-07</td>\n",
       "      <td>EU</td>\n",
       "      <td>PC</td>\n",
       "      <td>A</td>\n",
       "      <td>interface_eu_test</td>\n",
       "      <td>2020-12-12 17:54:57</td>\n",
       "      <td>product_page</td>\n",
       "      <td>NaN</td>\n",
       "      <td>1</td>\n",
       "    </tr>\n",
       "    <tr>\n",
       "      <td>8</td>\n",
       "      <td>2E1BF1D4C37EA01F</td>\n",
       "      <td>2020-12-07</td>\n",
       "      <td>EU</td>\n",
       "      <td>PC</td>\n",
       "      <td>A</td>\n",
       "      <td>interface_eu_test</td>\n",
       "      <td>2020-12-07 09:05:46</td>\n",
       "      <td>login</td>\n",
       "      <td>NaN</td>\n",
       "      <td>0</td>\n",
       "    </tr>\n",
       "    <tr>\n",
       "      <td>9</td>\n",
       "      <td>2E1BF1D4C37EA01F</td>\n",
       "      <td>2020-12-07</td>\n",
       "      <td>EU</td>\n",
       "      <td>PC</td>\n",
       "      <td>A</td>\n",
       "      <td>interface_eu_test</td>\n",
       "      <td>2020-12-10 04:13:53</td>\n",
       "      <td>login</td>\n",
       "      <td>NaN</td>\n",
       "      <td>0</td>\n",
       "    </tr>\n",
       "  </tbody>\n",
       "</table>\n",
       "</div>"
      ],
      "text/plain": [
       "            user_id  first_date region device group            ab_test  \\\n",
       "5  2E1BF1D4C37EA01F  2020-12-07     EU     PC     A  interface_eu_test   \n",
       "6  2E1BF1D4C37EA01F  2020-12-07     EU     PC     A  interface_eu_test   \n",
       "7  2E1BF1D4C37EA01F  2020-12-07     EU     PC     A  interface_eu_test   \n",
       "8  2E1BF1D4C37EA01F  2020-12-07     EU     PC     A  interface_eu_test   \n",
       "9  2E1BF1D4C37EA01F  2020-12-07     EU     PC     A  interface_eu_test   \n",
       "\n",
       "            timestamp    event_name  details  experiment_id  \n",
       "5 2020-12-07 09:05:46  product_page      NaN              1  \n",
       "6 2020-12-10 04:13:53  product_page      NaN              1  \n",
       "7 2020-12-12 17:54:57  product_page      NaN              1  \n",
       "8 2020-12-07 09:05:46         login      NaN              0  \n",
       "9 2020-12-10 04:13:53         login      NaN              0  "
      ]
     },
     "execution_count": 65,
     "metadata": {},
     "output_type": "execute_result"
    }
   ],
   "source": [
    "df.head()"
   ]
  },
  {
   "cell_type": "code",
   "execution_count": 66,
   "id": "d385b588",
   "metadata": {},
   "outputs": [],
   "source": [
    "import math as mth"
   ]
  },
  {
   "cell_type": "code",
   "execution_count": 67,
   "id": "8ff9b417",
   "metadata": {},
   "outputs": [
    {
     "data": {
      "text/html": [
       "<div>\n",
       "<style scoped>\n",
       "    .dataframe tbody tr th:only-of-type {\n",
       "        vertical-align: middle;\n",
       "    }\n",
       "\n",
       "    .dataframe tbody tr th {\n",
       "        vertical-align: top;\n",
       "    }\n",
       "\n",
       "    .dataframe thead th {\n",
       "        text-align: right;\n",
       "    }\n",
       "</style>\n",
       "<table border=\"1\" class=\"dataframe\">\n",
       "  <thead>\n",
       "    <tr style=\"text-align: right;\">\n",
       "      <th>group</th>\n",
       "      <th>event_name</th>\n",
       "      <th>A</th>\n",
       "      <th>B</th>\n",
       "    </tr>\n",
       "  </thead>\n",
       "  <tbody>\n",
       "    <tr>\n",
       "      <td>0</td>\n",
       "      <td>login</td>\n",
       "      <td>5010</td>\n",
       "      <td>4952</td>\n",
       "    </tr>\n",
       "    <tr>\n",
       "      <td>1</td>\n",
       "      <td>product_page</td>\n",
       "      <td>3366</td>\n",
       "      <td>3254</td>\n",
       "    </tr>\n",
       "    <tr>\n",
       "      <td>2</td>\n",
       "      <td>purchase</td>\n",
       "      <td>1782</td>\n",
       "      <td>1653</td>\n",
       "    </tr>\n",
       "  </tbody>\n",
       "</table>\n",
       "</div>"
      ],
      "text/plain": [
       "group    event_name     A     B\n",
       "0             login  5010  4952\n",
       "1      product_page  3366  3254\n",
       "2          purchase  1782  1653"
      ]
     },
     "execution_count": 67,
     "metadata": {},
     "output_type": "execute_result"
    }
   ],
   "source": [
    "pivot"
   ]
  },
  {
   "cell_type": "markdown",
   "id": "5ccff6b5",
   "metadata": {},
   "source": [
    "Significance level is: 0.05 so we have a accurance of 95% and if we reject the 0 Hypoteses there is a 80% accurency that H1 is true. \n",
    "\n",
    "To include the bonferroni i divide the 0.05 with 3 because i make 3 tests.\n",
    "\n",
    "H0: There is no reason to consider the groups be different\n",
    "\n",
    "H1: There is a significant difference between the groups"
   ]
  },
  {
   "cell_type": "code",
   "execution_count": 68,
   "id": "1c134d7a",
   "metadata": {},
   "outputs": [],
   "source": [
    "def check_hypothesis(group1,group2,event,alpha=0.01667):\n",
    "    success1=pivot[pivot.event_name==event][group1].iloc[0]\n",
    "    success2=pivot[pivot.event_name==event][group2].iloc[0]\n",
    "    \n",
    "    trials1=df[df.group==group1]['user_id'].nunique()\n",
    "    trials2=df[df.group==group2]['user_id'].nunique()\n",
    "    \n",
    "    \n",
    "    # success proportion in the first group:\n",
    "    p1 = success1/trials1\n",
    "\n",
    "    # success proportion in the second group:\n",
    "    p2 = success2/trials2\n",
    "\n",
    "    # success proportion in the combined dataset:\n",
    "    p_combined = (success1 + success2) / (trials1 + trials2)\n",
    "\n",
    "    # the difference between the datasets' proportions\n",
    "    difference = p1 - p2\n",
    "    # calculating the statistic in standard deviations of the standard normal distribution\n",
    "    z_value = difference / mth.sqrt(p_combined * (1 - p_combined) * (1/trials1 + 1/trials2))\n",
    "\n",
    "    # setting up the standard normal distribution (mean 0, standard deviation 1)\n",
    "    distr = st.norm(0, 1)\n",
    "    # calculating the statistic in standard deviations of the standard normal distribution\n",
    "\n",
    "\n",
    "    p_value = (1 - distr.cdf(abs(z_value))) * 2\n",
    "\n",
    "    print('p-value: ', p_value)\n",
    "\n",
    "    if (p_value < alpha):\n",
    "        print(\"Rejecting the null hypothesis for\", event,\"and groups\", group1,group2)\n",
    "    else:\n",
    "        print(\"Failed to reject the null hypothesis for\",event,\"and groups\", group1,group2 )\n",
    "    "
   ]
  },
  {
   "cell_type": "code",
   "execution_count": 69,
   "id": "eaba461e",
   "metadata": {},
   "outputs": [
    {
     "name": "stdout",
     "output_type": "stream",
     "text": [
      "p-value:  0.3201520788748984\n",
      "Failed to reject the null hypothesis for login and groups A B\n"
     ]
    }
   ],
   "source": [
    "check_hypothesis(\"A\",\"B\",'login',alpha=0.01667)"
   ]
  },
  {
   "cell_type": "code",
   "execution_count": 70,
   "id": "cdc864a3",
   "metadata": {},
   "outputs": [
    {
     "name": "stdout",
     "output_type": "stream",
     "text": [
      "p-value:  0.12244077100223438\n",
      "Failed to reject the null hypothesis for product_page and groups A B\n"
     ]
    }
   ],
   "source": [
    "check_hypothesis(\"A\",\"B\",'product_page',alpha=0.01667)"
   ]
  },
  {
   "cell_type": "code",
   "execution_count": 71,
   "id": "67ec50f1",
   "metadata": {},
   "outputs": [
    {
     "name": "stdout",
     "output_type": "stream",
     "text": [
      "p-value:  0.021997971549269524\n",
      "Failed to reject the null hypothesis for purchase and groups A B\n"
     ]
    }
   ],
   "source": [
    "check_hypothesis(\"A\",\"B\",'purchase',alpha=0.01667)"
   ]
  },
  {
   "cell_type": "markdown",
   "id": "fffe1402",
   "metadata": {},
   "source": [
    "## 3 - Conclusion"
   ]
  },
  {
   "cell_type": "markdown",
   "id": "88c29666",
   "metadata": {},
   "source": [
    "Something in the A group went wrong, there are more purchase than product_cart. Mabye there is an express buy method.\n",
    "only the first event (product_page) shows there is a significant difference. The other events are not significant.\n"
   ]
  },
  {
   "cell_type": "markdown",
   "id": "05a2978d",
   "metadata": {},
   "source": [
    "## 4 General conclusion"
   ]
  },
  {
   "cell_type": "markdown",
   "id": "3e0c76d2",
   "metadata": {},
   "source": [
    "We notice all users that put something in the cart, purchased it. \\\n",
    "The groups are not equally distributed. \\\n",
    "There are no users in both groups \\\n",
    "the distribution of the purchase and product_cart is nearly the same "
   ]
  },
  {
   "cell_type": "markdown",
   "id": "8277082b",
   "metadata": {},
   "source": [
    "Something in the A group went wrong, there are more purchase than product_cart. Mabye there is an express buy method. \\\n",
    "Also threre is a good sign in the distribution between the events, they match the expected results. to match the logic outcome of the filter i kickt out the product_cart because its an optional event. Mabye there is an express buy method.\n",
    "only the first event (product_page) shows there is a significant difference. The other events are not significant."
   ]
  },
  {
   "cell_type": "markdown",
   "id": "4244eb90",
   "metadata": {},
   "source": [
    "## 5 Recommendation"
   ]
  },
  {
   "cell_type": "markdown",
   "id": "c81b9590",
   "metadata": {},
   "source": [
    "As result there is no significant difference between the group so we can't say the new funnel performs better. Special the timing of the test was a mistake. Chrismas manipulate the data, the groups are not equal wich means the test runs to short. I would recommend set up a new funnel to test and analyze the results on a better timing. Also improve the metric collecting system and KPI. The order of the funnel is messed up, special the option to skip a entire middle event"
   ]
  },
  {
   "cell_type": "code",
   "execution_count": null,
   "id": "6507247c",
   "metadata": {},
   "outputs": [],
   "source": []
  },
  {
   "cell_type": "markdown",
   "id": "b78faaf4",
   "metadata": {},
   "source": []
  }
 ],
 "metadata": {
  "ExecuteTimeLog": [
   {
    "duration": 7073,
    "start_time": "2021-06-25T14:20:28.042Z"
   },
   {
    "duration": 1306,
    "start_time": "2021-06-25T14:20:35.119Z"
   },
   {
    "duration": 5,
    "start_time": "2021-06-25T14:20:36.428Z"
   },
   {
    "duration": 517,
    "start_time": "2021-06-25T14:20:36.435Z"
   },
   {
    "duration": 63,
    "start_time": "2021-06-25T14:20:36.961Z"
   },
   {
    "duration": 9,
    "start_time": "2021-06-25T14:20:37.026Z"
   },
   {
    "duration": 148,
    "start_time": "2021-06-25T14:20:37.037Z"
   },
   {
    "duration": 283,
    "start_time": "2021-06-25T14:20:37.188Z"
   },
   {
    "duration": 11,
    "start_time": "2021-06-25T14:20:37.473Z"
   },
   {
    "duration": 24,
    "start_time": "2021-06-25T14:20:37.486Z"
   },
   {
    "duration": 15,
    "start_time": "2021-06-25T14:20:37.512Z"
   },
   {
    "duration": 57,
    "start_time": "2021-06-25T14:20:37.529Z"
   },
   {
    "duration": 9,
    "start_time": "2021-06-25T14:20:37.589Z"
   },
   {
    "duration": 32,
    "start_time": "2021-06-25T14:20:37.600Z"
   },
   {
    "duration": 35,
    "start_time": "2021-06-25T14:20:37.635Z"
   },
   {
    "duration": 200,
    "start_time": "2021-06-25T14:20:37.673Z"
   },
   {
    "duration": 18,
    "start_time": "2021-06-25T14:20:37.875Z"
   },
   {
    "duration": 125,
    "start_time": "2021-06-25T14:20:37.895Z"
   },
   {
    "duration": 15,
    "start_time": "2021-06-25T14:20:38.022Z"
   },
   {
    "duration": 28,
    "start_time": "2021-06-25T14:20:38.063Z"
   },
   {
    "duration": 6,
    "start_time": "2021-06-25T14:20:38.093Z"
   },
   {
    "duration": 657,
    "start_time": "2021-06-25T14:20:38.101Z"
   },
   {
    "duration": 17,
    "start_time": "2021-06-25T14:20:38.764Z"
   },
   {
    "duration": 10,
    "start_time": "2021-06-25T14:20:38.784Z"
   },
   {
    "duration": 17,
    "start_time": "2021-06-25T14:20:38.796Z"
   },
   {
    "duration": 62,
    "start_time": "2021-06-25T14:20:38.815Z"
   },
   {
    "duration": 20,
    "start_time": "2021-06-25T14:20:38.879Z"
   },
   {
    "duration": 10,
    "start_time": "2021-06-25T14:20:38.902Z"
   },
   {
    "duration": 15,
    "start_time": "2021-06-25T14:20:38.915Z"
   },
   {
    "duration": 6,
    "start_time": "2021-06-25T14:20:38.962Z"
   },
   {
    "duration": 1433,
    "start_time": "2021-06-25T14:20:38.971Z"
   },
   {
    "duration": -1017,
    "start_time": "2021-06-25T14:20:41.425Z"
   },
   {
    "duration": -1019,
    "start_time": "2021-06-25T14:20:41.429Z"
   },
   {
    "duration": -1021,
    "start_time": "2021-06-25T14:20:41.433Z"
   },
   {
    "duration": -1022,
    "start_time": "2021-06-25T14:20:41.436Z"
   },
   {
    "duration": -1023,
    "start_time": "2021-06-25T14:20:41.439Z"
   },
   {
    "duration": -1025,
    "start_time": "2021-06-25T14:20:41.443Z"
   },
   {
    "duration": -1026,
    "start_time": "2021-06-25T14:20:41.447Z"
   },
   {
    "duration": -1029,
    "start_time": "2021-06-25T14:20:41.451Z"
   },
   {
    "duration": -1031,
    "start_time": "2021-06-25T14:20:41.454Z"
   },
   {
    "duration": -1033,
    "start_time": "2021-06-25T14:20:41.458Z"
   },
   {
    "duration": -999,
    "start_time": "2021-06-25T14:20:41.461Z"
   },
   {
    "duration": -1002,
    "start_time": "2021-06-25T14:20:41.465Z"
   },
   {
    "duration": -1003,
    "start_time": "2021-06-25T14:20:41.468Z"
   },
   {
    "duration": -1005,
    "start_time": "2021-06-25T14:20:41.471Z"
   },
   {
    "duration": -1007,
    "start_time": "2021-06-25T14:20:41.475Z"
   },
   {
    "duration": -1009,
    "start_time": "2021-06-25T14:20:41.479Z"
   },
   {
    "duration": -1012,
    "start_time": "2021-06-25T14:20:41.483Z"
   },
   {
    "duration": -1014,
    "start_time": "2021-06-25T14:20:41.486Z"
   },
   {
    "duration": -1016,
    "start_time": "2021-06-25T14:20:41.490Z"
   },
   {
    "duration": -1054,
    "start_time": "2021-06-25T14:20:41.529Z"
   },
   {
    "duration": -1059,
    "start_time": "2021-06-25T14:20:41.536Z"
   },
   {
    "duration": -1061,
    "start_time": "2021-06-25T14:20:41.539Z"
   },
   {
    "duration": -1064,
    "start_time": "2021-06-25T14:20:41.543Z"
   },
   {
    "duration": -1066,
    "start_time": "2021-06-25T14:20:41.546Z"
   },
   {
    "duration": 10510,
    "start_time": "2021-06-25T14:22:39.199Z"
   },
   {
    "duration": 1413,
    "start_time": "2021-06-25T14:22:49.712Z"
   },
   {
    "duration": 5,
    "start_time": "2021-06-25T14:22:51.129Z"
   },
   {
    "duration": 559,
    "start_time": "2021-06-25T14:22:51.137Z"
   },
   {
    "duration": 87,
    "start_time": "2021-06-25T14:22:51.699Z"
   },
   {
    "duration": 12,
    "start_time": "2021-06-25T14:22:51.789Z"
   },
   {
    "duration": 140,
    "start_time": "2021-06-25T14:22:51.804Z"
   },
   {
    "duration": 289,
    "start_time": "2021-06-25T14:22:51.966Z"
   },
   {
    "duration": 12,
    "start_time": "2021-06-25T14:22:52.258Z"
   },
   {
    "duration": 12,
    "start_time": "2021-06-25T14:22:52.272Z"
   },
   {
    "duration": 16,
    "start_time": "2021-06-25T14:22:52.286Z"
   },
   {
    "duration": 73,
    "start_time": "2021-06-25T14:22:52.305Z"
   },
   {
    "duration": 11,
    "start_time": "2021-06-25T14:22:52.381Z"
   },
   {
    "duration": 67,
    "start_time": "2021-06-25T14:22:52.395Z"
   },
   {
    "duration": 18,
    "start_time": "2021-06-25T14:22:52.464Z"
   },
   {
    "duration": 206,
    "start_time": "2021-06-25T14:22:52.484Z"
   },
   {
    "duration": 17,
    "start_time": "2021-06-25T14:22:52.692Z"
   },
   {
    "duration": 120,
    "start_time": "2021-06-25T14:22:52.711Z"
   },
   {
    "duration": 38,
    "start_time": "2021-06-25T14:22:52.834Z"
   },
   {
    "duration": 29,
    "start_time": "2021-06-25T14:22:52.874Z"
   },
   {
    "duration": 6,
    "start_time": "2021-06-25T14:22:52.905Z"
   },
   {
    "duration": 654,
    "start_time": "2021-06-25T14:22:52.913Z"
   },
   {
    "duration": 17,
    "start_time": "2021-06-25T14:22:53.573Z"
   },
   {
    "duration": 10,
    "start_time": "2021-06-25T14:22:53.592Z"
   },
   {
    "duration": 17,
    "start_time": "2021-06-25T14:22:53.604Z"
   },
   {
    "duration": 61,
    "start_time": "2021-06-25T14:22:53.623Z"
   },
   {
    "duration": 16,
    "start_time": "2021-06-25T14:22:53.686Z"
   },
   {
    "duration": 6,
    "start_time": "2021-06-25T14:22:53.704Z"
   },
   {
    "duration": 8,
    "start_time": "2021-06-25T14:22:53.712Z"
   },
   {
    "duration": 39,
    "start_time": "2021-06-25T14:22:53.722Z"
   },
   {
    "duration": 667,
    "start_time": "2021-06-25T14:22:53.764Z"
   },
   {
    "duration": 51,
    "start_time": "2021-06-25T14:22:54.433Z"
   },
   {
    "duration": 28,
    "start_time": "2021-06-25T14:22:54.486Z"
   },
   {
    "duration": 58,
    "start_time": "2021-06-25T14:22:54.516Z"
   },
   {
    "duration": 21,
    "start_time": "2021-06-25T14:22:54.577Z"
   },
   {
    "duration": 27,
    "start_time": "2021-06-25T14:22:54.601Z"
   },
   {
    "duration": 42,
    "start_time": "2021-06-25T14:22:54.631Z"
   },
   {
    "duration": 9,
    "start_time": "2021-06-25T14:22:54.675Z"
   },
   {
    "duration": 29,
    "start_time": "2021-06-25T14:22:54.687Z"
   },
   {
    "duration": 1393,
    "start_time": "2021-06-25T14:22:54.719Z"
   },
   {
    "duration": 11,
    "start_time": "2021-06-25T14:22:56.114Z"
   },
   {
    "duration": 1086,
    "start_time": "2021-06-25T14:22:56.128Z"
   },
   {
    "duration": 22,
    "start_time": "2021-06-25T14:22:57.217Z"
   },
   {
    "duration": 588,
    "start_time": "2021-06-25T14:22:57.241Z"
   },
   {
    "duration": -903,
    "start_time": "2021-06-25T14:22:58.735Z"
   },
   {
    "duration": -925,
    "start_time": "2021-06-25T14:22:58.758Z"
   },
   {
    "duration": -941,
    "start_time": "2021-06-25T14:22:58.776Z"
   },
   {
    "duration": -992,
    "start_time": "2021-06-25T14:22:58.828Z"
   },
   {
    "duration": -993,
    "start_time": "2021-06-25T14:22:58.831Z"
   },
   {
    "duration": -1010,
    "start_time": "2021-06-25T14:22:58.849Z"
   },
   {
    "duration": -1019,
    "start_time": "2021-06-25T14:22:58.859Z"
   },
   {
    "duration": -1022,
    "start_time": "2021-06-25T14:22:58.864Z"
   },
   {
    "duration": -1024,
    "start_time": "2021-06-25T14:22:58.867Z"
   },
   {
    "duration": -1027,
    "start_time": "2021-06-25T14:22:58.871Z"
   },
   {
    "duration": -1028,
    "start_time": "2021-06-25T14:22:58.874Z"
   },
   {
    "duration": 14646,
    "start_time": "2021-06-25T14:23:55.945Z"
   },
   {
    "duration": 954,
    "start_time": "2021-06-25T14:24:10.595Z"
   },
   {
    "duration": 5,
    "start_time": "2021-06-25T14:24:11.551Z"
   },
   {
    "duration": 660,
    "start_time": "2021-06-25T14:24:11.559Z"
   },
   {
    "duration": 77,
    "start_time": "2021-06-25T14:24:12.222Z"
   },
   {
    "duration": 10,
    "start_time": "2021-06-25T14:24:12.301Z"
   },
   {
    "duration": 165,
    "start_time": "2021-06-25T14:24:12.314Z"
   },
   {
    "duration": 322,
    "start_time": "2021-06-25T14:24:12.482Z"
   },
   {
    "duration": 11,
    "start_time": "2021-06-25T14:24:12.810Z"
   },
   {
    "duration": 36,
    "start_time": "2021-06-25T14:24:12.825Z"
   },
   {
    "duration": 18,
    "start_time": "2021-06-25T14:24:12.864Z"
   },
   {
    "duration": 31,
    "start_time": "2021-06-25T14:24:12.886Z"
   },
   {
    "duration": 44,
    "start_time": "2021-06-25T14:24:12.920Z"
   },
   {
    "duration": 45,
    "start_time": "2021-06-25T14:24:12.967Z"
   },
   {
    "duration": 19,
    "start_time": "2021-06-25T14:24:13.015Z"
   },
   {
    "duration": 188,
    "start_time": "2021-06-25T14:24:13.062Z"
   },
   {
    "duration": 22,
    "start_time": "2021-06-25T14:24:13.253Z"
   },
   {
    "duration": 121,
    "start_time": "2021-06-25T14:24:13.278Z"
   },
   {
    "duration": 16,
    "start_time": "2021-06-25T14:24:13.402Z"
   },
   {
    "duration": 58,
    "start_time": "2021-06-25T14:24:13.420Z"
   },
   {
    "duration": 5,
    "start_time": "2021-06-25T14:24:13.481Z"
   },
   {
    "duration": 619,
    "start_time": "2021-06-25T14:24:13.488Z"
   },
   {
    "duration": 17,
    "start_time": "2021-06-25T14:24:14.109Z"
   },
   {
    "duration": 21,
    "start_time": "2021-06-25T14:24:14.128Z"
   },
   {
    "duration": 25,
    "start_time": "2021-06-25T14:24:14.151Z"
   },
   {
    "duration": 28,
    "start_time": "2021-06-25T14:24:14.179Z"
   },
   {
    "duration": 16,
    "start_time": "2021-06-25T14:24:14.212Z"
   },
   {
    "duration": 7,
    "start_time": "2021-06-25T14:24:14.263Z"
   },
   {
    "duration": 11,
    "start_time": "2021-06-25T14:24:14.272Z"
   },
   {
    "duration": 6,
    "start_time": "2021-06-25T14:24:14.287Z"
   },
   {
    "duration": 958,
    "start_time": "2021-06-25T14:24:14.295Z"
   },
   {
    "duration": 61,
    "start_time": "2021-06-25T14:24:15.256Z"
   },
   {
    "duration": 60,
    "start_time": "2021-06-25T14:24:15.321Z"
   },
   {
    "duration": 35,
    "start_time": "2021-06-25T14:24:15.384Z"
   },
   {
    "duration": 17,
    "start_time": "2021-06-25T14:24:15.421Z"
   },
   {
    "duration": 31,
    "start_time": "2021-06-25T14:24:15.440Z"
   },
   {
    "duration": 25,
    "start_time": "2021-06-25T14:24:15.474Z"
   },
   {
    "duration": 10,
    "start_time": "2021-06-25T14:24:15.501Z"
   },
   {
    "duration": 66,
    "start_time": "2021-06-25T14:24:15.513Z"
   },
   {
    "duration": 1387,
    "start_time": "2021-06-25T14:24:15.582Z"
   },
   {
    "duration": 10,
    "start_time": "2021-06-25T14:24:16.971Z"
   },
   {
    "duration": 1295,
    "start_time": "2021-06-25T14:24:16.983Z"
   },
   {
    "duration": 24,
    "start_time": "2021-06-25T14:24:18.281Z"
   },
   {
    "duration": 571,
    "start_time": "2021-06-25T14:24:18.307Z"
   },
   {
    "duration": -890,
    "start_time": "2021-06-25T14:24:19.772Z"
   },
   {
    "duration": -896,
    "start_time": "2021-06-25T14:24:19.780Z"
   },
   {
    "duration": -897,
    "start_time": "2021-06-25T14:24:19.783Z"
   },
   {
    "duration": -897,
    "start_time": "2021-06-25T14:24:19.786Z"
   },
   {
    "duration": -898,
    "start_time": "2021-06-25T14:24:19.789Z"
   },
   {
    "duration": -899,
    "start_time": "2021-06-25T14:24:19.793Z"
   },
   {
    "duration": -905,
    "start_time": "2021-06-25T14:24:19.801Z"
   },
   {
    "duration": -984,
    "start_time": "2021-06-25T14:24:19.882Z"
   },
   {
    "duration": -994,
    "start_time": "2021-06-25T14:24:19.894Z"
   },
   {
    "duration": -995,
    "start_time": "2021-06-25T14:24:19.898Z"
   },
   {
    "duration": -996,
    "start_time": "2021-06-25T14:24:19.901Z"
   },
   {
    "duration": 37506,
    "start_time": "2021-06-25T14:24:59.504Z"
   },
   {
    "duration": 16610,
    "start_time": "2021-06-25T14:25:46.309Z"
   },
   {
    "duration": 1266,
    "start_time": "2021-06-25T14:26:02.922Z"
   },
   {
    "duration": 5,
    "start_time": "2021-06-25T14:26:04.191Z"
   },
   {
    "duration": 563,
    "start_time": "2021-06-25T14:26:04.199Z"
   },
   {
    "duration": 69,
    "start_time": "2021-06-25T14:26:04.765Z"
   },
   {
    "duration": 31,
    "start_time": "2021-06-25T14:26:04.836Z"
   },
   {
    "duration": 124,
    "start_time": "2021-06-25T14:26:04.869Z"
   },
   {
    "duration": 295,
    "start_time": "2021-06-25T14:26:04.997Z"
   },
   {
    "duration": 10,
    "start_time": "2021-06-25T14:26:05.295Z"
   },
   {
    "duration": 15,
    "start_time": "2021-06-25T14:26:05.308Z"
   },
   {
    "duration": 36,
    "start_time": "2021-06-25T14:26:05.326Z"
   },
   {
    "duration": 31,
    "start_time": "2021-06-25T14:26:05.364Z"
   },
   {
    "duration": 9,
    "start_time": "2021-06-25T14:26:05.397Z"
   },
   {
    "duration": 71,
    "start_time": "2021-06-25T14:26:05.409Z"
   },
   {
    "duration": 22,
    "start_time": "2021-06-25T14:26:05.483Z"
   },
   {
    "duration": 303,
    "start_time": "2021-06-25T14:26:05.508Z"
   },
   {
    "duration": 25,
    "start_time": "2021-06-25T14:26:05.814Z"
   },
   {
    "duration": 174,
    "start_time": "2021-06-25T14:26:05.842Z"
   },
   {
    "duration": 16,
    "start_time": "2021-06-25T14:26:06.018Z"
   },
   {
    "duration": 52,
    "start_time": "2021-06-25T14:26:06.037Z"
   },
   {
    "duration": 6,
    "start_time": "2021-06-25T14:26:06.091Z"
   },
   {
    "duration": 644,
    "start_time": "2021-06-25T14:26:06.100Z"
   },
   {
    "duration": 22,
    "start_time": "2021-06-25T14:26:06.750Z"
   },
   {
    "duration": 11,
    "start_time": "2021-06-25T14:26:06.775Z"
   },
   {
    "duration": 18,
    "start_time": "2021-06-25T14:26:06.788Z"
   },
   {
    "duration": 67,
    "start_time": "2021-06-25T14:26:06.808Z"
   },
   {
    "duration": 17,
    "start_time": "2021-06-25T14:26:06.877Z"
   },
   {
    "duration": 6,
    "start_time": "2021-06-25T14:26:06.897Z"
   },
   {
    "duration": 11,
    "start_time": "2021-06-25T14:26:06.906Z"
   },
   {
    "duration": 5,
    "start_time": "2021-06-25T14:26:06.919Z"
   },
   {
    "duration": 672,
    "start_time": "2021-06-25T14:26:06.962Z"
   },
   {
    "duration": 68,
    "start_time": "2021-06-25T14:26:07.637Z"
   },
   {
    "duration": 554,
    "start_time": "2021-06-25T14:26:07.708Z"
   },
   {
    "duration": 420,
    "start_time": "2021-06-25T14:26:08.265Z"
   },
   {
    "duration": 24,
    "start_time": "2021-06-25T14:26:08.688Z"
   },
   {
    "duration": 14,
    "start_time": "2021-06-25T14:26:08.715Z"
   },
   {
    "duration": 58,
    "start_time": "2021-06-25T14:26:08.732Z"
   },
   {
    "duration": 9,
    "start_time": "2021-06-25T14:26:08.793Z"
   },
   {
    "duration": 61,
    "start_time": "2021-06-25T14:26:08.805Z"
   },
   {
    "duration": 1417,
    "start_time": "2021-06-25T14:26:08.869Z"
   },
   {
    "duration": 10,
    "start_time": "2021-06-25T14:26:10.288Z"
   },
   {
    "duration": 1165,
    "start_time": "2021-06-25T14:26:10.300Z"
   },
   {
    "duration": 21,
    "start_time": "2021-06-25T14:26:11.468Z"
   },
   {
    "duration": 664,
    "start_time": "2021-06-25T14:26:11.491Z"
   },
   {
    "duration": 29,
    "start_time": "2021-06-25T14:26:12.157Z"
   },
   {
    "duration": 4,
    "start_time": "2021-06-25T14:26:12.189Z"
   },
   {
    "duration": 6,
    "start_time": "2021-06-25T14:26:12.196Z"
   },
   {
    "duration": 9,
    "start_time": "2021-06-25T14:26:12.205Z"
   },
   {
    "duration": 64,
    "start_time": "2021-06-25T14:26:12.216Z"
   },
   {
    "duration": 8,
    "start_time": "2021-06-25T14:26:12.282Z"
   },
   {
    "duration": 15,
    "start_time": "2021-06-25T14:26:12.292Z"
   },
   {
    "duration": 60,
    "start_time": "2021-06-25T14:26:12.309Z"
   },
   {
    "duration": 26,
    "start_time": "2021-06-25T14:26:12.372Z"
   },
   {
    "duration": 78,
    "start_time": "2021-06-25T14:26:12.401Z"
   },
   {
    "duration": 20,
    "start_time": "2021-06-25T14:26:12.481Z"
   },
   {
    "duration": 161116,
    "start_time": "2021-06-25T15:50:14.563Z"
   },
   {
    "duration": 1000,
    "start_time": "2021-06-25T15:52:55.681Z"
   },
   {
    "duration": 5,
    "start_time": "2021-06-25T15:52:56.684Z"
   },
   {
    "duration": 567,
    "start_time": "2021-06-25T15:52:56.691Z"
   },
   {
    "duration": 116,
    "start_time": "2021-06-25T15:52:57.260Z"
   },
   {
    "duration": 10,
    "start_time": "2021-06-25T15:52:57.379Z"
   },
   {
    "duration": 137,
    "start_time": "2021-06-25T15:52:57.392Z"
   },
   {
    "duration": 271,
    "start_time": "2021-06-25T15:52:57.533Z"
   },
   {
    "duration": 23,
    "start_time": "2021-06-25T15:52:57.807Z"
   },
   {
    "duration": 25,
    "start_time": "2021-06-25T15:52:57.833Z"
   },
   {
    "duration": 27,
    "start_time": "2021-06-25T15:52:57.860Z"
   },
   {
    "duration": 45,
    "start_time": "2021-06-25T15:52:57.890Z"
   },
   {
    "duration": 10,
    "start_time": "2021-06-25T15:52:57.937Z"
   },
   {
    "duration": 5,
    "start_time": "2021-06-25T15:52:57.949Z"
   },
   {
    "duration": 19,
    "start_time": "2021-06-25T15:52:57.957Z"
   },
   {
    "duration": 208,
    "start_time": "2021-06-25T15:52:57.978Z"
   },
   {
    "duration": 17,
    "start_time": "2021-06-25T15:52:58.189Z"
   },
   {
    "duration": 149,
    "start_time": "2021-06-25T15:52:58.208Z"
   },
   {
    "duration": 16,
    "start_time": "2021-06-25T15:52:58.359Z"
   },
   {
    "duration": 56,
    "start_time": "2021-06-25T15:52:58.379Z"
   },
   {
    "duration": 8,
    "start_time": "2021-06-25T15:52:58.438Z"
   },
   {
    "duration": 404,
    "start_time": "2021-06-25T15:52:58.449Z"
   },
   {
    "duration": 19,
    "start_time": "2021-06-25T15:52:58.860Z"
   },
   {
    "duration": 9,
    "start_time": "2021-06-25T15:52:58.884Z"
   },
   {
    "duration": 45,
    "start_time": "2021-06-25T15:52:58.895Z"
   },
   {
    "duration": 33,
    "start_time": "2021-06-25T15:52:58.944Z"
   },
   {
    "duration": 53,
    "start_time": "2021-06-25T15:52:58.980Z"
   },
   {
    "duration": 6,
    "start_time": "2021-06-25T15:52:59.036Z"
   },
   {
    "duration": 14,
    "start_time": "2021-06-25T15:52:59.044Z"
   },
   {
    "duration": 15,
    "start_time": "2021-06-25T15:52:59.060Z"
   },
   {
    "duration": 563,
    "start_time": "2021-06-25T15:52:59.078Z"
   },
   {
    "duration": 41,
    "start_time": "2021-06-25T15:52:59.643Z"
   },
   {
    "duration": 51,
    "start_time": "2021-06-25T15:52:59.686Z"
   },
   {
    "duration": 35,
    "start_time": "2021-06-25T15:52:59.740Z"
   },
   {
    "duration": 19,
    "start_time": "2021-06-25T15:52:59.778Z"
   },
   {
    "duration": 76,
    "start_time": "2021-06-25T15:52:59.825Z"
   },
   {
    "duration": 38,
    "start_time": "2021-06-25T15:52:59.904Z"
   },
   {
    "duration": 10,
    "start_time": "2021-06-25T15:52:59.945Z"
   },
   {
    "duration": 28,
    "start_time": "2021-06-25T15:52:59.958Z"
   },
   {
    "duration": 1081,
    "start_time": "2021-06-25T15:52:59.989Z"
   },
   {
    "duration": 9,
    "start_time": "2021-06-25T15:53:01.073Z"
   },
   {
    "duration": 777,
    "start_time": "2021-06-25T15:53:01.085Z"
   },
   {
    "duration": 13,
    "start_time": "2021-06-25T15:53:01.865Z"
   },
   {
    "duration": 18833,
    "start_time": "2021-06-25T15:53:01.881Z"
   },
   {
    "duration": 29,
    "start_time": "2021-06-25T15:53:20.716Z"
   },
   {
    "duration": 4,
    "start_time": "2021-06-25T15:53:20.748Z"
   },
   {
    "duration": 14,
    "start_time": "2021-06-25T15:53:20.754Z"
   },
   {
    "duration": 54,
    "start_time": "2021-06-25T15:53:20.770Z"
   },
   {
    "duration": 31,
    "start_time": "2021-06-25T15:53:20.827Z"
   },
   {
    "duration": 11,
    "start_time": "2021-06-25T15:53:20.860Z"
   },
   {
    "duration": 59,
    "start_time": "2021-06-25T15:53:20.873Z"
   },
   {
    "duration": 9,
    "start_time": "2021-06-25T15:53:20.934Z"
   },
   {
    "duration": 81,
    "start_time": "2021-06-25T15:53:20.945Z"
   },
   {
    "duration": 18,
    "start_time": "2021-06-25T15:53:21.028Z"
   },
   {
    "duration": 17,
    "start_time": "2021-06-25T15:53:21.049Z"
   },
   {
    "duration": 28778,
    "start_time": "2021-06-25T20:32:53.552Z"
   },
   {
    "duration": 981,
    "start_time": "2021-06-25T20:33:22.333Z"
   },
   {
    "duration": 5,
    "start_time": "2021-06-25T20:33:23.318Z"
   },
   {
    "duration": 594,
    "start_time": "2021-06-25T20:33:23.326Z"
   },
   {
    "duration": 78,
    "start_time": "2021-06-25T20:33:23.922Z"
   },
   {
    "duration": 9,
    "start_time": "2021-06-25T20:33:24.002Z"
   },
   {
    "duration": 117,
    "start_time": "2021-06-25T20:33:24.014Z"
   },
   {
    "duration": 364,
    "start_time": "2021-06-25T20:33:24.134Z"
   },
   {
    "duration": 12,
    "start_time": "2021-06-25T20:33:24.502Z"
   },
   {
    "duration": 21,
    "start_time": "2021-06-25T20:33:24.518Z"
   },
   {
    "duration": 23,
    "start_time": "2021-06-25T20:33:24.542Z"
   },
   {
    "duration": 79,
    "start_time": "2021-06-25T20:33:24.568Z"
   },
   {
    "duration": 12,
    "start_time": "2021-06-25T20:33:24.649Z"
   },
   {
    "duration": 45,
    "start_time": "2021-06-25T20:33:24.664Z"
   },
   {
    "duration": 22,
    "start_time": "2021-06-25T20:33:24.712Z"
   },
   {
    "duration": 335,
    "start_time": "2021-06-25T20:33:24.737Z"
   },
   {
    "duration": 70,
    "start_time": "2021-06-25T20:33:25.075Z"
   },
   {
    "duration": 320,
    "start_time": "2021-06-25T20:33:25.148Z"
   },
   {
    "duration": 22,
    "start_time": "2021-06-25T20:33:25.471Z"
   },
   {
    "duration": 171,
    "start_time": "2021-06-25T20:33:25.496Z"
   },
   {
    "duration": 15,
    "start_time": "2021-06-25T20:33:25.670Z"
   },
   {
    "duration": 3246,
    "start_time": "2021-06-25T20:33:25.688Z"
   },
   {
    "duration": 27,
    "start_time": "2021-06-25T20:33:28.936Z"
   },
   {
    "duration": 27,
    "start_time": "2021-06-25T20:33:28.966Z"
   },
   {
    "duration": 18,
    "start_time": "2021-06-25T20:33:28.995Z"
   },
   {
    "duration": 125,
    "start_time": "2021-06-25T20:33:29.016Z"
   },
   {
    "duration": 39,
    "start_time": "2021-06-25T20:33:29.147Z"
   },
   {
    "duration": 26,
    "start_time": "2021-06-25T20:33:29.190Z"
   },
   {
    "duration": 14,
    "start_time": "2021-06-25T20:33:29.220Z"
   },
   {
    "duration": 5,
    "start_time": "2021-06-25T20:33:29.261Z"
   },
   {
    "duration": 1051,
    "start_time": "2021-06-25T20:33:29.270Z"
   },
   {
    "duration": 69,
    "start_time": "2021-06-25T20:33:30.324Z"
   },
   {
    "duration": 45,
    "start_time": "2021-06-25T20:33:30.396Z"
   },
   {
    "duration": 70,
    "start_time": "2021-06-25T20:33:30.443Z"
   },
   {
    "duration": 18,
    "start_time": "2021-06-25T20:33:30.516Z"
   },
   {
    "duration": 31,
    "start_time": "2021-06-25T20:33:30.562Z"
   },
   {
    "duration": 74,
    "start_time": "2021-06-25T20:33:30.595Z"
   },
   {
    "duration": 8,
    "start_time": "2021-06-25T20:33:30.671Z"
   },
   {
    "duration": 48,
    "start_time": "2021-06-25T20:33:30.682Z"
   },
   {
    "duration": 1587,
    "start_time": "2021-06-25T20:33:30.733Z"
   },
   {
    "duration": 22,
    "start_time": "2021-06-25T20:33:32.322Z"
   },
   {
    "duration": 2047,
    "start_time": "2021-06-25T20:33:32.363Z"
   },
   {
    "duration": 103,
    "start_time": "2021-06-25T20:33:34.413Z"
   },
   {
    "duration": 874,
    "start_time": "2021-06-25T20:33:34.519Z"
   },
   {
    "duration": 105,
    "start_time": "2021-06-25T20:33:35.397Z"
   },
   {
    "duration": 62,
    "start_time": "2021-06-25T20:33:35.505Z"
   },
   {
    "duration": 8,
    "start_time": "2021-06-25T20:33:35.571Z"
   },
   {
    "duration": 13,
    "start_time": "2021-06-25T20:33:35.582Z"
   },
   {
    "duration": 100,
    "start_time": "2021-06-25T20:33:35.600Z"
   },
   {
    "duration": 6,
    "start_time": "2021-06-25T20:33:35.706Z"
   },
   {
    "duration": 21,
    "start_time": "2021-06-25T20:33:35.715Z"
   },
   {
    "duration": 13,
    "start_time": "2021-06-25T20:33:35.764Z"
   },
   {
    "duration": 53,
    "start_time": "2021-06-25T20:33:35.781Z"
   },
   {
    "duration": 62,
    "start_time": "2021-06-25T20:33:35.838Z"
   },
   {
    "duration": 61,
    "start_time": "2021-06-25T20:33:35.903Z"
   },
   {
    "duration": 8837,
    "start_time": "2021-06-25T20:35:36.872Z"
   },
   {
    "duration": 929,
    "start_time": "2021-06-25T20:35:45.712Z"
   },
   {
    "duration": 5,
    "start_time": "2021-06-25T20:35:46.644Z"
   },
   {
    "duration": 549,
    "start_time": "2021-06-25T20:35:46.651Z"
   },
   {
    "duration": 86,
    "start_time": "2021-06-25T20:35:47.203Z"
   },
   {
    "duration": 10,
    "start_time": "2021-06-25T20:35:47.291Z"
   },
   {
    "duration": 129,
    "start_time": "2021-06-25T20:35:47.303Z"
   },
   {
    "duration": 448,
    "start_time": "2021-06-25T20:35:47.436Z"
   },
   {
    "duration": 16,
    "start_time": "2021-06-25T20:35:47.890Z"
   },
   {
    "duration": 20,
    "start_time": "2021-06-25T20:35:47.910Z"
   },
   {
    "duration": 47,
    "start_time": "2021-06-25T20:35:47.933Z"
   },
   {
    "duration": 42,
    "start_time": "2021-06-25T20:35:47.983Z"
   },
   {
    "duration": 38,
    "start_time": "2021-06-25T20:35:48.028Z"
   },
   {
    "duration": 35,
    "start_time": "2021-06-25T20:35:48.069Z"
   },
   {
    "duration": 23,
    "start_time": "2021-06-25T20:35:48.107Z"
   },
   {
    "duration": 339,
    "start_time": "2021-06-25T20:35:48.133Z"
   },
   {
    "duration": 70,
    "start_time": "2021-06-25T20:35:48.475Z"
   },
   {
    "duration": 334,
    "start_time": "2021-06-25T20:35:48.548Z"
   },
   {
    "duration": 23,
    "start_time": "2021-06-25T20:35:48.885Z"
   },
   {
    "duration": 72,
    "start_time": "2021-06-25T20:35:48.910Z"
   },
   {
    "duration": 10,
    "start_time": "2021-06-25T20:35:48.984Z"
   },
   {
    "duration": 2204,
    "start_time": "2021-06-25T20:35:48.996Z"
   },
   {
    "duration": 17,
    "start_time": "2021-06-25T20:35:51.203Z"
   },
   {
    "duration": 39,
    "start_time": "2021-06-25T20:35:51.223Z"
   },
   {
    "duration": 22,
    "start_time": "2021-06-25T20:35:51.264Z"
   },
   {
    "duration": 113,
    "start_time": "2021-06-25T20:35:51.289Z"
   },
   {
    "duration": 34,
    "start_time": "2021-06-25T20:35:51.407Z"
   },
   {
    "duration": 30,
    "start_time": "2021-06-25T20:35:51.444Z"
   },
   {
    "duration": 18,
    "start_time": "2021-06-25T20:35:51.476Z"
   },
   {
    "duration": 4,
    "start_time": "2021-06-25T20:35:51.496Z"
   },
   {
    "duration": 742,
    "start_time": "2021-06-25T20:35:51.503Z"
   },
   {
    "duration": 68,
    "start_time": "2021-06-25T20:35:52.248Z"
   },
   {
    "duration": 56,
    "start_time": "2021-06-25T20:35:52.318Z"
   },
   {
    "duration": 54,
    "start_time": "2021-06-25T20:35:52.376Z"
   },
   {
    "duration": 34,
    "start_time": "2021-06-25T20:35:52.432Z"
   },
   {
    "duration": 17,
    "start_time": "2021-06-25T20:35:52.469Z"
   },
   {
    "duration": 78,
    "start_time": "2021-06-25T20:35:52.488Z"
   },
   {
    "duration": 7,
    "start_time": "2021-06-25T20:35:52.569Z"
   },
   {
    "duration": 42,
    "start_time": "2021-06-25T20:35:52.578Z"
   },
   {
    "duration": 1574,
    "start_time": "2021-06-25T20:35:52.623Z"
   },
   {
    "duration": 3,
    "start_time": "2021-06-25T20:35:54.200Z"
   },
   {
    "duration": 1753,
    "start_time": "2021-06-25T20:35:54.205Z"
   },
   {
    "duration": 84,
    "start_time": "2021-06-25T20:35:55.962Z"
   },
   {
    "duration": 581,
    "start_time": "2021-06-25T20:35:56.048Z"
   },
   {
    "duration": 75,
    "start_time": "2021-06-25T20:35:56.631Z"
   },
   {
    "duration": 57,
    "start_time": "2021-06-25T20:35:56.708Z"
   },
   {
    "duration": 12,
    "start_time": "2021-06-25T20:35:56.768Z"
   },
   {
    "duration": 25,
    "start_time": "2021-06-25T20:35:56.783Z"
   },
   {
    "duration": 59,
    "start_time": "2021-06-25T20:35:56.810Z"
   },
   {
    "duration": 19,
    "start_time": "2021-06-25T20:35:56.871Z"
   },
   {
    "duration": 33,
    "start_time": "2021-06-25T20:35:56.893Z"
   },
   {
    "duration": 13,
    "start_time": "2021-06-25T20:35:56.929Z"
   },
   {
    "duration": 58,
    "start_time": "2021-06-25T20:35:56.944Z"
   },
   {
    "duration": 38,
    "start_time": "2021-06-25T20:35:57.004Z"
   },
   {
    "duration": 57,
    "start_time": "2021-06-25T20:35:57.044Z"
   },
   {
    "duration": 595,
    "start_time": "2021-06-25T20:39:37.665Z"
   },
   {
    "duration": 8729,
    "start_time": "2021-06-25T20:39:51.375Z"
   },
   {
    "duration": 995,
    "start_time": "2021-06-25T20:40:00.107Z"
   },
   {
    "duration": 5,
    "start_time": "2021-06-25T20:40:01.105Z"
   },
   {
    "duration": 573,
    "start_time": "2021-06-25T20:40:01.112Z"
   },
   {
    "duration": 90,
    "start_time": "2021-06-25T20:40:01.687Z"
   },
   {
    "duration": 9,
    "start_time": "2021-06-25T20:40:01.779Z"
   },
   {
    "duration": 128,
    "start_time": "2021-06-25T20:40:01.791Z"
   },
   {
    "duration": 308,
    "start_time": "2021-06-25T20:40:01.921Z"
   },
   {
    "duration": 28,
    "start_time": "2021-06-25T20:40:02.234Z"
   },
   {
    "duration": 12,
    "start_time": "2021-06-25T20:40:02.266Z"
   },
   {
    "duration": 24,
    "start_time": "2021-06-25T20:40:02.281Z"
   },
   {
    "duration": 54,
    "start_time": "2021-06-25T20:40:02.308Z"
   },
   {
    "duration": 14,
    "start_time": "2021-06-25T20:40:02.364Z"
   },
   {
    "duration": 40,
    "start_time": "2021-06-25T20:40:02.381Z"
   },
   {
    "duration": 43,
    "start_time": "2021-06-25T20:40:02.424Z"
   },
   {
    "duration": 324,
    "start_time": "2021-06-25T20:40:02.470Z"
   },
   {
    "duration": 78,
    "start_time": "2021-06-25T20:40:02.797Z"
   },
   {
    "duration": 236,
    "start_time": "2021-06-25T20:40:02.878Z"
   },
   {
    "duration": 16,
    "start_time": "2021-06-25T20:40:03.116Z"
   },
   {
    "duration": 66,
    "start_time": "2021-06-25T20:40:03.135Z"
   },
   {
    "duration": 9,
    "start_time": "2021-06-25T20:40:03.203Z"
   },
   {
    "duration": 2124,
    "start_time": "2021-06-25T20:40:03.214Z"
   },
   {
    "duration": 22,
    "start_time": "2021-06-25T20:40:05.341Z"
   },
   {
    "duration": 21,
    "start_time": "2021-06-25T20:40:05.366Z"
   },
   {
    "duration": 18,
    "start_time": "2021-06-25T20:40:05.390Z"
   },
   {
    "duration": 157,
    "start_time": "2021-06-25T20:40:05.411Z"
   },
   {
    "duration": 37,
    "start_time": "2021-06-25T20:40:05.577Z"
   },
   {
    "duration": 12,
    "start_time": "2021-06-25T20:40:05.617Z"
   },
   {
    "duration": 42,
    "start_time": "2021-06-25T20:40:05.631Z"
   },
   {
    "duration": 6,
    "start_time": "2021-06-25T20:40:05.675Z"
   },
   {
    "duration": 729,
    "start_time": "2021-06-25T20:40:05.683Z"
   },
   {
    "duration": 71,
    "start_time": "2021-06-25T20:40:06.414Z"
   },
   {
    "duration": 43,
    "start_time": "2021-06-25T20:40:06.488Z"
   },
   {
    "duration": 69,
    "start_time": "2021-06-25T20:40:06.533Z"
   },
   {
    "duration": 18,
    "start_time": "2021-06-25T20:40:06.605Z"
   },
   {
    "duration": 42,
    "start_time": "2021-06-25T20:40:06.625Z"
   },
   {
    "duration": 56,
    "start_time": "2021-06-25T20:40:06.669Z"
   },
   {
    "duration": 8,
    "start_time": "2021-06-25T20:40:06.727Z"
   },
   {
    "duration": 43,
    "start_time": "2021-06-25T20:40:06.738Z"
   },
   {
    "duration": 1558,
    "start_time": "2021-06-25T20:40:06.784Z"
   },
   {
    "duration": 2,
    "start_time": "2021-06-25T20:40:08.345Z"
   },
   {
    "duration": 1644,
    "start_time": "2021-06-25T20:40:08.350Z"
   },
   {
    "duration": 97,
    "start_time": "2021-06-25T20:40:09.996Z"
   },
   {
    "duration": 579,
    "start_time": "2021-06-25T20:40:10.095Z"
   },
   {
    "duration": 106,
    "start_time": "2021-06-25T20:40:10.677Z"
   },
   {
    "duration": 5,
    "start_time": "2021-06-25T20:40:10.785Z"
   },
   {
    "duration": 19,
    "start_time": "2021-06-25T20:40:10.792Z"
   },
   {
    "duration": 55,
    "start_time": "2021-06-25T20:40:10.813Z"
   },
   {
    "duration": 23,
    "start_time": "2021-06-25T20:40:10.871Z"
   },
   {
    "duration": 16,
    "start_time": "2021-06-25T20:40:10.896Z"
   },
   {
    "duration": 10,
    "start_time": "2021-06-25T20:40:10.963Z"
   },
   {
    "duration": 17,
    "start_time": "2021-06-25T20:40:10.975Z"
   },
   {
    "duration": 69,
    "start_time": "2021-06-25T20:40:10.994Z"
   },
   {
    "duration": 41,
    "start_time": "2021-06-25T20:40:11.066Z"
   },
   {
    "duration": 66,
    "start_time": "2021-06-25T20:40:11.109Z"
   },
   {
    "duration": 575,
    "start_time": "2021-06-25T20:41:39.693Z"
   },
   {
    "duration": 18,
    "start_time": "2021-06-25T20:41:54.539Z"
   },
   {
    "duration": 358,
    "start_time": "2021-06-25T20:42:04.690Z"
   },
   {
    "duration": 339,
    "start_time": "2021-06-25T20:42:11.456Z"
   },
   {
    "duration": 8885,
    "start_time": "2021-06-25T20:42:46.731Z"
   },
   {
    "duration": 969,
    "start_time": "2021-06-25T20:42:55.619Z"
   },
   {
    "duration": 5,
    "start_time": "2021-06-25T20:42:56.592Z"
   },
   {
    "duration": 584,
    "start_time": "2021-06-25T20:42:56.601Z"
   },
   {
    "duration": 84,
    "start_time": "2021-06-25T20:42:57.188Z"
   },
   {
    "duration": 11,
    "start_time": "2021-06-25T20:42:57.275Z"
   },
   {
    "duration": 146,
    "start_time": "2021-06-25T20:42:57.290Z"
   },
   {
    "duration": 335,
    "start_time": "2021-06-25T20:42:57.439Z"
   },
   {
    "duration": 11,
    "start_time": "2021-06-25T20:42:57.778Z"
   },
   {
    "duration": 15,
    "start_time": "2021-06-25T20:42:57.793Z"
   },
   {
    "duration": 51,
    "start_time": "2021-06-25T20:42:57.811Z"
   },
   {
    "duration": 33,
    "start_time": "2021-06-25T20:42:57.865Z"
   },
   {
    "duration": 12,
    "start_time": "2021-06-25T20:42:57.901Z"
   },
   {
    "duration": 71,
    "start_time": "2021-06-25T20:42:57.916Z"
   },
   {
    "duration": 16,
    "start_time": "2021-06-25T20:42:57.989Z"
   },
   {
    "duration": 246,
    "start_time": "2021-06-25T20:42:58.008Z"
   },
   {
    "duration": 52,
    "start_time": "2021-06-25T20:42:58.256Z"
   },
   {
    "duration": 257,
    "start_time": "2021-06-25T20:42:58.311Z"
   },
   {
    "duration": 16,
    "start_time": "2021-06-25T20:42:58.570Z"
   },
   {
    "duration": 46,
    "start_time": "2021-06-25T20:42:58.589Z"
   },
   {
    "duration": 30,
    "start_time": "2021-06-25T20:42:58.637Z"
   },
   {
    "duration": 3848,
    "start_time": "2021-06-25T20:42:58.670Z"
   },
   {
    "duration": 24,
    "start_time": "2021-06-25T20:43:02.521Z"
   },
   {
    "duration": 22,
    "start_time": "2021-06-25T20:43:02.563Z"
   },
   {
    "duration": 17,
    "start_time": "2021-06-25T20:43:02.588Z"
   },
   {
    "duration": 112,
    "start_time": "2021-06-25T20:43:02.607Z"
   },
   {
    "duration": 44,
    "start_time": "2021-06-25T20:43:02.725Z"
   },
   {
    "duration": 12,
    "start_time": "2021-06-25T20:43:02.772Z"
   },
   {
    "duration": 11,
    "start_time": "2021-06-25T20:43:02.787Z"
   },
   {
    "duration": 7,
    "start_time": "2021-06-25T20:43:02.801Z"
   },
   {
    "duration": 730,
    "start_time": "2021-06-25T20:43:02.811Z"
   },
   {
    "duration": 66,
    "start_time": "2021-06-25T20:43:03.544Z"
   },
   {
    "duration": 60,
    "start_time": "2021-06-25T20:43:03.613Z"
   },
   {
    "duration": 51,
    "start_time": "2021-06-25T20:43:03.675Z"
   },
   {
    "duration": 36,
    "start_time": "2021-06-25T20:43:03.728Z"
   },
   {
    "duration": 17,
    "start_time": "2021-06-25T20:43:03.766Z"
   },
   {
    "duration": 56,
    "start_time": "2021-06-25T20:43:03.786Z"
   },
   {
    "duration": 7,
    "start_time": "2021-06-25T20:43:03.863Z"
   },
   {
    "duration": 36,
    "start_time": "2021-06-25T20:43:03.872Z"
   },
   {
    "duration": 1657,
    "start_time": "2021-06-25T20:43:03.910Z"
   },
   {
    "duration": 3,
    "start_time": "2021-06-25T20:43:05.569Z"
   },
   {
    "duration": 1654,
    "start_time": "2021-06-25T20:43:05.574Z"
   },
   {
    "duration": 18,
    "start_time": "2021-06-25T20:43:07.230Z"
   },
   {
    "duration": 101,
    "start_time": "2021-06-25T20:43:07.261Z"
   },
   {
    "duration": 603,
    "start_time": "2021-06-25T20:43:07.365Z"
   },
   {
    "duration": 99,
    "start_time": "2021-06-25T20:43:07.971Z"
   },
   {
    "duration": 4,
    "start_time": "2021-06-25T20:43:08.072Z"
   },
   {
    "duration": 8,
    "start_time": "2021-06-25T20:43:08.079Z"
   },
   {
    "duration": 13,
    "start_time": "2021-06-25T20:43:08.089Z"
   },
   {
    "duration": 70,
    "start_time": "2021-06-25T20:43:08.105Z"
   },
   {
    "duration": 9,
    "start_time": "2021-06-25T20:43:08.178Z"
   },
   {
    "duration": 16,
    "start_time": "2021-06-25T20:43:08.189Z"
   },
   {
    "duration": 60,
    "start_time": "2021-06-25T20:43:08.207Z"
   },
   {
    "duration": 50,
    "start_time": "2021-06-25T20:43:08.269Z"
   },
   {
    "duration": 72,
    "start_time": "2021-06-25T20:43:08.321Z"
   },
   {
    "duration": 41,
    "start_time": "2021-06-25T20:43:08.396Z"
   },
   {
    "duration": 9632,
    "start_time": "2021-06-25T20:46:36.181Z"
   },
   {
    "duration": 931,
    "start_time": "2021-06-25T20:46:45.816Z"
   },
   {
    "duration": 5,
    "start_time": "2021-06-25T20:46:46.750Z"
   },
   {
    "duration": 541,
    "start_time": "2021-06-25T20:46:46.757Z"
   },
   {
    "duration": 87,
    "start_time": "2021-06-25T20:46:47.300Z"
   },
   {
    "duration": 9,
    "start_time": "2021-06-25T20:46:47.389Z"
   },
   {
    "duration": 128,
    "start_time": "2021-06-25T20:46:47.401Z"
   },
   {
    "duration": 295,
    "start_time": "2021-06-25T20:46:47.532Z"
   },
   {
    "duration": 12,
    "start_time": "2021-06-25T20:46:47.831Z"
   },
   {
    "duration": 15,
    "start_time": "2021-06-25T20:46:47.864Z"
   },
   {
    "duration": 16,
    "start_time": "2021-06-25T20:46:47.881Z"
   },
   {
    "duration": 30,
    "start_time": "2021-06-25T20:46:47.900Z"
   },
   {
    "duration": 11,
    "start_time": "2021-06-25T20:46:47.963Z"
   },
   {
    "duration": 31,
    "start_time": "2021-06-25T20:46:47.976Z"
   },
   {
    "duration": 15,
    "start_time": "2021-06-25T20:46:48.010Z"
   },
   {
    "duration": 334,
    "start_time": "2021-06-25T20:46:48.028Z"
   },
   {
    "duration": 73,
    "start_time": "2021-06-25T20:46:48.365Z"
   },
   {
    "duration": 333,
    "start_time": "2021-06-25T20:46:48.441Z"
   },
   {
    "duration": 23,
    "start_time": "2021-06-25T20:46:48.777Z"
   },
   {
    "duration": 83,
    "start_time": "2021-06-25T20:46:48.803Z"
   },
   {
    "duration": 14,
    "start_time": "2021-06-25T20:46:48.889Z"
   },
   {
    "duration": 3800,
    "start_time": "2021-06-25T20:46:48.906Z"
   },
   {
    "duration": 25,
    "start_time": "2021-06-25T20:46:52.709Z"
   },
   {
    "duration": 37,
    "start_time": "2021-06-25T20:46:52.736Z"
   },
   {
    "duration": 17,
    "start_time": "2021-06-25T20:46:52.776Z"
   },
   {
    "duration": 110,
    "start_time": "2021-06-25T20:46:52.795Z"
   },
   {
    "duration": 34,
    "start_time": "2021-06-25T20:46:52.912Z"
   },
   {
    "duration": 12,
    "start_time": "2021-06-25T20:46:52.963Z"
   },
   {
    "duration": 13,
    "start_time": "2021-06-25T20:46:52.978Z"
   },
   {
    "duration": 5,
    "start_time": "2021-06-25T20:46:52.993Z"
   },
   {
    "duration": 736,
    "start_time": "2021-06-25T20:46:53.000Z"
   },
   {
    "duration": 68,
    "start_time": "2021-06-25T20:46:53.739Z"
   },
   {
    "duration": 59,
    "start_time": "2021-06-25T20:46:53.809Z"
   },
   {
    "duration": 72,
    "start_time": "2021-06-25T20:46:53.871Z"
   },
   {
    "duration": 37,
    "start_time": "2021-06-25T20:46:53.946Z"
   },
   {
    "duration": 19,
    "start_time": "2021-06-25T20:46:53.986Z"
   },
   {
    "duration": 114,
    "start_time": "2021-06-25T20:46:54.008Z"
   },
   {
    "duration": 10,
    "start_time": "2021-06-25T20:46:54.125Z"
   },
   {
    "duration": 53,
    "start_time": "2021-06-25T20:46:54.138Z"
   },
   {
    "duration": 1557,
    "start_time": "2021-06-25T20:46:54.195Z"
   },
   {
    "duration": 8,
    "start_time": "2021-06-25T20:46:55.754Z"
   },
   {
    "duration": 1650,
    "start_time": "2021-06-25T20:46:55.764Z"
   },
   {
    "duration": 24,
    "start_time": "2021-06-25T20:46:57.416Z"
   },
   {
    "duration": 589,
    "start_time": "2021-06-25T20:46:57.443Z"
   },
   {
    "duration": -1101,
    "start_time": "2021-06-25T20:46:59.136Z"
   },
   {
    "duration": -1104,
    "start_time": "2021-06-25T20:46:59.140Z"
   },
   {
    "duration": -1105,
    "start_time": "2021-06-25T20:46:59.143Z"
   },
   {
    "duration": -1108,
    "start_time": "2021-06-25T20:46:59.147Z"
   },
   {
    "duration": -1111,
    "start_time": "2021-06-25T20:46:59.151Z"
   },
   {
    "duration": -1113,
    "start_time": "2021-06-25T20:46:59.155Z"
   },
   {
    "duration": -1168,
    "start_time": "2021-06-25T20:46:59.211Z"
   },
   {
    "duration": -1185,
    "start_time": "2021-06-25T20:46:59.230Z"
   },
   {
    "duration": -1199,
    "start_time": "2021-06-25T20:46:59.245Z"
   },
   {
    "duration": -1208,
    "start_time": "2021-06-25T20:46:59.256Z"
   },
   {
    "duration": -1223,
    "start_time": "2021-06-25T20:46:59.272Z"
   },
   {
    "duration": -1238,
    "start_time": "2021-06-25T20:46:59.289Z"
   },
   {
    "duration": 83,
    "start_time": "2021-06-25T20:48:02.189Z"
   },
   {
    "duration": 739,
    "start_time": "2021-06-25T20:48:04.621Z"
   },
   {
    "duration": 38,
    "start_time": "2021-06-25T20:48:26.551Z"
   },
   {
    "duration": 97,
    "start_time": "2021-06-25T20:49:47.657Z"
   },
   {
    "duration": 9,
    "start_time": "2021-06-25T20:49:53.295Z"
   },
   {
    "duration": 9,
    "start_time": "2021-06-25T20:50:01.739Z"
   },
   {
    "duration": 10,
    "start_time": "2021-06-25T20:50:15.327Z"
   },
   {
    "duration": 13,
    "start_time": "2021-06-25T20:50:23.072Z"
   },
   {
    "duration": 14,
    "start_time": "2021-06-25T20:50:57.097Z"
   },
   {
    "duration": 13935,
    "start_time": "2021-06-25T20:53:15.084Z"
   },
   {
    "duration": 960,
    "start_time": "2021-06-25T20:53:29.023Z"
   },
   {
    "duration": 6,
    "start_time": "2021-06-25T20:53:29.987Z"
   },
   {
    "duration": 574,
    "start_time": "2021-06-25T20:53:29.997Z"
   },
   {
    "duration": 89,
    "start_time": "2021-06-25T20:53:30.574Z"
   },
   {
    "duration": 11,
    "start_time": "2021-06-25T20:53:30.665Z"
   },
   {
    "duration": 146,
    "start_time": "2021-06-25T20:53:30.679Z"
   },
   {
    "duration": 335,
    "start_time": "2021-06-25T20:53:30.828Z"
   },
   {
    "duration": 11,
    "start_time": "2021-06-25T20:53:31.167Z"
   },
   {
    "duration": 42,
    "start_time": "2021-06-25T20:53:31.182Z"
   },
   {
    "duration": 22,
    "start_time": "2021-06-25T20:53:31.227Z"
   },
   {
    "duration": 65,
    "start_time": "2021-06-25T20:53:31.252Z"
   },
   {
    "duration": 30,
    "start_time": "2021-06-25T20:53:31.319Z"
   },
   {
    "duration": 71,
    "start_time": "2021-06-25T20:53:31.352Z"
   },
   {
    "duration": 18,
    "start_time": "2021-06-25T20:53:31.426Z"
   },
   {
    "duration": 237,
    "start_time": "2021-06-25T20:53:31.447Z"
   },
   {
    "duration": 54,
    "start_time": "2021-06-25T20:53:31.686Z"
   },
   {
    "duration": 251,
    "start_time": "2021-06-25T20:53:31.743Z"
   },
   {
    "duration": 18,
    "start_time": "2021-06-25T20:53:31.997Z"
   },
   {
    "duration": 75,
    "start_time": "2021-06-25T20:53:32.018Z"
   },
   {
    "duration": 14,
    "start_time": "2021-06-25T20:53:32.096Z"
   },
   {
    "duration": 2168,
    "start_time": "2021-06-25T20:53:32.112Z"
   },
   {
    "duration": 17,
    "start_time": "2021-06-25T20:53:34.282Z"
   },
   {
    "duration": 21,
    "start_time": "2021-06-25T20:53:34.302Z"
   },
   {
    "duration": 39,
    "start_time": "2021-06-25T20:53:34.325Z"
   },
   {
    "duration": 111,
    "start_time": "2021-06-25T20:53:34.366Z"
   },
   {
    "duration": 36,
    "start_time": "2021-06-25T20:53:34.484Z"
   },
   {
    "duration": 15,
    "start_time": "2021-06-25T20:53:34.524Z"
   },
   {
    "duration": 15,
    "start_time": "2021-06-25T20:53:34.563Z"
   },
   {
    "duration": 6,
    "start_time": "2021-06-25T20:53:34.581Z"
   },
   {
    "duration": 744,
    "start_time": "2021-06-25T20:53:34.590Z"
   },
   {
    "duration": 72,
    "start_time": "2021-06-25T20:53:35.337Z"
   },
   {
    "duration": 56,
    "start_time": "2021-06-25T20:53:35.411Z"
   },
   {
    "duration": 51,
    "start_time": "2021-06-25T20:53:35.469Z"
   },
   {
    "duration": 19,
    "start_time": "2021-06-25T20:53:35.522Z"
   },
   {
    "duration": 14,
    "start_time": "2021-06-25T20:53:35.563Z"
   },
   {
    "duration": 63,
    "start_time": "2021-06-25T20:53:35.580Z"
   },
   {
    "duration": 20,
    "start_time": "2021-06-25T20:53:35.646Z"
   },
   {
    "duration": 27,
    "start_time": "2021-06-25T20:53:35.668Z"
   },
   {
    "duration": 1620,
    "start_time": "2021-06-25T20:53:35.698Z"
   },
   {
    "duration": 4,
    "start_time": "2021-06-25T20:53:37.321Z"
   },
   {
    "duration": 1706,
    "start_time": "2021-06-25T20:53:37.328Z"
   },
   {
    "duration": 26,
    "start_time": "2021-06-25T20:53:39.036Z"
   },
   {
    "duration": 98,
    "start_time": "2021-06-25T20:53:39.064Z"
   },
   {
    "duration": 588,
    "start_time": "2021-06-25T20:53:39.164Z"
   },
   {
    "duration": 52,
    "start_time": "2021-06-25T20:53:39.755Z"
   },
   {
    "duration": 5,
    "start_time": "2021-06-25T20:53:39.862Z"
   },
   {
    "duration": 25,
    "start_time": "2021-06-25T20:53:39.869Z"
   },
   {
    "duration": 25,
    "start_time": "2021-06-25T20:53:39.897Z"
   },
   {
    "duration": 28,
    "start_time": "2021-06-25T20:53:39.963Z"
   },
   {
    "duration": 12,
    "start_time": "2021-06-25T20:53:39.994Z"
   },
   {
    "duration": 60,
    "start_time": "2021-06-25T20:53:40.009Z"
   },
   {
    "duration": 15,
    "start_time": "2021-06-25T20:53:40.072Z"
   },
   {
    "duration": 52,
    "start_time": "2021-06-25T20:53:40.090Z"
   },
   {
    "duration": 42,
    "start_time": "2021-06-25T20:53:40.162Z"
   },
   {
    "duration": 60,
    "start_time": "2021-06-25T20:53:40.206Z"
   },
   {
    "duration": 827,
    "start_time": "2021-06-25T21:00:14.054Z"
   },
   {
    "duration": 907,
    "start_time": "2021-06-25T21:00:31.346Z"
   },
   {
    "duration": 1445,
    "start_time": "2021-06-25T21:00:36.228Z"
   },
   {
    "duration": 9580,
    "start_time": "2021-06-25T21:00:58.230Z"
   },
   {
    "duration": 949,
    "start_time": "2021-06-25T21:01:07.814Z"
   },
   {
    "duration": 5,
    "start_time": "2021-06-25T21:01:08.767Z"
   },
   {
    "duration": 661,
    "start_time": "2021-06-25T21:01:08.774Z"
   },
   {
    "duration": 76,
    "start_time": "2021-06-25T21:01:09.438Z"
   },
   {
    "duration": 9,
    "start_time": "2021-06-25T21:01:09.517Z"
   },
   {
    "duration": 154,
    "start_time": "2021-06-25T21:01:09.528Z"
   },
   {
    "duration": 308,
    "start_time": "2021-06-25T21:01:09.689Z"
   },
   {
    "duration": 13,
    "start_time": "2021-06-25T21:01:10.001Z"
   },
   {
    "duration": 15,
    "start_time": "2021-06-25T21:01:10.017Z"
   },
   {
    "duration": 42,
    "start_time": "2021-06-25T21:01:10.035Z"
   },
   {
    "duration": 36,
    "start_time": "2021-06-25T21:01:10.080Z"
   },
   {
    "duration": 51,
    "start_time": "2021-06-25T21:01:10.119Z"
   },
   {
    "duration": 33,
    "start_time": "2021-06-25T21:01:10.173Z"
   },
   {
    "duration": 17,
    "start_time": "2021-06-25T21:01:10.209Z"
   },
   {
    "duration": 363,
    "start_time": "2021-06-25T21:01:10.228Z"
   },
   {
    "duration": 207,
    "start_time": "2021-06-25T21:01:10.594Z"
   },
   {
    "duration": 226,
    "start_time": "2021-06-25T21:01:10.804Z"
   },
   {
    "duration": 28,
    "start_time": "2021-06-25T21:01:11.033Z"
   },
   {
    "duration": 43,
    "start_time": "2021-06-25T21:01:11.064Z"
   },
   {
    "duration": 11,
    "start_time": "2021-06-25T21:01:11.109Z"
   },
   {
    "duration": 2433,
    "start_time": "2021-06-25T21:01:11.123Z"
   },
   {
    "duration": 19,
    "start_time": "2021-06-25T21:01:13.562Z"
   },
   {
    "duration": 20,
    "start_time": "2021-06-25T21:01:13.584Z"
   },
   {
    "duration": 19,
    "start_time": "2021-06-25T21:01:13.607Z"
   },
   {
    "duration": 94,
    "start_time": "2021-06-25T21:01:13.668Z"
   },
   {
    "duration": 34,
    "start_time": "2021-06-25T21:01:13.765Z"
   },
   {
    "duration": 12,
    "start_time": "2021-06-25T21:01:13.802Z"
   },
   {
    "duration": 47,
    "start_time": "2021-06-25T21:01:13.816Z"
   },
   {
    "duration": 5,
    "start_time": "2021-06-25T21:01:13.866Z"
   },
   {
    "duration": 829,
    "start_time": "2021-06-25T21:01:13.874Z"
   },
   {
    "duration": 72,
    "start_time": "2021-06-25T21:01:14.705Z"
   },
   {
    "duration": 43,
    "start_time": "2021-06-25T21:01:14.779Z"
   },
   {
    "duration": 69,
    "start_time": "2021-06-25T21:01:14.824Z"
   },
   {
    "duration": 16,
    "start_time": "2021-06-25T21:01:14.895Z"
   },
   {
    "duration": 19,
    "start_time": "2021-06-25T21:01:14.914Z"
   },
   {
    "duration": 76,
    "start_time": "2021-06-25T21:01:14.935Z"
   },
   {
    "duration": 6,
    "start_time": "2021-06-25T21:01:15.014Z"
   },
   {
    "duration": 44,
    "start_time": "2021-06-25T21:01:15.022Z"
   },
   {
    "duration": 1661,
    "start_time": "2021-06-25T21:01:15.068Z"
   },
   {
    "duration": 3,
    "start_time": "2021-06-25T21:01:16.732Z"
   },
   {
    "duration": 1683,
    "start_time": "2021-06-25T21:01:16.737Z"
   },
   {
    "duration": 13,
    "start_time": "2021-06-25T21:01:18.422Z"
   },
   {
    "duration": 104,
    "start_time": "2021-06-25T21:01:18.437Z"
   },
   {
    "duration": 595,
    "start_time": "2021-06-25T21:01:18.543Z"
   },
   {
    "duration": 62,
    "start_time": "2021-06-25T21:01:19.140Z"
   },
   {
    "duration": 58,
    "start_time": "2021-06-25T21:01:19.205Z"
   },
   {
    "duration": 7,
    "start_time": "2021-06-25T21:01:19.266Z"
   },
   {
    "duration": 13,
    "start_time": "2021-06-25T21:01:19.275Z"
   },
   {
    "duration": 71,
    "start_time": "2021-06-25T21:01:19.291Z"
   },
   {
    "duration": 3,
    "start_time": "2021-06-25T21:01:19.365Z"
   },
   {
    "duration": 15,
    "start_time": "2021-06-25T21:01:19.371Z"
   },
   {
    "duration": 9,
    "start_time": "2021-06-25T21:01:19.388Z"
   },
   {
    "duration": 92,
    "start_time": "2021-06-25T21:01:19.399Z"
   },
   {
    "duration": 40,
    "start_time": "2021-06-25T21:01:19.494Z"
   },
   {
    "duration": 62,
    "start_time": "2021-06-25T21:01:19.536Z"
   },
   {
    "duration": 102,
    "start_time": "2021-06-25T21:03:40.955Z"
   },
   {
    "duration": 8995,
    "start_time": "2021-06-25T21:03:59.612Z"
   },
   {
    "duration": 934,
    "start_time": "2021-06-25T21:04:08.610Z"
   },
   {
    "duration": 5,
    "start_time": "2021-06-25T21:04:09.547Z"
   },
   {
    "duration": 649,
    "start_time": "2021-06-25T21:04:09.555Z"
   },
   {
    "duration": 88,
    "start_time": "2021-06-25T21:04:10.207Z"
   },
   {
    "duration": 10,
    "start_time": "2021-06-25T21:04:10.297Z"
   },
   {
    "duration": 125,
    "start_time": "2021-06-25T21:04:10.310Z"
   },
   {
    "duration": 305,
    "start_time": "2021-06-25T21:04:10.438Z"
   },
   {
    "duration": 19,
    "start_time": "2021-06-25T21:04:10.747Z"
   },
   {
    "duration": 25,
    "start_time": "2021-06-25T21:04:10.771Z"
   },
   {
    "duration": 16,
    "start_time": "2021-06-25T21:04:10.799Z"
   },
   {
    "duration": 64,
    "start_time": "2021-06-25T21:04:10.817Z"
   },
   {
    "duration": 16,
    "start_time": "2021-06-25T21:04:10.884Z"
   },
   {
    "duration": 32,
    "start_time": "2021-06-25T21:04:10.902Z"
   },
   {
    "duration": 35,
    "start_time": "2021-06-25T21:04:10.936Z"
   },
   {
    "duration": 8891,
    "start_time": "2021-06-25T21:04:10.974Z"
   },
   {
    "duration": -1202,
    "start_time": "2021-06-25T21:04:21.071Z"
   },
   {
    "duration": -1205,
    "start_time": "2021-06-25T21:04:21.076Z"
   },
   {
    "duration": -1208,
    "start_time": "2021-06-25T21:04:21.080Z"
   },
   {
    "duration": -1212,
    "start_time": "2021-06-25T21:04:21.085Z"
   },
   {
    "duration": -1214,
    "start_time": "2021-06-25T21:04:21.089Z"
   },
   {
    "duration": -1217,
    "start_time": "2021-06-25T21:04:21.093Z"
   },
   {
    "duration": -1218,
    "start_time": "2021-06-25T21:04:21.096Z"
   },
   {
    "duration": -1221,
    "start_time": "2021-06-25T21:04:21.100Z"
   },
   {
    "duration": -1223,
    "start_time": "2021-06-25T21:04:21.104Z"
   },
   {
    "duration": -1226,
    "start_time": "2021-06-25T21:04:21.108Z"
   },
   {
    "duration": -1236,
    "start_time": "2021-06-25T21:04:21.119Z"
   },
   {
    "duration": -1238,
    "start_time": "2021-06-25T21:04:21.123Z"
   },
   {
    "duration": -1240,
    "start_time": "2021-06-25T21:04:21.126Z"
   },
   {
    "duration": -1243,
    "start_time": "2021-06-25T21:04:21.130Z"
   },
   {
    "duration": -1244,
    "start_time": "2021-06-25T21:04:21.133Z"
   },
   {
    "duration": -1247,
    "start_time": "2021-06-25T21:04:21.137Z"
   },
   {
    "duration": -1250,
    "start_time": "2021-06-25T21:04:21.141Z"
   },
   {
    "duration": -1270,
    "start_time": "2021-06-25T21:04:21.163Z"
   },
   {
    "duration": -1288,
    "start_time": "2021-06-25T21:04:21.182Z"
   },
   {
    "duration": -1291,
    "start_time": "2021-06-25T21:04:21.186Z"
   },
   {
    "duration": -1292,
    "start_time": "2021-06-25T21:04:21.189Z"
   },
   {
    "duration": -1296,
    "start_time": "2021-06-25T21:04:21.194Z"
   },
   {
    "duration": -1297,
    "start_time": "2021-06-25T21:04:21.197Z"
   },
   {
    "duration": -1300,
    "start_time": "2021-06-25T21:04:21.201Z"
   },
   {
    "duration": -1303,
    "start_time": "2021-06-25T21:04:21.205Z"
   },
   {
    "duration": -1306,
    "start_time": "2021-06-25T21:04:21.210Z"
   },
   {
    "duration": -1308,
    "start_time": "2021-06-25T21:04:21.213Z"
   },
   {
    "duration": -1311,
    "start_time": "2021-06-25T21:04:21.217Z"
   },
   {
    "duration": -1259,
    "start_time": "2021-06-25T21:04:21.221Z"
   },
   {
    "duration": -1261,
    "start_time": "2021-06-25T21:04:21.224Z"
   },
   {
    "duration": -1263,
    "start_time": "2021-06-25T21:04:21.228Z"
   },
   {
    "duration": -1266,
    "start_time": "2021-06-25T21:04:21.232Z"
   },
   {
    "duration": -1268,
    "start_time": "2021-06-25T21:04:21.236Z"
   },
   {
    "duration": -1271,
    "start_time": "2021-06-25T21:04:21.240Z"
   },
   {
    "duration": -1293,
    "start_time": "2021-06-25T21:04:21.263Z"
   },
   {
    "duration": -1295,
    "start_time": "2021-06-25T21:04:21.267Z"
   },
   {
    "duration": -1297,
    "start_time": "2021-06-25T21:04:21.270Z"
   },
   {
    "duration": -1299,
    "start_time": "2021-06-25T21:04:21.274Z"
   },
   {
    "duration": -1302,
    "start_time": "2021-06-25T21:04:21.278Z"
   },
   {
    "duration": -1304,
    "start_time": "2021-06-25T21:04:21.282Z"
   },
   {
    "duration": -1308,
    "start_time": "2021-06-25T21:04:21.287Z"
   },
   {
    "duration": 79,
    "start_time": "2021-06-25T21:04:36.062Z"
   },
   {
    "duration": 58,
    "start_time": "2021-06-25T21:04:38.972Z"
   },
   {
    "duration": 51,
    "start_time": "2021-06-25T21:04:41.304Z"
   },
   {
    "duration": 197,
    "start_time": "2021-06-25T21:04:43.400Z"
   },
   {
    "duration": 8214,
    "start_time": "2021-06-25T21:05:13.350Z"
   },
   {
    "duration": 14,
    "start_time": "2021-06-25T21:05:22.259Z"
   },
   {
    "duration": 20,
    "start_time": "2021-06-25T21:07:01.181Z"
   },
   {
    "duration": 16,
    "start_time": "2021-06-25T21:07:26.748Z"
   },
   {
    "duration": 10,
    "start_time": "2021-06-25T21:07:55.875Z"
   },
   {
    "duration": 15,
    "start_time": "2021-06-25T21:08:09.579Z"
   },
   {
    "duration": 9914,
    "start_time": "2021-06-25T21:09:11.092Z"
   },
   {
    "duration": 917,
    "start_time": "2021-06-25T21:09:21.009Z"
   },
   {
    "duration": 5,
    "start_time": "2021-06-25T21:09:21.929Z"
   },
   {
    "duration": 537,
    "start_time": "2021-06-25T21:09:21.937Z"
   },
   {
    "duration": 67,
    "start_time": "2021-06-25T21:09:22.477Z"
   },
   {
    "duration": 23,
    "start_time": "2021-06-25T21:09:22.547Z"
   },
   {
    "duration": 133,
    "start_time": "2021-06-25T21:09:22.572Z"
   },
   {
    "duration": 294,
    "start_time": "2021-06-25T21:09:22.708Z"
   },
   {
    "duration": 11,
    "start_time": "2021-06-25T21:09:23.005Z"
   },
   {
    "duration": 26,
    "start_time": "2021-06-25T21:09:23.018Z"
   },
   {
    "duration": 24,
    "start_time": "2021-06-25T21:09:23.047Z"
   },
   {
    "duration": 16,
    "start_time": "2021-06-25T21:09:23.073Z"
   },
   {
    "duration": 30,
    "start_time": "2021-06-25T21:09:23.091Z"
   },
   {
    "duration": 21,
    "start_time": "2021-06-25T21:09:23.124Z"
   },
   {
    "duration": 19,
    "start_time": "2021-06-25T21:09:23.149Z"
   },
   {
    "duration": 41,
    "start_time": "2021-06-25T21:09:23.171Z"
   },
   {
    "duration": 65,
    "start_time": "2021-06-25T21:09:23.215Z"
   },
   {
    "duration": 19,
    "start_time": "2021-06-25T21:09:23.283Z"
   },
   {
    "duration": 130,
    "start_time": "2021-06-25T21:09:23.305Z"
   },
   {
    "duration": 242,
    "start_time": "2021-06-25T21:09:23.438Z"
   },
   {
    "duration": 191,
    "start_time": "2021-06-25T21:09:23.683Z"
   },
   {
    "duration": 227,
    "start_time": "2021-06-25T21:09:23.876Z"
   },
   {
    "duration": 13,
    "start_time": "2021-06-25T21:09:24.109Z"
   },
   {
    "duration": 19,
    "start_time": "2021-06-25T21:09:24.125Z"
   },
   {
    "duration": 54,
    "start_time": "2021-06-25T21:09:24.146Z"
   },
   {
    "duration": 8,
    "start_time": "2021-06-25T21:09:24.202Z"
   },
   {
    "duration": 2270,
    "start_time": "2021-06-25T21:09:24.212Z"
   },
   {
    "duration": 16,
    "start_time": "2021-06-25T21:09:26.485Z"
   },
   {
    "duration": 26,
    "start_time": "2021-06-25T21:09:26.504Z"
   },
   {
    "duration": 31,
    "start_time": "2021-06-25T21:09:26.532Z"
   },
   {
    "duration": 96,
    "start_time": "2021-06-25T21:09:26.565Z"
   },
   {
    "duration": 36,
    "start_time": "2021-06-25T21:09:26.664Z"
   },
   {
    "duration": 13,
    "start_time": "2021-06-25T21:09:26.703Z"
   },
   {
    "duration": 44,
    "start_time": "2021-06-25T21:09:26.718Z"
   },
   {
    "duration": 5,
    "start_time": "2021-06-25T21:09:26.765Z"
   },
   {
    "duration": 713,
    "start_time": "2021-06-25T21:09:26.772Z"
   },
   {
    "duration": 55,
    "start_time": "2021-06-25T21:09:27.488Z"
   },
   {
    "duration": 54,
    "start_time": "2021-06-25T21:09:27.546Z"
   },
   {
    "duration": 76,
    "start_time": "2021-06-25T21:09:27.603Z"
   },
   {
    "duration": 16,
    "start_time": "2021-06-25T21:09:27.681Z"
   },
   {
    "duration": 33,
    "start_time": "2021-06-25T21:09:27.700Z"
   },
   {
    "duration": 63,
    "start_time": "2021-06-25T21:09:27.736Z"
   },
   {
    "duration": 7,
    "start_time": "2021-06-25T21:09:27.801Z"
   },
   {
    "duration": 55,
    "start_time": "2021-06-25T21:09:27.810Z"
   },
   {
    "duration": 1546,
    "start_time": "2021-06-25T21:09:27.868Z"
   },
   {
    "duration": 3,
    "start_time": "2021-06-25T21:09:29.416Z"
   },
   {
    "duration": 1646,
    "start_time": "2021-06-25T21:09:29.421Z"
   },
   {
    "duration": 13,
    "start_time": "2021-06-25T21:09:31.070Z"
   },
   {
    "duration": 114,
    "start_time": "2021-06-25T21:09:31.086Z"
   },
   {
    "duration": 573,
    "start_time": "2021-06-25T21:09:31.203Z"
   },
   {
    "duration": 99,
    "start_time": "2021-06-25T21:09:31.779Z"
   },
   {
    "duration": 5,
    "start_time": "2021-06-25T21:09:31.880Z"
   },
   {
    "duration": 12,
    "start_time": "2021-06-25T21:09:31.888Z"
   },
   {
    "duration": 14,
    "start_time": "2021-06-25T21:09:31.903Z"
   },
   {
    "duration": 27,
    "start_time": "2021-06-25T21:09:31.963Z"
   },
   {
    "duration": 6,
    "start_time": "2021-06-25T21:09:31.993Z"
   },
   {
    "duration": 65,
    "start_time": "2021-06-25T21:09:32.001Z"
   },
   {
    "duration": 27,
    "start_time": "2021-06-25T21:09:32.068Z"
   },
   {
    "duration": 95,
    "start_time": "2021-06-25T21:09:32.097Z"
   },
   {
    "duration": 39,
    "start_time": "2021-06-25T21:09:32.195Z"
   },
   {
    "duration": 58,
    "start_time": "2021-06-25T21:09:32.236Z"
   },
   {
    "duration": 16,
    "start_time": "2021-06-25T21:09:49.081Z"
   },
   {
    "duration": 115,
    "start_time": "2021-06-25T21:14:08.890Z"
   },
   {
    "duration": 9,
    "start_time": "2021-06-25T21:14:14.808Z"
   },
   {
    "duration": 11,
    "start_time": "2021-06-25T21:18:12.430Z"
   },
   {
    "duration": 15,
    "start_time": "2021-06-25T21:18:18.302Z"
   },
   {
    "duration": 8,
    "start_time": "2021-06-25T21:19:20.956Z"
   },
   {
    "duration": 644,
    "start_time": "2021-06-25T21:23:47.516Z"
   },
   {
    "duration": 8920,
    "start_time": "2021-06-25T21:23:58.297Z"
   },
   {
    "duration": 988,
    "start_time": "2021-06-25T21:24:07.220Z"
   },
   {
    "duration": 6,
    "start_time": "2021-06-25T21:24:08.211Z"
   },
   {
    "duration": 581,
    "start_time": "2021-06-25T21:24:08.220Z"
   },
   {
    "duration": 93,
    "start_time": "2021-06-25T21:24:08.803Z"
   },
   {
    "duration": 9,
    "start_time": "2021-06-25T21:24:08.898Z"
   },
   {
    "duration": 128,
    "start_time": "2021-06-25T21:24:08.910Z"
   },
   {
    "duration": 513,
    "start_time": "2021-06-25T21:24:09.040Z"
   },
   {
    "duration": -1140,
    "start_time": "2021-06-25T21:24:10.699Z"
   },
   {
    "duration": -1143,
    "start_time": "2021-06-25T21:24:10.703Z"
   },
   {
    "duration": -1145,
    "start_time": "2021-06-25T21:24:10.707Z"
   },
   {
    "duration": -1227,
    "start_time": "2021-06-25T21:24:10.790Z"
   },
   {
    "duration": -1228,
    "start_time": "2021-06-25T21:24:10.793Z"
   },
   {
    "duration": -1230,
    "start_time": "2021-06-25T21:24:10.796Z"
   },
   {
    "duration": -1232,
    "start_time": "2021-06-25T21:24:10.799Z"
   },
   {
    "duration": -1234,
    "start_time": "2021-06-25T21:24:10.803Z"
   },
   {
    "duration": -1235,
    "start_time": "2021-06-25T21:24:10.806Z"
   },
   {
    "duration": -1238,
    "start_time": "2021-06-25T21:24:10.810Z"
   },
   {
    "duration": -1241,
    "start_time": "2021-06-25T21:24:10.814Z"
   },
   {
    "duration": -1243,
    "start_time": "2021-06-25T21:24:10.817Z"
   },
   {
    "duration": -1247,
    "start_time": "2021-06-25T21:24:10.822Z"
   },
   {
    "duration": -1249,
    "start_time": "2021-06-25T21:24:10.826Z"
   },
   {
    "duration": -1252,
    "start_time": "2021-06-25T21:24:10.830Z"
   },
   {
    "duration": -1254,
    "start_time": "2021-06-25T21:24:10.833Z"
   },
   {
    "duration": -1256,
    "start_time": "2021-06-25T21:24:10.837Z"
   },
   {
    "duration": -1259,
    "start_time": "2021-06-25T21:24:10.841Z"
   },
   {
    "duration": -1261,
    "start_time": "2021-06-25T21:24:10.844Z"
   },
   {
    "duration": -1266,
    "start_time": "2021-06-25T21:24:10.851Z"
   },
   {
    "duration": -1268,
    "start_time": "2021-06-25T21:24:10.854Z"
   },
   {
    "duration": -1270,
    "start_time": "2021-06-25T21:24:10.858Z"
   },
   {
    "duration": -1272,
    "start_time": "2021-06-25T21:24:10.861Z"
   },
   {
    "duration": -1273,
    "start_time": "2021-06-25T21:24:10.864Z"
   },
   {
    "duration": -1275,
    "start_time": "2021-06-25T21:24:10.868Z"
   },
   {
    "duration": -1277,
    "start_time": "2021-06-25T21:24:10.871Z"
   },
   {
    "duration": -1279,
    "start_time": "2021-06-25T21:24:10.874Z"
   },
   {
    "duration": -1281,
    "start_time": "2021-06-25T21:24:10.878Z"
   },
   {
    "duration": -1284,
    "start_time": "2021-06-25T21:24:10.882Z"
   },
   {
    "duration": -1285,
    "start_time": "2021-06-25T21:24:10.885Z"
   },
   {
    "duration": -1287,
    "start_time": "2021-06-25T21:24:10.888Z"
   },
   {
    "duration": -1296,
    "start_time": "2021-06-25T21:24:10.899Z"
   },
   {
    "duration": -1299,
    "start_time": "2021-06-25T21:24:10.903Z"
   },
   {
    "duration": -1300,
    "start_time": "2021-06-25T21:24:10.906Z"
   },
   {
    "duration": -1303,
    "start_time": "2021-06-25T21:24:10.910Z"
   },
   {
    "duration": -1299,
    "start_time": "2021-06-25T21:24:10.965Z"
   },
   {
    "duration": -1300,
    "start_time": "2021-06-25T21:24:10.968Z"
   },
   {
    "duration": -1302,
    "start_time": "2021-06-25T21:24:10.972Z"
   },
   {
    "duration": -1304,
    "start_time": "2021-06-25T21:24:10.975Z"
   },
   {
    "duration": -1306,
    "start_time": "2021-06-25T21:24:10.979Z"
   },
   {
    "duration": -1308,
    "start_time": "2021-06-25T21:24:10.983Z"
   },
   {
    "duration": -1311,
    "start_time": "2021-06-25T21:24:10.987Z"
   },
   {
    "duration": -1312,
    "start_time": "2021-06-25T21:24:10.990Z"
   },
   {
    "duration": -1343,
    "start_time": "2021-06-25T21:24:11.022Z"
   },
   {
    "duration": -1345,
    "start_time": "2021-06-25T21:24:11.025Z"
   },
   {
    "duration": -1347,
    "start_time": "2021-06-25T21:24:11.029Z"
   },
   {
    "duration": -1349,
    "start_time": "2021-06-25T21:24:11.033Z"
   },
   {
    "duration": -1352,
    "start_time": "2021-06-25T21:24:11.037Z"
   },
   {
    "duration": -1355,
    "start_time": "2021-06-25T21:24:11.041Z"
   },
   {
    "duration": -1356,
    "start_time": "2021-06-25T21:24:11.044Z"
   },
   {
    "duration": -1358,
    "start_time": "2021-06-25T21:24:11.047Z"
   },
   {
    "duration": -1360,
    "start_time": "2021-06-25T21:24:11.051Z"
   },
   {
    "duration": -1362,
    "start_time": "2021-06-25T21:24:11.054Z"
   },
   {
    "duration": -1364,
    "start_time": "2021-06-25T21:24:11.058Z"
   },
   {
    "duration": -1366,
    "start_time": "2021-06-25T21:24:11.061Z"
   },
   {
    "duration": -1368,
    "start_time": "2021-06-25T21:24:11.065Z"
   },
   {
    "duration": -1370,
    "start_time": "2021-06-25T21:24:11.068Z"
   },
   {
    "duration": -1310,
    "start_time": "2021-06-25T21:24:11.072Z"
   },
   {
    "duration": 32,
    "start_time": "2021-06-25T21:24:15.714Z"
   },
   {
    "duration": 8,
    "start_time": "2021-06-25T21:24:20.559Z"
   },
   {
    "duration": 8,
    "start_time": "2021-06-25T21:24:26.692Z"
   },
   {
    "duration": 11,
    "start_time": "2021-06-25T21:25:05.104Z"
   },
   {
    "duration": 9700,
    "start_time": "2021-06-25T21:25:10.158Z"
   },
   {
    "duration": 969,
    "start_time": "2021-06-25T21:25:19.862Z"
   },
   {
    "duration": 5,
    "start_time": "2021-06-25T21:25:20.834Z"
   },
   {
    "duration": 571,
    "start_time": "2021-06-25T21:25:20.842Z"
   },
   {
    "duration": 85,
    "start_time": "2021-06-25T21:25:21.415Z"
   },
   {
    "duration": 9,
    "start_time": "2021-06-25T21:25:21.503Z"
   },
   {
    "duration": 125,
    "start_time": "2021-06-25T21:25:21.515Z"
   },
   {
    "duration": 31,
    "start_time": "2021-06-25T21:25:21.664Z"
   },
   {
    "duration": 7,
    "start_time": "2021-06-25T21:25:21.698Z"
   },
   {
    "duration": 16,
    "start_time": "2021-06-25T21:25:21.707Z"
   },
   {
    "duration": 280,
    "start_time": "2021-06-25T21:25:21.762Z"
   },
   {
    "duration": 19,
    "start_time": "2021-06-25T21:25:22.044Z"
   },
   {
    "duration": 482,
    "start_time": "2021-06-25T21:25:22.065Z"
   },
   {
    "duration": -1132,
    "start_time": "2021-06-25T21:25:23.683Z"
   },
   {
    "duration": -1142,
    "start_time": "2021-06-25T21:25:23.695Z"
   },
   {
    "duration": -1159,
    "start_time": "2021-06-25T21:25:23.713Z"
   },
   {
    "duration": -1161,
    "start_time": "2021-06-25T21:25:23.717Z"
   },
   {
    "duration": -1163,
    "start_time": "2021-06-25T21:25:23.721Z"
   },
   {
    "duration": -1166,
    "start_time": "2021-06-25T21:25:23.725Z"
   },
   {
    "duration": -1168,
    "start_time": "2021-06-25T21:25:23.729Z"
   },
   {
    "duration": -1171,
    "start_time": "2021-06-25T21:25:23.733Z"
   },
   {
    "duration": -1192,
    "start_time": "2021-06-25T21:25:23.755Z"
   },
   {
    "duration": -1210,
    "start_time": "2021-06-25T21:25:23.775Z"
   },
   {
    "duration": -1227,
    "start_time": "2021-06-25T21:25:23.793Z"
   },
   {
    "duration": -1244,
    "start_time": "2021-06-25T21:25:23.811Z"
   },
   {
    "duration": -1256,
    "start_time": "2021-06-25T21:25:23.825Z"
   },
   {
    "duration": -1275,
    "start_time": "2021-06-25T21:25:23.845Z"
   },
   {
    "duration": -1294,
    "start_time": "2021-06-25T21:25:23.865Z"
   },
   {
    "duration": -1311,
    "start_time": "2021-06-25T21:25:23.884Z"
   },
   {
    "duration": -1329,
    "start_time": "2021-06-25T21:25:23.903Z"
   },
   {
    "duration": -1332,
    "start_time": "2021-06-25T21:25:23.907Z"
   },
   {
    "duration": -1355,
    "start_time": "2021-06-25T21:25:23.932Z"
   },
   {
    "duration": -1358,
    "start_time": "2021-06-25T21:25:23.936Z"
   },
   {
    "duration": -1361,
    "start_time": "2021-06-25T21:25:23.940Z"
   },
   {
    "duration": -1362,
    "start_time": "2021-06-25T21:25:23.943Z"
   },
   {
    "duration": -1384,
    "start_time": "2021-06-25T21:25:23.966Z"
   },
   {
    "duration": -1387,
    "start_time": "2021-06-25T21:25:23.970Z"
   },
   {
    "duration": -1389,
    "start_time": "2021-06-25T21:25:23.974Z"
   },
   {
    "duration": -1391,
    "start_time": "2021-06-25T21:25:23.977Z"
   },
   {
    "duration": -1393,
    "start_time": "2021-06-25T21:25:23.981Z"
   },
   {
    "duration": -1396,
    "start_time": "2021-06-25T21:25:23.985Z"
   },
   {
    "duration": -1423,
    "start_time": "2021-06-25T21:25:24.014Z"
   },
   {
    "duration": -1426,
    "start_time": "2021-06-25T21:25:24.018Z"
   },
   {
    "duration": -1466,
    "start_time": "2021-06-25T21:25:24.060Z"
   },
   {
    "duration": -1469,
    "start_time": "2021-06-25T21:25:24.064Z"
   },
   {
    "duration": -1471,
    "start_time": "2021-06-25T21:25:24.068Z"
   },
   {
    "duration": -1533,
    "start_time": "2021-06-25T21:25:24.131Z"
   },
   {
    "duration": -1560,
    "start_time": "2021-06-25T21:25:24.160Z"
   },
   {
    "duration": -1563,
    "start_time": "2021-06-25T21:25:24.164Z"
   },
   {
    "duration": -1508,
    "start_time": "2021-06-25T21:25:24.170Z"
   },
   {
    "duration": -1511,
    "start_time": "2021-06-25T21:25:24.175Z"
   },
   {
    "duration": -1515,
    "start_time": "2021-06-25T21:25:24.181Z"
   },
   {
    "duration": -1519,
    "start_time": "2021-06-25T21:25:24.187Z"
   },
   {
    "duration": -1524,
    "start_time": "2021-06-25T21:25:24.193Z"
   },
   {
    "duration": -1527,
    "start_time": "2021-06-25T21:25:24.198Z"
   },
   {
    "duration": -1552,
    "start_time": "2021-06-25T21:25:24.225Z"
   },
   {
    "duration": -1563,
    "start_time": "2021-06-25T21:25:24.237Z"
   },
   {
    "duration": -1567,
    "start_time": "2021-06-25T21:25:24.242Z"
   },
   {
    "duration": -1570,
    "start_time": "2021-06-25T21:25:24.246Z"
   },
   {
    "duration": -1573,
    "start_time": "2021-06-25T21:25:24.251Z"
   },
   {
    "duration": -1576,
    "start_time": "2021-06-25T21:25:24.255Z"
   },
   {
    "duration": -1579,
    "start_time": "2021-06-25T21:25:24.259Z"
   },
   {
    "duration": -1590,
    "start_time": "2021-06-25T21:25:24.271Z"
   },
   {
    "duration": -1592,
    "start_time": "2021-06-25T21:25:24.275Z"
   },
   {
    "duration": -1594,
    "start_time": "2021-06-25T21:25:24.278Z"
   },
   {
    "duration": -1598,
    "start_time": "2021-06-25T21:25:24.283Z"
   },
   {
    "duration": -1601,
    "start_time": "2021-06-25T21:25:24.288Z"
   },
   {
    "duration": 19,
    "start_time": "2021-06-25T21:25:50.144Z"
   },
   {
    "duration": 95,
    "start_time": "2021-06-25T21:28:05.678Z"
   },
   {
    "duration": 117,
    "start_time": "2021-06-25T21:28:24.262Z"
   },
   {
    "duration": 9,
    "start_time": "2021-06-25T21:28:39.916Z"
   },
   {
    "duration": 15,
    "start_time": "2021-06-25T21:28:47.514Z"
   },
   {
    "duration": 10,
    "start_time": "2021-06-25T21:29:06.190Z"
   },
   {
    "duration": 13,
    "start_time": "2021-06-25T21:29:10.149Z"
   },
   {
    "duration": 8972,
    "start_time": "2021-06-25T21:29:21.333Z"
   },
   {
    "duration": 955,
    "start_time": "2021-06-25T21:29:30.309Z"
   },
   {
    "duration": 5,
    "start_time": "2021-06-25T21:29:31.268Z"
   },
   {
    "duration": 576,
    "start_time": "2021-06-25T21:29:31.276Z"
   },
   {
    "duration": 66,
    "start_time": "2021-06-25T21:29:31.861Z"
   },
   {
    "duration": 8,
    "start_time": "2021-06-25T21:29:31.930Z"
   },
   {
    "duration": 131,
    "start_time": "2021-06-25T21:29:31.963Z"
   },
   {
    "duration": 31,
    "start_time": "2021-06-25T21:29:32.098Z"
   },
   {
    "duration": 30,
    "start_time": "2021-06-25T21:29:32.132Z"
   },
   {
    "duration": 14,
    "start_time": "2021-06-25T21:29:32.164Z"
   },
   {
    "duration": 14,
    "start_time": "2021-06-25T21:29:32.180Z"
   },
   {
    "duration": 19,
    "start_time": "2021-06-25T21:29:32.197Z"
   },
   {
    "duration": 28,
    "start_time": "2021-06-25T21:29:32.218Z"
   },
   {
    "duration": 432,
    "start_time": "2021-06-25T21:29:32.263Z"
   },
   {
    "duration": 12,
    "start_time": "2021-06-25T21:29:32.698Z"
   },
   {
    "duration": 534,
    "start_time": "2021-06-25T21:29:32.713Z"
   },
   {
    "duration": -1154,
    "start_time": "2021-06-25T21:29:34.408Z"
   },
   {
    "duration": -1171,
    "start_time": "2021-06-25T21:29:34.428Z"
   },
   {
    "duration": -1188,
    "start_time": "2021-06-25T21:29:34.447Z"
   },
   {
    "duration": -1205,
    "start_time": "2021-06-25T21:29:34.466Z"
   },
   {
    "duration": -1225,
    "start_time": "2021-06-25T21:29:34.488Z"
   },
   {
    "duration": -1245,
    "start_time": "2021-06-25T21:29:34.510Z"
   },
   {
    "duration": -1264,
    "start_time": "2021-06-25T21:29:34.531Z"
   },
   {
    "duration": -1265,
    "start_time": "2021-06-25T21:29:34.535Z"
   },
   {
    "duration": -1267,
    "start_time": "2021-06-25T21:29:34.539Z"
   },
   {
    "duration": -1269,
    "start_time": "2021-06-25T21:29:34.543Z"
   },
   {
    "duration": -1270,
    "start_time": "2021-06-25T21:29:34.546Z"
   },
   {
    "duration": -1341,
    "start_time": "2021-06-25T21:29:34.619Z"
   },
   {
    "duration": -1343,
    "start_time": "2021-06-25T21:29:34.623Z"
   },
   {
    "duration": -1346,
    "start_time": "2021-06-25T21:29:34.628Z"
   },
   {
    "duration": -1347,
    "start_time": "2021-06-25T21:29:34.631Z"
   },
   {
    "duration": -1349,
    "start_time": "2021-06-25T21:29:34.636Z"
   },
   {
    "duration": -1351,
    "start_time": "2021-06-25T21:29:34.640Z"
   },
   {
    "duration": -1353,
    "start_time": "2021-06-25T21:29:34.644Z"
   },
   {
    "duration": -1355,
    "start_time": "2021-06-25T21:29:34.648Z"
   },
   {
    "duration": -1357,
    "start_time": "2021-06-25T21:29:34.652Z"
   },
   {
    "duration": -1358,
    "start_time": "2021-06-25T21:29:34.656Z"
   },
   {
    "duration": -1360,
    "start_time": "2021-06-25T21:29:34.660Z"
   },
   {
    "duration": -1302,
    "start_time": "2021-06-25T21:29:34.664Z"
   },
   {
    "duration": -1304,
    "start_time": "2021-06-25T21:29:34.668Z"
   },
   {
    "duration": -1320,
    "start_time": "2021-06-25T21:29:34.687Z"
   },
   {
    "duration": -1332,
    "start_time": "2021-06-25T21:29:34.701Z"
   },
   {
    "duration": -1350,
    "start_time": "2021-06-25T21:29:34.721Z"
   },
   {
    "duration": -1367,
    "start_time": "2021-06-25T21:29:34.740Z"
   },
   {
    "duration": -1383,
    "start_time": "2021-06-25T21:29:34.758Z"
   },
   {
    "duration": -1400,
    "start_time": "2021-06-25T21:29:34.777Z"
   },
   {
    "duration": -1418,
    "start_time": "2021-06-25T21:29:34.797Z"
   },
   {
    "duration": -1437,
    "start_time": "2021-06-25T21:29:34.818Z"
   },
   {
    "duration": -1440,
    "start_time": "2021-06-25T21:29:34.823Z"
   },
   {
    "duration": -1442,
    "start_time": "2021-06-25T21:29:34.827Z"
   },
   {
    "duration": -1445,
    "start_time": "2021-06-25T21:29:34.831Z"
   },
   {
    "duration": -1447,
    "start_time": "2021-06-25T21:29:34.835Z"
   },
   {
    "duration": -1450,
    "start_time": "2021-06-25T21:29:34.839Z"
   },
   {
    "duration": -1453,
    "start_time": "2021-06-25T21:29:34.843Z"
   },
   {
    "duration": -1490,
    "start_time": "2021-06-25T21:29:34.882Z"
   },
   {
    "duration": -1493,
    "start_time": "2021-06-25T21:29:34.886Z"
   },
   {
    "duration": -1494,
    "start_time": "2021-06-25T21:29:34.889Z"
   },
   {
    "duration": -1497,
    "start_time": "2021-06-25T21:29:34.893Z"
   },
   {
    "duration": -1500,
    "start_time": "2021-06-25T21:29:34.897Z"
   },
   {
    "duration": -1502,
    "start_time": "2021-06-25T21:29:34.901Z"
   },
   {
    "duration": -1504,
    "start_time": "2021-06-25T21:29:34.904Z"
   },
   {
    "duration": -1506,
    "start_time": "2021-06-25T21:29:34.908Z"
   },
   {
    "duration": -1450,
    "start_time": "2021-06-25T21:29:34.912Z"
   },
   {
    "duration": -1454,
    "start_time": "2021-06-25T21:29:34.917Z"
   },
   {
    "duration": -1465,
    "start_time": "2021-06-25T21:29:34.930Z"
   },
   {
    "duration": -1468,
    "start_time": "2021-06-25T21:29:34.935Z"
   },
   {
    "duration": -1470,
    "start_time": "2021-06-25T21:29:34.938Z"
   },
   {
    "duration": -1484,
    "start_time": "2021-06-25T21:29:34.954Z"
   },
   {
    "duration": -1486,
    "start_time": "2021-06-25T21:29:34.957Z"
   },
   {
    "duration": -1488,
    "start_time": "2021-06-25T21:29:34.961Z"
   },
   {
    "duration": 14,
    "start_time": "2021-06-25T21:29:55.240Z"
   },
   {
    "duration": 15,
    "start_time": "2021-06-25T21:29:55.257Z"
   },
   {
    "duration": 16,
    "start_time": "2021-06-25T21:29:55.275Z"
   },
   {
    "duration": 14,
    "start_time": "2021-06-25T21:29:55.294Z"
   },
   {
    "duration": 12,
    "start_time": "2021-06-25T21:29:55.311Z"
   },
   {
    "duration": 41,
    "start_time": "2021-06-25T21:29:55.326Z"
   },
   {
    "duration": 21,
    "start_time": "2021-06-25T21:29:55.369Z"
   },
   {
    "duration": 35,
    "start_time": "2021-06-25T21:29:55.393Z"
   },
   {
    "duration": 47,
    "start_time": "2021-06-25T21:29:55.433Z"
   },
   {
    "duration": 34,
    "start_time": "2021-06-25T21:29:55.484Z"
   },
   {
    "duration": 52,
    "start_time": "2021-06-25T21:29:55.521Z"
   },
   {
    "duration": 127,
    "start_time": "2021-06-25T21:29:55.576Z"
   },
   {
    "duration": 239,
    "start_time": "2021-06-25T21:29:55.707Z"
   },
   {
    "duration": 165,
    "start_time": "2021-06-25T21:29:55.949Z"
   },
   {
    "duration": 226,
    "start_time": "2021-06-25T21:29:56.117Z"
   },
   {
    "duration": 26,
    "start_time": "2021-06-25T21:29:56.346Z"
   },
   {
    "duration": 17,
    "start_time": "2021-06-25T21:29:56.374Z"
   },
   {
    "duration": 69,
    "start_time": "2021-06-25T21:29:56.394Z"
   },
   {
    "duration": 8,
    "start_time": "2021-06-25T21:29:56.466Z"
   },
   {
    "duration": 1989,
    "start_time": "2021-06-25T21:29:56.477Z"
   },
   {
    "duration": 18,
    "start_time": "2021-06-25T21:29:58.468Z"
   },
   {
    "duration": 26,
    "start_time": "2021-06-25T21:29:58.488Z"
   },
   {
    "duration": 17,
    "start_time": "2021-06-25T21:29:58.517Z"
   },
   {
    "duration": 117,
    "start_time": "2021-06-25T21:29:58.536Z"
   },
   {
    "duration": 36,
    "start_time": "2021-06-25T21:29:58.656Z"
   },
   {
    "duration": 14,
    "start_time": "2021-06-25T21:29:58.694Z"
   },
   {
    "duration": 17,
    "start_time": "2021-06-25T21:29:58.714Z"
   },
   {
    "duration": 4,
    "start_time": "2021-06-25T21:29:58.764Z"
   },
   {
    "duration": 696,
    "start_time": "2021-06-25T21:29:58.771Z"
   },
   {
    "duration": 56,
    "start_time": "2021-06-25T21:29:59.469Z"
   },
   {
    "duration": 64,
    "start_time": "2021-06-25T21:29:59.528Z"
   },
   {
    "duration": 50,
    "start_time": "2021-06-25T21:29:59.595Z"
   },
   {
    "duration": 18,
    "start_time": "2021-06-25T21:29:59.662Z"
   },
   {
    "duration": 16,
    "start_time": "2021-06-25T21:29:59.683Z"
   },
   {
    "duration": 88,
    "start_time": "2021-06-25T21:29:59.701Z"
   },
   {
    "duration": 9,
    "start_time": "2021-06-25T21:29:59.792Z"
   },
   {
    "duration": 42,
    "start_time": "2021-06-25T21:29:59.804Z"
   },
   {
    "duration": 2371,
    "start_time": "2021-06-25T21:29:59.862Z"
   },
   {
    "duration": 4,
    "start_time": "2021-06-25T21:30:02.236Z"
   },
   {
    "duration": 2400,
    "start_time": "2021-06-25T21:30:02.243Z"
   },
   {
    "duration": 27,
    "start_time": "2021-06-25T21:30:04.647Z"
   },
   {
    "duration": 138,
    "start_time": "2021-06-25T21:30:04.678Z"
   },
   {
    "duration": 883,
    "start_time": "2021-06-25T21:30:04.819Z"
   },
   {
    "duration": 157,
    "start_time": "2021-06-25T21:30:05.705Z"
   },
   {
    "duration": 6,
    "start_time": "2021-06-25T21:30:05.865Z"
   },
   {
    "duration": 7,
    "start_time": "2021-06-25T21:30:05.874Z"
   },
   {
    "duration": 14,
    "start_time": "2021-06-25T21:30:05.885Z"
   },
   {
    "duration": 79,
    "start_time": "2021-06-25T21:30:05.902Z"
   },
   {
    "duration": 6,
    "start_time": "2021-06-25T21:30:05.984Z"
   },
   {
    "duration": 71,
    "start_time": "2021-06-25T21:30:05.993Z"
   },
   {
    "duration": 20,
    "start_time": "2021-06-25T21:30:06.067Z"
   },
   {
    "duration": 102,
    "start_time": "2021-06-25T21:30:06.092Z"
   },
   {
    "duration": 66,
    "start_time": "2021-06-25T21:30:06.197Z"
   },
   {
    "duration": 41,
    "start_time": "2021-06-25T21:30:06.266Z"
   },
   {
    "duration": 27,
    "start_time": "2021-06-25T21:31:29.530Z"
   },
   {
    "duration": 7,
    "start_time": "2021-06-25T21:31:48.676Z"
   },
   {
    "duration": 13,
    "start_time": "2021-06-25T21:31:57.287Z"
   },
   {
    "duration": 9524,
    "start_time": "2021-06-25T21:32:19.583Z"
   },
   {
    "duration": 942,
    "start_time": "2021-06-25T21:32:29.110Z"
   },
   {
    "duration": 6,
    "start_time": "2021-06-25T21:32:30.055Z"
   },
   {
    "duration": 571,
    "start_time": "2021-06-25T21:32:30.063Z"
   },
   {
    "duration": 90,
    "start_time": "2021-06-25T21:32:30.637Z"
   },
   {
    "duration": 9,
    "start_time": "2021-06-25T21:32:30.730Z"
   },
   {
    "duration": 145,
    "start_time": "2021-06-25T21:32:30.741Z"
   },
   {
    "duration": 32,
    "start_time": "2021-06-25T21:32:30.889Z"
   },
   {
    "duration": 22,
    "start_time": "2021-06-25T21:32:30.925Z"
   },
   {
    "duration": 29,
    "start_time": "2021-06-25T21:32:30.964Z"
   },
   {
    "duration": 42,
    "start_time": "2021-06-25T21:32:30.995Z"
   },
   {
    "duration": 39,
    "start_time": "2021-06-25T21:32:31.040Z"
   },
   {
    "duration": 42,
    "start_time": "2021-06-25T21:32:31.081Z"
   },
   {
    "duration": 49,
    "start_time": "2021-06-25T21:32:31.126Z"
   },
   {
    "duration": 299,
    "start_time": "2021-06-25T21:32:31.178Z"
   },
   {
    "duration": 9,
    "start_time": "2021-06-25T21:32:31.480Z"
   },
   {
    "duration": 22,
    "start_time": "2021-06-25T21:32:31.492Z"
   },
   {
    "duration": 45,
    "start_time": "2021-06-25T21:32:31.517Z"
   },
   {
    "duration": 17,
    "start_time": "2021-06-25T21:32:31.564Z"
   },
   {
    "duration": 50,
    "start_time": "2021-06-25T21:32:31.583Z"
   },
   {
    "duration": 33,
    "start_time": "2021-06-25T21:32:31.635Z"
   },
   {
    "duration": 27,
    "start_time": "2021-06-25T21:32:31.671Z"
   },
   {
    "duration": 40,
    "start_time": "2021-06-25T21:32:31.700Z"
   },
   {
    "duration": 65,
    "start_time": "2021-06-25T21:32:31.743Z"
   },
   {
    "duration": 23,
    "start_time": "2021-06-25T21:32:31.811Z"
   },
   {
    "duration": 47,
    "start_time": "2021-06-25T21:32:31.837Z"
   },
   {
    "duration": 16,
    "start_time": "2021-06-25T21:32:31.890Z"
   },
   {
    "duration": 143,
    "start_time": "2021-06-25T21:32:31.910Z"
   },
   {
    "duration": 250,
    "start_time": "2021-06-25T21:32:32.061Z"
   },
   {
    "duration": 176,
    "start_time": "2021-06-25T21:32:32.314Z"
   },
   {
    "duration": 232,
    "start_time": "2021-06-25T21:32:32.492Z"
   },
   {
    "duration": 11,
    "start_time": "2021-06-25T21:32:32.727Z"
   },
   {
    "duration": 108,
    "start_time": "2021-06-25T21:32:32.741Z"
   },
   {
    "duration": 50,
    "start_time": "2021-06-25T21:32:32.851Z"
   },
   {
    "duration": 10,
    "start_time": "2021-06-25T21:32:32.904Z"
   },
   {
    "duration": 1953,
    "start_time": "2021-06-25T21:32:32.916Z"
   },
   {
    "duration": 18,
    "start_time": "2021-06-25T21:32:34.872Z"
   },
   {
    "duration": 33,
    "start_time": "2021-06-25T21:32:34.892Z"
   },
   {
    "duration": 34,
    "start_time": "2021-06-25T21:32:34.928Z"
   },
   {
    "duration": 97,
    "start_time": "2021-06-25T21:32:34.965Z"
   },
   {
    "duration": 33,
    "start_time": "2021-06-25T21:32:35.065Z"
   },
   {
    "duration": 18,
    "start_time": "2021-06-25T21:32:35.101Z"
   },
   {
    "duration": 37,
    "start_time": "2021-06-25T21:32:35.122Z"
   },
   {
    "duration": 5,
    "start_time": "2021-06-25T21:32:35.163Z"
   },
   {
    "duration": 704,
    "start_time": "2021-06-25T21:32:35.170Z"
   },
   {
    "duration": 57,
    "start_time": "2021-06-25T21:32:35.877Z"
   },
   {
    "duration": 62,
    "start_time": "2021-06-25T21:32:35.937Z"
   },
   {
    "duration": 69,
    "start_time": "2021-06-25T21:32:36.001Z"
   },
   {
    "duration": 18,
    "start_time": "2021-06-25T21:32:36.072Z"
   },
   {
    "duration": 20,
    "start_time": "2021-06-25T21:32:36.092Z"
   },
   {
    "duration": 88,
    "start_time": "2021-06-25T21:32:36.114Z"
   },
   {
    "duration": 9,
    "start_time": "2021-06-25T21:32:36.205Z"
   },
   {
    "duration": 48,
    "start_time": "2021-06-25T21:32:36.217Z"
   },
   {
    "duration": 1534,
    "start_time": "2021-06-25T21:32:36.267Z"
   },
   {
    "duration": 3,
    "start_time": "2021-06-25T21:32:37.803Z"
   },
   {
    "duration": 1644,
    "start_time": "2021-06-25T21:32:37.808Z"
   },
   {
    "duration": 13,
    "start_time": "2021-06-25T21:32:39.461Z"
   },
   {
    "duration": 103,
    "start_time": "2021-06-25T21:32:39.476Z"
   },
   {
    "duration": 579,
    "start_time": "2021-06-25T21:32:39.582Z"
   },
   {
    "duration": 101,
    "start_time": "2021-06-25T21:32:40.164Z"
   },
   {
    "duration": 5,
    "start_time": "2021-06-25T21:32:40.267Z"
   },
   {
    "duration": 13,
    "start_time": "2021-06-25T21:32:40.274Z"
   },
   {
    "duration": 18,
    "start_time": "2021-06-25T21:32:40.290Z"
   },
   {
    "duration": 67,
    "start_time": "2021-06-25T21:32:40.310Z"
   },
   {
    "duration": 3,
    "start_time": "2021-06-25T21:32:40.380Z"
   },
   {
    "duration": 14,
    "start_time": "2021-06-25T21:32:40.385Z"
   },
   {
    "duration": 61,
    "start_time": "2021-06-25T21:32:40.401Z"
   },
   {
    "duration": 39,
    "start_time": "2021-06-25T21:32:40.465Z"
   },
   {
    "duration": 38,
    "start_time": "2021-06-25T21:32:40.562Z"
   },
   {
    "duration": 92,
    "start_time": "2021-06-25T21:32:40.603Z"
   },
   {
    "duration": 6400,
    "start_time": "2021-06-27T13:07:00.781Z"
   },
   {
    "duration": 626,
    "start_time": "2021-06-27T13:07:07.183Z"
   },
   {
    "duration": 4,
    "start_time": "2021-06-27T13:07:07.811Z"
   },
   {
    "duration": 376,
    "start_time": "2021-06-27T13:07:07.816Z"
   },
   {
    "duration": 49,
    "start_time": "2021-06-27T13:07:08.194Z"
   },
   {
    "duration": 13,
    "start_time": "2021-06-27T13:07:08.245Z"
   },
   {
    "duration": 94,
    "start_time": "2021-06-27T13:07:08.259Z"
   },
   {
    "duration": 41,
    "start_time": "2021-06-27T13:07:08.356Z"
   },
   {
    "duration": 6,
    "start_time": "2021-06-27T13:07:08.399Z"
   },
   {
    "duration": 9,
    "start_time": "2021-06-27T13:07:08.407Z"
   },
   {
    "duration": 6,
    "start_time": "2021-06-27T13:07:08.418Z"
   },
   {
    "duration": 7,
    "start_time": "2021-06-27T13:07:08.426Z"
   },
   {
    "duration": 9,
    "start_time": "2021-06-27T13:07:08.434Z"
   },
   {
    "duration": 43,
    "start_time": "2021-06-27T13:07:08.445Z"
   },
   {
    "duration": 206,
    "start_time": "2021-06-27T13:07:08.489Z"
   },
   {
    "duration": 5,
    "start_time": "2021-06-27T13:07:08.697Z"
   },
   {
    "duration": 9,
    "start_time": "2021-06-27T13:07:08.704Z"
   },
   {
    "duration": 10,
    "start_time": "2021-06-27T13:07:08.715Z"
   },
   {
    "duration": 11,
    "start_time": "2021-06-27T13:07:08.726Z"
   },
   {
    "duration": 9,
    "start_time": "2021-06-27T13:07:08.739Z"
   },
   {
    "duration": 37,
    "start_time": "2021-06-27T13:07:08.749Z"
   },
   {
    "duration": 6,
    "start_time": "2021-06-27T13:07:08.787Z"
   },
   {
    "duration": 8,
    "start_time": "2021-06-27T13:07:08.796Z"
   },
   {
    "duration": 20,
    "start_time": "2021-06-27T13:07:08.806Z"
   },
   {
    "duration": 11,
    "start_time": "2021-06-27T13:07:08.828Z"
   },
   {
    "duration": 52,
    "start_time": "2021-06-27T13:07:08.840Z"
   },
   {
    "duration": 10,
    "start_time": "2021-06-27T13:07:08.893Z"
   },
   {
    "duration": 90,
    "start_time": "2021-06-27T13:07:08.904Z"
   },
   {
    "duration": 138,
    "start_time": "2021-06-27T13:07:08.996Z"
   },
   {
    "duration": 111,
    "start_time": "2021-06-27T13:07:09.136Z"
   },
   {
    "duration": 162,
    "start_time": "2021-06-27T13:07:09.249Z"
   },
   {
    "duration": 9,
    "start_time": "2021-06-27T13:07:09.413Z"
   },
   {
    "duration": 11,
    "start_time": "2021-06-27T13:07:09.424Z"
   },
   {
    "duration": 50,
    "start_time": "2021-06-27T13:07:09.436Z"
   },
   {
    "duration": 6,
    "start_time": "2021-06-27T13:07:09.488Z"
   },
   {
    "duration": 1122,
    "start_time": "2021-06-27T13:07:09.496Z"
   },
   {
    "duration": 12,
    "start_time": "2021-06-27T13:07:10.619Z"
   },
   {
    "duration": 14,
    "start_time": "2021-06-27T13:07:10.633Z"
   },
   {
    "duration": 12,
    "start_time": "2021-06-27T13:07:10.648Z"
   },
   {
    "duration": 70,
    "start_time": "2021-06-27T13:07:10.661Z"
   },
   {
    "duration": 24,
    "start_time": "2021-06-27T13:07:10.733Z"
   },
   {
    "duration": 26,
    "start_time": "2021-06-27T13:07:10.759Z"
   },
   {
    "duration": 11,
    "start_time": "2021-06-27T13:07:10.787Z"
   },
   {
    "duration": 4,
    "start_time": "2021-06-27T13:07:10.799Z"
   },
   {
    "duration": 422,
    "start_time": "2021-06-27T13:07:10.805Z"
   },
   {
    "duration": 34,
    "start_time": "2021-06-27T13:07:11.229Z"
   },
   {
    "duration": 40,
    "start_time": "2021-06-27T13:07:11.265Z"
   },
   {
    "duration": 28,
    "start_time": "2021-06-27T13:07:11.307Z"
   },
   {
    "duration": 10,
    "start_time": "2021-06-27T13:07:11.337Z"
   },
   {
    "duration": 15,
    "start_time": "2021-06-27T13:07:11.348Z"
   },
   {
    "duration": 50,
    "start_time": "2021-06-27T13:07:11.365Z"
   },
   {
    "duration": 5,
    "start_time": "2021-06-27T13:07:11.416Z"
   },
   {
    "duration": 16,
    "start_time": "2021-06-27T13:07:11.423Z"
   },
   {
    "duration": 927,
    "start_time": "2021-06-27T13:07:11.441Z"
   },
   {
    "duration": 19,
    "start_time": "2021-06-27T13:07:12.370Z"
   },
   {
    "duration": 825,
    "start_time": "2021-06-27T13:07:12.391Z"
   },
   {
    "duration": 8,
    "start_time": "2021-06-27T13:07:13.218Z"
   },
   {
    "duration": 15,
    "start_time": "2021-06-27T13:07:13.228Z"
   },
   {
    "duration": 68,
    "start_time": "2021-06-27T13:07:13.244Z"
   },
   {
    "duration": 499,
    "start_time": "2021-06-27T13:07:13.313Z"
   },
   {
    "duration": 29,
    "start_time": "2021-06-27T13:07:13.814Z"
   },
   {
    "duration": 41,
    "start_time": "2021-06-27T13:07:13.845Z"
   },
   {
    "duration": 5,
    "start_time": "2021-06-27T13:07:13.888Z"
   },
   {
    "duration": 7,
    "start_time": "2021-06-27T13:07:13.894Z"
   },
   {
    "duration": 11,
    "start_time": "2021-06-27T13:07:13.903Z"
   },
   {
    "duration": 4,
    "start_time": "2021-06-27T13:07:13.916Z"
   },
   {
    "duration": 8,
    "start_time": "2021-06-27T13:07:13.921Z"
   },
   {
    "duration": 6,
    "start_time": "2021-06-27T13:07:13.984Z"
   },
   {
    "duration": 29,
    "start_time": "2021-06-27T13:07:13.992Z"
   },
   {
    "duration": 68,
    "start_time": "2021-06-27T13:07:14.023Z"
   },
   {
    "duration": 21,
    "start_time": "2021-06-27T13:07:14.093Z"
   },
   {
    "duration": 5238,
    "start_time": "2021-06-27T13:36:52.788Z"
   },
   {
    "duration": 614,
    "start_time": "2021-06-27T13:36:58.028Z"
   },
   {
    "duration": 3,
    "start_time": "2021-06-27T13:36:58.644Z"
   },
   {
    "duration": 337,
    "start_time": "2021-06-27T13:36:58.649Z"
   },
   {
    "duration": 43,
    "start_time": "2021-06-27T13:36:58.987Z"
   },
   {
    "duration": 6,
    "start_time": "2021-06-27T13:36:59.032Z"
   },
   {
    "duration": 89,
    "start_time": "2021-06-27T13:36:59.040Z"
   },
   {
    "duration": 21,
    "start_time": "2021-06-27T13:36:59.131Z"
   },
   {
    "duration": 6,
    "start_time": "2021-06-27T13:36:59.154Z"
   },
   {
    "duration": 30,
    "start_time": "2021-06-27T13:36:59.161Z"
   },
   {
    "duration": 7,
    "start_time": "2021-06-27T13:36:59.193Z"
   },
   {
    "duration": 6,
    "start_time": "2021-06-27T13:36:59.201Z"
   },
   {
    "duration": 9,
    "start_time": "2021-06-27T13:36:59.208Z"
   },
   {
    "duration": 18,
    "start_time": "2021-06-27T13:36:59.219Z"
   },
   {
    "duration": 231,
    "start_time": "2021-06-27T13:36:59.239Z"
   },
   {
    "duration": 14,
    "start_time": "2021-06-27T13:36:59.472Z"
   },
   {
    "duration": 10,
    "start_time": "2021-06-27T13:36:59.487Z"
   },
   {
    "duration": 11,
    "start_time": "2021-06-27T13:36:59.498Z"
   },
   {
    "duration": 11,
    "start_time": "2021-06-27T13:36:59.510Z"
   },
   {
    "duration": 11,
    "start_time": "2021-06-27T13:36:59.523Z"
   },
   {
    "duration": 6,
    "start_time": "2021-06-27T13:36:59.536Z"
   },
   {
    "duration": 6,
    "start_time": "2021-06-27T13:36:59.585Z"
   },
   {
    "duration": 9,
    "start_time": "2021-06-27T13:36:59.595Z"
   },
   {
    "duration": 21,
    "start_time": "2021-06-27T13:36:59.606Z"
   },
   {
    "duration": 12,
    "start_time": "2021-06-27T13:36:59.629Z"
   },
   {
    "duration": 56,
    "start_time": "2021-06-27T13:36:59.642Z"
   },
   {
    "duration": 10,
    "start_time": "2021-06-27T13:36:59.699Z"
   },
   {
    "duration": 92,
    "start_time": "2021-06-27T13:36:59.711Z"
   },
   {
    "duration": 128,
    "start_time": "2021-06-27T13:36:59.805Z"
   },
   {
    "duration": 105,
    "start_time": "2021-06-27T13:36:59.935Z"
   },
   {
    "duration": 161,
    "start_time": "2021-06-27T13:37:00.042Z"
   },
   {
    "duration": 8,
    "start_time": "2021-06-27T13:37:00.204Z"
   },
   {
    "duration": 19,
    "start_time": "2021-06-27T13:37:00.214Z"
   },
   {
    "duration": 41,
    "start_time": "2021-06-27T13:37:00.234Z"
   },
   {
    "duration": 12,
    "start_time": "2021-06-27T13:37:00.276Z"
   },
   {
    "duration": 1115,
    "start_time": "2021-06-27T13:37:00.289Z"
   },
   {
    "duration": 10,
    "start_time": "2021-06-27T13:37:01.406Z"
   },
   {
    "duration": 15,
    "start_time": "2021-06-27T13:37:01.418Z"
   },
   {
    "duration": 11,
    "start_time": "2021-06-27T13:37:01.435Z"
   },
   {
    "duration": 85,
    "start_time": "2021-06-27T13:37:01.448Z"
   },
   {
    "duration": 26,
    "start_time": "2021-06-27T13:37:01.535Z"
   },
   {
    "duration": 31,
    "start_time": "2021-06-27T13:37:01.563Z"
   },
   {
    "duration": 11,
    "start_time": "2021-06-27T13:37:01.596Z"
   },
   {
    "duration": 4,
    "start_time": "2021-06-27T13:37:01.609Z"
   },
   {
    "duration": 541,
    "start_time": "2021-06-27T13:37:01.615Z"
   },
   {
    "duration": 49,
    "start_time": "2021-06-27T13:37:02.158Z"
   },
   {
    "duration": 27,
    "start_time": "2021-06-27T13:37:02.208Z"
   },
   {
    "duration": 50,
    "start_time": "2021-06-27T13:37:02.236Z"
   },
   {
    "duration": 12,
    "start_time": "2021-06-27T13:37:02.288Z"
   },
   {
    "duration": 11,
    "start_time": "2021-06-27T13:37:02.302Z"
   },
   {
    "duration": 37,
    "start_time": "2021-06-27T13:37:02.314Z"
   },
   {
    "duration": 5,
    "start_time": "2021-06-27T13:37:02.352Z"
   },
   {
    "duration": 16,
    "start_time": "2021-06-27T13:37:02.386Z"
   },
   {
    "duration": 934,
    "start_time": "2021-06-27T13:37:02.404Z"
   },
   {
    "duration": 11,
    "start_time": "2021-06-27T13:37:03.340Z"
   },
   {
    "duration": 60,
    "start_time": "2021-06-27T13:37:03.352Z"
   },
   {
    "duration": -29,
    "start_time": "2021-06-27T13:37:03.444Z"
   },
   {
    "duration": -38,
    "start_time": "2021-06-27T13:37:03.454Z"
   },
   {
    "duration": -46,
    "start_time": "2021-06-27T13:37:03.463Z"
   },
   {
    "duration": -50,
    "start_time": "2021-06-27T13:37:03.469Z"
   },
   {
    "duration": -55,
    "start_time": "2021-06-27T13:37:03.475Z"
   },
   {
    "duration": -57,
    "start_time": "2021-06-27T13:37:03.479Z"
   },
   {
    "duration": -61,
    "start_time": "2021-06-27T13:37:03.484Z"
   },
   {
    "duration": -65,
    "start_time": "2021-06-27T13:37:03.489Z"
   },
   {
    "duration": -66,
    "start_time": "2021-06-27T13:37:03.492Z"
   },
   {
    "duration": -69,
    "start_time": "2021-06-27T13:37:03.496Z"
   },
   {
    "duration": -72,
    "start_time": "2021-06-27T13:37:03.501Z"
   },
   {
    "duration": -76,
    "start_time": "2021-06-27T13:37:03.506Z"
   },
   {
    "duration": -78,
    "start_time": "2021-06-27T13:37:03.509Z"
   },
   {
    "duration": -81,
    "start_time": "2021-06-27T13:37:03.514Z"
   },
   {
    "duration": -84,
    "start_time": "2021-06-27T13:37:03.518Z"
   },
   {
    "duration": -87,
    "start_time": "2021-06-27T13:37:03.522Z"
   },
   {
    "duration": 751,
    "start_time": "2021-06-27T14:12:48.968Z"
   },
   {
    "duration": 9,
    "start_time": "2021-06-27T14:12:51.339Z"
   },
   {
    "duration": 17,
    "start_time": "2021-06-27T14:12:52.007Z"
   },
   {
    "duration": 50,
    "start_time": "2021-06-27T14:12:52.331Z"
   },
   {
    "duration": 52,
    "start_time": "2021-06-27T14:12:52.989Z"
   },
   {
    "duration": 34,
    "start_time": "2021-06-27T14:13:46.016Z"
   },
   {
    "duration": 4,
    "start_time": "2021-06-27T14:13:46.223Z"
   },
   {
    "duration": 3,
    "start_time": "2021-06-27T14:13:46.408Z"
   },
   {
    "duration": 6,
    "start_time": "2021-06-27T14:13:46.866Z"
   },
   {
    "duration": 11,
    "start_time": "2021-06-27T14:13:47.031Z"
   },
   {
    "duration": 3,
    "start_time": "2021-06-27T14:13:47.160Z"
   },
   {
    "duration": 7,
    "start_time": "2021-06-27T14:13:47.351Z"
   },
   {
    "duration": 6,
    "start_time": "2021-06-27T14:13:48.885Z"
   },
   {
    "duration": 23,
    "start_time": "2021-06-27T14:13:49.375Z"
   },
   {
    "duration": 23,
    "start_time": "2021-06-27T14:13:49.798Z"
   },
   {
    "duration": 23,
    "start_time": "2021-06-27T14:13:50.216Z"
   },
   {
    "duration": 27044,
    "start_time": "2021-06-27T22:04:14.323Z"
   },
   {
    "duration": 945,
    "start_time": "2021-06-27T22:04:41.370Z"
   },
   {
    "duration": 4,
    "start_time": "2021-06-27T22:04:42.319Z"
   },
   {
    "duration": 554,
    "start_time": "2021-06-27T22:04:42.326Z"
   },
   {
    "duration": 77,
    "start_time": "2021-06-27T22:04:42.882Z"
   },
   {
    "duration": 9,
    "start_time": "2021-06-27T22:04:42.962Z"
   },
   {
    "duration": 145,
    "start_time": "2021-06-27T22:04:42.974Z"
   },
   {
    "duration": 34,
    "start_time": "2021-06-27T22:04:43.123Z"
   },
   {
    "duration": 9,
    "start_time": "2021-06-27T22:04:43.161Z"
   },
   {
    "duration": 40,
    "start_time": "2021-06-27T22:04:43.173Z"
   },
   {
    "duration": 10,
    "start_time": "2021-06-27T22:04:43.216Z"
   },
   {
    "duration": 8,
    "start_time": "2021-06-27T22:04:43.228Z"
   },
   {
    "duration": 15,
    "start_time": "2021-06-27T22:04:43.239Z"
   },
   {
    "duration": 64,
    "start_time": "2021-06-27T22:04:43.257Z"
   },
   {
    "duration": 308,
    "start_time": "2021-06-27T22:04:43.324Z"
   },
   {
    "duration": 8,
    "start_time": "2021-06-27T22:04:43.634Z"
   },
   {
    "duration": 14,
    "start_time": "2021-06-27T22:04:43.645Z"
   },
   {
    "duration": 44,
    "start_time": "2021-06-27T22:04:43.661Z"
   },
   {
    "duration": 15,
    "start_time": "2021-06-27T22:04:43.708Z"
   },
   {
    "duration": 17,
    "start_time": "2021-06-27T22:04:43.726Z"
   },
   {
    "duration": 14,
    "start_time": "2021-06-27T22:04:43.745Z"
   },
   {
    "duration": 42,
    "start_time": "2021-06-27T22:04:43.762Z"
   },
   {
    "duration": 15,
    "start_time": "2021-06-27T22:04:43.810Z"
   },
   {
    "duration": 36,
    "start_time": "2021-06-27T22:04:43.829Z"
   },
   {
    "duration": 43,
    "start_time": "2021-06-27T22:04:43.868Z"
   },
   {
    "duration": 30,
    "start_time": "2021-06-27T22:04:43.913Z"
   },
   {
    "duration": 15,
    "start_time": "2021-06-27T22:04:43.946Z"
   },
   {
    "duration": 160,
    "start_time": "2021-06-27T22:04:43.964Z"
   },
   {
    "duration": 245,
    "start_time": "2021-06-27T22:04:44.126Z"
   },
   {
    "duration": 169,
    "start_time": "2021-06-27T22:04:44.373Z"
   },
   {
    "duration": 224,
    "start_time": "2021-06-27T22:04:44.544Z"
   },
   {
    "duration": 13,
    "start_time": "2021-06-27T22:04:44.770Z"
   },
   {
    "duration": 18,
    "start_time": "2021-06-27T22:04:44.801Z"
   },
   {
    "duration": 44,
    "start_time": "2021-06-27T22:04:44.821Z"
   },
   {
    "duration": 37,
    "start_time": "2021-06-27T22:04:44.867Z"
   },
   {
    "duration": 1981,
    "start_time": "2021-06-27T22:04:44.907Z"
   },
   {
    "duration": 26,
    "start_time": "2021-06-27T22:04:46.891Z"
   },
   {
    "duration": 30,
    "start_time": "2021-06-27T22:04:46.920Z"
   },
   {
    "duration": 18,
    "start_time": "2021-06-27T22:04:46.953Z"
   },
   {
    "duration": 123,
    "start_time": "2021-06-27T22:04:46.973Z"
   },
   {
    "duration": 33,
    "start_time": "2021-06-27T22:04:47.100Z"
   },
   {
    "duration": 14,
    "start_time": "2021-06-27T22:04:47.136Z"
   },
   {
    "duration": 18,
    "start_time": "2021-06-27T22:04:47.153Z"
   },
   {
    "duration": 6,
    "start_time": "2021-06-27T22:04:47.203Z"
   },
   {
    "duration": 718,
    "start_time": "2021-06-27T22:04:47.212Z"
   },
   {
    "duration": 70,
    "start_time": "2021-06-27T22:04:47.932Z"
   },
   {
    "duration": 44,
    "start_time": "2021-06-27T22:04:48.004Z"
   },
   {
    "duration": 75,
    "start_time": "2021-06-27T22:04:48.051Z"
   },
   {
    "duration": 18,
    "start_time": "2021-06-27T22:04:48.129Z"
   },
   {
    "duration": 19,
    "start_time": "2021-06-27T22:04:48.149Z"
   },
   {
    "duration": 76,
    "start_time": "2021-06-27T22:04:48.171Z"
   },
   {
    "duration": 8,
    "start_time": "2021-06-27T22:04:48.249Z"
   },
   {
    "duration": 49,
    "start_time": "2021-06-27T22:04:48.259Z"
   },
   {
    "duration": 1629,
    "start_time": "2021-06-27T22:04:48.310Z"
   },
   {
    "duration": 17,
    "start_time": "2021-06-27T22:04:49.941Z"
   },
   {
    "duration": 1357,
    "start_time": "2021-06-27T22:04:49.961Z"
   },
   {
    "duration": 12,
    "start_time": "2021-06-27T22:04:51.321Z"
   },
   {
    "duration": 26,
    "start_time": "2021-06-27T22:04:51.335Z"
   },
   {
    "duration": 107,
    "start_time": "2021-06-27T22:04:51.364Z"
   },
   {
    "duration": 611,
    "start_time": "2021-06-27T22:04:51.473Z"
   },
   {
    "duration": 54,
    "start_time": "2021-06-27T22:04:52.086Z"
   },
   {
    "duration": 448,
    "start_time": "2021-06-27T22:04:52.143Z"
   },
   {
    "duration": 11,
    "start_time": "2021-06-27T22:04:52.593Z"
   },
   {
    "duration": 12,
    "start_time": "2021-06-27T22:04:52.607Z"
   },
   {
    "duration": 19,
    "start_time": "2021-06-27T22:04:52.622Z"
   },
   {
    "duration": 7,
    "start_time": "2021-06-27T22:04:52.643Z"
   },
   {
    "duration": 14,
    "start_time": "2021-06-27T22:04:52.653Z"
   },
   {
    "duration": 33,
    "start_time": "2021-06-27T22:04:52.674Z"
   },
   {
    "duration": 44,
    "start_time": "2021-06-27T22:04:52.710Z"
   },
   {
    "duration": 57,
    "start_time": "2021-06-27T22:04:52.757Z"
   },
   {
    "duration": 35,
    "start_time": "2021-06-27T22:04:52.817Z"
   },
   {
    "duration": 6809,
    "start_time": "2021-06-27T22:07:22.224Z"
   },
   {
    "duration": 8384,
    "start_time": "2021-06-27T22:07:34.834Z"
   },
   {
    "duration": 857,
    "start_time": "2021-06-27T22:07:43.221Z"
   },
   {
    "duration": 4,
    "start_time": "2021-06-27T22:07:44.081Z"
   },
   {
    "duration": 496,
    "start_time": "2021-06-27T22:07:44.088Z"
   },
   {
    "duration": 69,
    "start_time": "2021-06-27T22:07:44.587Z"
   },
   {
    "duration": 9,
    "start_time": "2021-06-27T22:07:44.659Z"
   },
   {
    "duration": 135,
    "start_time": "2021-06-27T22:07:44.671Z"
   },
   {
    "duration": 30,
    "start_time": "2021-06-27T22:07:44.810Z"
   },
   {
    "duration": 9,
    "start_time": "2021-06-27T22:07:44.843Z"
   },
   {
    "duration": 18,
    "start_time": "2021-06-27T22:07:44.854Z"
   },
   {
    "duration": 10,
    "start_time": "2021-06-27T22:07:44.900Z"
   },
   {
    "duration": 13,
    "start_time": "2021-06-27T22:07:44.912Z"
   },
   {
    "duration": 16,
    "start_time": "2021-06-27T22:07:44.928Z"
   },
   {
    "duration": 54,
    "start_time": "2021-06-27T22:07:44.947Z"
   },
   {
    "duration": 276,
    "start_time": "2021-06-27T22:07:45.004Z"
   },
   {
    "duration": 20,
    "start_time": "2021-06-27T22:07:45.282Z"
   },
   {
    "duration": 12,
    "start_time": "2021-06-27T22:07:45.304Z"
   },
   {
    "duration": 14,
    "start_time": "2021-06-27T22:07:45.319Z"
   },
   {
    "duration": 14,
    "start_time": "2021-06-27T22:07:45.335Z"
   },
   {
    "duration": 50,
    "start_time": "2021-06-27T22:07:45.352Z"
   },
   {
    "duration": 7,
    "start_time": "2021-06-27T22:07:45.404Z"
   },
   {
    "duration": 11,
    "start_time": "2021-06-27T22:07:45.414Z"
   },
   {
    "duration": 25,
    "start_time": "2021-06-27T22:07:45.431Z"
   },
   {
    "duration": 53,
    "start_time": "2021-06-27T22:07:45.460Z"
   },
   {
    "duration": 17,
    "start_time": "2021-06-27T22:07:45.516Z"
   },
   {
    "duration": 35,
    "start_time": "2021-06-27T22:07:45.536Z"
   },
   {
    "duration": 36,
    "start_time": "2021-06-27T22:07:45.574Z"
   },
   {
    "duration": 119,
    "start_time": "2021-06-27T22:07:45.612Z"
   },
   {
    "duration": 216,
    "start_time": "2021-06-27T22:07:45.733Z"
   },
   {
    "duration": 163,
    "start_time": "2021-06-27T22:07:45.952Z"
   },
   {
    "duration": 215,
    "start_time": "2021-06-27T22:07:46.118Z"
   },
   {
    "duration": 13,
    "start_time": "2021-06-27T22:07:46.335Z"
   },
   {
    "duration": 36,
    "start_time": "2021-06-27T22:07:46.351Z"
   },
   {
    "duration": 42,
    "start_time": "2021-06-27T22:07:46.401Z"
   },
   {
    "duration": 8,
    "start_time": "2021-06-27T22:07:46.446Z"
   },
   {
    "duration": 1950,
    "start_time": "2021-06-27T22:07:46.456Z"
   },
   {
    "duration": 18,
    "start_time": "2021-06-27T22:07:48.408Z"
   },
   {
    "duration": 19,
    "start_time": "2021-06-27T22:07:48.428Z"
   },
   {
    "duration": 17,
    "start_time": "2021-06-27T22:07:48.449Z"
   },
   {
    "duration": 102,
    "start_time": "2021-06-27T22:07:48.468Z"
   },
   {
    "duration": 43,
    "start_time": "2021-06-27T22:07:48.572Z"
   },
   {
    "duration": 12,
    "start_time": "2021-06-27T22:07:48.618Z"
   },
   {
    "duration": 12,
    "start_time": "2021-06-27T22:07:48.633Z"
   },
   {
    "duration": 5,
    "start_time": "2021-06-27T22:07:48.648Z"
   },
   {
    "duration": 703,
    "start_time": "2021-06-27T22:07:48.655Z"
   },
   {
    "duration": 65,
    "start_time": "2021-06-27T22:07:49.361Z"
   },
   {
    "duration": 43,
    "start_time": "2021-06-27T22:07:49.428Z"
   },
   {
    "duration": 68,
    "start_time": "2021-06-27T22:07:49.473Z"
   },
   {
    "duration": 19,
    "start_time": "2021-06-27T22:07:49.544Z"
   },
   {
    "duration": 40,
    "start_time": "2021-06-27T22:07:49.566Z"
   },
   {
    "duration": 51,
    "start_time": "2021-06-27T22:07:49.608Z"
   },
   {
    "duration": 8,
    "start_time": "2021-06-27T22:07:49.662Z"
   },
   {
    "duration": 46,
    "start_time": "2021-06-27T22:07:49.673Z"
   },
   {
    "duration": 1444,
    "start_time": "2021-06-27T22:07:49.722Z"
   },
   {
    "duration": 34,
    "start_time": "2021-06-27T22:07:51.169Z"
   },
   {
    "duration": 1294,
    "start_time": "2021-06-27T22:07:51.206Z"
   },
   {
    "duration": 13,
    "start_time": "2021-06-27T22:07:52.503Z"
   },
   {
    "duration": 25,
    "start_time": "2021-06-27T22:07:52.519Z"
   },
   {
    "duration": 97,
    "start_time": "2021-06-27T22:07:52.547Z"
   },
   {
    "duration": 543,
    "start_time": "2021-06-27T22:07:52.647Z"
   },
   {
    "duration": 48,
    "start_time": "2021-06-27T22:07:53.192Z"
   },
   {
    "duration": 58,
    "start_time": "2021-06-27T22:07:53.243Z"
   },
   {
    "duration": 4,
    "start_time": "2021-06-27T22:07:53.303Z"
   },
   {
    "duration": 15,
    "start_time": "2021-06-27T22:07:53.309Z"
   },
   {
    "duration": 17,
    "start_time": "2021-06-27T22:07:53.327Z"
   },
   {
    "duration": 56,
    "start_time": "2021-06-27T22:07:53.346Z"
   },
   {
    "duration": 15,
    "start_time": "2021-06-27T22:07:53.405Z"
   },
   {
    "duration": 8,
    "start_time": "2021-06-27T22:07:53.428Z"
   },
   {
    "duration": 96,
    "start_time": "2021-06-27T22:07:53.439Z"
   },
   {
    "duration": 64,
    "start_time": "2021-06-27T22:07:53.537Z"
   },
   {
    "duration": 34,
    "start_time": "2021-06-27T22:07:53.604Z"
   },
   {
    "duration": 481,
    "start_time": "2021-06-27T22:08:45.458Z"
   },
   {
    "duration": 7166,
    "start_time": "2021-06-27T22:08:54.663Z"
   },
   {
    "duration": 918,
    "start_time": "2021-06-27T22:09:01.832Z"
   },
   {
    "duration": 5,
    "start_time": "2021-06-27T22:09:02.753Z"
   },
   {
    "duration": 527,
    "start_time": "2021-06-27T22:09:02.761Z"
   },
   {
    "duration": 68,
    "start_time": "2021-06-27T22:09:03.300Z"
   },
   {
    "duration": 30,
    "start_time": "2021-06-27T22:09:03.370Z"
   },
   {
    "duration": 127,
    "start_time": "2021-06-27T22:09:03.403Z"
   },
   {
    "duration": 34,
    "start_time": "2021-06-27T22:09:03.535Z"
   },
   {
    "duration": 31,
    "start_time": "2021-06-27T22:09:03.573Z"
   },
   {
    "duration": 15,
    "start_time": "2021-06-27T22:09:03.607Z"
   },
   {
    "duration": 13,
    "start_time": "2021-06-27T22:09:03.624Z"
   },
   {
    "duration": 11,
    "start_time": "2021-06-27T22:09:03.640Z"
   },
   {
    "duration": 48,
    "start_time": "2021-06-27T22:09:03.654Z"
   },
   {
    "duration": 29,
    "start_time": "2021-06-27T22:09:03.705Z"
   },
   {
    "duration": 318,
    "start_time": "2021-06-27T22:09:03.736Z"
   },
   {
    "duration": 12,
    "start_time": "2021-06-27T22:09:04.057Z"
   },
   {
    "duration": 38,
    "start_time": "2021-06-27T22:09:04.072Z"
   },
   {
    "duration": 17,
    "start_time": "2021-06-27T22:09:04.113Z"
   },
   {
    "duration": 16,
    "start_time": "2021-06-27T22:09:04.133Z"
   },
   {
    "duration": 52,
    "start_time": "2021-06-27T22:09:04.152Z"
   },
   {
    "duration": 9,
    "start_time": "2021-06-27T22:09:04.207Z"
   },
   {
    "duration": 8,
    "start_time": "2021-06-27T22:09:04.218Z"
   },
   {
    "duration": 17,
    "start_time": "2021-06-27T22:09:04.232Z"
   },
   {
    "duration": 69,
    "start_time": "2021-06-27T22:09:04.253Z"
   },
   {
    "duration": 19,
    "start_time": "2021-06-27T22:09:04.324Z"
   },
   {
    "duration": 56,
    "start_time": "2021-06-27T22:09:04.345Z"
   },
   {
    "duration": 16,
    "start_time": "2021-06-27T22:09:04.403Z"
   },
   {
    "duration": 121,
    "start_time": "2021-06-27T22:09:04.422Z"
   },
   {
    "duration": 236,
    "start_time": "2021-06-27T22:09:04.545Z"
   },
   {
    "duration": 166,
    "start_time": "2021-06-27T22:09:04.784Z"
   },
   {
    "duration": 216,
    "start_time": "2021-06-27T22:09:04.952Z"
   },
   {
    "duration": 12,
    "start_time": "2021-06-27T22:09:05.171Z"
   },
   {
    "duration": 18,
    "start_time": "2021-06-27T22:09:05.201Z"
   },
   {
    "duration": 48,
    "start_time": "2021-06-27T22:09:05.221Z"
   },
   {
    "duration": 35,
    "start_time": "2021-06-27T22:09:05.271Z"
   },
   {
    "duration": 1887,
    "start_time": "2021-06-27T22:09:05.308Z"
   },
   {
    "duration": 19,
    "start_time": "2021-06-27T22:09:07.200Z"
   },
   {
    "duration": 20,
    "start_time": "2021-06-27T22:09:07.222Z"
   },
   {
    "duration": 17,
    "start_time": "2021-06-27T22:09:07.245Z"
   },
   {
    "duration": 123,
    "start_time": "2021-06-27T22:09:07.265Z"
   },
   {
    "duration": 39,
    "start_time": "2021-06-27T22:09:07.390Z"
   },
   {
    "duration": 16,
    "start_time": "2021-06-27T22:09:07.431Z"
   },
   {
    "duration": 22,
    "start_time": "2021-06-27T22:09:07.450Z"
   },
   {
    "duration": 26,
    "start_time": "2021-06-27T22:09:07.475Z"
   },
   {
    "duration": 781,
    "start_time": "2021-06-27T22:09:07.503Z"
   },
   {
    "duration": 61,
    "start_time": "2021-06-27T22:09:08.286Z"
   },
   {
    "duration": 70,
    "start_time": "2021-06-27T22:09:08.350Z"
   },
   {
    "duration": 50,
    "start_time": "2021-06-27T22:09:08.423Z"
   },
   {
    "duration": 37,
    "start_time": "2021-06-27T22:09:08.476Z"
   },
   {
    "duration": 17,
    "start_time": "2021-06-27T22:09:08.516Z"
   },
   {
    "duration": 91,
    "start_time": "2021-06-27T22:09:08.536Z"
   },
   {
    "duration": 9,
    "start_time": "2021-06-27T22:09:08.629Z"
   },
   {
    "duration": 27,
    "start_time": "2021-06-27T22:09:08.642Z"
   },
   {
    "duration": 1551,
    "start_time": "2021-06-27T22:09:08.672Z"
   },
   {
    "duration": 19,
    "start_time": "2021-06-27T22:09:10.225Z"
   },
   {
    "duration": 1236,
    "start_time": "2021-06-27T22:09:10.247Z"
   },
   {
    "duration": 17,
    "start_time": "2021-06-27T22:09:11.486Z"
   },
   {
    "duration": 27,
    "start_time": "2021-06-27T22:09:11.506Z"
   },
   {
    "duration": 69,
    "start_time": "2021-06-27T22:09:18.769Z"
   },
   {
    "duration": 92,
    "start_time": "2021-06-27T22:09:21.285Z"
   },
   {
    "duration": 72,
    "start_time": "2021-06-27T22:09:43.500Z"
   },
   {
    "duration": 80,
    "start_time": "2021-06-27T22:09:44.992Z"
   },
   {
    "duration": 360,
    "start_time": "2021-06-27T22:09:59.216Z"
   },
   {
    "duration": 71,
    "start_time": "2021-06-27T22:10:07.906Z"
   },
   {
    "duration": 85,
    "start_time": "2021-06-27T22:10:11.264Z"
   },
   {
    "duration": 75,
    "start_time": "2021-06-27T22:10:16.281Z"
   },
   {
    "duration": 80,
    "start_time": "2021-06-27T22:10:26.788Z"
   },
   {
    "duration": 84,
    "start_time": "2021-06-27T22:10:32.446Z"
   },
   {
    "duration": 67,
    "start_time": "2021-06-27T22:14:22.907Z"
   },
   {
    "duration": 80,
    "start_time": "2021-06-27T22:14:24.896Z"
   },
   {
    "duration": 6912,
    "start_time": "2021-06-27T22:14:49.100Z"
   },
   {
    "duration": 915,
    "start_time": "2021-06-27T22:14:56.016Z"
   },
   {
    "duration": 6,
    "start_time": "2021-06-27T22:14:56.935Z"
   },
   {
    "duration": 524,
    "start_time": "2021-06-27T22:14:56.944Z"
   },
   {
    "duration": 69,
    "start_time": "2021-06-27T22:14:57.471Z"
   },
   {
    "duration": 10,
    "start_time": "2021-06-27T22:14:57.543Z"
   },
   {
    "duration": 127,
    "start_time": "2021-06-27T22:14:57.555Z"
   },
   {
    "duration": 33,
    "start_time": "2021-06-27T22:14:57.701Z"
   },
   {
    "duration": 9,
    "start_time": "2021-06-27T22:14:57.737Z"
   },
   {
    "duration": 14,
    "start_time": "2021-06-27T22:14:57.749Z"
   },
   {
    "duration": 39,
    "start_time": "2021-06-27T22:14:57.765Z"
   },
   {
    "duration": 11,
    "start_time": "2021-06-27T22:14:57.807Z"
   },
   {
    "duration": 17,
    "start_time": "2021-06-27T22:14:57.820Z"
   },
   {
    "duration": 28,
    "start_time": "2021-06-27T22:14:57.839Z"
   },
   {
    "duration": 290,
    "start_time": "2021-06-27T22:14:57.901Z"
   },
   {
    "duration": 9,
    "start_time": "2021-06-27T22:14:58.201Z"
   },
   {
    "duration": 13,
    "start_time": "2021-06-27T22:14:58.213Z"
   },
   {
    "duration": 15,
    "start_time": "2021-06-27T22:14:58.229Z"
   },
   {
    "duration": 15,
    "start_time": "2021-06-27T22:14:58.246Z"
   },
   {
    "duration": 14,
    "start_time": "2021-06-27T22:14:58.300Z"
   },
   {
    "duration": 10,
    "start_time": "2021-06-27T22:14:58.316Z"
   },
   {
    "duration": 8,
    "start_time": "2021-06-27T22:14:58.329Z"
   },
   {
    "duration": 14,
    "start_time": "2021-06-27T22:14:58.342Z"
   },
   {
    "duration": 72,
    "start_time": "2021-06-27T22:14:58.359Z"
   },
   {
    "duration": 18,
    "start_time": "2021-06-27T22:14:58.434Z"
   },
   {
    "duration": 65,
    "start_time": "2021-06-27T22:14:58.455Z"
   },
   {
    "duration": 18,
    "start_time": "2021-06-27T22:14:58.523Z"
   },
   {
    "duration": 137,
    "start_time": "2021-06-27T22:14:58.543Z"
   },
   {
    "duration": 224,
    "start_time": "2021-06-27T22:14:58.683Z"
   },
   {
    "duration": 159,
    "start_time": "2021-06-27T22:14:58.910Z"
   },
   {
    "duration": 211,
    "start_time": "2021-06-27T22:14:59.071Z"
   },
   {
    "duration": 26,
    "start_time": "2021-06-27T22:14:59.284Z"
   },
   {
    "duration": 19,
    "start_time": "2021-06-27T22:14:59.312Z"
   },
   {
    "duration": 72,
    "start_time": "2021-06-27T22:14:59.333Z"
   },
   {
    "duration": 9,
    "start_time": "2021-06-27T22:14:59.407Z"
   },
   {
    "duration": 1970,
    "start_time": "2021-06-27T22:14:59.418Z"
   },
   {
    "duration": 26,
    "start_time": "2021-06-27T22:15:01.391Z"
   },
   {
    "duration": 27,
    "start_time": "2021-06-27T22:15:01.419Z"
   },
   {
    "duration": 17,
    "start_time": "2021-06-27T22:15:01.449Z"
   },
   {
    "duration": 114,
    "start_time": "2021-06-27T22:15:01.469Z"
   },
   {
    "duration": 37,
    "start_time": "2021-06-27T22:15:01.586Z"
   },
   {
    "duration": 20,
    "start_time": "2021-06-27T22:15:01.625Z"
   },
   {
    "duration": 30,
    "start_time": "2021-06-27T22:15:01.648Z"
   },
   {
    "duration": 19,
    "start_time": "2021-06-27T22:15:01.680Z"
   },
   {
    "duration": 865,
    "start_time": "2021-06-27T22:15:01.702Z"
   },
   {
    "duration": 72,
    "start_time": "2021-06-27T22:15:02.570Z"
   },
   {
    "duration": 60,
    "start_time": "2021-06-27T22:15:02.645Z"
   },
   {
    "duration": 51,
    "start_time": "2021-06-27T22:15:02.708Z"
   },
   {
    "duration": 41,
    "start_time": "2021-06-27T22:15:02.762Z"
   },
   {
    "duration": 31,
    "start_time": "2021-06-27T22:15:02.806Z"
   },
   {
    "duration": 53,
    "start_time": "2021-06-27T22:15:02.839Z"
   },
   {
    "duration": 8,
    "start_time": "2021-06-27T22:15:02.901Z"
   },
   {
    "duration": 42,
    "start_time": "2021-06-27T22:15:02.912Z"
   },
   {
    "duration": 1551,
    "start_time": "2021-06-27T22:15:02.957Z"
   },
   {
    "duration": 714,
    "start_time": "2021-06-27T22:18:41.339Z"
   },
   {
    "duration": 664,
    "start_time": "2021-06-27T22:18:52.453Z"
   },
   {
    "duration": 87,
    "start_time": "2021-06-27T22:19:12.160Z"
   },
   {
    "duration": 82,
    "start_time": "2021-06-27T22:19:35.752Z"
   },
   {
    "duration": 102,
    "start_time": "2021-06-27T22:19:47.128Z"
   },
   {
    "duration": 100,
    "start_time": "2021-06-27T22:20:04.232Z"
   },
   {
    "duration": 836,
    "start_time": "2021-06-27T22:20:13.609Z"
   },
   {
    "duration": 77,
    "start_time": "2021-06-27T22:24:58.125Z"
   },
   {
    "duration": 84,
    "start_time": "2021-06-27T22:24:59.875Z"
   },
   {
    "duration": 4,
    "start_time": "2021-06-27T22:27:09.421Z"
   },
   {
    "duration": 314,
    "start_time": "2021-06-27T22:27:40.170Z"
   },
   {
    "duration": 302,
    "start_time": "2021-06-27T22:27:52.329Z"
   },
   {
    "duration": 81,
    "start_time": "2021-06-27T22:31:03.829Z"
   },
   {
    "duration": 80,
    "start_time": "2021-06-27T22:31:14.013Z"
   },
   {
    "duration": 379,
    "start_time": "2021-06-27T22:31:28.195Z"
   },
   {
    "duration": 481,
    "start_time": "2021-06-27T22:31:52.244Z"
   },
   {
    "duration": 296,
    "start_time": "2021-06-27T22:32:29.562Z"
   },
   {
    "duration": 11,
    "start_time": "2021-06-27T22:33:11.938Z"
   },
   {
    "duration": 78,
    "start_time": "2021-06-27T22:33:24.551Z"
   },
   {
    "duration": 11,
    "start_time": "2021-06-27T22:33:28.476Z"
   },
   {
    "duration": 410,
    "start_time": "2021-06-27T22:33:39.701Z"
   },
   {
    "duration": 478,
    "start_time": "2021-06-27T22:35:05.749Z"
   },
   {
    "duration": 463,
    "start_time": "2021-06-27T22:35:52.176Z"
   },
   {
    "duration": 658,
    "start_time": "2021-06-27T22:36:11.084Z"
   },
   {
    "duration": 876,
    "start_time": "2021-06-27T22:37:21.443Z"
   },
   {
    "duration": 924,
    "start_time": "2021-06-27T22:37:34.351Z"
   },
   {
    "duration": 896,
    "start_time": "2021-06-27T22:39:49.781Z"
   },
   {
    "duration": 919,
    "start_time": "2021-06-27T22:40:41.198Z"
   },
   {
    "duration": 1013,
    "start_time": "2021-06-27T22:40:52.387Z"
   },
   {
    "duration": 959,
    "start_time": "2021-06-27T22:40:58.922Z"
   },
   {
    "duration": 281,
    "start_time": "2021-06-27T22:41:57.404Z"
   },
   {
    "duration": 280,
    "start_time": "2021-06-27T22:42:53.013Z"
   },
   {
    "duration": 271,
    "start_time": "2021-06-27T22:43:14.557Z"
   },
   {
    "duration": 283,
    "start_time": "2021-06-27T22:43:19.054Z"
   },
   {
    "duration": 900,
    "start_time": "2021-06-27T22:43:25.550Z"
   },
   {
    "duration": 662,
    "start_time": "2021-06-27T22:49:48.864Z"
   },
   {
    "duration": 660,
    "start_time": "2021-06-27T22:50:04.936Z"
   },
   {
    "duration": 785,
    "start_time": "2021-06-27T22:50:12.677Z"
   },
   {
    "duration": 639,
    "start_time": "2021-06-27T22:50:22.552Z"
   },
   {
    "duration": 644,
    "start_time": "2021-06-27T22:50:30.439Z"
   },
   {
    "duration": 667,
    "start_time": "2021-06-27T23:02:38.271Z"
   },
   {
    "duration": 654,
    "start_time": "2021-06-27T23:02:48.962Z"
   },
   {
    "duration": 689,
    "start_time": "2021-06-27T23:02:55.185Z"
   },
   {
    "duration": 701,
    "start_time": "2021-06-27T23:03:04.283Z"
   },
   {
    "duration": 633,
    "start_time": "2021-06-27T23:03:12.680Z"
   },
   {
    "duration": 650,
    "start_time": "2021-06-27T23:03:17.081Z"
   },
   {
    "duration": 639,
    "start_time": "2021-06-27T23:03:23.457Z"
   },
   {
    "duration": 656,
    "start_time": "2021-06-27T23:03:32.985Z"
   },
   {
    "duration": 645,
    "start_time": "2021-06-27T23:03:41.156Z"
   },
   {
    "duration": 786,
    "start_time": "2021-06-27T23:03:47.318Z"
   },
   {
    "duration": 660,
    "start_time": "2021-06-27T23:05:16.864Z"
   },
   {
    "duration": 647,
    "start_time": "2021-06-27T23:05:24.007Z"
   },
   {
    "duration": 662,
    "start_time": "2021-06-27T23:05:30.725Z"
   },
   {
    "duration": 665,
    "start_time": "2021-06-27T23:06:00.054Z"
   },
   {
    "duration": 679,
    "start_time": "2021-06-27T23:06:05.624Z"
   },
   {
    "duration": 971,
    "start_time": "2021-06-27T23:06:18.914Z"
   },
   {
    "duration": 652,
    "start_time": "2021-06-27T23:06:31.252Z"
   },
   {
    "duration": 655,
    "start_time": "2021-06-27T23:06:38.619Z"
   },
   {
    "duration": 644,
    "start_time": "2021-06-27T23:06:49.056Z"
   },
   {
    "duration": 683,
    "start_time": "2021-06-27T23:07:01.932Z"
   },
   {
    "duration": 278,
    "start_time": "2021-07-18T08:33:08.565Z"
   }
  ],
  "kernelspec": {
   "display_name": "Python 3",
   "language": "python",
   "name": "python3"
  },
  "language_info": {
   "codemirror_mode": {
    "name": "ipython",
    "version": 3
   },
   "file_extension": ".py",
   "mimetype": "text/x-python",
   "name": "python",
   "nbconvert_exporter": "python",
   "pygments_lexer": "ipython3",
   "version": "3.8.8"
  },
  "toc": {
   "base_numbering": 1,
   "nav_menu": {},
   "number_sections": false,
   "sideBar": true,
   "skip_h1_title": true,
   "title_cell": "Table of Contents",
   "title_sidebar": "Contents",
   "toc_cell": true,
   "toc_position": {
    "height": "calc(100% - 180px)",
    "left": "10px",
    "top": "150px",
    "width": "366.391px"
   },
   "toc_section_display": true,
   "toc_window_display": true
  }
 },
 "nbformat": 4,
 "nbformat_minor": 5
}
